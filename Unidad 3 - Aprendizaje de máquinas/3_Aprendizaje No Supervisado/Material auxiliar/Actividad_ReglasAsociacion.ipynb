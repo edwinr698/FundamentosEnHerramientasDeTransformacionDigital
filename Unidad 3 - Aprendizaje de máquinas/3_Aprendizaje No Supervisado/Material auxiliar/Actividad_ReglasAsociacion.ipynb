{
  "nbformat": 4,
  "nbformat_minor": 0,
  "metadata": {
    "kernelspec": {
      "display_name": "Python 3",
      "language": "python",
      "name": "python3"
    },
    "language_info": {
      "name": "python",
      "version": "3.6.6",
      "mimetype": "text/x-python",
      "codemirror_mode": {
        "name": "ipython",
        "version": 3
      },
      "pygments_lexer": "ipython3",
      "nbconvert_exporter": "python",
      "file_extension": ".py"
    },
    "colab": {
      "name": "Actividad_ReglasAsociacion.ipynb",
      "provenance": [],
      "collapsed_sections": [],
      "include_colab_link": true
    }
  },
  "cells": [
    {
      "cell_type": "markdown",
      "metadata": {
        "id": "view-in-github",
        "colab_type": "text"
      },
      "source": [
        "<a href=\"https://colab.research.google.com/github/jaguzman/FundamentosEnHerramientasDeTransformacionDigital/blob/master/Unidad%203%20-%20Aprendizaje%20de%20m%C3%A1quinas/3_Aprendizaje%20No%20Supervisado/Material%20auxiliar/Actividad_ReglasAsociacion.ipynb\" target=\"_parent\"><img src=\"https://colab.research.google.com/assets/colab-badge.svg\" alt=\"Open In Colab\"/></a>"
      ]
    },
    {
      "cell_type": "markdown",
      "metadata": {
        "id": "sNTMI46xsVgw",
        "colab_type": "text"
      },
      "source": [
        "**ACTIVIDAD DE REGLAS DE ASOCIACIÓN**\n",
        "\n",
        "Se tiene una base de datos de compras en un supermercado. \n",
        "1. Graficar los 5 artículos más vendidos.\n",
        "2. Imprimir los artículos más frecuentes.\n",
        "3. Realizar el análisis de reglas de asiciación de los productos"
      ]
    },
    {
      "cell_type": "code",
      "metadata": {
        "_uuid": "8f2839f25d086af736a60e9eeb907d3b93b6e0e5",
        "_cell_guid": "b1076dfc-b9ad-4769-8c92-a6c4dae69d19",
        "trusted": true,
        "id": "gC0dHfOa3wgd",
        "colab_type": "code",
        "colab": {
          "base_uri": "https://localhost:8080/",
          "height": 87
        },
        "outputId": "afacc4c7-b84d-47fd-9336-51f8c6c4493e"
      },
      "source": [
        "# Importar la librería\n",
        "import numpy as np \n",
        "import pandas as pd \n",
        "\n",
        "# Librerías para graficar\n",
        "import matplotlib.pyplot as plt\n",
        "import seaborn as sns\n",
        "\n",
        "!pip install apyori\n",
        "# Librerías de Aprendizaje de máquinas\n",
        "from apyori import apriori"
      ],
      "execution_count": null,
      "outputs": [
        {
          "output_type": "stream",
          "text": [
            "/usr/local/lib/python3.6/dist-packages/statsmodels/tools/_testing.py:19: FutureWarning: pandas.util.testing is deprecated. Use the functions in the public API at pandas.testing instead.\n",
            "  import pandas.util.testing as tm\n"
          ],
          "name": "stderr"
        },
        {
          "output_type": "stream",
          "text": [
            "Requirement already satisfied: apyori in /usr/local/lib/python3.6/dist-packages (1.1.2)\n"
          ],
          "name": "stdout"
        }
      ]
    },
    {
      "cell_type": "markdown",
      "metadata": {
        "id": "yzEo82bh1SzZ",
        "colab_type": "text"
      },
      "source": [
        "**IMPORTAR LA BASE DE DATOS**"
      ]
    },
    {
      "cell_type": "code",
      "metadata": {
        "id": "QihgjR341W8v",
        "colab_type": "code",
        "colab": {
          "base_uri": "https://localhost:8080/",
          "height": 212
        },
        "outputId": "22091741-fea6-49ab-a9ce-5e2aa8e4b1de"
      },
      "source": [
        "# Leer los datos desde el GitHub\n",
        "dataTable = pd.read_csv(\"https://raw.githubusercontent.com/jaguzman/dataSets/master/datasets/dataset_group_RandomShoppingCart.csv\",\n",
        "    sep = ',',         # separador de campos\n",
        "    thousands = None,  # separador de miles para números\n",
        "    decimal = '.')     # separador de los decimales para números\n",
        "\n",
        "# Imprimir el tamaño de la base de datos\n",
        "print(dataTable.shape)\n",
        "# Imprimir las primeras líneas\n",
        "dataTable.head()"
      ],
      "execution_count": null,
      "outputs": [
        {
          "output_type": "stream",
          "text": [
            "(22343, 3)\n"
          ],
          "name": "stdout"
        },
        {
          "output_type": "execute_result",
          "data": {
            "text/html": [
              "<div>\n",
              "<style scoped>\n",
              "    .dataframe tbody tr th:only-of-type {\n",
              "        vertical-align: middle;\n",
              "    }\n",
              "\n",
              "    .dataframe tbody tr th {\n",
              "        vertical-align: top;\n",
              "    }\n",
              "\n",
              "    .dataframe thead th {\n",
              "        text-align: right;\n",
              "    }\n",
              "</style>\n",
              "<table border=\"1\" class=\"dataframe\">\n",
              "  <thead>\n",
              "    <tr style=\"text-align: right;\">\n",
              "      <th></th>\n",
              "      <th>Date</th>\n",
              "      <th>Transaction</th>\n",
              "      <th>Item</th>\n",
              "    </tr>\n",
              "  </thead>\n",
              "  <tbody>\n",
              "    <tr>\n",
              "      <th>0</th>\n",
              "      <td>2000-01-01</td>\n",
              "      <td>1</td>\n",
              "      <td>yogurt</td>\n",
              "    </tr>\n",
              "    <tr>\n",
              "      <th>1</th>\n",
              "      <td>2000-01-01</td>\n",
              "      <td>1</td>\n",
              "      <td>pork</td>\n",
              "    </tr>\n",
              "    <tr>\n",
              "      <th>2</th>\n",
              "      <td>2000-01-01</td>\n",
              "      <td>1</td>\n",
              "      <td>sandwich bags</td>\n",
              "    </tr>\n",
              "    <tr>\n",
              "      <th>3</th>\n",
              "      <td>2000-01-01</td>\n",
              "      <td>1</td>\n",
              "      <td>lunch meat</td>\n",
              "    </tr>\n",
              "    <tr>\n",
              "      <th>4</th>\n",
              "      <td>2000-01-01</td>\n",
              "      <td>1</td>\n",
              "      <td>all- purpose</td>\n",
              "    </tr>\n",
              "  </tbody>\n",
              "</table>\n",
              "</div>"
            ],
            "text/plain": [
              "         Date  Transaction           Item\n",
              "0  2000-01-01            1         yogurt\n",
              "1  2000-01-01            1           pork\n",
              "2  2000-01-01            1  sandwich bags\n",
              "3  2000-01-01            1     lunch meat\n",
              "4  2000-01-01            1   all- purpose"
            ]
          },
          "metadata": {
            "tags": []
          },
          "execution_count": 2
        }
      ]
    },
    {
      "cell_type": "markdown",
      "metadata": {
        "id": "v6QeYaOp1f4N",
        "colab_type": "text"
      },
      "source": [
        "**DESCRIPCIÓN DE LA BASE DE DATOS**\n",
        "\n",
        "**[1] Date:** fecha de la compra (estampa de tiempo)\n",
        "\n",
        "**[2] Transaction:** número de indentificación de la compra. En cada fila se registra un artículo, pero este puede pertenecer a un grupo de artículos comprados. (numérico) \n",
        "\n",
        "**[4] Item:** artículo comprado (categórica)"
      ]
    },
    {
      "cell_type": "markdown",
      "metadata": {
        "id": "tKUbgVEt3Hns",
        "colab_type": "text"
      },
      "source": [
        "**Solución 1. Los 5 artículos más vendidos**"
      ]
    },
    {
      "cell_type": "code",
      "metadata": {
        "id": "-GCvxV-83N83",
        "colab_type": "code",
        "colab": {
          "base_uri": "https://localhost:8080/",
          "height": 357
        },
        "outputId": "cfa8d5cf-57ef-45bc-813f-76189717b15a"
      },
      "source": [
        "# Tamaño de la gráfica\n",
        "plt.figure(figsize=(__,__))\n",
        "# Top 10 de los artículos más vendidos\n",
        "dataTable['__'].value_counts().sort_values(ascending=False).head(5).plot(kind='bar')\n",
        "# Nombre del eje y\n",
        "plt.ylabel('Número de compras')\n",
        "# Nombre del eje x\n",
        "plt.xlabel('Artículos')\n",
        "# Título\n",
        "plt.title('Los más vendidos')"
      ],
      "execution_count": null,
      "outputs": [
        {
          "output_type": "execute_result",
          "data": {
            "text/plain": [
              "Text(0.5, 1.0, 'Los más vendidos')"
            ]
          },
          "metadata": {
            "tags": []
          },
          "execution_count": 3
        },
        {
          "output_type": "display_data",
          "data": {
            "image/png": "[encoded data removed]",
            "text/plain": [
              "<Figure size 720x288 with 1 Axes>"
            ]
          },
          "metadata": {
            "tags": [],
            "needs_background": "light"
          }
        }
      ]
    },
    {
      "cell_type": "markdown",
      "metadata": {
        "id": "Ag3nFELfUva2",
        "colab_type": "text"
      },
      "source": [
        "**Solución 2. Los artículos más frecuentes**"
      ]
    },
    {
      "cell_type": "markdown",
      "metadata": {
        "id": "oOjxcs-yVfAE",
        "colab_type": "text"
      },
      "source": [
        "Conjunto de datos que contiene listas de artículos que se compraron juntos."
      ]
    },
    {
      "cell_type": "code",
      "metadata": {
        "id": "OdYDCeb7VUIS",
        "colab_type": "code",
        "colab": {
          "base_uri": "https://localhost:8080/",
          "height": 70
        },
        "outputId": "48b50f21-57cb-491f-b2a7-4921bfa4f875"
      },
      "source": [
        "lst=[]\n",
        "for item in dataTable['__'].unique():\n",
        "    lst2=list(set(dataTable[dataTable['__']==item]['__']))\n",
        "    if len(lst2)>0:\n",
        "        lst.append(lst2)\n",
        "print(lst[0:3])\n",
        "print(len(lst))"
      ],
      "execution_count": null,
      "outputs": [
        {
          "output_type": "stream",
          "text": [
            "[['vegetables', 'beef', 'ice cream', 'sandwich bags', 'dinner rolls', 'lunch meat', 'yogurt', 'butter', 'pork', 'shampoo', 'soda', 'flour', 'soap', 'laundry detergent', 'all- purpose', 'aluminum foil', 'mixes'], ['vegetables', 'sandwich bags', 'dishwashing liquid/detergent', 'cheeses', 'yogurt', 'tortillas', 'toilet paper', 'waffles', 'shampoo', 'milk', 'cereals', 'hand soap', 'laundry detergent', 'mixes', 'aluminum foil', 'individual meals'], ['vegetables', 'ice cream', 'dinner rolls', 'lunch meat', 'cheeses', 'poultry', 'toilet paper', 'sandwich loaves', 'pork', 'milk', 'soda', 'shampoo', 'soap', 'cereals', 'bagels', 'hand soap', 'laundry detergent', 'ketchup', 'eggs', 'spaghetti sauce']]\n",
            "1139\n"
          ],
          "name": "stdout"
        }
      ]
    },
    {
      "cell_type": "code",
      "metadata": {
        "id": "kl36D8bsUvlF",
        "colab_type": "code",
        "colab": {
          "base_uri": "https://localhost:8080/",
          "height": 1000
        },
        "outputId": "2be8944f-5846-4b09-a232-138b4cafc341"
      },
      "source": [
        "# Los artículos más frecuentes\n",
        "rules = apriori(lst, min_support=0.25, min_confidence=0.25, min_lift=1, min_length=1)\n",
        "rules = list(__)\n",
        "rules"
      ],
      "execution_count": null,
      "outputs": [
        {
          "output_type": "execute_result",
          "data": {
            "text/plain": [
              "[RelationRecord(items=frozenset({'all- purpose'}), support=0.3748902546093064, ordered_statistics=[OrderedStatistic(items_base=frozenset(), items_add=frozenset({'all- purpose'}), confidence=0.3748902546093064, lift=1.0)]),\n",
              " RelationRecord(items=frozenset({'aluminum foil'}), support=0.3845478489903424, ordered_statistics=[OrderedStatistic(items_base=frozenset(), items_add=frozenset({'aluminum foil'}), confidence=0.3845478489903424, lift=1.0)]),\n",
              " RelationRecord(items=frozenset({'bagels'}), support=0.3854258121158911, ordered_statistics=[OrderedStatistic(items_base=frozenset(), items_add=frozenset({'bagels'}), confidence=0.3854258121158911, lift=1.0)]),\n",
              " RelationRecord(items=frozenset({'beef'}), support=0.3748902546093064, ordered_statistics=[OrderedStatistic(items_base=frozenset(), items_add=frozenset({'beef'}), confidence=0.3748902546093064, lift=1.0)]),\n",
              " RelationRecord(items=frozenset({'butter'}), support=0.3678665496049166, ordered_statistics=[OrderedStatistic(items_base=frozenset(), items_add=frozenset({'butter'}), confidence=0.3678665496049166, lift=1.0)]),\n",
              " RelationRecord(items=frozenset({'cereals'}), support=0.39596136962247586, ordered_statistics=[OrderedStatistic(items_base=frozenset(), items_add=frozenset({'cereals'}), confidence=0.39596136962247586, lift=1.0)]),\n",
              " RelationRecord(items=frozenset({'cheeses'}), support=0.3906935908691835, ordered_statistics=[OrderedStatistic(items_base=frozenset(), items_add=frozenset({'cheeses'}), confidence=0.3906935908691835, lift=1.0)]),\n",
              " RelationRecord(items=frozenset({'coffee/tea'}), support=0.37928007023705007, ordered_statistics=[OrderedStatistic(items_base=frozenset(), items_add=frozenset({'coffee/tea'}), confidence=0.37928007023705007, lift=1.0)]),\n",
              " RelationRecord(items=frozenset({'dinner rolls'}), support=0.38893766461808604, ordered_statistics=[OrderedStatistic(items_base=frozenset(), items_add=frozenset({'dinner rolls'}), confidence=0.38893766461808604, lift=1.0)]),\n",
              " RelationRecord(items=frozenset({'dishwashing liquid/detergent'}), support=0.3880597014925373, ordered_statistics=[OrderedStatistic(items_base=frozenset(), items_add=frozenset({'dishwashing liquid/detergent'}), confidence=0.3880597014925373, lift=1.0)]),\n",
              " RelationRecord(items=frozenset({'eggs'}), support=0.38981562774363476, ordered_statistics=[OrderedStatistic(items_base=frozenset(), items_add=frozenset({'eggs'}), confidence=0.38981562774363476, lift=1.0)]),\n",
              " RelationRecord(items=frozenset({'flour'}), support=0.35294117647058826, ordered_statistics=[OrderedStatistic(items_base=frozenset(), items_add=frozenset({'flour'}), confidence=0.35294117647058826, lift=1.0)]),\n",
              " RelationRecord(items=frozenset({'fruits'}), support=0.37050043898156276, ordered_statistics=[OrderedStatistic(items_base=frozenset(), items_add=frozenset({'fruits'}), confidence=0.37050043898156276, lift=1.0)]),\n",
              " RelationRecord(items=frozenset({'hand soap'}), support=0.34591747146619845, ordered_statistics=[OrderedStatistic(items_base=frozenset(), items_add=frozenset({'hand soap'}), confidence=0.34591747146619845, lift=1.0)]),\n",
              " RelationRecord(items=frozenset({'ice cream'}), support=0.398595258999122, ordered_statistics=[OrderedStatistic(items_base=frozenset(), items_add=frozenset({'ice cream'}), confidence=0.398595258999122, lift=1.0)]),\n",
              " RelationRecord(items=frozenset({'individual meals'}), support=0.37576821773485514, ordered_statistics=[OrderedStatistic(items_base=frozenset(), items_add=frozenset({'individual meals'}), confidence=0.37576821773485514, lift=1.0)]),\n",
              " RelationRecord(items=frozenset({'juice'}), support=0.37664618086040386, ordered_statistics=[OrderedStatistic(items_base=frozenset(), items_add=frozenset({'juice'}), confidence=0.37664618086040386, lift=1.0)]),\n",
              " RelationRecord(items=frozenset({'ketchup'}), support=0.3713784021071115, ordered_statistics=[OrderedStatistic(items_base=frozenset(), items_add=frozenset({'ketchup'}), confidence=0.3713784021071115, lift=1.0)]),\n",
              " RelationRecord(items=frozenset({'laundry detergent'}), support=0.3784021071115013, ordered_statistics=[OrderedStatistic(items_base=frozenset(), items_add=frozenset({'laundry detergent'}), confidence=0.3784021071115013, lift=1.0)]),\n",
              " RelationRecord(items=frozenset({'lunch meat'}), support=0.39508340649692714, ordered_statistics=[OrderedStatistic(items_base=frozenset(), items_add=frozenset({'lunch meat'}), confidence=0.39508340649692714, lift=1.0)]),\n",
              " RelationRecord(items=frozenset({'milk'}), support=0.3801580333625988, ordered_statistics=[OrderedStatistic(items_base=frozenset(), items_add=frozenset({'milk'}), confidence=0.3801580333625988, lift=1.0)]),\n",
              " RelationRecord(items=frozenset({'mixes'}), support=0.37576821773485514, ordered_statistics=[OrderedStatistic(items_base=frozenset(), items_add=frozenset({'mixes'}), confidence=0.37576821773485514, lift=1.0)]),\n",
              " RelationRecord(items=frozenset({'paper towels'}), support=0.36259877085162423, ordered_statistics=[OrderedStatistic(items_base=frozenset(), items_add=frozenset({'paper towels'}), confidence=0.36259877085162423, lift=1.0)]),\n",
              " RelationRecord(items=frozenset({'pasta'}), support=0.3713784021071115, ordered_statistics=[OrderedStatistic(items_base=frozenset(), items_add=frozenset({'pasta'}), confidence=0.3713784021071115, lift=1.0)]),\n",
              " RelationRecord(items=frozenset({'pork'}), support=0.3555750658472344, ordered_statistics=[OrderedStatistic(items_base=frozenset(), items_add=frozenset({'pork'}), confidence=0.3555750658472344, lift=1.0)]),\n",
              " RelationRecord(items=frozenset({'poultry'}), support=0.42142230026338895, ordered_statistics=[OrderedStatistic(items_base=frozenset(), items_add=frozenset({'poultry'}), confidence=0.42142230026338895, lift=1.0)]),\n",
              " RelationRecord(items=frozenset({'sandwich bags'}), support=0.3678665496049166, ordered_statistics=[OrderedStatistic(items_base=frozenset(), items_add=frozenset({'sandwich bags'}), confidence=0.3678665496049166, lift=1.0)]),\n",
              " RelationRecord(items=frozenset({'sandwich loaves'}), support=0.3494293239683933, ordered_statistics=[OrderedStatistic(items_base=frozenset(), items_add=frozenset({'sandwich loaves'}), confidence=0.3494293239683933, lift=1.0)]),\n",
              " RelationRecord(items=frozenset({'shampoo'}), support=0.3687445127304653, ordered_statistics=[OrderedStatistic(items_base=frozenset(), items_add=frozenset({'shampoo'}), confidence=0.3687445127304653, lift=1.0)]),\n",
              " RelationRecord(items=frozenset({'soap'}), support=0.37928007023705007, ordered_statistics=[OrderedStatistic(items_base=frozenset(), items_add=frozenset({'soap'}), confidence=0.37928007023705007, lift=1.0)]),\n",
              " RelationRecord(items=frozenset({'soda'}), support=0.3906935908691835, ordered_statistics=[OrderedStatistic(items_base=frozenset(), items_add=frozenset({'soda'}), confidence=0.3906935908691835, lift=1.0)]),\n",
              " RelationRecord(items=frozenset({'spaghetti sauce'}), support=0.373134328358209, ordered_statistics=[OrderedStatistic(items_base=frozenset(), items_add=frozenset({'spaghetti sauce'}), confidence=0.373134328358209, lift=1.0)]),\n",
              " RelationRecord(items=frozenset({'sugar'}), support=0.3608428446005268, ordered_statistics=[OrderedStatistic(items_base=frozenset(), items_add=frozenset({'sugar'}), confidence=0.3608428446005268, lift=1.0)]),\n",
              " RelationRecord(items=frozenset({'toilet paper'}), support=0.3784021071115013, ordered_statistics=[OrderedStatistic(items_base=frozenset(), items_add=frozenset({'toilet paper'}), confidence=0.3784021071115013, lift=1.0)]),\n",
              " RelationRecord(items=frozenset({'tortillas'}), support=0.36962247585601404, ordered_statistics=[OrderedStatistic(items_base=frozenset(), items_add=frozenset({'tortillas'}), confidence=0.36962247585601404, lift=1.0)]),\n",
              " RelationRecord(items=frozenset({'vegetables'}), support=0.7392449517120281, ordered_statistics=[OrderedStatistic(items_base=frozenset(), items_add=frozenset({'vegetables'}), confidence=0.7392449517120281, lift=1.0)]),\n",
              " RelationRecord(items=frozenset({'waffles'}), support=0.3942054433713784, ordered_statistics=[OrderedStatistic(items_base=frozenset(), items_add=frozenset({'waffles'}), confidence=0.3942054433713784, lift=1.0)]),\n",
              " RelationRecord(items=frozenset({'yogurt'}), support=0.3845478489903424, ordered_statistics=[OrderedStatistic(items_base=frozenset(), items_add=frozenset({'yogurt'}), confidence=0.3845478489903424, lift=1.0)]),\n",
              " RelationRecord(items=frozenset({'vegetables', 'all- purpose'}), support=0.2897278314310799, ordered_statistics=[OrderedStatistic(items_base=frozenset(), items_add=frozenset({'vegetables', 'all- purpose'}), confidence=0.2897278314310799, lift=1.0), OrderedStatistic(items_base=frozenset({'all- purpose'}), items_add=frozenset({'vegetables'}), confidence=0.7728337236533958, lift=1.0454365929230616), OrderedStatistic(items_base=frozenset({'vegetables'}), items_add=frozenset({'all- purpose'}), confidence=0.3919239904988123, lift=1.0454365929230613)]),\n",
              " RelationRecord(items=frozenset({'vegetables', 'aluminum foil'}), support=0.3107989464442493, ordered_statistics=[OrderedStatistic(items_base=frozenset(), items_add=frozenset({'vegetables', 'aluminum foil'}), confidence=0.3107989464442493, lift=1.0), OrderedStatistic(items_base=frozenset({'aluminum foil'}), items_add=frozenset({'vegetables'}), confidence=0.8082191780821918, lift=1.0933036150066704), OrderedStatistic(items_base=frozenset({'vegetables'}), items_add=frozenset({'aluminum foil'}), confidence=0.4204275534441805, lift=1.0933036150066704)]),\n",
              " RelationRecord(items=frozenset({'bagels', 'vegetables'}), support=0.30026338893766463, ordered_statistics=[OrderedStatistic(items_base=frozenset(), items_add=frozenset({'bagels', 'vegetables'}), confidence=0.30026338893766463, lift=1.0), OrderedStatistic(items_base=frozenset({'bagels'}), items_add=frozenset({'vegetables'}), confidence=0.7790432801822325, lift=1.053836456208507), OrderedStatistic(items_base=frozenset({'vegetables'}), items_add=frozenset({'bagels'}), confidence=0.40617577197149646, lift=1.0538364562085067)]),\n",
              " RelationRecord(items=frozenset({'beef', 'vegetables'}), support=0.2914837576821773, ordered_statistics=[OrderedStatistic(items_base=frozenset(), items_add=frozenset({'beef', 'vegetables'}), confidence=0.2914837576821773, lift=1.0), OrderedStatistic(items_base=frozenset({'beef'}), items_add=frozenset({'vegetables'}), confidence=0.7775175644028103, lift=1.0517725722741103), OrderedStatistic(items_base=frozenset({'vegetables'}), items_add=frozenset({'beef'}), confidence=0.39429928741092635, lift=1.0517725722741103)]),\n",
              " RelationRecord(items=frozenset({'butter', 'vegetables'}), support=0.2835820895522388, ordered_statistics=[OrderedStatistic(items_base=frozenset(), items_add=frozenset({'butter', 'vegetables'}), confidence=0.2835820895522388, lift=1.0), OrderedStatistic(items_base=frozenset({'butter'}), items_add=frozenset({'vegetables'}), confidence=0.7708830548926013, lift=1.0427978616658824), OrderedStatistic(items_base=frozenset({'vegetables'}), items_add=frozenset({'butter'}), confidence=0.3836104513064133, lift=1.0427978616658824)]),\n",
              " RelationRecord(items=frozenset({'cereals', 'vegetables'}), support=0.3107989464442493, ordered_statistics=[OrderedStatistic(items_base=frozenset(), items_add=frozenset({'cereals', 'vegetables'}), confidence=0.3107989464442493, lift=1.0), OrderedStatistic(items_base=frozenset({'cereals'}), items_add=frozenset({'vegetables'}), confidence=0.7849223946784922, lift=1.0617893201173427), OrderedStatistic(items_base=frozenset({'vegetables'}), items_add=frozenset({'cereals'}), confidence=0.4204275534441805, lift=1.0617893201173427)]),\n",
              " RelationRecord(items=frozenset({'vegetables', 'cheeses'}), support=0.3090430201931519, ordered_statistics=[OrderedStatistic(items_base=frozenset(), items_add=frozenset({'vegetables', 'cheeses'}), confidence=0.3090430201931519, lift=1.0), OrderedStatistic(items_base=frozenset({'cheeses'}), items_add=frozenset({'vegetables'}), confidence=0.7910112359550562, lift=1.0700258880674691), OrderedStatistic(items_base=frozenset({'vegetables'}), items_add=frozenset({'cheeses'}), confidence=0.4180522565320665, lift=1.0700258880674691)]),\n",
              " RelationRecord(items=frozenset({'vegetables', 'coffee/tea'}), support=0.2897278314310799, ordered_statistics=[OrderedStatistic(items_base=frozenset(), items_add=frozenset({'vegetables', 'coffee/tea'}), confidence=0.2897278314310799, lift=1.0), OrderedStatistic(items_base=frozenset({'coffee/tea'}), items_add=frozenset({'vegetables'}), confidence=0.7638888888888888, lift=1.0333366323568223), OrderedStatistic(items_base=frozenset({'vegetables'}), items_add=frozenset({'coffee/tea'}), confidence=0.3919239904988123, lift=1.0333366323568223)]),\n",
              " RelationRecord(items=frozenset({'vegetables', 'dinner rolls'}), support=0.30816505706760317, ordered_statistics=[OrderedStatistic(items_base=frozenset(), items_add=frozenset({'vegetables', 'dinner rolls'}), confidence=0.30816505706760317, lift=1.0), OrderedStatistic(items_base=frozenset({'dinner rolls'}), items_add=frozenset({'vegetables'}), confidence=0.7923250564334086, lift=1.0718031345340289), OrderedStatistic(items_base=frozenset({'vegetables'}), items_add=frozenset({'dinner rolls'}), confidence=0.4168646080760095, lift=1.0718031345340289)]),\n",
              " RelationRecord(items=frozenset({'vegetables', 'dishwashing liquid/detergent'}), support=0.3064091308165057, ordered_statistics=[OrderedStatistic(items_base=frozenset(), items_add=frozenset({'vegetables', 'dishwashing liquid/detergent'}), confidence=0.3064091308165057, lift=1.0), OrderedStatistic(items_base=frozenset({'dishwashing liquid/detergent'}), items_add=frozenset({'vegetables'}), confidence=0.7895927601809956, lift=1.0681070710761924), OrderedStatistic(items_base=frozenset({'vegetables'}), items_add=frozenset({'dishwashing liquid/detergent'}), confidence=0.41448931116389554, lift=1.0681070710761924)]),\n",
              " RelationRecord(items=frozenset({'vegetables', 'eggs'}), support=0.32660228270412645, ordered_statistics=[OrderedStatistic(items_base=frozenset(), items_add=frozenset({'vegetables', 'eggs'}), confidence=0.32660228270412645, lift=1.0), OrderedStatistic(items_base=frozenset({'eggs'}), items_add=frozenset({'vegetables'}), confidence=0.8378378378378379, lift=1.13336971175451), OrderedStatistic(items_base=frozenset({'vegetables'}), items_add=frozenset({'eggs'}), confidence=0.4418052256532067, lift=1.1333697117545098)]),\n",
              " RelationRecord(items=frozenset({'vegetables', 'flour'}), support=0.276558384547849, ordered_statistics=[OrderedStatistic(items_base=frozenset(), items_add=frozenset({'vegetables', 'flour'}), confidence=0.276558384547849, lift=1.0), OrderedStatistic(items_base=frozenset({'flour'}), items_add=frozenset({'vegetables'}), confidence=0.7835820895522387, lift=1.0599762470308787), OrderedStatistic(items_base=frozenset({'vegetables'}), items_add=frozenset({'flour'}), confidence=0.3741092636579572, lift=1.0599762470308787)]),\n",
              " RelationRecord(items=frozenset({'vegetables', 'fruits'}), support=0.2906057945566286, ordered_statistics=[OrderedStatistic(items_base=frozenset(), items_add=frozenset({'vegetables', 'fruits'}), confidence=0.2906057945566286, lift=1.0), OrderedStatistic(items_base=frozenset({'fruits'}), items_add=frozenset({'vegetables'}), confidence=0.7843601895734597, lift=1.0610288075108913), OrderedStatistic(items_base=frozenset({'vegetables'}), items_add=frozenset({'fruits'}), confidence=0.39311163895486934, lift=1.0610288075108913)]),\n",
              " RelationRecord(items=frozenset({'hand soap', 'vegetables'}), support=0.2704126426690079, ordered_statistics=[OrderedStatistic(items_base=frozenset(), items_add=frozenset({'hand soap', 'vegetables'}), confidence=0.2704126426690079, lift=1.0), OrderedStatistic(items_base=frozenset({'hand soap'}), items_add=frozenset({'vegetables'}), confidence=0.781725888324873, lift=1.057465304990535), OrderedStatistic(items_base=frozenset({'vegetables'}), items_add=frozenset({'hand soap'}), confidence=0.3657957244655582, lift=1.057465304990535)]),\n",
              " RelationRecord(items=frozenset({'vegetables', 'ice cream'}), support=0.3028972783143108, ordered_statistics=[OrderedStatistic(items_base=frozenset(), items_add=frozenset({'vegetables', 'ice cream'}), confidence=0.3028972783143108, lift=1.0), OrderedStatistic(items_base=frozenset({'ice cream'}), items_add=frozenset({'vegetables'}), confidence=0.7599118942731278, lift=1.02795682610106), OrderedStatistic(items_base=frozenset({'vegetables'}), items_add=frozenset({'ice cream'}), confidence=0.40973871733966744, lift=1.02795682610106)]),\n",
              " RelationRecord(items=frozenset({'vegetables', 'individual meals'}), support=0.2853380158033363, ordered_statistics=[OrderedStatistic(items_base=frozenset(), items_add=frozenset({'vegetables', 'individual meals'}), confidence=0.2853380158033363, lift=1.0), OrderedStatistic(items_base=frozenset({'individual meals'}), items_add=frozenset({'vegetables'}), confidence=0.7593457943925235, lift=1.0271910449086512), OrderedStatistic(items_base=frozenset({'vegetables'}), items_add=frozenset({'individual meals'}), confidence=0.3859857482185274, lift=1.0271910449086512)]),\n",
              " RelationRecord(items=frozenset({'vegetables', 'juice'}), support=0.29411764705882354, ordered_statistics=[OrderedStatistic(items_base=frozenset(), items_add=frozenset({'vegetables', 'juice'}), confidence=0.29411764705882354, lift=1.0), OrderedStatistic(items_base=frozenset({'juice'}), items_add=frozenset({'vegetables'}), confidence=0.780885780885781, lift=1.0563288651174638), OrderedStatistic(items_base=frozenset({'vegetables'}), items_add=frozenset({'juice'}), confidence=0.3978622327790974, lift=1.0563288651174636)]),\n",
              " RelationRecord(items=frozenset({'vegetables', 'ketchup'}), support=0.2914837576821773, ordered_statistics=[OrderedStatistic(items_base=frozenset(), items_add=frozenset({'vegetables', 'ketchup'}), confidence=0.2914837576821773, lift=1.0), OrderedStatistic(items_base=frozenset({'ketchup'}), items_add=frozenset({'vegetables'}), confidence=0.7848699763593381, lift=1.0617184122010523), OrderedStatistic(items_base=frozenset({'vegetables'}), items_add=frozenset({'ketchup'}), confidence=0.39429928741092635, lift=1.0617184122010523)]),\n",
              " RelationRecord(items=frozenset({'vegetables', 'laundry detergent'}), support=0.3090430201931519, ordered_statistics=[OrderedStatistic(items_base=frozenset(), items_add=frozenset({'vegetables', 'laundry detergent'}), confidence=0.3090430201931519, lift=1.0), OrderedStatistic(items_base=frozenset({'laundry detergent'}), items_add=frozenset({'vegetables'}), confidence=0.8167053364269142, lift=1.1047831094896143), OrderedStatistic(items_base=frozenset({'vegetables'}), items_add=frozenset({'laundry detergent'}), confidence=0.4180522565320665, lift=1.1047831094896143)]),\n",
              " RelationRecord(items=frozenset({'vegetables', 'lunch meat'}), support=0.31167690956979804, ordered_statistics=[OrderedStatistic(items_base=frozenset(), items_add=frozenset({'vegetables', 'lunch meat'}), confidence=0.31167690956979804, lift=1.0), OrderedStatistic(items_base=frozenset({'lunch meat'}), items_add=frozenset({'vegetables'}), confidence=0.7888888888888889, lift=1.0671549221430456), OrderedStatistic(items_base=frozenset({'vegetables'}), items_add=frozenset({'lunch meat'}), confidence=0.4216152019002375, lift=1.0671549221430456)]),\n",
              " RelationRecord(items=frozenset({'milk', 'vegetables'}), support=0.295873573309921, ordered_statistics=[OrderedStatistic(items_base=frozenset(), items_add=frozenset({'milk', 'vegetables'}), confidence=0.295873573309921, lift=1.0), OrderedStatistic(items_base=frozenset({'milk'}), items_add=frozenset({'vegetables'}), confidence=0.7782909930715934, lift=1.0528188136681056), OrderedStatistic(items_base=frozenset({'vegetables'}), items_add=frozenset({'milk'}), confidence=0.4002375296912114, lift=1.0528188136681056)]),\n",
              " RelationRecord(items=frozenset({'vegetables', 'mixes'}), support=0.295873573309921, ordered_statistics=[OrderedStatistic(items_base=frozenset(), items_add=frozenset({'vegetables', 'mixes'}), confidence=0.295873573309921, lift=1.0), OrderedStatistic(items_base=frozenset({'mixes'}), items_add=frozenset({'vegetables'}), confidence=0.7873831775700935, lift=1.0651180988745088), OrderedStatistic(items_base=frozenset({'vegetables'}), items_add=frozenset({'mixes'}), confidence=0.4002375296912114, lift=1.0651180988745088)]),\n",
              " RelationRecord(items=frozenset({'vegetables', 'paper towels'}), support=0.2897278314310799, ordered_statistics=[OrderedStatistic(items_base=frozenset(), items_add=frozenset({'vegetables', 'paper towels'}), confidence=0.2897278314310799, lift=1.0), OrderedStatistic(items_base=frozenset({'paper towels'}), items_add=frozenset({'vegetables'}), confidence=0.7990314769975787, lift=1.0808751214967247), OrderedStatistic(items_base=frozenset({'vegetables'}), items_add=frozenset({'paper towels'}), confidence=0.3919239904988123, lift=1.0808751214967245)]),\n",
              " RelationRecord(items=frozenset({'pasta', 'vegetables'}), support=0.286215978928885, ordered_statistics=[OrderedStatistic(items_base=frozenset(), items_add=frozenset({'pasta', 'vegetables'}), confidence=0.286215978928885, lift=1.0), OrderedStatistic(items_base=frozenset({'pasta'}), items_add=frozenset({'vegetables'}), confidence=0.7706855791962176, lift=1.0425307300528408), OrderedStatistic(items_base=frozenset({'vegetables'}), items_add=frozenset({'pasta'}), confidence=0.38717339667458434, lift=1.0425307300528406)]),\n",
              " RelationRecord(items=frozenset({'pork', 'vegetables'}), support=0.2704126426690079, ordered_statistics=[OrderedStatistic(items_base=frozenset(), items_add=frozenset({'pork', 'vegetables'}), confidence=0.2704126426690079, lift=1.0), OrderedStatistic(items_base=frozenset({'pork'}), items_add=frozenset({'vegetables'}), confidence=0.7604938271604937, lift=1.028744025101903), OrderedStatistic(items_base=frozenset({'vegetables'}), items_add=frozenset({'pork'}), confidence=0.3657957244655582, lift=1.028744025101903)]),\n",
              " RelationRecord(items=frozenset({'vegetables', 'poultry'}), support=0.33187006145741876, ordered_statistics=[OrderedStatistic(items_base=frozenset(), items_add=frozenset({'vegetables', 'poultry'}), confidence=0.33187006145741876, lift=1.0), OrderedStatistic(items_base=frozenset({'poultry'}), items_add=frozenset({'vegetables'}), confidence=0.7874999999999999, lift=1.065276128266033), OrderedStatistic(items_base=frozenset({'vegetables'}), items_add=frozenset({'poultry'}), confidence=0.4489311163895487, lift=1.0652761282660332)]),\n",
              " RelationRecord(items=frozenset({'vegetables', 'sandwich bags'}), support=0.2932396839332748, ordered_statistics=[OrderedStatistic(items_base=frozenset(), items_add=frozenset({'vegetables', 'sandwich bags'}), confidence=0.2932396839332748, lift=1.0), OrderedStatistic(items_base=frozenset({'sandwich bags'}), items_add=frozenset({'vegetables'}), confidence=0.7971360381861575, lift=1.0783111015368567), OrderedStatistic(items_base=frozenset({'vegetables'}), items_add=frozenset({'sandwich bags'}), confidence=0.3966745843230404, lift=1.078311101536857)]),\n",
              " RelationRecord(items=frozenset({'vegetables', 'sandwich loaves'}), support=0.28270412642669007, ordered_statistics=[OrderedStatistic(items_base=frozenset(), items_add=frozenset({'vegetables', 'sandwich loaves'}), confidence=0.28270412642669007, lift=1.0), OrderedStatistic(items_base=frozenset({'sandwich loaves'}), items_add=frozenset({'vegetables'}), confidence=0.8090452261306532, lift=1.0944210362978788), OrderedStatistic(items_base=frozenset({'vegetables'}), items_add=frozenset({'sandwich loaves'}), confidence=0.3824228028503563, lift=1.094421036297879)]),\n",
              " RelationRecord(items=frozenset({'shampoo', 'vegetables'}), support=0.28797190517998245, ordered_statistics=[OrderedStatistic(items_base=frozenset(), items_add=frozenset({'shampoo', 'vegetables'}), confidence=0.28797190517998245, lift=1.0), OrderedStatistic(items_base=frozenset({'shampoo'}), items_add=frozenset({'vegetables'}), confidence=0.780952380952381, lift=1.0564189571315463), OrderedStatistic(items_base=frozenset({'vegetables'}), items_add=frozenset({'shampoo'}), confidence=0.38954869358669836, lift=1.0564189571315463)]),\n",
              " RelationRecord(items=frozenset({'vegetables', 'soap'}), support=0.29499561018437226, ordered_statistics=[OrderedStatistic(items_base=frozenset(), items_add=frozenset({'vegetables', 'soap'}), confidence=0.29499561018437226, lift=1.0), OrderedStatistic(items_base=frozenset({'soap'}), items_add=frozenset({'vegetables'}), confidence=0.7777777777777777, lift=1.0521245711269462), OrderedStatistic(items_base=frozenset({'vegetables'}), items_add=frozenset({'soap'}), confidence=0.3990498812351544, lift=1.0521245711269462)]),\n",
              " RelationRecord(items=frozenset({'vegetables', 'soda'}), support=0.305531167690957, ordered_statistics=[OrderedStatistic(items_base=frozenset(), items_add=frozenset({'vegetables', 'soda'}), confidence=0.305531167690957, lift=1.0), OrderedStatistic(items_base=frozenset({'soda'}), items_add=frozenset({'vegetables'}), confidence=0.7820224719101124, lift=1.0578665029757934), OrderedStatistic(items_base=frozenset({'vegetables'}), items_add=frozenset({'soda'}), confidence=0.4133016627078385, lift=1.0578665029757934)]),\n",
              " RelationRecord(items=frozenset({'vegetables', 'spaghetti sauce'}), support=0.2967515364354697, ordered_statistics=[OrderedStatistic(items_base=frozenset(), items_add=frozenset({'vegetables', 'spaghetti sauce'}), confidence=0.2967515364354697, lift=1.0), OrderedStatistic(items_base=frozenset({'spaghetti sauce'}), items_add=frozenset({'vegetables'}), confidence=0.7952941176470587, lift=1.0758194774346792), OrderedStatistic(items_base=frozenset({'vegetables'}), items_add=frozenset({'spaghetti sauce'}), confidence=0.4014251781472684, lift=1.0758194774346792)]),\n",
              " RelationRecord(items=frozenset({'vegetables', 'sugar'}), support=0.2976294995610184, ordered_statistics=[OrderedStatistic(items_base=frozenset(), items_add=frozenset({'vegetables', 'sugar'}), confidence=0.2976294995610184, lift=1.0), OrderedStatistic(items_base=frozenset({'sugar'}), items_add=frozenset({'vegetables'}), confidence=0.8248175182481751, lift=1.1157567141148117), OrderedStatistic(items_base=frozenset({'vegetables'}), items_add=frozenset({'sugar'}), confidence=0.40261282660332537, lift=1.1157567141148117)]),\n",
              " RelationRecord(items=frozenset({'vegetables', 'toilet paper'}), support=0.2897278314310799, ordered_statistics=[OrderedStatistic(items_base=frozenset(), items_add=frozenset({'vegetables', 'toilet paper'}), confidence=0.2897278314310799, lift=1.0), OrderedStatistic(items_base=frozenset({'toilet paper'}), items_add=frozenset({'vegetables'}), confidence=0.765661252900232, lift=1.0357341651465133), OrderedStatistic(items_base=frozenset({'vegetables'}), items_add=frozenset({'toilet paper'}), confidence=0.3919239904988123, lift=1.0357341651465133)]),\n",
              " RelationRecord(items=frozenset({'vegetables', 'tortillas'}), support=0.2835820895522388, ordered_statistics=[OrderedStatistic(items_base=frozenset(), items_add=frozenset({'vegetables', 'tortillas'}), confidence=0.2835820895522388, lift=1.0), OrderedStatistic(items_base=frozenset({'tortillas'}), items_add=frozenset({'vegetables'}), confidence=0.7672209026128266, lift=1.0378439525843344), OrderedStatistic(items_base=frozenset({'vegetables'}), items_add=frozenset({'tortillas'}), confidence=0.3836104513064133, lift=1.0378439525843344)]),\n",
              " RelationRecord(items=frozenset({'vegetables', 'waffles'}), support=0.315188762071993, ordered_statistics=[OrderedStatistic(items_base=frozenset(), items_add=frozenset({'vegetables', 'waffles'}), confidence=0.315188762071993, lift=1.0), OrderedStatistic(items_base=frozenset({'vegetables'}), items_add=frozenset({'waffles'}), confidence=0.4263657957244656, lift=1.081582720111729), OrderedStatistic(items_base=frozenset({'waffles'}), items_add=frozenset({'vegetables'}), confidence=0.799554565701559, lift=1.081582720111729)]),\n",
              " RelationRecord(items=frozenset({'yogurt', 'vegetables'}), support=0.31957857769973663, ordered_statistics=[OrderedStatistic(items_base=frozenset(), items_add=frozenset({'yogurt', 'vegetables'}), confidence=0.31957857769973663, lift=1.0), OrderedStatistic(items_base=frozenset({'vegetables'}), items_add=frozenset({'yogurt'}), confidence=0.43230403800475065, lift=1.1241878979164635), OrderedStatistic(items_base=frozenset({'yogurt'}), items_add=frozenset({'vegetables'}), confidence=0.8310502283105023, lift=1.1241878979164635)])]"
            ]
          },
          "metadata": {
            "tags": []
          },
          "execution_count": 5
        }
      ]
    },
    {
      "cell_type": "markdown",
      "metadata": {
        "id": "nIOhCQQzV31v",
        "colab_type": "text"
      },
      "source": [
        "**Solución 3. Análisis de Reglas de Asiciación de los productos** "
      ]
    },
    {
      "cell_type": "code",
      "metadata": {
        "id": "YWheXv6TWC2c",
        "colab_type": "code",
        "colab": {
          "base_uri": "https://localhost:8080/",
          "height": 1000
        },
        "outputId": "bd8b4e79-f3c4-4c8b-f2b9-c90f3f3a258f"
      },
      "source": [
        "# los artículos con su antecedente y consecuente y sus respectivas métricas\n",
        "for item in __:\n",
        "    inner_rule = item[2]\n",
        "    items = [x for x in inner_rule]\n",
        "    print(items)"
      ],
      "execution_count": null,
      "outputs": [
        {
          "output_type": "stream",
          "text": [
            "[OrderedStatistic(items_base=frozenset(), items_add=frozenset({'all- purpose'}), confidence=0.3748902546093064, lift=1.0)]\n",
            "[OrderedStatistic(items_base=frozenset(), items_add=frozenset({'aluminum foil'}), confidence=0.3845478489903424, lift=1.0)]\n",
            "[OrderedStatistic(items_base=frozenset(), items_add=frozenset({'bagels'}), confidence=0.3854258121158911, lift=1.0)]\n",
            "[OrderedStatistic(items_base=frozenset(), items_add=frozenset({'beef'}), confidence=0.3748902546093064, lift=1.0)]\n",
            "[OrderedStatistic(items_base=frozenset(), items_add=frozenset({'butter'}), confidence=0.3678665496049166, lift=1.0)]\n",
            "[OrderedStatistic(items_base=frozenset(), items_add=frozenset({'cereals'}), confidence=0.39596136962247586, lift=1.0)]\n",
            "[OrderedStatistic(items_base=frozenset(), items_add=frozenset({'cheeses'}), confidence=0.3906935908691835, lift=1.0)]\n",
            "[OrderedStatistic(items_base=frozenset(), items_add=frozenset({'coffee/tea'}), confidence=0.37928007023705007, lift=1.0)]\n",
            "[OrderedStatistic(items_base=frozenset(), items_add=frozenset({'dinner rolls'}), confidence=0.38893766461808604, lift=1.0)]\n",
            "[OrderedStatistic(items_base=frozenset(), items_add=frozenset({'dishwashing liquid/detergent'}), confidence=0.3880597014925373, lift=1.0)]\n",
            "[OrderedStatistic(items_base=frozenset(), items_add=frozenset({'eggs'}), confidence=0.38981562774363476, lift=1.0)]\n",
            "[OrderedStatistic(items_base=frozenset(), items_add=frozenset({'flour'}), confidence=0.35294117647058826, lift=1.0)]\n",
            "[OrderedStatistic(items_base=frozenset(), items_add=frozenset({'fruits'}), confidence=0.37050043898156276, lift=1.0)]\n",
            "[OrderedStatistic(items_base=frozenset(), items_add=frozenset({'hand soap'}), confidence=0.34591747146619845, lift=1.0)]\n",
            "[OrderedStatistic(items_base=frozenset(), items_add=frozenset({'ice cream'}), confidence=0.398595258999122, lift=1.0)]\n",
            "[OrderedStatistic(items_base=frozenset(), items_add=frozenset({'individual meals'}), confidence=0.37576821773485514, lift=1.0)]\n",
            "[OrderedStatistic(items_base=frozenset(), items_add=frozenset({'juice'}), confidence=0.37664618086040386, lift=1.0)]\n",
            "[OrderedStatistic(items_base=frozenset(), items_add=frozenset({'ketchup'}), confidence=0.3713784021071115, lift=1.0)]\n",
            "[OrderedStatistic(items_base=frozenset(), items_add=frozenset({'laundry detergent'}), confidence=0.3784021071115013, lift=1.0)]\n",
            "[OrderedStatistic(items_base=frozenset(), items_add=frozenset({'lunch meat'}), confidence=0.39508340649692714, lift=1.0)]\n",
            "[OrderedStatistic(items_base=frozenset(), items_add=frozenset({'milk'}), confidence=0.3801580333625988, lift=1.0)]\n",
            "[OrderedStatistic(items_base=frozenset(), items_add=frozenset({'mixes'}), confidence=0.37576821773485514, lift=1.0)]\n",
            "[OrderedStatistic(items_base=frozenset(), items_add=frozenset({'paper towels'}), confidence=0.36259877085162423, lift=1.0)]\n",
            "[OrderedStatistic(items_base=frozenset(), items_add=frozenset({'pasta'}), confidence=0.3713784021071115, lift=1.0)]\n",
            "[OrderedStatistic(items_base=frozenset(), items_add=frozenset({'pork'}), confidence=0.3555750658472344, lift=1.0)]\n",
            "[OrderedStatistic(items_base=frozenset(), items_add=frozenset({'poultry'}), confidence=0.42142230026338895, lift=1.0)]\n",
            "[OrderedStatistic(items_base=frozenset(), items_add=frozenset({'sandwich bags'}), confidence=0.3678665496049166, lift=1.0)]\n",
            "[OrderedStatistic(items_base=frozenset(), items_add=frozenset({'sandwich loaves'}), confidence=0.3494293239683933, lift=1.0)]\n",
            "[OrderedStatistic(items_base=frozenset(), items_add=frozenset({'shampoo'}), confidence=0.3687445127304653, lift=1.0)]\n",
            "[OrderedStatistic(items_base=frozenset(), items_add=frozenset({'soap'}), confidence=0.37928007023705007, lift=1.0)]\n",
            "[OrderedStatistic(items_base=frozenset(), items_add=frozenset({'soda'}), confidence=0.3906935908691835, lift=1.0)]\n",
            "[OrderedStatistic(items_base=frozenset(), items_add=frozenset({'spaghetti sauce'}), confidence=0.373134328358209, lift=1.0)]\n",
            "[OrderedStatistic(items_base=frozenset(), items_add=frozenset({'sugar'}), confidence=0.3608428446005268, lift=1.0)]\n",
            "[OrderedStatistic(items_base=frozenset(), items_add=frozenset({'toilet paper'}), confidence=0.3784021071115013, lift=1.0)]\n",
            "[OrderedStatistic(items_base=frozenset(), items_add=frozenset({'tortillas'}), confidence=0.36962247585601404, lift=1.0)]\n",
            "[OrderedStatistic(items_base=frozenset(), items_add=frozenset({'vegetables'}), confidence=0.7392449517120281, lift=1.0)]\n",
            "[OrderedStatistic(items_base=frozenset(), items_add=frozenset({'waffles'}), confidence=0.3942054433713784, lift=1.0)]\n",
            "[OrderedStatistic(items_base=frozenset(), items_add=frozenset({'yogurt'}), confidence=0.3845478489903424, lift=1.0)]\n",
            "[OrderedStatistic(items_base=frozenset(), items_add=frozenset({'vegetables', 'all- purpose'}), confidence=0.2897278314310799, lift=1.0), OrderedStatistic(items_base=frozenset({'all- purpose'}), items_add=frozenset({'vegetables'}), confidence=0.7728337236533958, lift=1.0454365929230616), OrderedStatistic(items_base=frozenset({'vegetables'}), items_add=frozenset({'all- purpose'}), confidence=0.3919239904988123, lift=1.0454365929230613)]\n",
            "[OrderedStatistic(items_base=frozenset(), items_add=frozenset({'vegetables', 'aluminum foil'}), confidence=0.3107989464442493, lift=1.0), OrderedStatistic(items_base=frozenset({'aluminum foil'}), items_add=frozenset({'vegetables'}), confidence=0.8082191780821918, lift=1.0933036150066704), OrderedStatistic(items_base=frozenset({'vegetables'}), items_add=frozenset({'aluminum foil'}), confidence=0.4204275534441805, lift=1.0933036150066704)]\n",
            "[OrderedStatistic(items_base=frozenset(), items_add=frozenset({'bagels', 'vegetables'}), confidence=0.30026338893766463, lift=1.0), OrderedStatistic(items_base=frozenset({'bagels'}), items_add=frozenset({'vegetables'}), confidence=0.7790432801822325, lift=1.053836456208507), OrderedStatistic(items_base=frozenset({'vegetables'}), items_add=frozenset({'bagels'}), confidence=0.40617577197149646, lift=1.0538364562085067)]\n",
            "[OrderedStatistic(items_base=frozenset(), items_add=frozenset({'beef', 'vegetables'}), confidence=0.2914837576821773, lift=1.0), OrderedStatistic(items_base=frozenset({'beef'}), items_add=frozenset({'vegetables'}), confidence=0.7775175644028103, lift=1.0517725722741103), OrderedStatistic(items_base=frozenset({'vegetables'}), items_add=frozenset({'beef'}), confidence=0.39429928741092635, lift=1.0517725722741103)]\n",
            "[OrderedStatistic(items_base=frozenset(), items_add=frozenset({'butter', 'vegetables'}), confidence=0.2835820895522388, lift=1.0), OrderedStatistic(items_base=frozenset({'butter'}), items_add=frozenset({'vegetables'}), confidence=0.7708830548926013, lift=1.0427978616658824), OrderedStatistic(items_base=frozenset({'vegetables'}), items_add=frozenset({'butter'}), confidence=0.3836104513064133, lift=1.0427978616658824)]\n",
            "[OrderedStatistic(items_base=frozenset(), items_add=frozenset({'cereals', 'vegetables'}), confidence=0.3107989464442493, lift=1.0), OrderedStatistic(items_base=frozenset({'cereals'}), items_add=frozenset({'vegetables'}), confidence=0.7849223946784922, lift=1.0617893201173427), OrderedStatistic(items_base=frozenset({'vegetables'}), items_add=frozenset({'cereals'}), confidence=0.4204275534441805, lift=1.0617893201173427)]\n",
            "[OrderedStatistic(items_base=frozenset(), items_add=frozenset({'vegetables', 'cheeses'}), confidence=0.3090430201931519, lift=1.0), OrderedStatistic(items_base=frozenset({'cheeses'}), items_add=frozenset({'vegetables'}), confidence=0.7910112359550562, lift=1.0700258880674691), OrderedStatistic(items_base=frozenset({'vegetables'}), items_add=frozenset({'cheeses'}), confidence=0.4180522565320665, lift=1.0700258880674691)]\n",
            "[OrderedStatistic(items_base=frozenset(), items_add=frozenset({'vegetables', 'coffee/tea'}), confidence=0.2897278314310799, lift=1.0), OrderedStatistic(items_base=frozenset({'coffee/tea'}), items_add=frozenset({'vegetables'}), confidence=0.7638888888888888, lift=1.0333366323568223), OrderedStatistic(items_base=frozenset({'vegetables'}), items_add=frozenset({'coffee/tea'}), confidence=0.3919239904988123, lift=1.0333366323568223)]\n",
            "[OrderedStatistic(items_base=frozenset(), items_add=frozenset({'vegetables', 'dinner rolls'}), confidence=0.30816505706760317, lift=1.0), OrderedStatistic(items_base=frozenset({'dinner rolls'}), items_add=frozenset({'vegetables'}), confidence=0.7923250564334086, lift=1.0718031345340289), OrderedStatistic(items_base=frozenset({'vegetables'}), items_add=frozenset({'dinner rolls'}), confidence=0.4168646080760095, lift=1.0718031345340289)]\n",
            "[OrderedStatistic(items_base=frozenset(), items_add=frozenset({'vegetables', 'dishwashing liquid/detergent'}), confidence=0.3064091308165057, lift=1.0), OrderedStatistic(items_base=frozenset({'dishwashing liquid/detergent'}), items_add=frozenset({'vegetables'}), confidence=0.7895927601809956, lift=1.0681070710761924), OrderedStatistic(items_base=frozenset({'vegetables'}), items_add=frozenset({'dishwashing liquid/detergent'}), confidence=0.41448931116389554, lift=1.0681070710761924)]\n",
            "[OrderedStatistic(items_base=frozenset(), items_add=frozenset({'vegetables', 'eggs'}), confidence=0.32660228270412645, lift=1.0), OrderedStatistic(items_base=frozenset({'eggs'}), items_add=frozenset({'vegetables'}), confidence=0.8378378378378379, lift=1.13336971175451), OrderedStatistic(items_base=frozenset({'vegetables'}), items_add=frozenset({'eggs'}), confidence=0.4418052256532067, lift=1.1333697117545098)]\n",
            "[OrderedStatistic(items_base=frozenset(), items_add=frozenset({'vegetables', 'flour'}), confidence=0.276558384547849, lift=1.0), OrderedStatistic(items_base=frozenset({'flour'}), items_add=frozenset({'vegetables'}), confidence=0.7835820895522387, lift=1.0599762470308787), OrderedStatistic(items_base=frozenset({'vegetables'}), items_add=frozenset({'flour'}), confidence=0.3741092636579572, lift=1.0599762470308787)]\n",
            "[OrderedStatistic(items_base=frozenset(), items_add=frozenset({'vegetables', 'fruits'}), confidence=0.2906057945566286, lift=1.0), OrderedStatistic(items_base=frozenset({'fruits'}), items_add=frozenset({'vegetables'}), confidence=0.7843601895734597, lift=1.0610288075108913), OrderedStatistic(items_base=frozenset({'vegetables'}), items_add=frozenset({'fruits'}), confidence=0.39311163895486934, lift=1.0610288075108913)]\n",
            "[OrderedStatistic(items_base=frozenset(), items_add=frozenset({'hand soap', 'vegetables'}), confidence=0.2704126426690079, lift=1.0), OrderedStatistic(items_base=frozenset({'hand soap'}), items_add=frozenset({'vegetables'}), confidence=0.781725888324873, lift=1.057465304990535), OrderedStatistic(items_base=frozenset({'vegetables'}), items_add=frozenset({'hand soap'}), confidence=0.3657957244655582, lift=1.057465304990535)]\n",
            "[OrderedStatistic(items_base=frozenset(), items_add=frozenset({'vegetables', 'ice cream'}), confidence=0.3028972783143108, lift=1.0), OrderedStatistic(items_base=frozenset({'ice cream'}), items_add=frozenset({'vegetables'}), confidence=0.7599118942731278, lift=1.02795682610106), OrderedStatistic(items_base=frozenset({'vegetables'}), items_add=frozenset({'ice cream'}), confidence=0.40973871733966744, lift=1.02795682610106)]\n",
            "[OrderedStatistic(items_base=frozenset(), items_add=frozenset({'vegetables', 'individual meals'}), confidence=0.2853380158033363, lift=1.0), OrderedStatistic(items_base=frozenset({'individual meals'}), items_add=frozenset({'vegetables'}), confidence=0.7593457943925235, lift=1.0271910449086512), OrderedStatistic(items_base=frozenset({'vegetables'}), items_add=frozenset({'individual meals'}), confidence=0.3859857482185274, lift=1.0271910449086512)]\n",
            "[OrderedStatistic(items_base=frozenset(), items_add=frozenset({'vegetables', 'juice'}), confidence=0.29411764705882354, lift=1.0), OrderedStatistic(items_base=frozenset({'juice'}), items_add=frozenset({'vegetables'}), confidence=0.780885780885781, lift=1.0563288651174638), OrderedStatistic(items_base=frozenset({'vegetables'}), items_add=frozenset({'juice'}), confidence=0.3978622327790974, lift=1.0563288651174636)]\n",
            "[OrderedStatistic(items_base=frozenset(), items_add=frozenset({'vegetables', 'ketchup'}), confidence=0.2914837576821773, lift=1.0), OrderedStatistic(items_base=frozenset({'ketchup'}), items_add=frozenset({'vegetables'}), confidence=0.7848699763593381, lift=1.0617184122010523), OrderedStatistic(items_base=frozenset({'vegetables'}), items_add=frozenset({'ketchup'}), confidence=0.39429928741092635, lift=1.0617184122010523)]\n",
            "[OrderedStatistic(items_base=frozenset(), items_add=frozenset({'vegetables', 'laundry detergent'}), confidence=0.3090430201931519, lift=1.0), OrderedStatistic(items_base=frozenset({'laundry detergent'}), items_add=frozenset({'vegetables'}), confidence=0.8167053364269142, lift=1.1047831094896143), OrderedStatistic(items_base=frozenset({'vegetables'}), items_add=frozenset({'laundry detergent'}), confidence=0.4180522565320665, lift=1.1047831094896143)]\n",
            "[OrderedStatistic(items_base=frozenset(), items_add=frozenset({'vegetables', 'lunch meat'}), confidence=0.31167690956979804, lift=1.0), OrderedStatistic(items_base=frozenset({'lunch meat'}), items_add=frozenset({'vegetables'}), confidence=0.7888888888888889, lift=1.0671549221430456), OrderedStatistic(items_base=frozenset({'vegetables'}), items_add=frozenset({'lunch meat'}), confidence=0.4216152019002375, lift=1.0671549221430456)]\n",
            "[OrderedStatistic(items_base=frozenset(), items_add=frozenset({'milk', 'vegetables'}), confidence=0.295873573309921, lift=1.0), OrderedStatistic(items_base=frozenset({'milk'}), items_add=frozenset({'vegetables'}), confidence=0.7782909930715934, lift=1.0528188136681056), OrderedStatistic(items_base=frozenset({'vegetables'}), items_add=frozenset({'milk'}), confidence=0.4002375296912114, lift=1.0528188136681056)]\n",
            "[OrderedStatistic(items_base=frozenset(), items_add=frozenset({'vegetables', 'mixes'}), confidence=0.295873573309921, lift=1.0), OrderedStatistic(items_base=frozenset({'mixes'}), items_add=frozenset({'vegetables'}), confidence=0.7873831775700935, lift=1.0651180988745088), OrderedStatistic(items_base=frozenset({'vegetables'}), items_add=frozenset({'mixes'}), confidence=0.4002375296912114, lift=1.0651180988745088)]\n",
            "[OrderedStatistic(items_base=frozenset(), items_add=frozenset({'vegetables', 'paper towels'}), confidence=0.2897278314310799, lift=1.0), OrderedStatistic(items_base=frozenset({'paper towels'}), items_add=frozenset({'vegetables'}), confidence=0.7990314769975787, lift=1.0808751214967247), OrderedStatistic(items_base=frozenset({'vegetables'}), items_add=frozenset({'paper towels'}), confidence=0.3919239904988123, lift=1.0808751214967245)]\n",
            "[OrderedStatistic(items_base=frozenset(), items_add=frozenset({'pasta', 'vegetables'}), confidence=0.286215978928885, lift=1.0), OrderedStatistic(items_base=frozenset({'pasta'}), items_add=frozenset({'vegetables'}), confidence=0.7706855791962176, lift=1.0425307300528408), OrderedStatistic(items_base=frozenset({'vegetables'}), items_add=frozenset({'pasta'}), confidence=0.38717339667458434, lift=1.0425307300528406)]\n",
            "[OrderedStatistic(items_base=frozenset(), items_add=frozenset({'pork', 'vegetables'}), confidence=0.2704126426690079, lift=1.0), OrderedStatistic(items_base=frozenset({'pork'}), items_add=frozenset({'vegetables'}), confidence=0.7604938271604937, lift=1.028744025101903), OrderedStatistic(items_base=frozenset({'vegetables'}), items_add=frozenset({'pork'}), confidence=0.3657957244655582, lift=1.028744025101903)]\n",
            "[OrderedStatistic(items_base=frozenset(), items_add=frozenset({'vegetables', 'poultry'}), confidence=0.33187006145741876, lift=1.0), OrderedStatistic(items_base=frozenset({'poultry'}), items_add=frozenset({'vegetables'}), confidence=0.7874999999999999, lift=1.065276128266033), OrderedStatistic(items_base=frozenset({'vegetables'}), items_add=frozenset({'poultry'}), confidence=0.4489311163895487, lift=1.0652761282660332)]\n",
            "[OrderedStatistic(items_base=frozenset(), items_add=frozenset({'vegetables', 'sandwich bags'}), confidence=0.2932396839332748, lift=1.0), OrderedStatistic(items_base=frozenset({'sandwich bags'}), items_add=frozenset({'vegetables'}), confidence=0.7971360381861575, lift=1.0783111015368567), OrderedStatistic(items_base=frozenset({'vegetables'}), items_add=frozenset({'sandwich bags'}), confidence=0.3966745843230404, lift=1.078311101536857)]\n",
            "[OrderedStatistic(items_base=frozenset(), items_add=frozenset({'vegetables', 'sandwich loaves'}), confidence=0.28270412642669007, lift=1.0), OrderedStatistic(items_base=frozenset({'sandwich loaves'}), items_add=frozenset({'vegetables'}), confidence=0.8090452261306532, lift=1.0944210362978788), OrderedStatistic(items_base=frozenset({'vegetables'}), items_add=frozenset({'sandwich loaves'}), confidence=0.3824228028503563, lift=1.094421036297879)]\n",
            "[OrderedStatistic(items_base=frozenset(), items_add=frozenset({'shampoo', 'vegetables'}), confidence=0.28797190517998245, lift=1.0), OrderedStatistic(items_base=frozenset({'shampoo'}), items_add=frozenset({'vegetables'}), confidence=0.780952380952381, lift=1.0564189571315463), OrderedStatistic(items_base=frozenset({'vegetables'}), items_add=frozenset({'shampoo'}), confidence=0.38954869358669836, lift=1.0564189571315463)]\n",
            "[OrderedStatistic(items_base=frozenset(), items_add=frozenset({'vegetables', 'soap'}), confidence=0.29499561018437226, lift=1.0), OrderedStatistic(items_base=frozenset({'soap'}), items_add=frozenset({'vegetables'}), confidence=0.7777777777777777, lift=1.0521245711269462), OrderedStatistic(items_base=frozenset({'vegetables'}), items_add=frozenset({'soap'}), confidence=0.3990498812351544, lift=1.0521245711269462)]\n",
            "[OrderedStatistic(items_base=frozenset(), items_add=frozenset({'vegetables', 'soda'}), confidence=0.305531167690957, lift=1.0), OrderedStatistic(items_base=frozenset({'soda'}), items_add=frozenset({'vegetables'}), confidence=0.7820224719101124, lift=1.0578665029757934), OrderedStatistic(items_base=frozenset({'vegetables'}), items_add=frozenset({'soda'}), confidence=0.4133016627078385, lift=1.0578665029757934)]\n",
            "[OrderedStatistic(items_base=frozenset(), items_add=frozenset({'vegetables', 'spaghetti sauce'}), confidence=0.2967515364354697, lift=1.0), OrderedStatistic(items_base=frozenset({'spaghetti sauce'}), items_add=frozenset({'vegetables'}), confidence=0.7952941176470587, lift=1.0758194774346792), OrderedStatistic(items_base=frozenset({'vegetables'}), items_add=frozenset({'spaghetti sauce'}), confidence=0.4014251781472684, lift=1.0758194774346792)]\n",
            "[OrderedStatistic(items_base=frozenset(), items_add=frozenset({'vegetables', 'sugar'}), confidence=0.2976294995610184, lift=1.0), OrderedStatistic(items_base=frozenset({'sugar'}), items_add=frozenset({'vegetables'}), confidence=0.8248175182481751, lift=1.1157567141148117), OrderedStatistic(items_base=frozenset({'vegetables'}), items_add=frozenset({'sugar'}), confidence=0.40261282660332537, lift=1.1157567141148117)]\n",
            "[OrderedStatistic(items_base=frozenset(), items_add=frozenset({'vegetables', 'toilet paper'}), confidence=0.2897278314310799, lift=1.0), OrderedStatistic(items_base=frozenset({'toilet paper'}), items_add=frozenset({'vegetables'}), confidence=0.765661252900232, lift=1.0357341651465133), OrderedStatistic(items_base=frozenset({'vegetables'}), items_add=frozenset({'toilet paper'}), confidence=0.3919239904988123, lift=1.0357341651465133)]\n",
            "[OrderedStatistic(items_base=frozenset(), items_add=frozenset({'vegetables', 'tortillas'}), confidence=0.2835820895522388, lift=1.0), OrderedStatistic(items_base=frozenset({'tortillas'}), items_add=frozenset({'vegetables'}), confidence=0.7672209026128266, lift=1.0378439525843344), OrderedStatistic(items_base=frozenset({'vegetables'}), items_add=frozenset({'tortillas'}), confidence=0.3836104513064133, lift=1.0378439525843344)]\n",
            "[OrderedStatistic(items_base=frozenset(), items_add=frozenset({'vegetables', 'waffles'}), confidence=0.315188762071993, lift=1.0), OrderedStatistic(items_base=frozenset({'vegetables'}), items_add=frozenset({'waffles'}), confidence=0.4263657957244656, lift=1.081582720111729), OrderedStatistic(items_base=frozenset({'waffles'}), items_add=frozenset({'vegetables'}), confidence=0.799554565701559, lift=1.081582720111729)]\n",
            "[OrderedStatistic(items_base=frozenset(), items_add=frozenset({'yogurt', 'vegetables'}), confidence=0.31957857769973663, lift=1.0), OrderedStatistic(items_base=frozenset({'vegetables'}), items_add=frozenset({'yogurt'}), confidence=0.43230403800475065, lift=1.1241878979164635), OrderedStatistic(items_base=frozenset({'yogurt'}), items_add=frozenset({'vegetables'}), confidence=0.8310502283105023, lift=1.1241878979164635)]\n"
          ],
          "name": "stdout"
        }
      ]
    }
  ]
}