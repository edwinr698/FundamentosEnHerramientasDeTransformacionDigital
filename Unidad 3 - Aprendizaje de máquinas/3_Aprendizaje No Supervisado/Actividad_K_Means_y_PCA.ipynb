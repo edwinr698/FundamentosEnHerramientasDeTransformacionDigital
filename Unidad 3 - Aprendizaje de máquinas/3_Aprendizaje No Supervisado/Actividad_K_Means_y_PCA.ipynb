{
  "nbformat": 4,
  "nbformat_minor": 0,
  "metadata": {
    "colab": {
      "name": "Actividad_K_Means_y_PCA.ipynb",
      "provenance": [],
      "collapsed_sections": [],
      "include_colab_link": true
    },
    "kernelspec": {
      "name": "python3",
      "display_name": "Python 3"
    }
  },
  "cells": [
    {
      "cell_type": "markdown",
      "metadata": {
        "id": "view-in-github",
        "colab_type": "text"
      },
      "source": [
        "<a href=\"https://colab.research.google.com/github/jaguzman/FundamentosEnHerramientasDeTransformacionDigital/blob/master/Unidad%203%20-%20Aprendizaje%20de%20m%C3%A1quinas/3_Aprendizaje%20No%20Supervisado/Actividad_K_Means_y_PCA.ipynb\" target=\"_parent\"><img src=\"https://colab.research.google.com/assets/colab-badge.svg\" alt=\"Open In Colab\"/></a>"
      ]
    },
    {
      "cell_type": "markdown",
      "metadata": {
        "id": "7hKwtVR_j4Uq",
        "colab_type": "text"
      },
      "source": [
        "# K-Means y PCA!\n",
        "\n",
        "**Datos de Clientes en un Centro Comercial**\n",
        "\n",
        "Se cuenta con una base de datos de las tarjetas de membresía de un centro comercial. Se tienen algunos datos básicos de los clientes: edad, género, ingresos mensuales y puntaje de gastos. La puntuación de gasto es algo que se le asigna al cliente en función de sus compras y los tipos de compra.\n",
        "\n",
        "Información del dataset: base de datos de Udemy https://github.com/SteffiPeTaffy/machineLearningAZ/blob/master/Machine%20Learning%20A-Z%20Template%20Folder/Part%204%20-%20Clustering/Section%2025%20-%20Hierarchical%20Clustering/Mall_Customers.csv\n",
        "\n",
        "**OBJETIVO**\n",
        "\n",
        "Realizar un análisis de segmentación de clientes usando el algoritmo no supervisado k-Means. Al final del ejercicio podrá comprender a los clientes y quién de ellos pueder ser un objetivo para el equipo de marketing y poder así generar estrategias de comercialización.\n"
      ]
    },
    {
      "cell_type": "markdown",
      "metadata": {
        "id": "vwdqXGYGlgD8",
        "colab_type": "text"
      },
      "source": [
        "**ACTIVIDAD**\n",
        "\n",
        "1. Importar librerías\n",
        "2. Importar la base de datos\n",
        "3. Realizar la descripción y analítica de datos\n",
        "4. Preparar de los datos para el algoritmo\n",
        "5. Realizar una reducción de las características con PCA\n",
        "6. Clusterizar los datos con K-Means\n",
        "7. Realizar una visualización gráfica de la segmentación de clientes\n"
      ]
    },
    {
      "cell_type": "markdown",
      "metadata": {
        "id": "t0Gk-9yXlvx5",
        "colab_type": "text"
      },
      "source": [
        "# **1. IMPORTAR LIBRERÍAS**"
      ]
    },
    {
      "cell_type": "code",
      "metadata": {
        "id": "oS98BwBGjwfk",
        "colab_type": "code",
        "colab": {}
      },
      "source": [
        "# Importar las librerías\n",
        "import pandas as pd\n",
        "import numpy as np\n",
        "\n",
        "# Librerías para graficar\n",
        "import seaborn as sns\n",
        "import matplotlib.pyplot as plt\n",
        "import plotly as py\n",
        "import plotly.graph_objs as go\n",
        "import matplotlib.gridspec as gridspec\n",
        "import math\n",
        "\n",
        "# Librerías de Aprendizaje de máquinas\n",
        "from sklearn.cluster import KMeans\n",
        "from sklearn.decomposition import PCA\n",
        "from sklearn.preprocessing import LabelEncoder"
      ],
      "execution_count": 2,
      "outputs": []
    },
    {
      "cell_type": "markdown",
      "metadata": {
        "id": "CDz1ifn3oJQ8",
        "colab_type": "text"
      },
      "source": [
        "# **2. IMPORTAR LA BASE DE DATOS**"
      ]
    },
    {
      "cell_type": "code",
      "metadata": {
        "id": "SPOq8GReoJxh",
        "colab_type": "code",
        "colab": {
          "base_uri": "https://localhost:8080/",
          "height": 212
        },
        "outputId": "053397d2-dbf1-497e-fde2-410b464d2e4e"
      },
      "source": [
        "# Leer los datos desde el GitHub\n",
        "data = pd.read_csv(\n",
        "    \"https://raw.githubusercontent.com/jaguzman/dataSets/master/datasets/Mall_Customers.csv\",\n",
        "    sep = ',',         # Se especifica el separador de los datos\n",
        "    thousands = None,  # Se especifica el separador de miles\n",
        "    decimal = '.')     # Se especifica el separador de los decimales\n",
        "\n",
        "# Imprimir el tamaño de la base de datos\n",
        "print(data.shape)\n",
        "# Imprimir las primeras líneas\n",
        "data.__()"
      ],
      "execution_count": 3,
      "outputs": [
        {
          "output_type": "stream",
          "text": [
            "(200, 5)\n"
          ],
          "name": "stdout"
        },
        {
          "output_type": "execute_result",
          "data": {
            "text/html": [
              "<div>\n",
              "<style scoped>\n",
              "    .dataframe tbody tr th:only-of-type {\n",
              "        vertical-align: middle;\n",
              "    }\n",
              "\n",
              "    .dataframe tbody tr th {\n",
              "        vertical-align: top;\n",
              "    }\n",
              "\n",
              "    .dataframe thead th {\n",
              "        text-align: right;\n",
              "    }\n",
              "</style>\n",
              "<table border=\"1\" class=\"dataframe\">\n",
              "  <thead>\n",
              "    <tr style=\"text-align: right;\">\n",
              "      <th></th>\n",
              "      <th>CustomerID</th>\n",
              "      <th>Genre</th>\n",
              "      <th>Age</th>\n",
              "      <th>Annual Income (k$)</th>\n",
              "      <th>Spending Score (1-100)</th>\n",
              "    </tr>\n",
              "  </thead>\n",
              "  <tbody>\n",
              "    <tr>\n",
              "      <th>0</th>\n",
              "      <td>1</td>\n",
              "      <td>Male</td>\n",
              "      <td>19</td>\n",
              "      <td>15</td>\n",
              "      <td>39</td>\n",
              "    </tr>\n",
              "    <tr>\n",
              "      <th>1</th>\n",
              "      <td>2</td>\n",
              "      <td>Male</td>\n",
              "      <td>21</td>\n",
              "      <td>15</td>\n",
              "      <td>81</td>\n",
              "    </tr>\n",
              "    <tr>\n",
              "      <th>2</th>\n",
              "      <td>3</td>\n",
              "      <td>Female</td>\n",
              "      <td>20</td>\n",
              "      <td>16</td>\n",
              "      <td>6</td>\n",
              "    </tr>\n",
              "    <tr>\n",
              "      <th>3</th>\n",
              "      <td>4</td>\n",
              "      <td>Female</td>\n",
              "      <td>23</td>\n",
              "      <td>16</td>\n",
              "      <td>77</td>\n",
              "    </tr>\n",
              "    <tr>\n",
              "      <th>4</th>\n",
              "      <td>5</td>\n",
              "      <td>Female</td>\n",
              "      <td>31</td>\n",
              "      <td>17</td>\n",
              "      <td>40</td>\n",
              "    </tr>\n",
              "  </tbody>\n",
              "</table>\n",
              "</div>"
            ],
            "text/plain": [
              "   CustomerID   Genre  Age  Annual Income (k$)  Spending Score (1-100)\n",
              "0           1    Male   19                  15                      39\n",
              "1           2    Male   21                  15                      81\n",
              "2           3  Female   20                  16                       6\n",
              "3           4  Female   23                  16                      77\n",
              "4           5  Female   31                  17                      40"
            ]
          },
          "metadata": {
            "tags": []
          },
          "execution_count": 3
        }
      ]
    },
    {
      "cell_type": "markdown",
      "metadata": {
        "id": "g1pEbfSRonVk",
        "colab_type": "text"
      },
      "source": [
        "**DESCRIPCIÓN DE LA BASE DE DATOS**\n",
        "\n",
        "**Datos bancarios del cliente**\n",
        "\n",
        "**[1] CustomerID:** número de identificación asignado al cliente  (numérico)\n",
        "\n",
        "**[2] Genre:** género del cliente (categórico) [Male, Female]\n",
        "\n",
        "**[3] Age:** edad del cliente (numérico)\n",
        "\n",
        "**[4] Annual Income (k$):** ingresos económicos anuales del cliente \\$US (numérico)\n",
        "\n",
        "**[5] Spending Score (1-100):** Puntaje asignado al cliente, por el centro comercial, basado en el comportamiento del cliente y la naturaleza de los gastos (numérico)"
      ]
    },
    {
      "cell_type": "code",
      "metadata": {
        "id": "M29x4XGQp-Db",
        "colab_type": "code",
        "colab": {
          "base_uri": "https://localhost:8080/",
          "height": 218
        },
        "outputId": "093f06be-b746-4017-8102-671070bc9d2f"
      },
      "source": [
        "# Información de la base de datos: nómbre de la columba, conteo de datos Null y tipo de datos\n",
        "data.__()\n",
        "# La base de datos no tiene datos nulos."
      ],
      "execution_count": null,
      "outputs": [
        {
          "output_type": "stream",
          "text": [
            "<class 'pandas.core.frame.DataFrame'>\n",
            "RangeIndex: 200 entries, 0 to 199\n",
            "Data columns (total 5 columns):\n",
            " #   Column                  Non-Null Count  Dtype \n",
            "---  ------                  --------------  ----- \n",
            " 0   CustomerID              200 non-null    int64 \n",
            " 1   Genre                   200 non-null    object\n",
            " 2   Age                     200 non-null    int64 \n",
            " 3   Annual Income (k$)      200 non-null    int64 \n",
            " 4   Spending Score (1-100)  200 non-null    int64 \n",
            "dtypes: int64(4), object(1)\n",
            "memory usage: 7.9+ KB\n"
          ],
          "name": "stdout"
        }
      ]
    },
    {
      "cell_type": "markdown",
      "metadata": {
        "id": "V3tyLkWZqY1x",
        "colab_type": "text"
      },
      "source": [
        "# **3. DESCRIPCIÓN Y ANALÍTICA DE DATOS**"
      ]
    },
    {
      "cell_type": "markdown",
      "metadata": {
        "id": "u-pSNMdUrg44",
        "colab_type": "text"
      },
      "source": [
        "Graficar la cantidad de personas por su género"
      ]
    },
    {
      "cell_type": "code",
      "metadata": {
        "id": "Du_i0uo3q78C",
        "colab_type": "code",
        "colab": {
          "base_uri": "https://localhost:8080/",
          "height": 296
        },
        "outputId": "007236d8-4598-4ef0-80e5-cd61caff4408"
      },
      "source": [
        "# Esta función realiza una suma de cada categorías y luego las grafica ('Genre')\n",
        "sns.countplot(data['__']) "
      ],
      "execution_count": null,
      "outputs": [
        {
          "output_type": "execute_result",
          "data": {
            "text/plain": [
              "<matplotlib.axes._subplots.AxesSubplot at 0x7f37fdd6eb38>"
            ]
          },
          "metadata": {
            "tags": []
          },
          "execution_count": 4
        },
        {
          "output_type": "display_data",
          "data": {
            "image/png": "[encoded data removed]",
            "text/plain": [
              "<Figure size 432x288 with 1 Axes>"
            ]
          },
          "metadata": {
            "tags": [],
            "needs_background": "light"
          }
        }
      ]
    },
    {
      "cell_type": "code",
      "metadata": {
        "id": "XEPMCggCqYJA",
        "colab_type": "code",
        "colab": {
          "base_uri": "https://localhost:8080/",
          "height": 284
        },
        "outputId": "3f6e35ce-8750-409d-875c-d25a818297f0"
      },
      "source": [
        "# Descripción de los datos numéricos\n",
        "data.__()"
      ],
      "execution_count": null,
      "outputs": [
        {
          "output_type": "execute_result",
          "data": {
            "text/html": [
              "<div>\n",
              "<style scoped>\n",
              "    .dataframe tbody tr th:only-of-type {\n",
              "        vertical-align: middle;\n",
              "    }\n",
              "\n",
              "    .dataframe tbody tr th {\n",
              "        vertical-align: top;\n",
              "    }\n",
              "\n",
              "    .dataframe thead th {\n",
              "        text-align: right;\n",
              "    }\n",
              "</style>\n",
              "<table border=\"1\" class=\"dataframe\">\n",
              "  <thead>\n",
              "    <tr style=\"text-align: right;\">\n",
              "      <th></th>\n",
              "      <th>CustomerID</th>\n",
              "      <th>Age</th>\n",
              "      <th>Annual Income (k$)</th>\n",
              "      <th>Spending Score (1-100)</th>\n",
              "    </tr>\n",
              "  </thead>\n",
              "  <tbody>\n",
              "    <tr>\n",
              "      <th>count</th>\n",
              "      <td>200.000000</td>\n",
              "      <td>200.000000</td>\n",
              "      <td>200.000000</td>\n",
              "      <td>200.000000</td>\n",
              "    </tr>\n",
              "    <tr>\n",
              "      <th>mean</th>\n",
              "      <td>100.500000</td>\n",
              "      <td>38.850000</td>\n",
              "      <td>60.560000</td>\n",
              "      <td>50.200000</td>\n",
              "    </tr>\n",
              "    <tr>\n",
              "      <th>std</th>\n",
              "      <td>57.879185</td>\n",
              "      <td>13.969007</td>\n",
              "      <td>26.264721</td>\n",
              "      <td>25.823522</td>\n",
              "    </tr>\n",
              "    <tr>\n",
              "      <th>min</th>\n",
              "      <td>1.000000</td>\n",
              "      <td>18.000000</td>\n",
              "      <td>15.000000</td>\n",
              "      <td>1.000000</td>\n",
              "    </tr>\n",
              "    <tr>\n",
              "      <th>25%</th>\n",
              "      <td>50.750000</td>\n",
              "      <td>28.750000</td>\n",
              "      <td>41.500000</td>\n",
              "      <td>34.750000</td>\n",
              "    </tr>\n",
              "    <tr>\n",
              "      <th>50%</th>\n",
              "      <td>100.500000</td>\n",
              "      <td>36.000000</td>\n",
              "      <td>61.500000</td>\n",
              "      <td>50.000000</td>\n",
              "    </tr>\n",
              "    <tr>\n",
              "      <th>75%</th>\n",
              "      <td>150.250000</td>\n",
              "      <td>49.000000</td>\n",
              "      <td>78.000000</td>\n",
              "      <td>73.000000</td>\n",
              "    </tr>\n",
              "    <tr>\n",
              "      <th>max</th>\n",
              "      <td>200.000000</td>\n",
              "      <td>70.000000</td>\n",
              "      <td>137.000000</td>\n",
              "      <td>99.000000</td>\n",
              "    </tr>\n",
              "  </tbody>\n",
              "</table>\n",
              "</div>"
            ],
            "text/plain": [
              "       CustomerID         Age  Annual Income (k$)  Spending Score (1-100)\n",
              "count  200.000000  200.000000          200.000000              200.000000\n",
              "mean   100.500000   38.850000           60.560000               50.200000\n",
              "std     57.879185   13.969007           26.264721               25.823522\n",
              "min      1.000000   18.000000           15.000000                1.000000\n",
              "25%     50.750000   28.750000           41.500000               34.750000\n",
              "50%    100.500000   36.000000           61.500000               50.000000\n",
              "75%    150.250000   49.000000           78.000000               73.000000\n",
              "max    200.000000   70.000000          137.000000               99.000000"
            ]
          },
          "metadata": {
            "tags": []
          },
          "execution_count": 5
        }
      ]
    },
    {
      "cell_type": "markdown",
      "metadata": {
        "id": "8YC8XIVNrX1X",
        "colab_type": "text"
      },
      "source": [
        "Ver la distribución de los datos de la las variables numéricas 'Age', 'Annual Income (k$)' y 'Spending Score (1-100)'."
      ]
    },
    {
      "cell_type": "code",
      "metadata": {
        "id": "1tBTNVLVrlya",
        "colab_type": "code",
        "colab": {
          "base_uri": "https://localhost:8080/",
          "height": 283
        },
        "outputId": "4e42709b-7e6b-475b-92f1-f5e357af0d94"
      },
      "source": [
        "# Definición de figura con 3 gráficas de 1x3 y se define el tamaño de la figura\n",
        "fig, (ax1, ax2, ax3) = plt.subplots(nrows = 1, ncols = 3, figsize = (22,4))\n",
        "# Gráfica 1: distribución de los valores de Age\n",
        "sns.distplot(data['Age'], ax = ax1)\n",
        "# Gráfica 2: distribución de los valores de Annual Income (k$)\n",
        "sns.distplot(data['__'], ax = ax2)\n",
        "# Gráfica 3: distribución de los valores de Spending Score (1-100)\n",
        "sns.distplot(data['__'], ax = ax3)\n",
        "\n",
        "plt.subplots_adjust(wspace=0.25)"
      ],
      "execution_count": null,
      "outputs": [
        {
          "output_type": "display_data",
          "data": {
            "image/png": "[encoded data removed]",
            "text/plain": [
              "<Figure size 1584x288 with 3 Axes>"
            ]
          },
          "metadata": {
            "tags": [],
            "needs_background": "light"
          }
        }
      ]
    },
    {
      "cell_type": "markdown",
      "metadata": {
        "id": "5Dk8VpSXtw2k",
        "colab_type": "text"
      },
      "source": [
        "*   La edad más común en los clientes es de 30-50 años.\n",
        "*   Son más comunes los clientes viejos que los clientes jóvenes.\n",
        "*   Se puede inferir que pocas personas ganan más de \\$100.000 dólares al año. \n",
        "*   La mayoría de las personas ganan entre 50-75 mil dólares.\n",
        "*   Las personas que menos ganan están al rededor de \\$20.000 dolares.\n"
      ]
    },
    {
      "cell_type": "markdown",
      "metadata": {
        "id": "iq9PzSdBvdZE",
        "colab_type": "text"
      },
      "source": [
        "# **4. PREPARACIÓN DE LOS DATOS PARA EL ALGORITMO**"
      ]
    },
    {
      "cell_type": "markdown",
      "metadata": {
        "id": "Emn4a8-kvgM5",
        "colab_type": "text"
      },
      "source": [
        "Pasar de variables categorica a variable numéricas"
      ]
    },
    {
      "cell_type": "code",
      "metadata": {
        "id": "cA63Sg5wvg7J",
        "colab_type": "code",
        "colab": {
          "base_uri": "https://localhost:8080/",
          "height": 195
        },
        "outputId": "c47205ec-416e-4e76-e47d-330034fbca7f"
      },
      "source": [
        "# Funcion para cambiar los valores de 'Male=1' y 'Female=0'\n",
        "\n",
        "# Definición de la función LabelEncoder\n",
        "encoder = LabelEncoder()\n",
        "# Realizar la conversión a todas las variables categoricas asignandóles un número iniciando desde 0\n",
        "data['Genre'] = encoder.fit_transform(data['__'])\n",
        "# Imprimir los primeros 5 datos de la base de datos\n",
        "data.__()"
      ],
      "execution_count": 5,
      "outputs": [
        {
          "output_type": "execute_result",
          "data": {
            "text/html": [
              "<div>\n",
              "<style scoped>\n",
              "    .dataframe tbody tr th:only-of-type {\n",
              "        vertical-align: middle;\n",
              "    }\n",
              "\n",
              "    .dataframe tbody tr th {\n",
              "        vertical-align: top;\n",
              "    }\n",
              "\n",
              "    .dataframe thead th {\n",
              "        text-align: right;\n",
              "    }\n",
              "</style>\n",
              "<table border=\"1\" class=\"dataframe\">\n",
              "  <thead>\n",
              "    <tr style=\"text-align: right;\">\n",
              "      <th></th>\n",
              "      <th>CustomerID</th>\n",
              "      <th>Genre</th>\n",
              "      <th>Age</th>\n",
              "      <th>Annual Income (k$)</th>\n",
              "      <th>Spending Score (1-100)</th>\n",
              "    </tr>\n",
              "  </thead>\n",
              "  <tbody>\n",
              "    <tr>\n",
              "      <th>0</th>\n",
              "      <td>1</td>\n",
              "      <td>1</td>\n",
              "      <td>19</td>\n",
              "      <td>15</td>\n",
              "      <td>39</td>\n",
              "    </tr>\n",
              "    <tr>\n",
              "      <th>1</th>\n",
              "      <td>2</td>\n",
              "      <td>1</td>\n",
              "      <td>21</td>\n",
              "      <td>15</td>\n",
              "      <td>81</td>\n",
              "    </tr>\n",
              "    <tr>\n",
              "      <th>2</th>\n",
              "      <td>3</td>\n",
              "      <td>0</td>\n",
              "      <td>20</td>\n",
              "      <td>16</td>\n",
              "      <td>6</td>\n",
              "    </tr>\n",
              "    <tr>\n",
              "      <th>3</th>\n",
              "      <td>4</td>\n",
              "      <td>0</td>\n",
              "      <td>23</td>\n",
              "      <td>16</td>\n",
              "      <td>77</td>\n",
              "    </tr>\n",
              "    <tr>\n",
              "      <th>4</th>\n",
              "      <td>5</td>\n",
              "      <td>0</td>\n",
              "      <td>31</td>\n",
              "      <td>17</td>\n",
              "      <td>40</td>\n",
              "    </tr>\n",
              "  </tbody>\n",
              "</table>\n",
              "</div>"
            ],
            "text/plain": [
              "   CustomerID  Genre  Age  Annual Income (k$)  Spending Score (1-100)\n",
              "0           1      1   19                  15                      39\n",
              "1           2      1   21                  15                      81\n",
              "2           3      0   20                  16                       6\n",
              "3           4      0   23                  16                      77\n",
              "4           5      0   31                  17                      40"
            ]
          },
          "metadata": {
            "tags": []
          },
          "execution_count": 5
        }
      ]
    },
    {
      "cell_type": "code",
      "metadata": {
        "id": "YF-95lV4wIBD",
        "colab_type": "code",
        "colab": {
          "base_uri": "https://localhost:8080/",
          "height": 195
        },
        "outputId": "2f0f7ff0-d309-490b-a337-96746487e7ea"
      },
      "source": [
        "# Se elimina la colimna 'CustomerID'\n",
        "data = data.drop(columns=['__'])\n",
        "# Imprimir los primeros 5 datos de la base de datos\n",
        "data.__()"
      ],
      "execution_count": null,
      "outputs": [
        {
          "output_type": "execute_result",
          "data": {
            "text/html": [
              "<div>\n",
              "<style scoped>\n",
              "    .dataframe tbody tr th:only-of-type {\n",
              "        vertical-align: middle;\n",
              "    }\n",
              "\n",
              "    .dataframe tbody tr th {\n",
              "        vertical-align: top;\n",
              "    }\n",
              "\n",
              "    .dataframe thead th {\n",
              "        text-align: right;\n",
              "    }\n",
              "</style>\n",
              "<table border=\"1\" class=\"dataframe\">\n",
              "  <thead>\n",
              "    <tr style=\"text-align: right;\">\n",
              "      <th></th>\n",
              "      <th>Genre</th>\n",
              "      <th>Age</th>\n",
              "      <th>Annual Income (k$)</th>\n",
              "      <th>Spending Score (1-100)</th>\n",
              "    </tr>\n",
              "  </thead>\n",
              "  <tbody>\n",
              "    <tr>\n",
              "      <th>0</th>\n",
              "      <td>1</td>\n",
              "      <td>19</td>\n",
              "      <td>15</td>\n",
              "      <td>39</td>\n",
              "    </tr>\n",
              "    <tr>\n",
              "      <th>1</th>\n",
              "      <td>1</td>\n",
              "      <td>21</td>\n",
              "      <td>15</td>\n",
              "      <td>81</td>\n",
              "    </tr>\n",
              "    <tr>\n",
              "      <th>2</th>\n",
              "      <td>0</td>\n",
              "      <td>20</td>\n",
              "      <td>16</td>\n",
              "      <td>6</td>\n",
              "    </tr>\n",
              "    <tr>\n",
              "      <th>3</th>\n",
              "      <td>0</td>\n",
              "      <td>23</td>\n",
              "      <td>16</td>\n",
              "      <td>77</td>\n",
              "    </tr>\n",
              "    <tr>\n",
              "      <th>4</th>\n",
              "      <td>0</td>\n",
              "      <td>31</td>\n",
              "      <td>17</td>\n",
              "      <td>40</td>\n",
              "    </tr>\n",
              "  </tbody>\n",
              "</table>\n",
              "</div>"
            ],
            "text/plain": [
              "   Genre  Age  Annual Income (k$)  Spending Score (1-100)\n",
              "0      1   19                  15                      39\n",
              "1      1   21                  15                      81\n",
              "2      0   20                  16                       6\n",
              "3      0   23                  16                      77\n",
              "4      0   31                  17                      40"
            ]
          },
          "metadata": {
            "tags": []
          },
          "execution_count": 8
        }
      ]
    },
    {
      "cell_type": "markdown",
      "metadata": {
        "id": "kGZG62nqxP4m",
        "colab_type": "text"
      },
      "source": [
        "# **5. REDUCCIÓN DE CARACTERÍSTICAS PCA**"
      ]
    },
    {
      "cell_type": "code",
      "metadata": {
        "id": "HVb74t4wxSaq",
        "colab_type": "code",
        "colab": {
          "base_uri": "https://localhost:8080/",
          "height": 50
        },
        "outputId": "72ee9864-0805-4ab6-e2f9-389d13576f4f"
      },
      "source": [
        "#%% PCA\n",
        "\n",
        "pca = PCA(n_components = 2, whiten= True )  # whitten = normalize\n",
        "pca.fit(data)\n",
        "\n",
        "x_pca = __.transform(data)\n",
        "\n",
        "print(\"variance ratio: \", pca.explained_variance_ratio_)\n",
        "print(\"sum: \",sum(pca.explained_variance_ratio_))"
      ],
      "execution_count": null,
      "outputs": [
        {
          "output_type": "stream",
          "text": [
            "variance ratio:  [0.45118077 0.44091539]\n",
            "sum:  0.892096162464606\n"
          ],
          "name": "stdout"
        }
      ]
    },
    {
      "cell_type": "code",
      "metadata": {
        "id": "C5bQYBfzxn5N",
        "colab_type": "code",
        "colab": {
          "base_uri": "https://localhost:8080/",
          "height": 195
        },
        "outputId": "cf6816db-ec57-4aac-c524-bd0a15dc6a16"
      },
      "source": [
        "#%% 2D\n",
        "data[\"p1\"] = x_pca[:,0]\n",
        "data[\"p2\"] = x_pca[:,1]\n",
        "data.head()"
      ],
      "execution_count": null,
      "outputs": [
        {
          "output_type": "execute_result",
          "data": {
            "text/html": [
              "<div>\n",
              "<style scoped>\n",
              "    .dataframe tbody tr th:only-of-type {\n",
              "        vertical-align: middle;\n",
              "    }\n",
              "\n",
              "    .dataframe tbody tr th {\n",
              "        vertical-align: top;\n",
              "    }\n",
              "\n",
              "    .dataframe thead th {\n",
              "        text-align: right;\n",
              "    }\n",
              "</style>\n",
              "<table border=\"1\" class=\"dataframe\">\n",
              "  <thead>\n",
              "    <tr style=\"text-align: right;\">\n",
              "      <th></th>\n",
              "      <th>Genre</th>\n",
              "      <th>Age</th>\n",
              "      <th>Annual Income (k$)</th>\n",
              "      <th>Spending Score (1-100)</th>\n",
              "      <th>p1</th>\n",
              "      <th>p2</th>\n",
              "    </tr>\n",
              "  </thead>\n",
              "  <tbody>\n",
              "    <tr>\n",
              "      <th>0</th>\n",
              "      <td>1</td>\n",
              "      <td>19</td>\n",
              "      <td>15</td>\n",
              "      <td>39</td>\n",
              "      <td>-1.204343</td>\n",
              "      <td>-1.261528</td>\n",
              "    </tr>\n",
              "    <tr>\n",
              "      <th>1</th>\n",
              "      <td>1</td>\n",
              "      <td>21</td>\n",
              "      <td>15</td>\n",
              "      <td>81</td>\n",
              "      <td>0.028890</td>\n",
              "      <td>-2.172916</td>\n",
              "    </tr>\n",
              "    <tr>\n",
              "      <th>2</th>\n",
              "      <td>0</td>\n",
              "      <td>20</td>\n",
              "      <td>16</td>\n",
              "      <td>6</td>\n",
              "      <td>-2.169419</td>\n",
              "      <td>-0.501724</td>\n",
              "    </tr>\n",
              "    <tr>\n",
              "      <th>3</th>\n",
              "      <td>0</td>\n",
              "      <td>23</td>\n",
              "      <td>16</td>\n",
              "      <td>77</td>\n",
              "      <td>-0.081948</td>\n",
              "      <td>-2.044309</td>\n",
              "    </tr>\n",
              "    <tr>\n",
              "      <th>4</th>\n",
              "      <td>0</td>\n",
              "      <td>31</td>\n",
              "      <td>17</td>\n",
              "      <td>40</td>\n",
              "      <td>-1.215836</td>\n",
              "      <td>-1.161648</td>\n",
              "    </tr>\n",
              "  </tbody>\n",
              "</table>\n",
              "</div>"
            ],
            "text/plain": [
              "   Genre  Age  Annual Income (k$)  Spending Score (1-100)        p1        p2\n",
              "0      1   19                  15                      39 -1.204343 -1.261528\n",
              "1      1   21                  15                      81  0.028890 -2.172916\n",
              "2      0   20                  16                       6 -2.169419 -0.501724\n",
              "3      0   23                  16                      77 -0.081948 -2.044309\n",
              "4      0   31                  17                      40 -1.215836 -1.161648"
            ]
          },
          "metadata": {
            "tags": []
          },
          "execution_count": 10
        }
      ]
    },
    {
      "cell_type": "markdown",
      "metadata": {
        "id": "7mvU9pf0wxGQ",
        "colab_type": "text"
      },
      "source": [
        "# **6. CLUSTERIZACIÓN DE LOS DATOS CON K-MEAS**"
      ]
    },
    {
      "cell_type": "markdown",
      "metadata": {
        "id": "5GeFhpgDxKZY",
        "colab_type": "text"
      },
      "source": [
        "Para determinar el mejor número de clusters se ejecuta el algoritmo para diferentes valores de K (1-15) y se gráfica el error cuadrático medio (SSE) con respecto a K."
      ]
    },
    {
      "cell_type": "code",
      "metadata": {
        "id": "b7sgsc4wxKh4",
        "colab_type": "code",
        "colab": {
          "base_uri": "https://localhost:8080/",
          "height": 279
        },
        "outputId": "15384f08-a9f9-468c-caf4-7c7deecd5ffd"
      },
      "source": [
        "# %% KMEANS\n",
        "wcss = []\n",
        "\n",
        "for k in range(1,15):\n",
        "    kmeans = KMeans(n_clusters=k)\n",
        "    kmeans.fit(data[['p1', 'p2']])\n",
        "    wcss.append(kmeans.inertia_)\n",
        "    \n",
        "plt.plot(range(1,15),wcss)\n",
        "plt.xlabel(\"number of k (cluster) value\")\n",
        "plt.ylabel(\"wcss\")\n",
        "plt.show()"
      ],
      "execution_count": null,
      "outputs": [
        {
          "output_type": "display_data",
          "data": {
            "image/png": "[encoded data removed]",
            "text/plain": [
              "<Figure size 432x288 with 1 Axes>"
            ]
          },
          "metadata": {
            "tags": [],
            "needs_background": "light"
          }
        }
      ]
    },
    {
      "cell_type": "markdown",
      "metadata": {
        "id": "FkbC031HyDB7",
        "colab_type": "text"
      },
      "source": [
        "Se seleccionan 5 grupos, debido a que el \"codo\" de la gráfica es más evidente en k=5"
      ]
    },
    {
      "cell_type": "code",
      "metadata": {
        "id": "KkFlkoI10Edh",
        "colab_type": "code",
        "colab": {
          "base_uri": "https://localhost:8080/",
          "height": 195
        },
        "outputId": "a40240c4-a5ea-4be0-bfb7-4b29da0acebd"
      },
      "source": [
        "# Modelo K-Means de 5 clusters\n",
        "kmeans_model = KMeans(n_clusters=__)\n",
        "# Entrenamiento del modelo\n",
        "clusters = kmeans_model.fit_predict(data[['p1', 'p2']])\n",
        "# Se agraga una columna con el número del grupo al que pertenece cada cliente\n",
        "data[\"cluster\"] = clusters\n",
        "# Imprimir los primeros 5 datos de la base de datos\n",
        "data.head()"
      ],
      "execution_count": null,
      "outputs": [
        {
          "output_type": "execute_result",
          "data": {
            "text/html": [
              "<div>\n",
              "<style scoped>\n",
              "    .dataframe tbody tr th:only-of-type {\n",
              "        vertical-align: middle;\n",
              "    }\n",
              "\n",
              "    .dataframe tbody tr th {\n",
              "        vertical-align: top;\n",
              "    }\n",
              "\n",
              "    .dataframe thead th {\n",
              "        text-align: right;\n",
              "    }\n",
              "</style>\n",
              "<table border=\"1\" class=\"dataframe\">\n",
              "  <thead>\n",
              "    <tr style=\"text-align: right;\">\n",
              "      <th></th>\n",
              "      <th>Genre</th>\n",
              "      <th>Age</th>\n",
              "      <th>Annual Income (k$)</th>\n",
              "      <th>Spending Score (1-100)</th>\n",
              "      <th>p1</th>\n",
              "      <th>p2</th>\n",
              "      <th>cluster</th>\n",
              "    </tr>\n",
              "  </thead>\n",
              "  <tbody>\n",
              "    <tr>\n",
              "      <th>0</th>\n",
              "      <td>1</td>\n",
              "      <td>19</td>\n",
              "      <td>15</td>\n",
              "      <td>39</td>\n",
              "      <td>-1.204343</td>\n",
              "      <td>-1.261528</td>\n",
              "      <td>4</td>\n",
              "    </tr>\n",
              "    <tr>\n",
              "      <th>1</th>\n",
              "      <td>1</td>\n",
              "      <td>21</td>\n",
              "      <td>15</td>\n",
              "      <td>81</td>\n",
              "      <td>0.028890</td>\n",
              "      <td>-2.172916</td>\n",
              "      <td>3</td>\n",
              "    </tr>\n",
              "    <tr>\n",
              "      <th>2</th>\n",
              "      <td>0</td>\n",
              "      <td>20</td>\n",
              "      <td>16</td>\n",
              "      <td>6</td>\n",
              "      <td>-2.169419</td>\n",
              "      <td>-0.501724</td>\n",
              "      <td>4</td>\n",
              "    </tr>\n",
              "    <tr>\n",
              "      <th>3</th>\n",
              "      <td>0</td>\n",
              "      <td>23</td>\n",
              "      <td>16</td>\n",
              "      <td>77</td>\n",
              "      <td>-0.081948</td>\n",
              "      <td>-2.044309</td>\n",
              "      <td>3</td>\n",
              "    </tr>\n",
              "    <tr>\n",
              "      <th>4</th>\n",
              "      <td>0</td>\n",
              "      <td>31</td>\n",
              "      <td>17</td>\n",
              "      <td>40</td>\n",
              "      <td>-1.215836</td>\n",
              "      <td>-1.161648</td>\n",
              "      <td>4</td>\n",
              "    </tr>\n",
              "  </tbody>\n",
              "</table>\n",
              "</div>"
            ],
            "text/plain": [
              "   Genre  Age  Annual Income (k$)  ...        p1        p2  cluster\n",
              "0      1   19                  15  ... -1.204343 -1.261528        4\n",
              "1      1   21                  15  ...  0.028890 -2.172916        3\n",
              "2      0   20                  16  ... -2.169419 -0.501724        4\n",
              "3      0   23                  16  ... -0.081948 -2.044309        3\n",
              "4      0   31                  17  ... -1.215836 -1.161648        4\n",
              "\n",
              "[5 rows x 7 columns]"
            ]
          },
          "metadata": {
            "tags": []
          },
          "execution_count": 12
        }
      ]
    },
    {
      "cell_type": "code",
      "metadata": {
        "id": "3oNTVpBjFs_w",
        "colab_type": "code",
        "colab": {}
      },
      "source": [
        "# Present business interpretation of clusters\n",
        "\n",
        "\n",
        "def kmeans_present_cluster_stats(data, label, cols = None):\n",
        "    \"\"\"\n",
        "    \"\"\"\n",
        "    means = data.groupby(label).mean()\n",
        "    rows = math.ceil(len(means.columns)/5)\n",
        "    fig = plt.figure(constrained_layout=False, figsize=(10, rows * 5))\n",
        "    gs = gridspec.GridSpec(rows, 5, figure=fig)\n",
        "    i=0\n",
        "    for col in means.columns:\n",
        "        if col in cols:\n",
        "            ax = fig.add_subplot(gs[i])\n",
        "            if i % 5 == 0:\n",
        "                ax.set_yticks([i + 0.5 for i in means.index])\n",
        "                ax.set_yticklabels(['Cluster ' + str(i) for i in means.index])\n",
        "                ax.set_ylabel('Mean by cluster')\n",
        "            else:\n",
        "                ax.set_yticks([])\n",
        "            ax.set_xticks([0.5])\n",
        "            ax.set_xticklabels([col], rotation = 45)\n",
        "            col_t = [[i] for i in list(means[col])] \n",
        "            im = ax.pcolormesh(col_t, cmap=\"RdYlBu_r\")\n",
        "            plt.colorbar(im)\n",
        "            i+=1\n",
        "    plt.tight_layout()\n",
        "    plt.show()"
      ],
      "execution_count": null,
      "outputs": []
    },
    {
      "cell_type": "code",
      "metadata": {
        "id": "VzZePocvF0P2",
        "colab_type": "code",
        "colab": {
          "base_uri": "https://localhost:8080/",
          "height": 423
        },
        "outputId": "b2561770-b56e-4477-ae7e-71666ba9fc25"
      },
      "source": [
        "# Información de cada clúster\n",
        "kmeans_present_cluster_stats(data = data, label = 'cluster', cols = ['Age', 'Annual Income (k$)', 'Spending Score (1-100)'])"
      ],
      "execution_count": null,
      "outputs": [
        {
          "output_type": "display_data",
          "data": {
            "image/png": "[encoded data removed]",
            "text/plain": [
              "<Figure size 720x720 with 6 Axes>"
            ]
          },
          "metadata": {
            "tags": [],
            "needs_background": "light"
          }
        }
      ]
    },
    {
      "cell_type": "markdown",
      "metadata": {
        "id": "1Hz5dUmpGlOg",
        "colab_type": "text"
      },
      "source": [
        "Nota: el orden de los cluster cambia cada vez que se ejecuta el código.\n",
        "\n",
        "Interpretación:\n",
        "\n",
        "Cluster 0 - jóven, bajos ingresos, gastos altos\n",
        "\n",
        "Cluster 1 - edad preomedio, ingresos promedio, gastos promedio\n",
        "\n",
        "Cluster 2 - jóven, altos ingresos, altos gastos\n",
        "\n",
        "Cluster 3 - viejo, bajos ingresos, gastos bajos\n",
        "\n",
        "Cluster 4 - viejo, altos ingresos, gastos bajos"
      ]
    },
    {
      "cell_type": "markdown",
      "metadata": {
        "id": "gNjQ90EFz2Ft",
        "colab_type": "text"
      },
      "source": [
        "# **7. GRAFICA DE SEGMENTACIÓN DE CLIENTES**"
      ]
    },
    {
      "cell_type": "code",
      "metadata": {
        "id": "CHfA0OoGDmfZ",
        "colab_type": "code",
        "colab": {
          "base_uri": "https://localhost:8080/",
          "height": 265
        },
        "outputId": "72becf08-e725-48e2-926b-2d7460d512e9"
      },
      "source": [
        "color = [\"red\",\"green\", \"blue\", \"yellow\", \"black\"]\n",
        "\n",
        "for each in range(5):\n",
        "    plt.scatter(data.p1[data.cluster == each],data.p2[data.cluster == each],color = color[each] )"
      ],
      "execution_count": null,
      "outputs": [
        {
          "output_type": "display_data",
          "data": {
            "image/png": "[encoded data removed]",
            "text/plain": [
              "<Figure size 432x288 with 1 Axes>"
            ]
          },
          "metadata": {
            "tags": [],
            "needs_background": "light"
          }
        }
      ]
    },
    {
      "cell_type": "code",
      "metadata": {
        "id": "BzPfBZsE0wP8",
        "colab_type": "code",
        "colab": {
          "base_uri": "https://localhost:8080/",
          "height": 265
        },
        "outputId": "ddff207a-2709-45ae-b391-8898c150cfb1"
      },
      "source": [
        "plt.scatter(data['Annual Income (k$)'][data.cluster == 0 ],data['Spending Score (1-100)'][data.cluster == 0],color = \"red\")\n",
        "plt.scatter(data['Annual Income (k$)'][data.cluster == 1 ],data['Spending Score (1-100)'][data.cluster == 1],color = \"green\")\n",
        "plt.scatter(data['Annual Income (k$)'][data.cluster == 2 ],data['Spending Score (1-100)'][data.cluster == 2],color = \"blue\")\n",
        "plt.scatter(data['Annual Income (k$)'][data.cluster == 3 ],data['Spending Score (1-100)'][data.cluster == 3],color = \"yellow\")\n",
        "plt.scatter(data['Annual Income (k$)'][data.cluster == 4 ],data['Spending Score (1-100)'][data.cluster == 4],color = \"black\")\n",
        "plt.show()"
      ],
      "execution_count": null,
      "outputs": [
        {
          "output_type": "display_data",
          "data": {
            "image/png": "[encoded data removed]",
            "text/plain": [
              "<Figure size 432x288 with 1 Axes>"
            ]
          },
          "metadata": {
            "tags": [],
            "needs_background": "light"
          }
        }
      ]
    }
  ]
}