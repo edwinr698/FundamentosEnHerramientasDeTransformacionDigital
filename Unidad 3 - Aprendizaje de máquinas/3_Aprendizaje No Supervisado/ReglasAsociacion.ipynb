{
  "nbformat": 4,
  "nbformat_minor": 0,
  "metadata": {
    "kernelspec": {
      "display_name": "Python 3",
      "language": "python",
      "name": "python3"
    },
    "language_info": {
      "name": "python",
      "version": "3.6.6",
      "mimetype": "text/x-python",
      "codemirror_mode": {
        "name": "ipython",
        "version": 3
      },
      "pygments_lexer": "ipython3",
      "nbconvert_exporter": "python",
      "file_extension": ".py"
    },
    "colab": {
      "name": "ReglasAsociacion.ipynb",
      "provenance": [],
      "collapsed_sections": [],
      "include_colab_link": true
    }
  },
  "cells": [
    {
      "cell_type": "markdown",
      "metadata": {
        "id": "view-in-github",
        "colab_type": "text"
      },
      "source": [
        "<a href=\"https://colab.research.google.com/github/jaguzman/GENERAL-FundamentosEnHerramientasDeTransformacionDigital/blob/master/Unidad%203%20-%20Aprendizaje%20de%20m%C3%A1quinas/3_Aprendizaje%20No%20Supervisado/ReglasAsociacion.ipynb\" target=\"_parent\"><img src=\"https://colab.research.google.com/assets/colab-badge.svg\" alt=\"Open In Colab\"/></a>"
      ]
    },
    {
      "cell_type": "markdown",
      "metadata": {
        "_uuid": "5168df7b84df72cb89a5c4a3c06d83f7e6fcd8b6",
        "id": "Zre7--HL3wgb",
        "colab_type": "text"
      },
      "source": [
        "# Reglas de Asociación\n",
        "\n",
        "\n",
        "Se cuenta con una base de datos de los registros de venta de una panadería en Edinburgh, Escocia. Los registros se tomaron desde el 29/oct/2016 hasta el 8/abr/2017.\n",
        "\n",
        "Información del dataset: https://www.kaggle.com/sulmansarwar/transactions-from-a-bakery\n",
        "\n",
        "\n",
        "**OBJETIVO**\n",
        "\n",
        "La idea el argoritmo para encontrar asociaciones en los productos y poder dar respuesta a preguntas como: ¿cuáles son los productos más vendidos?, ¿cuáles son los productos más frecuentes?, ¿cuáles son los productos más relacionados?, etc."
      ]
    },
    {
      "cell_type": "markdown",
      "metadata": {
        "id": "fvUDsWI0O0ry",
        "colab_type": "text"
      },
      "source": [
        "**Contenido**\n",
        "\n",
        "*   Importar librerías\n",
        "*   Importar la base de datos\n",
        "*   Descripción y analítica de los datos\n",
        "*   Algoritmo de Reglas de Asociación"
      ]
    },
    {
      "cell_type": "markdown",
      "metadata": {
        "id": "Qbuvk-djPDpa",
        "colab_type": "text"
      },
      "source": [
        "# **LIBRERÍAS**"
      ]
    },
    {
      "cell_type": "code",
      "metadata": {
        "_uuid": "8f2839f25d086af736a60e9eeb907d3b93b6e0e5",
        "_cell_guid": "b1076dfc-b9ad-4769-8c92-a6c4dae69d19",
        "trusted": true,
        "id": "gC0dHfOa3wgd",
        "colab_type": "code",
        "colab": {
          "base_uri": "https://localhost:8080/",
          "height": 87
        },
        "outputId": "3e2915b4-aa19-4ab0-c9a1-87675bedf479"
      },
      "source": [
        "# Importar la librería\n",
        "\n",
        "import numpy as np \n",
        "import pandas as pd \n",
        "\n",
        "# Librerías para graficar\n",
        "import matplotlib.pyplot as plt\n",
        "import seaborn as sns\n",
        "\n",
        "!pip install apyori\n",
        "# Librerías de Aprendizaje de máquinas\n",
        "from apyori import apriori"
      ],
      "execution_count": 1,
      "outputs": [
        {
          "output_type": "stream",
          "text": [
            "/usr/local/lib/python3.6/dist-packages/statsmodels/tools/_testing.py:19: FutureWarning: pandas.util.testing is deprecated. Use the functions in the public API at pandas.testing instead.\n",
            "  import pandas.util.testing as tm\n"
          ],
          "name": "stderr"
        },
        {
          "output_type": "stream",
          "text": [
            "Requirement already satisfied: apyori in /usr/local/lib/python3.6/dist-packages (1.1.2)\n"
          ],
          "name": "stdout"
        }
      ]
    },
    {
      "cell_type": "markdown",
      "metadata": {
        "id": "uJvhGFbVPEhA",
        "colab_type": "text"
      },
      "source": [
        "**IMPORTAR LA BASE DE DATOS**"
      ]
    },
    {
      "cell_type": "code",
      "metadata": {
        "_cell_guid": "79c7e3d0-c299-4dcb-8224-4455121ee9b0",
        "_uuid": "d629ff2d2480ee46fbb7e2d37f6b5fab8052498a",
        "trusted": true,
        "id": "Aiw-00Ze3wgl",
        "colab_type": "code",
        "colab": {
          "base_uri": "https://localhost:8080/",
          "height": 271
        },
        "outputId": "6f9a4e41-4f5c-4ab4-f031-6b3acfc55f17"
      },
      "source": [
        "# Leer los datos desde el GitHub\n",
        "data = pd.read_csv(\"https://raw.githubusercontent.com/jaguzman/dataSets/master/datasets/BreadBasket_DMS.csv\",\n",
        "    sep = ',',         # separador de campos\n",
        "    thousands = None,  # separador de miles para números\n",
        "    decimal = '.')     # separador de los decimales para números\n",
        "\n",
        "# Imprimir el tamaño de la base de datos\n",
        "print(data.shape)\n",
        "# Imprimir las primeras 7 líneas\n",
        "data.head(7)"
      ],
      "execution_count": 2,
      "outputs": [
        {
          "output_type": "stream",
          "text": [
            "(21293, 4)\n"
          ],
          "name": "stdout"
        },
        {
          "output_type": "execute_result",
          "data": {
            "text/html": [
              "<div>\n",
              "<style scoped>\n",
              "    .dataframe tbody tr th:only-of-type {\n",
              "        vertical-align: middle;\n",
              "    }\n",
              "\n",
              "    .dataframe tbody tr th {\n",
              "        vertical-align: top;\n",
              "    }\n",
              "\n",
              "    .dataframe thead th {\n",
              "        text-align: right;\n",
              "    }\n",
              "</style>\n",
              "<table border=\"1\" class=\"dataframe\">\n",
              "  <thead>\n",
              "    <tr style=\"text-align: right;\">\n",
              "      <th></th>\n",
              "      <th>Date</th>\n",
              "      <th>Time</th>\n",
              "      <th>Transaction</th>\n",
              "      <th>Item</th>\n",
              "    </tr>\n",
              "  </thead>\n",
              "  <tbody>\n",
              "    <tr>\n",
              "      <th>0</th>\n",
              "      <td>2016-10-30</td>\n",
              "      <td>09:58:11</td>\n",
              "      <td>1</td>\n",
              "      <td>Bread</td>\n",
              "    </tr>\n",
              "    <tr>\n",
              "      <th>1</th>\n",
              "      <td>2016-10-30</td>\n",
              "      <td>10:05:34</td>\n",
              "      <td>2</td>\n",
              "      <td>Scandinavian</td>\n",
              "    </tr>\n",
              "    <tr>\n",
              "      <th>2</th>\n",
              "      <td>2016-10-30</td>\n",
              "      <td>10:05:34</td>\n",
              "      <td>2</td>\n",
              "      <td>Scandinavian</td>\n",
              "    </tr>\n",
              "    <tr>\n",
              "      <th>3</th>\n",
              "      <td>2016-10-30</td>\n",
              "      <td>10:07:57</td>\n",
              "      <td>3</td>\n",
              "      <td>Hot chocolate</td>\n",
              "    </tr>\n",
              "    <tr>\n",
              "      <th>4</th>\n",
              "      <td>2016-10-30</td>\n",
              "      <td>10:07:57</td>\n",
              "      <td>3</td>\n",
              "      <td>Jam</td>\n",
              "    </tr>\n",
              "    <tr>\n",
              "      <th>5</th>\n",
              "      <td>2016-10-30</td>\n",
              "      <td>10:07:57</td>\n",
              "      <td>3</td>\n",
              "      <td>Cookies</td>\n",
              "    </tr>\n",
              "    <tr>\n",
              "      <th>6</th>\n",
              "      <td>2016-10-30</td>\n",
              "      <td>10:08:41</td>\n",
              "      <td>4</td>\n",
              "      <td>Muffin</td>\n",
              "    </tr>\n",
              "  </tbody>\n",
              "</table>\n",
              "</div>"
            ],
            "text/plain": [
              "         Date      Time  Transaction           Item\n",
              "0  2016-10-30  09:58:11            1          Bread\n",
              "1  2016-10-30  10:05:34            2   Scandinavian\n",
              "2  2016-10-30  10:05:34            2   Scandinavian\n",
              "3  2016-10-30  10:07:57            3  Hot chocolate\n",
              "4  2016-10-30  10:07:57            3            Jam\n",
              "5  2016-10-30  10:07:57            3        Cookies\n",
              "6  2016-10-30  10:08:41            4         Muffin"
            ]
          },
          "metadata": {
            "tags": []
          },
          "execution_count": 2
        }
      ]
    },
    {
      "cell_type": "markdown",
      "metadata": {
        "id": "2-HsUcT1OrLz",
        "colab_type": "text"
      },
      "source": [
        "**DESCRIPCIÓN DE LA BASE DE DATOS**\n",
        "\n",
        "**Datos bancarios del cliente**\n",
        "\n",
        "**[1] Date:** fecha de la compra (estampa de tiempo)\n",
        "\n",
        "**[2] Time:** hora de la compra (estampa de tiempo)\n",
        "\n",
        "**[3] Transaction:** número de indentificación de la compra. En cada fila se registra un artículo, pero este puede pertenecer a un grupo de artículos comprados. (numérico) \n",
        "\n",
        "**[4] Item:** artículo comprado (categórica)"
      ]
    },
    {
      "cell_type": "code",
      "metadata": {
        "trusted": true,
        "scrolled": true,
        "_uuid": "4c9ff67b16f33514600cbfd062244cba616e70db",
        "id": "6Qr9rM3f3wg5",
        "colab_type": "code",
        "colab": {
          "base_uri": "https://localhost:8080/",
          "height": 202
        },
        "outputId": "f9798a25-ef21-4350-fdc4-aaaab814d426"
      },
      "source": [
        "# Información de la base de datos: nómbre de la columna, conteo de datos Null y tipo de datos\n",
        "data.info()"
      ],
      "execution_count": 3,
      "outputs": [
        {
          "output_type": "stream",
          "text": [
            "<class 'pandas.core.frame.DataFrame'>\n",
            "RangeIndex: 21293 entries, 0 to 21292\n",
            "Data columns (total 4 columns):\n",
            " #   Column       Non-Null Count  Dtype \n",
            "---  ------       --------------  ----- \n",
            " 0   Date         21293 non-null  object\n",
            " 1   Time         21293 non-null  object\n",
            " 2   Transaction  21293 non-null  int64 \n",
            " 3   Item         21293 non-null  object\n",
            "dtypes: int64(1), object(3)\n",
            "memory usage: 665.5+ KB\n"
          ],
          "name": "stdout"
        }
      ]
    },
    {
      "cell_type": "markdown",
      "metadata": {
        "id": "aycHAfd1PHbI",
        "colab_type": "text"
      },
      "source": [
        "# **DESCRIPCIÓN Y ANALÍTICA DE DATOS**"
      ]
    },
    {
      "cell_type": "markdown",
      "metadata": {
        "id": "tu0DJA5PU9vo",
        "colab_type": "text"
      },
      "source": [
        "Descripción de la columna 'Transaction'."
      ]
    },
    {
      "cell_type": "code",
      "metadata": {
        "trusted": true,
        "_uuid": "f20a2cdb2dc5573a6a7177e836e6149e31aad128",
        "id": "8z2-gNCg3wgu",
        "colab_type": "code",
        "colab": {
          "base_uri": "https://localhost:8080/",
          "height": 284
        },
        "outputId": "2a8eb873-80bd-41f8-ad98-2d6c24355519"
      },
      "source": [
        "# descripción de variables numéricas de la base de datos\n",
        "data.describe()"
      ],
      "execution_count": 4,
      "outputs": [
        {
          "output_type": "execute_result",
          "data": {
            "text/html": [
              "<div>\n",
              "<style scoped>\n",
              "    .dataframe tbody tr th:only-of-type {\n",
              "        vertical-align: middle;\n",
              "    }\n",
              "\n",
              "    .dataframe tbody tr th {\n",
              "        vertical-align: top;\n",
              "    }\n",
              "\n",
              "    .dataframe thead th {\n",
              "        text-align: right;\n",
              "    }\n",
              "</style>\n",
              "<table border=\"1\" class=\"dataframe\">\n",
              "  <thead>\n",
              "    <tr style=\"text-align: right;\">\n",
              "      <th></th>\n",
              "      <th>Transaction</th>\n",
              "    </tr>\n",
              "  </thead>\n",
              "  <tbody>\n",
              "    <tr>\n",
              "      <th>count</th>\n",
              "      <td>21293.000000</td>\n",
              "    </tr>\n",
              "    <tr>\n",
              "      <th>mean</th>\n",
              "      <td>4951.990889</td>\n",
              "    </tr>\n",
              "    <tr>\n",
              "      <th>std</th>\n",
              "      <td>2787.758400</td>\n",
              "    </tr>\n",
              "    <tr>\n",
              "      <th>min</th>\n",
              "      <td>1.000000</td>\n",
              "    </tr>\n",
              "    <tr>\n",
              "      <th>25%</th>\n",
              "      <td>2548.000000</td>\n",
              "    </tr>\n",
              "    <tr>\n",
              "      <th>50%</th>\n",
              "      <td>5067.000000</td>\n",
              "    </tr>\n",
              "    <tr>\n",
              "      <th>75%</th>\n",
              "      <td>7329.000000</td>\n",
              "    </tr>\n",
              "    <tr>\n",
              "      <th>max</th>\n",
              "      <td>9684.000000</td>\n",
              "    </tr>\n",
              "  </tbody>\n",
              "</table>\n",
              "</div>"
            ],
            "text/plain": [
              "        Transaction\n",
              "count  21293.000000\n",
              "mean    4951.990889\n",
              "std     2787.758400\n",
              "min        1.000000\n",
              "25%     2548.000000\n",
              "50%     5067.000000\n",
              "75%     7329.000000\n",
              "max     9684.000000"
            ]
          },
          "metadata": {
            "tags": []
          },
          "execution_count": 4
        }
      ]
    },
    {
      "cell_type": "markdown",
      "metadata": {
        "id": "oY22_vJBWWMr",
        "colab_type": "text"
      },
      "source": [
        "Se puede ver que la base de datos cuenta con 9684 compras.\n",
        "\n",
        "En la columna de 'item' existen datos etiquetados como NONE, estos se deben eliminar."
      ]
    },
    {
      "cell_type": "code",
      "metadata": {
        "trusted": true,
        "scrolled": true,
        "_uuid": "47e83cac15e53cbfac5e8c8ab8dd0b18e2e48061",
        "id": "aEHXMGOO3wg9",
        "colab_type": "code",
        "colab": {
          "base_uri": "https://localhost:8080/",
          "height": 101
        },
        "outputId": "fb4665a7-4a68-4454-c19f-712f779a1953"
      },
      "source": [
        "# Contar el número de regisros que tiene el contenido 'NONE' en la columna 'Item'\n",
        "data.loc[data['Item']=='NONE',:].count()"
      ],
      "execution_count": 5,
      "outputs": [
        {
          "output_type": "execute_result",
          "data": {
            "text/plain": [
              "Date           786\n",
              "Time           786\n",
              "Transaction    786\n",
              "Item           786\n",
              "dtype: int64"
            ]
          },
          "metadata": {
            "tags": []
          },
          "execution_count": 5
        }
      ]
    },
    {
      "cell_type": "code",
      "metadata": {
        "trusted": true,
        "_uuid": "0d38df63e7924d43bdc8c7b0c3ac0a1984844f38",
        "id": "j1UCTSC73whA",
        "colab_type": "code",
        "colab": {}
      },
      "source": [
        "# Eliminar los registros 'NONE'\n",
        "data=data.drop(data.loc[data['Item']=='NONE'].index)"
      ],
      "execution_count": 6,
      "outputs": []
    },
    {
      "cell_type": "markdown",
      "metadata": {
        "_uuid": "66a069cc663eacf8d26d4dd8a39d4de156b97e95",
        "id": "RdGJp1Ad3whE",
        "colab_type": "text"
      },
      "source": [
        "Para saber cuantos antículos diferentes vende la panadería se usa la siguiente función en la columna 'Item'"
      ]
    },
    {
      "cell_type": "code",
      "metadata": {
        "trusted": true,
        "_uuid": "f2c15c18054f52fe2bfb204b12c80a8e84e9ee8d",
        "id": "YNI0wN9Q3whG",
        "colab_type": "code",
        "colab": {
          "base_uri": "https://localhost:8080/",
          "height": 34
        },
        "outputId": "920ba739-d0ec-43b9-c962-9ec433fcdb14"
      },
      "source": [
        "# Cuenta los artículos distintos en la columna\n",
        "data['Item'].nunique()"
      ],
      "execution_count": 7,
      "outputs": [
        {
          "output_type": "execute_result",
          "data": {
            "text/plain": [
              "94"
            ]
          },
          "metadata": {
            "tags": []
          },
          "execution_count": 7
        }
      ]
    },
    {
      "cell_type": "markdown",
      "metadata": {
        "id": "KWPk7egsXRvc",
        "colab_type": "text"
      },
      "source": [
        "Ahora se listan los 10 más vendidos."
      ]
    },
    {
      "cell_type": "code",
      "metadata": {
        "trusted": true,
        "_uuid": "db5533399c250b579861d69f50b930b498160840",
        "id": "D_xfUSYS3whK",
        "colab_type": "code",
        "colab": {
          "base_uri": "https://localhost:8080/",
          "height": 202
        },
        "outputId": "17d236cc-b404-47d2-c360-435bba1cf906"
      },
      "source": [
        "# Se cuenta el número de veces que aparece cada artículo, se ordenan descendentemente y se imprimen los primeros 10\n",
        "data['Item'].value_counts().sort_values(ascending=False).head(10)"
      ],
      "execution_count": 8,
      "outputs": [
        {
          "output_type": "execute_result",
          "data": {
            "text/plain": [
              "Coffee           5471\n",
              "Bread            3325\n",
              "Tea              1435\n",
              "Cake             1025\n",
              "Pastry            856\n",
              "Sandwich          771\n",
              "Medialuna         616\n",
              "Hot chocolate     590\n",
              "Cookies           540\n",
              "Brownie           379\n",
              "Name: Item, dtype: int64"
            ]
          },
          "metadata": {
            "tags": []
          },
          "execution_count": 8
        }
      ]
    },
    {
      "cell_type": "markdown",
      "metadata": {
        "id": "2_OMjoXQX_ZR",
        "colab_type": "text"
      },
      "source": [
        "El café es el artículo más vendido. Incluso supera 10 en ventas las galletas que están en el puesto 9.\n",
        "\n",
        "Ahora se grafica esta relación"
      ]
    },
    {
      "cell_type": "code",
      "metadata": {
        "trusted": true,
        "_uuid": "48d141bef844e48d02741af2f9c4504289f6b889",
        "id": "Bote1Pzz3whO",
        "colab_type": "code",
        "colab": {
          "base_uri": "https://localhost:8080/",
          "height": 371
        },
        "outputId": "5577ddf2-bf97-4c42-d1d4-85233e8b2026"
      },
      "source": [
        "# Tamaño de la gráfica\n",
        "plt.figure(figsize=(10,4))\n",
        "# Top 10 de los artículos más vendidos\n",
        "data['Item'].value_counts().sort_values(ascending=False).head(10).plot(kind='bar')\n",
        "# Nombre del eje y\n",
        "plt.ylabel('Número de compras')\n",
        "# Nombre del eje x\n",
        "plt.xlabel('Artículos')\n",
        "# Título\n",
        "plt.title('Los más vendidos')"
      ],
      "execution_count": 9,
      "outputs": [
        {
          "output_type": "execute_result",
          "data": {
            "text/plain": [
              "Text(0.5, 1.0, 'Los más vendidos')"
            ]
          },
          "metadata": {
            "tags": []
          },
          "execution_count": 9
        },
        {
          "output_type": "display_data",
          "data": {
            "image/png": "[encoded data removed]",
            "text/plain": [
              "<Figure size 720x288 with 1 Axes>"
            ]
          },
          "metadata": {
            "tags": [],
            "needs_background": "light"
          }
        }
      ]
    },
    {
      "cell_type": "markdown",
      "metadata": {
        "_uuid": "c26e3e39bc5d3fe07030087d9fe6d2ed6e85544f",
        "id": "O86EzLkD3whS",
        "colab_type": "text"
      },
      "source": [
        "Relación del número de ventas con la hora del día. Se analizarán las ventas durante la mañana, la tarde y la noche. Para esto se crea una nueva columna y se agrupa por la hora de la compra."
      ]
    },
    {
      "cell_type": "code",
      "metadata": {
        "trusted": true,
        "_uuid": "996f9dff7d760e8d4903c65df77624beb1b6b3b7",
        "id": "dctpIxi63whU",
        "colab_type": "code",
        "colab": {
          "base_uri": "https://localhost:8080/",
          "height": 195
        },
        "outputId": "9e2604f9-e6cc-4706-abd7-f984458b34d5"
      },
      "source": [
        "# Crear nueva columna 'Daytime' y se ingresa el nombre de la parte del día, según corresponda.\n",
        "data.loc[(data['Time']<'12:00:00'),'Daytime']='Morning'\n",
        "data.loc[(data['Time']>='12:00:00')&(data['Time']<'18:00:00'),'Daytime']='Afternoon'\n",
        "data.loc[(data['Time']>='17:00:00')&(data['Time']<'23:50:00'),'Daytime']='Night'\n",
        "data.head()"
      ],
      "execution_count": 10,
      "outputs": [
        {
          "output_type": "execute_result",
          "data": {
            "text/html": [
              "<div>\n",
              "<style scoped>\n",
              "    .dataframe tbody tr th:only-of-type {\n",
              "        vertical-align: middle;\n",
              "    }\n",
              "\n",
              "    .dataframe tbody tr th {\n",
              "        vertical-align: top;\n",
              "    }\n",
              "\n",
              "    .dataframe thead th {\n",
              "        text-align: right;\n",
              "    }\n",
              "</style>\n",
              "<table border=\"1\" class=\"dataframe\">\n",
              "  <thead>\n",
              "    <tr style=\"text-align: right;\">\n",
              "      <th></th>\n",
              "      <th>Date</th>\n",
              "      <th>Time</th>\n",
              "      <th>Transaction</th>\n",
              "      <th>Item</th>\n",
              "      <th>Daytime</th>\n",
              "    </tr>\n",
              "  </thead>\n",
              "  <tbody>\n",
              "    <tr>\n",
              "      <th>0</th>\n",
              "      <td>2016-10-30</td>\n",
              "      <td>09:58:11</td>\n",
              "      <td>1</td>\n",
              "      <td>Bread</td>\n",
              "      <td>Morning</td>\n",
              "    </tr>\n",
              "    <tr>\n",
              "      <th>1</th>\n",
              "      <td>2016-10-30</td>\n",
              "      <td>10:05:34</td>\n",
              "      <td>2</td>\n",
              "      <td>Scandinavian</td>\n",
              "      <td>Morning</td>\n",
              "    </tr>\n",
              "    <tr>\n",
              "      <th>2</th>\n",
              "      <td>2016-10-30</td>\n",
              "      <td>10:05:34</td>\n",
              "      <td>2</td>\n",
              "      <td>Scandinavian</td>\n",
              "      <td>Morning</td>\n",
              "    </tr>\n",
              "    <tr>\n",
              "      <th>3</th>\n",
              "      <td>2016-10-30</td>\n",
              "      <td>10:07:57</td>\n",
              "      <td>3</td>\n",
              "      <td>Hot chocolate</td>\n",
              "      <td>Morning</td>\n",
              "    </tr>\n",
              "    <tr>\n",
              "      <th>4</th>\n",
              "      <td>2016-10-30</td>\n",
              "      <td>10:07:57</td>\n",
              "      <td>3</td>\n",
              "      <td>Jam</td>\n",
              "      <td>Morning</td>\n",
              "    </tr>\n",
              "  </tbody>\n",
              "</table>\n",
              "</div>"
            ],
            "text/plain": [
              "         Date      Time  Transaction           Item  Daytime\n",
              "0  2016-10-30  09:58:11            1          Bread  Morning\n",
              "1  2016-10-30  10:05:34            2   Scandinavian  Morning\n",
              "2  2016-10-30  10:05:34            2   Scandinavian  Morning\n",
              "3  2016-10-30  10:07:57            3  Hot chocolate  Morning\n",
              "4  2016-10-30  10:07:57            3            Jam  Morning"
            ]
          },
          "metadata": {
            "tags": []
          },
          "execution_count": 10
        }
      ]
    },
    {
      "cell_type": "code",
      "metadata": {
        "trusted": true,
        "_uuid": "2eb733a00d496bf97b402dcb47e5b6f5d9d1ee5f",
        "id": "PhM95ox23whY",
        "colab_type": "code",
        "colab": {
          "base_uri": "https://localhost:8080/",
          "height": 351
        },
        "outputId": "5a7e0ef5-efac-4a97-b16e-b2e4d8f2081e"
      },
      "source": [
        "# Tamaño de la gráfica\n",
        "fig, ax=plt.subplots(figsize=(10,4))\n",
        "# Estílo de la gráfica\n",
        "sns.set_style('darkgrid')\n",
        "# Se cuenta por parte del día y se cuenta\n",
        "data.groupby('Daytime')['Item'].count().plot(kind='bar')\n",
        "# Nombre del eje y\n",
        "plt.ylabel('Número de compras')\n",
        "# Título\n",
        "plt.title('Ventas durante el día')"
      ],
      "execution_count": 11,
      "outputs": [
        {
          "output_type": "execute_result",
          "data": {
            "text/plain": [
              "Text(0.5, 1.0, 'Ventas durante el día')"
            ]
          },
          "metadata": {
            "tags": []
          },
          "execution_count": 11
        },
        {
          "output_type": "display_data",
          "data": {
            "image/png": "[encoded data removed]",
            "text/plain": [
              "<Figure size 720x288 with 1 Axes>"
            ]
          },
          "metadata": {
            "tags": [],
            "needs_background": "light"
          }
        }
      ]
    },
    {
      "cell_type": "markdown",
      "metadata": {
        "id": "6wvevsxbZhc9",
        "colab_type": "text"
      },
      "source": [
        "Es evidente que la panadería vende más productos en la tarde, la siguiente parte de más ventas es la mañana y finalmente en la noche se venden menos productos."
      ]
    },
    {
      "cell_type": "code",
      "metadata": {
        "trusted": true,
        "_uuid": "74c81d2af877f9295f6e49da6f3027280e10e825",
        "id": "ECqcM9HI3whe",
        "colab_type": "code",
        "colab": {
          "base_uri": "https://localhost:8080/",
          "height": 101
        },
        "outputId": "1058005b-7927-408d-bb85-18f3a61785c9"
      },
      "source": [
        "# Número de ventas realizadas por parte del día\n",
        "data.groupby('Daytime')['Item'].count().sort_values(ascending=False)"
      ],
      "execution_count": 12,
      "outputs": [
        {
          "output_type": "execute_result",
          "data": {
            "text/plain": [
              "Daytime\n",
              "Afternoon    11569\n",
              "Morning       8404\n",
              "Night          534\n",
              "Name: Item, dtype: int64"
            ]
          },
          "metadata": {
            "tags": []
          },
          "execution_count": 12
        }
      ]
    },
    {
      "cell_type": "markdown",
      "metadata": {
        "_uuid": "8f3651bab4e562dd3966a4218f2b87815374255a",
        "id": "AsxErsSd3whd",
        "colab_type": "text"
      },
      "source": [
        "La panadería vendió 11569 artículo en la mañana y sólo 534 en la noche.\n",
        "\n",
        "La fecha se puede separar para extraer más información, es decir, el día de la semana, el mes y el año."
      ]
    },
    {
      "cell_type": "code",
      "metadata": {
        "trusted": true,
        "_uuid": "975e3f3d764f74a3c5626bd0e129ef9c1d04b101",
        "id": "PyL6ebL_3whh",
        "colab_type": "code",
        "colab": {
          "base_uri": "https://localhost:8080/",
          "height": 195
        },
        "outputId": "d5d2bc04-2c0a-49ec-8b54-2d4b7d76f5d5"
      },
      "source": [
        "# Una estamapa de tiempo está compuesta por la feha y la hora, para esto se agrupan las columnas 'Date' y 'Time'\n",
        "data['TimeStamp']=pd.to_datetime(data['Date']+' '+data['Time'])\n",
        "# Se extrae el día de la semana\n",
        "data['Day']=data['TimeStamp'].dt.day_name()\n",
        "# Se extrae el mes\n",
        "data['Month']=data['TimeStamp'].dt.month\n",
        "# Se extrae el nombre del mes\n",
        "data['Month_name']=data['TimeStamp'].dt.month_name()\n",
        "# Se extrae el año\n",
        "data['Year']=data['TimeStamp'].dt.year\n",
        "# Se agrupa el año y el nombre del mes\n",
        "data['Year_Month']=data['Year'].apply(str)+' '+data['Month_name'].apply(str)\n",
        "# Se eliminan las columnas separadas de fecha y hora\n",
        "data.drop(['Date','Time'], axis=1, inplace=True)\n",
        "# Se imprimen las primeras líneas de la base de datos\n",
        "data.head()"
      ],
      "execution_count": 13,
      "outputs": [
        {
          "output_type": "execute_result",
          "data": {
            "text/html": [
              "<div>\n",
              "<style scoped>\n",
              "    .dataframe tbody tr th:only-of-type {\n",
              "        vertical-align: middle;\n",
              "    }\n",
              "\n",
              "    .dataframe tbody tr th {\n",
              "        vertical-align: top;\n",
              "    }\n",
              "\n",
              "    .dataframe thead th {\n",
              "        text-align: right;\n",
              "    }\n",
              "</style>\n",
              "<table border=\"1\" class=\"dataframe\">\n",
              "  <thead>\n",
              "    <tr style=\"text-align: right;\">\n",
              "      <th></th>\n",
              "      <th>Transaction</th>\n",
              "      <th>Item</th>\n",
              "      <th>Daytime</th>\n",
              "      <th>TimeStamp</th>\n",
              "      <th>Day</th>\n",
              "      <th>Month</th>\n",
              "      <th>Month_name</th>\n",
              "      <th>Year</th>\n",
              "      <th>Year_Month</th>\n",
              "    </tr>\n",
              "  </thead>\n",
              "  <tbody>\n",
              "    <tr>\n",
              "      <th>0</th>\n",
              "      <td>1</td>\n",
              "      <td>Bread</td>\n",
              "      <td>Morning</td>\n",
              "      <td>2016-10-30 09:58:11</td>\n",
              "      <td>Sunday</td>\n",
              "      <td>10</td>\n",
              "      <td>October</td>\n",
              "      <td>2016</td>\n",
              "      <td>2016 October</td>\n",
              "    </tr>\n",
              "    <tr>\n",
              "      <th>1</th>\n",
              "      <td>2</td>\n",
              "      <td>Scandinavian</td>\n",
              "      <td>Morning</td>\n",
              "      <td>2016-10-30 10:05:34</td>\n",
              "      <td>Sunday</td>\n",
              "      <td>10</td>\n",
              "      <td>October</td>\n",
              "      <td>2016</td>\n",
              "      <td>2016 October</td>\n",
              "    </tr>\n",
              "    <tr>\n",
              "      <th>2</th>\n",
              "      <td>2</td>\n",
              "      <td>Scandinavian</td>\n",
              "      <td>Morning</td>\n",
              "      <td>2016-10-30 10:05:34</td>\n",
              "      <td>Sunday</td>\n",
              "      <td>10</td>\n",
              "      <td>October</td>\n",
              "      <td>2016</td>\n",
              "      <td>2016 October</td>\n",
              "    </tr>\n",
              "    <tr>\n",
              "      <th>3</th>\n",
              "      <td>3</td>\n",
              "      <td>Hot chocolate</td>\n",
              "      <td>Morning</td>\n",
              "      <td>2016-10-30 10:07:57</td>\n",
              "      <td>Sunday</td>\n",
              "      <td>10</td>\n",
              "      <td>October</td>\n",
              "      <td>2016</td>\n",
              "      <td>2016 October</td>\n",
              "    </tr>\n",
              "    <tr>\n",
              "      <th>4</th>\n",
              "      <td>3</td>\n",
              "      <td>Jam</td>\n",
              "      <td>Morning</td>\n",
              "      <td>2016-10-30 10:07:57</td>\n",
              "      <td>Sunday</td>\n",
              "      <td>10</td>\n",
              "      <td>October</td>\n",
              "      <td>2016</td>\n",
              "      <td>2016 October</td>\n",
              "    </tr>\n",
              "  </tbody>\n",
              "</table>\n",
              "</div>"
            ],
            "text/plain": [
              "   Transaction           Item  Daytime  ... Month_name  Year    Year_Month\n",
              "0            1          Bread  Morning  ...    October  2016  2016 October\n",
              "1            2   Scandinavian  Morning  ...    October  2016  2016 October\n",
              "2            2   Scandinavian  Morning  ...    October  2016  2016 October\n",
              "3            3  Hot chocolate  Morning  ...    October  2016  2016 October\n",
              "4            3            Jam  Morning  ...    October  2016  2016 October\n",
              "\n",
              "[5 rows x 9 columns]"
            ]
          },
          "metadata": {
            "tags": []
          },
          "execution_count": 13
        }
      ]
    },
    {
      "cell_type": "markdown",
      "metadata": {
        "id": "hITZJdhpi-m1",
        "colab_type": "text"
      },
      "source": [
        "Se desea conocer la relación de ventas con respecto a los meses del año"
      ]
    },
    {
      "cell_type": "code",
      "metadata": {
        "trusted": true,
        "_uuid": "33bfefb81b32b3715eddd4c5b8e33a95aa4be6ef",
        "scrolled": false,
        "id": "N_s-H6Nc3whl",
        "colab_type": "code",
        "colab": {
          "base_uri": "https://localhost:8080/",
          "height": 383
        },
        "outputId": "9aee3ce9-9d7a-49ee-a702-db56de196216"
      },
      "source": [
        "# Realiza un conteo de las ventas por cada mes del año\n",
        "data.groupby('Year_Month')['Item'].count().plot(kind='bar')\n",
        "# Nombre del eje y\n",
        "plt.ylabel('Número de compras')\n",
        "# Título\n",
        "plt.title('Ventas de los meses')"
      ],
      "execution_count": 14,
      "outputs": [
        {
          "output_type": "execute_result",
          "data": {
            "text/plain": [
              "Text(0.5, 1.0, 'Ventas de los meses')"
            ]
          },
          "metadata": {
            "tags": []
          },
          "execution_count": 14
        },
        {
          "output_type": "display_data",
          "data": {
            "image/png": "[encoded data removed]",
            "text/plain": [
              "<Figure size 432x288 with 1 Axes>"
            ]
          },
          "metadata": {
            "tags": []
          }
        }
      ]
    },
    {
      "cell_type": "markdown",
      "metadata": {
        "trusted": true,
        "_uuid": "1021742750bb422e5a478819b7bf0d5e55717bd3",
        "id": "7STpVCQf3whk",
        "colab_type": "text"
      },
      "source": [
        "Se ve que las ventas de octubre y abril son bajas, pero esto se debe a que en esos meses se tomaron pocos registros pues la base de datos tiene registros delos registros se hicieron desde el 29/oct/2016 hasta el 8/abr/2017.\n",
        "\n",
        "Con el objetivo de ver la cantidad de artículos que más se vendieron mensualmente, se hace lo siguiente."
      ]
    },
    {
      "cell_type": "code",
      "metadata": {
        "trusted": true,
        "_uuid": "660367acef3da8503c93840a93a4fe8966981067",
        "id": "9ISPrGBr3whx",
        "colab_type": "code",
        "colab": {
          "base_uri": "https://localhost:8080/",
          "height": 530
        },
        "outputId": "79fa3b42-c575-4d5c-a5df-1bd0e4e88cfd"
      },
      "source": [
        "# Se crea una tabla donde las filas se ubican los nombre de los meses y en las columnas los artículo y se agrupan por número de artículos\n",
        "data2=data.pivot_table(index='Month_name',columns='Item', aggfunc={'Item':'count'}).fillna(0)\n",
        "# Se agrega una columna al final con el artículo más vendido en casa mes\n",
        "data2['Max']=data2.idxmax(axis=1)\n",
        "# Se imprime la tabla\n",
        "data2"
      ],
      "execution_count": 15,
      "outputs": [
        {
          "output_type": "execute_result",
          "data": {
            "text/html": [
              "<div>\n",
              "<style scoped>\n",
              "    .dataframe tbody tr th:only-of-type {\n",
              "        vertical-align: middle;\n",
              "    }\n",
              "\n",
              "    .dataframe tbody tr th {\n",
              "        vertical-align: top;\n",
              "    }\n",
              "\n",
              "    .dataframe thead tr th {\n",
              "        text-align: left;\n",
              "    }\n",
              "\n",
              "    .dataframe thead tr:last-of-type th {\n",
              "        text-align: right;\n",
              "    }\n",
              "</style>\n",
              "<table border=\"1\" class=\"dataframe\">\n",
              "  <thead>\n",
              "    <tr>\n",
              "      <th></th>\n",
              "      <th colspan=\"80\" halign=\"left\">Item</th>\n",
              "      <th>Max</th>\n",
              "    </tr>\n",
              "    <tr>\n",
              "      <th>Item</th>\n",
              "      <th>Adjustment</th>\n",
              "      <th>Afternoon with the baker</th>\n",
              "      <th>Alfajores</th>\n",
              "      <th>Argentina Night</th>\n",
              "      <th>Art Tray</th>\n",
              "      <th>Bacon</th>\n",
              "      <th>Baguette</th>\n",
              "      <th>Bakewell</th>\n",
              "      <th>Bare Popcorn</th>\n",
              "      <th>Basket</th>\n",
              "      <th>Bowl Nic Pitt</th>\n",
              "      <th>Bread</th>\n",
              "      <th>Bread Pudding</th>\n",
              "      <th>Brioche and salami</th>\n",
              "      <th>Brownie</th>\n",
              "      <th>Cake</th>\n",
              "      <th>Caramel bites</th>\n",
              "      <th>Cherry me Dried fruit</th>\n",
              "      <th>Chicken Stew</th>\n",
              "      <th>Chicken sand</th>\n",
              "      <th>Chimichurri Oil</th>\n",
              "      <th>Chocolates</th>\n",
              "      <th>Christmas common</th>\n",
              "      <th>Coffee</th>\n",
              "      <th>Coffee granules</th>\n",
              "      <th>Coke</th>\n",
              "      <th>Cookies</th>\n",
              "      <th>Crepes</th>\n",
              "      <th>Crisps</th>\n",
              "      <th>Drinking chocolate spoons</th>\n",
              "      <th>Duck egg</th>\n",
              "      <th>Dulce de Leche</th>\n",
              "      <th>Eggs</th>\n",
              "      <th>Ella's Kitchen Pouches</th>\n",
              "      <th>Empanadas</th>\n",
              "      <th>Extra Salami or Feta</th>\n",
              "      <th>Fairy Doors</th>\n",
              "      <th>Farm House</th>\n",
              "      <th>Focaccia</th>\n",
              "      <th>Frittata</th>\n",
              "      <th>...</th>\n",
              "      <th>Medialuna</th>\n",
              "      <th>Mighty Protein</th>\n",
              "      <th>Mineral water</th>\n",
              "      <th>Mortimer</th>\n",
              "      <th>Muesli</th>\n",
              "      <th>Muffin</th>\n",
              "      <th>My-5 Fruit Shoot</th>\n",
              "      <th>Nomad bag</th>\n",
              "      <th>Olum &amp; polenta</th>\n",
              "      <th>Panatone</th>\n",
              "      <th>Pastry</th>\n",
              "      <th>Pick and Mix Bowls</th>\n",
              "      <th>Pintxos</th>\n",
              "      <th>Polenta</th>\n",
              "      <th>Postcard</th>\n",
              "      <th>Raspberry shortbread sandwich</th>\n",
              "      <th>Raw bars</th>\n",
              "      <th>Salad</th>\n",
              "      <th>Sandwich</th>\n",
              "      <th>Scandinavian</th>\n",
              "      <th>Scone</th>\n",
              "      <th>Siblings</th>\n",
              "      <th>Smoothies</th>\n",
              "      <th>Soup</th>\n",
              "      <th>Spanish Brunch</th>\n",
              "      <th>Spread</th>\n",
              "      <th>Tacos/Fajita</th>\n",
              "      <th>Tartine</th>\n",
              "      <th>Tea</th>\n",
              "      <th>The BART</th>\n",
              "      <th>The Nomad</th>\n",
              "      <th>Tiffin</th>\n",
              "      <th>Toast</th>\n",
              "      <th>Truffles</th>\n",
              "      <th>Tshirt</th>\n",
              "      <th>Valentine's card</th>\n",
              "      <th>Vegan Feast</th>\n",
              "      <th>Vegan mincepie</th>\n",
              "      <th>Victorian Sponge</th>\n",
              "      <th></th>\n",
              "    </tr>\n",
              "    <tr>\n",
              "      <th>Month_name</th>\n",
              "      <th></th>\n",
              "      <th></th>\n",
              "      <th></th>\n",
              "      <th></th>\n",
              "      <th></th>\n",
              "      <th></th>\n",
              "      <th></th>\n",
              "      <th></th>\n",
              "      <th></th>\n",
              "      <th></th>\n",
              "      <th></th>\n",
              "      <th></th>\n",
              "      <th></th>\n",
              "      <th></th>\n",
              "      <th></th>\n",
              "      <th></th>\n",
              "      <th></th>\n",
              "      <th></th>\n",
              "      <th></th>\n",
              "      <th></th>\n",
              "      <th></th>\n",
              "      <th></th>\n",
              "      <th></th>\n",
              "      <th></th>\n",
              "      <th></th>\n",
              "      <th></th>\n",
              "      <th></th>\n",
              "      <th></th>\n",
              "      <th></th>\n",
              "      <th></th>\n",
              "      <th></th>\n",
              "      <th></th>\n",
              "      <th></th>\n",
              "      <th></th>\n",
              "      <th></th>\n",
              "      <th></th>\n",
              "      <th></th>\n",
              "      <th></th>\n",
              "      <th></th>\n",
              "      <th></th>\n",
              "      <th></th>\n",
              "      <th></th>\n",
              "      <th></th>\n",
              "      <th></th>\n",
              "      <th></th>\n",
              "      <th></th>\n",
              "      <th></th>\n",
              "      <th></th>\n",
              "      <th></th>\n",
              "      <th></th>\n",
              "      <th></th>\n",
              "      <th></th>\n",
              "      <th></th>\n",
              "      <th></th>\n",
              "      <th></th>\n",
              "      <th></th>\n",
              "      <th></th>\n",
              "      <th></th>\n",
              "      <th></th>\n",
              "      <th></th>\n",
              "      <th></th>\n",
              "      <th></th>\n",
              "      <th></th>\n",
              "      <th></th>\n",
              "      <th></th>\n",
              "      <th></th>\n",
              "      <th></th>\n",
              "      <th></th>\n",
              "      <th></th>\n",
              "      <th></th>\n",
              "      <th></th>\n",
              "      <th></th>\n",
              "      <th></th>\n",
              "      <th></th>\n",
              "      <th></th>\n",
              "      <th></th>\n",
              "      <th></th>\n",
              "      <th></th>\n",
              "      <th></th>\n",
              "      <th></th>\n",
              "      <th></th>\n",
              "    </tr>\n",
              "  </thead>\n",
              "  <tbody>\n",
              "    <tr>\n",
              "      <th>April</th>\n",
              "      <td>0.0</td>\n",
              "      <td>2.0</td>\n",
              "      <td>24.0</td>\n",
              "      <td>5.0</td>\n",
              "      <td>1.0</td>\n",
              "      <td>0.0</td>\n",
              "      <td>11.0</td>\n",
              "      <td>0.0</td>\n",
              "      <td>0.0</td>\n",
              "      <td>0.0</td>\n",
              "      <td>0.0</td>\n",
              "      <td>175.0</td>\n",
              "      <td>0.0</td>\n",
              "      <td>1.0</td>\n",
              "      <td>11.0</td>\n",
              "      <td>72.0</td>\n",
              "      <td>0.0</td>\n",
              "      <td>1.0</td>\n",
              "      <td>8.0</td>\n",
              "      <td>0.0</td>\n",
              "      <td>0.0</td>\n",
              "      <td>1.0</td>\n",
              "      <td>4.0</td>\n",
              "      <td>290.0</td>\n",
              "      <td>2.0</td>\n",
              "      <td>19.0</td>\n",
              "      <td>38.0</td>\n",
              "      <td>0.0</td>\n",
              "      <td>3.0</td>\n",
              "      <td>2.0</td>\n",
              "      <td>0.0</td>\n",
              "      <td>0.0</td>\n",
              "      <td>2.0</td>\n",
              "      <td>0.0</td>\n",
              "      <td>0.0</td>\n",
              "      <td>8.0</td>\n",
              "      <td>0.0</td>\n",
              "      <td>17.0</td>\n",
              "      <td>0.0</td>\n",
              "      <td>0.0</td>\n",
              "      <td>...</td>\n",
              "      <td>11.0</td>\n",
              "      <td>0.0</td>\n",
              "      <td>11.0</td>\n",
              "      <td>0.0</td>\n",
              "      <td>0.0</td>\n",
              "      <td>19.0</td>\n",
              "      <td>1.0</td>\n",
              "      <td>0.0</td>\n",
              "      <td>0.0</td>\n",
              "      <td>0.0</td>\n",
              "      <td>41.0</td>\n",
              "      <td>0.0</td>\n",
              "      <td>0.0</td>\n",
              "      <td>0.0</td>\n",
              "      <td>0.0</td>\n",
              "      <td>0.0</td>\n",
              "      <td>0.0</td>\n",
              "      <td>14.0</td>\n",
              "      <td>57.0</td>\n",
              "      <td>13.0</td>\n",
              "      <td>17.0</td>\n",
              "      <td>0.0</td>\n",
              "      <td>8.0</td>\n",
              "      <td>20.0</td>\n",
              "      <td>17.0</td>\n",
              "      <td>0.0</td>\n",
              "      <td>11.0</td>\n",
              "      <td>0.0</td>\n",
              "      <td>73.0</td>\n",
              "      <td>0.0</td>\n",
              "      <td>8.0</td>\n",
              "      <td>20.0</td>\n",
              "      <td>22.0</td>\n",
              "      <td>22.0</td>\n",
              "      <td>0.0</td>\n",
              "      <td>0.0</td>\n",
              "      <td>7.0</td>\n",
              "      <td>0.0</td>\n",
              "      <td>0.0</td>\n",
              "      <td>(Item, Coffee)</td>\n",
              "    </tr>\n",
              "    <tr>\n",
              "      <th>December</th>\n",
              "      <td>0.0</td>\n",
              "      <td>0.0</td>\n",
              "      <td>45.0</td>\n",
              "      <td>0.0</td>\n",
              "      <td>6.0</td>\n",
              "      <td>0.0</td>\n",
              "      <td>0.0</td>\n",
              "      <td>8.0</td>\n",
              "      <td>3.0</td>\n",
              "      <td>0.0</td>\n",
              "      <td>0.0</td>\n",
              "      <td>625.0</td>\n",
              "      <td>0.0</td>\n",
              "      <td>1.0</td>\n",
              "      <td>37.0</td>\n",
              "      <td>141.0</td>\n",
              "      <td>0.0</td>\n",
              "      <td>0.0</td>\n",
              "      <td>0.0</td>\n",
              "      <td>0.0</td>\n",
              "      <td>0.0</td>\n",
              "      <td>0.0</td>\n",
              "      <td>0.0</td>\n",
              "      <td>932.0</td>\n",
              "      <td>0.0</td>\n",
              "      <td>34.0</td>\n",
              "      <td>68.0</td>\n",
              "      <td>6.0</td>\n",
              "      <td>6.0</td>\n",
              "      <td>0.0</td>\n",
              "      <td>0.0</td>\n",
              "      <td>6.0</td>\n",
              "      <td>0.0</td>\n",
              "      <td>4.0</td>\n",
              "      <td>0.0</td>\n",
              "      <td>0.0</td>\n",
              "      <td>0.0</td>\n",
              "      <td>76.0</td>\n",
              "      <td>11.0</td>\n",
              "      <td>26.0</td>\n",
              "      <td>...</td>\n",
              "      <td>141.0</td>\n",
              "      <td>0.0</td>\n",
              "      <td>20.0</td>\n",
              "      <td>0.0</td>\n",
              "      <td>6.0</td>\n",
              "      <td>42.0</td>\n",
              "      <td>0.0</td>\n",
              "      <td>0.0</td>\n",
              "      <td>0.0</td>\n",
              "      <td>5.0</td>\n",
              "      <td>129.0</td>\n",
              "      <td>0.0</td>\n",
              "      <td>6.0</td>\n",
              "      <td>0.0</td>\n",
              "      <td>0.0</td>\n",
              "      <td>0.0</td>\n",
              "      <td>0.0</td>\n",
              "      <td>0.0</td>\n",
              "      <td>129.0</td>\n",
              "      <td>34.0</td>\n",
              "      <td>69.0</td>\n",
              "      <td>0.0</td>\n",
              "      <td>9.0</td>\n",
              "      <td>0.0</td>\n",
              "      <td>0.0</td>\n",
              "      <td>1.0</td>\n",
              "      <td>0.0</td>\n",
              "      <td>2.0</td>\n",
              "      <td>235.0</td>\n",
              "      <td>0.0</td>\n",
              "      <td>10.0</td>\n",
              "      <td>0.0</td>\n",
              "      <td>65.0</td>\n",
              "      <td>27.0</td>\n",
              "      <td>0.0</td>\n",
              "      <td>0.0</td>\n",
              "      <td>0.0</td>\n",
              "      <td>33.0</td>\n",
              "      <td>0.0</td>\n",
              "      <td>(Item, Coffee)</td>\n",
              "    </tr>\n",
              "    <tr>\n",
              "      <th>February</th>\n",
              "      <td>0.0</td>\n",
              "      <td>13.0</td>\n",
              "      <td>112.0</td>\n",
              "      <td>0.0</td>\n",
              "      <td>5.0</td>\n",
              "      <td>0.0</td>\n",
              "      <td>60.0</td>\n",
              "      <td>1.0</td>\n",
              "      <td>2.0</td>\n",
              "      <td>0.0</td>\n",
              "      <td>0.0</td>\n",
              "      <td>620.0</td>\n",
              "      <td>0.0</td>\n",
              "      <td>0.0</td>\n",
              "      <td>78.0</td>\n",
              "      <td>255.0</td>\n",
              "      <td>0.0</td>\n",
              "      <td>0.0</td>\n",
              "      <td>48.0</td>\n",
              "      <td>0.0</td>\n",
              "      <td>0.0</td>\n",
              "      <td>7.0</td>\n",
              "      <td>0.0</td>\n",
              "      <td>1004.0</td>\n",
              "      <td>1.0</td>\n",
              "      <td>33.0</td>\n",
              "      <td>119.0</td>\n",
              "      <td>0.0</td>\n",
              "      <td>1.0</td>\n",
              "      <td>0.0</td>\n",
              "      <td>4.0</td>\n",
              "      <td>0.0</td>\n",
              "      <td>14.0</td>\n",
              "      <td>0.0</td>\n",
              "      <td>0.0</td>\n",
              "      <td>13.0</td>\n",
              "      <td>0.0</td>\n",
              "      <td>56.0</td>\n",
              "      <td>1.0</td>\n",
              "      <td>0.0</td>\n",
              "      <td>...</td>\n",
              "      <td>88.0</td>\n",
              "      <td>0.0</td>\n",
              "      <td>21.0</td>\n",
              "      <td>0.0</td>\n",
              "      <td>0.0</td>\n",
              "      <td>21.0</td>\n",
              "      <td>0.0</td>\n",
              "      <td>7.0</td>\n",
              "      <td>0.0</td>\n",
              "      <td>0.0</td>\n",
              "      <td>151.0</td>\n",
              "      <td>0.0</td>\n",
              "      <td>0.0</td>\n",
              "      <td>0.0</td>\n",
              "      <td>10.0</td>\n",
              "      <td>0.0</td>\n",
              "      <td>0.0</td>\n",
              "      <td>20.0</td>\n",
              "      <td>168.0</td>\n",
              "      <td>38.0</td>\n",
              "      <td>78.0</td>\n",
              "      <td>0.0</td>\n",
              "      <td>12.0</td>\n",
              "      <td>88.0</td>\n",
              "      <td>54.0</td>\n",
              "      <td>0.0</td>\n",
              "      <td>0.0</td>\n",
              "      <td>0.0</td>\n",
              "      <td>267.0</td>\n",
              "      <td>0.0</td>\n",
              "      <td>12.0</td>\n",
              "      <td>26.0</td>\n",
              "      <td>72.0</td>\n",
              "      <td>37.0</td>\n",
              "      <td>21.0</td>\n",
              "      <td>12.0</td>\n",
              "      <td>3.0</td>\n",
              "      <td>5.0</td>\n",
              "      <td>0.0</td>\n",
              "      <td>(Item, Coffee)</td>\n",
              "    </tr>\n",
              "    <tr>\n",
              "      <th>January</th>\n",
              "      <td>0.0</td>\n",
              "      <td>15.0</td>\n",
              "      <td>39.0</td>\n",
              "      <td>0.0</td>\n",
              "      <td>5.0</td>\n",
              "      <td>0.0</td>\n",
              "      <td>20.0</td>\n",
              "      <td>10.0</td>\n",
              "      <td>0.0</td>\n",
              "      <td>0.0</td>\n",
              "      <td>0.0</td>\n",
              "      <td>552.0</td>\n",
              "      <td>0.0</td>\n",
              "      <td>1.0</td>\n",
              "      <td>44.0</td>\n",
              "      <td>194.0</td>\n",
              "      <td>0.0</td>\n",
              "      <td>0.0</td>\n",
              "      <td>21.0</td>\n",
              "      <td>0.0</td>\n",
              "      <td>0.0</td>\n",
              "      <td>0.0</td>\n",
              "      <td>0.0</td>\n",
              "      <td>892.0</td>\n",
              "      <td>0.0</td>\n",
              "      <td>24.0</td>\n",
              "      <td>100.0</td>\n",
              "      <td>0.0</td>\n",
              "      <td>3.0</td>\n",
              "      <td>0.0</td>\n",
              "      <td>2.0</td>\n",
              "      <td>0.0</td>\n",
              "      <td>4.0</td>\n",
              "      <td>2.0</td>\n",
              "      <td>0.0</td>\n",
              "      <td>8.0</td>\n",
              "      <td>0.0</td>\n",
              "      <td>60.0</td>\n",
              "      <td>13.0</td>\n",
              "      <td>32.0</td>\n",
              "      <td>...</td>\n",
              "      <td>105.0</td>\n",
              "      <td>0.0</td>\n",
              "      <td>6.0</td>\n",
              "      <td>0.0</td>\n",
              "      <td>2.0</td>\n",
              "      <td>61.0</td>\n",
              "      <td>0.0</td>\n",
              "      <td>0.0</td>\n",
              "      <td>0.0</td>\n",
              "      <td>0.0</td>\n",
              "      <td>113.0</td>\n",
              "      <td>0.0</td>\n",
              "      <td>0.0</td>\n",
              "      <td>0.0</td>\n",
              "      <td>0.0</td>\n",
              "      <td>3.0</td>\n",
              "      <td>0.0</td>\n",
              "      <td>17.0</td>\n",
              "      <td>128.0</td>\n",
              "      <td>44.0</td>\n",
              "      <td>77.0</td>\n",
              "      <td>0.0</td>\n",
              "      <td>11.0</td>\n",
              "      <td>44.0</td>\n",
              "      <td>22.0</td>\n",
              "      <td>0.0</td>\n",
              "      <td>0.0</td>\n",
              "      <td>0.0</td>\n",
              "      <td>260.0</td>\n",
              "      <td>0.0</td>\n",
              "      <td>15.0</td>\n",
              "      <td>36.0</td>\n",
              "      <td>79.0</td>\n",
              "      <td>30.0</td>\n",
              "      <td>0.0</td>\n",
              "      <td>1.0</td>\n",
              "      <td>0.0</td>\n",
              "      <td>13.0</td>\n",
              "      <td>0.0</td>\n",
              "      <td>(Item, Coffee)</td>\n",
              "    </tr>\n",
              "    <tr>\n",
              "      <th>March</th>\n",
              "      <td>0.0</td>\n",
              "      <td>14.0</td>\n",
              "      <td>8.0</td>\n",
              "      <td>2.0</td>\n",
              "      <td>3.0</td>\n",
              "      <td>0.0</td>\n",
              "      <td>61.0</td>\n",
              "      <td>19.0</td>\n",
              "      <td>0.0</td>\n",
              "      <td>0.0</td>\n",
              "      <td>0.0</td>\n",
              "      <td>588.0</td>\n",
              "      <td>0.0</td>\n",
              "      <td>0.0</td>\n",
              "      <td>55.0</td>\n",
              "      <td>241.0</td>\n",
              "      <td>0.0</td>\n",
              "      <td>2.0</td>\n",
              "      <td>46.0</td>\n",
              "      <td>0.0</td>\n",
              "      <td>0.0</td>\n",
              "      <td>2.0</td>\n",
              "      <td>7.0</td>\n",
              "      <td>1071.0</td>\n",
              "      <td>4.0</td>\n",
              "      <td>45.0</td>\n",
              "      <td>117.0</td>\n",
              "      <td>0.0</td>\n",
              "      <td>1.0</td>\n",
              "      <td>6.0</td>\n",
              "      <td>6.0</td>\n",
              "      <td>0.0</td>\n",
              "      <td>5.0</td>\n",
              "      <td>0.0</td>\n",
              "      <td>0.0</td>\n",
              "      <td>9.0</td>\n",
              "      <td>0.0</td>\n",
              "      <td>41.0</td>\n",
              "      <td>0.0</td>\n",
              "      <td>0.0</td>\n",
              "      <td>...</td>\n",
              "      <td>50.0</td>\n",
              "      <td>0.0</td>\n",
              "      <td>32.0</td>\n",
              "      <td>5.0</td>\n",
              "      <td>0.0</td>\n",
              "      <td>71.0</td>\n",
              "      <td>0.0</td>\n",
              "      <td>1.0</td>\n",
              "      <td>0.0</td>\n",
              "      <td>0.0</td>\n",
              "      <td>185.0</td>\n",
              "      <td>0.0</td>\n",
              "      <td>0.0</td>\n",
              "      <td>0.0</td>\n",
              "      <td>0.0</td>\n",
              "      <td>0.0</td>\n",
              "      <td>1.0</td>\n",
              "      <td>48.0</td>\n",
              "      <td>183.0</td>\n",
              "      <td>27.0</td>\n",
              "      <td>86.0</td>\n",
              "      <td>0.0</td>\n",
              "      <td>24.0</td>\n",
              "      <td>84.0</td>\n",
              "      <td>79.0</td>\n",
              "      <td>0.0</td>\n",
              "      <td>0.0</td>\n",
              "      <td>0.0</td>\n",
              "      <td>258.0</td>\n",
              "      <td>0.0</td>\n",
              "      <td>10.0</td>\n",
              "      <td>57.0</td>\n",
              "      <td>80.0</td>\n",
              "      <td>48.0</td>\n",
              "      <td>0.0</td>\n",
              "      <td>0.0</td>\n",
              "      <td>6.0</td>\n",
              "      <td>3.0</td>\n",
              "      <td>0.0</td>\n",
              "      <td>(Item, Coffee)</td>\n",
              "    </tr>\n",
              "    <tr>\n",
              "      <th>November</th>\n",
              "      <td>1.0</td>\n",
              "      <td>0.0</td>\n",
              "      <td>141.0</td>\n",
              "      <td>0.0</td>\n",
              "      <td>18.0</td>\n",
              "      <td>1.0</td>\n",
              "      <td>0.0</td>\n",
              "      <td>10.0</td>\n",
              "      <td>0.0</td>\n",
              "      <td>4.0</td>\n",
              "      <td>2.0</td>\n",
              "      <td>712.0</td>\n",
              "      <td>4.0</td>\n",
              "      <td>0.0</td>\n",
              "      <td>154.0</td>\n",
              "      <td>116.0</td>\n",
              "      <td>3.0</td>\n",
              "      <td>0.0</td>\n",
              "      <td>0.0</td>\n",
              "      <td>0.0</td>\n",
              "      <td>2.0</td>\n",
              "      <td>0.0</td>\n",
              "      <td>0.0</td>\n",
              "      <td>1189.0</td>\n",
              "      <td>0.0</td>\n",
              "      <td>27.0</td>\n",
              "      <td>87.0</td>\n",
              "      <td>0.0</td>\n",
              "      <td>0.0</td>\n",
              "      <td>0.0</td>\n",
              "      <td>0.0</td>\n",
              "      <td>7.0</td>\n",
              "      <td>3.0</td>\n",
              "      <td>10.0</td>\n",
              "      <td>7.0</td>\n",
              "      <td>0.0</td>\n",
              "      <td>2.0</td>\n",
              "      <td>113.0</td>\n",
              "      <td>28.0</td>\n",
              "      <td>17.0</td>\n",
              "      <td>...</td>\n",
              "      <td>208.0</td>\n",
              "      <td>9.0</td>\n",
              "      <td>40.0</td>\n",
              "      <td>0.0</td>\n",
              "      <td>0.0</td>\n",
              "      <td>127.0</td>\n",
              "      <td>16.0</td>\n",
              "      <td>0.0</td>\n",
              "      <td>1.0</td>\n",
              "      <td>0.0</td>\n",
              "      <td>218.0</td>\n",
              "      <td>10.0</td>\n",
              "      <td>0.0</td>\n",
              "      <td>1.0</td>\n",
              "      <td>0.0</td>\n",
              "      <td>0.0</td>\n",
              "      <td>0.0</td>\n",
              "      <td>0.0</td>\n",
              "      <td>103.0</td>\n",
              "      <td>105.0</td>\n",
              "      <td>0.0</td>\n",
              "      <td>2.0</td>\n",
              "      <td>12.0</td>\n",
              "      <td>98.0</td>\n",
              "      <td>0.0</td>\n",
              "      <td>1.0</td>\n",
              "      <td>0.0</td>\n",
              "      <td>39.0</td>\n",
              "      <td>311.0</td>\n",
              "      <td>1.0</td>\n",
              "      <td>3.0</td>\n",
              "      <td>7.0</td>\n",
              "      <td>0.0</td>\n",
              "      <td>29.0</td>\n",
              "      <td>0.0</td>\n",
              "      <td>0.0</td>\n",
              "      <td>0.0</td>\n",
              "      <td>0.0</td>\n",
              "      <td>4.0</td>\n",
              "      <td>(Item, Coffee)</td>\n",
              "    </tr>\n",
              "    <tr>\n",
              "      <th>October</th>\n",
              "      <td>0.0</td>\n",
              "      <td>0.0</td>\n",
              "      <td>0.0</td>\n",
              "      <td>0.0</td>\n",
              "      <td>0.0</td>\n",
              "      <td>0.0</td>\n",
              "      <td>0.0</td>\n",
              "      <td>0.0</td>\n",
              "      <td>0.0</td>\n",
              "      <td>2.0</td>\n",
              "      <td>0.0</td>\n",
              "      <td>53.0</td>\n",
              "      <td>0.0</td>\n",
              "      <td>0.0</td>\n",
              "      <td>0.0</td>\n",
              "      <td>6.0</td>\n",
              "      <td>0.0</td>\n",
              "      <td>0.0</td>\n",
              "      <td>0.0</td>\n",
              "      <td>1.0</td>\n",
              "      <td>0.0</td>\n",
              "      <td>0.0</td>\n",
              "      <td>0.0</td>\n",
              "      <td>93.0</td>\n",
              "      <td>0.0</td>\n",
              "      <td>3.0</td>\n",
              "      <td>11.0</td>\n",
              "      <td>0.0</td>\n",
              "      <td>0.0</td>\n",
              "      <td>0.0</td>\n",
              "      <td>0.0</td>\n",
              "      <td>0.0</td>\n",
              "      <td>0.0</td>\n",
              "      <td>1.0</td>\n",
              "      <td>0.0</td>\n",
              "      <td>0.0</td>\n",
              "      <td>0.0</td>\n",
              "      <td>11.0</td>\n",
              "      <td>1.0</td>\n",
              "      <td>6.0</td>\n",
              "      <td>...</td>\n",
              "      <td>13.0</td>\n",
              "      <td>2.0</td>\n",
              "      <td>6.0</td>\n",
              "      <td>0.0</td>\n",
              "      <td>0.0</td>\n",
              "      <td>29.0</td>\n",
              "      <td>1.0</td>\n",
              "      <td>0.0</td>\n",
              "      <td>0.0</td>\n",
              "      <td>0.0</td>\n",
              "      <td>19.0</td>\n",
              "      <td>2.0</td>\n",
              "      <td>0.0</td>\n",
              "      <td>0.0</td>\n",
              "      <td>0.0</td>\n",
              "      <td>0.0</td>\n",
              "      <td>0.0</td>\n",
              "      <td>0.0</td>\n",
              "      <td>3.0</td>\n",
              "      <td>16.0</td>\n",
              "      <td>0.0</td>\n",
              "      <td>0.0</td>\n",
              "      <td>1.0</td>\n",
              "      <td>8.0</td>\n",
              "      <td>0.0</td>\n",
              "      <td>0.0</td>\n",
              "      <td>0.0</td>\n",
              "      <td>6.0</td>\n",
              "      <td>31.0</td>\n",
              "      <td>0.0</td>\n",
              "      <td>0.0</td>\n",
              "      <td>0.0</td>\n",
              "      <td>0.0</td>\n",
              "      <td>0.0</td>\n",
              "      <td>0.0</td>\n",
              "      <td>0.0</td>\n",
              "      <td>0.0</td>\n",
              "      <td>0.0</td>\n",
              "      <td>3.0</td>\n",
              "      <td>(Item, Coffee)</td>\n",
              "    </tr>\n",
              "  </tbody>\n",
              "</table>\n",
              "<p>7 rows × 95 columns</p>\n",
              "</div>"
            ],
            "text/plain": [
              "                 Item                           ...                              Max\n",
              "Item       Adjustment Afternoon with the baker  ... Victorian Sponge                \n",
              "Month_name                                      ...                                 \n",
              "April             0.0                      2.0  ...              0.0  (Item, Coffee)\n",
              "December          0.0                      0.0  ...              0.0  (Item, Coffee)\n",
              "February          0.0                     13.0  ...              0.0  (Item, Coffee)\n",
              "January           0.0                     15.0  ...              0.0  (Item, Coffee)\n",
              "March             0.0                     14.0  ...              0.0  (Item, Coffee)\n",
              "November          1.0                      0.0  ...              4.0  (Item, Coffee)\n",
              "October           0.0                      0.0  ...              3.0  (Item, Coffee)\n",
              "\n",
              "[7 rows x 95 columns]"
            ]
          },
          "metadata": {
            "tags": []
          },
          "execution_count": 15
        }
      ]
    },
    {
      "cell_type": "markdown",
      "metadata": {
        "id": "dQ43HK2Fm-Dm",
        "colab_type": "text"
      },
      "source": [
        "El cafe el el producto que mas se vende cada mes."
      ]
    },
    {
      "cell_type": "markdown",
      "metadata": {
        "id": "y_x0ARWGqKxO",
        "colab_type": "text"
      },
      "source": [
        "# **Reglas de asociación**"
      ]
    },
    {
      "cell_type": "markdown",
      "metadata": {
        "_uuid": "1ff52907024f1d783c764a90e02a5df81e249af1",
        "id": "PWT7Pkrw3wiT",
        "colab_type": "text"
      },
      "source": [
        "\n",
        "\n",
        "Se realiza un análisis de reglas de asociación de los productos. Las métricas a medir la asociación son:\n",
        "1. Soporte: es la medida de frecuencia o abundancia de un elemento en un conjunto de datos. Puede ser 'soporte antecedente', 'soporte consecuente' y 'soporte'. El 'soporte antecedente' contiene la proporción de transacciones realizadas para el antecedente, mientras que el 'soporte consecuente' involucra a las correspondientes. El 'soporte' se calcula tanto para el antecedente como para el consecuente en cuestión.\n",
        "2. Confianza: esto da la probabilidad de consecuente en una transacción dada la presencia de antecedente.\n",
        "3. Interés: dado que los antecedentes y los consecuentes son independientes, con qué frecuencia se juntan / compran juntos.\n",
        "4. Apalancamiento: es la diferencia entre la frecuencia del antecedente y el consecuente juntos en transacciones a la frecuencia de ambos en transacciones independientes.\n",
        "5. Convicción: un puntaje de convicción más alto significa que el consecuente depende mucho del antecedente.\n",
        "\n",
        "El algoritmo se utiliza para extraer conjuntos de elementos frecuentes que se utilizan para el análisis de reglas de asociación. En este algoritmo, el usuario define un soporte mínimo que es el umbral mínimo que decide si un conjunto de elementos se considera \"frecuente\"."
      ]
    },
    {
      "cell_type": "markdown",
      "metadata": {
        "_uuid": "faf36723fef924e995b822a44a20895689de0cda",
        "id": "ZkEx9_7L3wiU",
        "colab_type": "text"
      },
      "source": [
        "Inicialmente se hace un conjunto de datos que contiene listas de artículos que se compraron juntos."
      ]
    },
    {
      "cell_type": "code",
      "metadata": {
        "trusted": true,
        "_uuid": "2c6f412dea9c31fe5fe4624c86c50990c0f645db",
        "id": "EFOU3NAb3wiV",
        "colab_type": "code",
        "colab": {
          "base_uri": "https://localhost:8080/",
          "height": 50
        },
        "outputId": "c6a14999-3854-4117-ed89-5a1446cdd940"
      },
      "source": [
        "lst=[]\n",
        "for item in data['Transaction'].unique():\n",
        "    lst2=list(set(data[data['Transaction']==item]['Item']))\n",
        "    if len(lst2)>0:\n",
        "        lst.append(lst2)\n",
        "print(lst[0:3])\n",
        "print(len(lst))"
      ],
      "execution_count": 16,
      "outputs": [
        {
          "output_type": "stream",
          "text": [
            "[['Bread'], ['Scandinavian'], ['Hot chocolate', 'Cookies', 'Jam']]\n",
            "9465\n"
          ],
          "name": "stdout"
        }
      ]
    },
    {
      "cell_type": "markdown",
      "metadata": {
        "_uuid": "b870d4578e1b09804d639e3883573e68c6fb2bb5",
        "id": "j41BwpF73wiX",
        "colab_type": "text"
      },
      "source": [
        "Para el algoritmo Apriori, este conjunto de datos debe estar codificado. Esto se realiza utilizando TransactionEncoder como se muestra aquí, seguido de un algoritmo para obtener los conjuntos de elementos frecuentes. Luego se utiliza la función de reglas de asociación que puede tomar cualquier métrica. Aquí he usado 'lift' y he especificado el umbral mínimo como 1.  "
      ]
    },
    {
      "cell_type": "code",
      "metadata": {
        "id": "96rxebn9rz2y",
        "colab_type": "code",
        "colab": {
          "base_uri": "https://localhost:8080/",
          "height": 390
        },
        "outputId": "fc38e6d5-7acf-4779-be80-4cd7bc60439d"
      },
      "source": [
        "# Los artículos más frecuentes\n",
        "rules = apriori(lst, min_support=0.006, min_confidence=0.25, min_lift=1, min_length=1)\n",
        "rules = list(rules)\n",
        "rules"
      ],
      "execution_count": 17,
      "outputs": [
        {
          "output_type": "execute_result",
          "data": {
            "text/plain": [
              "[RelationRecord(items=frozenset({'Bread'}), support=0.32720549392498677, ordered_statistics=[OrderedStatistic(items_base=frozenset(), items_add=frozenset({'Bread'}), confidence=0.32720549392498677, lift=1.0)]),\n",
              " RelationRecord(items=frozenset({'Coffee'}), support=0.47839408346539886, ordered_statistics=[OrderedStatistic(items_base=frozenset(), items_add=frozenset({'Coffee'}), confidence=0.47839408346539886, lift=1.0)]),\n",
              " RelationRecord(items=frozenset({'Coffee', 'Alfajores'}), support=0.0196513470681458, ordered_statistics=[OrderedStatistic(items_base=frozenset({'Alfajores'}), items_add=frozenset({'Coffee'}), confidence=0.5406976744186046, lift=1.1302348693401265)]),\n",
              " RelationRecord(items=frozenset({'Pastry', 'Bread'}), support=0.029160063391442156, ordered_statistics=[OrderedStatistic(items_base=frozenset({'Pastry'}), items_add=frozenset({'Bread'}), confidence=0.33865030674846625, lift=1.0349774470049187)]),\n",
              " RelationRecord(items=frozenset({'Coffee', 'Brownie'}), support=0.0196513470681458, ordered_statistics=[OrderedStatistic(items_base=frozenset({'Brownie'}), items_add=frozenset({'Coffee'}), confidence=0.4907651715039578, lift=1.025859617554099)]),\n",
              " RelationRecord(items=frozenset({'Cake', 'Coffee'}), support=0.054727945060750134, ordered_statistics=[OrderedStatistic(items_base=frozenset({'Cake'}), items_add=frozenset({'Coffee'}), confidence=0.5269582909460835, lift=1.1015150670946732)]),\n",
              " RelationRecord(items=frozenset({'Coffee', 'Cookies'}), support=0.02820919175911252, ordered_statistics=[OrderedStatistic(items_base=frozenset({'Cookies'}), items_add=frozenset({'Coffee'}), confidence=0.5184466019417476, lift=1.083722854986449)]),\n",
              " RelationRecord(items=frozenset({'Coffee', 'Hot chocolate'}), support=0.029582673005810883, ordered_statistics=[OrderedStatistic(items_base=frozenset({'Hot chocolate'}), items_add=frozenset({'Coffee'}), confidence=0.5072463768115942, lift=1.0603107236134584)]),\n",
              " RelationRecord(items=frozenset({'Coffee', 'Jammie Dodgers'}), support=0.006656101426307449, ordered_statistics=[OrderedStatistic(items_base=frozenset({'Jammie Dodgers'}), items_add=frozenset({'Coffee'}), confidence=0.504, lift=1.053524734982332)]),\n",
              " RelationRecord(items=frozenset({'Coffee', 'Juice'}), support=0.020602218700475437, ordered_statistics=[OrderedStatistic(items_base=frozenset({'Juice'}), items_add=frozenset({'Coffee'}), confidence=0.5342465753424658, lift=1.11674996369621)]),\n",
              " RelationRecord(items=frozenset({'Coffee', 'Medialuna'}), support=0.03518225039619651, ordered_statistics=[OrderedStatistic(items_base=frozenset({'Medialuna'}), items_add=frozenset({'Coffee'}), confidence=0.5692307692307692, lift=1.1898783636857841)]),\n",
              " RelationRecord(items=frozenset({'Coffee', 'Muffin'}), support=0.018806127839408347, ordered_statistics=[OrderedStatistic(items_base=frozenset({'Muffin'}), items_add=frozenset({'Coffee'}), confidence=0.489010989010989, lift=1.0221928027802585)]),\n",
              " RelationRecord(items=frozenset({'Coffee', 'Pastry'}), support=0.04754358161648178, ordered_statistics=[OrderedStatistic(items_base=frozenset({'Pastry'}), items_add=frozenset({'Coffee'}), confidence=0.5521472392638037, lift=1.154168202215526)]),\n",
              " RelationRecord(items=frozenset({'Coffee', 'Salad'}), support=0.006550449022715267, ordered_statistics=[OrderedStatistic(items_base=frozenset({'Salad'}), items_add=frozenset({'Coffee'}), confidence=0.6262626262626263, lift=1.309093586037049)]),\n",
              " RelationRecord(items=frozenset({'Coffee', 'Sandwich'}), support=0.038246170100369785, ordered_statistics=[OrderedStatistic(items_base=frozenset({'Sandwich'}), items_add=frozenset({'Coffee'}), confidence=0.5323529411764706, lift=1.1127916493452503)]),\n",
              " RelationRecord(items=frozenset({'Coffee', 'Scone'}), support=0.018066561014263075, ordered_statistics=[OrderedStatistic(items_base=frozenset({'Scone'}), items_add=frozenset({'Coffee'}), confidence=0.5229357798165138, lift=1.0931067040554998)]),\n",
              " RelationRecord(items=frozenset({'Coffee', 'Spanish Brunch'}), support=0.010882197569994718, ordered_statistics=[OrderedStatistic(items_base=frozenset({'Spanish Brunch'}), items_add=frozenset({'Coffee'}), confidence=0.5988372093023255, lift=1.2517655004519679)]),\n",
              " RelationRecord(items=frozenset({'Coffee', 'Tiffin'}), support=0.008452192287374538, ordered_statistics=[OrderedStatistic(items_base=frozenset({'Tiffin'}), items_add=frozenset({'Coffee'}), confidence=0.547945205479452, lift=1.1453845781499588)]),\n",
              " RelationRecord(items=frozenset({'Coffee', 'Toast'}), support=0.023666138404648707, ordered_statistics=[OrderedStatistic(items_base=frozenset({'Toast'}), items_add=frozenset({'Coffee'}), confidence=0.7044025157232704, lift=1.4724314954330286)]),\n",
              " RelationRecord(items=frozenset({'Tea', 'Soup'}), support=0.009086106708927628, ordered_statistics=[OrderedStatistic(items_base=frozenset({'Soup'}), items_add=frozenset({'Tea'}), confidence=0.26380368098159507, lift=1.8495569188820722)]),\n",
              " RelationRecord(items=frozenset({'Cake', 'Hot chocolate', 'Coffee'}), support=0.006867406233491812, ordered_statistics=[OrderedStatistic(items_base=frozenset({'Cake', 'Hot chocolate'}), items_add=frozenset({'Coffee'}), confidence=0.6018518518518519, lift=1.2580670887318413)])]"
            ]
          },
          "metadata": {
            "tags": []
          },
          "execution_count": 17
        }
      ]
    },
    {
      "cell_type": "code",
      "metadata": {
        "id": "ww0lgKxsr1PP",
        "colab_type": "code",
        "colab": {
          "base_uri": "https://localhost:8080/",
          "height": 370
        },
        "outputId": "c53c2f65-09bf-4174-8f38-5e07c59d9310"
      },
      "source": [
        "# los artículos con su antecedente y consecuente y sus respectivas métricas\n",
        "for item in rules:\n",
        "    inner_rule = item[2]\n",
        "    items = [x for x in inner_rule]\n",
        "    print(items)"
      ],
      "execution_count": 18,
      "outputs": [
        {
          "output_type": "stream",
          "text": [
            "[OrderedStatistic(items_base=frozenset(), items_add=frozenset({'Bread'}), confidence=0.32720549392498677, lift=1.0)]\n",
            "[OrderedStatistic(items_base=frozenset(), items_add=frozenset({'Coffee'}), confidence=0.47839408346539886, lift=1.0)]\n",
            "[OrderedStatistic(items_base=frozenset({'Alfajores'}), items_add=frozenset({'Coffee'}), confidence=0.5406976744186046, lift=1.1302348693401265)]\n",
            "[OrderedStatistic(items_base=frozenset({'Pastry'}), items_add=frozenset({'Bread'}), confidence=0.33865030674846625, lift=1.0349774470049187)]\n",
            "[OrderedStatistic(items_base=frozenset({'Brownie'}), items_add=frozenset({'Coffee'}), confidence=0.4907651715039578, lift=1.025859617554099)]\n",
            "[OrderedStatistic(items_base=frozenset({'Cake'}), items_add=frozenset({'Coffee'}), confidence=0.5269582909460835, lift=1.1015150670946732)]\n",
            "[OrderedStatistic(items_base=frozenset({'Cookies'}), items_add=frozenset({'Coffee'}), confidence=0.5184466019417476, lift=1.083722854986449)]\n",
            "[OrderedStatistic(items_base=frozenset({'Hot chocolate'}), items_add=frozenset({'Coffee'}), confidence=0.5072463768115942, lift=1.0603107236134584)]\n",
            "[OrderedStatistic(items_base=frozenset({'Jammie Dodgers'}), items_add=frozenset({'Coffee'}), confidence=0.504, lift=1.053524734982332)]\n",
            "[OrderedStatistic(items_base=frozenset({'Juice'}), items_add=frozenset({'Coffee'}), confidence=0.5342465753424658, lift=1.11674996369621)]\n",
            "[OrderedStatistic(items_base=frozenset({'Medialuna'}), items_add=frozenset({'Coffee'}), confidence=0.5692307692307692, lift=1.1898783636857841)]\n",
            "[OrderedStatistic(items_base=frozenset({'Muffin'}), items_add=frozenset({'Coffee'}), confidence=0.489010989010989, lift=1.0221928027802585)]\n",
            "[OrderedStatistic(items_base=frozenset({'Pastry'}), items_add=frozenset({'Coffee'}), confidence=0.5521472392638037, lift=1.154168202215526)]\n",
            "[OrderedStatistic(items_base=frozenset({'Salad'}), items_add=frozenset({'Coffee'}), confidence=0.6262626262626263, lift=1.309093586037049)]\n",
            "[OrderedStatistic(items_base=frozenset({'Sandwich'}), items_add=frozenset({'Coffee'}), confidence=0.5323529411764706, lift=1.1127916493452503)]\n",
            "[OrderedStatistic(items_base=frozenset({'Scone'}), items_add=frozenset({'Coffee'}), confidence=0.5229357798165138, lift=1.0931067040554998)]\n",
            "[OrderedStatistic(items_base=frozenset({'Spanish Brunch'}), items_add=frozenset({'Coffee'}), confidence=0.5988372093023255, lift=1.2517655004519679)]\n",
            "[OrderedStatistic(items_base=frozenset({'Tiffin'}), items_add=frozenset({'Coffee'}), confidence=0.547945205479452, lift=1.1453845781499588)]\n",
            "[OrderedStatistic(items_base=frozenset({'Toast'}), items_add=frozenset({'Coffee'}), confidence=0.7044025157232704, lift=1.4724314954330286)]\n",
            "[OrderedStatistic(items_base=frozenset({'Soup'}), items_add=frozenset({'Tea'}), confidence=0.26380368098159507, lift=1.8495569188820722)]\n",
            "[OrderedStatistic(items_base=frozenset({'Cake', 'Hot chocolate'}), items_add=frozenset({'Coffee'}), confidence=0.6018518518518519, lift=1.2580670887318413)]\n"
          ],
          "name": "stdout"
        }
      ]
    },
    {
      "cell_type": "markdown",
      "metadata": {
        "_uuid": "8101fa722db80de048f2c9041ad7e61baded9cc1",
        "id": "O71sGsp33wif",
        "colab_type": "text"
      },
      "source": [
        "El café es el más vendido de esta panadería y muestra asociación con 4 artículos: pastelería, pastel, medialuna y sándwich.\n",
        "Hay un par de estrategias que la panadería puede adoptar para aumentar sus ventas teniendo en cuenta la asociación que hemos visto con el café.\n"
      ]
    }
  ]
}