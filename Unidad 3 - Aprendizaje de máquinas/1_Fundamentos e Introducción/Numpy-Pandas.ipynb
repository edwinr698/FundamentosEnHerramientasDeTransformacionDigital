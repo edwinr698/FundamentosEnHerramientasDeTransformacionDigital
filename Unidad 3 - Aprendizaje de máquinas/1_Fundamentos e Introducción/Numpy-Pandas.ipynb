{
  "nbformat": 4,
  "nbformat_minor": 0,
  "metadata": {
    "colab": {
      "name": "Numpy-Pandas.ipynb",
      "provenance": [],
      "collapsed_sections": [],
      "include_colab_link": true
    },
    "kernelspec": {
      "name": "python3",
      "display_name": "Python 3"
    }
  },
  "cells": [
    {
      "cell_type": "markdown",
      "metadata": {
        "id": "view-in-github",
        "colab_type": "text"
      },
      "source": [
        "<a href=\"https://colab.research.google.com/github/jaguzman/FundamentosEnHerramientasDeTransformacionDigital/blob/master/Unidad%203%20-%20Aprendizaje%20de%20m%C3%A1quinas/1_Fundamentos%20e%20Introducci%C3%B3n/Numpy-Pandas.ipynb\" target=\"_parent\"><img src=\"https://colab.research.google.com/assets/colab-badge.svg\" alt=\"Open In Colab\"/></a>"
      ]
    },
    {
      "cell_type": "markdown",
      "metadata": {
        "id": "93MBUWzggaRF",
        "colab_type": "text"
      },
      "source": [
        "**CONTENIDO**\n",
        "\n",
        "*   Numpy\n",
        "*   Pandas\n",
        "*   Matplot"
      ]
    },
    {
      "cell_type": "markdown",
      "metadata": {
        "id": "AV70djcDDwBq",
        "colab_type": "text"
      },
      "source": [
        "Numpy\n",
        "\n",
        "Es una biblioteca de python para la computación de alto nivel de vectores y matrices. Algunas de sus características son:\n",
        "\n",
        "* Un poderoso manejo de matrices N-dimensional.\n",
        "* Funciones sofisticadas.\n",
        "* Herramientas para integrar código C / C ++.\n",
        "* Álgebra lineal, transformada de Fourier y capacidades de números aleatorios.\n",
        "\n",
        "También se puede utilizar como un contenedor eficiente multidimensional de datos genéricos. Se pueden definir tipos de datos arbitrarios. Esto permite que NumPy se integre sin problemas y rápidamente con una amplia variedad de bases de datos.\n",
        "\n",
        "\n"
      ]
    },
    {
      "cell_type": "code",
      "metadata": {
        "id": "jXNtQpMcDcly",
        "colab_type": "code",
        "colab": {}
      },
      "source": [
        "# Importar la librería\n",
        "import numpy as np"
      ],
      "execution_count": null,
      "outputs": []
    },
    {
      "cell_type": "code",
      "metadata": {
        "id": "Kf9DKluiEYEO",
        "colab_type": "code",
        "colab": {
          "base_uri": "https://localhost:8080/",
          "height": 34
        },
        "outputId": "e54df1f4-b8ed-4a0b-cebc-0f4e8476aed7"
      },
      "source": [
        "# Lista normal de python\n",
        "lista = [1, 2, 3, 4, 5]\n",
        "lista"
      ],
      "execution_count": null,
      "outputs": [
        {
          "output_type": "execute_result",
          "data": {
            "text/plain": [
              "[1, 2, 3, 4, 5]"
            ]
          },
          "metadata": {
            "tags": []
          },
          "execution_count": 2
        }
      ]
    },
    {
      "cell_type": "code",
      "metadata": {
        "id": "dmmsK98_EKg-",
        "colab_type": "code",
        "colab": {
          "base_uri": "https://localhost:8080/",
          "height": 34
        },
        "outputId": "77abbc0a-bb6c-4989-b935-171baf8551a6"
      },
      "source": [
        "# Convertir una lista a arreglos de np\n",
        "arreglo1 = np.array(lista)\n",
        "arreglo1"
      ],
      "execution_count": null,
      "outputs": [
        {
          "output_type": "execute_result",
          "data": {
            "text/plain": [
              "array([1, 2, 3, 4, 5])"
            ]
          },
          "metadata": {
            "tags": []
          },
          "execution_count": 3
        }
      ]
    },
    {
      "cell_type": "code",
      "metadata": {
        "id": "TqaTVzfnElbo",
        "colab_type": "code",
        "colab": {
          "base_uri": "https://localhost:8080/",
          "height": 34
        },
        "outputId": "81540b3c-92a9-4085-cb31-7f6b89f61048"
      },
      "source": [
        "# También se puede crear de manera compacta\n",
        "arreglo2 = np.array([4, 5, 6, 7, 9])\n",
        "arreglo2"
      ],
      "execution_count": null,
      "outputs": [
        {
          "output_type": "execute_result",
          "data": {
            "text/plain": [
              "array([4, 5, 6, 7, 9])"
            ]
          },
          "metadata": {
            "tags": []
          },
          "execution_count": 4
        }
      ]
    },
    {
      "cell_type": "code",
      "metadata": {
        "id": "CoB5FZKFFCnZ",
        "colab_type": "code",
        "colab": {
          "base_uri": "https://localhost:8080/",
          "height": 34
        },
        "outputId": "00f1eefd-0821-4178-9791-ab58717fd1ec"
      },
      "source": [
        "# Podemos sumar todos los elementos de un array\n",
        "arreglo1.sum()"
      ],
      "execution_count": null,
      "outputs": [
        {
          "output_type": "execute_result",
          "data": {
            "text/plain": [
              "15"
            ]
          },
          "metadata": {
            "tags": []
          },
          "execution_count": 5
        }
      ]
    },
    {
      "cell_type": "code",
      "metadata": {
        "id": "Tl8WgeNTKnNw",
        "colab_type": "code",
        "colab": {
          "base_uri": "https://localhost:8080/",
          "height": 34
        },
        "outputId": "34da984d-2c61-4f71-a8f0-f2bf66c1479f"
      },
      "source": [
        "# Es equivalente a\n",
        "np.sum(arreglo1)"
      ],
      "execution_count": null,
      "outputs": [
        {
          "output_type": "execute_result",
          "data": {
            "text/plain": [
              "15"
            ]
          },
          "metadata": {
            "tags": []
          },
          "execution_count": 6
        }
      ]
    },
    {
      "cell_type": "code",
      "metadata": {
        "id": "6YOwjUMEFLNs",
        "colab_type": "code",
        "colab": {
          "base_uri": "https://localhost:8080/",
          "height": 34
        },
        "outputId": "e82fb34d-343b-4639-dbc7-9eace44a40f8"
      },
      "source": [
        "# También podemos crear el array y sumar en una misma linea\n",
        "np.sum([8, 9, 10])"
      ],
      "execution_count": null,
      "outputs": [
        {
          "output_type": "execute_result",
          "data": {
            "text/plain": [
              "27"
            ]
          },
          "metadata": {
            "tags": []
          },
          "execution_count": 7
        }
      ]
    },
    {
      "cell_type": "code",
      "metadata": {
        "id": "LLhAT1a8KeJB",
        "colab_type": "code",
        "colab": {
          "base_uri": "https://localhost:8080/",
          "height": 34
        },
        "outputId": "c46e139b-2b25-4cb5-c0a8-a51367dc3e0d"
      },
      "source": [
        "# Existen otras funciones como la desviación estándar\n",
        "arreglo1.std()"
      ],
      "execution_count": null,
      "outputs": [
        {
          "output_type": "execute_result",
          "data": {
            "text/plain": [
              "1.4142135623730951"
            ]
          },
          "metadata": {
            "tags": []
          },
          "execution_count": 8
        }
      ]
    },
    {
      "cell_type": "code",
      "metadata": {
        "id": "LscNvp90Kv3z",
        "colab_type": "code",
        "colab": {
          "base_uri": "https://localhost:8080/",
          "height": 34
        },
        "outputId": "b57f97ec-3897-439d-cf33-9d0ffab75e34"
      },
      "source": [
        "# o la media\n",
        "arreglo1.mean()"
      ],
      "execution_count": null,
      "outputs": [
        {
          "output_type": "execute_result",
          "data": {
            "text/plain": [
              "3.0"
            ]
          },
          "metadata": {
            "tags": []
          },
          "execution_count": 9
        }
      ]
    },
    {
      "cell_type": "code",
      "metadata": {
        "id": "ZMYX7tq2FhaW",
        "colab_type": "code",
        "colab": {
          "base_uri": "https://localhost:8080/",
          "height": 34
        },
        "outputId": "6463923b-c1b1-4bdc-c9ba-2d18719df917"
      },
      "source": [
        "# Es posible sumar fácilmente sumar dos arreglos\n",
        "arreglo3 = np.add(arreglo1, arreglo2)\n",
        "arreglo3"
      ],
      "execution_count": null,
      "outputs": [
        {
          "output_type": "execute_result",
          "data": {
            "text/plain": [
              "array([ 5,  7,  9, 11, 14])"
            ]
          },
          "metadata": {
            "tags": []
          },
          "execution_count": 10
        }
      ]
    },
    {
      "cell_type": "code",
      "metadata": {
        "id": "FbC-g1VKFtJk",
        "colab_type": "code",
        "colab": {
          "base_uri": "https://localhost:8080/",
          "height": 68
        },
        "outputId": "e964f8a6-6c6c-4ebf-9b92-83ae26fa5bca"
      },
      "source": [
        "# Podemos crear matrices\n",
        "matriz1 = np.array([[2, 3, 2], [1, 4, 3], [4, 5, 6]])\n",
        "matriz1"
      ],
      "execution_count": null,
      "outputs": [
        {
          "output_type": "execute_result",
          "data": {
            "text/plain": [
              "array([[2, 3, 2],\n",
              "       [1, 4, 3],\n",
              "       [4, 5, 6]])"
            ]
          },
          "metadata": {
            "tags": []
          },
          "execution_count": 12
        }
      ]
    },
    {
      "cell_type": "code",
      "metadata": {
        "id": "Yo23vOIeGNSr",
        "colab_type": "code",
        "colab": {
          "base_uri": "https://localhost:8080/",
          "height": 34
        },
        "outputId": "dcb57e56-1197-40d1-fbfc-019c298f5981"
      },
      "source": [
        "# Sumatoria de matrices completa\n",
        "np.sum(matriz1)"
      ],
      "execution_count": null,
      "outputs": [
        {
          "output_type": "execute_result",
          "data": {
            "text/plain": [
              "30"
            ]
          },
          "metadata": {
            "tags": []
          },
          "execution_count": 12
        }
      ]
    },
    {
      "cell_type": "code",
      "metadata": {
        "id": "huR32tVEGxZT",
        "colab_type": "code",
        "colab": {
          "base_uri": "https://localhost:8080/",
          "height": 34
        },
        "outputId": "fb84f24a-65d5-43c9-8940-42079c114645"
      },
      "source": [
        "# Sumatoria de matriz vertical\n",
        "np.sum(matriz1, axis=0)"
      ],
      "execution_count": null,
      "outputs": [
        {
          "output_type": "execute_result",
          "data": {
            "text/plain": [
              "array([ 7, 12, 11])"
            ]
          },
          "metadata": {
            "tags": []
          },
          "execution_count": 13
        }
      ]
    },
    {
      "cell_type": "code",
      "metadata": {
        "id": "OUBrypdRG15C",
        "colab_type": "code",
        "colab": {
          "base_uri": "https://localhost:8080/",
          "height": 34
        },
        "outputId": "06346ecf-554f-4d40-8001-9671008ab33d"
      },
      "source": [
        "# Sumatoria de matriz horizontal\n",
        "np.sum(matriz1, axis=1)"
      ],
      "execution_count": null,
      "outputs": [
        {
          "output_type": "execute_result",
          "data": {
            "text/plain": [
              "array([ 7,  8, 15])"
            ]
          },
          "metadata": {
            "tags": []
          },
          "execution_count": 14
        }
      ]
    },
    {
      "cell_type": "code",
      "metadata": {
        "id": "hJGYWfgHHNkB",
        "colab_type": "code",
        "colab": {
          "base_uri": "https://localhost:8080/",
          "height": 34
        },
        "outputId": "4ce7904f-52c6-4970-b008-80a630c56b64"
      },
      "source": [
        "# Obtener una fila con todas sus columnas. \n",
        "# Los indices inician en 0, por lo que el siguiente código muestra la segunda fila\n",
        "matriz1[1, :]"
      ],
      "execution_count": null,
      "outputs": [
        {
          "output_type": "execute_result",
          "data": {
            "text/plain": [
              "array([1, 4, 3])"
            ]
          },
          "metadata": {
            "tags": []
          },
          "execution_count": 15
        }
      ]
    },
    {
      "cell_type": "code",
      "metadata": {
        "id": "-LXoGXGxHphl",
        "colab_type": "code",
        "colab": {
          "base_uri": "https://localhost:8080/",
          "height": 34
        },
        "outputId": "feeccb83-d34c-4788-cb6d-783afd80c389"
      },
      "source": [
        "# Obtener una columna con todas las filas\n",
        "matriz1[:, 2]"
      ],
      "execution_count": null,
      "outputs": [
        {
          "output_type": "execute_result",
          "data": {
            "text/plain": [
              "array([2, 3, 6])"
            ]
          },
          "metadata": {
            "tags": []
          },
          "execution_count": 16
        }
      ]
    },
    {
      "cell_type": "code",
      "metadata": {
        "id": "cJOG-z7gLwuW",
        "colab_type": "code",
        "colab": {
          "base_uri": "https://localhost:8080/",
          "height": 34
        },
        "outputId": "013b7c22-2bf0-45ef-cda6-8cc48d4b10c1"
      },
      "source": [
        "# O un valor especifico de una celda\n",
        "matriz1[1, 2]"
      ],
      "execution_count": null,
      "outputs": [
        {
          "output_type": "execute_result",
          "data": {
            "text/plain": [
              "3"
            ]
          },
          "metadata": {
            "tags": []
          },
          "execution_count": 17
        }
      ]
    },
    {
      "cell_type": "code",
      "metadata": {
        "id": "xYJo5E-VL1XN",
        "colab_type": "code",
        "colab": {
          "base_uri": "https://localhost:8080/",
          "height": 50
        },
        "outputId": "79d36d4e-6968-4a00-b5ee-6271ddd84ef3"
      },
      "source": [
        "# Con la sintaxis : se pueden obtener rangos \n",
        "matriz1[0:2, :]"
      ],
      "execution_count": null,
      "outputs": [
        {
          "output_type": "execute_result",
          "data": {
            "text/plain": [
              "array([[2, 3, 2],\n",
              "       [1, 4, 3]])"
            ]
          },
          "metadata": {
            "tags": []
          },
          "execution_count": 18
        }
      ]
    },
    {
      "cell_type": "code",
      "metadata": {
        "id": "kiu1VIXtMIpn",
        "colab_type": "code",
        "colab": {
          "base_uri": "https://localhost:8080/",
          "height": 50
        },
        "outputId": "8806d06f-a165-4649-c87c-a838c770c2b9"
      },
      "source": [
        "matriz1[0:2, 2:3]"
      ],
      "execution_count": null,
      "outputs": [
        {
          "output_type": "execute_result",
          "data": {
            "text/plain": [
              "array([[2],\n",
              "       [3]])"
            ]
          },
          "metadata": {
            "tags": []
          },
          "execution_count": 19
        }
      ]
    },
    {
      "cell_type": "code",
      "metadata": {
        "id": "K_11km2z-npg",
        "colab_type": "code",
        "colab": {
          "base_uri": "https://localhost:8080/",
          "height": 34
        },
        "outputId": "f9fc852d-e534-4b1a-b973-9ef57f1d78c7"
      },
      "source": [
        "matriz1[:, 2]"
      ],
      "execution_count": null,
      "outputs": [
        {
          "output_type": "execute_result",
          "data": {
            "text/plain": [
              "array([2, 3, 6])"
            ]
          },
          "metadata": {
            "tags": []
          },
          "execution_count": 15
        }
      ]
    },
    {
      "cell_type": "code",
      "metadata": {
        "id": "dIuu9-3RIBOe",
        "colab_type": "code",
        "colab": {
          "base_uri": "https://localhost:8080/",
          "height": 68
        },
        "outputId": "2dc07486-02e9-4708-97ce-90b45adf39ca"
      },
      "source": [
        "# Nótese que el código anterior retornó los valores de la columna de la matriz pero en una fila (1x3)\n",
        "# Si queremos obtenerlo en \"modo columna\" (3x1) debemos realizar un reshape\n",
        "matriz1[:, 2].reshape(-1, 1)"
      ],
      "execution_count": null,
      "outputs": [
        {
          "output_type": "execute_result",
          "data": {
            "text/plain": [
              "array([[2],\n",
              "       [3],\n",
              "       [6]])"
            ]
          },
          "metadata": {
            "tags": []
          },
          "execution_count": 14
        }
      ]
    },
    {
      "cell_type": "code",
      "metadata": {
        "id": "9U6n5zKcIs8_",
        "colab_type": "code",
        "colab": {
          "base_uri": "https://localhost:8080/",
          "height": 34
        },
        "outputId": "140a346f-0f42-4729-b952-e23b78df37ab"
      },
      "source": [
        "# Shape retorna las dimensiones de la matriz\n",
        "matriz1.shape"
      ],
      "execution_count": null,
      "outputs": [
        {
          "output_type": "execute_result",
          "data": {
            "text/plain": [
              "(3, 3)"
            ]
          },
          "metadata": {
            "tags": []
          },
          "execution_count": 21
        }
      ]
    },
    {
      "cell_type": "code",
      "metadata": {
        "id": "BpuszjH4I5MB",
        "colab_type": "code",
        "colab": {
          "base_uri": "https://localhost:8080/",
          "height": 67
        },
        "outputId": "165f51c9-8e68-431d-9e3a-0f0f6578518c"
      },
      "source": [
        "# Es posible trasponer matrices\n",
        "np.transpose(matriz1)"
      ],
      "execution_count": null,
      "outputs": [
        {
          "output_type": "execute_result",
          "data": {
            "text/plain": [
              "array([[2, 1, 4],\n",
              "       [3, 4, 5],\n",
              "       [2, 3, 6]])"
            ]
          },
          "metadata": {
            "tags": []
          },
          "execution_count": 22
        }
      ]
    },
    {
      "cell_type": "code",
      "metadata": {
        "id": "gH8xJ0OfJIJw",
        "colab_type": "code",
        "colab": {
          "base_uri": "https://localhost:8080/",
          "height": 68
        },
        "outputId": "75b483f9-423c-48be-8c5b-1347a6f59da4"
      },
      "source": [
        "# La multiplicación entre matrices también está definida\n",
        "matriz2 = np.array([[4, 2, 1], [5, 6, 2], [9, 8, 1]])\n",
        "np.dot(matriz1, matriz2)"
      ],
      "execution_count": null,
      "outputs": [
        {
          "output_type": "execute_result",
          "data": {
            "text/plain": [
              "array([[41, 38, 10],\n",
              "       [51, 50, 12],\n",
              "       [95, 86, 20]])"
            ]
          },
          "metadata": {
            "tags": []
          },
          "execution_count": 16
        }
      ]
    },
    {
      "cell_type": "code",
      "metadata": {
        "id": "c5TobykqJbaV",
        "colab_type": "code",
        "colab": {
          "base_uri": "https://localhost:8080/",
          "height": 231
        },
        "outputId": "507ae5b9-e0f1-4f1a-a694-a9c03c24dd62"
      },
      "source": [
        "# Recordar que las dimensiones de las matrices deben coincidir para poder realizar la operación\n",
        "# (mxk) (jxn) = (mxn)\n",
        "# El siguiente ejemplo no es válido\n",
        "m1 = np.array([[1], [4], [5]])\n",
        "m2 = np.array([[2, 4], [5, 5]])\n",
        "np.dot(m1, m2)"
      ],
      "execution_count": null,
      "outputs": [
        {
          "output_type": "error",
          "ename": "ValueError",
          "evalue": "ignored",
          "traceback": [
            "\u001b[0;31m---------------------------------------------------------------------------\u001b[0m",
            "\u001b[0;31mValueError\u001b[0m                                Traceback (most recent call last)",
            "\u001b[0;32m<ipython-input-17-a0b8393b4f0c>\u001b[0m in \u001b[0;36m<module>\u001b[0;34m()\u001b[0m\n\u001b[1;32m      4\u001b[0m \u001b[0mm1\u001b[0m \u001b[0;34m=\u001b[0m \u001b[0mnp\u001b[0m\u001b[0;34m.\u001b[0m\u001b[0marray\u001b[0m\u001b[0;34m(\u001b[0m\u001b[0;34m[\u001b[0m\u001b[0;34m[\u001b[0m\u001b[0;36m1\u001b[0m\u001b[0;34m]\u001b[0m\u001b[0;34m,\u001b[0m \u001b[0;34m[\u001b[0m\u001b[0;36m4\u001b[0m\u001b[0;34m]\u001b[0m\u001b[0;34m,\u001b[0m \u001b[0;34m[\u001b[0m\u001b[0;36m5\u001b[0m\u001b[0;34m]\u001b[0m\u001b[0;34m]\u001b[0m\u001b[0;34m)\u001b[0m\u001b[0;34m\u001b[0m\u001b[0;34m\u001b[0m\u001b[0m\n\u001b[1;32m      5\u001b[0m \u001b[0mm2\u001b[0m \u001b[0;34m=\u001b[0m \u001b[0mnp\u001b[0m\u001b[0;34m.\u001b[0m\u001b[0marray\u001b[0m\u001b[0;34m(\u001b[0m\u001b[0;34m[\u001b[0m\u001b[0;34m[\u001b[0m\u001b[0;36m2\u001b[0m\u001b[0;34m,\u001b[0m \u001b[0;36m4\u001b[0m\u001b[0;34m]\u001b[0m\u001b[0;34m,\u001b[0m \u001b[0;34m[\u001b[0m\u001b[0;36m5\u001b[0m\u001b[0;34m,\u001b[0m \u001b[0;36m5\u001b[0m\u001b[0;34m]\u001b[0m\u001b[0;34m]\u001b[0m\u001b[0;34m)\u001b[0m\u001b[0;34m\u001b[0m\u001b[0;34m\u001b[0m\u001b[0m\n\u001b[0;32m----> 6\u001b[0;31m \u001b[0mnp\u001b[0m\u001b[0;34m.\u001b[0m\u001b[0mdot\u001b[0m\u001b[0;34m(\u001b[0m\u001b[0mm1\u001b[0m\u001b[0;34m,\u001b[0m \u001b[0mm2\u001b[0m\u001b[0;34m)\u001b[0m\u001b[0;34m\u001b[0m\u001b[0;34m\u001b[0m\u001b[0m\n\u001b[0m",
            "\u001b[0;32m<__array_function__ internals>\u001b[0m in \u001b[0;36mdot\u001b[0;34m(*args, **kwargs)\u001b[0m\n",
            "\u001b[0;31mValueError\u001b[0m: shapes (3,1) and (2,2) not aligned: 1 (dim 1) != 2 (dim 0)"
          ]
        }
      ]
    },
    {
      "cell_type": "code",
      "metadata": {
        "id": "G5_0Q3ziJ7kg",
        "colab_type": "code",
        "colab": {
          "base_uri": "https://localhost:8080/",
          "height": 68
        },
        "outputId": "a307c72a-6f2a-4ba7-f947-9b71c7139e27"
      },
      "source": [
        "# El siguiente ejemplo es válido\n",
        "m1 = np.array([[1], [4], [5]])\n",
        "m2 = np.array([[2, 4, 5]])\n",
        "np.dot(m1, m2)"
      ],
      "execution_count": null,
      "outputs": [
        {
          "output_type": "execute_result",
          "data": {
            "text/plain": [
              "array([[ 2,  4,  5],\n",
              "       [ 8, 16, 20],\n",
              "       [10, 20, 25]])"
            ]
          },
          "metadata": {
            "tags": []
          },
          "execution_count": 18
        }
      ]
    },
    {
      "cell_type": "code",
      "metadata": {
        "id": "i0jfAtDfLrAZ",
        "colab_type": "code",
        "colab": {
          "base_uri": "https://localhost:8080/",
          "height": 34
        },
        "outputId": "3bc01240-70dc-425b-901f-14da3079860b"
      },
      "source": [
        "# Con la función random se pueden generar valores aleatorios\n",
        "np.random.randint(100)"
      ],
      "execution_count": null,
      "outputs": [
        {
          "output_type": "execute_result",
          "data": {
            "text/plain": [
              "87"
            ]
          },
          "metadata": {
            "tags": []
          },
          "execution_count": 19
        }
      ]
    },
    {
      "cell_type": "code",
      "metadata": {
        "id": "xNKjdu_aMtGn",
        "colab_type": "code",
        "colab": {
          "base_uri": "https://localhost:8080/",
          "height": 51
        },
        "outputId": "b6545ef8-054e-4410-e17a-3a25e0bf2229"
      },
      "source": [
        "# También se pueden generar arreglos llenos de valores aleatorios\n",
        "np.random.rand(2, 3)"
      ],
      "execution_count": null,
      "outputs": [
        {
          "output_type": "execute_result",
          "data": {
            "text/plain": [
              "array([[0.53454345, 0.31929286, 0.43691538],\n",
              "       [0.94593406, 0.33888858, 0.51001477]])"
            ]
          },
          "metadata": {
            "tags": []
          },
          "execution_count": 20
        }
      ]
    },
    {
      "cell_type": "markdown",
      "metadata": {
        "id": "uxg6mit2M4ac",
        "colab_type": "text"
      },
      "source": [
        "Pandas\n",
        "\n",
        "Pandas es una biblioteca de estructuras de datos (DataFrame). Con ella se puede acceder y manipular datos dentro de un DataFrame importado desde datos CSV. Es una herramienta útil para analizar datos e implementar funciones de Aprendizaje de Máquinas.\n",
        "\n",
        "A continuación trabajaremos con una base de datos (DataFrame) de casas que pertenecen al área metropolitana del Valle de Aburrá.\n",
        "\n",
        "![image.png](data:image/png;base64,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)"
      ]
    },
    {
      "cell_type": "markdown",
      "metadata": {
        "id": "4RWZSq2WqolG",
        "colab_type": "text"
      },
      "source": [
        "**DESCRIPCIÓN DE LA BASE DE DATOS DE LAS CASAS**\n",
        "\n",
        "**[1] Ciudad:** La ciudad donde está ubicada la casa  (varibale categórica) [Medellí, Envigado, Bello, Caldas].\n",
        "\n",
        "**[2] M2:** dimensión en metros cuadrados de la casa (variable numérica).\n",
        "\n",
        "**[3] Hab. Principales:** número de habitaciones principales de la casa (variable numérica).\n",
        "\n",
        "**[4] Hab. Secundarias:** número de habitaciones secundarias de la casa (variable numérica).\n",
        "\n",
        "**[5] Baños:** número de baños de la casa (variable numérica).\n",
        "\n",
        "**[6] Balcón:** ¿tiene balcón? (categórico) [Si, No].\n",
        "\n",
        "**[7] Valor:** precio o valor de la casa (variable numérica).\n",
        "\n",
        "La base de datos se encuentra en un archivo CSV. \n",
        "\n",
        "Link del archivo: https://raw.githubusercontent.com/jaguzman/dataSets/master/datasets/Casas.csv\n",
        "\n",
        "(para descargar el archivo debes abir el link en un pestaña del explorador, dar click derecho, 'guardar como' y seleccionar la ruta donde quieres guardar el archivo)"
      ]
    },
    {
      "cell_type": "code",
      "metadata": {
        "id": "jCA9egKJM7mh",
        "colab_type": "code",
        "colab": {}
      },
      "source": [
        "# Importar la librería\n",
        "import pandas as pd"
      ],
      "execution_count": null,
      "outputs": []
    },
    {
      "cell_type": "code",
      "metadata": {
        "id": "yiiNEqF0NngA",
        "colab_type": "code",
        "colab": {
          "resources": {
            "http://localhost:8080/nbextensions/google.colab/files.js": {
              "data": "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",
              "ok": true,
              "headers": [
                [
                  "content-type",
                  "application/javascript"
                ]
              ],
              "status": 200,
              "status_text": ""
            }
          },
          "base_uri": "https://localhost:8080/",
          "height": 38
        },
        "outputId": "0de73c34-689d-4f79-b683-9de7767a7e01"
      },
      "source": [
        "# Para subir un archivo de nuestro computador tenemos varias alternativas:\n",
        "\n",
        "# ALTERNATIVA 1\n",
        "from google.colab import files\n",
        "uploaded = files.upload()"
      ],
      "execution_count": null,
      "outputs": [
        {
          "output_type": "display_data",
          "data": {
            "text/html": [
              "\n",
              "     <input type=\"file\" id=\"files-b2910c2b-886e-4bc5-b023-2df4bd9377fd\" name=\"files[]\" multiple disabled\n",
              "        style=\"border:none\" />\n",
              "     <output id=\"result-b2910c2b-886e-4bc5-b023-2df4bd9377fd\">\n",
              "      Upload widget is only available when the cell has been executed in the\n",
              "      current browser session. Please rerun this cell to enable.\n",
              "      </output>\n",
              "      <script src=\"/nbextensions/google.colab/files.js\"></script> "
            ],
            "text/plain": [
              "<IPython.core.display.HTML object>"
            ]
          },
          "metadata": {
            "tags": []
          }
        }
      ]
    },
    {
      "cell_type": "code",
      "metadata": {
        "id": "0Ns5CSg0QDgE",
        "colab_type": "code",
        "colab": {}
      },
      "source": [
        "# Luego lo podemos convertir a un dataframe de pandas\n",
        "# Un dataframe es la representación de nuestro archivo (en este caso separados por comas)\n",
        "# en python, muy similar a los arrays de numpy\n",
        "import io\n",
        "df = pd.read_csv(io.BytesIO(uploaded['Casas.csv']))"
      ],
      "execution_count": null,
      "outputs": []
    },
    {
      "cell_type": "code",
      "metadata": {
        "id": "XiOlhSYrZv_r",
        "colab_type": "code",
        "colab": {}
      },
      "source": [
        "# ALTERNATIVA 2\n",
        "# Subirlo en el panel izquierdo en la opción \"archivos\" y luego leerlo así:\n",
        "df = pd.read_csv('Casas.csv')"
      ],
      "execution_count": null,
      "outputs": []
    },
    {
      "cell_type": "code",
      "metadata": {
        "id": "v4v2gPBDZ4Oe",
        "colab_type": "code",
        "colab": {}
      },
      "source": [
        "# ALTERNATIVA 3\n",
        "# Leerlo de una URL en caso de que esté disponible\n",
        "df = pd.read_csv('https://raw.githubusercontent.com/jaguzman/dataSets/master/datasets/Casas.csv')"
      ],
      "execution_count": null,
      "outputs": []
    },
    {
      "cell_type": "code",
      "metadata": {
        "id": "vs006WmAQTZX",
        "colab_type": "code",
        "colab": {
          "base_uri": "https://localhost:8080/",
          "height": 284
        },
        "outputId": "fd4ddfb0-8dd5-47e2-866c-6756ad5a122f"
      },
      "source": [
        "# Podemos ver el dataframe completo\n",
        "df"
      ],
      "execution_count": null,
      "outputs": [
        {
          "output_type": "execute_result",
          "data": {
            "text/html": [
              "<div>\n",
              "<style scoped>\n",
              "    .dataframe tbody tr th:only-of-type {\n",
              "        vertical-align: middle;\n",
              "    }\n",
              "\n",
              "    .dataframe tbody tr th {\n",
              "        vertical-align: top;\n",
              "    }\n",
              "\n",
              "    .dataframe thead th {\n",
              "        text-align: right;\n",
              "    }\n",
              "</style>\n",
              "<table border=\"1\" class=\"dataframe\">\n",
              "  <thead>\n",
              "    <tr style=\"text-align: right;\">\n",
              "      <th></th>\n",
              "      <th>Ciudad</th>\n",
              "      <th>M2</th>\n",
              "      <th>Hab. Principales</th>\n",
              "      <th>Hab. Secundarias</th>\n",
              "      <th>Baños</th>\n",
              "      <th>Balcón</th>\n",
              "      <th>Valor</th>\n",
              "    </tr>\n",
              "  </thead>\n",
              "  <tbody>\n",
              "    <tr>\n",
              "      <th>0</th>\n",
              "      <td>Medellín</td>\n",
              "      <td>100</td>\n",
              "      <td>2</td>\n",
              "      <td>4</td>\n",
              "      <td>4</td>\n",
              "      <td>Si</td>\n",
              "      <td>450000000</td>\n",
              "    </tr>\n",
              "    <tr>\n",
              "      <th>1</th>\n",
              "      <td>Envigado</td>\n",
              "      <td>56</td>\n",
              "      <td>1</td>\n",
              "      <td>1</td>\n",
              "      <td>2</td>\n",
              "      <td>No</td>\n",
              "      <td>180000000</td>\n",
              "    </tr>\n",
              "    <tr>\n",
              "      <th>2</th>\n",
              "      <td>Medellín</td>\n",
              "      <td>80</td>\n",
              "      <td>1</td>\n",
              "      <td>2</td>\n",
              "      <td>2</td>\n",
              "      <td>Si</td>\n",
              "      <td>190000000</td>\n",
              "    </tr>\n",
              "    <tr>\n",
              "      <th>3</th>\n",
              "      <td>Bello</td>\n",
              "      <td>82</td>\n",
              "      <td>1</td>\n",
              "      <td>2</td>\n",
              "      <td>2</td>\n",
              "      <td>Si</td>\n",
              "      <td>210000000</td>\n",
              "    </tr>\n",
              "    <tr>\n",
              "      <th>4</th>\n",
              "      <td>Caldas</td>\n",
              "      <td>73</td>\n",
              "      <td>2</td>\n",
              "      <td>1</td>\n",
              "      <td>2</td>\n",
              "      <td>No</td>\n",
              "      <td>195000000</td>\n",
              "    </tr>\n",
              "    <tr>\n",
              "      <th>5</th>\n",
              "      <td>Medellín</td>\n",
              "      <td>65</td>\n",
              "      <td>1</td>\n",
              "      <td>2</td>\n",
              "      <td>2</td>\n",
              "      <td>No</td>\n",
              "      <td>140000000</td>\n",
              "    </tr>\n",
              "    <tr>\n",
              "      <th>6</th>\n",
              "      <td>Envigado</td>\n",
              "      <td>92</td>\n",
              "      <td>2</td>\n",
              "      <td>3</td>\n",
              "      <td>3</td>\n",
              "      <td>Si</td>\n",
              "      <td>340000000</td>\n",
              "    </tr>\n",
              "    <tr>\n",
              "      <th>7</th>\n",
              "      <td>Caldas</td>\n",
              "      <td>62</td>\n",
              "      <td>1</td>\n",
              "      <td>1</td>\n",
              "      <td>2</td>\n",
              "      <td>No</td>\n",
              "      <td>130000000</td>\n",
              "    </tr>\n",
              "  </tbody>\n",
              "</table>\n",
              "</div>"
            ],
            "text/plain": [
              "     Ciudad   M2  Hab. Principales  Hab. Secundarias  Baños Balcón      Valor\n",
              "0  Medellín  100                 2                 4      4     Si  450000000\n",
              "1  Envigado   56                 1                 1      2     No  180000000\n",
              "2  Medellín   80                 1                 2      2     Si  190000000\n",
              "3     Bello   82                 1                 2      2     Si  210000000\n",
              "4    Caldas   73                 2                 1      2     No  195000000\n",
              "5  Medellín   65                 1                 2      2     No  140000000\n",
              "6  Envigado   92                 2                 3      3     Si  340000000\n",
              "7    Caldas   62                 1                 1      2     No  130000000"
            ]
          },
          "metadata": {
            "tags": []
          },
          "execution_count": 31
        }
      ]
    },
    {
      "cell_type": "code",
      "metadata": {
        "id": "7tGM8LXGRPL6",
        "colab_type": "code",
        "colab": {
          "base_uri": "https://localhost:8080/",
          "height": 195
        },
        "outputId": "c555ffc9-c970-404c-97d1-8850f13f4e48"
      },
      "source": [
        "# Mostrar los primeros datos del dataframe\n",
        "df.head()"
      ],
      "execution_count": null,
      "outputs": [
        {
          "output_type": "execute_result",
          "data": {
            "text/html": [
              "<div>\n",
              "<style scoped>\n",
              "    .dataframe tbody tr th:only-of-type {\n",
              "        vertical-align: middle;\n",
              "    }\n",
              "\n",
              "    .dataframe tbody tr th {\n",
              "        vertical-align: top;\n",
              "    }\n",
              "\n",
              "    .dataframe thead th {\n",
              "        text-align: right;\n",
              "    }\n",
              "</style>\n",
              "<table border=\"1\" class=\"dataframe\">\n",
              "  <thead>\n",
              "    <tr style=\"text-align: right;\">\n",
              "      <th></th>\n",
              "      <th>Ciudad</th>\n",
              "      <th>M2</th>\n",
              "      <th>Hab. Principales</th>\n",
              "      <th>Hab. Secundarias</th>\n",
              "      <th>Baños</th>\n",
              "      <th>Balcón</th>\n",
              "      <th>Valor</th>\n",
              "    </tr>\n",
              "  </thead>\n",
              "  <tbody>\n",
              "    <tr>\n",
              "      <th>0</th>\n",
              "      <td>Medellín</td>\n",
              "      <td>100</td>\n",
              "      <td>2</td>\n",
              "      <td>4</td>\n",
              "      <td>4</td>\n",
              "      <td>Si</td>\n",
              "      <td>450000000</td>\n",
              "    </tr>\n",
              "    <tr>\n",
              "      <th>1</th>\n",
              "      <td>Envigado</td>\n",
              "      <td>56</td>\n",
              "      <td>1</td>\n",
              "      <td>1</td>\n",
              "      <td>2</td>\n",
              "      <td>No</td>\n",
              "      <td>180000000</td>\n",
              "    </tr>\n",
              "    <tr>\n",
              "      <th>2</th>\n",
              "      <td>Medellín</td>\n",
              "      <td>80</td>\n",
              "      <td>1</td>\n",
              "      <td>2</td>\n",
              "      <td>2</td>\n",
              "      <td>Si</td>\n",
              "      <td>190000000</td>\n",
              "    </tr>\n",
              "    <tr>\n",
              "      <th>3</th>\n",
              "      <td>Bello</td>\n",
              "      <td>82</td>\n",
              "      <td>1</td>\n",
              "      <td>2</td>\n",
              "      <td>2</td>\n",
              "      <td>Si</td>\n",
              "      <td>210000000</td>\n",
              "    </tr>\n",
              "    <tr>\n",
              "      <th>4</th>\n",
              "      <td>Caldas</td>\n",
              "      <td>73</td>\n",
              "      <td>2</td>\n",
              "      <td>1</td>\n",
              "      <td>2</td>\n",
              "      <td>No</td>\n",
              "      <td>195000000</td>\n",
              "    </tr>\n",
              "  </tbody>\n",
              "</table>\n",
              "</div>"
            ],
            "text/plain": [
              "     Ciudad   M2  Hab. Principales  Hab. Secundarias  Baños Balcón      Valor\n",
              "0  Medellín  100                 2                 4      4     Si  450000000\n",
              "1  Envigado   56                 1                 1      2     No  180000000\n",
              "2  Medellín   80                 1                 2      2     Si  190000000\n",
              "3     Bello   82                 1                 2      2     Si  210000000\n",
              "4    Caldas   73                 2                 1      2     No  195000000"
            ]
          },
          "metadata": {
            "tags": []
          },
          "execution_count": 32
        }
      ]
    },
    {
      "cell_type": "code",
      "metadata": {
        "id": "UgrhOoJARTa0",
        "colab_type": "code",
        "colab": {
          "base_uri": "https://localhost:8080/",
          "height": 195
        },
        "outputId": "4cfdbead-a402-4fc1-8b0a-32631acce668"
      },
      "source": [
        "# Mostrar los últimos datos\n",
        "df.tail()"
      ],
      "execution_count": null,
      "outputs": [
        {
          "output_type": "execute_result",
          "data": {
            "text/html": [
              "<div>\n",
              "<style scoped>\n",
              "    .dataframe tbody tr th:only-of-type {\n",
              "        vertical-align: middle;\n",
              "    }\n",
              "\n",
              "    .dataframe tbody tr th {\n",
              "        vertical-align: top;\n",
              "    }\n",
              "\n",
              "    .dataframe thead th {\n",
              "        text-align: right;\n",
              "    }\n",
              "</style>\n",
              "<table border=\"1\" class=\"dataframe\">\n",
              "  <thead>\n",
              "    <tr style=\"text-align: right;\">\n",
              "      <th></th>\n",
              "      <th>Ciudad</th>\n",
              "      <th>M2</th>\n",
              "      <th>Hab. Principales</th>\n",
              "      <th>Hab. Secundarias</th>\n",
              "      <th>Baños</th>\n",
              "      <th>Balcón</th>\n",
              "      <th>Valor</th>\n",
              "    </tr>\n",
              "  </thead>\n",
              "  <tbody>\n",
              "    <tr>\n",
              "      <th>3</th>\n",
              "      <td>Bello</td>\n",
              "      <td>82</td>\n",
              "      <td>1</td>\n",
              "      <td>2</td>\n",
              "      <td>2</td>\n",
              "      <td>Si</td>\n",
              "      <td>210000000</td>\n",
              "    </tr>\n",
              "    <tr>\n",
              "      <th>4</th>\n",
              "      <td>Caldas</td>\n",
              "      <td>73</td>\n",
              "      <td>2</td>\n",
              "      <td>1</td>\n",
              "      <td>2</td>\n",
              "      <td>No</td>\n",
              "      <td>195000000</td>\n",
              "    </tr>\n",
              "    <tr>\n",
              "      <th>5</th>\n",
              "      <td>Medellín</td>\n",
              "      <td>65</td>\n",
              "      <td>1</td>\n",
              "      <td>2</td>\n",
              "      <td>2</td>\n",
              "      <td>No</td>\n",
              "      <td>140000000</td>\n",
              "    </tr>\n",
              "    <tr>\n",
              "      <th>6</th>\n",
              "      <td>Envigado</td>\n",
              "      <td>92</td>\n",
              "      <td>2</td>\n",
              "      <td>3</td>\n",
              "      <td>3</td>\n",
              "      <td>Si</td>\n",
              "      <td>340000000</td>\n",
              "    </tr>\n",
              "    <tr>\n",
              "      <th>7</th>\n",
              "      <td>Caldas</td>\n",
              "      <td>62</td>\n",
              "      <td>1</td>\n",
              "      <td>1</td>\n",
              "      <td>2</td>\n",
              "      <td>No</td>\n",
              "      <td>130000000</td>\n",
              "    </tr>\n",
              "  </tbody>\n",
              "</table>\n",
              "</div>"
            ],
            "text/plain": [
              "     Ciudad  M2  Hab. Principales  Hab. Secundarias  Baños Balcón      Valor\n",
              "3     Bello  82                 1                 2      2     Si  210000000\n",
              "4    Caldas  73                 2                 1      2     No  195000000\n",
              "5  Medellín  65                 1                 2      2     No  140000000\n",
              "6  Envigado  92                 2                 3      3     Si  340000000\n",
              "7    Caldas  62                 1                 1      2     No  130000000"
            ]
          },
          "metadata": {
            "tags": []
          },
          "execution_count": 33
        }
      ]
    },
    {
      "cell_type": "code",
      "metadata": {
        "id": "quUFO0bWRYU8",
        "colab_type": "code",
        "colab": {
          "base_uri": "https://localhost:8080/",
          "height": 67
        },
        "outputId": "d0ed62aa-1abd-495c-9f10-f6d738c3d06c"
      },
      "source": [
        "# Obtener los nombres de las columnas\n",
        "df.columns"
      ],
      "execution_count": null,
      "outputs": [
        {
          "output_type": "execute_result",
          "data": {
            "text/plain": [
              "Index(['Ciudad', 'M2', 'Hab. Principales', 'Hab. Secundarias', 'Baños',\n",
              "       'Balcón', 'Valor'],\n",
              "      dtype='object')"
            ]
          },
          "metadata": {
            "tags": []
          },
          "execution_count": 34
        }
      ]
    },
    {
      "cell_type": "code",
      "metadata": {
        "id": "X5PG51vfRdIi",
        "colab_type": "code",
        "colab": {
          "base_uri": "https://localhost:8080/",
          "height": 34
        },
        "outputId": "86076ca6-4640-4e2e-d589-b32fc4dab871"
      },
      "source": [
        "# Obtener las dimensiones, similar a numpy\n",
        "df.shape"
      ],
      "execution_count": null,
      "outputs": [
        {
          "output_type": "execute_result",
          "data": {
            "text/plain": [
              "(8, 7)"
            ]
          },
          "metadata": {
            "tags": []
          },
          "execution_count": 35
        }
      ]
    },
    {
      "cell_type": "code",
      "metadata": {
        "id": "PnWxchqKRjHD",
        "colab_type": "code",
        "colab": {
          "base_uri": "https://localhost:8080/",
          "height": 252
        },
        "outputId": "3b609177-3040-48c0-a22f-1fb020b23f22"
      },
      "source": [
        "# Imprimir información general, como el total de columnas y filas, y sus tipos\n",
        "df.info()"
      ],
      "execution_count": null,
      "outputs": [
        {
          "output_type": "stream",
          "text": [
            "<class 'pandas.core.frame.DataFrame'>\n",
            "RangeIndex: 8 entries, 0 to 7\n",
            "Data columns (total 7 columns):\n",
            " #   Column            Non-Null Count  Dtype \n",
            "---  ------            --------------  ----- \n",
            " 0   Ciudad            8 non-null      object\n",
            " 1   M2                8 non-null      int64 \n",
            " 2   Hab. Principales  8 non-null      int64 \n",
            " 3   Hab. Secundarias  8 non-null      int64 \n",
            " 4   Baños             8 non-null      int64 \n",
            " 5   Balcón            8 non-null      object\n",
            " 6   Valor             8 non-null      int64 \n",
            "dtypes: int64(5), object(2)\n",
            "memory usage: 576.0+ bytes\n"
          ],
          "name": "stdout"
        }
      ]
    },
    {
      "cell_type": "code",
      "metadata": {
        "id": "W8HRiKlwQX15",
        "colab_type": "code",
        "colab": {
          "base_uri": "https://localhost:8080/",
          "height": 284
        },
        "outputId": "34411fbd-52e3-4600-b526-e78953230a85"
      },
      "source": [
        "# Obtener un rango similar a numpy con la función iloc\n",
        "df.iloc[:, 2:4]"
      ],
      "execution_count": null,
      "outputs": [
        {
          "output_type": "execute_result",
          "data": {
            "text/html": [
              "<div>\n",
              "<style scoped>\n",
              "    .dataframe tbody tr th:only-of-type {\n",
              "        vertical-align: middle;\n",
              "    }\n",
              "\n",
              "    .dataframe tbody tr th {\n",
              "        vertical-align: top;\n",
              "    }\n",
              "\n",
              "    .dataframe thead th {\n",
              "        text-align: right;\n",
              "    }\n",
              "</style>\n",
              "<table border=\"1\" class=\"dataframe\">\n",
              "  <thead>\n",
              "    <tr style=\"text-align: right;\">\n",
              "      <th></th>\n",
              "      <th>Hab. Principales</th>\n",
              "      <th>Hab. Secundarias</th>\n",
              "    </tr>\n",
              "  </thead>\n",
              "  <tbody>\n",
              "    <tr>\n",
              "      <th>0</th>\n",
              "      <td>2</td>\n",
              "      <td>4</td>\n",
              "    </tr>\n",
              "    <tr>\n",
              "      <th>1</th>\n",
              "      <td>1</td>\n",
              "      <td>1</td>\n",
              "    </tr>\n",
              "    <tr>\n",
              "      <th>2</th>\n",
              "      <td>1</td>\n",
              "      <td>2</td>\n",
              "    </tr>\n",
              "    <tr>\n",
              "      <th>3</th>\n",
              "      <td>1</td>\n",
              "      <td>2</td>\n",
              "    </tr>\n",
              "    <tr>\n",
              "      <th>4</th>\n",
              "      <td>2</td>\n",
              "      <td>1</td>\n",
              "    </tr>\n",
              "    <tr>\n",
              "      <th>5</th>\n",
              "      <td>1</td>\n",
              "      <td>2</td>\n",
              "    </tr>\n",
              "    <tr>\n",
              "      <th>6</th>\n",
              "      <td>2</td>\n",
              "      <td>3</td>\n",
              "    </tr>\n",
              "    <tr>\n",
              "      <th>7</th>\n",
              "      <td>1</td>\n",
              "      <td>1</td>\n",
              "    </tr>\n",
              "  </tbody>\n",
              "</table>\n",
              "</div>"
            ],
            "text/plain": [
              "   Hab. Principales  Hab. Secundarias\n",
              "0                 2                 4\n",
              "1                 1                 1\n",
              "2                 1                 2\n",
              "3                 1                 2\n",
              "4                 2                 1\n",
              "5                 1                 2\n",
              "6                 2                 3\n",
              "7                 1                 1"
            ]
          },
          "metadata": {
            "tags": []
          },
          "execution_count": 37
        }
      ]
    },
    {
      "cell_type": "code",
      "metadata": {
        "id": "ysSYYokBQs-l",
        "colab_type": "code",
        "colab": {
          "base_uri": "https://localhost:8080/",
          "height": 168
        },
        "outputId": "5cd81c48-6d95-4e30-9561-2a3ba115b0f4"
      },
      "source": [
        "# Los dataframe tienen una característica que nos permite acceder a sus columnas por los nombres\n",
        "df['Baños']"
      ],
      "execution_count": null,
      "outputs": [
        {
          "output_type": "execute_result",
          "data": {
            "text/plain": [
              "0    4\n",
              "1    2\n",
              "2    2\n",
              "3    2\n",
              "4    2\n",
              "5    2\n",
              "6    3\n",
              "7    2\n",
              "Name: Baños, dtype: int64"
            ]
          },
          "metadata": {
            "tags": []
          },
          "execution_count": 38
        }
      ]
    },
    {
      "cell_type": "code",
      "metadata": {
        "id": "GwqLfploR7pa",
        "colab_type": "code",
        "colab": {
          "base_uri": "https://localhost:8080/",
          "height": 284
        },
        "outputId": "dee07f6d-4c15-4f7c-ddb2-4eef6d8f363c"
      },
      "source": [
        "# Podemos seleccionar rangos utilizando los nombres de las columnas\n",
        "df.loc[:, 'M2':'Baños']"
      ],
      "execution_count": null,
      "outputs": [
        {
          "output_type": "execute_result",
          "data": {
            "text/html": [
              "<div>\n",
              "<style scoped>\n",
              "    .dataframe tbody tr th:only-of-type {\n",
              "        vertical-align: middle;\n",
              "    }\n",
              "\n",
              "    .dataframe tbody tr th {\n",
              "        vertical-align: top;\n",
              "    }\n",
              "\n",
              "    .dataframe thead th {\n",
              "        text-align: right;\n",
              "    }\n",
              "</style>\n",
              "<table border=\"1\" class=\"dataframe\">\n",
              "  <thead>\n",
              "    <tr style=\"text-align: right;\">\n",
              "      <th></th>\n",
              "      <th>M2</th>\n",
              "      <th>Hab. Principales</th>\n",
              "      <th>Hab. Secundarias</th>\n",
              "      <th>Baños</th>\n",
              "    </tr>\n",
              "  </thead>\n",
              "  <tbody>\n",
              "    <tr>\n",
              "      <th>0</th>\n",
              "      <td>100</td>\n",
              "      <td>2</td>\n",
              "      <td>4</td>\n",
              "      <td>4</td>\n",
              "    </tr>\n",
              "    <tr>\n",
              "      <th>1</th>\n",
              "      <td>56</td>\n",
              "      <td>1</td>\n",
              "      <td>1</td>\n",
              "      <td>2</td>\n",
              "    </tr>\n",
              "    <tr>\n",
              "      <th>2</th>\n",
              "      <td>80</td>\n",
              "      <td>1</td>\n",
              "      <td>2</td>\n",
              "      <td>2</td>\n",
              "    </tr>\n",
              "    <tr>\n",
              "      <th>3</th>\n",
              "      <td>82</td>\n",
              "      <td>1</td>\n",
              "      <td>2</td>\n",
              "      <td>2</td>\n",
              "    </tr>\n",
              "    <tr>\n",
              "      <th>4</th>\n",
              "      <td>73</td>\n",
              "      <td>2</td>\n",
              "      <td>1</td>\n",
              "      <td>2</td>\n",
              "    </tr>\n",
              "    <tr>\n",
              "      <th>5</th>\n",
              "      <td>65</td>\n",
              "      <td>1</td>\n",
              "      <td>2</td>\n",
              "      <td>2</td>\n",
              "    </tr>\n",
              "    <tr>\n",
              "      <th>6</th>\n",
              "      <td>92</td>\n",
              "      <td>2</td>\n",
              "      <td>3</td>\n",
              "      <td>3</td>\n",
              "    </tr>\n",
              "    <tr>\n",
              "      <th>7</th>\n",
              "      <td>62</td>\n",
              "      <td>1</td>\n",
              "      <td>1</td>\n",
              "      <td>2</td>\n",
              "    </tr>\n",
              "  </tbody>\n",
              "</table>\n",
              "</div>"
            ],
            "text/plain": [
              "    M2  Hab. Principales  Hab. Secundarias  Baños\n",
              "0  100                 2                 4      4\n",
              "1   56                 1                 1      2\n",
              "2   80                 1                 2      2\n",
              "3   82                 1                 2      2\n",
              "4   73                 2                 1      2\n",
              "5   65                 1                 2      2\n",
              "6   92                 2                 3      3\n",
              "7   62                 1                 1      2"
            ]
          },
          "metadata": {
            "tags": []
          },
          "execution_count": 39
        }
      ]
    },
    {
      "cell_type": "code",
      "metadata": {
        "id": "2X5U0CDoSVWR",
        "colab_type": "code",
        "colab": {
          "base_uri": "https://localhost:8080/",
          "height": 284
        },
        "outputId": "0c69d70f-d09f-4c1d-86e7-82352832d377"
      },
      "source": [
        "# Es posible ordenar según una columna\n",
        "df.sort_values(by=\"Valor\")"
      ],
      "execution_count": null,
      "outputs": [
        {
          "output_type": "execute_result",
          "data": {
            "text/html": [
              "<div>\n",
              "<style scoped>\n",
              "    .dataframe tbody tr th:only-of-type {\n",
              "        vertical-align: middle;\n",
              "    }\n",
              "\n",
              "    .dataframe tbody tr th {\n",
              "        vertical-align: top;\n",
              "    }\n",
              "\n",
              "    .dataframe thead th {\n",
              "        text-align: right;\n",
              "    }\n",
              "</style>\n",
              "<table border=\"1\" class=\"dataframe\">\n",
              "  <thead>\n",
              "    <tr style=\"text-align: right;\">\n",
              "      <th></th>\n",
              "      <th>Ciudad</th>\n",
              "      <th>M2</th>\n",
              "      <th>Hab. Principales</th>\n",
              "      <th>Hab. Secundarias</th>\n",
              "      <th>Baños</th>\n",
              "      <th>Balcón</th>\n",
              "      <th>Valor</th>\n",
              "    </tr>\n",
              "  </thead>\n",
              "  <tbody>\n",
              "    <tr>\n",
              "      <th>7</th>\n",
              "      <td>Caldas</td>\n",
              "      <td>62</td>\n",
              "      <td>1</td>\n",
              "      <td>1</td>\n",
              "      <td>2</td>\n",
              "      <td>No</td>\n",
              "      <td>130000000</td>\n",
              "    </tr>\n",
              "    <tr>\n",
              "      <th>5</th>\n",
              "      <td>Medellín</td>\n",
              "      <td>65</td>\n",
              "      <td>1</td>\n",
              "      <td>2</td>\n",
              "      <td>2</td>\n",
              "      <td>No</td>\n",
              "      <td>140000000</td>\n",
              "    </tr>\n",
              "    <tr>\n",
              "      <th>1</th>\n",
              "      <td>Envigado</td>\n",
              "      <td>56</td>\n",
              "      <td>1</td>\n",
              "      <td>1</td>\n",
              "      <td>2</td>\n",
              "      <td>No</td>\n",
              "      <td>180000000</td>\n",
              "    </tr>\n",
              "    <tr>\n",
              "      <th>2</th>\n",
              "      <td>Medellín</td>\n",
              "      <td>80</td>\n",
              "      <td>1</td>\n",
              "      <td>2</td>\n",
              "      <td>2</td>\n",
              "      <td>Si</td>\n",
              "      <td>190000000</td>\n",
              "    </tr>\n",
              "    <tr>\n",
              "      <th>4</th>\n",
              "      <td>Caldas</td>\n",
              "      <td>73</td>\n",
              "      <td>2</td>\n",
              "      <td>1</td>\n",
              "      <td>2</td>\n",
              "      <td>No</td>\n",
              "      <td>195000000</td>\n",
              "    </tr>\n",
              "    <tr>\n",
              "      <th>3</th>\n",
              "      <td>Bello</td>\n",
              "      <td>82</td>\n",
              "      <td>1</td>\n",
              "      <td>2</td>\n",
              "      <td>2</td>\n",
              "      <td>Si</td>\n",
              "      <td>210000000</td>\n",
              "    </tr>\n",
              "    <tr>\n",
              "      <th>6</th>\n",
              "      <td>Envigado</td>\n",
              "      <td>92</td>\n",
              "      <td>2</td>\n",
              "      <td>3</td>\n",
              "      <td>3</td>\n",
              "      <td>Si</td>\n",
              "      <td>340000000</td>\n",
              "    </tr>\n",
              "    <tr>\n",
              "      <th>0</th>\n",
              "      <td>Medellín</td>\n",
              "      <td>100</td>\n",
              "      <td>2</td>\n",
              "      <td>4</td>\n",
              "      <td>4</td>\n",
              "      <td>Si</td>\n",
              "      <td>450000000</td>\n",
              "    </tr>\n",
              "  </tbody>\n",
              "</table>\n",
              "</div>"
            ],
            "text/plain": [
              "     Ciudad   M2  Hab. Principales  Hab. Secundarias  Baños Balcón      Valor\n",
              "7    Caldas   62                 1                 1      2     No  130000000\n",
              "5  Medellín   65                 1                 2      2     No  140000000\n",
              "1  Envigado   56                 1                 1      2     No  180000000\n",
              "2  Medellín   80                 1                 2      2     Si  190000000\n",
              "4    Caldas   73                 2                 1      2     No  195000000\n",
              "3     Bello   82                 1                 2      2     Si  210000000\n",
              "6  Envigado   92                 2                 3      3     Si  340000000\n",
              "0  Medellín  100                 2                 4      4     Si  450000000"
            ]
          },
          "metadata": {
            "tags": []
          },
          "execution_count": 40
        }
      ]
    },
    {
      "cell_type": "code",
      "metadata": {
        "id": "KxGEyGuZSuI4",
        "colab_type": "code",
        "colab": {
          "base_uri": "https://localhost:8080/",
          "height": 284
        },
        "outputId": "24df68df-92a1-43be-b7d2-4c8d49b74158"
      },
      "source": [
        "# De manera descendente\n",
        "df.sort_values(by=\"Valor\", ascending=False)"
      ],
      "execution_count": null,
      "outputs": [
        {
          "output_type": "execute_result",
          "data": {
            "text/html": [
              "<div>\n",
              "<style scoped>\n",
              "    .dataframe tbody tr th:only-of-type {\n",
              "        vertical-align: middle;\n",
              "    }\n",
              "\n",
              "    .dataframe tbody tr th {\n",
              "        vertical-align: top;\n",
              "    }\n",
              "\n",
              "    .dataframe thead th {\n",
              "        text-align: right;\n",
              "    }\n",
              "</style>\n",
              "<table border=\"1\" class=\"dataframe\">\n",
              "  <thead>\n",
              "    <tr style=\"text-align: right;\">\n",
              "      <th></th>\n",
              "      <th>Ciudad</th>\n",
              "      <th>M2</th>\n",
              "      <th>Hab. Principales</th>\n",
              "      <th>Hab. Secundarias</th>\n",
              "      <th>Baños</th>\n",
              "      <th>Balcón</th>\n",
              "      <th>Valor</th>\n",
              "    </tr>\n",
              "  </thead>\n",
              "  <tbody>\n",
              "    <tr>\n",
              "      <th>0</th>\n",
              "      <td>Medellín</td>\n",
              "      <td>100</td>\n",
              "      <td>2</td>\n",
              "      <td>4</td>\n",
              "      <td>4</td>\n",
              "      <td>Si</td>\n",
              "      <td>450000000</td>\n",
              "    </tr>\n",
              "    <tr>\n",
              "      <th>6</th>\n",
              "      <td>Envigado</td>\n",
              "      <td>92</td>\n",
              "      <td>2</td>\n",
              "      <td>3</td>\n",
              "      <td>3</td>\n",
              "      <td>Si</td>\n",
              "      <td>340000000</td>\n",
              "    </tr>\n",
              "    <tr>\n",
              "      <th>3</th>\n",
              "      <td>Bello</td>\n",
              "      <td>82</td>\n",
              "      <td>1</td>\n",
              "      <td>2</td>\n",
              "      <td>2</td>\n",
              "      <td>Si</td>\n",
              "      <td>210000000</td>\n",
              "    </tr>\n",
              "    <tr>\n",
              "      <th>4</th>\n",
              "      <td>Caldas</td>\n",
              "      <td>73</td>\n",
              "      <td>2</td>\n",
              "      <td>1</td>\n",
              "      <td>2</td>\n",
              "      <td>No</td>\n",
              "      <td>195000000</td>\n",
              "    </tr>\n",
              "    <tr>\n",
              "      <th>2</th>\n",
              "      <td>Medellín</td>\n",
              "      <td>80</td>\n",
              "      <td>1</td>\n",
              "      <td>2</td>\n",
              "      <td>2</td>\n",
              "      <td>Si</td>\n",
              "      <td>190000000</td>\n",
              "    </tr>\n",
              "    <tr>\n",
              "      <th>1</th>\n",
              "      <td>Envigado</td>\n",
              "      <td>56</td>\n",
              "      <td>1</td>\n",
              "      <td>1</td>\n",
              "      <td>2</td>\n",
              "      <td>No</td>\n",
              "      <td>180000000</td>\n",
              "    </tr>\n",
              "    <tr>\n",
              "      <th>5</th>\n",
              "      <td>Medellín</td>\n",
              "      <td>65</td>\n",
              "      <td>1</td>\n",
              "      <td>2</td>\n",
              "      <td>2</td>\n",
              "      <td>No</td>\n",
              "      <td>140000000</td>\n",
              "    </tr>\n",
              "    <tr>\n",
              "      <th>7</th>\n",
              "      <td>Caldas</td>\n",
              "      <td>62</td>\n",
              "      <td>1</td>\n",
              "      <td>1</td>\n",
              "      <td>2</td>\n",
              "      <td>No</td>\n",
              "      <td>130000000</td>\n",
              "    </tr>\n",
              "  </tbody>\n",
              "</table>\n",
              "</div>"
            ],
            "text/plain": [
              "     Ciudad   M2  Hab. Principales  Hab. Secundarias  Baños Balcón      Valor\n",
              "0  Medellín  100                 2                 4      4     Si  450000000\n",
              "6  Envigado   92                 2                 3      3     Si  340000000\n",
              "3     Bello   82                 1                 2      2     Si  210000000\n",
              "4    Caldas   73                 2                 1      2     No  195000000\n",
              "2  Medellín   80                 1                 2      2     Si  190000000\n",
              "1  Envigado   56                 1                 1      2     No  180000000\n",
              "5  Medellín   65                 1                 2      2     No  140000000\n",
              "7    Caldas   62                 1                 1      2     No  130000000"
            ]
          },
          "metadata": {
            "tags": []
          },
          "execution_count": 41
        }
      ]
    },
    {
      "cell_type": "code",
      "metadata": {
        "id": "mYijHAZ8TMDE",
        "colab_type": "code",
        "colab": {
          "base_uri": "https://localhost:8080/",
          "height": 168
        },
        "outputId": "241cbb4e-f68c-4e6e-9495-deda5afacb58"
      },
      "source": [
        "# Es posible utilizar operaciones de numpy. Si queremos saber el total de habitaciones:\n",
        "np.add(df['Hab. Principales'], df['Hab. Secundarias'])"
      ],
      "execution_count": null,
      "outputs": [
        {
          "output_type": "execute_result",
          "data": {
            "text/plain": [
              "0    6\n",
              "1    2\n",
              "2    3\n",
              "3    3\n",
              "4    3\n",
              "5    3\n",
              "6    5\n",
              "7    2\n",
              "dtype: int64"
            ]
          },
          "metadata": {
            "tags": []
          },
          "execution_count": 42
        }
      ]
    },
    {
      "cell_type": "code",
      "metadata": {
        "id": "8k6nP1HwUNoK",
        "colab_type": "code",
        "colab": {
          "base_uri": "https://localhost:8080/",
          "height": 284
        },
        "outputId": "fbc77240-9b19-43a0-9e89-3fbb0e47d6b0"
      },
      "source": [
        "# En algunas ocasiones es útil agregar nuevas columnas al dataframe\n",
        "df['Habitaciones'] = np.add(df['Hab. Principales'], df['Hab. Secundarias'])\n",
        "df"
      ],
      "execution_count": null,
      "outputs": [
        {
          "output_type": "execute_result",
          "data": {
            "text/html": [
              "<div>\n",
              "<style scoped>\n",
              "    .dataframe tbody tr th:only-of-type {\n",
              "        vertical-align: middle;\n",
              "    }\n",
              "\n",
              "    .dataframe tbody tr th {\n",
              "        vertical-align: top;\n",
              "    }\n",
              "\n",
              "    .dataframe thead th {\n",
              "        text-align: right;\n",
              "    }\n",
              "</style>\n",
              "<table border=\"1\" class=\"dataframe\">\n",
              "  <thead>\n",
              "    <tr style=\"text-align: right;\">\n",
              "      <th></th>\n",
              "      <th>Ciudad</th>\n",
              "      <th>M2</th>\n",
              "      <th>Hab. Principales</th>\n",
              "      <th>Hab. Secundarias</th>\n",
              "      <th>Baños</th>\n",
              "      <th>Balcón</th>\n",
              "      <th>Valor</th>\n",
              "      <th>Habitaciones</th>\n",
              "    </tr>\n",
              "  </thead>\n",
              "  <tbody>\n",
              "    <tr>\n",
              "      <th>0</th>\n",
              "      <td>Medellín</td>\n",
              "      <td>100</td>\n",
              "      <td>2</td>\n",
              "      <td>4</td>\n",
              "      <td>4</td>\n",
              "      <td>Si</td>\n",
              "      <td>450000000</td>\n",
              "      <td>6</td>\n",
              "    </tr>\n",
              "    <tr>\n",
              "      <th>1</th>\n",
              "      <td>Envigado</td>\n",
              "      <td>56</td>\n",
              "      <td>1</td>\n",
              "      <td>1</td>\n",
              "      <td>2</td>\n",
              "      <td>No</td>\n",
              "      <td>180000000</td>\n",
              "      <td>2</td>\n",
              "    </tr>\n",
              "    <tr>\n",
              "      <th>2</th>\n",
              "      <td>Medellín</td>\n",
              "      <td>80</td>\n",
              "      <td>1</td>\n",
              "      <td>2</td>\n",
              "      <td>2</td>\n",
              "      <td>Si</td>\n",
              "      <td>190000000</td>\n",
              "      <td>3</td>\n",
              "    </tr>\n",
              "    <tr>\n",
              "      <th>3</th>\n",
              "      <td>Bello</td>\n",
              "      <td>82</td>\n",
              "      <td>1</td>\n",
              "      <td>2</td>\n",
              "      <td>2</td>\n",
              "      <td>Si</td>\n",
              "      <td>210000000</td>\n",
              "      <td>3</td>\n",
              "    </tr>\n",
              "    <tr>\n",
              "      <th>4</th>\n",
              "      <td>Caldas</td>\n",
              "      <td>73</td>\n",
              "      <td>2</td>\n",
              "      <td>1</td>\n",
              "      <td>2</td>\n",
              "      <td>No</td>\n",
              "      <td>195000000</td>\n",
              "      <td>3</td>\n",
              "    </tr>\n",
              "    <tr>\n",
              "      <th>5</th>\n",
              "      <td>Medellín</td>\n",
              "      <td>65</td>\n",
              "      <td>1</td>\n",
              "      <td>2</td>\n",
              "      <td>2</td>\n",
              "      <td>No</td>\n",
              "      <td>140000000</td>\n",
              "      <td>3</td>\n",
              "    </tr>\n",
              "    <tr>\n",
              "      <th>6</th>\n",
              "      <td>Envigado</td>\n",
              "      <td>92</td>\n",
              "      <td>2</td>\n",
              "      <td>3</td>\n",
              "      <td>3</td>\n",
              "      <td>Si</td>\n",
              "      <td>340000000</td>\n",
              "      <td>5</td>\n",
              "    </tr>\n",
              "    <tr>\n",
              "      <th>7</th>\n",
              "      <td>Caldas</td>\n",
              "      <td>62</td>\n",
              "      <td>1</td>\n",
              "      <td>1</td>\n",
              "      <td>2</td>\n",
              "      <td>No</td>\n",
              "      <td>130000000</td>\n",
              "      <td>2</td>\n",
              "    </tr>\n",
              "  </tbody>\n",
              "</table>\n",
              "</div>"
            ],
            "text/plain": [
              "     Ciudad   M2  Hab. Principales  ...  Balcón      Valor Habitaciones\n",
              "0  Medellín  100                 2  ...      Si  450000000            6\n",
              "1  Envigado   56                 1  ...      No  180000000            2\n",
              "2  Medellín   80                 1  ...      Si  190000000            3\n",
              "3     Bello   82                 1  ...      Si  210000000            3\n",
              "4    Caldas   73                 2  ...      No  195000000            3\n",
              "5  Medellín   65                 1  ...      No  140000000            3\n",
              "6  Envigado   92                 2  ...      Si  340000000            5\n",
              "7    Caldas   62                 1  ...      No  130000000            2\n",
              "\n",
              "[8 rows x 8 columns]"
            ]
          },
          "metadata": {
            "tags": []
          },
          "execution_count": 43
        }
      ]
    },
    {
      "cell_type": "code",
      "metadata": {
        "id": "_CzHDS4lUc2P",
        "colab_type": "code",
        "colab": {
          "base_uri": "https://localhost:8080/",
          "height": 284
        },
        "outputId": "c3982f39-b168-443d-c9e6-8ea4dc34f1a4"
      },
      "source": [
        "# Y también eliminar columnas\n",
        "df = df.drop(columns=['Hab. Principales', 'Hab. Secundarias'])\n",
        "df"
      ],
      "execution_count": null,
      "outputs": [
        {
          "output_type": "execute_result",
          "data": {
            "text/html": [
              "<div>\n",
              "<style scoped>\n",
              "    .dataframe tbody tr th:only-of-type {\n",
              "        vertical-align: middle;\n",
              "    }\n",
              "\n",
              "    .dataframe tbody tr th {\n",
              "        vertical-align: top;\n",
              "    }\n",
              "\n",
              "    .dataframe thead th {\n",
              "        text-align: right;\n",
              "    }\n",
              "</style>\n",
              "<table border=\"1\" class=\"dataframe\">\n",
              "  <thead>\n",
              "    <tr style=\"text-align: right;\">\n",
              "      <th></th>\n",
              "      <th>Ciudad</th>\n",
              "      <th>M2</th>\n",
              "      <th>Baños</th>\n",
              "      <th>Balcón</th>\n",
              "      <th>Valor</th>\n",
              "      <th>Habitaciones</th>\n",
              "    </tr>\n",
              "  </thead>\n",
              "  <tbody>\n",
              "    <tr>\n",
              "      <th>0</th>\n",
              "      <td>Medellín</td>\n",
              "      <td>100</td>\n",
              "      <td>4</td>\n",
              "      <td>Si</td>\n",
              "      <td>450000000</td>\n",
              "      <td>6</td>\n",
              "    </tr>\n",
              "    <tr>\n",
              "      <th>1</th>\n",
              "      <td>Envigado</td>\n",
              "      <td>56</td>\n",
              "      <td>2</td>\n",
              "      <td>No</td>\n",
              "      <td>180000000</td>\n",
              "      <td>2</td>\n",
              "    </tr>\n",
              "    <tr>\n",
              "      <th>2</th>\n",
              "      <td>Medellín</td>\n",
              "      <td>80</td>\n",
              "      <td>2</td>\n",
              "      <td>Si</td>\n",
              "      <td>190000000</td>\n",
              "      <td>3</td>\n",
              "    </tr>\n",
              "    <tr>\n",
              "      <th>3</th>\n",
              "      <td>Bello</td>\n",
              "      <td>82</td>\n",
              "      <td>2</td>\n",
              "      <td>Si</td>\n",
              "      <td>210000000</td>\n",
              "      <td>3</td>\n",
              "    </tr>\n",
              "    <tr>\n",
              "      <th>4</th>\n",
              "      <td>Caldas</td>\n",
              "      <td>73</td>\n",
              "      <td>2</td>\n",
              "      <td>No</td>\n",
              "      <td>195000000</td>\n",
              "      <td>3</td>\n",
              "    </tr>\n",
              "    <tr>\n",
              "      <th>5</th>\n",
              "      <td>Medellín</td>\n",
              "      <td>65</td>\n",
              "      <td>2</td>\n",
              "      <td>No</td>\n",
              "      <td>140000000</td>\n",
              "      <td>3</td>\n",
              "    </tr>\n",
              "    <tr>\n",
              "      <th>6</th>\n",
              "      <td>Envigado</td>\n",
              "      <td>92</td>\n",
              "      <td>3</td>\n",
              "      <td>Si</td>\n",
              "      <td>340000000</td>\n",
              "      <td>5</td>\n",
              "    </tr>\n",
              "    <tr>\n",
              "      <th>7</th>\n",
              "      <td>Caldas</td>\n",
              "      <td>62</td>\n",
              "      <td>2</td>\n",
              "      <td>No</td>\n",
              "      <td>130000000</td>\n",
              "      <td>2</td>\n",
              "    </tr>\n",
              "  </tbody>\n",
              "</table>\n",
              "</div>"
            ],
            "text/plain": [
              "     Ciudad   M2  Baños Balcón      Valor  Habitaciones\n",
              "0  Medellín  100      4     Si  450000000             6\n",
              "1  Envigado   56      2     No  180000000             2\n",
              "2  Medellín   80      2     Si  190000000             3\n",
              "3     Bello   82      2     Si  210000000             3\n",
              "4    Caldas   73      2     No  195000000             3\n",
              "5  Medellín   65      2     No  140000000             3\n",
              "6  Envigado   92      3     Si  340000000             5\n",
              "7    Caldas   62      2     No  130000000             2"
            ]
          },
          "metadata": {
            "tags": []
          },
          "execution_count": 44
        }
      ]
    },
    {
      "cell_type": "code",
      "metadata": {
        "id": "EaqfHOP-U40b",
        "colab_type": "code",
        "colab": {
          "base_uri": "https://localhost:8080/",
          "height": 166
        },
        "outputId": "d3ba79ad-9ace-415c-e0ce-564f07e88c45"
      },
      "source": [
        "# Para filtrar las filas que cumplan cierta condición\n",
        "df[df['Balcón'] == 'Si']"
      ],
      "execution_count": null,
      "outputs": [
        {
          "output_type": "execute_result",
          "data": {
            "text/html": [
              "<div>\n",
              "<style scoped>\n",
              "    .dataframe tbody tr th:only-of-type {\n",
              "        vertical-align: middle;\n",
              "    }\n",
              "\n",
              "    .dataframe tbody tr th {\n",
              "        vertical-align: top;\n",
              "    }\n",
              "\n",
              "    .dataframe thead th {\n",
              "        text-align: right;\n",
              "    }\n",
              "</style>\n",
              "<table border=\"1\" class=\"dataframe\">\n",
              "  <thead>\n",
              "    <tr style=\"text-align: right;\">\n",
              "      <th></th>\n",
              "      <th>Ciudad</th>\n",
              "      <th>M2</th>\n",
              "      <th>Baños</th>\n",
              "      <th>Balcón</th>\n",
              "      <th>Valor</th>\n",
              "      <th>Habitaciones</th>\n",
              "    </tr>\n",
              "  </thead>\n",
              "  <tbody>\n",
              "    <tr>\n",
              "      <th>0</th>\n",
              "      <td>Medellín</td>\n",
              "      <td>100</td>\n",
              "      <td>4</td>\n",
              "      <td>Si</td>\n",
              "      <td>450000000</td>\n",
              "      <td>6</td>\n",
              "    </tr>\n",
              "    <tr>\n",
              "      <th>2</th>\n",
              "      <td>Medellín</td>\n",
              "      <td>80</td>\n",
              "      <td>2</td>\n",
              "      <td>Si</td>\n",
              "      <td>190000000</td>\n",
              "      <td>3</td>\n",
              "    </tr>\n",
              "    <tr>\n",
              "      <th>3</th>\n",
              "      <td>Bello</td>\n",
              "      <td>82</td>\n",
              "      <td>2</td>\n",
              "      <td>Si</td>\n",
              "      <td>210000000</td>\n",
              "      <td>3</td>\n",
              "    </tr>\n",
              "    <tr>\n",
              "      <th>6</th>\n",
              "      <td>Envigado</td>\n",
              "      <td>92</td>\n",
              "      <td>3</td>\n",
              "      <td>Si</td>\n",
              "      <td>340000000</td>\n",
              "      <td>5</td>\n",
              "    </tr>\n",
              "  </tbody>\n",
              "</table>\n",
              "</div>"
            ],
            "text/plain": [
              "     Ciudad   M2  Baños Balcón      Valor  Habitaciones\n",
              "0  Medellín  100      4     Si  450000000             6\n",
              "2  Medellín   80      2     Si  190000000             3\n",
              "3     Bello   82      2     Si  210000000             3\n",
              "6  Envigado   92      3     Si  340000000             5"
            ]
          },
          "metadata": {
            "tags": []
          },
          "execution_count": 45
        }
      ]
    },
    {
      "cell_type": "code",
      "metadata": {
        "id": "a_gkJyUjVSZt",
        "colab_type": "code",
        "colab": {
          "base_uri": "https://localhost:8080/",
          "height": 195
        },
        "outputId": "dca76ca0-1ac4-48f4-bded-3258e6b6eb6c"
      },
      "source": [
        "# o una condición numérica\n",
        "df[df['Valor'] < 200000000]"
      ],
      "execution_count": null,
      "outputs": [
        {
          "output_type": "execute_result",
          "data": {
            "text/html": [
              "<div>\n",
              "<style scoped>\n",
              "    .dataframe tbody tr th:only-of-type {\n",
              "        vertical-align: middle;\n",
              "    }\n",
              "\n",
              "    .dataframe tbody tr th {\n",
              "        vertical-align: top;\n",
              "    }\n",
              "\n",
              "    .dataframe thead th {\n",
              "        text-align: right;\n",
              "    }\n",
              "</style>\n",
              "<table border=\"1\" class=\"dataframe\">\n",
              "  <thead>\n",
              "    <tr style=\"text-align: right;\">\n",
              "      <th></th>\n",
              "      <th>Ciudad</th>\n",
              "      <th>M2</th>\n",
              "      <th>Baños</th>\n",
              "      <th>Balcón</th>\n",
              "      <th>Valor</th>\n",
              "      <th>Habitaciones</th>\n",
              "    </tr>\n",
              "  </thead>\n",
              "  <tbody>\n",
              "    <tr>\n",
              "      <th>1</th>\n",
              "      <td>Envigado</td>\n",
              "      <td>56</td>\n",
              "      <td>2</td>\n",
              "      <td>No</td>\n",
              "      <td>180000000</td>\n",
              "      <td>2</td>\n",
              "    </tr>\n",
              "    <tr>\n",
              "      <th>2</th>\n",
              "      <td>Medellín</td>\n",
              "      <td>80</td>\n",
              "      <td>2</td>\n",
              "      <td>Si</td>\n",
              "      <td>190000000</td>\n",
              "      <td>3</td>\n",
              "    </tr>\n",
              "    <tr>\n",
              "      <th>4</th>\n",
              "      <td>Caldas</td>\n",
              "      <td>73</td>\n",
              "      <td>2</td>\n",
              "      <td>No</td>\n",
              "      <td>195000000</td>\n",
              "      <td>3</td>\n",
              "    </tr>\n",
              "    <tr>\n",
              "      <th>5</th>\n",
              "      <td>Medellín</td>\n",
              "      <td>65</td>\n",
              "      <td>2</td>\n",
              "      <td>No</td>\n",
              "      <td>140000000</td>\n",
              "      <td>3</td>\n",
              "    </tr>\n",
              "    <tr>\n",
              "      <th>7</th>\n",
              "      <td>Caldas</td>\n",
              "      <td>62</td>\n",
              "      <td>2</td>\n",
              "      <td>No</td>\n",
              "      <td>130000000</td>\n",
              "      <td>2</td>\n",
              "    </tr>\n",
              "  </tbody>\n",
              "</table>\n",
              "</div>"
            ],
            "text/plain": [
              "     Ciudad  M2  Baños Balcón      Valor  Habitaciones\n",
              "1  Envigado  56      2     No  180000000             2\n",
              "2  Medellín  80      2     Si  190000000             3\n",
              "4    Caldas  73      2     No  195000000             3\n",
              "5  Medellín  65      2     No  140000000             3\n",
              "7    Caldas  62      2     No  130000000             2"
            ]
          },
          "metadata": {
            "tags": []
          },
          "execution_count": 46
        }
      ]
    },
    {
      "cell_type": "code",
      "metadata": {
        "id": "jEPl6uaEValv",
        "colab_type": "code",
        "colab": {
          "base_uri": "https://localhost:8080/",
          "height": 284
        },
        "outputId": "5f41e071-bfa1-460b-d1ba-f7daf92ab469"
      },
      "source": [
        "# Nótese que los dos filtros anteriores no cambiaron el dataframe original\n",
        "df"
      ],
      "execution_count": null,
      "outputs": [
        {
          "output_type": "execute_result",
          "data": {
            "text/html": [
              "<div>\n",
              "<style scoped>\n",
              "    .dataframe tbody tr th:only-of-type {\n",
              "        vertical-align: middle;\n",
              "    }\n",
              "\n",
              "    .dataframe tbody tr th {\n",
              "        vertical-align: top;\n",
              "    }\n",
              "\n",
              "    .dataframe thead th {\n",
              "        text-align: right;\n",
              "    }\n",
              "</style>\n",
              "<table border=\"1\" class=\"dataframe\">\n",
              "  <thead>\n",
              "    <tr style=\"text-align: right;\">\n",
              "      <th></th>\n",
              "      <th>Ciudad</th>\n",
              "      <th>M2</th>\n",
              "      <th>Baños</th>\n",
              "      <th>Balcón</th>\n",
              "      <th>Valor</th>\n",
              "      <th>Habitaciones</th>\n",
              "    </tr>\n",
              "  </thead>\n",
              "  <tbody>\n",
              "    <tr>\n",
              "      <th>0</th>\n",
              "      <td>Medellín</td>\n",
              "      <td>100</td>\n",
              "      <td>4</td>\n",
              "      <td>Si</td>\n",
              "      <td>450000000</td>\n",
              "      <td>6</td>\n",
              "    </tr>\n",
              "    <tr>\n",
              "      <th>1</th>\n",
              "      <td>Envigado</td>\n",
              "      <td>56</td>\n",
              "      <td>2</td>\n",
              "      <td>No</td>\n",
              "      <td>180000000</td>\n",
              "      <td>2</td>\n",
              "    </tr>\n",
              "    <tr>\n",
              "      <th>2</th>\n",
              "      <td>Medellín</td>\n",
              "      <td>80</td>\n",
              "      <td>2</td>\n",
              "      <td>Si</td>\n",
              "      <td>190000000</td>\n",
              "      <td>3</td>\n",
              "    </tr>\n",
              "    <tr>\n",
              "      <th>3</th>\n",
              "      <td>Bello</td>\n",
              "      <td>82</td>\n",
              "      <td>2</td>\n",
              "      <td>Si</td>\n",
              "      <td>210000000</td>\n",
              "      <td>3</td>\n",
              "    </tr>\n",
              "    <tr>\n",
              "      <th>4</th>\n",
              "      <td>Caldas</td>\n",
              "      <td>73</td>\n",
              "      <td>2</td>\n",
              "      <td>No</td>\n",
              "      <td>195000000</td>\n",
              "      <td>3</td>\n",
              "    </tr>\n",
              "    <tr>\n",
              "      <th>5</th>\n",
              "      <td>Medellín</td>\n",
              "      <td>65</td>\n",
              "      <td>2</td>\n",
              "      <td>No</td>\n",
              "      <td>140000000</td>\n",
              "      <td>3</td>\n",
              "    </tr>\n",
              "    <tr>\n",
              "      <th>6</th>\n",
              "      <td>Envigado</td>\n",
              "      <td>92</td>\n",
              "      <td>3</td>\n",
              "      <td>Si</td>\n",
              "      <td>340000000</td>\n",
              "      <td>5</td>\n",
              "    </tr>\n",
              "    <tr>\n",
              "      <th>7</th>\n",
              "      <td>Caldas</td>\n",
              "      <td>62</td>\n",
              "      <td>2</td>\n",
              "      <td>No</td>\n",
              "      <td>130000000</td>\n",
              "      <td>2</td>\n",
              "    </tr>\n",
              "  </tbody>\n",
              "</table>\n",
              "</div>"
            ],
            "text/plain": [
              "     Ciudad   M2  Baños Balcón      Valor  Habitaciones\n",
              "0  Medellín  100      4     Si  450000000             6\n",
              "1  Envigado   56      2     No  180000000             2\n",
              "2  Medellín   80      2     Si  190000000             3\n",
              "3     Bello   82      2     Si  210000000             3\n",
              "4    Caldas   73      2     No  195000000             3\n",
              "5  Medellín   65      2     No  140000000             3\n",
              "6  Envigado   92      3     Si  340000000             5\n",
              "7    Caldas   62      2     No  130000000             2"
            ]
          },
          "metadata": {
            "tags": []
          },
          "execution_count": 47
        }
      ]
    },
    {
      "cell_type": "code",
      "metadata": {
        "id": "V_--LGz-Vjgq",
        "colab_type": "code",
        "colab": {
          "base_uri": "https://localhost:8080/",
          "height": 195
        },
        "outputId": "c1ece50e-1c34-40d9-d01c-c119661f96a6"
      },
      "source": [
        "# Si queremos cambiarlo, debemos reemplazar el dataframe con el filtrado\n",
        "# Por ejemplo, si queremos dejar solo las casas que valgan menos de 200.000.000\n",
        "df = df[df['Valor'] < 200000000]\n",
        "df"
      ],
      "execution_count": null,
      "outputs": [
        {
          "output_type": "execute_result",
          "data": {
            "text/html": [
              "<div>\n",
              "<style scoped>\n",
              "    .dataframe tbody tr th:only-of-type {\n",
              "        vertical-align: middle;\n",
              "    }\n",
              "\n",
              "    .dataframe tbody tr th {\n",
              "        vertical-align: top;\n",
              "    }\n",
              "\n",
              "    .dataframe thead th {\n",
              "        text-align: right;\n",
              "    }\n",
              "</style>\n",
              "<table border=\"1\" class=\"dataframe\">\n",
              "  <thead>\n",
              "    <tr style=\"text-align: right;\">\n",
              "      <th></th>\n",
              "      <th>Ciudad</th>\n",
              "      <th>M2</th>\n",
              "      <th>Baños</th>\n",
              "      <th>Balcón</th>\n",
              "      <th>Valor</th>\n",
              "      <th>Habitaciones</th>\n",
              "    </tr>\n",
              "  </thead>\n",
              "  <tbody>\n",
              "    <tr>\n",
              "      <th>1</th>\n",
              "      <td>Envigado</td>\n",
              "      <td>56</td>\n",
              "      <td>2</td>\n",
              "      <td>No</td>\n",
              "      <td>180000000</td>\n",
              "      <td>2</td>\n",
              "    </tr>\n",
              "    <tr>\n",
              "      <th>2</th>\n",
              "      <td>Medellín</td>\n",
              "      <td>80</td>\n",
              "      <td>2</td>\n",
              "      <td>Si</td>\n",
              "      <td>190000000</td>\n",
              "      <td>3</td>\n",
              "    </tr>\n",
              "    <tr>\n",
              "      <th>4</th>\n",
              "      <td>Caldas</td>\n",
              "      <td>73</td>\n",
              "      <td>2</td>\n",
              "      <td>No</td>\n",
              "      <td>195000000</td>\n",
              "      <td>3</td>\n",
              "    </tr>\n",
              "    <tr>\n",
              "      <th>5</th>\n",
              "      <td>Medellín</td>\n",
              "      <td>65</td>\n",
              "      <td>2</td>\n",
              "      <td>No</td>\n",
              "      <td>140000000</td>\n",
              "      <td>3</td>\n",
              "    </tr>\n",
              "    <tr>\n",
              "      <th>7</th>\n",
              "      <td>Caldas</td>\n",
              "      <td>62</td>\n",
              "      <td>2</td>\n",
              "      <td>No</td>\n",
              "      <td>130000000</td>\n",
              "      <td>2</td>\n",
              "    </tr>\n",
              "  </tbody>\n",
              "</table>\n",
              "</div>"
            ],
            "text/plain": [
              "     Ciudad  M2  Baños Balcón      Valor  Habitaciones\n",
              "1  Envigado  56      2     No  180000000             2\n",
              "2  Medellín  80      2     Si  190000000             3\n",
              "4    Caldas  73      2     No  195000000             3\n",
              "5  Medellín  65      2     No  140000000             3\n",
              "7    Caldas  62      2     No  130000000             2"
            ]
          },
          "metadata": {
            "tags": []
          },
          "execution_count": 48
        }
      ]
    },
    {
      "cell_type": "markdown",
      "metadata": {
        "id": "0le3mCLXV9ch",
        "colab_type": "text"
      },
      "source": [
        "MATPLOT\n",
        "\n",
        "Matplotlib es una biblioteca para crear gráficas estáticas, animadas o interactivas en Python."
      ]
    },
    {
      "cell_type": "code",
      "metadata": {
        "id": "mBHKIBeXWBja",
        "colab_type": "code",
        "colab": {}
      },
      "source": [
        "# Importar la librería\n",
        "import matplotlib.pyplot as plt"
      ],
      "execution_count": null,
      "outputs": []
    },
    {
      "cell_type": "code",
      "metadata": {
        "id": "IY8hB-J1wtU9",
        "colab_type": "code",
        "colab": {
          "base_uri": "https://localhost:8080/",
          "height": 319
        },
        "outputId": "aa983229-df7f-471d-99eb-cbc0d141182a"
      },
      "source": [
        "# Graficaremos el número de casas con respecto a cada ciudad \n",
        "\n",
        "# Tamaño de la gráfica\n",
        "plt.figure(figsize=(20,4))\n",
        "# Gráficar\n",
        "df[\"Ciudad\"].value_counts().plot(kind='bar')\n",
        "# explode: típo de gráfica (barra)"
      ],
      "execution_count": null,
      "outputs": [
        {
          "output_type": "execute_result",
          "data": {
            "text/plain": [
              "<matplotlib.axes._subplots.AxesSubplot at 0x7fc0c8be8320>"
            ]
          },
          "metadata": {
            "tags": []
          },
          "execution_count": 50
        },
        {
          "output_type": "display_data",
          "data": {
            "image/png": "[encoded data removed]",
            "text/plain": [
              "<Figure size 1440x288 with 1 Axes>"
            ]
          },
          "metadata": {
            "tags": [],
            "needs_background": "light"
          }
        }
      ]
    },
    {
      "cell_type": "code",
      "metadata": {
        "id": "KcegoJmSvMnr",
        "colab_type": "code",
        "colab": {
          "base_uri": "https://localhost:8080/",
          "height": 341
        },
        "outputId": "a012905e-45d4-40ce-9e19-c9a79418f520"
      },
      "source": [
        "# Ahora graficaremos la cantidad de casas que tienen balcón, pero en una gráfica tipo torta\n",
        "\n",
        "# Tamaño de la gráfica\n",
        "plt.figure(figsize=(5,5)) \n",
        "# Título de la imagen y tamaño del título\n",
        "plt.title('Casas con balcón', fontsize=20) \n",
        "# Gráficar\n",
        "df[\"Balcón\"].value_counts().plot.pie(explode=[0,0.25], autopct='%1.1f%%', shadow=True, colors=[\"#33FFB0\", \"#33A1FF\"], fontsize=14, startangle=25)\n",
        "# explode: separación entre las franjas de la gráfica\n",
        "# autopct: valor numérico de cada porción\n",
        "# shadow: sombras en las gráficas\n",
        "# colors: colores de la gáfica\n",
        "# fontsize: tamaño de la letra\n",
        "# startangle: rotar la gráfica"
      ],
      "execution_count": null,
      "outputs": [
        {
          "output_type": "execute_result",
          "data": {
            "text/plain": [
              "<matplotlib.axes._subplots.AxesSubplot at 0x7fc0c8abb2e8>"
            ]
          },
          "metadata": {
            "tags": []
          },
          "execution_count": 51
        },
        {
          "output_type": "display_data",
          "data": {
            "image/png": "[encoded data removed]",
            "text/plain": [
              "<Figure size 360x360 with 1 Axes>"
            ]
          },
          "metadata": {
            "tags": []
          }
        }
      ]
    }
  ]
}