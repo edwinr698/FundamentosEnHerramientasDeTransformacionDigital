{
  "nbformat": 4,
  "nbformat_minor": 0,
  "metadata": {
    "colab": {
      "name": "Numpy-Pandas.ipynb",
      "provenance": [],
      "collapsed_sections": [],
      "include_colab_link": true
    },
    "kernelspec": {
      "name": "python3",
      "display_name": "Python 3"
    }
  },
  "cells": [
    {
      "cell_type": "markdown",
      "metadata": {
        "id": "view-in-github",
        "colab_type": "text"
      },
      "source": [
        "<a href=\"https://colab.research.google.com/github/jaguzman/GENERAL-FundamentosEnHerramientasDeTransformacionDigital/blob/master/Unidad%203%20-%20Aprendizaje%20de%20m%C3%A1quinas/1_Fundamentos%20e%20Introducci%C3%B3n/Numpy_Pandas.ipynb\" target=\"_parent\"><img src=\"https://colab.research.google.com/assets/colab-badge.svg\" alt=\"Open In Colab\"/></a>"
      ]
    },
    {
      "cell_type": "markdown",
      "metadata": {
        "id": "93MBUWzggaRF",
        "colab_type": "text"
      },
      "source": [
        "**CONTENIDO**\n",
        "\n",
        "*   Numpy\n",
        "*   Pandas\n",
        "*   Matplot"
      ]
    },
    {
      "cell_type": "markdown",
      "metadata": {
        "id": "AV70djcDDwBq",
        "colab_type": "text"
      },
      "source": [
        "Numpy\n",
        "\n",
        "Es una biblioteca de python para la computación de alto nivel de vectores y matrices. Algunas de sus características son:\n",
        "\n",
        "* Un poderoso manejo de matrices N-dimensional.\n",
        "* Funciones sofisticadas.\n",
        "* Herramientas para integrar código C / C ++.\n",
        "* Álgebra lineal, transformada de Fourier y capacidades de números aleatorios.\n",
        "\n",
        "También se puede utilizar como un contenedor eficiente multidimensional de datos genéricos. Se pueden definir tipos de datos arbitrarios. Esto permite que NumPy se integre sin problemas y rápidamente con una amplia variedad de bases de datos.\n",
        "\n",
        "\n"
      ]
    },
    {
      "cell_type": "code",
      "metadata": {
        "id": "jXNtQpMcDcly",
        "colab_type": "code",
        "colab": {}
      },
      "source": [
        "# Importar la librería\n",
        "import numpy as np"
      ],
      "execution_count": 1,
      "outputs": []
    },
    {
      "cell_type": "code",
      "metadata": {
        "id": "Kf9DKluiEYEO",
        "colab_type": "code",
        "colab": {
          "base_uri": "https://localhost:8080/",
          "height": 34
        },
        "outputId": "fee386a0-26be-4fb5-c715-c9cde5fb008d"
      },
      "source": [
        "# Lista normal de python\n",
        "lista = [1, 2, 3, 4, 5]\n",
        "lista"
      ],
      "execution_count": 2,
      "outputs": [
        {
          "output_type": "execute_result",
          "data": {
            "text/plain": [
              "[1, 2, 3, 4, 5]"
            ]
          },
          "metadata": {
            "tags": []
          },
          "execution_count": 2
        }
      ]
    },
    {
      "cell_type": "code",
      "metadata": {
        "id": "dmmsK98_EKg-",
        "colab_type": "code",
        "colab": {
          "base_uri": "https://localhost:8080/",
          "height": 34
        },
        "outputId": "da0150e5-c069-43d7-bbec-bc26ce61618b"
      },
      "source": [
        "# Convertir una lista a arreglos de np\n",
        "arreglo1 = np.array(lista)\n",
        "arreglo1"
      ],
      "execution_count": 3,
      "outputs": [
        {
          "output_type": "execute_result",
          "data": {
            "text/plain": [
              "array([1, 2, 3, 4, 5])"
            ]
          },
          "metadata": {
            "tags": []
          },
          "execution_count": 3
        }
      ]
    },
    {
      "cell_type": "code",
      "metadata": {
        "id": "TqaTVzfnElbo",
        "colab_type": "code",
        "colab": {
          "base_uri": "https://localhost:8080/",
          "height": 34
        },
        "outputId": "fea8b06a-eb1e-4c08-a9a7-b3cf7483b337"
      },
      "source": [
        "# También se puede crear de manera compacta\n",
        "arreglo2 = np.array([4, 5, 6, 7, 9])\n",
        "arreglo2"
      ],
      "execution_count": 4,
      "outputs": [
        {
          "output_type": "execute_result",
          "data": {
            "text/plain": [
              "array([4, 5, 6, 7, 9])"
            ]
          },
          "metadata": {
            "tags": []
          },
          "execution_count": 4
        }
      ]
    },
    {
      "cell_type": "code",
      "metadata": {
        "id": "CoB5FZKFFCnZ",
        "colab_type": "code",
        "colab": {
          "base_uri": "https://localhost:8080/",
          "height": 34
        },
        "outputId": "45e9b75f-bd60-4107-d12f-36aab54b565d"
      },
      "source": [
        "# Podemos sumar todos los elementos de un array\n",
        "arreglo1.sum()"
      ],
      "execution_count": 5,
      "outputs": [
        {
          "output_type": "execute_result",
          "data": {
            "text/plain": [
              "15"
            ]
          },
          "metadata": {
            "tags": []
          },
          "execution_count": 5
        }
      ]
    },
    {
      "cell_type": "code",
      "metadata": {
        "id": "Tl8WgeNTKnNw",
        "colab_type": "code",
        "colab": {
          "base_uri": "https://localhost:8080/",
          "height": 34
        },
        "outputId": "df208d1c-c55e-4036-f722-53fb948feb7f"
      },
      "source": [
        "# Es equivalente a\n",
        "np.sum(arreglo1)"
      ],
      "execution_count": 6,
      "outputs": [
        {
          "output_type": "execute_result",
          "data": {
            "text/plain": [
              "15"
            ]
          },
          "metadata": {
            "tags": []
          },
          "execution_count": 6
        }
      ]
    },
    {
      "cell_type": "code",
      "metadata": {
        "id": "6YOwjUMEFLNs",
        "colab_type": "code",
        "colab": {
          "base_uri": "https://localhost:8080/",
          "height": 34
        },
        "outputId": "457d5375-336b-45a8-bdcf-2c7596f00de2"
      },
      "source": [
        "# También podemos crear el array y sumar en una misma linea\n",
        "np.sum([8, 9, 10])"
      ],
      "execution_count": 7,
      "outputs": [
        {
          "output_type": "execute_result",
          "data": {
            "text/plain": [
              "27"
            ]
          },
          "metadata": {
            "tags": []
          },
          "execution_count": 7
        }
      ]
    },
    {
      "cell_type": "code",
      "metadata": {
        "id": "LLhAT1a8KeJB",
        "colab_type": "code",
        "colab": {
          "base_uri": "https://localhost:8080/",
          "height": 34
        },
        "outputId": "ca5c6544-389a-4eb9-a361-66a7a5054434"
      },
      "source": [
        "# Existen otras funciones como la desviación estándar\n",
        "arreglo1.std()"
      ],
      "execution_count": 8,
      "outputs": [
        {
          "output_type": "execute_result",
          "data": {
            "text/plain": [
              "1.4142135623730951"
            ]
          },
          "metadata": {
            "tags": []
          },
          "execution_count": 8
        }
      ]
    },
    {
      "cell_type": "code",
      "metadata": {
        "id": "LscNvp90Kv3z",
        "colab_type": "code",
        "colab": {
          "base_uri": "https://localhost:8080/",
          "height": 34
        },
        "outputId": "964d0a23-0d50-459a-9ff9-30f82396fa36"
      },
      "source": [
        "# o la media\n",
        "arreglo1.mean()"
      ],
      "execution_count": 9,
      "outputs": [
        {
          "output_type": "execute_result",
          "data": {
            "text/plain": [
              "3.0"
            ]
          },
          "metadata": {
            "tags": []
          },
          "execution_count": 9
        }
      ]
    },
    {
      "cell_type": "code",
      "metadata": {
        "id": "ZMYX7tq2FhaW",
        "colab_type": "code",
        "colab": {
          "base_uri": "https://localhost:8080/",
          "height": 34
        },
        "outputId": "d2fb3f32-a94f-45eb-f4ee-17dd99a8ca10"
      },
      "source": [
        "# Es posible sumar fácilmente sumar dos arreglos\n",
        "arreglo3 = np.add(arreglo1, arreglo2)\n",
        "arreglo3"
      ],
      "execution_count": 10,
      "outputs": [
        {
          "output_type": "execute_result",
          "data": {
            "text/plain": [
              "array([ 5,  7,  9, 11, 14])"
            ]
          },
          "metadata": {
            "tags": []
          },
          "execution_count": 10
        }
      ]
    },
    {
      "cell_type": "code",
      "metadata": {
        "id": "FbC-g1VKFtJk",
        "colab_type": "code",
        "colab": {
          "base_uri": "https://localhost:8080/",
          "height": 67
        },
        "outputId": "81bd109d-b149-4604-9851-db52dadf1b97"
      },
      "source": [
        "# Podemos crear matrices\n",
        "matriz1 = np.array([[2, 3, 2], [1, 4, 3], [4, 5, 6]])\n",
        "matriz1"
      ],
      "execution_count": 11,
      "outputs": [
        {
          "output_type": "execute_result",
          "data": {
            "text/plain": [
              "array([[2, 3, 2],\n",
              "       [1, 4, 3],\n",
              "       [4, 5, 6]])"
            ]
          },
          "metadata": {
            "tags": []
          },
          "execution_count": 11
        }
      ]
    },
    {
      "cell_type": "code",
      "metadata": {
        "id": "Yo23vOIeGNSr",
        "colab_type": "code",
        "colab": {
          "base_uri": "https://localhost:8080/",
          "height": 34
        },
        "outputId": "1d262bf7-00be-44ec-e8a9-1f12827024d0"
      },
      "source": [
        "# Sumatoria de matrices completa\n",
        "np.sum(matriz1)"
      ],
      "execution_count": 12,
      "outputs": [
        {
          "output_type": "execute_result",
          "data": {
            "text/plain": [
              "30"
            ]
          },
          "metadata": {
            "tags": []
          },
          "execution_count": 12
        }
      ]
    },
    {
      "cell_type": "code",
      "metadata": {
        "id": "huR32tVEGxZT",
        "colab_type": "code",
        "colab": {
          "base_uri": "https://localhost:8080/",
          "height": 34
        },
        "outputId": "978e140f-d765-47dc-a5de-3c8538103887"
      },
      "source": [
        "# Sumatoria de matriz vertical\n",
        "np.sum(matriz1, axis=0)"
      ],
      "execution_count": 13,
      "outputs": [
        {
          "output_type": "execute_result",
          "data": {
            "text/plain": [
              "array([ 7, 12, 11])"
            ]
          },
          "metadata": {
            "tags": []
          },
          "execution_count": 13
        }
      ]
    },
    {
      "cell_type": "code",
      "metadata": {
        "id": "OUBrypdRG15C",
        "colab_type": "code",
        "colab": {
          "base_uri": "https://localhost:8080/",
          "height": 34
        },
        "outputId": "35ca4d82-4020-429a-824d-807f314f37b3"
      },
      "source": [
        "# Sumatoria de matriz horizontal\n",
        "np.sum(matriz1, axis=1)"
      ],
      "execution_count": 14,
      "outputs": [
        {
          "output_type": "execute_result",
          "data": {
            "text/plain": [
              "array([ 7,  8, 15])"
            ]
          },
          "metadata": {
            "tags": []
          },
          "execution_count": 14
        }
      ]
    },
    {
      "cell_type": "code",
      "metadata": {
        "id": "hJGYWfgHHNkB",
        "colab_type": "code",
        "colab": {
          "base_uri": "https://localhost:8080/",
          "height": 34
        },
        "outputId": "64845eac-4079-4f27-f39e-8dc99ad18ad9"
      },
      "source": [
        "# Obtener una fila con todas sus columnas. \n",
        "# Los indices inician en 0, por lo que el siguiente código muestra la segunda fila\n",
        "matriz1[1, :]"
      ],
      "execution_count": 15,
      "outputs": [
        {
          "output_type": "execute_result",
          "data": {
            "text/plain": [
              "array([1, 4, 3])"
            ]
          },
          "metadata": {
            "tags": []
          },
          "execution_count": 15
        }
      ]
    },
    {
      "cell_type": "code",
      "metadata": {
        "id": "-LXoGXGxHphl",
        "colab_type": "code",
        "colab": {
          "base_uri": "https://localhost:8080/",
          "height": 34
        },
        "outputId": "5357be9d-f647-4d7d-db2b-cab9aa874344"
      },
      "source": [
        "# Obtener una columna con todas las filas\n",
        "matriz1[:, 2]"
      ],
      "execution_count": 16,
      "outputs": [
        {
          "output_type": "execute_result",
          "data": {
            "text/plain": [
              "array([2, 3, 6])"
            ]
          },
          "metadata": {
            "tags": []
          },
          "execution_count": 16
        }
      ]
    },
    {
      "cell_type": "code",
      "metadata": {
        "id": "cJOG-z7gLwuW",
        "colab_type": "code",
        "colab": {
          "base_uri": "https://localhost:8080/",
          "height": 34
        },
        "outputId": "f1a28c19-9c99-4391-885d-7dc94f0d168e"
      },
      "source": [
        "# O un valor especifico de una celda\n",
        "matriz1[1, 2]"
      ],
      "execution_count": 17,
      "outputs": [
        {
          "output_type": "execute_result",
          "data": {
            "text/plain": [
              "3"
            ]
          },
          "metadata": {
            "tags": []
          },
          "execution_count": 17
        }
      ]
    },
    {
      "cell_type": "code",
      "metadata": {
        "id": "xYJo5E-VL1XN",
        "colab_type": "code",
        "colab": {
          "base_uri": "https://localhost:8080/",
          "height": 50
        },
        "outputId": "f90cc5f3-aca8-4d19-e96a-1767a9ca2cb2"
      },
      "source": [
        "# Con la sintaxis : se pueden obtener rangos \n",
        "matriz1[0:2, :]"
      ],
      "execution_count": 18,
      "outputs": [
        {
          "output_type": "execute_result",
          "data": {
            "text/plain": [
              "array([[2, 3, 2],\n",
              "       [1, 4, 3]])"
            ]
          },
          "metadata": {
            "tags": []
          },
          "execution_count": 18
        }
      ]
    },
    {
      "cell_type": "code",
      "metadata": {
        "id": "kiu1VIXtMIpn",
        "colab_type": "code",
        "colab": {
          "base_uri": "https://localhost:8080/",
          "height": 50
        },
        "outputId": "2d3c1356-9bac-4124-b589-146ed6bae7ea"
      },
      "source": [
        "matriz1[0:2, 2:3]"
      ],
      "execution_count": 19,
      "outputs": [
        {
          "output_type": "execute_result",
          "data": {
            "text/plain": [
              "array([[2],\n",
              "       [3]])"
            ]
          },
          "metadata": {
            "tags": []
          },
          "execution_count": 19
        }
      ]
    },
    {
      "cell_type": "code",
      "metadata": {
        "id": "dIuu9-3RIBOe",
        "colab_type": "code",
        "colab": {
          "base_uri": "https://localhost:8080/",
          "height": 67
        },
        "outputId": "aa30dc1a-30bf-4fcd-ffae-0288a2c1b8a6"
      },
      "source": [
        "# Nótese que el código anterior retornó los valores de la columna de la matriz pero en una fila (1x3)\n",
        "# Si queremos obtenerlo en \"modo columna\" (3x1) debemos realizar un reshape\n",
        "matriz1[:, 2].reshape(3, 1)"
      ],
      "execution_count": 20,
      "outputs": [
        {
          "output_type": "execute_result",
          "data": {
            "text/plain": [
              "array([[2],\n",
              "       [3],\n",
              "       [6]])"
            ]
          },
          "metadata": {
            "tags": []
          },
          "execution_count": 20
        }
      ]
    },
    {
      "cell_type": "code",
      "metadata": {
        "id": "9U6n5zKcIs8_",
        "colab_type": "code",
        "colab": {
          "base_uri": "https://localhost:8080/",
          "height": 34
        },
        "outputId": "dfd7136d-612c-4711-f62b-f5eee14023e5"
      },
      "source": [
        "# Shape retorna las dimensiones de la matriz\n",
        "matriz1.shape"
      ],
      "execution_count": 21,
      "outputs": [
        {
          "output_type": "execute_result",
          "data": {
            "text/plain": [
              "(3, 3)"
            ]
          },
          "metadata": {
            "tags": []
          },
          "execution_count": 21
        }
      ]
    },
    {
      "cell_type": "code",
      "metadata": {
        "id": "BpuszjH4I5MB",
        "colab_type": "code",
        "colab": {
          "base_uri": "https://localhost:8080/",
          "height": 67
        },
        "outputId": "7b2a4e74-6060-4b13-8146-fc0b1963a0e3"
      },
      "source": [
        "# Es posible trasponer matrices\n",
        "np.transpose(matriz1)"
      ],
      "execution_count": 22,
      "outputs": [
        {
          "output_type": "execute_result",
          "data": {
            "text/plain": [
              "array([[2, 1, 4],\n",
              "       [3, 4, 5],\n",
              "       [2, 3, 6]])"
            ]
          },
          "metadata": {
            "tags": []
          },
          "execution_count": 22
        }
      ]
    },
    {
      "cell_type": "code",
      "metadata": {
        "id": "gH8xJ0OfJIJw",
        "colab_type": "code",
        "colab": {
          "base_uri": "https://localhost:8080/",
          "height": 67
        },
        "outputId": "61db970c-84a8-415a-b824-a283ef9ebe2d"
      },
      "source": [
        "# La multiplicación entre matrices también está definida\n",
        "matriz2 = np.array([[4, 2, 1], [5, 6, 2], [9, 8, 1]])\n",
        "np.dot(matriz1, matriz2)"
      ],
      "execution_count": 23,
      "outputs": [
        {
          "output_type": "execute_result",
          "data": {
            "text/plain": [
              "array([[41, 38, 10],\n",
              "       [51, 50, 12],\n",
              "       [95, 86, 20]])"
            ]
          },
          "metadata": {
            "tags": []
          },
          "execution_count": 23
        }
      ]
    },
    {
      "cell_type": "code",
      "metadata": {
        "id": "c5TobykqJbaV",
        "colab_type": "code",
        "colab": {
          "base_uri": "https://localhost:8080/",
          "height": 229
        },
        "outputId": "250f65a0-92d0-4b22-b245-eea161077eae"
      },
      "source": [
        "# Recordar que las dimensiones de las matrices deben coincidir para poder realizar la operación\n",
        "# (mxk) (jxn) = (mxn)\n",
        "# El siguiente ejemplo no es válido\n",
        "m1 = np.array([[1], [4], [5]])\n",
        "m2 = np.array([[2, 4], [5, 5]])\n",
        "np.dot(m1, m2)"
      ],
      "execution_count": 24,
      "outputs": [
        {
          "output_type": "error",
          "ename": "ValueError",
          "evalue": "ignored",
          "traceback": [
            "\u001b[0;31m---------------------------------------------------------------------------\u001b[0m",
            "\u001b[0;31mValueError\u001b[0m                                Traceback (most recent call last)",
            "\u001b[0;32m<ipython-input-24-a0b8393b4f0c>\u001b[0m in \u001b[0;36m<module>\u001b[0;34m()\u001b[0m\n\u001b[1;32m      4\u001b[0m \u001b[0mm1\u001b[0m \u001b[0;34m=\u001b[0m \u001b[0mnp\u001b[0m\u001b[0;34m.\u001b[0m\u001b[0marray\u001b[0m\u001b[0;34m(\u001b[0m\u001b[0;34m[\u001b[0m\u001b[0;34m[\u001b[0m\u001b[0;36m1\u001b[0m\u001b[0;34m]\u001b[0m\u001b[0;34m,\u001b[0m \u001b[0;34m[\u001b[0m\u001b[0;36m4\u001b[0m\u001b[0;34m]\u001b[0m\u001b[0;34m,\u001b[0m \u001b[0;34m[\u001b[0m\u001b[0;36m5\u001b[0m\u001b[0;34m]\u001b[0m\u001b[0;34m]\u001b[0m\u001b[0;34m)\u001b[0m\u001b[0;34m\u001b[0m\u001b[0;34m\u001b[0m\u001b[0m\n\u001b[1;32m      5\u001b[0m \u001b[0mm2\u001b[0m \u001b[0;34m=\u001b[0m \u001b[0mnp\u001b[0m\u001b[0;34m.\u001b[0m\u001b[0marray\u001b[0m\u001b[0;34m(\u001b[0m\u001b[0;34m[\u001b[0m\u001b[0;34m[\u001b[0m\u001b[0;36m2\u001b[0m\u001b[0;34m,\u001b[0m \u001b[0;36m4\u001b[0m\u001b[0;34m]\u001b[0m\u001b[0;34m,\u001b[0m \u001b[0;34m[\u001b[0m\u001b[0;36m5\u001b[0m\u001b[0;34m,\u001b[0m \u001b[0;36m5\u001b[0m\u001b[0;34m]\u001b[0m\u001b[0;34m]\u001b[0m\u001b[0;34m)\u001b[0m\u001b[0;34m\u001b[0m\u001b[0;34m\u001b[0m\u001b[0m\n\u001b[0;32m----> 6\u001b[0;31m \u001b[0mnp\u001b[0m\u001b[0;34m.\u001b[0m\u001b[0mdot\u001b[0m\u001b[0;34m(\u001b[0m\u001b[0mm1\u001b[0m\u001b[0;34m,\u001b[0m \u001b[0mm2\u001b[0m\u001b[0;34m)\u001b[0m\u001b[0;34m\u001b[0m\u001b[0;34m\u001b[0m\u001b[0m\n\u001b[0m",
            "\u001b[0;32m<__array_function__ internals>\u001b[0m in \u001b[0;36mdot\u001b[0;34m(*args, **kwargs)\u001b[0m\n",
            "\u001b[0;31mValueError\u001b[0m: shapes (3,1) and (2,2) not aligned: 1 (dim 1) != 2 (dim 0)"
          ]
        }
      ]
    },
    {
      "cell_type": "code",
      "metadata": {
        "id": "G5_0Q3ziJ7kg",
        "colab_type": "code",
        "colab": {
          "base_uri": "https://localhost:8080/",
          "height": 67
        },
        "outputId": "6ea4e0fe-04f1-4eba-dbc2-49d117cb155e"
      },
      "source": [
        "# El siguiente ejemplo es válido\n",
        "m1 = np.array([[1], [4], [5]])\n",
        "m2 = np.array([[2, 4, 5]])\n",
        "np.dot(m1, m2)"
      ],
      "execution_count": 25,
      "outputs": [
        {
          "output_type": "execute_result",
          "data": {
            "text/plain": [
              "array([[ 2,  4,  5],\n",
              "       [ 8, 16, 20],\n",
              "       [10, 20, 25]])"
            ]
          },
          "metadata": {
            "tags": []
          },
          "execution_count": 25
        }
      ]
    },
    {
      "cell_type": "code",
      "metadata": {
        "id": "i0jfAtDfLrAZ",
        "colab_type": "code",
        "colab": {
          "base_uri": "https://localhost:8080/",
          "height": 34
        },
        "outputId": "a4c2a1aa-08b5-41e9-dccc-0a4a54eae1bd"
      },
      "source": [
        "# Con la función random se pueden generar valores aleatorios\n",
        "np.random.randint(100)"
      ],
      "execution_count": 26,
      "outputs": [
        {
          "output_type": "execute_result",
          "data": {
            "text/plain": [
              "7"
            ]
          },
          "metadata": {
            "tags": []
          },
          "execution_count": 26
        }
      ]
    },
    {
      "cell_type": "code",
      "metadata": {
        "id": "xNKjdu_aMtGn",
        "colab_type": "code",
        "colab": {
          "base_uri": "https://localhost:8080/",
          "height": 50
        },
        "outputId": "f3dd9a69-9ca5-4b49-8dc1-6c4e608b66bc"
      },
      "source": [
        "# También se pueden generar arreglos llenos de valores aleatorios\n",
        "np.random.rand(2, 3)"
      ],
      "execution_count": 27,
      "outputs": [
        {
          "output_type": "execute_result",
          "data": {
            "text/plain": [
              "array([[0.75929477, 0.14743443, 0.17492866],\n",
              "       [0.04779814, 0.82790568, 0.38088552]])"
            ]
          },
          "metadata": {
            "tags": []
          },
          "execution_count": 27
        }
      ]
    },
    {
      "cell_type": "markdown",
      "metadata": {
        "id": "uxg6mit2M4ac",
        "colab_type": "text"
      },
      "source": [
        "Pandas\n",
        "\n",
        "Pandas es una biblioteca de estructuras de datos (DataFrame). Con ella se puede acceder y manipular datos dentro de un DataFrame importado desde datos CSV. Es una herramienta útil para analizar datos e implementar funciones de Aprendizaje de Máquinas.\n",
        "\n",
        "A continuación trabajaremos con una base de datos (DataFrame) de casas que pertenecen al área metropolitana del Valle de Aburrá."
      ]
    },
    {
      "cell_type": "markdown",
      "metadata": {
        "id": "5A4sAIWiPmdT",
        "colab_type": "text"
      },
      "source": [
        "[Casas](https://github.com/jaguzman/dataSets/blob/master/datasets/Casas.JPG)\n",
        "\n",
        "![Casas.JPG](data:image/jpeg;base64,/9j/4AAQSkZJRgABAQEAeAB4AAD/4RD+RXhpZgAATU0AKgAAAAgABAE7AAIAAAARAAAISodpAAQAAAABAAAIXJydAAEAAAAiAAAQ1OocAAcAAAgMAAAAPgAAAAAc6gAAAAgAAAAAAAAAAAAAAAAAAAAAAAAAAAAAAAAAAAAAAAAAAAAAAAAAAAAAAAAAAAAAAAAAAAAAAAAAAAAAAAAAAAAAAAAAAAAAAAAAAAAAAAAAAAAAAAAAAAAAAAAAAAAAAAAAAAAAAAAAAAAAAAAAAAAAAAAAAAAAAAAAAAAAAAAAAAAAAAAAAAAAAAAAAAAAAAAAAAAAAAAAAAAAAAAAAAAAAAAAAAAAAAAAAAAAAAAAAAAAAAAAAAAAAAAAAAAAAAAAAAAAAAAAAAAAAAAAAAAAAAAAAAAAAAAAAAAAAAAAAAAAAAAAAAAAAAAAAAAAAAAAAAAAAAAAAAAAAAAAAAAAAAAAAAAAAAAAAAAAAAAAAAAAAAAAAAAAAAAAAAAAAAAAAAAAAAAAAAAAAAAAAAAAAAAAAAAAAAAAAAAAAAAAAAAAAAAAAAAAAAAAAAAAAAAAAAAAAAAAAAAAAAAAAAAAAAAAAAAAAAAAAAAAAAAAAAAAAAAAAAAAAAAAAAAAAAAAAAAAAAAAAAAAAAAAAAAAAAAAAAAAAAAAAAAAAAAAAAAAAAAAAAAAAAAAAAAAAAAAAAAAAAAAAAAAAAAAAAAAAAAAAAAAAAAAAAAAAAAAAAAAAAAAAAAAAAAAAAAAAAAAAAAAAAAAAAAAAAAAAAAAAAAAAAAAAAAAAAAAAAAAAAAAAAAAAAAAAAAAAAAAAAAAAAAAAAAAAAAAAAAAAAAAAAAAAAAAAAAAAAAAAAAAAAAAAAAAAAAAAAAAAAAAAAAAAAAAAAAAAAAAAAAAAAAAAAAAAAAAAAAAAAAAAAAAAAAAAAAAAAAAAAAAAAAAAAAAAAAAAAAAAAAAAAAAAAAAAAAAAAAAAAAAAAAAAAAAAAAAAAAAAAAAAAAAAAAAAAAAAAAAAAAAAAAAAAAAAAAAAAAAAAAAAAAAAAAAAAAAAAAAAAAAAAAAAAAAAAAAAAAAAAAAAAAAAAAAAAAAAAAAAAAAAAAAAAAAAAAAAAAAAAAAAAAAAAAAAAAAAAAAAAAAAAAAAAAAAAAAAAAAAAAAAAAAAAAAAAAAAAAAAAAAAAAAAAAAAAAAAAAAAAAAAAAAAAAAAAAAAAAAAAAAAAAAAAAAAAAAAAAAAAAAAAAAAAAAAAAAAAAAAAAAAAAAAAAAAAAAAAAAAAAAAAAAAAAAAAAAAAAAAAAAAAAAAAAAAAAAAAAAAAAAAAAAAAAAAAAAAAAAAAAAAAAAAAAAAAAAAAAAAAAAAAAAAAAAAAAAAAAAAAAAAAAAAAAAAAAAAAAAAAAAAAAAAAAAAAAAAAAAAAAAAAAAAAAAAAAAAAAAAAAAAAAAAAAAAAAAAAAAAAAAAAAAAAAAAAAAAAAAAAAAAAAAAAAAAAAAAAAAAAAAAAAAAAAAAAAAAAAAAAAAAAAAAAAAAAAAAAAAAAAAAAAAAAAAAAAAAAAAAAAAAAAAAAAAAAAAAAAAAAAAAAAAAAAAAAAAAAAAAAAAAAAAAAAAAAAAAAAAAAAAAAAAAAAAAAAAAAAAAAAAAAAAAAAAAAAAAAAAAAAAAAAAAAAAAAAAAAAAAAAAAAAAAAAAAAAAAAAAAAAAAAAAAAAAAAAAAAAAAAAAAAAAAAAAAAAAAAAAAAAAAAAAAAAAAAAAAAAAAAAAAAAAAAAAAAAAAAAAAAAAAAAAAAAAAAAAAAAAAAAAAAAAAAAAAAAAAAAAAAAAAAAAAAAAAAAAAAAAAAAAAAAAAAAAAAAAAAAAAAAAAAAAAAAAAAAAAAAAAAAAAAAAAAAAAAAAAAAAAAAAAAAAAAAAAAAAAAAAAAAAAAAAAAAAAAAAAAAAAAAAAAAAAAAAAAAAAAAAAAAAAAAAAAAAAAAAAAAAAAAAAAAAAAAAAAAAAAAAAAAAAAAAAAAAAAAAAAAAAAAAAAAAAAAAAAAAAAAAAAAAAAAAAAAAAAAAAAAAAAAAAAAAAAAAAAAAAAAAAAAAAAAAAAAAAAAAAAAAAAAAAAAAAAAAAAAAAAAAAAAAAAAAAAAAAAAAAAAAAAAAAAAAAAAAAAAAAAAAAAAAAAAAAAAAAAAAAAAAAAAAAAAAAAAAAAAAAAAAAAAAAAAAAAAAAAAAAAAAAAAAAAAAAAAAAAAAAAAAAAAAAAAAAAAAAAAAAAAAAAAAAAAAAAAAAAAAAAAAAAAAAAAAAAAAAAAAAAAAAAAAAAAAAAAAAAAAAAAAAAAAAAAAAAAAAAAAAAAAAAAAAAAAAAAAAAAAAAAAAAAAAAAAAAAAAAAAAAAAAAAAAAAAAAAAAAAAAAAAAAAAAAAAAAAAAAAAAAAAAAAAAAAAAAAAAAAAAAAAAAAAAAAAAAAAAAAAAAAAAAAAAAAAAAAAAAAAAAAAAAAAAAAAAAAAAAAAAAAAAAAAAAAAAAAAAAAAAAAAAAAAAAAAAAAAAAAAAAAAAAAAAAAAAAAAAAAAAAAAAAAAAAAAAAAAAAAAAAAAAAAAAAAAAAAAAAAAAAAAAAAAAAAAAAAAAAAAAAAAAAAAAAAAAAAAAAAAAAAAAAAAAAAAAAAAAAAAAAAAAAAAAAAAAAAAAAAAAAAAAAAAAAAAAAAAAAAAAAAAAAAAAAAAAAAAAAAAAAAAAAAAAAAAAAAAAAAAAAAAAAAAAAAAAAAAAAAAAAAAAAAAAAAAAAAAAAAAAAAAAAAAAAAAAAAAAAAAAAAAAAAAAAAAAAAAAAAAAAAAAAAAAAAAAAAAAAAAAAAAAAAAAAAAAAAAAAAAAEp1YW4gQy4gTW9uc2FsdmUAAAAFkAMAAgAAABQAABCqkAQAAgAAABQAABC+kpEAAgAAAAM0OAAAkpIAAgAAAAM0OAAA6hwABwAACAwAAAieAAAAABzqAAAACAAAAAAAAAAAAAAAAAAAAAAAAAAAAAAAAAAAAAAAAAAAAAAAAAAAAAAAAAAAAAAAAAAAAAAAAAAAAAAAAAAAAAAAAAAAAAAAAAAAAAAAAAAAAAAAAAAAAAAAAAAAAAAAAAAAAAAAAAAAAAAAAAAAAAAAAAAAAAAAAAAAAAAAAAAAAAAAAAAAAAAAAAAAAAAAAAAAAAAAAAAAAAAAAAAAAAAAAAAAAAAAAAAAAAAAAAAAAAAAAAAAAAAAAAAAAAAAAAAAAAAAAAAAAAAAAAAAAAAAAAAAAAAAAAAAAAAAAAAAAAAAAAAAAAAAAAAAAAAAAAAAAAAAAAAAAAAAAAAAAAAAAAAAAAAAAAAAAAAAAAAAAAAAAAAAAAAAAAAAAAAAAAAAAAAAAAAAAAAAAAAAAAAAAAAAAAAAAAAAAAAAAAAAAAAAAAAAAAAAAAAAAAAAAAAAAAAAAAAAAAAAAAAAAAAAAAAAAAAAAAAAAAAAAAAAAAAAAAAAAAAAAAAAAAAAAAAAAAAAAAAAAAAAAAAAAAAAAAAAAAAAAAAAAAAAAAAAAAAAAAAAAAAAAAAAAAAAAAAAAAAAAAAAAAAAAAAAAAAAAAAAAAAAAAAAAAAAAAAAAAAAAAAAAAAAAAAAAAAAAAAAAAAAAAAAAAAAAAAAAAAAAAAAAAAAAAAAAAAAAAAAAAAAAAAAAAAAAAAAAAAAAAAAAAAAAAAAAAAAAAAAAAAAAAAAAAAAAAAAAAAAAAAAAAAAAAAAAAAAAAAAAAAAAAAAAAAAAAAAAAAAAAAAAAAAAAAAAAAAAAAAAAAAAAAAAAAAAAAAAAAAAAAAAAAAAAAAAAAAAAAAAAAAAAAAAAAAAAAAAAAAAAAAAAAAAAAAAAAAAAAAAAAAAAAAAAAAAAAAAAAAAAAAAAAAAAAAAAAAAAAAAAAAAAAAAAAAAAAAAAAAAAAAAAAAAAAAAAAAAAAAAAAAAAAAAAAAAAAAAAAAAAAAAAAAAAAAAAAAAAAAAAAAAAAAAAAAAAAAAAAAAAAAAAAAAAAAAAAAAAAAAAAAAAAAAAAAAAAAAAAAAAAAAAAAAAAAAAAAAAAAAAAAAAAAAAAAAAAAAAAAAAAAAAAAAAAAAAAAAAAAAAAAAAAAAAAAAAAAAAAAAAAAAAAAAAAAAAAAAAAAAAAAAAAAAAAAAAAAAAAAAAAAAAAAAAAAAAAAAAAAAAAAAAAAAAAAAAAAAAAAAAAAAAAAAAAAAAAAAAAAAAAAAAAAAAAAAAAAAAAAAAAAAAAAAAAAAAAAAAAAAAAAAAAAAAAAAAAAAAAAAAAAAAAAAAAAAAAAAAAAAAAAAAAAAAAAAAAAAAAAAAAAAAAAAAAAAAAAAAAAAAAAAAAAAAAAAAAAAAAAAAAAAAAAAAAAAAAAAAAAAAAAAAAAAAAAAAAAAAAAAAAAAAAAAAAAAAAAAAAAAAAAAAAAAAAAAAAAAAAAAAAAAAAAAAAAAAAAAAAAAAAAAAAAAAAAAAAAAAAAAAAAAAAAAAAAAAAAAAAAAAAAAAAAAAAAAAAAAAAAAAAAAAAAAAAAAAAAAAAAAAAAAAAAAAAAAAAAAAAAAAAAAAAAAAAAAAAAAAAAAAAAAAAAAAAAAAAAAAAAAAAAAAAAAAAAAAAAAAAAAAAAAAAAAAAAAAAAAAAAAAAAAAAAAAAAAAAAAAAAAAAAAAAAAAAAAAAAAAAAAAAAAAAAAAAAAAAAAAAAAAAAAAAAAAAAAAAAAAAAAAAAAAAAAAAAAAAAAAAAAAAAAAAAAAAAAAAAAAAAAAAAAAAAAAAAAAAAAAAAAAAAAAAAAAAAAAAAAAAAAAAAAAAAAAAAAAAAAAAAAAAAAAAAAAAAAAAAAAAAAAAAAAAAAAAAAAAAAAAAAAAAAAAAAAAAAAAAAAAAAAAAAAAAAAAAAAAAAAAAAAAAAAAAAAAAAAAAAAAAAAAAAAAAAAAAAAAAAAAAAAAAAAAAAAAAAAAAAAAAAAAAAAAAAAAAAAAAAAAAAAAAAAAAAAAAAAAAAAAAAAAAAAAAAAAAAAAAAAAAAAAAAAAAAAAAAAAAAAAAAAAAAAAAAAAAAAAAAAAAAAAAAAAAAAAAAAAAAAAAAAAAAAAAAAAAAAAAAAAAAAAAAAAAAAAAAAAAAAAAAAAAAAAAAAAAAAAAAAAAAAAAAAAAAAAAAAAAAAAAAAAAAAAAAAAAAAAAAAAAAAAAAAAAAAAAAAAAAAAAAAAAAAAAAAAAAAAAAAAAAAAAAAAAAAAAAAAAAAAAAAAAAAAAAAAAAAAAAAAAAAAAAAAAAAAAAAAAAAAAAAAAAAAAAAAAAAAAAAAAAAAAAAAAAAAAAAAAAAAAAAAAAAAAAAAAAAAAAAAAAAAAAAAAAAAAAAAAAAAAAAAAAAAAAAAAAAAAAAAAAAAAAAAAAAAAAAAAAAAAAAAAAAAAAAAAAAAAAAAAAAAAAAAAAAAAAAAAAAAAAAAAAAAAAAAAAAAAAAAAAAAAAAAAAAAAAAAAAAAAAAAAAAAAAAAAAAAAAAAAAAAAAAAAAAAAAAAAAAAAAAAAAAAAAAAAAAAAAAAAAAAAAAAAAAAAAAAAAAAAAAAAAAAAAAAAAAAAAAAAAAAAAAAAAAAAAAAAAAAAAAAAAAAAAAAAAAAAAAAAAAAAAAAAAAAAAAAAAAAAAAAAAAAAAAAAAAAAAAAAAAAAAAAAAAAAAAAAAAAAAAAAAAAAAAAAAAAAAAAAAAAAAAAAAAAAAAAAMjAyMDowODoyNCAxNTo0MTo1NgAyMDIwOjA4OjI0IDE1OjQxOjU2AAAASgB1AGEAbgAgAEMALgAgAE0AbwBuAHMAYQBsAHYAZQAAAP/hCyNodHRwOi8vbnMuYWRvYmUuY29tL3hhcC8xLjAvADw/eHBhY2tldCBiZWdpbj0n77u/JyBpZD0nVzVNME1wQ2VoaUh6cmVTek5UY3prYzlkJz8+DQo8eDp4bXBtZXRhIHhtbG5zOng9ImFkb2JlOm5zOm1ldGEvIj48cmRmOlJERiB4bWxuczpyZGY9Imh0dHA6Ly93d3cudzMub3JnLzE5OTkvMDIvMjItcmRmLXN5bnRheC1ucyMiPjxyZGY6RGVzY3JpcHRpb24gcmRmOmFib3V0PSJ1dWlkOmZhZjViZGQ1LWJhM2QtMTFkYS1hZDMxLWQzM2Q3NTE4MmYxYiIgeG1sbnM6ZGM9Imh0dHA6Ly9wdXJsLm9yZy9kYy9lbGVtZW50cy8xLjEvIi8+PHJkZjpEZXNjcmlwdGlvbiByZGY6YWJvdXQ9InV1aWQ6ZmFmNWJkZDUtYmEzZC0xMWRhLWFkMzEtZDMzZDc1MTgyZjFiIiB4bWxuczp4bXA9Imh0dHA6Ly9ucy5hZG9iZS5jb20veGFwLzEuMC8iPjx4bXA6Q3JlYXRlRGF0ZT4yMDIwLTA4LTI0VDE1OjQxOjU2LjQ3ODwveG1wOkNyZWF0ZURhdGU+PC9yZGY6RGVzY3JpcHRpb24+PHJkZjpEZXNjcmlwdGlvbiByZGY6YWJvdXQ9InV1aWQ6ZmFmNWJkZDUtYmEzZC0xMWRhLWFkMzEtZDMzZDc1MTgyZjFiIiB4bWxuczpkYz0iaHR0cDovL3B1cmwub3JnL2RjL2VsZW1lbnRzLzEuMS8iPjxkYzpjcmVhdG9yPjxyZGY6U2VxIHhtbG5zOnJkZj0iaHR0cDovL3d3dy53My5vcmcvMTk5OS8wMi8yMi1yZGYtc3ludGF4LW5zIyI+PHJkZjpsaT5KdWFuIEMuIE1vbnNhbHZlPC9yZGY6bGk+PC9yZGY6U2VxPg0KCQkJPC9kYzpjcmVhdG9yPjwvcmRmOkRlc2NyaXB0aW9uPjwvcmRmOlJERj48L3g6eG1wbWV0YT4NCiAgICAgICAgICAgICAgICAgICAgICAgICAgICAgICAgICAgICAgICAgICAgICAgICAgICAgICAgICAgICAgICAgICAgICAgICAgICAgICAgICAgICAgICAgICAgICAgICAgICAKICAgICAgICAgICAgICAgICAgICAgICAgICAgICAgICAgICAgICAgICAgICAgICAgICAgICAgICAgICAgICAgICAgICAgICAgICAgICAgICAgICAgICAgICAgICAgICAgICAgIAogICAgICAgICAgICAgICAgICAgICAgICAgICAgICAgICAgICAgICAgICAgICAgICAgICAgICAgICAgICAgICAgICAgICAgICAgICAgICAgICAgICAgICAgICAgICAgICAgICAgCiAgICAgICAgICAgICAgICAgICAgICAgICAgICAgICAgICAgICAgICAgICAgICAgICAgICAgICAgICAgICAgICAgICAgICAgICAgICAgICAgICAgICAgICAgICAgICAgICAgICAKICAgICAgICAgICAgICAgICAgICAgICAgICAgICAgICAgICAgICAgICAgICAgICAgICAgICAgICAgICAgICAgICAgICAgICAgICAgICAgICAgICAgICAgICAgICAgICAgICAgIAogICAgICAgICAgICAgICAgICAgICAgICAgICAgICAgICAgICAgICAgICAgICAgICAgICAgICAgICAgICAgICAgICAgICAgICAgICAgICAgICAgICAgICAgICAgICAgICAgICAgCiAgICAgICAgICAgICAgICAgICAgICAgICAgICAgICAgICAgICAgICAgICAgICAgICAgICAgICAgICAgICAgICAgICAgICAgICAgICAgICAgICAgICAgICAgICAgICAgICAgICAKICAgICAgICAgICAgICAgICAgICAgICAgICAgICAgICAgICAgICAgICAgICAgICAgICAgICAgICAgICAgICAgICAgICAgICAgICAgICAgICAgICAgICAgICAgICAgICAgICAgIAogICAgICAgICAgICAgICAgICAgICAgICAgICAgICAgICAgICAgICAgICAgICAgICAgICAgICAgICAgICAgICAgICAgICAgICAgICAgICAgICAgICAgICAgICAgICAgICAgICAgCiAgICAgICAgICAgICAgICAgICAgICAgICAgICAgICAgICAgICAgICAgICAgICAgICAgICAgICAgICAgICAgICAgICAgICAgICAgICAgICAgICAgICAgICAgICAgICAgICAgICAKICAgICAgICAgICAgICAgICAgICAgICAgICAgICAgICAgICAgICAgICAgICAgICAgICAgICAgICAgICAgICAgICAgICAgICAgICAgICAgICAgICAgICAgICAgICAgICAgICAgIAogICAgICAgICAgICAgICAgICAgICAgICAgICAgICAgICAgICAgICAgICAgICAgICAgICAgICAgICAgICAgICAgICAgICAgICAgICAgICAgICAgICAgICAgICAgICAgICAgICAgCiAgICAgICAgICAgICAgICAgICAgICAgICAgICAgICAgICAgICAgICAgICAgICAgICAgICAgICAgICAgICAgICAgICAgICAgICAgICAgICAgICAgICAgICAgICAgICAgICAgICAKICAgICAgICAgICAgICAgICAgICAgICAgICAgICAgICAgICAgICAgICAgICAgICAgICAgICAgICAgICAgICAgICAgICAgICAgICAgICAgICAgICAgICAgICAgICAgICAgICAgIAogICAgICAgICAgICAgICAgICAgICAgICAgICAgICAgICAgICAgICAgICAgICAgICAgICAgICAgICAgICAgICAgICAgICAgICAgICAgICAgICAgICAgICAgICAgICAgICAgICAgCiAgICAgICAgICAgICAgICAgICAgICAgICAgICAgICAgICAgICAgICAgICAgICAgICAgICAgICAgICAgICAgICAgICAgICAgICAgICAgICAgICAgICAgICAgICAgICAgICAgICAKICAgICAgICAgICAgICAgICAgICAgICAgICAgICAgICAgICAgICAgICAgICAgICAgICAgICAgICAgICAgICAgICAgICAgICAgICAgICAgICAgICAgICAgICAgICAgICAgICAgIAogICAgICAgICAgICAgICAgICAgICAgICAgICAgICAgICAgICAgICAgICAgICAgICAgICAgICAgICAgICAgICAgICAgICAgICAgICAgICAgICAgICAgICAgICAgICAgICAgICAgCiAgICAgICAgICAgICAgICAgICAgICAgICAgICAgICAgICAgICAgICAgICAgICAgICAgICAgICAgICAgICAgICAgICAgICAgICAgICAgICAgICAgICAgICAgICAgICAgICAgICAKICAgICAgICAgICAgICAgICAgICAgICAgICAgICAgICAgICAgICAgICAgICAgICAgICAgICAgICAgICAgICAgICAgICAgICAgICAgICAgICAgICAgICAgICAgICAgICAgICAgIAogICAgICAgICAgICAgICAgICAgICAgICAgICAgPD94cGFja2V0IGVuZD0ndyc/Pv/bAEMABwUFBgUEBwYFBggHBwgKEQsKCQkKFQ8QDBEYFRoZGBUYFxseJyEbHSUdFxgiLiIlKCkrLCsaIC8zLyoyJyorKv/bAEMBBwgICgkKFAsLFCocGBwqKioqKioqKioqKioqKioqKioqKioqKioqKioqKioqKioqKioqKioqKioqKioqKioqKv/AABEIAO0DEQMBIgACEQEDEQH/xAAfAAABBQEBAQEBAQAAAAAAAAAAAQIDBAUGBwgJCgv/xAC1EAACAQMDAgQDBQUEBAAAAX0BAgMABBEFEiExQQYTUWEHInEUMoGRoQgjQrHBFVLR8CQzYnKCCQoWFxgZGiUmJygpKjQ1Njc4OTpDREVGR0hJSlNUVVZXWFlaY2RlZmdoaWpzdHV2d3h5eoOEhYaHiImKkpOUlZaXmJmaoqOkpaanqKmqsrO0tba3uLm6wsPExcbHyMnK0tPU1dbX2Nna4eLj5OXm5+jp6vHy8/T19vf4+fr/xAAfAQADAQEBAQEBAQEBAAAAAAAAAQIDBAUGBwgJCgv/xAC1EQACAQIEBAMEBwUEBAABAncAAQIDEQQFITEGEkFRB2FxEyIygQgUQpGhscEJIzNS8BVictEKFiQ04SXxFxgZGiYnKCkqNTY3ODk6Q0RFRkdISUpTVFVWV1hZWmNkZWZnaGlqc3R1dnd4eXqCg4SFhoeIiYqSk5SVlpeYmZqio6Slpqeoqaqys7S1tre4ubrCw8TFxsfIycrS09TV1tfY2dri4+Tl5ufo6ery8/T19vf4+fr/2gAMAwEAAhEDEQA/APfdZ1G8sZLNLK3jmM8uxt7Yx6Ypv2vW/wDoGQf+BFGtf8fml/8AX2P5Gqmt+L4dK1BdPs9OvdXv9u97WxVC0af3mLsoHbvnmgC39r1v/oGQf+BFH2vW/wDoGQf+BFQ2vidLq2spRp15E91N5LQyhFeBv9oFuev8Oa2BcwFZGE0eIzhzvHyfX0oAzftet/8AQMg/8CKPtet/9AyD/wACKu3GpWNpEkl3e28Ecn3HllVQ30JPNZXh/wATxaxZahdXPk2sNndvb+YZRtYKAdxJ4HWgCx9r1v8A6BkH/gRR9r1v/oGQf+BFXodQs7i2a4t7uCWBc7pUkDKMdeRxWM3iy3k8VafpNg9vdxXcUrtPFMG2FAOOPrR1t/XcNlct/a9b/wCgZB/4EUfa9b/6BkH/AIEVrUUAZP2vW/8AoGQf+BFH2vW/+gZB/wCBFa1FAGT9r1v/AKBkH/gRUcN9rrh92m252uVGJ8cVtVjarrcHh3w/f6rdxyyw2zszJCAXbLAYAJHrSbSV2NJt2Q/7Xrf/AEDIP/Aij7Xrf/QMg/8AAio9L8V6bqvhQeIYXaOy8ppH80YZNudwI9Rg1maf8QrPVPDZ1ax0vUpj9pNstmsa+c7gZ4+baBjuSKppptPoJO6T7mv9r1v/AKBkH/gRR9r1v/oGQf8AgRUHhrxVb+JRdxpZ3VhdWcnl3FrdqokjJGRnaSORzwa3aQGT9r1v/oGQf+BFH2vW/wDoGQf+BFa1FAGT9r1v/oGQf+BFH2vW/wDoGQf+BFa1FAGT9r1v/oGQf+BFH2vW/wDoGQf+BFa1FAGT9r1v/oGQf+BFRzX2uoY9um243OFOZ85HNbVQXP3oP+uo/kaAKH2vW/8AoGQf+BFH2vW/+gZB/wCBFOtdftrvxHe6LGkouLONZJGIG0hgCMc+9R6T4msNXt76eMtbxWNw1vK85CjcACTnPT5hQtQHfa9b/wCgZB/4EUfa9b/6BkH/AIEVFrfiW307w1c6tp7wX6wlBiOUFTlwvUZ9avafq1lqKKLa7t5ZtgZ4o5VZkyO4FG4Fb7Xrf/QMg/8AAij7Xrf/AEDIP/AitauKufiVBbXd6o0DV5bOwmMVzfxpEYosHlj8+7A6nC0rq9h2Zv8A2vW/+gZB/wCBFH2vW/8AoGQf+BFWBrel+RHM2oWyJKiuheVVyG6Hn1ptrrEVxcXiSRtbpaOEMsrptfPcYY4/HFMRD9r1v/oGQf8AgRR9r1v/AKBkH/gRV231KxvJnitL23nkT7yRSqxX6gHim/2rYG4e3jvLeS4jBLQLMpcY9s0AVPtet/8AQMg/8CKPtet/9AyD/wACKl0/WoL3TlvJl+xKzMAtxImflJycqxHbPWrNtf2d5E0tpdQTxqcM8UgYD8RQBR+163/0DIP/AAIo+163/wBAyD/wIqdtZspbG5nsLq3uzbxs7LFKrdBnBx0qn4e8Rx6v4UttavvJsUm3bg8g2rhyv3jj0oAl+163/wBAyD/wIo+163/0DIP/AAIq9DqFncWzXFvdwSwL1lSQMo/EcUWmoWd+rNY3cFyFOGMMofH5GgDNhvtddpQ2nW52vtGJ8YGBUn2vW/8AoGQf+BFOvtUh0XSdR1K6V2htmaR1jALEADpmq2oeLbHTtBstWminaC8eNI1VRuBcgDPPvRv+H47B/wAH8Nyf7Xrf/QMg/wDAij7Xrf8A0DIP/Airk2p2NtOkNze28M0mNkckqqzfQE81kt4qgg8WXWk3pgtoILdJRcSzBQxbPHPHb1o62Dpctfa9b/6BkH/gRR9r1v8A6BkH/gRWpFLHNEskLrIjDKshyCPY1l+JPEdr4Z0wXd3HNO0kgihggUF5XPRVyQM/UijYNw+163/0DIP/AAIo+163/wBAyD/wIo0TXv7Xt53uNNvNKlgP7yG9VQwB5ByrFcfjVy11OwvnZLK9t7lk+8sMquV+uDQBT+163/0DIP8AwIo+163/ANAyD/wIq4uqae901sl9bNOmd0QmUsuOuRnNSm7txEkpuIvLcgK+8YYnoAe9AGd9r1v/AKBkH/gRR9r1v/oGQf8AgRVufVtOtW23N/awtnbiSZVOfTk0+61Czso1kvLuC3RjhWlkCgn2JoAo/a9b/wCgZB/4EUfa9b/6BkH/AIEVU8P+Ko9Zk1gyiGC30268gTeaCrr5avuJ6D736VsRanYT2zXEF7byQIcNKkqlV+pBxR/X3gUvtet/9AyD/wACKPtet/8AQMg/8CKW68Q2kIh+yEX/AJk4gb7NNGfLJOMtlh09Bk+1W5dTsILpbae9t4p2+7E8qhj9ATmgCn9r1v8A6BkH/gRUdxfa7FbSOum24KqSC0+QPwrQuNTsLSZYbu9toJX+6kkqqzfQE069OdPmx/cP8qAKAvNbKj/iWQdP+fil+163/wBAyD/wIqj4j8YxeHL2wsV0u/1O7vgxihslQnC4zneyjvU/hzxZZeItNuLtIprFrWRormC8Cq8DL/ewSOnOc9KFrsD0J/tet/8AQMg/8CKPtet/9AyD/wACKmn1a3k0q5utMube6MSnBjlVlDe5ziuU8L694kvNeh0zVZbSZYoTLcXELR/MT/yz2hiVIJ57cULV2B6K50v2vW/+gZB/4EUfa9b/AOgZB/4EVcfVdPjuxayX1slwSAIWmUOSeg25zRc6nYWcqx3l7bW8j/dSWVVLfQE0AU/tet/9AyD/AMCKPtet/wDQMg/8CK1gcjI5FFAGT9r1v/oGQf8AgRR9r1v/AKBkH/gRWtRQBk/a9b/6BkH/AIEUfa9b/wCgZB/4EVrUUAYi3+um6kjOnW+1VUgedyM571L9r1v/AKBkH/gRVtpBDd3MjZISJWOPbNcfp/xUsb2SyeXRNWs7G9m8iG/nSPyS/OB8rlhkjHTvQtXYNlc6X7Xrf/QMg/8AAij7Xrf/AEDIP/Airs+p2NtcJBc3tvFM/wB2OSVVZvoCcmslPEjt49fw99nURrZ/afP385yBjH40bu39bXB6K/8AXYs/a9b/AOgZB/4EUfa9b/6BkH/gRV2DU7C6uHgtr23mmT70ccqsy/UA5FZlt4hN74ok021Fq9tDFueb7Spdmz0VASeO5OOo60BsTfa9b/6BkH/gRR9r1v8A6BkH/gRVuXV9NglEU2oWscjNtCPMoJOcYxnrVsHPSgDJ+163/wBAyD/wIo+163/0DIP/AAIrWooAyftet/8AQMg/8CKPtet/9AyD/wACK1qKAMHUL/xFDp08lpplr56oTH5k+Vz2yBjj8awPt3xRP/ML8P8A/fT/APxddtff8eE3+4azp/ElraeKLTQp4pknu4GlhmIHlttIBXOc5+b07Gla7sZzhza3aOa+2/FL/oF+H/8Avp//AIuj7b8Uv+gX4f8A++n/APi66ka/aN4mbQ0Ej3KW/wBokYAbUUnABPrVhNWsbhJvsV5b3LwqWZIpVYjHrg8UraXuT7F3tzM477b8Uv8AoF+H/wDvp/8A4uj7b8Uv+gX4f/76f/4ut3wt4oXXvDC6xepFYp5jowaT5VCtjOTiteHU7G4tnuLe9t5YI/vypKrKv1IOBRbzF7K/2mcX9t+KX/QL8P8A/fT/APxdH234pf8AQL8P/wDfT/8Axddtb31peM62l1DOYzhxFIG2n3x0qejlD2X95nBfbfil/wBAvw//AN9P/wDF0fbfil/0C/D/AP30/wD8XXe0UW8w9i/5mcF9t+KX/QL8P/8AfT//ABdH234pf9Avw/8A99P/APF13tFFvMPYv+ZnBfbfil/0C/D/AP30/wD8XW54Xu/E9xLeR+LLXT7doxGYPsRY5zu3bssfQY/GuhqvH/yEJ/8AcT/2anYqNPld+ZliiiimamTrX/H5pf8A19j+RrkrfWbHwl8SNebxNdw2EWpiKW0urlhHG4VApTeeM57e1dVr0vl32lDy3bNznKjOMD/69XZ/IuQBc2DTAdPMiDY/OjZ3DpY4jxLq9nreseD7zTJfOtm1TCSgfK+NvKnuPcVkX3iDTNDtfGmm6ndLDf3FxI8Fqf8AWzK2cMq9WGOcjpXp6tEqoq2ThY+UAiHy/T0prrbyy+bJp5eTGN7QqT+dTyrXzv8Ajb/Iadnf+uv+Z5elxo1trmgv41Nmulf2DD9ka/A8nzcfMPm+Xdt/HpVDTtTsdL8B3AgsoTYz686Rtqe9beBSow0oJBK+x46V6/KLedFSbT2kVfuq8SkD6UreQ8RjewZoyclDECCfpVt3v/XW5KVkl/W1v+CeHWlxcP4a8VrZmyayTUbRpRpMbLbmAshlKD+6V3EkcYzXT6PL4Wufirosvg9bYwixlWWSyX9yTgYGV+Xf69+me1elJ5EcbJHYMiMMFViABFJELeDHkae0eORsiUfyoTs0+3/yNv8Agjlqmv63TLtFQfaj/wA+83/fP/16PtR/595v++f/AK9ICeioPtR/595v++f/AK9H2o/8+83/AHz/APXoAnrkvHP/ACIWq/8AXVf/AEatdN9qP/PvN/3z/wDXqvDMGjlV7aR1MjEgoCOtTJcysOLs7nk7Wt5ba5/wg0YY2WtvFephflSDC+chPuQ5/GtfSPFel+BfCWs3uoyLHGNXlhhQnG5tq4Gew4616N5qeYH+ySb1GA3ljIHpTJFt5UKS6eXUncVaFSM+tW27W/rp+i/Um2uv9b/m2cp8Op9OuzqN/HrOn6jq2oSCe7SyuFlEI6Knyk9BgZ74ruKpQLb2xJttPMJPXy4VXP5VN9qP/PvN/wB8/wD16HboCv1J6Kg+1H/n3m/75/8Ar0faj/z7zf8AfP8A9ekMnoqD7Uf+feb/AL5/+vR9qP8Az7zf98//AF6AJ6Kg+1H/AJ95v++f/r0faj/z7zf98/8A16AJ6gufvQf9dR/I0faj/wA+83/fP/16huLglof3EwxIDyvXg0AefvpGo6p8Xde/s3xBd6Pstod32aGJ9/yr18xW/Suf069Oh+DNUjv/ACtQ3+IDFJdagNsCkonzzBMDb6jpXsgmUSFxaSh26sEGTTG8h42RrBmRjllMQwT7ilFcqt/W6YPV3/rax4nZzpN4Y8dIpsHtA9qyjR0ZYCCwyYxnv6j8K6DR38PXPi7wwfBH2YzQQv8A2l9m+8qbMATY53bs/e5zXpaC3jQpHYMinGVWIAHFEQt4HZ4LBo2b7xSIAn64qk7O/p+CsD1TXr+Nv8iPQ9esPEWnteaXI0kKyNESyFfmXrwa850vSfEOuSeJ9NsLvT7XS7q/kiuHeNzPtJIYKc7eRkcivTY5UiXbFaSIuc4WMClWZUzstZV3HJwgGTU8q5rvtb8v8h3drLvf8/8AM82g8NaW/wAaFsru0juoLHQ4FiSddy/fk5Kngnj04qlfxrJpPxBiYEI2oQqdpxx5g9Oleq+anmeZ9kk34xu8sZx6ZpN8ZDZspPnOW/dj5vrSabjZ9n+LuF/eTXS34KxwJ0a00Pxh4bGg2kVpLcWEqyNEoBlIjJBY/wARyeprN8Ey+FP+Edtre5EB8UIZDcqR/piyYOTJj5tvTrx0r1LzlLKxtJdy/dOwZFRqtusxmXTyJW6uIV3H8at63/rq3+pK0/ryseLhrFPh94UbVhIbIavMZtm77u587tv8Pr2xnPFaLX+mWOpeKNV8J2sd5oCabEskdgxWF5wX3YKHAO0rnHPSvQdb0WPV7jTHWOSBLC4MxjEIIkypGOvHWtePyIojFFYMkbdUWIAH8KS2fq/yQ1pZeS/Ns8g8L3sc3jjUBZSaE0EmhTM50KMrCzBk+9yQWHPSorj7WPAfg5/MsY9MSedrptSVjag+Y2zzMEcZ9eK9jiW2g/1OnmPjHyQqOKVjC8PktYu0X9wxDb+VD6f11b/USWt3/WiX6Hlul6ZY3mg+I5JPFPh22026SIMNGl229s4JOWySBu6H1xXSfDbU7e6F/Z2ltozLasgN9okYW3uCVB7fxDOD9K6tYrRImjTTdsb/AHlEKgN9RUkLQ2ylbexeJSckJEFH6U76gc/4358AeIsHH7p+fwFefa1oWrWngXw9d3Xii+vbc3FqRZy28CoMsOMqgbj6167DMG89Xt5HVpDkFAew4NStJGyBGs5Cq9FMYwKUdHfzi/uY3qreT/Gx4d8SdciuP+EliS30e0vLPiP7cHe+kIjVhJBz8qjOOBjIJrdvrjw1F8SDN4y8kQHSYgkl5/qN2Dwc/Lu9M89cd69QkS2lk8yXTi7kY3NCpOPrSyrbzjE2nmQf7cKmhaJeX+VhvX+vNP8AQ4XwHrdr4d8K2yam8sVtqGqTRaYCjNujaVjHj0XaRjtjFdB48i0G50FbfxPdNZW0koMd2HMfkSDo2/ov41uF4iqKbJysf3B5Y+X6elLLJHPHsns5JEPVXjBH60S97+vT8fMSunf+uv4Hk1zrGuaj4L8RWGlav/b1ramEQaqqD96hdfMUmMAMAuc7ecZp/ha3ju/EdlPouteEY5re3dXtdFJWacbeN4LHODzkjNeqxNDDEY4bF44z1VIgB+VMijtYJPMg03y3/vJCoP5ik1e/n/lYOh5j4LbwtL4ZtrSRIX8VASC4TGbwS7TkyY+bb9eM49qzZfEmlTeCfDmiQ3aSalBqltHPbJy8BSdQd4/h5GBnrXsKi3SczJp7LK3VxEoY/jSCO1WQuum4djksIVyT1zVqXvKXmn9zuJq6a9fxPOU8O6Vqmr+NrrUbKO6lWTahmG4JhAcqDwp9xz0rNsr7TfM8H3PjiS3bSX0QGOS/AMJucL94t8u7bvxmvXBKg3YtJBu+9+7HP1pkgt5Yljl08vGv3VaJSB9BUx91W9PwTX6jerv6/jb/ACPHNM1PT9L8MeIJLGyjfT59dRIze71t4lZI/nkGQTH3x0K+1UEmW58M+PYYn0xrVo7Qr/ZCslscuclMnv6ivcz5BiaM2DFG6r5QwfwpEW3jjKJp5VGwCohUA0PVW8kvut/kNOzv53/G/wDwDzzxPpGn6RpHhCLTbOG2V9RtmcxoAXPy/Mx6sfc81yvj/W4rmTWxFBotpeWt0FRbpXfUGxt/eRnPypzgcYyDXuDSo4UPaSNtOVzGDj6VG6W0kpkk04tIeC7QqSfxqr+9fzv+X+RMVb7kvz/zPNPE9zpmj+MX1I3mhatdzmBZNKv9kl1GchQYB1XruP0r0+5bfpUjbCmYs7T/AA8dKjZLV5vOfTt0o/jMKlvzovLgtZTDyJhlDyV4FStrBY86+Js0Vv428LPPrw0BAk2b4mMbPu8fvAVrCsdai0nw54gWIx6/p51KHGrStiKdnZdzylMKUQsQQOMKQa9jlEFyqi5sGm2jjfEGx+dCi3WAwrp7CI9YxEu0/hUxVr/11T/Qtu9v67/5niOm3Czp45igfS2tW023Zf7GRktiS0gJXJPPAyR6Cuo/sWx0LXPBMmjWsdtPcB4pZVHzzDyHb526tyAcnNejItvEpWPTyisMELCoBFPMqEqTaSEp90+WPl+lXf8AT8E1+pDV/wCvT/L8TxeSTw7J4J1my1LyG8aGacKhP+mmYsfK8vPz427MbeK0/EMllouvR6jeXuhanqDwQpNpGpbZLhSDgGEHlSckn1xXqJS2M/nnTiZc58wwru/Oh0tpJvNk04vIP42hUn86L7P+vkN63+f4u5bgfzLeN9hj3IDsI5XjpT6g+1H/AJ95v++f/r0faj/z7zf98/8A16TBbE9FQfaj/wA+83/fP/16PtR/595v++f/AK9AE9FQfaj/AM+83/fP/wBej7Uf+feb/vn/AOvQBXuut9/17/0avAdIu7dfCekND4rXUr23v0aLw6TEckvg8KPM+UEtyf4a9+S4/wBOlJglOUUY2/WkSCzjkEkelhXByGWBQR+NJK0+b0/B3Hf3bf1seJfEPXo7uPxCotdHsr61YBFvVd75z5anfDz8qjOOBjIJrq777VJ4+v8A7GXNy3hxtm37xb5envXokiW0shkl04u5GCzQqT+dSCVBJvFpJvxjd5Yzj0o+yl6/imhPV3/rdP8AQ8o0uTw9N8PxD4VEJ8VJpsokFuP9JSbyyH83b82d2cbu/Si3k8L3sHhlPBxtG1yO6ja4+yEeeqAHzPOx82M4zur1SMW8MjSQ6e0bt95liUE/U0kSW0Ehkh04xuerJCoJ/Grv71/6/wCGFb3bev4nlx8P6XdaB411G5sopryO9naOaQbmiKuSCmfu8gdMV6foLtL4c055GLM1rGST3O0VN5ke1l+xyYflh5Y+b604XO1QFtpgBwAEHH61MdI8vkvwQ3rK/r+JYoqD7Uf+feb/AL5/+vR9qP8Az7zf98//AF6AJ6Kg+1H/AJ95v++f/r0faj/z7zf98/8A16AC+/48Jv8AcNcn8RrUw6PZ+IIA32jRLhbkberJgqw+mGz+FdLeXBazlHkTDKnkrwKlM4ePa9rKykYIKAg0nfpuNW6nnei3nm+EPEnjaaynuG1JJJIoFJV2hRdqgY5GQuePWud8L38dz8R7NrFtCEU2l3BlGiowXI2YEpyQWGT78mvZVlRY/LW0kCYxtEYxj6VHEttAcw6cYzzykKiq0Urra1vwa/UWrVn/AF/wx45ZNHF4H8NS6scaCmrTf2iWz5YXLhN/bbv29eKm18aXPZ+Mbnwh5B0VtF2ytZEfZ2n+fO3b8u7btzj2r18mFoTC1ixiPVDENp/CkQQRwmKOwZI26osQCn8Khq8bf1sVF8rT7W/B3MzwVo+n6T4Xshp1pFAZIEMjqvzyHHVm6sfc10FVxcbVAW2mAHQBB/jS/aj/AM+83/fP/wBetJy5pNmcVypInoqD7Uf+feb/AL5/+vR9qP8Az7zf98//AF6konoqD7Uf+feb/vn/AOvR9qP/AD7zf98//XoAnqvH/wAhCf8A3E/9mpftR/595v8Avn/69Mt38y+nOxk+ROGGD/FQBaooooAyda/4/NL/AOvsfyNN/wCEr0YeKf8AhHTeAap5fmeQUYZXGeGxg8ds07Wv+PzS/wDr7H8jXnHiy0mXxxrOt2KqbrRzbXIJ/wCee1RJ/wCOFqV0pJPYdrp23/4J6NqfijSNI1ex0zULry7u/bZbxiNm3H3IGB+OK168ZM3/AAkes6b4tOTDeavbwWXp5KkHP13M4/CmT22s+JNa8QSvopvbq3vHhtLj+2Da/ZgpOzEeOfxznFPW2u//AA346i0b020/X/I9prM0TXIddju2t4pIxa3LWzb8csoByMdua4R7R9a8Yabo3jWUlbfSEnMcdy0ayzZIdsqQTwK5qG7uLP4e3FvoUz3tvdeIWt3lNwIzJGVHHmYwvQDOKf8AX42Dp/XZs9tu7lbOxnuXBZYY2kIHUgDP9K5+HxxZzWeh3C2s4XWpjFCDjMZBxluf5Vy2jaPrGmTaw6aSuk6RLpsoe3/tT7ZmXHDDPI496oWX/IA+Hf8A1/N/6HS6/wDgP4tpkydvuf4JHp1nqpvNWvLNLO4SO1wDcyLtSRj1C55OPXpWhXi07XN/p81s19dRCXxTLEXjlIYJh/lB9OMV13hjTofD/wARNT0jTWmFi1lHceVLM0m1920kFiTyBRHVf12T/UuXut/11a/Q7uiiigQVBa/dl/66t/Op6gtfuy/9dW/nQBPRRRQAUUUUAFFFFABRRRQBj3HivRbbXrfRpL5Df3DFUiRS2CMcEgYU8jg4qvrfjjQfD1+tnqd1Is5Xeyw28kvlr6uUU7Rz1OKxPF8dtD488KPGkMcj3chkZQAWOE6nvVC3ktoPEvj7+0Siu1ujKZCPmj8tsYz26VN/db7X/C3+ZVtfu/FnVav440DRI7Z728d/tUfmwrbQPOzJ/exGCQPc8VoQ6ha6pZWd7p8yz28zhkkU8EYNeY/DsC08UxnVsJv0ONrdpenl72PH4V0/w4UjwRYsBiJ7pmh/3OcYq7atf1vb+vmRfRf10udvRRRSGFFFFABRRRQAUUUUAFFFFABRRRQAUUUUANkkSGJpJWCogJYnsK5/SvHmgazqw02yupvtLgmNZrWWJZQOpRnUBumeCeK35mjWF2n2iMKS5bpjvmuDspbfxp4z0/U9O2Jo+il1gmXAFxKVKEL/ALIyfxFC1lYHpG53Fr9+4/66n+QqeoLX79x/11P8hU9ABRRRQAUUUUAFFFFABRRRQAUUUUAFFFFABRRRQBHc3EVpayXFy4jiiUu7noAOtZGneI9L8T+H577RLn7Rbjcm/Yy8jrwwBrC+IN7em40/TU0zUrnTJm8y9ksLVpmKryI+OmTjn0BFY/wp1CO48M63bw2N5apHdylfPgMagdlBPcelEfeb9P1S/UJe7b+uj/yPT1+6PpS0i/dH0paACiiigAooooAKKKKACiiigArH1HxXo2la3Z6RfXgjvr0/uIgjMW+pAwPxrUuZWhtZZY42ldELKi9WIHQV4TqGqzLr2i6nrGia2uqXGqb5N+nsoVBwsaeuABn1OTQtZqPmvxdglpBv1/K57gHWO+uHdgqrEpJJ4A5rH0rx3oGtan9h066lklJIR2tpEjkI67JGUK3TPBPFaE7QSrdm7PlQPbr5hf5doOevpXA6O914G1LRdHS9tNZ0K+mMWn5UC4thtZgdw4ZdoxwAeetEdZWf9MH8N/6sejWOpW+o+d9m839zIY38yFo+R6bgMjnqOKtVxPw0nlntddM8rybdVkVd7E4G1eBXbUdE+6T+9XF1fq19zsFFFFAwooooAKKKKACiiigCC+/48Jv9w1MPuj6VDff8eE3+4amH3R9KAFrM1/xFpfhjTft2t3QtrfcEDbSxJPYAAk1p1438R9Qubq41ptW0XV2tbGDy7BorJnhLEgtKX6dgB6c+tRKTS0Kirs9D1Xx1oWjfY/tk9wxvY/NgW3tJZmZfXCKSPxqW/wDGOjaZo9tqV7PNHDdHEKfZpDK59ogu/wDSuStdOsvE2haVqkGtaloF/p+nhDsCRuF25yyurcHr9Ky9B1e81fxP4Q1HXsNmK7ijnYYWRlbAf2JAFauPvuPn+Gv+Rmn7il5fid6fHHh8eHv7aN9/oW/y/wDVP5m/+55eN+72xmi38c+HrnQ7nVkv9lranbN5sTxyIfQxsA2T2GMnIxXmJ2Hx1bXZwdLPiSQK3BTzPLk5pPFWyXxnqNzFh9Oj1iwFyy4Kb8xdf0qY+9y+dvlt/n+Rb0v5fjv/AJHqGmeN9A1ayurq2vSkdmu6cXMLwsg7Eq4BwfXHNJovjnQNeaYWF46tDH5rrcwSQHZ/eAcDK+44rzT4jAXPiDW5LD95BFp1v9r8vBG3e2AcfjV/4iYvNWA0bDmPQ5ml8kjiL8O3Slf3eb1/C/52C3vcvp+Nv8zutH8eeH9c1A2Wn3khmwWUS28kSyAdSjMoDj6E02y+IHhzUNYGmWt8zTs5RGaCRYpGHULIV2MfoTXF66Y7qw8Gw6KVN0LV2QREZVRGu6qCtbzfC3wTbadt+2m4jESLjeHET7vens35NL73v8id0n3V/TT9T0M/EDw2NcOlfb2+0CXyd/kSeVv/ALvm7dme2M9eK3Iub+fH9xP/AGavHoWt/wDhTyWw2i+OtMmzjeZvtZx+PSvXbMMJ3D/eEMefrzTtp/XZBfX+u5cooopDMbXpkivtKDnBNzkcE8Ac/wA6naDSXmuZWt4zJdJ5c7GI5kXGMHjkYqPWv+PzS/8Ar7H8jTdT8X+HNFu/sur67p1jcYz5VxdJG2PXBNLTqPUclhokdpa2sdnCsFm4e3jEJ2xMDkFRjg5qjq3hfwnrt6LzWNHs725AAEs0G5sfXFb9tdQXttHcWk0c8Eg3JJGwZWHqCOtS03vqJbaGBqmgeGdatbe21bS7W7htRiFJYCwjGMccccVYGnaENNm08WUAtLgkyweSdrk+ox7CtC8vbXT7Vrm/uIraBPvSyuFUfUmpldXQMhDKwyCDwRRvoHY57SfDXhXQjOdH0i0s/tCGOXyYCu9T2PHSra2GhpFaRrZwhLJt9sohOIjnOV44rXooCxjjTNBXpYwD9+bn/Un/AFpzl+nXk8+9WVGmpqD3yxILp0EbTCM7ioOQM46Utpq9nfaleWFu7NcWRUTKVIC7gSOe/Q1eoAg+2wf3z/3yf8KPtsH98/8AfJ/wqeigCD7bB/fP/fJ/wqG2u4VEmWPMjEfKfWrtQWv3Zf8Arq386AD7bB/fP/fJ/wAKPtsH98/98n/Cp6KAIPtsH98/98n/AAo+2wf3z/3yf8KnooAg+2wf3z/3yf8ACj7bB/fP/fJ/wqeigCD7bB/fP/fJ/wAKPtsH98/98n/Cp6KAOV1HwZ4L1fUXv9T0GxuruQ5eaW2yzH64qxf+G/CuqSWr6jpNpctaALAZIM+WB0A49hXRVkal4s8PaNeC01bW9PsrhgCIri5RGIPsTRtog8yHWNE8N+IIoYtb022vkg/1SzwFgn04q40tpBFbQ24EccbgKqoQFAB9qdqGuaVpNil7qepWtnavjZPPMqI2emCTiiO/tNStbS7065iureSQFJYXDqwwehHBoDsWPtsH98/98n/Cj7bB/fP/AHyf8KnooAg+2wf3z/3yf8KPtsH98/8AfJ/wqeigCD7bB/fP/fJ/wo+2wf3z/wB8n/Cp6KAIPtsH98/98n/Cj7bB/fP/AHyf8KnooAg+2wf3z/3yf8KPtsH98/8AfJ/wqeigCD7bB/fP/fJ/wo+2wf3z/wB8n/Cp6KAIPtsH98/98n/Cj7bB/fP/AHyf8KnooAqTzWd1bvBcASRSKVdGQkMPTpXO2PgXwNpt3FdWHh7T7eeFt0ckdtgqfUcV1tVbbVLC8vJ7S1vYJri3OJoo5AzR/wC8ByKFo7rcHqtSO3u4VafLHmQkfKfQVP8AbYP75/75P+FFr9+4/wCup/kKnoAg+2wf3z/3yf8ACj7bB/fP/fJ/wqeigCD7bB/fP/fJ/wAKPtsH98/98n/Cp6KAIPtsH98/98n/AAo+2wf3z/3yf8KnooAg+2wf3z/3yf8ACj7bB/fP/fJ/wqeigCD7bB/fP/fJ/wAKPtsH98/98n/Cp6KAIPtsH98/98n/AAo+2wf3z/3yf8KnooAg+2wf3z/3yf8ACj7bB/fP/fJ/wqeigCD7bB/fP/fJ/wAKzxDpthp9zFp0KQCXc7LHGVDMepPHWtK5uoLK2kuLuaOCCMbnkkYKqj1JPSq8l1b32jPc2c0c8EkRZJY2DKw9QR1oAlW9g2j5z0/un/Cl+2wf3z/3yf8ACpl+6PpS0AQfbYP75/75P+FH22D++f8Avk/4VPRQBB9tg/vn/vk/4UfbYP75/wC+T/hU9FAEH22D++f++T/hR9tg/vn/AL5P+FT0UAQfbYP75/75P+FH22D++f8Avk/4VPRQBB9tg/vn/vk/4VWu49MvpIJLyFJnt38yFnjJKN6jjg1oVlDxRoLax/ZS6zYHUc4+yC4Xzc9cbc5o6h0JftFu95NvOUeNVIKnnrWbpXhrwrod897pGkWlncuCGlhg2sQffFbKkLqE5JwBGpJP40yx1jTdTglm06/trqKFisjwyhwhHUEjpRs7h0sRWUel6csosIUtxNIZJBHGRuY9SeOvFWvtsH98/wDfJ/wp1vcwXdus9rMk0T52yRsGU4OOo96loAg+2wf3z/3yf8KPtsH98/8AfJ/wqeigCD7bB/fP/fJ/wo+2wf3z/wB8n/Cp6KAIPtsH98/98n/Cj7bB/fP/AHyf8KnooAg+2wf3z/3yf8KPtsH98/8AfJ/wqeigCjeXcL2cqqxJKnHymphewbR85/75P+FLff8AHhN/uGph90fSgCH7bB/fP/fJ/wAKhu2sL61ktrxFngkGHjeMkMPcYq7VW91Sw03yv7RvILXzn2RedIE3t6DPU0b6B5mLqXhbwlrEkD6po1ndNboI4jLb52KOgHHSreo6XoGr6YmnanYwXVnHjZBLCSq46YGKs6tr+kaDGkmt6naaekh2o11MsYY+gyaS58QaPZaUmp3eqWcFhJjZdSTqsbZ6YYnFHQOpVbR/Dz6ENFbT7c6aFCi1MJ8vA7YxRbaP4es9FfSLXT7eLTpAVa2WEhGB68Y96t/2/pA0f+1v7TtP7Oxu+1+cvlY9d2cUW2v6ReaU+p2mp2k9hGCXuo5laNQOpLA44ofW/wAwXSxU0zR/D2i6fLY6Vp9vaWsxJkhihIVs9cjFN0fRPDfh5Jk0TTbaxWb/AFgggK7/AK8Vd07X9I1e0kutK1O0vLeI4eW3mV1X6kHim6V4i0XXBKdG1WzvxD/rPs06ybPrg8UdQ6FPStB8M6HeTXekaZa2dxP/AK2SGAqz9+Tj3pLTQPDNhrEurWWl2sF/NnzLlIMO2eTk4q5p3iXRNXvJbXS9Xsry4h/1sUFwrsn1APHSi38S6Jd6tJplrq9lNfx532sdwrSLjrlQcijqgfW5TGgeGRrx1oaXajUyc/avI/edMdcelatvIst7O0ZyNiDpj+9VY+JdDGs/2SdXsv7R6fZPtC+b0z93OelW4/8AkIT/AO4n/s1HTyB76liiiigDJ1r/AI/NL/6+x/I1xN0dXHxS1v8AsjQdP1YeRDvN5deTs+Ven7ts/pXaa5IiXulB3VSboEZOO1ZureC9D1fWJdTlvtQtbqZQsjWWpyQBgBgZCMB2pfaT/rYfRr+tzI1OPV9U8ewaPFq1xo9mNNSaaGxYAh9zfdYjjp6c+1ZUGva7YaDpupz6jNcQabqz2d+z4zNDyodvfcVrvbTRdKs9Qjvo5XkuY7cWwlmuC7FASeSTyfmPNRnw5oR0O90lgps76R5J0M3LMxySDnjmhXS0/rW/5aBo3r/Wlvz1OE1fXtXu/CHiTXob51tGuxDYKMEKiEIx5Hdg1QeLfFDDxBd6dc+Ir/Sjb6dBJZx2BwZ5X3ZDfKc/dGBx1Nd+fC+gHwqnh3ao02NQqxiYg8HP3s561xHiPRNS/wCEqvLiOw1O8tpYY0tZNH1VbQJtz/rf3ilzyPXvQ7J2W3/A/ME3u/61v/wCbUL69tdF0rS73VPEcmqfYBcTxaaEa4VyOWkY4GwE4xj05qHS/EOreJdK8J6dJqN5YNqQuGuLuEhJmETYC55AJ79a37TwZa6ppWnS+J7yY6pBB5Uk1revEzp/cdlI3j1znNXpfA/hqTQrPSk3wQWLl7aSC6aOWIk5O2QHcMn3q3u79/8AP/gfcTH4UvL9P8zio76/8KnxpJb3731zHPawx3MwDOgYlctjqQD145roY4tS8MeKdCiGvX2qwaoHjuIrxw+CE3b48AbRn68Vs2Hg7w3p1hfWcESvFqChbozTGRpiB95iTktznPXPNJofhDQtAu1ubWe4uJo08uJr29e48lemE3k7eOOKE7NX8vytYHs7db/j1+R01FR/aIf+e0f/AH0KPtEP/PaP/voVIySoLX7sv/XVv50/7RD/AM9o/wDvoVBazxAS5lQfvWPLD1oAt0VH9oh/57R/99Cj7RD/AM9o/wDvoUASUVH9oh/57R/99Cj7RD/z2j/76FAElFR/aIf+e0f/AH0KPtEP/PaP/voUASUVH9oh/wCe0f8A30KPtEP/AD2j/wC+hQBJXn/izQNTtNV1HxVpGo6dtjth51reWXm7gnYPvG0nHoa7z7RD/wA9o/8AvoVzGpeCPD+qalLeXV1eDzmDy28eoSJBIQc/NGG2n3yOaTTvdDTVtTjJbrWPF/jbT5dOmtNOC6JHcxR3tr9oQMzNuwu5e3GfSuz8F61Nr3hLT7u6hihnExjkWBcISM8qOwqfW/CWg699mNzJLbNbR+VE9jdtbsE6bcoQdvt0q/aWenaRp9nYaaIobaBwERWHAwapdf66sl9P66GrRUf2iH/ntH/30KPtEP8Az2j/AO+hSGSUVH9oh/57R/8AfQo+0Q/89o/++hQBJRUf2iH/AJ7R/wDfQo+0Q/8APaP/AL6FAElFR/aIf+e0f/fQo+0Q/wDPaP8A76FAElFR/aIf+e0f/fQo+0Q/89o/++hQBJRUf2iH/ntH/wB9Cj7RD/z2j/76FAElFR/aIf8AntH/AN9Cj7RD/wA9o/8AvoUAOkjWWNo5BuRwVYeoNcH4U0+00v4oeIbXT4FggS2g2ovb5VruJJYJYmjM6gMCCVkwR9D2rlNN8AeH9K1v+1rbUdUa7Yje0urSuJMdAwLYYexoXxXB/C0dVa/fuP8Arqf5Cp6qW08QafMqDMpI+Yegqf7RD/z2j/76FAElFR/aIf8AntH/AN9Cj7RD/wA9o/8AvoUASUVH9oh/57R/99Cj7RD/AM9o/wDvoUASUVH9oh/57R/99Cj7RD/z2j/76FAElFR/aIf+e0f/AH0KPtEP/PaP/voUASUVH9oh/wCe0f8A30KPtEP/AD2j/wC+hQBJRUf2iH/ntH/30KPtEP8Az2j/AO+hQBJRUf2iH/ntH/30KPtEP/PaP/voUAZHi7S7LU/Dd59vt1n+zwSSxbs/K2xhn9azvBXHwv0/H/Ps3/oRrT1/R9O8Saf9jvry4iizk/ZLxoC3BGCUIJHPSqWj+G9K8LaNcWmk3V08TIdsdzevOF9lDE4/CiOl/l+oPWx0q/dH0paiW4h2j99H0/vCl+0Q/wDPaP8A76FAElFR/aIf+e0f/fQo+0Q/89o/++hQBJRUf2iH/ntH/wB9Cj7RD/z2j/76FAElFR/aIf8AntH/AN9Cj7RD/wA9o/8AvoUASUVH9oh/57R/99Cj7RD/AM9o/wDvoUASEZGDXnHijTNP1fWtO8P+HbWJbq3vo767uYl/491WQOct1y2MY969CM8BUjzk59HFcZb/AA18NWd9cXVlqGq20lzOZ5hBq8yK7k5JIDYoWkk+wP4WkdVKMSXY64tx/wCzV434eZ/BmjprkasdJ1YSW9+AeIZeQkmPQnCn/er2NGg+0zRmVShiVMl+vXvVEeHdC/4RmXQHSN9OmVleJ5N2QevJqJJ3bXYqLWiZw2k317caD4S0KxvptPh1E3DzXVuQJNqSE7VY8AnPXBrpfCs9/Y+K9Y0C61GfU7a1SKaGe5IaVd+cqzDAPQY49asy+C/Dkvhuy0Qb4rWwIa1eG6ZJYTnOVkB3D86v6Fouk+HoJI7CVneZt0s9xcGWWQ9tzsSTj3Na3XM36/8AA+4zSagl5L+vmbNFR/aIf+e0f/fQo+0Q/wDPaP8A76FSUSUVH9oh/wCe0f8A30KPtEP/AD2j/wC+hQBJRUf2iH/ntH/30KPtEP8Az2j/AO+hQBJRUf2iH/ntH/30KPtEP/PaP/voUAMvv+PCb/cNTD7o+lVb2eJrGYLKhJQ4AYVMLiHaP30fT+8KAJa8/wDijpVl9jsdS+zr9sN/BGZuc7Ru4/Wu8+0Q/wDPaP8A76Fc14k8F6H4ruUm1a9vvkxtjt9SkijBGcNtVgM89aXVPs0Po15GF40F5N46tR4eht7/AFOGwkMtneL+6ERPDBucNuI4wcjjIzXPeGVsL3X/AAnZHfLbRJds8VwuFFwGywxyMA9Pau6vPA2gXq23m3uoJNbxmJbmLU5UmdDztaQNuYfU1LN4K8Ny6La6Yga3itGLwzW9y0cyMTknzFIbJ78804+6/wCvP/P7xS95W/r+unoecGGI+NrfTGUDST4jciLGIy3lyHb6Y9vam+KYYoPF+o2ECiPTJ9XsBcRoMJkmL5T9e/1r0tvB3hxvDy6Ngi3WTzVlFwRMJP8Anp5md27r82c8miDwb4cg0K50oqZobp/MmlmuDJM79nMhO7cMDBzkYGOlEfdt5W+e3+X5Det/P8N/8zzj4hRJp2va1Dpai3t5tPtxdCEbQBvbB4/Gr/j+3j0fVF/sGJbfdokyS+QuP3eOvH867jTvB/h3TrC8tF3XS3yhbiS8uTPJIo6KXck4GTgds0aP4P8AD+im4MLy3TXEXkO99dtcN5f9wFycL7dKVvd5fX8b6fK4X97m9Pwt/kcVrNrBpdj4OuNDhSO6Ns/zRLy4KKST68k1QS0tbb4Y+DL/AE6Nft7XEbrKoy8jGN92T1NehaN4M8PaHqH2y0kmllVSkQubxplhU9RGrEhAfQYpun+B/DWm6umoW3mFomLwwSXbPDAx7xxk7UOMjgDgmnu35tP0s9vmTsrdlb103+R59DaWrfCQaiI1bUm1lnMxGZDILogDPXsBivX7MkzOW+8YYs/rWAPA/hpda/tIeZu87zxbfa2+ziTrv8rO3dnnOOvNdFA6vfTlGDDYnIOf71O+n9dgtr/Xcs0UUUhmRraK15pRZQf9KA5HtWn5cO7bsj3emBWbrX/H5pf/AF9j+RrzTxI0uk/Fq78SQmQrYtbxXCofvRSKqcj0BYN+FK/vKPcdtG+x66Y4QQCkYJ6Agc0vkxf880/75FeQ69ct4h+IOm6sjbrHT9Tt7O2P95zhnYexDKPwqbVPiPeS6rq/2PWk01dOnaGKyOlyXBuSh5zIowuccdetPom/62/zQutl5fr/AJHrHkxf880/75FV7S4sL5ZTZvDOIpDHIUwdrDqD781xg8R654l1fT9N0W6TRpH05L65ea285huJAQKSO461zmn+Kb7wp4K1GW4eJdQutde2MyxtIkbFQd+0DJ4HTFPbf+tbB2t/Wlz1yVbeGJ5ZVjREUszEDAA6mqS6tozxWkiXdqUvW2WzAjExzjC+tcJpHi671GXV9Km1P+2rc6bLMl4unPaeWQMbCrDB9c5rOsv+QB8Ov+v5v/Q6XX7vxbX6Cbt+P4JP9T1KO70+bUJrGKSB7qBQ0sIxuQHoSKs+TF/zzT/vkV5WfE+sQW17Lo8djFe3HiB7Eu0WAyAPgtjqRjNdR4b1LW4fFl/oWv30OoGK3S5initxDgE4KlQT3B5ojqv67J/kxy91/wBd7fmjrPJi/wCeaf8AfIo8mL/nmn/fIp9FADPJi/55p/3yKgtYoysuY1P71v4ferVQWv3Zf+urfzoAk8mL/nmn/fIo8mL/AJ5p/wB8in0UAM8mL/nmn/fIo8mL/nmn/fIp9FADPJi/55p/3yKPJi/55p/3yKfRQAzyYv8Anmn/AHyKPJi/55p/3yKfRQAzyYv+eaf98imstuhw4jUn1AFS1454+t4Lnxbq0lxpEevrHaIFkHLaU3HzkHsRlvlycqOKTdmNK6PXmWBAC6xqD0yAKiuIo8wbUTBlHQDng15fpek6d4w8VQ6brkqazp9ho0LW4kBKO7EgyYPft+FdN8PLiWbwXYrPI0vkXLRI7sSSozjk1VtWv63sTf8Ar5XOx8mL/nmn/fIo8mL/AJ5p/wB8in0UhjPJi/55p/3yKPJi/wCeaf8AfIp9FADPJi/55p/3yKPJi/55p/3yKfRQAzyYv+eaf98ijyYv+eaf98in0UAM8mL/AJ5p/wB8ijyYv+eaf98in0UAM8mL/nmn/fIo8mL/AJ5p/wB8in0UAM8mL/nmn/fIo8mL/nmn/fIp9FADPJi/55p/3yKQRwkkBIyR1GBxTpE8yNk3Mu4EblOCPoa4DwhpkOk/FDxHbW7yyDyIWaSZy7uSq8knqaF8Vge1zt7aKMtPmNTiU4+X2FT+TF/zzT/vkVHa/fuP+up/kKnoAZ5MX/PNP++RR5MX/PNP++RT6KAGeTF/zzT/AL5FHkxf880/75FPooAZ5MX/ADzT/vkUeTF/zzT/AL5FPooAZ5MX/PNP++RR5MX/ADzT/vkU+igBnkxf880/75FHkxf880/75FPooAZ5MX/PNP8AvkUeTF/zzT/vkU+igBnkxf8APNP++RR5MX/PNP8AvkU+igCNo4UGWSNR6kCoLtIjYTMiofkOCAKpeJNG0jV9PH/CRKsljbkyyRyt+7bAP3h3HOfriuU+Hdg9noOuS2sbW+j3F076bbngJFsUHA7AsGOPeiOra/r+v8geiTO/WGLaP3adP7opfJi/55p/3yKcv3R9KWgBnkxf880/75FHkxf880/75FPooAZ5MX/PNP8AvkUeTF/zzT/vkU+igBnkxf8APNP++RR5MX/PNP8AvkU+igBnkxf880/75FHkxf8APNP++RT6KAGeTF/zzT/vkU3bb7tuIt3pgZqU8ivLfFnhjSYPEmlR+HYB/wAJJNfpcy3YOZUhDhpN7f3duVA+goWsku4dGz0dIo/7QmGxceWvGPc1MFt2baojJ9ABVWaKSZ7uKOTZI8Cqrjseea8y8F6fZeFtesrHxNoslhrryOiaxEQ0eotg53N94kjLYYAZHWhaysD+G56wI4WzhIzjrgCl8mL/AJ5p/wB8iuR+Hd59sg1tjBBCU1ORP3MYTdhV5Pqfeuxo6J90n96uHV+rX3DPJi/55p/3yKPJi/55p/3yKfRQAzyYv+eaf98ijyYv+eaf98in0UAM8mL/AJ5p/wB8ijyYv+eaf98in0UAM8mL/nmn/fIo8mL/AJ5p/wB8in0UAVb2KMWMxEag7DyFqYQxbR+7Tp/dFMvv+PCb/cNTD7o+lADfJi/55p/3yKQxwrjckYz0yBUleefFPSYWt9O1J5Z2lW/hRIzKfLT73IXsT6+1HVLu0HRs75kgT76xr9QBQUgVdzLGB6kCvPfHOiy3niyC71Xw9deJNGFqypaQbD5M2R85V2UdM8571y3htv8AhLJPDOh66jzaYDdObWc5EmxzsVux29KI+9ot/wDhwl7qu9j2vZBt3bY9vrgYoCQFdwWMr64GK8UMCtrUPg3cw0M640Rt9x2mMI5EX+6CAce1JrcC6NrGo+FdKZrTR7rUrSNoImIWNJDGHQDsGyc/WiPvWt12/D/MHpe/Tf8AH/I9sVIGGVWMj1AFCrbv9xY2x6AGvFvFUKeC9R1nSvDP/EvsrqxhZooCQsbFiCwHQEjjPtVrxLYW3w+1Fk8JRCwS50iXzVhJALAcSEf3h60rrl5vX8L/AOQfa5fT8bf5nr6rbsSFWMkdQAKAtuW2hYy3pgZryO50qz8Gr4a1XQIRDeXtu/2t0Jzckqrbn9SCx/OqVvpdtpHg7wv4ssh/xO7ydXurwE+Zc70YsGPcZAOPanom79Gl83sG6TXVXXyPadtvu27Y93pgZqOFQt/OFAA2JwB/vV4zHpds3gUeM2y2vtqpb7buPmbRcFBHn+7tAXFex2bF53ZurQxk/rTt33FfXQuUUUUhmTrX/H5pf/X2P5Gq914Ss7y71eeeWU/2tAIJV4wgC7QV9+M1Lr0Mct9pRkXJFzgfQjn+VaX2K3/55D8zSaT3Gm0c5Y+AdO0/QtI0uCefy9LuFuEkYgtKwOfmPf0pLnwXcpqVxc6D4jvtGjupPNmt7eKGRHc9W/eKxGfauk+xW/8AzyH5mmvaWkalnRVUdSWwBVN3dxWsYGseDZNSvrXUbPXL3TdShg+zyXdukZMyejKylepJ4FRW/wAO9OtfD0ulxXV1lrs3kV0z7pYZSMbgT1/HPWuj+z2RZVATcwyo3ckeop/2K3/55D8zS/r9fzAxtO8OalbwXcOq+Jr7Vo7mFogs8EKeXkYyNiDn61BF4Gs4rLQ7YXU5XRZjLCTjMhJzhuP5V0H2K3/55D8zR9it/wDnkPzNH9fcK39epzaeALFAcXdwf+Jm2pfw/fIb5enT5vrWvFoUMXiefWxLIZprdbcxnG0AHOfXPNXfsVv/AM8h+Zo+xW//ADyH5mhabf1pb8hvXf8ArW/5k9FQfYrf/nkPzNH2K3/55D8zQBPUFr92X/rq386PsVv/AM8h+ZqG2tIGEm6MHEjAcn1oAu0VB9it/wDnkPzNH2K3/wCeQ/M0AT0VB9it/wDnkPzNH2K3/wCeQ/M0AT0VB9it/wDnkPzNH2K3/wCeQ/M0AT0VB9it/wDnkPzNH2K3/wCeQ/M0AT1yGreAmvtVvrzTtevtKXUVC3kFukbLNgY6upK8E9COtdR9it/+eQ/M0fYrf/nkPzNK1wOWuvh5bqLNtB1S70We2thame2VHaWMZOG3gjqSc9ea2tO0e10HSbHTrEMIYHABY5LcHkn1q/8AYrf/AJ5D8zUNxZwK0OIwMyAHk+hqrgXaKg+xW/8AzyH5mj7Fb/8APIfmaQE9FQfYrf8A55D8zR9it/8AnkPzNAE9FQfYrf8A55D8zR9it/8AnkPzNAE9FQfYrf8A55D8zR9it/8AnkPzNAE9FQfYrf8A55D8zR9it/8AnkPzNAE9FQfYrf8A55D8zR9it/8AnkPzNAE9FQfYrf8A55D8zR9it/8AnkPzNAEsis8TKjmNmBAcAEqfXmuO0rwFf6Z4nl1t/FupXU0+0TxyW8AWVQAADhAR0HTFdZ9it/8AnkPzNH2K3/55D8zQtHcN1YLX79x/11P8hU9Ube0gZp8xg4kIHPsKn+xW/wDzyH5mgCeioPsVv/zyH5mj7Fb/APPIfmaAJ6Kg+xW//PIfmaPsVv8A88h+ZoAnoqD7Fb/88h+Zo+xW/wDzyH5mgCeioPsVv/zyH5mj7Fb/APPIfmaAJ6Kg+xW//PIfmaPsVv8A88h+ZoAnoqD7Fb/88h+Zo+xW/wDzyH5mgCeioPsVv/zyH5mj7Fb/APPIfmaAMLxp4QPjHT7e0Or3mmpDMJW+yhD5uOisGBBHfHtT9N0S/wBG0y6jvteutVQx4jWeCGMRADoPLVa2vsVv/wA8h+ZqC8tIEspmWMAhCQc0LTYHqXV+6PpS1XWyt9o/dDp6ml+xW/8AzyH5mgCeioPsVv8A88h+Zo+xW/8AzyH5mgCeioPsVv8A88h+Zo+xW/8AzyH5mgCeioPsVv8A88h+Zo+xW/8AzyH5mgCeioPsVv8A88h+Zo+xW/8AzyH5mgCYjKkA446+lcLZfDe+03WLzUbHxlqscl5MZZQ0FvIcZ+4GaMkKOmM12n2K3/55D8zR9it/+eQ/M0bO4bqxA1uJ5bi3kkf5oVUup2t35yOhrn7LwG6apZ3es+INQ1eOxbfawXCxqsTYI3ZRQWOCR8xNdAlpAb6VTGMBFIGfrU/2K3/55D8zQtHcOljO8PeHLfw7HepbTSSi8uWuW8zHykgDAx24rYqD7Fb/APPIfmaPsVv/AM8h+Zo6WAnoqD7Fb/8APIfmaPsVv/zyH5mgCeioPsVv/wA8h+Zo+xW//PIfmaAJ6Kg+xW//ADyH5mj7Fb/88h+ZoAnoqD7Fb/8APIfmaPsVv/zyH5mgAvv+PCb/AHDUw+6PpVK8tIEs5WWMAhSQc1MLK32j90PzNAFiuT8XeCrnxZLED4jvtPtomWRbe3hhZd65w2WQnv0ziul+xW//ADyH5mj7Fb/88h+ZoA5+/wDCurX9jDbN4v1KJFjMc5jggBuAeuTs+U44+XFNvfAdlJp2mwaTdT6TcaZuFtd24VnUN97IcEHPfINdF9it/wDnkPzNH2K3/wCeQ/M0Acu3w7sm0OO0F9dC/juTeLqfymbzyCC+MbeQSMYxz0pB8OrKTR7u2v766vL27mW4fUZNolEqY2MAAFG3avAGOORXU/Yrf/nkPzNH2K3/AOeQ/M0f1/X3IDmLf4e2bWeox63f3WsXOoRrFLdXAVWCLkqFCAAYJJyBk96XTvAUML3Emuapd65JNam0D3aovlxHqoCADn16+9dN9it/+eQ/M0fYrf8A55D8zQH9f19xzGkeAY9Pv4Li/wBXvNUitI2is7e5VAlurcEDaAW4wMtnpUWm/Di2sL2036reXOm2DmSy02UJ5UBwQMEDc2ASMMT1rrPsVv8A88h+Zo+xW/8AzyH5mn1uHSxySfDe1S/GNVvP7JF19rGk4TyRLu353Y343fNjOPbFdZEMX84HACJ/7NS/Yrf/AJ5D8zTLeJIr6dY12jYhx/31S6WB6u5aooooAyda/wCPzS/+vsfyNeY+M9StR8QNbttV1PxBCsNir2kWlSXO0SbByRFx1/vV6drX/H5pf/X2P5GsDUvC3iRfF99rXh3VdNt1vYFieK8s3lK4AGQVdfSokndW8/yKi9H/AF1Rlw+PLjSvBvh5Jruxl1TUgyLPe3HlwqFPJdvUAjI65zUGo+L38Q+B/E1hdvYSXljEhaXTZ/NgdWYYKt1zxyDWgfhl9n0HTYbK6tpNS0+SSRZby382FzIcuDHkcemDxV9PCOp3PhbU9L1KXR4ZrxQqS6bYGBVAOfmBY5/Orn7yn53/AKRMdOUx7d1j8c+Dnc4VdEJJ9P3Zqc+OvED6K3iWDSrJvD6yfdMrfamjzjeB93r2zW0nhBl17Rb97pGTTbA2jx7D+8+UrnOeOtY8fgHW49PfQBrVr/wjbSkiH7M32lY852eZu24z/s03rL7/AM3+hMVZa+X5L9TvYpVmhSWM5V1DA+xp9NjjWKJY4xhVAAHoKdQ7X0Gr21CiiikMKKKKACoLX7sv/XVv51PUFr92X/rq386AJ6KKKACiiigAooooAKKKKACvJPH+oSW/iq9TULvVkjW2Q6f/AGZdvGkUhwD5wQjAzzl+MA88163XDav4L1uTWdWudC1Swgt9YjVLqO8tWmdcAj5CGAHBPUHtUu9/6/r5lK1n/XUZrGkLd+EINU8Q+I72BbWwBaSwvGhVn25L7kI359Oa1fB8upT+C9Fk1ssb1gpkL/ePXBPvisDU/h5rz/2PbaTrVj/ZulwhRZ39q8qyyA53ttdc+w6cV2NjFqcNhaprU1rPdCYZe0haOPGDjCszH9a06yfd/wCf5mevuo1aKKKkoKKKKACiiigAooooAKKKKACiiigAooooAbIrNGyo+xiCA2M7T64rhfCYv7T4i6/YX2q3WoLHDE4MzYUMVUkqnRevau6kDmJhEVD4O0sMgHtmuH0bwt4usfGVzrd9rGjzJeKiTxRWMinaoAG0mQ4PA65pL40D+FnZ2v37j/rqf5Cp6gtfv3H/AF1P8hU9MAooooAKKKKACiiigAooooAKKKKACiiigAooooAyfEGjDWrRIZdRurG3Rt8xtZjCzgA8b1IKjPPHpXK+AZb19H16OS7ubzTIbt00+4upDI7xhFz8xyWAfeMn0rY8deH9b8SaTFZaFq8OmgyhrjzYWkEyD+DhgQCcdDT9F07W9L0We11i40uSGOLbAmn2rwhBjvuds0R0v/XbUJdEdIv3R9KWkX7o+lLQAUUUUAFFFFABRRRQAUUUUAB6ccV5n4r0u60TWdLudL1vU7jWbzUU/wBGa6cxNCXG8eTnaAqZ5x2z1r0s52nHXHGa89svB3jOy8TXmrnXdHu5LiQ7GurCRnhizxGpEgA474oj8af9egP4WdpMJy92LcgTmBdhPQNzivOPAVwItaht/EOqazZ+JAzi6tb6aRre5POfKBJjxnkBeQBXpDRSyy3EazGKVoVHmIPunnkA1y8XhDX9R1nTbrxRrFldQaZIZYFtLVopHfaVy7MzZGCegHNEdJ/1/X+YP4Lf1/X5FvwJqZ1OHWHZZV8nUXi/eXDy5wq9Nx+Uc9BxXV1geFPDb+G4dRSS5Wf7ZePcgqm3aCAMfpW/R9lei++2our9X+YUUUUDCiiigAooooAKKKKAIL7/AI8Jv9w1MPuj6VDff8eE3+4amH3R9KAFri/Hmjwtp93rF9rmpWawQ4t47S7eBVf3CkbyeODnpXaVwvijwh4m1rxVb6lY6xpwsbZP3Vhe2byIJP752uuT068VMlfQpO2pleIx4hPwn0/Ur7VbqyvYre3NxDD8jPIXQElhyOpyOlX9flutZ1/w34e+3XVpa3Vs1zdSWszRSybVGBvUgjnOeateJ/Dfi7xF4bTSzq+jwtJg3Mn2GQhirBl2DzOBx3zRc+Etfng0q+GqafHrumBo451tX8h42ABVk37s8f3qt6zbe1/8/wBbEJWikt7f5f8ABOROpaq19F4MGq3ghbWGtmu/PPn+QFdgvmZ3Zyo5zmk1TUtV0G+1DwpZareNDNf20ENzPOZJoY5SgcByS2fmbBzxxXUN8O7o6bFcLqUX/CQR3xvxeGE+UZSCCuzOdmGPGc9OaST4dXV/p97Pqupxya5c3Md0l1DCUiieLbsAQknb8oyM5PPIpR0tfyv57f1/w5T62+Xlv/X/AAxzWv6lqfga71bSNM1S8uIprSKSB7ydp3hdmIYhmJOMY4qzrM998O754tP1S/vUudMkkxfXLT7ZlHDjeSQPYcVvN8PLrWLfU5fFWow3OoX0KQJJaQmJIVQkghWLHOTzz+VSQ+BdQ1Sa4m8ZalbX0jWTWUIs4DEqK3VjuZiW9+ntS15bddf1svkGnNfpp+l3+f8ATOeY3vg5tB1WPVtQvW1OFzeRXV00qMxUMCqsSEwWP3aq2sup6V4d8PeMH1m/uLzUZlN5BJcs0DK6Mdqxk7VwQOgrqtN8D6o95Zf8JLqlrfWWmxNFZwwW7RsQRjMhLHcQAOmKg074ealAdO07UdWguNB0qTzLS3SArM2AVUSOWIIAY9AOcU+rt308lfVfMnpr2183bR/I5pJtUbwsPG7azf8A246kV+zi5YW4hE5j2eVnb90dcZzzXrVo/mXEjnq0UZ/nXFR/DvUUI0r+14P+EcW9+2C28g+fnf5mzzN23buJ/hzjv3rt4VCXsyrwBHGB/wCPU9Laf1ogd+bX+tSzRRRSGY2vReZfaUd7ri5xhWx1H/1q0vsg/wCe03/fw1Q1r/j80v8A6+x/I1gXd5rHibxXqGkaNqz6Na6XsE1xBHHJLK7KCFw4YBQD6ZyKOtg6XOu+yD/ntN/38NH2Qf8APab/AL+GsNrvW9C0mG3kt5fEV+WYK8e2Hco5y7EBAefbNcv4m8VSa14Q0+9tEuNOnXV47e4h8z5kYEhlJXqKOqS7r8Xb9RPRNvz/AA1/Q9E+yD/ntN/38NH2Qf8APab/AL+GuV1zxpcRXmpWGj6Lc6klhF/plxDKq+SSu7AU8sdpBwvNVfC+v6jB8PNFmtdMu9YvJ4WdlMoTABOSzvxnkcHk/hQtU36fjf8AyG1Zpd/+B/mdp9kH/Pab/v4aPsg/57Tf9/DXI/8ACyIZNH0+4tdMmlvr65e1jsWmVCJUzvUufl42n64rq9NuLu6sI5tQsWsJ2+9btKshX/gS8GnYB/2Qf89pv+/ho+yD/ntN/wB/DU9FICD7IP8AntN/38NH2Qf89pv+/hqeigCD7IP+e03/AH8NQ21sGEn72YYkYcP71dqC1+7L/wBdW/nQAfZB/wA9pv8Av4aPsg/57Tf9/DU9FAEH2Qf89pv+/ho+yD/ntN/38NT0UAQfZB/z2m/7+Gj7IP8AntN/38NT0UAQfZB/z2m/7+Gj7IP+e03/AH8NT0UAQfZB/wA9pv8Av4aPsg/57Tf9/DU9cX41tdVsLG+1qDxdqGnW8MeVtYbe3Zd3QDLoTySO9Ju2o0r6HW/ZB/z2m/7+Gobi2AaH97McyAcv04NedarqGuaT4HsbzXvHA0u9Nm0oAhg826lOWC7WXBwpUYUZyK7jRby8v/DulXWqQ+Tdy7WlTGMHB7VVt/Im+3maf2Qf89pv+/ho+yD/AJ7Tf9/DU9FIZB9kH/Pab/v4aPsg/wCe03/fw1PRQBB9kH/Pab/v4aPsg/57Tf8Afw1PRQBB9kH/AD2m/wC/ho+yD/ntN/38NT0UAQfZB/z2m/7+Gj7IP+e03/fw1PRQBB9kH/Pab/v4aPsg/wCe03/fw1PRQBB9kH/Pab/v4aPsg/57Tf8Afw1PRQBB9kH/AD2m/wC/ho+yD/ntN/38NSTCQwOICqyFTsLDgGuCSfxHoPjrRrC816TWI9SEhuLZ4I0W3ARm3KVUHbkY+Yn86Fq7A9Fc7K3tgWn/AHswxIRw/XgVP9kH/Pab/v4aLX79x/11P8hU9AEH2Qf89pv+/ho+yD/ntN/38NT0UAQfZB/z2m/7+Gj7IP8AntN/38NT0UAQfZB/z2m/7+Gj7IP+e03/AH8NT0UAQfZB/wA9pv8Av4aPsg/57Tf9/DU9FAEH2Qf89pv+/ho+yD/ntN/38NT0UAQfZB/z2m/7+Gj7IP8AntN/38NT0UAQfZB/z2m/7+Gj7IP+e03/AH8NT0UAQfZB/wA9pv8Av4agvLYLZTHzZjhDwX4qn4rfVovD9zLodxBbSxxu7yyoWKqFJ+UdM5A65FVfDN/dap8PbS81Cbzrma3JkkKgbjkjOBx2oWt/L+v0B6WNxbUbR++m6f8APSl+yD/ntN/38NTL90fSloAg+yD/AJ7Tf9/DR9kH/Pab/v4anooAg+yD/ntN/wB/DR9kH/Pab/v4anooAg+yD/ntN/38NH2Qf89pv+/hqeigCD7IP+e03/fw0fZB/wA9pv8Av4anooAg+yD/AJ7Tf9/DR9kH/Pab/v4anPTjrXnXiafxR4bv7DUP+Ega6+16jHbjSlt4/LMbuF4O3fkKck5xx6ULWSXcOjZ26WwN9Kvmy8Ipzv571P8AZB/z2m/7+GoWdlnunHDCBSPY/NXnPgfxrrUrXdn4mullku4pbjTLjYq5C5zHgAAkdfoKV9beVx9Lnpn2Qf8APab/AL+Gj7IP+e03/fw1x2neNbiDwno8k1vLqur6k8iQ28W1DJtcgkn7qgDHJra8O+JzrV3eWF7p8umajZFfOtZXD4Vs7WDLwQcHpVW1a7Ep3Sfc1/sg/wCe03/fw0fZB/z2m/7+Gp6KQyD7IP8AntN/38NH2Qf89pv+/hqeigCD7IP+e03/AH8NH2Qf89pv+/hqeigCD7IP+e03/fw0fZB/z2m/7+Gp6KAKN5bBbOU+bMcKeC/FTC1G0fvpv+/hpb7/AI8Jv9w1MPuj6UAQ/ZB/z2m/7+Gj7IP+e03/AH8NT1xHxA1LxBpH2G602+htrJrqKJkWLdJJuzkEtkY4HTmjql3Do2dh9kH/AD2m/wC/ho+yD/ntN/38NcH408RXVr4th0qfxJH4WsDamdb5xF+/kyB5eZQV75wOeKx5vGGvar4R0S9s73UIle4mivbvSbAXLsqnCsF2MMEc8Cle6v8A1vYdrO39bXPVPsg/57Tf9/DR9kH/AD2m/wC/hrzufxTeXOh6Hp/h/Xp7q61a8MD6jc26JNAApZgY9oUMMAYK96pX/izxHob3/h2TUftuofbYLa11CWFVZUl2gsVUBSV3HHHYZp9bf09v8xdL/wBL+rHqP2Qf89pv+/ho+yD/AJ7Tf9/DXmOqeK/EHgyXVdNvtROsTLaxzWdzPCiMHZiCDsAUgYBHFT3uv+IPA13JDrGrPrizadJcRtNAkZjmUfdGxQNp9+aV1a/T/L/hg626/wDDf5no/wBkH/Pab/v4aPsg/wCe03/fw15xFrXiLw1Lo+oa1rL6na6tCzyW7wIot2wGUIVUEj5sfMT0qtZ+IvE9npOieKtR1c3FpqswE2m+QgjgRlZhtYLuyMAck9afX8PmHS/z+R6h9kH/AD2m/wC/hplvH5d9Ou5m+ROWOT/FXmKeI/FD6L/wmP8Aa5WzOoGEaUIEMfkiXyyd23fuwN3XGTXp1s/mXUj/AN6KM/8AoVO2gdS1RRRSAyda/wCPzS/+vsfyNYN9o3iDRPFl5rPhW1s7+LUlX7VaXNwYNrqAA6uFbsOmO/WtvXkdr7SikuwfacEbQcnHB/z61peTP/z9H/vgUdbh0scF4k8OeKNft9MuNQs7C/8AKaQ3GktdNFDzjafMCksRgnoOtUbH4dava+DItKCWcUq6yb3ZHIdix5zgEjOa9L8mf/n6P/fAo8mf/n6P/fAoWm39Wdweqs/63X6nEXPh7xPpXiDWn8Ow2E9nrbLI81xMUa1fYqEhAD5gwucZX0rJvPAOvf2JoFq9vZ6tFYwSRXNhNctBEzsQVkDAEnHPGO9em+TP/wA/R/74FHkz/wDP0f8AvgUraW9Pwvb8xt3d/wCv60PN9M8Favo/gJdDm8PaVrBe8mmeCS9aFI1Zyy7W2Mc8iuy8G6TfaL4Yt7PVJQ86ljsD7xECSQgbjIA74rW8mf8A5+j/AN8CjyZ/+fo/98Cqvq33ET0VB5M//P0f++BR5M//AD9H/vgUgJ6Kg8mf/n6P/fAo8mf/AJ+j/wB8CgCeoLX7sv8A11b+dHkz/wDP0f8AvgVDbRTESYuCP3jZ+Qc80AXaKg8mf/n6P/fAo8mf/n6P/fAoAnoqDyZ/+fo/98CjyZ/+fo/98CgCeioPJn/5+j/3wKPJn/5+j/3wKAJ6Kg8mf/n6P/fAo8mf/n6P/fAoAnrlvFegal4h1bR7dWiXR7ef7Regt80pUHYmMdMkHP8Asiui8mf/AJ+j/wB8CjyZ/wDn6P8A3wKOqYdDnPFUHiKWQw6No+l6navAVAvLjyWifnkfI2RjHpVnw1os3h7wrpWl3Vx9omtyFeT1PPStryZ/+fo/98CobiKYNDm4J/eDHyDjg0LRPzB62LtFQeTP/wA/R/74FHkz/wDP0f8AvgUAT0VB5M//AD9H/vgUeTP/AM/R/wC+BQBPRUHkz/8AP0f++BR5M/8Az9H/AL4FAE9FQeTP/wA/R/74FHkz/wDP0f8AvgUAT0VB5M//AD9H/vgUeTP/AM/R/wC+BQBPRUHkz/8AP0f++BR5M/8Az9H/AL4FAE9FQeTP/wA/R/74FHkz/wDP0f8AvgUALdmcWcps1RrjYfLDnClu2T6V594T0zxtYa09/wCItF025vLp9s98mpsTFHnhUj8roBjjPNegeTP/AM/R/wC+BR5M/wDz9H/vgULR3B6qwWv37j/rqf5Cp6o28UxafFwRiQ5+Qc8Cp/Jn/wCfo/8AfAoAnoqDyZ/+fo/98CjyZ/8An6P/AHwKAJ6Kg8mf/n6P/fAo8mf/AJ+j/wB8CgCeioPJn/5+j/3wKPJn/wCfo/8AfAoAnoqDyZ/+fo/98CjyZ/8An6P/AHwKAJ6Kg8mf/n6P/fAo8mf/AJ+j/wB8CgCeioPJn/5+j/3wKPJn/wCfo/8AfAoAnoqDyZ/+fo/98CjyZ/8An6P/AHwKAMzxWNYl0Ge30Cxtrye4RomW4uTCqKykbshWz9KyfB9nrul+Df7N8QWFrataxFI3trozeYOTk5Rcdfeup8mf/n6P/fAqC8imFlMWuCw2HI2DmhaX8weti6v3R9KWq6wz7R/pJ6f3BS+TP/z9H/vgUAT0VB5M/wDz9H/vgUeTP/z9H/vgUAT0VB5M/wDz9H/vgUeTP/z9H/vgUAT0VB5M/wDz9H/vgUeTP/z9H/vgUAT0VB5M/wDz9H/vgUeTP/z9H/vgUATHO045OOK81t9N8df8JhPq+q6Jpeo+XIyWJ/tNo1t4umQnlH5iOpz3r0TyZ/8An6P/AHwKPJn/AOfo/wDfAoWjuD1ViHa8s1wpAV2gUEZyATnvXEXHw9u7v4cx6W0kUOsWjtNaXCnIR89M+hBIP1rtkim+3Sj7Qc7Fydg561P5M/8Az9H/AL4FS4pjTaOAt/B/iHTNB8NXdolnca3o/mLNA8pSKVZGJYB8HHHTg1v+GtH1Rda1DXdfjgt728VIltbeUyJEiZ/jIG4nPoOldB5M/wDz9H/vgUeTP/z9H/vgVfM7t+v47k2SSX9abE9FQeTP/wA/R/74FHkz/wDP0f8AvgUhk9FQeTP/AM/R/wC+BR5M/wDz9H/vgUAT0VB5M/8Az9H/AL4FHkz/APP0f++BQBPRUHkz/wDP0f8AvgUeTP8A8/R/74FABff8eE3+4amH3R9KpXkUws5S1wWG05Gwc1MIZ9o/0o/98CgCxXDfEPTfFGtpbWWhaXYz20M8dwZ7i+MTFlz8u0IfXrmuy8mf/n6P/fAo8mf/AJ+j/wB8Cl1TGczq7+K7uwgSDw3pMlxJGRI099uFux4BUeV8+Ovaqmn6P4k8H6NZWHh2ysdVTazXP2i5NuRKzFiwIVsjnGMdq7HyZ/8An6P/AHwKPJn/AOfo/wDfAp+gjztfAGsWun2uqQPbSa9DqT6i8BcpC5cMGj3YOB82d2O3Si68Ca3q8N7rN/8AZbXW5byG6t7eOUvGgi24jL4Gd2zk44z0OK9E8mf/AJ+j/wB8CjyZ/wDn6P8A3wKNtvl5bf5Bvv8A8P8A1c89vfA2teKl1W/8QLa6ff3FvHBaw28pmWPYSdxYhc5zjGOMd6ll8I674suJ5/FkFpp5Swe0t0tZzPl2/wCWhJVcY9MfjXe+TP8A8/R/74FHkz/8/R/74FGlrdA63/rp/kcHaeFfEGsXOmW3ie3s7ex0mFo43t7gyvckgKGIKjZgKDjnrVaw8F+I5rPSPD2rx2Y0fSJd63kc5aW6CqVUGPaAn3s5yelei+TP/wA/R/74FHkz/wDP0f8AvgUdf637h0secx+CvEa2K+GGSzOhLfm6+3GY+aUMvm+X5W3HUlc7vfHavQ7dBHeSovRY4wP/AB6n+TP/AM/R/wC+BTLdWW+nDvvOxOcY/vU76B1uWqKKKQGTrX/H5pf/AF9j+RrmL3xzqNh8Ul0Oe3t/7HbZH54B8xJGTcMnOME8dO9dPrX/AB+aX/19j+RrkvEPhG91jVfEkv2ZsSRQS2Um4DdNEFZQPT5lxU3tJPp1+7+reY7XTX9bljxF44vrDx5puiaXFBJbtNEl7JKhJXzGIAUggAjGec9RWpqXj7StN1Ce1a31C6FqQLme1tTJFAT/AH2HC1y2neFdbOk6PfalaE6tcatHeagoYHyguF69xhQfxqhd+Fb7S9Y1eG4sfFN9bahdPOG0a+SOEo5+6ys68/TNVtp6/p/m/uFu7+n6/wDA+87/AFXxnpmmPaRpFd6hLeR+dFFp8BmYx4+/gdvesPwv44hk8MaprWq3ckttHqMkUHyfOVwuECjqc54qs+nah4T8RWGqaRoV/qVi2lpZG2ikQzW5Ulhu3MAeoBIPrWTN4N13UPB8xvLOW2vI9aOofZrSfa7ptAwj9j9cd6Nr/wBdV+gdv66P9dDtIfGNrqtjqcNrDe6ff2tq8ogvrcwyY28OFPUZxzXOWniTV30fwTM965fULtkum2j96u/GDx6elLoOiG4n1K7fS/FEN8bCSCKTW7uOUMGH3V2u2DmktfDerpo/gmF7JxJp92z3S7h+6XfnJ59PSjr/AOA/m/03Jd/wf5L+kaQ8bafptxqWq6pqs8ln9t+wRW6wYWKRc5HqScdc49q3NA8W2HiK5uba2hvLW5tsGSC8gMT4I4YA9uetcTD4W1kKQ9g//IySXfLL/qSHw/XpyK6y10y7j+Jd7qLQEWcmnpEsuRguHJI9elEdlf8Ar3U/zui56N2/rVr8jpqKKKBBUFr92X/rq386nqC1+7L/ANdW/nQBPRRRQAUUUUAFFFFABRRRQAV574r+IJ0/xM+iWOr6PpEluivLcaqrOrluiKqspz757V6FXmuu6Zqmk+J9fnsvD9xrMGu2qxq8JTEDhdvz7mBA+bPGelS9ylsO8U+OdS0XVdMshrug6dFc2Qne9voHaORsn7gEgwOAeSetdvbyyzadYSXE8NxIzKWlt1Ijc4PKgk8fjXGWs+t+GvDdvoM3hS61gx2gVJ7Zo2iyRyrb2UgA8cA8Vu+EdEuPDvg/SdMvXDzwsN+05Ck5OB7Cr7rz/Vkdn/WyOnooopDCiiigAooooAKKKKACiiigAooooAKKKKAGyFljYxrvcAlVzjJ9M1yfhrxHrWo+LtW0rWrW1tltI45I44SWZdwBwzZw3XsBXWSOY4mcIzlQSFXq3sK868P32sn4lalqNz4S1i1tNQjjjSWXycR7VAJbEhOOO2aS+NIH8LZ6Ba/fuP8Arqf5Cp6gtfv3H/XU/wAhU9MAooooAKKKKACiiigAooooAKKKKACiiigAooooAytdOuG3ij8OfZEnd8PNdqXSNcHnaCC3YdR1rC8K+I9R1uw1yz1pLc3ml3DW0k1qpWOX5FcEAkkcNjGT0qz481TxDp2jRr4W0ifUbm4kEbvAUzAndwGIBPoM96reEF+zeG7mz/sLU9MKKXkl1AR7rh25LfI7frRHr/WugS6HYr90fSlpF+6PpS0AFFFFABRRRQAUUUUAFFFFAAenFcDrviLxb4dvLW+v10ttLuL+O1FpHG/nhXcIreZu2nqDjb7V3pOFJAzx0HevLjqHiDUvGRvfEPg3WZLSxnK6fDbmBovTzmzIDnuBjiiPxoH8LPRjIUuLmRRyIVYA/jXD+CfiFqOt/wBoW2u21vb3ccb3FkYlISaJfqTyDgGu2O6WW5wpDPbrhT1BOeK87m8EarL8O7Z7SA23iHTXkltlLAFwchkJHZlJH1xUSbTfoVFXsjpbLxxBF4S0/VNXRmur53jitrOIu8rByuETOTwBWroHiew8Q/aEtFuILi1YLPa3URiljz0JU8gHBx9K4az0bXtJ0Pwnq7aRNc3mmCZbvTYnXzAJWPK5IUkfUV0nhezv7vxJqniLULCXTFvEjhitZyvmgJnLNtJHfjBPetmlzP5/8D1v/Wxmr8ifWy/4J1tFFFQUFFFFABRRRQAUUUUAQX3/AB4Tf7hqYfdH0qG+/wCPCb/cNTD7o+lAC1x/jbxJrnh+WzfT7K1NnJcRxSTzOWLbs5AUYwRjqc9a7CvP/ibLq15b2mn6T4c1LUfKuY7lp7fyvLwM5X5nBz+FLqvVfmPo/Q2PHPii48O6QRpMMdzqkysbeKTJXCgszMBzgAGsYeM9c1HT/DtnpKWSavq8TzSSzRs0MKoeTtDAnPbmm6x4Y13Xmvte07UJtLnu7BoF067sY5ZEG3lAwfA3EdqytK8OeJfDdr4b1i5t5tXnsIpYJ7K3iSOVEfpjLbTg5JOR1ojv739b/wDAuJ/3e3+X/BL5+IGt/Zk0hbeyPiJ9RNhvCt5AwGYybc5xhTxu79aS5+IGt6TDf6XqVvZXGuw3UNrbvArJDIZdu1ypJIA3jIzzjtVJvDOuiWDxYNNlN6uqtevpgdTL5JVlC9du8bgcZxweabqHhjXtdkvvE39my2l2L63ubbTp3XzWjiKFlOCVDNtOOccjJFOPTm8r/ht+O3mN9bfL8d/wNG58fa14a/tSz8TQ2V1fW1vHPbPZI0aS7yRtKszHgjrnvUreNNf8M3UsHjFbC4LWD3cDWMbR4ZRzGQzNk+/FZmr+Gdc8bPq2qy6bNpMn2aKGztrtl3uysSxO0kAHIA5/Kp9R0XWfHt1NPeaTc6Ilvp0kES3jJmSZuhAQsNvv19qWvL56/drb57BpzeWn6X+W5cs/GPiLTLrTJ/FK6cbDVomkhFrGyPb4AIDEsQ2QR0AqvZeOvEaW2k69qsOnroerTbI4I0ZZ4FKllZnLEN93GAo60yPSta8UyaPp2paNdaVb6TAyzXE7JtnfaFXywrEkfLnnHWqtloniDUNG0PwnfaPcWsWlSg3Oos6eTMqKyjy8EsSSQeQOAaet3bvp6X1/rcnpr219baWLg8d+JGtP+EjEGnr4fN/9lFuyN9oKCTyzJv3beoJxt6V6FbuJLyVx0aOMj/x6vMItD8QroS+C20efyhqJmOqB0EBhMxk9d27acY24z3716fbJ5d1Kg52xRj/0KnpbT+tEDvza/wBalqiiikMxte837dpXlbMfaedwPXHH9a0v9L9YfyNUNa/4/NL/AOvsfyNY2oeKfEB8U3mj+HtBtL4WcaPJLc6gYPvAHAAjb1pX1sHS51H+l+sP5Gj/AEv1h/I1kXfi/S9FhjXxLeW2nXhjEkkAkMm3JI4IHI4ParNt4n0W8Wxa21GGQahn7KQT+9wMnH4UwL3+l+sP5Gj/AEv1h/I1k6z4qstNtL429xay3NjtE0U0xjVN2MbmCnHBHajVvGmgaAIRrmpwWck0e9VYluPXgdOaV0Brf6X6w/kaP9L9YfyNY8/jnw1baTb6nPq0K2dz/qZsMQ/04zVi88VaJp+jw6pealDFZT48qY5IfPpjmnsG+xof6X6w/kaP9L9YfyNc14c8ZQ63qmuMt1bvpliImhnUEfKysSST9K0tH8Y+H9fu3tdI1SG6nRdzIuQcevIGadn+ormn/pfrD+Ro/wBL9YfyNT0UhkH+l+sP5Gobb7ViTaYf9Y2cg9c1dqC1+7L/ANdW/nQAf6X6w/kaP9L9YfyNT0UAQf6X6w/kaP8AS/WH8jU9FAEH+l+sP5Gj/S/WH8jU9FAEH+l+sP5Gj/S/WH8jU9FAEH+l+sP5Gj/S/WH8jU9cXq3jjUYNW1G10PRI7+DSUD38st15JQEZ+RdrbjgHuOlAHW/6X6w/kahuPtW6HcYf9YMYB64NYF94q1mbT7a98L6CmowTWouWe5uvIABH3RhWy3txWhomuxeJfD+m6tbxtElywby26qecinZ6+QdvM1f9L9YfyNH+l+sP5Gp6KQEH+l+sP5Gj/S/WH8jU9FAEH+l+sP5Gj/S/WH8jU9FAEH+l+sP5Gj/S/WH8jU9FAEH+l+sP5Gj/AEv1h/I1PRQBB/pfrD+Ro/0v1h/I1PRQBB/pfrD+Ro/0v1h/I1PRQBB/pfrD+Ro/0v1h/I1JNIYoHkVGkZVJCL1b2rkLTxlrEXiTT9N8Q6BHp0Wp7xayx3fmtkKWw67BtOB6nmhauwPRXOkt/tO6faYf9Yc5B64FT/6X6w/kaLX79x/11P8AIVPQBB/pfrD+Ro/0v1h/I1PRQBB/pfrD+Ro/0v1h/I1PRQBB/pfrD+Ro/wBL9YfyNT0UAQf6X6w/kaP9L9YfyNT0UAQf6X6w/kaP9L9YfyNT0UAQf6X6w/kaP9L9YfyNT0UAQf6X6w/kaP8AS/WH8jU9FAEH+l+sP5GoLz7V9im3mHbsOcA5qHXb/U7G1j/sXTF1G6kfaEkm8pFGCcs2Dgceh5xWb4f8THxN4fvpJ7UWl3aSPb3MKyeYquBn5WwNwwRzgULUHpa5vL9r2jmHp6Gl/wBL9YfyNTL90fSloAg/0v1h/I0f6X6w/kanooAg/wBL9YfyNH+l+sP5Gp6KAIP9L9YfyNH+l+sP5Gp6KAIP9L9YfyNH+l+sP5Gp6KAIP9L9YfyNH+l+sP5Gp64278aarpmuWsWq6Cltpd3dfZYbn7VmUsThSYtvAJ77unNC1dgeiudIn2n7dLgxbti54OO9T/6X6w/kahlnW1nu53BKxwqxAHJAzXN+FfGOr+JTbXn9gxw6Rd5MFzHd+ZIBjIMke0bcj3ODxQtXYNlc6r/S/WH8jR/pfrD+RqjoWsnWVvGxbgW9w0IMExkzgA/NlRg89OfrWrR0uBB/pfrD+Ro/0v1h/I1PRQBB/pfrD+Ro/wBL9YfyNT0UAQf6X6w/kaP9L9YfyNT0UAQf6X6w/kaP9L9YfyNT0UAUbz7V9jl3mHbtOcA5qYfa9o5h/I0t9/x4Tf7hqYfdH0oAh/0v1h/I0f6X6w/kanrl/FPiTW9DMs2naFFe2VtEJbi4mu/JwCeiDY24jHt2pXS3Gk3sdD/pfrD+Ro/0v1h/I1zuveObbSfB8Gt2ts9293EJLW1ztaTK7ueuMLkn6VSl8fXMulaIdL0lbrVdYRnis3uNiRqv3i0m08D/AHafVrtoJNNJ99Tr/wDS/WH8jR/pfrD+Rrim+JEq6Uif2Of7de9Ngunef8plAJP7zb93Cnnb+FD/ABJlstOvk1bRzb6xaXEdstlFP5iyySY8va+0cHcMnbxz1o3/AK9P8w/r+vuO1/0v1h/I0f6X6w/ka4wfEaXTYdTTxRpH9n3tjCk4hgn85ZVckLhtq85HIxTrXx/eWc00Xi7Rl0l1smvYvJufPDoo5U5VcN7c0dLh/X9fedj/AKX6w/kaP9L9YfyNcdpnj6/a9sh4g0NNNs9RjaSzuEuvNLAc/Ou0bSQQep61Bp/xIvLmTT7280L7NoepymO0vRc7pDwSpePaNoIB/iNHWwdLncf6X6w/kaZb+Z9un83bu2J93p/FXEr8Sbx5Pt6aFnw99t+x/b/tP7wtv2FvK2427sjO7oM128DB72Zl6GOMj/x6jpcNnYs0UUUAZOtf8fml/wDX2P5GvOvEcelQ/EzVJ9fl8Q2sUkMQhfShdhXwozkwjB/GvQteaRb7SvLj3j7Tyd2MHHArS824/wCfYf8Afwf4Ure8n2HfRo4qzs4b34lWuoxWs0tumkKsFxcQtuU7nyCWGQ3TOeawX0O7TwRc31raTLe6PrUt5axCMhmXcVIUehVm6V6n5tx/z7D/AL+D/Cjzbj/n2H/fwf4UWstP61uHXX+tLHlF5pF7c/CfVdTlsp/7T1m5FzJD5ZMiruwg29eEC8VR8Tale6b4x1OKB7eOK8022glMltcXDxhd+SBEjbevRsV7L5tx/wA+w/7+D/CuV1PwVJeaxc6jYalqWkyXaqtylnNFtmxnGd6Me56EUPfRafpa1hK666/8G5y+q6nPYRaPa6PeXEOmHSxFDqVtpn2uS4YYAiYFTsB6nOMEc1S0Rb3Q9F8G6trFneyWlm10tyi2rPJEzv8AI5jUE/kOK9S0jTl0TS4dPsLPZBCuBmXJPqT7mrvm3H/PsP8Av4P8Ku+rfn/n/mJL3Uv62seSSWF3run+M7rS9KuLWK8mtriOOSHy2ukVtzHae5A6Hn1FblvqFv4t8VeHZ9DsLuBdLVmuJLize38lSm0Rjeo3c8fLkV3/AJtx/wA+w/7+D/Cjzbj/AJ9h/wB/B/hSTta3S34Kw3rfzv8AiT0VB5tx/wA+w/7+D/Cjzbj/AJ9h/wB/B/hSAnqC1+7L/wBdW/nR5tx/z7D/AL+D/CobaScCTbbg/vGz+8HHNAF2ioPNuP8An2H/AH8H+FHm3H/PsP8Av4P8KAJ6Kg824/59h/38H+FHm3H/AD7D/v4P8KAJ6Kg824/59h/38H+FHm3H/PsP+/g/woAnoqDzbj/n2H/fwf4Uebcf8+w/7+D/AAoAnry/x/Z6FNqV9Faw65/b13EIxHYfaYoZiRgGR1AjIAJPzHpkd69J824/59h/38H+FHm3H/PsP+/g/wAKTV9xp2PMNc1q58L6BpHg0R30DSWard6lb2Ms6wL0ZV2Kfm64/Cu18OPph8N6dHoaTR2ULiONZoHhbgH+FwD39K2vNuP+fYf9/B/hUNxJOWhzbgfvBj94OeDVXvdvdk22S6F2ioPNuP8An2H/AH8H+FHm3H/PsP8Av4P8KQyeioPNuP8An2H/AH8H+FHm3H/PsP8Av4P8KAJ6Kg824/59h/38H+FHm3H/AD7D/v4P8KAJ6Kg824/59h/38H+FHm3H/PsP+/g/woAnoqDzbj/n2H/fwf4Uebcf8+w/7+D/AAoAnoqDzbj/AJ9h/wB/B/hR5tx/z7D/AL+D/CgCeioPNuP+fYf9/B/hR5tx/wA+w/7+D/CgBbu4W0s5bh1d1iQsVRSWOOwA715h4b8WWfibxhDq+t22pWs8bNDp1jJplwBCDlS7vs2hiCe/ANenebcf8+w/7+D/AAo824/59h/38H+FC0lcHqrBa/fuP+up/kKnqjbyThp8W4P7w5/edOBU/m3H/PsP+/g/woAnoqDzbj/n2H/fwf4Uebcf8+w/7+D/AAoAnoqDzbj/AJ9h/wB/B/hR5tx/z7D/AL+D/CgCeioPNuP+fYf9/B/hR5tx/wA+w/7+D/CgCeioPNuP+fYf9/B/hR5tx/z7D/v4P8KAJ6Kg824/59h/38H+FHm3H/PsP+/g/wAKAJ6Kg824/wCfYf8Afwf4Uebcf8+w/wC/g/woAnoqDzbj/n2H/fwf4Uebcf8APsP+/g/woAwvGt9ZWukxxaquqC1uJNjzaZ5vmRcEg/uvnxxjj1rB+HUVzD4b1hFtpYNK+0udONxCY5pIyoyzggMTv3ctzXd+bcf8+w/7+D/CoLySc2Uwa3CjYcnzM4ojpfzB62Lq/dH0parrLcbR/ow6f89BS+bcf8+w/wC/g/woAnoqDzbj/n2H/fwf4Uebcf8APsP+/g/woAnoqDzbj/n2H/fwf4Uebcf8+w/7+D/CgCeioPNuP+fYf9/B/hR5tx/z7D/v4P8ACgCeioPNuP8An2H/AH8H+FHm3H/PsP8Av4P8KAJzwPWvItcuIdS8X2VxoVrrL67FqKq8F7FM9rFEGCyOu8eUuUBIKnP416t5tx/z7D/v4P8ACjzbj/n2H/fwf4ULSSl2Do0V5ZDFJdOYTOVgUmNcZbrxzXmejtar4ysH8BW2rWSTys+qWU9vLFaxoQSSFcBA27H3Mn8K9NSSf7dKRAM7FyN/TrU/m3H/AD7D/v4P8KFpLmB6xt/X/DnI/Da1uLW21wXMEkJfVZGXzEK7htXkZ6iu1qDzbj/n2H/fwf4Uebcf8+w/7+D/AAo6Jdkl9ysLq/Nt/e7k9FQebcf8+w/7+D/Cjzbj/n2H/fwf4UDJ6Kg824/59h/38H+FHm3H/PsP+/g/woAnoqDzbj/n2H/fwf4Uebcf8+w/7+D/AAoAnoqDzbj/AJ9h/wB/B/hR5tx/z7D/AL+D/CgAvv8Ajwm/3DUw+6PpVK8knNnKGtwo2nJ8zOKmEtxtH+jD/v4P8KALFecfEi50m6kksNUh1zz0h3W62aTvBcMT911jBU4IHD8c16B5tx/z7D/v4P8ACjzbj/n2H/fwf4UmrjTseXT6B44n0hNVuYtIlmTR/JFtNvV4HMf7zYsaldxOQMeuKqaLHq/h+Hwpr3iCyP2a1gmt5lsoZZXiDfdLJt3ZznoK9c824/59h/38H+FHm3H/AD7D/v4P8Kq/vcy/rf8AzZNlaz/rb/I8hNjepqMHjX7Dc/Yv7Za4aHyG84QFHAfywN2csOMZ9qTVrG+12+vvF2n2FybOHULWaOOSBo5ZYoinmMEIDcbWwCMnHFev+bcf8+w/7+D/AAo824/59h/38H+FJaWt02/D/Ib1vfrv+P8AmeReIrG88c3Wr6zotlci3gtIo4RcQNC07qxLAK4DcDHJGOeKs64k3xFvpJtEtLqOO00uVC11bPBumbpGN4BP1HHvXqnm3H/PsP8Av4P8KPNuP+fYf9/B/hSsuXl6a/jv+Ydebr/lb/I8td5PGh0HSrKzvIJNMgYXklxavEsbBQoUMwG7JU/dzVS0F1rPhrw74PGn3kOpafKovWktnWKFURgSJCNrckD5Seteu+bcf8+w/wC/g/wo824/59h/38H+FPRt+bv81sHSy6Ky9GeQxC6PhNfAzafef2qNTJJ+zN5IiM5fzPNxs+4c4znt1r1q1Ty7mRDyVijH86k824/59h/38H+FMt2dr6cyJsOxOM5/vU7/AHisr6FqiiikMyda/wCPzS/+vsfyNVNb8Xw6VqC6fZ6de6vf7d72tiqFo0/vMXZQO3fPNW9a/wCPzS/+vsfyNclb6zY+EviRrzeJruGwi1MRS2l1csI43CoFKbzxnPb2o+1YfRs66w8Q2l3pK390G01d2x474rG0behOcfkTVLxN4qTQ9Ks76ySK9jurqOAFZflw3cEZzXK+M/F2l366UbddLls7lpdl/rAb7ENoHuAxPY89DiuUsZnl+GtuG8nZH4kKxrArLGqhjgIDyF9BQtWvVfmkTLSLfk/yb/Q9p1DV7LTlYXF3bxzbCyRSSqrP9Aeao6F4lt9S8LWes6g8FgtyucSSgKDkjGTj0rz7UJ/D8firxZF42W3a8k2jTVnX968RiXiDuTv3fc5zWcurW1n4N8K2Fza6Wkc1nKy3OuBjbLhh8m3IBc54zzwaUX7t/T8b/wCRUlZpev6Hsr6lYxWgupLy3S3bpM0qhD/wLOKlt7mC7hWa1mjmibo8bBlP4ivD9GSzu/hxYT6prWkae1nqtybeDUjts5xvddhRzkqByB2wPSvUvAupR6p4TtrmGwt7FMsqx2qBYWwSNyAfwmrtv5EvS39dzoqKKKkYUUUUAFQWv3Zf+urfzqeoLX7sv/XVv50AT0UUUAFFFFABRRRQAUUUUAFc/rXi2PStQXT7PTL7V73bve3sVQtGv95i7KPTvmugrxnxTbaPa+OfEs3ifUp7Cae1jk0xkvXt/NZVIwoVhvOSOOaluzGloegav4yfSo4tnh7Vr2VofPlhtkjLQL/tFnAzx0BNaGnaxa69pGn6np7Fre4cMm4YI4PBrz+++IH9k+E9H0LUNRt7PXtQswTPfyCNYEOR5jlsfNgZx1JrsvC0Ok2vhbTLbQL2G+s4HCLPBKJFY4OeR9a0t8X9d7/oRfRHSUUUVJQUUUUAFFFFABRRRQAUUUUAFFFFABRRRQA2SRYo2kc4VQWJxngVgaB4zsPEWr3thYwXSNaKrGSaPYsisAQVGc9+4Fb7uscbPIwVFGWYnAA9a818OeK/D938Xdc+y63p832mGFINlyh81gq5C88njtSWs7A/hbPRbX79x/11P8hU9QWv37j/AK6n+QqemAUUUUAFFFFABRRRQAUUUUAFFFFABRRRQAUUUUAZfiDxBZ+HNNa8vlmcc7I4YyzOQCcDsOAepAptlq0Ou+FU1O1jkjiuYS6pKAGXqMHBI7VD4x1fTtI8LXz6rfW9kktvJHG1xKEDsUOFGep9qw/h7rGm6n8NbaLTr+2upLe3ZZkhlDmM5PBA6Uo63+X6g9LfP9Dt1+6PpS0i/dH0paYBRRRQAUUUUAFFFFABRRRQAE4GTXIXHxEtbTVIoLvSNUgs5bkWqai8aCBpC20D72773GdtdeSACTwB1ryjVvGnhvxl4pj0qfXNPs9M0m8V5/tFysclxOjAqqqTnAYDnvihfGl/VuoPSLZ6aJAl5cSHkLErcfjWD4Y8faV4rt9QksY7iF9PYiWKdQrED+IYJyDWy5VmuihBU24KkdCMNXkUFldaP4HtfF2joXktklhv4VXJnt2JBP1U4b6LUSlZv0KSvbues6dr9jqOhRat5gtrWXdhrhgmMMV5OcdRV22u7a9h82zuIriPON8Thhn6ivH7W6sm8NeCLzXWQeHWadrg3HEIdnPl+ZnjGf73FdV4HFhJ4t1248M+V/YUiwiNrbH2dpRu3eXj5frj2rZx95r1/DuZp+4n5L8TvKKKKgoKKKKACiiigAooooAgvv8Ajwm/3DUw+6PpUN9/x4Tf7hqYfdH0oAWuc8Q+NtO8OXtvaXUN1PNNIiEQxZEe7OCWOBjg9CT7V0dec/FvxBo9jpljZXmqWcF0L6GUwSTqrhPm+bBOce9K+q9V+Y+j9DqPEXic6AyLFo+o6o5jMrrZIh8tB1Yl2UfgOaq3vj7TrfStNu7O2utRl1PP2W0tVUyvj733iAMd+ay/GXiLRL7S44U8bR6NDcQPIs0TxFLpMYKh3BHf+E5rl9Fv49Ln8Ha3q8MWl6ZHb3Nv50hKxxncdrEseN/XJ60466Pv/n/lYT0V0dsfiPpS6CuoG1vPtDXH2QadsX7QZucx4ztzgE9ccdaRPiRpS6Pe3l7a3llcWUqwy2E6L5/mNjYoAJUlsjHOOe1cAZEXxDb+LGI/sM688n2o/wCrVCkgEuTxtJIG7pzSa9Kmra5f+JtNIutGt9Us2e5i+aN1Qx75AehVcHJHTBojra/W1/Lb/PqN6Xt0/HfT8D0K0+IumSWuoSapaXmkTafGss1veoofY2drDazA5II60ul/EKxvZJo9S0+/0Z4rY3YW/RR5kQHLDYzfkcGvPvGMieLdR1nVPDbLqNja2UCyS2x3pIwdiVBHBIHJA6Zq74su7fxxqDv4UuI9RS10iYzPbNvAJ6RkjjcfTrSu+W/XX9bP5h9q3p+mn4nZaR8Q7LVNQgtp9N1DTkukZ7S4u0QR3Kr1K7WJHY8gdaj0/wCJem3+oW0Q0/UILK8kMVpqMsaiC4YAn5cMW5AJGQOlcne6haeLYvDOmeHrmK5vLO2c3KQvk22EUbXx90kgjB9KpW+oWur+B/CnhnT5EOtW0yLcWan95a7I2DF1HKjJAyfWn1fk181ff5E9L+V/TTb5ncf8LM0w6kYlsNQNgLr7J/agjX7P5udu372773GduM11cJBvpyOQUTH/AI9XjUOoWv8Awr5fCXmINe/tZlNhn98M3JbzNo527SGz0xzXsVopS4dW6rDGD+tO2n699EH2v67luiiikMqXtj9smtZPM2fZ5RJjbndx09qmntbe5AFzBHMB08xA2PzqWigCFrO1eFYntoWjX7qGMED6CnC2gCbBDGFzu27BjPrUlFAEUlrbzSLJLBE7r91mQEj6GkktLaVFSW3idF+6rICB9KmooAgextJIwklrCyA5CtGCAalREiQJGqoo6KowBTqKACiiigAooooAKZFF5QfnO5y3Tpmn0UAFFFFABRRRQAUUUUAFFFFABUU1pb3DK09vFKy/dLoCR+dS0UAQTWNpcMGntYZWAwC8YOB+NH2SJEjSBEiRH3bUUAfpU9FABRRRQAUUUUAFFFFABRRRQAUUUUAFFFFABRRRQAEAggjIPUGqyadZRSB47O3Rx0ZYlBH6VZooAjii8tpDnO993Tpx/wDWqSiigAooooAKKKKACiiigAooooAKKKKACiiigAooooAjmt4blQtxDHKoOQJFDD9ai+wW6W8kVtDHAJBgmNAP5VZooAAMACiiigAooooAKKKKACiiigAooooAKqnTLAuWNlblick+Uuc/lVqigCJYQtw8meGULtx0xn/GnCKMRmMRqEPVdvH5U+igCJrW3eAQvBG0Q6RlAVH4U6KGKCPZBGkaf3UUAfpT6KACiiigAooooAKKKKACiiigCOeLzoHjzt3DGcdKkHAoooAKgmsbS4ffcWsMrYxueMMf1qeigCu9hZyIqPaQMqfdUxghfpUkltBLCIpYY3jHRGQED8KkooAj+zQGDyDDH5WMeXsG38qFtoEhMKQxrEeCgQBfyqSigCOK2ggjMcMMcaHqqIAD+FJDa29sCLeCOIN12IFz+VS0UARRWlvA7PBbxRs33mRACfrihLS3jmM0dvEsrdXVAGP41LRQBF9kt/tHn+RF53/PTYN350qxbbiSXOd6qMY6Yz/jUlFABRRRQB//2Q==)"
      ]
    },
    {
      "cell_type": "markdown",
      "metadata": {
        "id": "4RWZSq2WqolG",
        "colab_type": "text"
      },
      "source": [
        "**DESCRIPCIÓN DE LA BASE DE DATOS DE LAS CASAS**\n",
        "\n",
        "**[1] Ciudad:** La ciudad donde está ubicada la casa  (varibale categórica) [Medellí, Envigado, Bello, Caldas].\n",
        "\n",
        "**[2] M2:** dimensión en metros cuadrados de la casa (variable numérica).\n",
        "\n",
        "**[3] Hab. Principales:** número de habitaciones principales de la casa (variable numérica).\n",
        "\n",
        "**[4] Hab. Secundarias:** número de habitaciones secundarias de la casa (variable numérica).\n",
        "\n",
        "**[5] Baños:** número de baños de la casa (variable numérica).\n",
        "\n",
        "**[6] Balcón:** ¿tiene balcón? (categórico) [Si, No].\n",
        "\n",
        "**[7] Valor:** precio o valor de la casa (variable numérica).\n",
        "\n",
        "La base de datos se encuentra en un archivo CSV. \n",
        "\n",
        "Link del archivo: https://raw.githubusercontent.com/jaguzman/dataSets/master/datasets/Casas.csv\n",
        "\n",
        "(para descargar el archivo debes abir el link en un pestaña del explorador, dar click derecho, 'guardar como' y seleccionar la ruta donde quieres guardar el archivo)"
      ]
    },
    {
      "cell_type": "code",
      "metadata": {
        "id": "jCA9egKJM7mh",
        "colab_type": "code",
        "colab": {}
      },
      "source": [
        "# Importar la librería\n",
        "import pandas as pd"
      ],
      "execution_count": 28,
      "outputs": []
    },
    {
      "cell_type": "code",
      "metadata": {
        "id": "yiiNEqF0NngA",
        "colab_type": "code",
        "colab": {
          "resources": {
            "http://localhost:8080/nbextensions/google.colab/files.js": {
              "data": "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",
              "ok": true,
              "headers": [
                [
                  "content-type",
                  "application/javascript"
                ]
              ],
              "status": 200,
              "status_text": ""
            }
          },
          "base_uri": "https://localhost:8080/",
          "height": 73
        },
        "outputId": "9b7a2b80-0781-47eb-f9ac-ae2e2c1d35ff"
      },
      "source": [
        "# Para subir un archivo de nuestro computador lo podemos hacer así:\n",
        "from google.colab import files\n",
        "uploaded = files.upload()"
      ],
      "execution_count": 29,
      "outputs": [
        {
          "output_type": "display_data",
          "data": {
            "text/html": [
              "\n",
              "     <input type=\"file\" id=\"files-3f8940ce-cab9-45ae-9371-25eff48413f9\" name=\"files[]\" multiple disabled\n",
              "        style=\"border:none\" />\n",
              "     <output id=\"result-3f8940ce-cab9-45ae-9371-25eff48413f9\">\n",
              "      Upload widget is only available when the cell has been executed in the\n",
              "      current browser session. Please rerun this cell to enable.\n",
              "      </output>\n",
              "      <script src=\"/nbextensions/google.colab/files.js\"></script> "
            ],
            "text/plain": [
              "<IPython.core.display.HTML object>"
            ]
          },
          "metadata": {
            "tags": []
          }
        },
        {
          "output_type": "stream",
          "text": [
            "Saving Casas.csv to Casas.csv\n"
          ],
          "name": "stdout"
        }
      ]
    },
    {
      "cell_type": "code",
      "metadata": {
        "id": "0Ns5CSg0QDgE",
        "colab_type": "code",
        "colab": {}
      },
      "source": [
        "# Luego lo podemos convertir a un dataframe de pandas\n",
        "# Un dataframe es la representación de nuestro archivo (en este caso separados por comas)\n",
        "# en python, muy similar a los arrays de numpy\n",
        "import io\n",
        "df = pd.read_csv(io.BytesIO(uploaded['Casas.csv']))"
      ],
      "execution_count": 30,
      "outputs": []
    },
    {
      "cell_type": "code",
      "metadata": {
        "id": "vs006WmAQTZX",
        "colab_type": "code",
        "colab": {
          "base_uri": "https://localhost:8080/",
          "height": 284
        },
        "outputId": "0584d46f-a31c-4ea9-b9b7-5371c112cfb1"
      },
      "source": [
        "# Podemos ver el dataframe completo\n",
        "df"
      ],
      "execution_count": 31,
      "outputs": [
        {
          "output_type": "execute_result",
          "data": {
            "text/html": [
              "<div>\n",
              "<style scoped>\n",
              "    .dataframe tbody tr th:only-of-type {\n",
              "        vertical-align: middle;\n",
              "    }\n",
              "\n",
              "    .dataframe tbody tr th {\n",
              "        vertical-align: top;\n",
              "    }\n",
              "\n",
              "    .dataframe thead th {\n",
              "        text-align: right;\n",
              "    }\n",
              "</style>\n",
              "<table border=\"1\" class=\"dataframe\">\n",
              "  <thead>\n",
              "    <tr style=\"text-align: right;\">\n",
              "      <th></th>\n",
              "      <th>Ciudad</th>\n",
              "      <th>M2</th>\n",
              "      <th>Hab. Principales</th>\n",
              "      <th>Hab. Secundarias</th>\n",
              "      <th>Baños</th>\n",
              "      <th>Balcón</th>\n",
              "      <th>Valor</th>\n",
              "    </tr>\n",
              "  </thead>\n",
              "  <tbody>\n",
              "    <tr>\n",
              "      <th>0</th>\n",
              "      <td>Medellín</td>\n",
              "      <td>100</td>\n",
              "      <td>2</td>\n",
              "      <td>4</td>\n",
              "      <td>4</td>\n",
              "      <td>Si</td>\n",
              "      <td>450000000</td>\n",
              "    </tr>\n",
              "    <tr>\n",
              "      <th>1</th>\n",
              "      <td>Envigado</td>\n",
              "      <td>56</td>\n",
              "      <td>1</td>\n",
              "      <td>1</td>\n",
              "      <td>2</td>\n",
              "      <td>No</td>\n",
              "      <td>180000000</td>\n",
              "    </tr>\n",
              "    <tr>\n",
              "      <th>2</th>\n",
              "      <td>Medellín</td>\n",
              "      <td>80</td>\n",
              "      <td>1</td>\n",
              "      <td>2</td>\n",
              "      <td>2</td>\n",
              "      <td>Si</td>\n",
              "      <td>190000000</td>\n",
              "    </tr>\n",
              "    <tr>\n",
              "      <th>3</th>\n",
              "      <td>Bello</td>\n",
              "      <td>82</td>\n",
              "      <td>1</td>\n",
              "      <td>2</td>\n",
              "      <td>2</td>\n",
              "      <td>Si</td>\n",
              "      <td>210000000</td>\n",
              "    </tr>\n",
              "    <tr>\n",
              "      <th>4</th>\n",
              "      <td>Caldas</td>\n",
              "      <td>73</td>\n",
              "      <td>2</td>\n",
              "      <td>1</td>\n",
              "      <td>2</td>\n",
              "      <td>No</td>\n",
              "      <td>195000000</td>\n",
              "    </tr>\n",
              "    <tr>\n",
              "      <th>5</th>\n",
              "      <td>Medellín</td>\n",
              "      <td>65</td>\n",
              "      <td>1</td>\n",
              "      <td>2</td>\n",
              "      <td>2</td>\n",
              "      <td>No</td>\n",
              "      <td>140000000</td>\n",
              "    </tr>\n",
              "    <tr>\n",
              "      <th>6</th>\n",
              "      <td>Envigado</td>\n",
              "      <td>92</td>\n",
              "      <td>2</td>\n",
              "      <td>3</td>\n",
              "      <td>3</td>\n",
              "      <td>Si</td>\n",
              "      <td>340000000</td>\n",
              "    </tr>\n",
              "    <tr>\n",
              "      <th>7</th>\n",
              "      <td>Caldas</td>\n",
              "      <td>62</td>\n",
              "      <td>1</td>\n",
              "      <td>1</td>\n",
              "      <td>2</td>\n",
              "      <td>No</td>\n",
              "      <td>130000000</td>\n",
              "    </tr>\n",
              "  </tbody>\n",
              "</table>\n",
              "</div>"
            ],
            "text/plain": [
              "     Ciudad   M2  Hab. Principales  Hab. Secundarias  Baños Balcón      Valor\n",
              "0  Medellín  100                 2                 4      4     Si  450000000\n",
              "1  Envigado   56                 1                 1      2     No  180000000\n",
              "2  Medellín   80                 1                 2      2     Si  190000000\n",
              "3     Bello   82                 1                 2      2     Si  210000000\n",
              "4    Caldas   73                 2                 1      2     No  195000000\n",
              "5  Medellín   65                 1                 2      2     No  140000000\n",
              "6  Envigado   92                 2                 3      3     Si  340000000\n",
              "7    Caldas   62                 1                 1      2     No  130000000"
            ]
          },
          "metadata": {
            "tags": []
          },
          "execution_count": 31
        }
      ]
    },
    {
      "cell_type": "code",
      "metadata": {
        "id": "7tGM8LXGRPL6",
        "colab_type": "code",
        "colab": {
          "base_uri": "https://localhost:8080/",
          "height": 195
        },
        "outputId": "74f49464-87c9-4dff-ba60-44dd622d5266"
      },
      "source": [
        "# Mostrar los primeros datos del dataframe\n",
        "df.head()"
      ],
      "execution_count": 32,
      "outputs": [
        {
          "output_type": "execute_result",
          "data": {
            "text/html": [
              "<div>\n",
              "<style scoped>\n",
              "    .dataframe tbody tr th:only-of-type {\n",
              "        vertical-align: middle;\n",
              "    }\n",
              "\n",
              "    .dataframe tbody tr th {\n",
              "        vertical-align: top;\n",
              "    }\n",
              "\n",
              "    .dataframe thead th {\n",
              "        text-align: right;\n",
              "    }\n",
              "</style>\n",
              "<table border=\"1\" class=\"dataframe\">\n",
              "  <thead>\n",
              "    <tr style=\"text-align: right;\">\n",
              "      <th></th>\n",
              "      <th>Ciudad</th>\n",
              "      <th>M2</th>\n",
              "      <th>Hab. Principales</th>\n",
              "      <th>Hab. Secundarias</th>\n",
              "      <th>Baños</th>\n",
              "      <th>Balcón</th>\n",
              "      <th>Valor</th>\n",
              "    </tr>\n",
              "  </thead>\n",
              "  <tbody>\n",
              "    <tr>\n",
              "      <th>0</th>\n",
              "      <td>Medellín</td>\n",
              "      <td>100</td>\n",
              "      <td>2</td>\n",
              "      <td>4</td>\n",
              "      <td>4</td>\n",
              "      <td>Si</td>\n",
              "      <td>450000000</td>\n",
              "    </tr>\n",
              "    <tr>\n",
              "      <th>1</th>\n",
              "      <td>Envigado</td>\n",
              "      <td>56</td>\n",
              "      <td>1</td>\n",
              "      <td>1</td>\n",
              "      <td>2</td>\n",
              "      <td>No</td>\n",
              "      <td>180000000</td>\n",
              "    </tr>\n",
              "    <tr>\n",
              "      <th>2</th>\n",
              "      <td>Medellín</td>\n",
              "      <td>80</td>\n",
              "      <td>1</td>\n",
              "      <td>2</td>\n",
              "      <td>2</td>\n",
              "      <td>Si</td>\n",
              "      <td>190000000</td>\n",
              "    </tr>\n",
              "    <tr>\n",
              "      <th>3</th>\n",
              "      <td>Bello</td>\n",
              "      <td>82</td>\n",
              "      <td>1</td>\n",
              "      <td>2</td>\n",
              "      <td>2</td>\n",
              "      <td>Si</td>\n",
              "      <td>210000000</td>\n",
              "    </tr>\n",
              "    <tr>\n",
              "      <th>4</th>\n",
              "      <td>Caldas</td>\n",
              "      <td>73</td>\n",
              "      <td>2</td>\n",
              "      <td>1</td>\n",
              "      <td>2</td>\n",
              "      <td>No</td>\n",
              "      <td>195000000</td>\n",
              "    </tr>\n",
              "  </tbody>\n",
              "</table>\n",
              "</div>"
            ],
            "text/plain": [
              "     Ciudad   M2  Hab. Principales  Hab. Secundarias  Baños Balcón      Valor\n",
              "0  Medellín  100                 2                 4      4     Si  450000000\n",
              "1  Envigado   56                 1                 1      2     No  180000000\n",
              "2  Medellín   80                 1                 2      2     Si  190000000\n",
              "3     Bello   82                 1                 2      2     Si  210000000\n",
              "4    Caldas   73                 2                 1      2     No  195000000"
            ]
          },
          "metadata": {
            "tags": []
          },
          "execution_count": 32
        }
      ]
    },
    {
      "cell_type": "code",
      "metadata": {
        "id": "UgrhOoJARTa0",
        "colab_type": "code",
        "colab": {
          "base_uri": "https://localhost:8080/",
          "height": 195
        },
        "outputId": "75677fe7-43b1-400d-f26a-69a8d120a12c"
      },
      "source": [
        "# Mostrar los últimos datos\n",
        "df.tail()"
      ],
      "execution_count": 33,
      "outputs": [
        {
          "output_type": "execute_result",
          "data": {
            "text/html": [
              "<div>\n",
              "<style scoped>\n",
              "    .dataframe tbody tr th:only-of-type {\n",
              "        vertical-align: middle;\n",
              "    }\n",
              "\n",
              "    .dataframe tbody tr th {\n",
              "        vertical-align: top;\n",
              "    }\n",
              "\n",
              "    .dataframe thead th {\n",
              "        text-align: right;\n",
              "    }\n",
              "</style>\n",
              "<table border=\"1\" class=\"dataframe\">\n",
              "  <thead>\n",
              "    <tr style=\"text-align: right;\">\n",
              "      <th></th>\n",
              "      <th>Ciudad</th>\n",
              "      <th>M2</th>\n",
              "      <th>Hab. Principales</th>\n",
              "      <th>Hab. Secundarias</th>\n",
              "      <th>Baños</th>\n",
              "      <th>Balcón</th>\n",
              "      <th>Valor</th>\n",
              "    </tr>\n",
              "  </thead>\n",
              "  <tbody>\n",
              "    <tr>\n",
              "      <th>3</th>\n",
              "      <td>Bello</td>\n",
              "      <td>82</td>\n",
              "      <td>1</td>\n",
              "      <td>2</td>\n",
              "      <td>2</td>\n",
              "      <td>Si</td>\n",
              "      <td>210000000</td>\n",
              "    </tr>\n",
              "    <tr>\n",
              "      <th>4</th>\n",
              "      <td>Caldas</td>\n",
              "      <td>73</td>\n",
              "      <td>2</td>\n",
              "      <td>1</td>\n",
              "      <td>2</td>\n",
              "      <td>No</td>\n",
              "      <td>195000000</td>\n",
              "    </tr>\n",
              "    <tr>\n",
              "      <th>5</th>\n",
              "      <td>Medellín</td>\n",
              "      <td>65</td>\n",
              "      <td>1</td>\n",
              "      <td>2</td>\n",
              "      <td>2</td>\n",
              "      <td>No</td>\n",
              "      <td>140000000</td>\n",
              "    </tr>\n",
              "    <tr>\n",
              "      <th>6</th>\n",
              "      <td>Envigado</td>\n",
              "      <td>92</td>\n",
              "      <td>2</td>\n",
              "      <td>3</td>\n",
              "      <td>3</td>\n",
              "      <td>Si</td>\n",
              "      <td>340000000</td>\n",
              "    </tr>\n",
              "    <tr>\n",
              "      <th>7</th>\n",
              "      <td>Caldas</td>\n",
              "      <td>62</td>\n",
              "      <td>1</td>\n",
              "      <td>1</td>\n",
              "      <td>2</td>\n",
              "      <td>No</td>\n",
              "      <td>130000000</td>\n",
              "    </tr>\n",
              "  </tbody>\n",
              "</table>\n",
              "</div>"
            ],
            "text/plain": [
              "     Ciudad  M2  Hab. Principales  Hab. Secundarias  Baños Balcón      Valor\n",
              "3     Bello  82                 1                 2      2     Si  210000000\n",
              "4    Caldas  73                 2                 1      2     No  195000000\n",
              "5  Medellín  65                 1                 2      2     No  140000000\n",
              "6  Envigado  92                 2                 3      3     Si  340000000\n",
              "7    Caldas  62                 1                 1      2     No  130000000"
            ]
          },
          "metadata": {
            "tags": []
          },
          "execution_count": 33
        }
      ]
    },
    {
      "cell_type": "code",
      "metadata": {
        "id": "quUFO0bWRYU8",
        "colab_type": "code",
        "colab": {
          "base_uri": "https://localhost:8080/",
          "height": 67
        },
        "outputId": "9c945bb9-9819-4a67-a2ca-5125c630cd44"
      },
      "source": [
        "# Obtener los nombres de las columnas\n",
        "df.columns"
      ],
      "execution_count": 34,
      "outputs": [
        {
          "output_type": "execute_result",
          "data": {
            "text/plain": [
              "Index(['Ciudad', 'M2', 'Hab. Principales', 'Hab. Secundarias', 'Baños',\n",
              "       'Balcón', 'Valor'],\n",
              "      dtype='object')"
            ]
          },
          "metadata": {
            "tags": []
          },
          "execution_count": 34
        }
      ]
    },
    {
      "cell_type": "code",
      "metadata": {
        "id": "X5PG51vfRdIi",
        "colab_type": "code",
        "colab": {
          "base_uri": "https://localhost:8080/",
          "height": 34
        },
        "outputId": "58add2f8-5b74-4c8a-b484-8716a35e413f"
      },
      "source": [
        "# Obtener las dimensiones, similar a numpy\n",
        "df.shape"
      ],
      "execution_count": 35,
      "outputs": [
        {
          "output_type": "execute_result",
          "data": {
            "text/plain": [
              "(8, 7)"
            ]
          },
          "metadata": {
            "tags": []
          },
          "execution_count": 35
        }
      ]
    },
    {
      "cell_type": "code",
      "metadata": {
        "id": "PnWxchqKRjHD",
        "colab_type": "code",
        "colab": {
          "base_uri": "https://localhost:8080/",
          "height": 252
        },
        "outputId": "f72198d4-86c4-46b0-8b2c-826a61a547a9"
      },
      "source": [
        "# Imprimir información general, como el total de columnas y filas, y sus tipos\n",
        "df.info()"
      ],
      "execution_count": 36,
      "outputs": [
        {
          "output_type": "stream",
          "text": [
            "<class 'pandas.core.frame.DataFrame'>\n",
            "RangeIndex: 8 entries, 0 to 7\n",
            "Data columns (total 7 columns):\n",
            " #   Column            Non-Null Count  Dtype \n",
            "---  ------            --------------  ----- \n",
            " 0   Ciudad            8 non-null      object\n",
            " 1   M2                8 non-null      int64 \n",
            " 2   Hab. Principales  8 non-null      int64 \n",
            " 3   Hab. Secundarias  8 non-null      int64 \n",
            " 4   Baños             8 non-null      int64 \n",
            " 5   Balcón            8 non-null      object\n",
            " 6   Valor             8 non-null      int64 \n",
            "dtypes: int64(5), object(2)\n",
            "memory usage: 576.0+ bytes\n"
          ],
          "name": "stdout"
        }
      ]
    },
    {
      "cell_type": "code",
      "metadata": {
        "id": "W8HRiKlwQX15",
        "colab_type": "code",
        "colab": {
          "base_uri": "https://localhost:8080/",
          "height": 284
        },
        "outputId": "879792d2-234d-47ae-a9d7-14f426b5062a"
      },
      "source": [
        "# Obtener un rango similar a numpy con la función iloc\n",
        "df.iloc[:, 2:4]"
      ],
      "execution_count": 37,
      "outputs": [
        {
          "output_type": "execute_result",
          "data": {
            "text/html": [
              "<div>\n",
              "<style scoped>\n",
              "    .dataframe tbody tr th:only-of-type {\n",
              "        vertical-align: middle;\n",
              "    }\n",
              "\n",
              "    .dataframe tbody tr th {\n",
              "        vertical-align: top;\n",
              "    }\n",
              "\n",
              "    .dataframe thead th {\n",
              "        text-align: right;\n",
              "    }\n",
              "</style>\n",
              "<table border=\"1\" class=\"dataframe\">\n",
              "  <thead>\n",
              "    <tr style=\"text-align: right;\">\n",
              "      <th></th>\n",
              "      <th>Hab. Principales</th>\n",
              "      <th>Hab. Secundarias</th>\n",
              "    </tr>\n",
              "  </thead>\n",
              "  <tbody>\n",
              "    <tr>\n",
              "      <th>0</th>\n",
              "      <td>2</td>\n",
              "      <td>4</td>\n",
              "    </tr>\n",
              "    <tr>\n",
              "      <th>1</th>\n",
              "      <td>1</td>\n",
              "      <td>1</td>\n",
              "    </tr>\n",
              "    <tr>\n",
              "      <th>2</th>\n",
              "      <td>1</td>\n",
              "      <td>2</td>\n",
              "    </tr>\n",
              "    <tr>\n",
              "      <th>3</th>\n",
              "      <td>1</td>\n",
              "      <td>2</td>\n",
              "    </tr>\n",
              "    <tr>\n",
              "      <th>4</th>\n",
              "      <td>2</td>\n",
              "      <td>1</td>\n",
              "    </tr>\n",
              "    <tr>\n",
              "      <th>5</th>\n",
              "      <td>1</td>\n",
              "      <td>2</td>\n",
              "    </tr>\n",
              "    <tr>\n",
              "      <th>6</th>\n",
              "      <td>2</td>\n",
              "      <td>3</td>\n",
              "    </tr>\n",
              "    <tr>\n",
              "      <th>7</th>\n",
              "      <td>1</td>\n",
              "      <td>1</td>\n",
              "    </tr>\n",
              "  </tbody>\n",
              "</table>\n",
              "</div>"
            ],
            "text/plain": [
              "   Hab. Principales  Hab. Secundarias\n",
              "0                 2                 4\n",
              "1                 1                 1\n",
              "2                 1                 2\n",
              "3                 1                 2\n",
              "4                 2                 1\n",
              "5                 1                 2\n",
              "6                 2                 3\n",
              "7                 1                 1"
            ]
          },
          "metadata": {
            "tags": []
          },
          "execution_count": 37
        }
      ]
    },
    {
      "cell_type": "code",
      "metadata": {
        "id": "ysSYYokBQs-l",
        "colab_type": "code",
        "colab": {
          "base_uri": "https://localhost:8080/",
          "height": 168
        },
        "outputId": "47e7f242-a27c-4c2e-875b-e85706835e0e"
      },
      "source": [
        "# Los dataframe tienen una característica que nos permite acceder a sus columnas por los nombres\n",
        "df['Baños']"
      ],
      "execution_count": 38,
      "outputs": [
        {
          "output_type": "execute_result",
          "data": {
            "text/plain": [
              "0    4\n",
              "1    2\n",
              "2    2\n",
              "3    2\n",
              "4    2\n",
              "5    2\n",
              "6    3\n",
              "7    2\n",
              "Name: Baños, dtype: int64"
            ]
          },
          "metadata": {
            "tags": []
          },
          "execution_count": 38
        }
      ]
    },
    {
      "cell_type": "code",
      "metadata": {
        "id": "GwqLfploR7pa",
        "colab_type": "code",
        "colab": {
          "base_uri": "https://localhost:8080/",
          "height": 284
        },
        "outputId": "0618f253-49c5-44fe-b325-70a851793325"
      },
      "source": [
        "# Podemos seleccionar rangos utilizando los nombres de las columnas\n",
        "df.loc[:, 'M2':'Baños']"
      ],
      "execution_count": 39,
      "outputs": [
        {
          "output_type": "execute_result",
          "data": {
            "text/html": [
              "<div>\n",
              "<style scoped>\n",
              "    .dataframe tbody tr th:only-of-type {\n",
              "        vertical-align: middle;\n",
              "    }\n",
              "\n",
              "    .dataframe tbody tr th {\n",
              "        vertical-align: top;\n",
              "    }\n",
              "\n",
              "    .dataframe thead th {\n",
              "        text-align: right;\n",
              "    }\n",
              "</style>\n",
              "<table border=\"1\" class=\"dataframe\">\n",
              "  <thead>\n",
              "    <tr style=\"text-align: right;\">\n",
              "      <th></th>\n",
              "      <th>M2</th>\n",
              "      <th>Hab. Principales</th>\n",
              "      <th>Hab. Secundarias</th>\n",
              "      <th>Baños</th>\n",
              "    </tr>\n",
              "  </thead>\n",
              "  <tbody>\n",
              "    <tr>\n",
              "      <th>0</th>\n",
              "      <td>100</td>\n",
              "      <td>2</td>\n",
              "      <td>4</td>\n",
              "      <td>4</td>\n",
              "    </tr>\n",
              "    <tr>\n",
              "      <th>1</th>\n",
              "      <td>56</td>\n",
              "      <td>1</td>\n",
              "      <td>1</td>\n",
              "      <td>2</td>\n",
              "    </tr>\n",
              "    <tr>\n",
              "      <th>2</th>\n",
              "      <td>80</td>\n",
              "      <td>1</td>\n",
              "      <td>2</td>\n",
              "      <td>2</td>\n",
              "    </tr>\n",
              "    <tr>\n",
              "      <th>3</th>\n",
              "      <td>82</td>\n",
              "      <td>1</td>\n",
              "      <td>2</td>\n",
              "      <td>2</td>\n",
              "    </tr>\n",
              "    <tr>\n",
              "      <th>4</th>\n",
              "      <td>73</td>\n",
              "      <td>2</td>\n",
              "      <td>1</td>\n",
              "      <td>2</td>\n",
              "    </tr>\n",
              "    <tr>\n",
              "      <th>5</th>\n",
              "      <td>65</td>\n",
              "      <td>1</td>\n",
              "      <td>2</td>\n",
              "      <td>2</td>\n",
              "    </tr>\n",
              "    <tr>\n",
              "      <th>6</th>\n",
              "      <td>92</td>\n",
              "      <td>2</td>\n",
              "      <td>3</td>\n",
              "      <td>3</td>\n",
              "    </tr>\n",
              "    <tr>\n",
              "      <th>7</th>\n",
              "      <td>62</td>\n",
              "      <td>1</td>\n",
              "      <td>1</td>\n",
              "      <td>2</td>\n",
              "    </tr>\n",
              "  </tbody>\n",
              "</table>\n",
              "</div>"
            ],
            "text/plain": [
              "    M2  Hab. Principales  Hab. Secundarias  Baños\n",
              "0  100                 2                 4      4\n",
              "1   56                 1                 1      2\n",
              "2   80                 1                 2      2\n",
              "3   82                 1                 2      2\n",
              "4   73                 2                 1      2\n",
              "5   65                 1                 2      2\n",
              "6   92                 2                 3      3\n",
              "7   62                 1                 1      2"
            ]
          },
          "metadata": {
            "tags": []
          },
          "execution_count": 39
        }
      ]
    },
    {
      "cell_type": "code",
      "metadata": {
        "id": "2X5U0CDoSVWR",
        "colab_type": "code",
        "colab": {
          "base_uri": "https://localhost:8080/",
          "height": 284
        },
        "outputId": "2da367e2-56b4-4510-a9e1-f6c9bfe5526b"
      },
      "source": [
        "# Es posible ordenar según una columna\n",
        "df.sort_values(by=\"Valor\")"
      ],
      "execution_count": 40,
      "outputs": [
        {
          "output_type": "execute_result",
          "data": {
            "text/html": [
              "<div>\n",
              "<style scoped>\n",
              "    .dataframe tbody tr th:only-of-type {\n",
              "        vertical-align: middle;\n",
              "    }\n",
              "\n",
              "    .dataframe tbody tr th {\n",
              "        vertical-align: top;\n",
              "    }\n",
              "\n",
              "    .dataframe thead th {\n",
              "        text-align: right;\n",
              "    }\n",
              "</style>\n",
              "<table border=\"1\" class=\"dataframe\">\n",
              "  <thead>\n",
              "    <tr style=\"text-align: right;\">\n",
              "      <th></th>\n",
              "      <th>Ciudad</th>\n",
              "      <th>M2</th>\n",
              "      <th>Hab. Principales</th>\n",
              "      <th>Hab. Secundarias</th>\n",
              "      <th>Baños</th>\n",
              "      <th>Balcón</th>\n",
              "      <th>Valor</th>\n",
              "    </tr>\n",
              "  </thead>\n",
              "  <tbody>\n",
              "    <tr>\n",
              "      <th>7</th>\n",
              "      <td>Caldas</td>\n",
              "      <td>62</td>\n",
              "      <td>1</td>\n",
              "      <td>1</td>\n",
              "      <td>2</td>\n",
              "      <td>No</td>\n",
              "      <td>130000000</td>\n",
              "    </tr>\n",
              "    <tr>\n",
              "      <th>5</th>\n",
              "      <td>Medellín</td>\n",
              "      <td>65</td>\n",
              "      <td>1</td>\n",
              "      <td>2</td>\n",
              "      <td>2</td>\n",
              "      <td>No</td>\n",
              "      <td>140000000</td>\n",
              "    </tr>\n",
              "    <tr>\n",
              "      <th>1</th>\n",
              "      <td>Envigado</td>\n",
              "      <td>56</td>\n",
              "      <td>1</td>\n",
              "      <td>1</td>\n",
              "      <td>2</td>\n",
              "      <td>No</td>\n",
              "      <td>180000000</td>\n",
              "    </tr>\n",
              "    <tr>\n",
              "      <th>2</th>\n",
              "      <td>Medellín</td>\n",
              "      <td>80</td>\n",
              "      <td>1</td>\n",
              "      <td>2</td>\n",
              "      <td>2</td>\n",
              "      <td>Si</td>\n",
              "      <td>190000000</td>\n",
              "    </tr>\n",
              "    <tr>\n",
              "      <th>4</th>\n",
              "      <td>Caldas</td>\n",
              "      <td>73</td>\n",
              "      <td>2</td>\n",
              "      <td>1</td>\n",
              "      <td>2</td>\n",
              "      <td>No</td>\n",
              "      <td>195000000</td>\n",
              "    </tr>\n",
              "    <tr>\n",
              "      <th>3</th>\n",
              "      <td>Bello</td>\n",
              "      <td>82</td>\n",
              "      <td>1</td>\n",
              "      <td>2</td>\n",
              "      <td>2</td>\n",
              "      <td>Si</td>\n",
              "      <td>210000000</td>\n",
              "    </tr>\n",
              "    <tr>\n",
              "      <th>6</th>\n",
              "      <td>Envigado</td>\n",
              "      <td>92</td>\n",
              "      <td>2</td>\n",
              "      <td>3</td>\n",
              "      <td>3</td>\n",
              "      <td>Si</td>\n",
              "      <td>340000000</td>\n",
              "    </tr>\n",
              "    <tr>\n",
              "      <th>0</th>\n",
              "      <td>Medellín</td>\n",
              "      <td>100</td>\n",
              "      <td>2</td>\n",
              "      <td>4</td>\n",
              "      <td>4</td>\n",
              "      <td>Si</td>\n",
              "      <td>450000000</td>\n",
              "    </tr>\n",
              "  </tbody>\n",
              "</table>\n",
              "</div>"
            ],
            "text/plain": [
              "     Ciudad   M2  Hab. Principales  Hab. Secundarias  Baños Balcón      Valor\n",
              "7    Caldas   62                 1                 1      2     No  130000000\n",
              "5  Medellín   65                 1                 2      2     No  140000000\n",
              "1  Envigado   56                 1                 1      2     No  180000000\n",
              "2  Medellín   80                 1                 2      2     Si  190000000\n",
              "4    Caldas   73                 2                 1      2     No  195000000\n",
              "3     Bello   82                 1                 2      2     Si  210000000\n",
              "6  Envigado   92                 2                 3      3     Si  340000000\n",
              "0  Medellín  100                 2                 4      4     Si  450000000"
            ]
          },
          "metadata": {
            "tags": []
          },
          "execution_count": 40
        }
      ]
    },
    {
      "cell_type": "code",
      "metadata": {
        "id": "KxGEyGuZSuI4",
        "colab_type": "code",
        "colab": {
          "base_uri": "https://localhost:8080/",
          "height": 284
        },
        "outputId": "580f96c9-d30b-49af-d66d-430bfd73cd7f"
      },
      "source": [
        "# De manera descendente\n",
        "df.sort_values(by=\"Valor\", ascending=False)"
      ],
      "execution_count": 41,
      "outputs": [
        {
          "output_type": "execute_result",
          "data": {
            "text/html": [
              "<div>\n",
              "<style scoped>\n",
              "    .dataframe tbody tr th:only-of-type {\n",
              "        vertical-align: middle;\n",
              "    }\n",
              "\n",
              "    .dataframe tbody tr th {\n",
              "        vertical-align: top;\n",
              "    }\n",
              "\n",
              "    .dataframe thead th {\n",
              "        text-align: right;\n",
              "    }\n",
              "</style>\n",
              "<table border=\"1\" class=\"dataframe\">\n",
              "  <thead>\n",
              "    <tr style=\"text-align: right;\">\n",
              "      <th></th>\n",
              "      <th>Ciudad</th>\n",
              "      <th>M2</th>\n",
              "      <th>Hab. Principales</th>\n",
              "      <th>Hab. Secundarias</th>\n",
              "      <th>Baños</th>\n",
              "      <th>Balcón</th>\n",
              "      <th>Valor</th>\n",
              "    </tr>\n",
              "  </thead>\n",
              "  <tbody>\n",
              "    <tr>\n",
              "      <th>0</th>\n",
              "      <td>Medellín</td>\n",
              "      <td>100</td>\n",
              "      <td>2</td>\n",
              "      <td>4</td>\n",
              "      <td>4</td>\n",
              "      <td>Si</td>\n",
              "      <td>450000000</td>\n",
              "    </tr>\n",
              "    <tr>\n",
              "      <th>6</th>\n",
              "      <td>Envigado</td>\n",
              "      <td>92</td>\n",
              "      <td>2</td>\n",
              "      <td>3</td>\n",
              "      <td>3</td>\n",
              "      <td>Si</td>\n",
              "      <td>340000000</td>\n",
              "    </tr>\n",
              "    <tr>\n",
              "      <th>3</th>\n",
              "      <td>Bello</td>\n",
              "      <td>82</td>\n",
              "      <td>1</td>\n",
              "      <td>2</td>\n",
              "      <td>2</td>\n",
              "      <td>Si</td>\n",
              "      <td>210000000</td>\n",
              "    </tr>\n",
              "    <tr>\n",
              "      <th>4</th>\n",
              "      <td>Caldas</td>\n",
              "      <td>73</td>\n",
              "      <td>2</td>\n",
              "      <td>1</td>\n",
              "      <td>2</td>\n",
              "      <td>No</td>\n",
              "      <td>195000000</td>\n",
              "    </tr>\n",
              "    <tr>\n",
              "      <th>2</th>\n",
              "      <td>Medellín</td>\n",
              "      <td>80</td>\n",
              "      <td>1</td>\n",
              "      <td>2</td>\n",
              "      <td>2</td>\n",
              "      <td>Si</td>\n",
              "      <td>190000000</td>\n",
              "    </tr>\n",
              "    <tr>\n",
              "      <th>1</th>\n",
              "      <td>Envigado</td>\n",
              "      <td>56</td>\n",
              "      <td>1</td>\n",
              "      <td>1</td>\n",
              "      <td>2</td>\n",
              "      <td>No</td>\n",
              "      <td>180000000</td>\n",
              "    </tr>\n",
              "    <tr>\n",
              "      <th>5</th>\n",
              "      <td>Medellín</td>\n",
              "      <td>65</td>\n",
              "      <td>1</td>\n",
              "      <td>2</td>\n",
              "      <td>2</td>\n",
              "      <td>No</td>\n",
              "      <td>140000000</td>\n",
              "    </tr>\n",
              "    <tr>\n",
              "      <th>7</th>\n",
              "      <td>Caldas</td>\n",
              "      <td>62</td>\n",
              "      <td>1</td>\n",
              "      <td>1</td>\n",
              "      <td>2</td>\n",
              "      <td>No</td>\n",
              "      <td>130000000</td>\n",
              "    </tr>\n",
              "  </tbody>\n",
              "</table>\n",
              "</div>"
            ],
            "text/plain": [
              "     Ciudad   M2  Hab. Principales  Hab. Secundarias  Baños Balcón      Valor\n",
              "0  Medellín  100                 2                 4      4     Si  450000000\n",
              "6  Envigado   92                 2                 3      3     Si  340000000\n",
              "3     Bello   82                 1                 2      2     Si  210000000\n",
              "4    Caldas   73                 2                 1      2     No  195000000\n",
              "2  Medellín   80                 1                 2      2     Si  190000000\n",
              "1  Envigado   56                 1                 1      2     No  180000000\n",
              "5  Medellín   65                 1                 2      2     No  140000000\n",
              "7    Caldas   62                 1                 1      2     No  130000000"
            ]
          },
          "metadata": {
            "tags": []
          },
          "execution_count": 41
        }
      ]
    },
    {
      "cell_type": "code",
      "metadata": {
        "id": "mYijHAZ8TMDE",
        "colab_type": "code",
        "colab": {
          "base_uri": "https://localhost:8080/",
          "height": 168
        },
        "outputId": "a70a08be-ef71-4137-df0a-62018efe6508"
      },
      "source": [
        "# Es posible utilizar operaciones de numpy. Si queremos saber el total de habitaciones:\n",
        "np.add(df['Hab. Principales'], df['Hab. Secundarias'])"
      ],
      "execution_count": 42,
      "outputs": [
        {
          "output_type": "execute_result",
          "data": {
            "text/plain": [
              "0    6\n",
              "1    2\n",
              "2    3\n",
              "3    3\n",
              "4    3\n",
              "5    3\n",
              "6    5\n",
              "7    2\n",
              "dtype: int64"
            ]
          },
          "metadata": {
            "tags": []
          },
          "execution_count": 42
        }
      ]
    },
    {
      "cell_type": "code",
      "metadata": {
        "id": "8k6nP1HwUNoK",
        "colab_type": "code",
        "colab": {
          "base_uri": "https://localhost:8080/",
          "height": 284
        },
        "outputId": "b6e83bd6-d875-48a1-a9a9-7c0d36254ce5"
      },
      "source": [
        "# En algunas ocasiones es útil agregar nuevas columnas al dataframe\n",
        "df['Habitaciones'] = np.add(df['Hab. Principales'], df['Hab. Secundarias'])\n",
        "df"
      ],
      "execution_count": 43,
      "outputs": [
        {
          "output_type": "execute_result",
          "data": {
            "text/html": [
              "<div>\n",
              "<style scoped>\n",
              "    .dataframe tbody tr th:only-of-type {\n",
              "        vertical-align: middle;\n",
              "    }\n",
              "\n",
              "    .dataframe tbody tr th {\n",
              "        vertical-align: top;\n",
              "    }\n",
              "\n",
              "    .dataframe thead th {\n",
              "        text-align: right;\n",
              "    }\n",
              "</style>\n",
              "<table border=\"1\" class=\"dataframe\">\n",
              "  <thead>\n",
              "    <tr style=\"text-align: right;\">\n",
              "      <th></th>\n",
              "      <th>Ciudad</th>\n",
              "      <th>M2</th>\n",
              "      <th>Hab. Principales</th>\n",
              "      <th>Hab. Secundarias</th>\n",
              "      <th>Baños</th>\n",
              "      <th>Balcón</th>\n",
              "      <th>Valor</th>\n",
              "      <th>Habitaciones</th>\n",
              "    </tr>\n",
              "  </thead>\n",
              "  <tbody>\n",
              "    <tr>\n",
              "      <th>0</th>\n",
              "      <td>Medellín</td>\n",
              "      <td>100</td>\n",
              "      <td>2</td>\n",
              "      <td>4</td>\n",
              "      <td>4</td>\n",
              "      <td>Si</td>\n",
              "      <td>450000000</td>\n",
              "      <td>6</td>\n",
              "    </tr>\n",
              "    <tr>\n",
              "      <th>1</th>\n",
              "      <td>Envigado</td>\n",
              "      <td>56</td>\n",
              "      <td>1</td>\n",
              "      <td>1</td>\n",
              "      <td>2</td>\n",
              "      <td>No</td>\n",
              "      <td>180000000</td>\n",
              "      <td>2</td>\n",
              "    </tr>\n",
              "    <tr>\n",
              "      <th>2</th>\n",
              "      <td>Medellín</td>\n",
              "      <td>80</td>\n",
              "      <td>1</td>\n",
              "      <td>2</td>\n",
              "      <td>2</td>\n",
              "      <td>Si</td>\n",
              "      <td>190000000</td>\n",
              "      <td>3</td>\n",
              "    </tr>\n",
              "    <tr>\n",
              "      <th>3</th>\n",
              "      <td>Bello</td>\n",
              "      <td>82</td>\n",
              "      <td>1</td>\n",
              "      <td>2</td>\n",
              "      <td>2</td>\n",
              "      <td>Si</td>\n",
              "      <td>210000000</td>\n",
              "      <td>3</td>\n",
              "    </tr>\n",
              "    <tr>\n",
              "      <th>4</th>\n",
              "      <td>Caldas</td>\n",
              "      <td>73</td>\n",
              "      <td>2</td>\n",
              "      <td>1</td>\n",
              "      <td>2</td>\n",
              "      <td>No</td>\n",
              "      <td>195000000</td>\n",
              "      <td>3</td>\n",
              "    </tr>\n",
              "    <tr>\n",
              "      <th>5</th>\n",
              "      <td>Medellín</td>\n",
              "      <td>65</td>\n",
              "      <td>1</td>\n",
              "      <td>2</td>\n",
              "      <td>2</td>\n",
              "      <td>No</td>\n",
              "      <td>140000000</td>\n",
              "      <td>3</td>\n",
              "    </tr>\n",
              "    <tr>\n",
              "      <th>6</th>\n",
              "      <td>Envigado</td>\n",
              "      <td>92</td>\n",
              "      <td>2</td>\n",
              "      <td>3</td>\n",
              "      <td>3</td>\n",
              "      <td>Si</td>\n",
              "      <td>340000000</td>\n",
              "      <td>5</td>\n",
              "    </tr>\n",
              "    <tr>\n",
              "      <th>7</th>\n",
              "      <td>Caldas</td>\n",
              "      <td>62</td>\n",
              "      <td>1</td>\n",
              "      <td>1</td>\n",
              "      <td>2</td>\n",
              "      <td>No</td>\n",
              "      <td>130000000</td>\n",
              "      <td>2</td>\n",
              "    </tr>\n",
              "  </tbody>\n",
              "</table>\n",
              "</div>"
            ],
            "text/plain": [
              "     Ciudad   M2  Hab. Principales  ...  Balcón      Valor Habitaciones\n",
              "0  Medellín  100                 2  ...      Si  450000000            6\n",
              "1  Envigado   56                 1  ...      No  180000000            2\n",
              "2  Medellín   80                 1  ...      Si  190000000            3\n",
              "3     Bello   82                 1  ...      Si  210000000            3\n",
              "4    Caldas   73                 2  ...      No  195000000            3\n",
              "5  Medellín   65                 1  ...      No  140000000            3\n",
              "6  Envigado   92                 2  ...      Si  340000000            5\n",
              "7    Caldas   62                 1  ...      No  130000000            2\n",
              "\n",
              "[8 rows x 8 columns]"
            ]
          },
          "metadata": {
            "tags": []
          },
          "execution_count": 43
        }
      ]
    },
    {
      "cell_type": "code",
      "metadata": {
        "id": "_CzHDS4lUc2P",
        "colab_type": "code",
        "colab": {
          "base_uri": "https://localhost:8080/",
          "height": 284
        },
        "outputId": "c69dd54f-ca1e-4c5c-98bb-24fbfb42e919"
      },
      "source": [
        "# Y también eliminar columnas\n",
        "df = df.drop(columns=['Hab. Principales', 'Hab. Secundarias'])\n",
        "df"
      ],
      "execution_count": 44,
      "outputs": [
        {
          "output_type": "execute_result",
          "data": {
            "text/html": [
              "<div>\n",
              "<style scoped>\n",
              "    .dataframe tbody tr th:only-of-type {\n",
              "        vertical-align: middle;\n",
              "    }\n",
              "\n",
              "    .dataframe tbody tr th {\n",
              "        vertical-align: top;\n",
              "    }\n",
              "\n",
              "    .dataframe thead th {\n",
              "        text-align: right;\n",
              "    }\n",
              "</style>\n",
              "<table border=\"1\" class=\"dataframe\">\n",
              "  <thead>\n",
              "    <tr style=\"text-align: right;\">\n",
              "      <th></th>\n",
              "      <th>Ciudad</th>\n",
              "      <th>M2</th>\n",
              "      <th>Baños</th>\n",
              "      <th>Balcón</th>\n",
              "      <th>Valor</th>\n",
              "      <th>Habitaciones</th>\n",
              "    </tr>\n",
              "  </thead>\n",
              "  <tbody>\n",
              "    <tr>\n",
              "      <th>0</th>\n",
              "      <td>Medellín</td>\n",
              "      <td>100</td>\n",
              "      <td>4</td>\n",
              "      <td>Si</td>\n",
              "      <td>450000000</td>\n",
              "      <td>6</td>\n",
              "    </tr>\n",
              "    <tr>\n",
              "      <th>1</th>\n",
              "      <td>Envigado</td>\n",
              "      <td>56</td>\n",
              "      <td>2</td>\n",
              "      <td>No</td>\n",
              "      <td>180000000</td>\n",
              "      <td>2</td>\n",
              "    </tr>\n",
              "    <tr>\n",
              "      <th>2</th>\n",
              "      <td>Medellín</td>\n",
              "      <td>80</td>\n",
              "      <td>2</td>\n",
              "      <td>Si</td>\n",
              "      <td>190000000</td>\n",
              "      <td>3</td>\n",
              "    </tr>\n",
              "    <tr>\n",
              "      <th>3</th>\n",
              "      <td>Bello</td>\n",
              "      <td>82</td>\n",
              "      <td>2</td>\n",
              "      <td>Si</td>\n",
              "      <td>210000000</td>\n",
              "      <td>3</td>\n",
              "    </tr>\n",
              "    <tr>\n",
              "      <th>4</th>\n",
              "      <td>Caldas</td>\n",
              "      <td>73</td>\n",
              "      <td>2</td>\n",
              "      <td>No</td>\n",
              "      <td>195000000</td>\n",
              "      <td>3</td>\n",
              "    </tr>\n",
              "    <tr>\n",
              "      <th>5</th>\n",
              "      <td>Medellín</td>\n",
              "      <td>65</td>\n",
              "      <td>2</td>\n",
              "      <td>No</td>\n",
              "      <td>140000000</td>\n",
              "      <td>3</td>\n",
              "    </tr>\n",
              "    <tr>\n",
              "      <th>6</th>\n",
              "      <td>Envigado</td>\n",
              "      <td>92</td>\n",
              "      <td>3</td>\n",
              "      <td>Si</td>\n",
              "      <td>340000000</td>\n",
              "      <td>5</td>\n",
              "    </tr>\n",
              "    <tr>\n",
              "      <th>7</th>\n",
              "      <td>Caldas</td>\n",
              "      <td>62</td>\n",
              "      <td>2</td>\n",
              "      <td>No</td>\n",
              "      <td>130000000</td>\n",
              "      <td>2</td>\n",
              "    </tr>\n",
              "  </tbody>\n",
              "</table>\n",
              "</div>"
            ],
            "text/plain": [
              "     Ciudad   M2  Baños Balcón      Valor  Habitaciones\n",
              "0  Medellín  100      4     Si  450000000             6\n",
              "1  Envigado   56      2     No  180000000             2\n",
              "2  Medellín   80      2     Si  190000000             3\n",
              "3     Bello   82      2     Si  210000000             3\n",
              "4    Caldas   73      2     No  195000000             3\n",
              "5  Medellín   65      2     No  140000000             3\n",
              "6  Envigado   92      3     Si  340000000             5\n",
              "7    Caldas   62      2     No  130000000             2"
            ]
          },
          "metadata": {
            "tags": []
          },
          "execution_count": 44
        }
      ]
    },
    {
      "cell_type": "code",
      "metadata": {
        "id": "EaqfHOP-U40b",
        "colab_type": "code",
        "colab": {
          "base_uri": "https://localhost:8080/",
          "height": 166
        },
        "outputId": "a0325405-0f07-4e8c-fdac-9c9af142cfb4"
      },
      "source": [
        "# Para filtrar las filas que cumplan cierta condición\n",
        "df[df['Balcón'] == 'Si']"
      ],
      "execution_count": 45,
      "outputs": [
        {
          "output_type": "execute_result",
          "data": {
            "text/html": [
              "<div>\n",
              "<style scoped>\n",
              "    .dataframe tbody tr th:only-of-type {\n",
              "        vertical-align: middle;\n",
              "    }\n",
              "\n",
              "    .dataframe tbody tr th {\n",
              "        vertical-align: top;\n",
              "    }\n",
              "\n",
              "    .dataframe thead th {\n",
              "        text-align: right;\n",
              "    }\n",
              "</style>\n",
              "<table border=\"1\" class=\"dataframe\">\n",
              "  <thead>\n",
              "    <tr style=\"text-align: right;\">\n",
              "      <th></th>\n",
              "      <th>Ciudad</th>\n",
              "      <th>M2</th>\n",
              "      <th>Baños</th>\n",
              "      <th>Balcón</th>\n",
              "      <th>Valor</th>\n",
              "      <th>Habitaciones</th>\n",
              "    </tr>\n",
              "  </thead>\n",
              "  <tbody>\n",
              "    <tr>\n",
              "      <th>0</th>\n",
              "      <td>Medellín</td>\n",
              "      <td>100</td>\n",
              "      <td>4</td>\n",
              "      <td>Si</td>\n",
              "      <td>450000000</td>\n",
              "      <td>6</td>\n",
              "    </tr>\n",
              "    <tr>\n",
              "      <th>2</th>\n",
              "      <td>Medellín</td>\n",
              "      <td>80</td>\n",
              "      <td>2</td>\n",
              "      <td>Si</td>\n",
              "      <td>190000000</td>\n",
              "      <td>3</td>\n",
              "    </tr>\n",
              "    <tr>\n",
              "      <th>3</th>\n",
              "      <td>Bello</td>\n",
              "      <td>82</td>\n",
              "      <td>2</td>\n",
              "      <td>Si</td>\n",
              "      <td>210000000</td>\n",
              "      <td>3</td>\n",
              "    </tr>\n",
              "    <tr>\n",
              "      <th>6</th>\n",
              "      <td>Envigado</td>\n",
              "      <td>92</td>\n",
              "      <td>3</td>\n",
              "      <td>Si</td>\n",
              "      <td>340000000</td>\n",
              "      <td>5</td>\n",
              "    </tr>\n",
              "  </tbody>\n",
              "</table>\n",
              "</div>"
            ],
            "text/plain": [
              "     Ciudad   M2  Baños Balcón      Valor  Habitaciones\n",
              "0  Medellín  100      4     Si  450000000             6\n",
              "2  Medellín   80      2     Si  190000000             3\n",
              "3     Bello   82      2     Si  210000000             3\n",
              "6  Envigado   92      3     Si  340000000             5"
            ]
          },
          "metadata": {
            "tags": []
          },
          "execution_count": 45
        }
      ]
    },
    {
      "cell_type": "code",
      "metadata": {
        "id": "a_gkJyUjVSZt",
        "colab_type": "code",
        "colab": {
          "base_uri": "https://localhost:8080/",
          "height": 195
        },
        "outputId": "67b22fae-aa50-43a4-e479-0c750fbe4290"
      },
      "source": [
        "# o una condición numérica\n",
        "df[df['Valor'] < 200000000]"
      ],
      "execution_count": 46,
      "outputs": [
        {
          "output_type": "execute_result",
          "data": {
            "text/html": [
              "<div>\n",
              "<style scoped>\n",
              "    .dataframe tbody tr th:only-of-type {\n",
              "        vertical-align: middle;\n",
              "    }\n",
              "\n",
              "    .dataframe tbody tr th {\n",
              "        vertical-align: top;\n",
              "    }\n",
              "\n",
              "    .dataframe thead th {\n",
              "        text-align: right;\n",
              "    }\n",
              "</style>\n",
              "<table border=\"1\" class=\"dataframe\">\n",
              "  <thead>\n",
              "    <tr style=\"text-align: right;\">\n",
              "      <th></th>\n",
              "      <th>Ciudad</th>\n",
              "      <th>M2</th>\n",
              "      <th>Baños</th>\n",
              "      <th>Balcón</th>\n",
              "      <th>Valor</th>\n",
              "      <th>Habitaciones</th>\n",
              "    </tr>\n",
              "  </thead>\n",
              "  <tbody>\n",
              "    <tr>\n",
              "      <th>1</th>\n",
              "      <td>Envigado</td>\n",
              "      <td>56</td>\n",
              "      <td>2</td>\n",
              "      <td>No</td>\n",
              "      <td>180000000</td>\n",
              "      <td>2</td>\n",
              "    </tr>\n",
              "    <tr>\n",
              "      <th>2</th>\n",
              "      <td>Medellín</td>\n",
              "      <td>80</td>\n",
              "      <td>2</td>\n",
              "      <td>Si</td>\n",
              "      <td>190000000</td>\n",
              "      <td>3</td>\n",
              "    </tr>\n",
              "    <tr>\n",
              "      <th>4</th>\n",
              "      <td>Caldas</td>\n",
              "      <td>73</td>\n",
              "      <td>2</td>\n",
              "      <td>No</td>\n",
              "      <td>195000000</td>\n",
              "      <td>3</td>\n",
              "    </tr>\n",
              "    <tr>\n",
              "      <th>5</th>\n",
              "      <td>Medellín</td>\n",
              "      <td>65</td>\n",
              "      <td>2</td>\n",
              "      <td>No</td>\n",
              "      <td>140000000</td>\n",
              "      <td>3</td>\n",
              "    </tr>\n",
              "    <tr>\n",
              "      <th>7</th>\n",
              "      <td>Caldas</td>\n",
              "      <td>62</td>\n",
              "      <td>2</td>\n",
              "      <td>No</td>\n",
              "      <td>130000000</td>\n",
              "      <td>2</td>\n",
              "    </tr>\n",
              "  </tbody>\n",
              "</table>\n",
              "</div>"
            ],
            "text/plain": [
              "     Ciudad  M2  Baños Balcón      Valor  Habitaciones\n",
              "1  Envigado  56      2     No  180000000             2\n",
              "2  Medellín  80      2     Si  190000000             3\n",
              "4    Caldas  73      2     No  195000000             3\n",
              "5  Medellín  65      2     No  140000000             3\n",
              "7    Caldas  62      2     No  130000000             2"
            ]
          },
          "metadata": {
            "tags": []
          },
          "execution_count": 46
        }
      ]
    },
    {
      "cell_type": "code",
      "metadata": {
        "id": "jEPl6uaEValv",
        "colab_type": "code",
        "colab": {
          "base_uri": "https://localhost:8080/",
          "height": 284
        },
        "outputId": "00ecf2b0-d090-49c1-a435-e8c7228fa434"
      },
      "source": [
        "# Nótese que los dos filtros anteriores no cambiaron el dataframe original\n",
        "df"
      ],
      "execution_count": 47,
      "outputs": [
        {
          "output_type": "execute_result",
          "data": {
            "text/html": [
              "<div>\n",
              "<style scoped>\n",
              "    .dataframe tbody tr th:only-of-type {\n",
              "        vertical-align: middle;\n",
              "    }\n",
              "\n",
              "    .dataframe tbody tr th {\n",
              "        vertical-align: top;\n",
              "    }\n",
              "\n",
              "    .dataframe thead th {\n",
              "        text-align: right;\n",
              "    }\n",
              "</style>\n",
              "<table border=\"1\" class=\"dataframe\">\n",
              "  <thead>\n",
              "    <tr style=\"text-align: right;\">\n",
              "      <th></th>\n",
              "      <th>Ciudad</th>\n",
              "      <th>M2</th>\n",
              "      <th>Baños</th>\n",
              "      <th>Balcón</th>\n",
              "      <th>Valor</th>\n",
              "      <th>Habitaciones</th>\n",
              "    </tr>\n",
              "  </thead>\n",
              "  <tbody>\n",
              "    <tr>\n",
              "      <th>0</th>\n",
              "      <td>Medellín</td>\n",
              "      <td>100</td>\n",
              "      <td>4</td>\n",
              "      <td>Si</td>\n",
              "      <td>450000000</td>\n",
              "      <td>6</td>\n",
              "    </tr>\n",
              "    <tr>\n",
              "      <th>1</th>\n",
              "      <td>Envigado</td>\n",
              "      <td>56</td>\n",
              "      <td>2</td>\n",
              "      <td>No</td>\n",
              "      <td>180000000</td>\n",
              "      <td>2</td>\n",
              "    </tr>\n",
              "    <tr>\n",
              "      <th>2</th>\n",
              "      <td>Medellín</td>\n",
              "      <td>80</td>\n",
              "      <td>2</td>\n",
              "      <td>Si</td>\n",
              "      <td>190000000</td>\n",
              "      <td>3</td>\n",
              "    </tr>\n",
              "    <tr>\n",
              "      <th>3</th>\n",
              "      <td>Bello</td>\n",
              "      <td>82</td>\n",
              "      <td>2</td>\n",
              "      <td>Si</td>\n",
              "      <td>210000000</td>\n",
              "      <td>3</td>\n",
              "    </tr>\n",
              "    <tr>\n",
              "      <th>4</th>\n",
              "      <td>Caldas</td>\n",
              "      <td>73</td>\n",
              "      <td>2</td>\n",
              "      <td>No</td>\n",
              "      <td>195000000</td>\n",
              "      <td>3</td>\n",
              "    </tr>\n",
              "    <tr>\n",
              "      <th>5</th>\n",
              "      <td>Medellín</td>\n",
              "      <td>65</td>\n",
              "      <td>2</td>\n",
              "      <td>No</td>\n",
              "      <td>140000000</td>\n",
              "      <td>3</td>\n",
              "    </tr>\n",
              "    <tr>\n",
              "      <th>6</th>\n",
              "      <td>Envigado</td>\n",
              "      <td>92</td>\n",
              "      <td>3</td>\n",
              "      <td>Si</td>\n",
              "      <td>340000000</td>\n",
              "      <td>5</td>\n",
              "    </tr>\n",
              "    <tr>\n",
              "      <th>7</th>\n",
              "      <td>Caldas</td>\n",
              "      <td>62</td>\n",
              "      <td>2</td>\n",
              "      <td>No</td>\n",
              "      <td>130000000</td>\n",
              "      <td>2</td>\n",
              "    </tr>\n",
              "  </tbody>\n",
              "</table>\n",
              "</div>"
            ],
            "text/plain": [
              "     Ciudad   M2  Baños Balcón      Valor  Habitaciones\n",
              "0  Medellín  100      4     Si  450000000             6\n",
              "1  Envigado   56      2     No  180000000             2\n",
              "2  Medellín   80      2     Si  190000000             3\n",
              "3     Bello   82      2     Si  210000000             3\n",
              "4    Caldas   73      2     No  195000000             3\n",
              "5  Medellín   65      2     No  140000000             3\n",
              "6  Envigado   92      3     Si  340000000             5\n",
              "7    Caldas   62      2     No  130000000             2"
            ]
          },
          "metadata": {
            "tags": []
          },
          "execution_count": 47
        }
      ]
    },
    {
      "cell_type": "code",
      "metadata": {
        "id": "V_--LGz-Vjgq",
        "colab_type": "code",
        "colab": {
          "base_uri": "https://localhost:8080/",
          "height": 195
        },
        "outputId": "7ad06837-b6de-46d6-ab8c-5565400242f9"
      },
      "source": [
        "# Si queremos cambiarlo, debemos reemplazar el dataframe con el filtrado\n",
        "# Por ejemplo, si queremos dejar solo las casas que valgan menos de 200.000.000\n",
        "df = df[df['Valor'] < 200000000]\n",
        "df"
      ],
      "execution_count": 48,
      "outputs": [
        {
          "output_type": "execute_result",
          "data": {
            "text/html": [
              "<div>\n",
              "<style scoped>\n",
              "    .dataframe tbody tr th:only-of-type {\n",
              "        vertical-align: middle;\n",
              "    }\n",
              "\n",
              "    .dataframe tbody tr th {\n",
              "        vertical-align: top;\n",
              "    }\n",
              "\n",
              "    .dataframe thead th {\n",
              "        text-align: right;\n",
              "    }\n",
              "</style>\n",
              "<table border=\"1\" class=\"dataframe\">\n",
              "  <thead>\n",
              "    <tr style=\"text-align: right;\">\n",
              "      <th></th>\n",
              "      <th>Ciudad</th>\n",
              "      <th>M2</th>\n",
              "      <th>Baños</th>\n",
              "      <th>Balcón</th>\n",
              "      <th>Valor</th>\n",
              "      <th>Habitaciones</th>\n",
              "    </tr>\n",
              "  </thead>\n",
              "  <tbody>\n",
              "    <tr>\n",
              "      <th>1</th>\n",
              "      <td>Envigado</td>\n",
              "      <td>56</td>\n",
              "      <td>2</td>\n",
              "      <td>No</td>\n",
              "      <td>180000000</td>\n",
              "      <td>2</td>\n",
              "    </tr>\n",
              "    <tr>\n",
              "      <th>2</th>\n",
              "      <td>Medellín</td>\n",
              "      <td>80</td>\n",
              "      <td>2</td>\n",
              "      <td>Si</td>\n",
              "      <td>190000000</td>\n",
              "      <td>3</td>\n",
              "    </tr>\n",
              "    <tr>\n",
              "      <th>4</th>\n",
              "      <td>Caldas</td>\n",
              "      <td>73</td>\n",
              "      <td>2</td>\n",
              "      <td>No</td>\n",
              "      <td>195000000</td>\n",
              "      <td>3</td>\n",
              "    </tr>\n",
              "    <tr>\n",
              "      <th>5</th>\n",
              "      <td>Medellín</td>\n",
              "      <td>65</td>\n",
              "      <td>2</td>\n",
              "      <td>No</td>\n",
              "      <td>140000000</td>\n",
              "      <td>3</td>\n",
              "    </tr>\n",
              "    <tr>\n",
              "      <th>7</th>\n",
              "      <td>Caldas</td>\n",
              "      <td>62</td>\n",
              "      <td>2</td>\n",
              "      <td>No</td>\n",
              "      <td>130000000</td>\n",
              "      <td>2</td>\n",
              "    </tr>\n",
              "  </tbody>\n",
              "</table>\n",
              "</div>"
            ],
            "text/plain": [
              "     Ciudad  M2  Baños Balcón      Valor  Habitaciones\n",
              "1  Envigado  56      2     No  180000000             2\n",
              "2  Medellín  80      2     Si  190000000             3\n",
              "4    Caldas  73      2     No  195000000             3\n",
              "5  Medellín  65      2     No  140000000             3\n",
              "7    Caldas  62      2     No  130000000             2"
            ]
          },
          "metadata": {
            "tags": []
          },
          "execution_count": 48
        }
      ]
    },
    {
      "cell_type": "markdown",
      "metadata": {
        "id": "0le3mCLXV9ch",
        "colab_type": "text"
      },
      "source": [
        "MATPLOT\n",
        "\n",
        "Matplotlib es una biblioteca para crear gráficas estáticas, animadas o interactivas en Python."
      ]
    },
    {
      "cell_type": "code",
      "metadata": {
        "id": "mBHKIBeXWBja",
        "colab_type": "code",
        "colab": {}
      },
      "source": [
        "# Importar la librería\n",
        "import matplotlib.pyplot as plt"
      ],
      "execution_count": 49,
      "outputs": []
    },
    {
      "cell_type": "code",
      "metadata": {
        "id": "IY8hB-J1wtU9",
        "colab_type": "code",
        "colab": {
          "base_uri": "https://localhost:8080/",
          "height": 319
        },
        "outputId": "af3113fe-23e5-4778-e656-9792d77ecfe8"
      },
      "source": [
        "# Graficaremos el número de casas con respecto a cada ciudad \n",
        "\n",
        "# Tamaño de la gráfica\n",
        "plt.figure(figsize=(20,4))\n",
        "# Gráficar\n",
        "df[\"Ciudad\"].value_counts().plot(kind='bar')\n",
        "# explode: típo de gráfica (barra)"
      ],
      "execution_count": 50,
      "outputs": [
        {
          "output_type": "execute_result",
          "data": {
            "text/plain": [
              "<matplotlib.axes._subplots.AxesSubplot at 0x7fc998e84208>"
            ]
          },
          "metadata": {
            "tags": []
          },
          "execution_count": 50
        },
        {
          "output_type": "display_data",
          "data": {
            "image/png": "[encoded data removed]",
            "text/plain": [
              "<Figure size 1440x288 with 1 Axes>"
            ]
          },
          "metadata": {
            "tags": [],
            "needs_background": "light"
          }
        }
      ]
    },
    {
      "cell_type": "code",
      "metadata": {
        "id": "KcegoJmSvMnr",
        "colab_type": "code",
        "colab": {
          "base_uri": "https://localhost:8080/",
          "height": 341
        },
        "outputId": "f7ddac0a-1389-4078-8daf-3269ef38bf71"
      },
      "source": [
        "# Ahora graficaremos la cantidad de casas que tienen balcón, pero en una gráfica tipo torta\n",
        "\n",
        "# Tamaño de la gráfica\n",
        "plt.figure(figsize=(5,5)) \n",
        "# Título de la imagen y tamaño del título\n",
        "plt.title('Casas con balcón', fontsize=20) \n",
        "# Gráficar\n",
        "df[\"Balcón\"].value_counts().plot.pie(explode=[0,0.25], autopct='%1.1f%%', shadow=True, colors=[\"#33FFB0\", \"#33A1FF\"], fontsize=14, startangle=25)\n",
        "# explode: separación entre las franjas de la gráfica\n",
        "# autopct: valor numérico de cada porción\n",
        "# shadow: sombras en las gráficas\n",
        "# colors: colores de la gáfica\n",
        "# fontsize: tamaño de la letra\n",
        "# startangle: rotar la gráfica"
      ],
      "execution_count": 51,
      "outputs": [
        {
          "output_type": "execute_result",
          "data": {
            "text/plain": [
              "<matplotlib.axes._subplots.AxesSubplot at 0x7fc998dc9320>"
            ]
          },
          "metadata": {
            "tags": []
          },
          "execution_count": 51
        },
        {
          "output_type": "display_data",
          "data": {
            "image/png": "[encoded data removed]",
            "text/plain": [
              "<Figure size 360x360 with 1 Axes>"
            ]
          },
          "metadata": {
            "tags": []
          }
        }
      ]
    }
  ]
}