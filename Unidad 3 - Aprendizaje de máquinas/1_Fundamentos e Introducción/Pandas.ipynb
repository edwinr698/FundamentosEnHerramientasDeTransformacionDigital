{
  "nbformat": 4,
  "nbformat_minor": 0,
  "metadata": {
    "colab": {
      "name": "Pandas.ipynb",
      "provenance": [],
      "collapsed_sections": [],
      "include_colab_link": true
    },
    "kernelspec": {
      "name": "python3",
      "display_name": "Python 3"
    }
  },
  "cells": [
    {
      "cell_type": "markdown",
      "metadata": {
        "id": "view-in-github",
        "colab_type": "text"
      },
      "source": [
        "<a href=\"https://colab.research.google.com/github/jaguzman/GENERAL-FundamentosEnHerramientasDeTransformacionDigital/blob/master/Unidad%203%20-%20Aprendizaje%20de%20m%C3%A1quinas/1_Fundamentos%20e%20Introducci%C3%B3n/Pandas.ipynb\" target=\"_parent\"><img src=\"https://colab.research.google.com/assets/colab-badge.svg\" alt=\"Open In Colab\"/></a>"
      ]
    },
    {
      "cell_type": "markdown",
      "metadata": {
        "id": "J4EBxllnVTfX",
        "colab_type": "text"
      },
      "source": [
        "**PANDAS**\n",
        "\n",
        "Pandas es una librería de estructuras de datos (DataFrame). Con ella se puede acceder y manipular datos dentro de un DataFrame importado desde datos CSV. Es una herramienta útil para analizar datos e implementar funciones de Aprendizaje de Máquinas.\n"
      ]
    },
    {
      "cell_type": "markdown",
      "metadata": {
        "id": "9GXEFRZiTuw8",
        "colab_type": "text"
      },
      "source": [
        "**CONTENIDO**\n",
        "\n",
        "**Librería Pandas**\n",
        "*   Importar librería\n",
        "*   DataFrame\n",
        "*   Acceder a porciones de datos\n",
        "*   Operaciones a los datos\n",
        "*   Cargar un archivo CSV\n",
        "*   Funciones con DataFrame\n",
        "*   Gráficas\n",
        "\n",
        "**Actividad**\n",
        "* Base de datos de Black Friday"
      ]
    },
    {
      "cell_type": "markdown",
      "metadata": {
        "id": "-EMsuRtQZj7k",
        "colab_type": "text"
      },
      "source": [
        "## ***LIBRERÍA PANDAS***"
      ]
    },
    {
      "cell_type": "markdown",
      "metadata": {
        "id": "yliFncOzVT38",
        "colab_type": "text"
      },
      "source": [
        "**IMPORTAR LIBRERÍA**"
      ]
    },
    {
      "cell_type": "code",
      "metadata": {
        "id": "LSu94P33bn2z",
        "colab_type": "code",
        "colab": {}
      },
      "source": [
        "# Importar la librería\n",
        "import pandas as pd"
      ],
      "execution_count": 0,
      "outputs": []
    },
    {
      "cell_type": "markdown",
      "metadata": {
        "id": "Xxg1YFIgT0XR",
        "colab_type": "text"
      },
      "source": [
        "**DATAFRAME**"
      ]
    },
    {
      "cell_type": "code",
      "metadata": {
        "id": "ZlzRobd7Vb-_",
        "colab_type": "code",
        "outputId": "936555ea-4ef6-4c05-84c4-0104b3e7cd81",
        "colab": {
          "base_uri": "https://localhost:8080/",
          "height": 101
        }
      },
      "source": [
        "# Series\n",
        "pd.Series(['Medellín', 'Envigado', 'Bello', 'Sabaneta'])"
      ],
      "execution_count": 2,
      "outputs": [
        {
          "output_type": "execute_result",
          "data": {
            "text/plain": [
              "0    Medellín\n",
              "1    Envigado\n",
              "2       Bello\n",
              "3    Sabaneta\n",
              "dtype: object"
            ]
          },
          "metadata": {
            "tags": []
          },
          "execution_count": 2
        }
      ]
    },
    {
      "cell_type": "markdown",
      "metadata": {
        "id": "uWN0mPRSVgcG",
        "colab_type": "text"
      },
      "source": [
        "Los DataFrame se pueden crear con los nombres de las columnas y sus respectivas Series. Si las series no coincide en longitud, los valores faltantes se completan con valores especiales NA / NaN."
      ]
    },
    {
      "cell_type": "code",
      "metadata": {
        "id": "Dr02yanOVh9H",
        "colab_type": "code",
        "outputId": "601fd525-065e-4bac-aefc-48706f2ed6af",
        "colab": {
          "base_uri": "https://localhost:8080/",
          "height": 166
        }
      },
      "source": [
        "# DataFrame\n",
        "city_names = pd.Series(['Medellín', 'Envigado', 'Bello', 'Sabaneta'])\n",
        "population = pd.Series([852469, 1015785, 485199])\n",
        "\n",
        "pd.DataFrame({ 'City name': city_names, 'Population': population })"
      ],
      "execution_count": 3,
      "outputs": [
        {
          "output_type": "execute_result",
          "data": {
            "text/html": [
              "<div>\n",
              "<style scoped>\n",
              "    .dataframe tbody tr th:only-of-type {\n",
              "        vertical-align: middle;\n",
              "    }\n",
              "\n",
              "    .dataframe tbody tr th {\n",
              "        vertical-align: top;\n",
              "    }\n",
              "\n",
              "    .dataframe thead th {\n",
              "        text-align: right;\n",
              "    }\n",
              "</style>\n",
              "<table border=\"1\" class=\"dataframe\">\n",
              "  <thead>\n",
              "    <tr style=\"text-align: right;\">\n",
              "      <th></th>\n",
              "      <th>City name</th>\n",
              "      <th>Population</th>\n",
              "    </tr>\n",
              "  </thead>\n",
              "  <tbody>\n",
              "    <tr>\n",
              "      <th>0</th>\n",
              "      <td>Medellín</td>\n",
              "      <td>852469.0</td>\n",
              "    </tr>\n",
              "    <tr>\n",
              "      <th>1</th>\n",
              "      <td>Envigado</td>\n",
              "      <td>1015785.0</td>\n",
              "    </tr>\n",
              "    <tr>\n",
              "      <th>2</th>\n",
              "      <td>Bello</td>\n",
              "      <td>485199.0</td>\n",
              "    </tr>\n",
              "    <tr>\n",
              "      <th>3</th>\n",
              "      <td>Sabaneta</td>\n",
              "      <td>NaN</td>\n",
              "    </tr>\n",
              "  </tbody>\n",
              "</table>\n",
              "</div>"
            ],
            "text/plain": [
              "  City name  Population\n",
              "0  Medellín    852469.0\n",
              "1  Envigado   1015785.0\n",
              "2     Bello    485199.0\n",
              "3  Sabaneta         NaN"
            ]
          },
          "metadata": {
            "tags": []
          },
          "execution_count": 3
        }
      ]
    },
    {
      "cell_type": "markdown",
      "metadata": {
        "id": "tCTac-hOVtd3",
        "colab_type": "text"
      },
      "source": [
        "**ACCEDER A PORCIONES DE DATOS**"
      ]
    },
    {
      "cell_type": "code",
      "metadata": {
        "id": "6OXZA0mvVvRX",
        "colab_type": "code",
        "outputId": "79d37ba8-44ac-4773-d98f-b34d6b5f900f",
        "colab": {
          "base_uri": "https://localhost:8080/",
          "height": 118
        }
      },
      "source": [
        "# Crear el DataFrame\n",
        "cities = pd.DataFrame({ 'City name': city_names, 'Population': population })\n",
        "# Se imprime el tipo de datos de la columna \"City name\"\n",
        "print(type(cities['City name']))\n",
        "# Se imprime sólo la columna \"City name\"\n",
        "cities['City name']"
      ],
      "execution_count": 4,
      "outputs": [
        {
          "output_type": "stream",
          "text": [
            "<class 'pandas.core.series.Series'>\n"
          ],
          "name": "stdout"
        },
        {
          "output_type": "execute_result",
          "data": {
            "text/plain": [
              "0    Medellín\n",
              "1    Envigado\n",
              "2       Bello\n",
              "3    Sabaneta\n",
              "Name: City name, dtype: object"
            ]
          },
          "metadata": {
            "tags": []
          },
          "execution_count": 4
        }
      ]
    },
    {
      "cell_type": "code",
      "metadata": {
        "id": "khNdLLXjVxBn",
        "colab_type": "code",
        "outputId": "642728d8-bf5b-4d32-de86-3a72d1962207",
        "colab": {
          "base_uri": "https://localhost:8080/",
          "height": 50
        }
      },
      "source": [
        "# Acceder a un dato específico\n",
        "print(type(cities['City name'][1]))\n",
        "cities['City name'][1]"
      ],
      "execution_count": 5,
      "outputs": [
        {
          "output_type": "stream",
          "text": [
            "<class 'str'>\n"
          ],
          "name": "stdout"
        },
        {
          "output_type": "execute_result",
          "data": {
            "text/plain": [
              "'Envigado'"
            ]
          },
          "metadata": {
            "tags": []
          },
          "execution_count": 5
        }
      ]
    },
    {
      "cell_type": "code",
      "metadata": {
        "id": "g4FMYSoRVyD-",
        "colab_type": "code",
        "outputId": "689de8fd-5342-4604-ab97-48d04a14f864",
        "colab": {
          "base_uri": "https://localhost:8080/",
          "height": 123
        }
      },
      "source": [
        "# Acceder a diferentes datos\n",
        "print(type(cities[0:2]))\n",
        "cities[0:2]"
      ],
      "execution_count": 6,
      "outputs": [
        {
          "output_type": "stream",
          "text": [
            "<class 'pandas.core.frame.DataFrame'>\n"
          ],
          "name": "stdout"
        },
        {
          "output_type": "execute_result",
          "data": {
            "text/html": [
              "<div>\n",
              "<style scoped>\n",
              "    .dataframe tbody tr th:only-of-type {\n",
              "        vertical-align: middle;\n",
              "    }\n",
              "\n",
              "    .dataframe tbody tr th {\n",
              "        vertical-align: top;\n",
              "    }\n",
              "\n",
              "    .dataframe thead th {\n",
              "        text-align: right;\n",
              "    }\n",
              "</style>\n",
              "<table border=\"1\" class=\"dataframe\">\n",
              "  <thead>\n",
              "    <tr style=\"text-align: right;\">\n",
              "      <th></th>\n",
              "      <th>City name</th>\n",
              "      <th>Population</th>\n",
              "    </tr>\n",
              "  </thead>\n",
              "  <tbody>\n",
              "    <tr>\n",
              "      <th>0</th>\n",
              "      <td>Medellín</td>\n",
              "      <td>852469.0</td>\n",
              "    </tr>\n",
              "    <tr>\n",
              "      <th>1</th>\n",
              "      <td>Envigado</td>\n",
              "      <td>1015785.0</td>\n",
              "    </tr>\n",
              "  </tbody>\n",
              "</table>\n",
              "</div>"
            ],
            "text/plain": [
              "  City name  Population\n",
              "0  Medellín    852469.0\n",
              "1  Envigado   1015785.0"
            ]
          },
          "metadata": {
            "tags": []
          },
          "execution_count": 6
        }
      ]
    },
    {
      "cell_type": "markdown",
      "metadata": {
        "id": "pV6NJ5-wVtF_",
        "colab_type": "text"
      },
      "source": [
        "**OPERACIONES A LOS DATOS**"
      ]
    },
    {
      "cell_type": "code",
      "metadata": {
        "id": "uBgAK702V123",
        "colab_type": "code",
        "outputId": "ac8b3b08-77fb-4caa-b20c-9561aad8cb37",
        "colab": {
          "base_uri": "https://localhost:8080/",
          "height": 84
        }
      },
      "source": [
        "# Aplicar operaciones aritméticas básicas\n",
        "population / 1000."
      ],
      "execution_count": 7,
      "outputs": [
        {
          "output_type": "execute_result",
          "data": {
            "text/plain": [
              "0     852.469\n",
              "1    1015.785\n",
              "2     485.199\n",
              "dtype: float64"
            ]
          },
          "metadata": {
            "tags": []
          },
          "execution_count": 7
        }
      ]
    },
    {
      "cell_type": "code",
      "metadata": {
        "id": "fFnDoCtgV4__",
        "colab_type": "code",
        "outputId": "6ab76b25-7c33-490d-f917-37656c4fcf5f",
        "colab": {
          "base_uri": "https://localhost:8080/",
          "height": 84
        }
      },
      "source": [
        "# Una serie de pandas se puede utilizar como argumentos para la mayoría de las funciones de NumPy\n",
        "# Importar la librería de NumPy\n",
        "import numpy as np\n",
        "# Aplicar la función log\n",
        "np.log(population)"
      ],
      "execution_count": 8,
      "outputs": [
        {
          "output_type": "execute_result",
          "data": {
            "text/plain": [
              "0    13.655892\n",
              "1    13.831172\n",
              "2    13.092314\n",
              "dtype: float64"
            ]
          },
          "metadata": {
            "tags": []
          },
          "execution_count": 8
        }
      ]
    },
    {
      "cell_type": "code",
      "metadata": {
        "id": "sEOBe-3XWGtg",
        "colab_type": "code",
        "outputId": "6e6ac649-1db0-41cc-e81c-227728403b09",
        "colab": {
          "base_uri": "https://localhost:8080/",
          "height": 166
        }
      },
      "source": [
        "# Modificar un DataFrame\n",
        "cities['Area square miles'] = pd.Series([46.87, 176.53, 97.92])\n",
        "cities['Population density'] = cities['Population'] / cities['Area square miles']\n",
        "cities"
      ],
      "execution_count": 9,
      "outputs": [
        {
          "output_type": "execute_result",
          "data": {
            "text/html": [
              "<div>\n",
              "<style scoped>\n",
              "    .dataframe tbody tr th:only-of-type {\n",
              "        vertical-align: middle;\n",
              "    }\n",
              "\n",
              "    .dataframe tbody tr th {\n",
              "        vertical-align: top;\n",
              "    }\n",
              "\n",
              "    .dataframe thead th {\n",
              "        text-align: right;\n",
              "    }\n",
              "</style>\n",
              "<table border=\"1\" class=\"dataframe\">\n",
              "  <thead>\n",
              "    <tr style=\"text-align: right;\">\n",
              "      <th></th>\n",
              "      <th>City name</th>\n",
              "      <th>Population</th>\n",
              "      <th>Area square miles</th>\n",
              "      <th>Population density</th>\n",
              "    </tr>\n",
              "  </thead>\n",
              "  <tbody>\n",
              "    <tr>\n",
              "      <th>0</th>\n",
              "      <td>Medellín</td>\n",
              "      <td>852469.0</td>\n",
              "      <td>46.87</td>\n",
              "      <td>18187.945381</td>\n",
              "    </tr>\n",
              "    <tr>\n",
              "      <th>1</th>\n",
              "      <td>Envigado</td>\n",
              "      <td>1015785.0</td>\n",
              "      <td>176.53</td>\n",
              "      <td>5754.177760</td>\n",
              "    </tr>\n",
              "    <tr>\n",
              "      <th>2</th>\n",
              "      <td>Bello</td>\n",
              "      <td>485199.0</td>\n",
              "      <td>97.92</td>\n",
              "      <td>4955.055147</td>\n",
              "    </tr>\n",
              "    <tr>\n",
              "      <th>3</th>\n",
              "      <td>Sabaneta</td>\n",
              "      <td>NaN</td>\n",
              "      <td>NaN</td>\n",
              "      <td>NaN</td>\n",
              "    </tr>\n",
              "  </tbody>\n",
              "</table>\n",
              "</div>"
            ],
            "text/plain": [
              "  City name  Population  Area square miles  Population density\n",
              "0  Medellín    852469.0              46.87        18187.945381\n",
              "1  Envigado   1015785.0             176.53         5754.177760\n",
              "2     Bello    485199.0              97.92         4955.055147\n",
              "3  Sabaneta         NaN                NaN                 NaN"
            ]
          },
          "metadata": {
            "tags": []
          },
          "execution_count": 9
        }
      ]
    },
    {
      "cell_type": "markdown",
      "metadata": {
        "id": "8O0pfyRyVF6u",
        "colab_type": "text"
      },
      "source": [
        "**CARGAR UN ARCHVIO CSV**"
      ]
    },
    {
      "cell_type": "code",
      "metadata": {
        "id": "e_78ojjSVks_",
        "colab_type": "code",
        "outputId": "7288a44f-4438-4ef6-f6b1-7139e7598bfe",
        "colab": {
          "base_uri": "https://localhost:8080/",
          "height": 195
        }
      },
      "source": [
        "# carga un archivo con datos de vivienda de California\n",
        "california_housing_dataframe = pd.read_csv(\"https://download.mlcc.google.com/mledu-datasets/california_housing_train.csv\", sep=\",\")\n",
        "# La descripción de la base de datos se encuentra en:\n",
        "# https://developers.google.com/machine-learning/crash-course/california-housing-data-description\n",
        "# Mostrar los primeros registros de un DataFrame\n",
        "california_housing_dataframe.head()"
      ],
      "execution_count": 10,
      "outputs": [
        {
          "output_type": "execute_result",
          "data": {
            "text/html": [
              "<div>\n",
              "<style scoped>\n",
              "    .dataframe tbody tr th:only-of-type {\n",
              "        vertical-align: middle;\n",
              "    }\n",
              "\n",
              "    .dataframe tbody tr th {\n",
              "        vertical-align: top;\n",
              "    }\n",
              "\n",
              "    .dataframe thead th {\n",
              "        text-align: right;\n",
              "    }\n",
              "</style>\n",
              "<table border=\"1\" class=\"dataframe\">\n",
              "  <thead>\n",
              "    <tr style=\"text-align: right;\">\n",
              "      <th></th>\n",
              "      <th>longitude</th>\n",
              "      <th>latitude</th>\n",
              "      <th>housing_median_age</th>\n",
              "      <th>total_rooms</th>\n",
              "      <th>total_bedrooms</th>\n",
              "      <th>population</th>\n",
              "      <th>households</th>\n",
              "      <th>median_income</th>\n",
              "      <th>median_house_value</th>\n",
              "    </tr>\n",
              "  </thead>\n",
              "  <tbody>\n",
              "    <tr>\n",
              "      <th>0</th>\n",
              "      <td>-114.31</td>\n",
              "      <td>34.19</td>\n",
              "      <td>15.0</td>\n",
              "      <td>5612.0</td>\n",
              "      <td>1283.0</td>\n",
              "      <td>1015.0</td>\n",
              "      <td>472.0</td>\n",
              "      <td>1.4936</td>\n",
              "      <td>66900.0</td>\n",
              "    </tr>\n",
              "    <tr>\n",
              "      <th>1</th>\n",
              "      <td>-114.47</td>\n",
              "      <td>34.40</td>\n",
              "      <td>19.0</td>\n",
              "      <td>7650.0</td>\n",
              "      <td>1901.0</td>\n",
              "      <td>1129.0</td>\n",
              "      <td>463.0</td>\n",
              "      <td>1.8200</td>\n",
              "      <td>80100.0</td>\n",
              "    </tr>\n",
              "    <tr>\n",
              "      <th>2</th>\n",
              "      <td>-114.56</td>\n",
              "      <td>33.69</td>\n",
              "      <td>17.0</td>\n",
              "      <td>720.0</td>\n",
              "      <td>174.0</td>\n",
              "      <td>333.0</td>\n",
              "      <td>117.0</td>\n",
              "      <td>1.6509</td>\n",
              "      <td>85700.0</td>\n",
              "    </tr>\n",
              "    <tr>\n",
              "      <th>3</th>\n",
              "      <td>-114.57</td>\n",
              "      <td>33.64</td>\n",
              "      <td>14.0</td>\n",
              "      <td>1501.0</td>\n",
              "      <td>337.0</td>\n",
              "      <td>515.0</td>\n",
              "      <td>226.0</td>\n",
              "      <td>3.1917</td>\n",
              "      <td>73400.0</td>\n",
              "    </tr>\n",
              "    <tr>\n",
              "      <th>4</th>\n",
              "      <td>-114.57</td>\n",
              "      <td>33.57</td>\n",
              "      <td>20.0</td>\n",
              "      <td>1454.0</td>\n",
              "      <td>326.0</td>\n",
              "      <td>624.0</td>\n",
              "      <td>262.0</td>\n",
              "      <td>1.9250</td>\n",
              "      <td>65500.0</td>\n",
              "    </tr>\n",
              "  </tbody>\n",
              "</table>\n",
              "</div>"
            ],
            "text/plain": [
              "   longitude  latitude  ...  median_income  median_house_value\n",
              "0    -114.31     34.19  ...         1.4936             66900.0\n",
              "1    -114.47     34.40  ...         1.8200             80100.0\n",
              "2    -114.56     33.69  ...         1.6509             85700.0\n",
              "3    -114.57     33.64  ...         3.1917             73400.0\n",
              "4    -114.57     33.57  ...         1.9250             65500.0\n",
              "\n",
              "[5 rows x 9 columns]"
            ]
          },
          "metadata": {
            "tags": []
          },
          "execution_count": 10
        }
      ]
    },
    {
      "cell_type": "markdown",
      "metadata": {
        "id": "fyC8glNbaRr5",
        "colab_type": "text"
      },
      "source": [
        "**Descripción\tde los datos:**\n",
        "\n",
        "**[1] longitude:**\tUna medida de cuán al oeste se encuentra una casa, un valor mayor significa más al oeste.\n",
        "\n",
        "**[2] latitude:**\tUna medida de cuán al norte se encuentra una casa, un valor mayor significa más al norte.\n",
        "\n",
        "**[3] housingMedianAge:**\tAntigüedad mediana de una casa en una manzana, una cifra menor significa una construcción más nueva.\n",
        "\n",
        "**[4] totalRooms:**\tCantidad total de habitaciones en una manzana.\n",
        "\n",
        "**[5] totalBedrooms:**\tCantidad total de camas en una manzana.\n",
        "\n",
        "**[6] population:**\tCantidad total de residentes en una manzana.\n",
        "\n",
        "**[7] households:**\tCantidad total de grupos familiares (conjunto de personas que reside en una misma casa) en una manzana.\n",
        "\n",
        "**[8] medianIncome:**\tIngreso mediano de los grupos familiares de una manzana (medido en decenas de miles de dólares estadounidenses).\n",
        "\n",
        "**[9] medianHouseValue:**\tValor mediano de una casa para grupos familiares en una misma manzana (medido en dólares estadounidenses)."
      ]
    },
    {
      "cell_type": "code",
      "metadata": {
        "id": "O4V3k8-LVnYv",
        "colab_type": "code",
        "outputId": "8e4bf265-00f3-433e-d9d6-e56b9e390cba",
        "colab": {
          "base_uri": "https://localhost:8080/",
          "height": 284
        }
      },
      "source": [
        "# Mostrar estadísticas del DataFrame\n",
        "california_housing_dataframe.describe()"
      ],
      "execution_count": 11,
      "outputs": [
        {
          "output_type": "execute_result",
          "data": {
            "text/html": [
              "<div>\n",
              "<style scoped>\n",
              "    .dataframe tbody tr th:only-of-type {\n",
              "        vertical-align: middle;\n",
              "    }\n",
              "\n",
              "    .dataframe tbody tr th {\n",
              "        vertical-align: top;\n",
              "    }\n",
              "\n",
              "    .dataframe thead th {\n",
              "        text-align: right;\n",
              "    }\n",
              "</style>\n",
              "<table border=\"1\" class=\"dataframe\">\n",
              "  <thead>\n",
              "    <tr style=\"text-align: right;\">\n",
              "      <th></th>\n",
              "      <th>longitude</th>\n",
              "      <th>latitude</th>\n",
              "      <th>housing_median_age</th>\n",
              "      <th>total_rooms</th>\n",
              "      <th>total_bedrooms</th>\n",
              "      <th>population</th>\n",
              "      <th>households</th>\n",
              "      <th>median_income</th>\n",
              "      <th>median_house_value</th>\n",
              "    </tr>\n",
              "  </thead>\n",
              "  <tbody>\n",
              "    <tr>\n",
              "      <th>count</th>\n",
              "      <td>17000.000000</td>\n",
              "      <td>17000.000000</td>\n",
              "      <td>17000.000000</td>\n",
              "      <td>17000.000000</td>\n",
              "      <td>17000.000000</td>\n",
              "      <td>17000.000000</td>\n",
              "      <td>17000.000000</td>\n",
              "      <td>17000.000000</td>\n",
              "      <td>17000.000000</td>\n",
              "    </tr>\n",
              "    <tr>\n",
              "      <th>mean</th>\n",
              "      <td>-119.562108</td>\n",
              "      <td>35.625225</td>\n",
              "      <td>28.589353</td>\n",
              "      <td>2643.664412</td>\n",
              "      <td>539.410824</td>\n",
              "      <td>1429.573941</td>\n",
              "      <td>501.221941</td>\n",
              "      <td>3.883578</td>\n",
              "      <td>207300.912353</td>\n",
              "    </tr>\n",
              "    <tr>\n",
              "      <th>std</th>\n",
              "      <td>2.005166</td>\n",
              "      <td>2.137340</td>\n",
              "      <td>12.586937</td>\n",
              "      <td>2179.947071</td>\n",
              "      <td>421.499452</td>\n",
              "      <td>1147.852959</td>\n",
              "      <td>384.520841</td>\n",
              "      <td>1.908157</td>\n",
              "      <td>115983.764387</td>\n",
              "    </tr>\n",
              "    <tr>\n",
              "      <th>min</th>\n",
              "      <td>-124.350000</td>\n",
              "      <td>32.540000</td>\n",
              "      <td>1.000000</td>\n",
              "      <td>2.000000</td>\n",
              "      <td>1.000000</td>\n",
              "      <td>3.000000</td>\n",
              "      <td>1.000000</td>\n",
              "      <td>0.499900</td>\n",
              "      <td>14999.000000</td>\n",
              "    </tr>\n",
              "    <tr>\n",
              "      <th>25%</th>\n",
              "      <td>-121.790000</td>\n",
              "      <td>33.930000</td>\n",
              "      <td>18.000000</td>\n",
              "      <td>1462.000000</td>\n",
              "      <td>297.000000</td>\n",
              "      <td>790.000000</td>\n",
              "      <td>282.000000</td>\n",
              "      <td>2.566375</td>\n",
              "      <td>119400.000000</td>\n",
              "    </tr>\n",
              "    <tr>\n",
              "      <th>50%</th>\n",
              "      <td>-118.490000</td>\n",
              "      <td>34.250000</td>\n",
              "      <td>29.000000</td>\n",
              "      <td>2127.000000</td>\n",
              "      <td>434.000000</td>\n",
              "      <td>1167.000000</td>\n",
              "      <td>409.000000</td>\n",
              "      <td>3.544600</td>\n",
              "      <td>180400.000000</td>\n",
              "    </tr>\n",
              "    <tr>\n",
              "      <th>75%</th>\n",
              "      <td>-118.000000</td>\n",
              "      <td>37.720000</td>\n",
              "      <td>37.000000</td>\n",
              "      <td>3151.250000</td>\n",
              "      <td>648.250000</td>\n",
              "      <td>1721.000000</td>\n",
              "      <td>605.250000</td>\n",
              "      <td>4.767000</td>\n",
              "      <td>265000.000000</td>\n",
              "    </tr>\n",
              "    <tr>\n",
              "      <th>max</th>\n",
              "      <td>-114.310000</td>\n",
              "      <td>41.950000</td>\n",
              "      <td>52.000000</td>\n",
              "      <td>37937.000000</td>\n",
              "      <td>6445.000000</td>\n",
              "      <td>35682.000000</td>\n",
              "      <td>6082.000000</td>\n",
              "      <td>15.000100</td>\n",
              "      <td>500001.000000</td>\n",
              "    </tr>\n",
              "  </tbody>\n",
              "</table>\n",
              "</div>"
            ],
            "text/plain": [
              "          longitude      latitude  ...  median_income  median_house_value\n",
              "count  17000.000000  17000.000000  ...   17000.000000        17000.000000\n",
              "mean    -119.562108     35.625225  ...       3.883578       207300.912353\n",
              "std        2.005166      2.137340  ...       1.908157       115983.764387\n",
              "min     -124.350000     32.540000  ...       0.499900        14999.000000\n",
              "25%     -121.790000     33.930000  ...       2.566375       119400.000000\n",
              "50%     -118.490000     34.250000  ...       3.544600       180400.000000\n",
              "75%     -118.000000     37.720000  ...       4.767000       265000.000000\n",
              "max     -114.310000     41.950000  ...      15.000100       500001.000000\n",
              "\n",
              "[8 rows x 9 columns]"
            ]
          },
          "metadata": {
            "tags": []
          },
          "execution_count": 11
        }
      ]
    },
    {
      "cell_type": "markdown",
      "metadata": {
        "id": "LvHQpUm6VJvi",
        "colab_type": "text"
      },
      "source": [
        "**FUNCIONES CON DATAFRAME**"
      ]
    },
    {
      "cell_type": "code",
      "metadata": {
        "id": "xkZLeKZZm-5B",
        "colab_type": "code",
        "outputId": "63dadf01-c880-4f9b-857a-0bbdb031aa8f",
        "colab": {
          "base_uri": "https://localhost:8080/",
          "height": 286
        }
      },
      "source": [
        "# Funciones útiles \n",
        "california_housing_dataframe # imprime las primeras 30 y las ultimas 30 filas\n",
        "type(california_housing_dataframe) # Typo de DataFrame\n",
        "california_housing_dataframe.head() # imprime las 5 primeras filas\n",
        "california_housing_dataframe.tail() # imprime las ultimas 5 filas\n",
        "california_housing_dataframe.index # \"el indice\" (o \"la etiqueta\")\n",
        "california_housing_dataframe.columns # nombre de las columnas\n",
        "california_housing_dataframe.dtypes # tipo de datos de cada columna\n",
        "california_housing_dataframe.shape # numero de filas y columnas\n",
        "california_housing_dataframe.values \n",
        "california_housing_dataframe.info() #resumen"
      ],
      "execution_count": 12,
      "outputs": [
        {
          "output_type": "stream",
          "text": [
            "<class 'pandas.core.frame.DataFrame'>\n",
            "RangeIndex: 17000 entries, 0 to 16999\n",
            "Data columns (total 9 columns):\n",
            " #   Column              Non-Null Count  Dtype  \n",
            "---  ------              --------------  -----  \n",
            " 0   longitude           17000 non-null  float64\n",
            " 1   latitude            17000 non-null  float64\n",
            " 2   housing_median_age  17000 non-null  float64\n",
            " 3   total_rooms         17000 non-null  float64\n",
            " 4   total_bedrooms      17000 non-null  float64\n",
            " 5   population          17000 non-null  float64\n",
            " 6   households          17000 non-null  float64\n",
            " 7   median_income       17000 non-null  float64\n",
            " 8   median_house_value  17000 non-null  float64\n",
            "dtypes: float64(9)\n",
            "memory usage: 1.2 MB\n"
          ],
          "name": "stdout"
        }
      ]
    },
    {
      "cell_type": "markdown",
      "metadata": {
        "id": "LDS7t4AwVO9h",
        "colab_type": "text"
      },
      "source": [
        "**GRÁFICAS**"
      ]
    },
    {
      "cell_type": "code",
      "metadata": {
        "id": "-9YiUWOjVq73",
        "colab_type": "code",
        "outputId": "e0e7adaa-c5be-41ce-d169-6ee492be9223",
        "colab": {
          "base_uri": "https://localhost:8080/",
          "height": 314
        }
      },
      "source": [
        "# Grafica la distribución de valores de la edad de la vivienda\n",
        "california_housing_dataframe.hist('housing_median_age')"
      ],
      "execution_count": 13,
      "outputs": [
        {
          "output_type": "execute_result",
          "data": {
            "text/plain": [
              "array([[<matplotlib.axes._subplots.AxesSubplot object at 0x7f71e34625f8>]],\n",
              "      dtype=object)"
            ]
          },
          "metadata": {
            "tags": []
          },
          "execution_count": 13
        },
        {
          "output_type": "display_data",
          "data": {
            "image/png": "[encoded data removed]",
            "text/plain": [
              "<Figure size 432x288 with 1 Axes>"
            ]
          },
          "metadata": {
            "tags": [],
            "needs_background": "light"
          }
        }
      ]
    },
    {
      "cell_type": "markdown",
      "metadata": {
        "id": "Ph5WNdH0Zr5O",
        "colab_type": "text"
      },
      "source": [
        "## ***ACTIVIDAD***"
      ]
    },
    {
      "cell_type": "markdown",
      "metadata": {
        "id": "mGxoa3mQqd3i",
        "colab_type": "text"
      },
      "source": [
        "El dataset de **Black Friday** contiene la información sobre los compradores del viernes negro de 2005 a 2013. Los datos se almacenaron en función del ID del producto, es decir, si una persona compró 10 productos, sus datos se almacenaron en 10 registros.\n",
        "\n",
        "Utilice la librería Pandas para extraer información de dataset y poder analizar información de los productos, los compradores y la relación entre ellos."
      ]
    },
    {
      "cell_type": "code",
      "metadata": {
        "id": "K8RsJbfAroW-",
        "colab_type": "code",
        "outputId": "dc10c3a3-465f-4019-e45b-9d3d25f294f1",
        "colab": {
          "base_uri": "https://localhost:8080/",
          "height": 70
        }
      },
      "source": [
        "# Importar librerías\n",
        "\n",
        "import numpy as np \n",
        "import pandas as pd\n",
        "import seaborn as sns\n",
        "import matplotlib as mlp\n",
        "import matplotlib.pyplot as plt"
      ],
      "execution_count": 14,
      "outputs": [
        {
          "output_type": "stream",
          "text": [
            "/usr/local/lib/python3.6/dist-packages/statsmodels/tools/_testing.py:19: FutureWarning: pandas.util.testing is deprecated. Use the functions in the public API at pandas.testing instead.\n",
            "  import pandas.util.testing as tm\n"
          ],
          "name": "stderr"
        }
      ]
    },
    {
      "cell_type": "code",
      "metadata": {
        "id": "4VCBX2f4s_E5",
        "colab_type": "code",
        "colab": {}
      },
      "source": [
        "# Leer el archivo .CSV\n",
        "# Leer los datos desde el GitHub\n",
        "\n",
        "df = pd.read_csv(\n",
        "    \"https://raw.githubusercontent.com/jaguzman/dataSets/master/datasets/BlackFriday.csv\",\n",
        "    sep = ',',         # Se especifica el separador de los datos\n",
        "    thousands = None,  # Se especifica el separador de miles\n",
        "    decimal = '.')     # Se especifica el separador de los decimales"
      ],
      "execution_count": 0,
      "outputs": []
    },
    {
      "cell_type": "code",
      "metadata": {
        "id": "S7UIurVntW_T",
        "colab_type": "code",
        "outputId": "969b0873-70cb-45eb-e8de-df98cfcf3d2d",
        "colab": {
          "base_uri": "https://localhost:8080/",
          "height": 336
        }
      },
      "source": [
        "# información del DataSet\n",
        "df.info()"
      ],
      "execution_count": 16,
      "outputs": [
        {
          "output_type": "stream",
          "text": [
            "<class 'pandas.core.frame.DataFrame'>\n",
            "RangeIndex: 537577 entries, 0 to 537576\n",
            "Data columns (total 12 columns):\n",
            " #   Column                      Non-Null Count   Dtype  \n",
            "---  ------                      --------------   -----  \n",
            " 0   User_ID                     537577 non-null  int64  \n",
            " 1   Product_ID                  537577 non-null  object \n",
            " 2   Gender                      537577 non-null  object \n",
            " 3   Age                         537577 non-null  object \n",
            " 4   Occupation                  537577 non-null  int64  \n",
            " 5   City_Category               537577 non-null  object \n",
            " 6   Stay_In_Current_City_Years  537577 non-null  object \n",
            " 7   Marital_Status              537577 non-null  int64  \n",
            " 8   Product_Category_1          537577 non-null  int64  \n",
            " 9   Product_Category_2          370591 non-null  float64\n",
            " 10  Product_Category_3          164278 non-null  float64\n",
            " 11  Purchase                    537577 non-null  int64  \n",
            "dtypes: float64(2), int64(5), object(5)\n",
            "memory usage: 49.2+ MB\n"
          ],
          "name": "stdout"
        }
      ]
    },
    {
      "cell_type": "code",
      "metadata": {
        "id": "7K8ggH-AtgFE",
        "colab_type": "code",
        "outputId": "1910f7f8-fcdd-4beb-db4e-1f52e8e70b6e",
        "colab": {
          "base_uri": "https://localhost:8080/",
          "height": 195
        }
      },
      "source": [
        "# Imprimir los primeros 5 registros\n",
        "df.head()"
      ],
      "execution_count": 17,
      "outputs": [
        {
          "output_type": "execute_result",
          "data": {
            "text/html": [
              "<div>\n",
              "<style scoped>\n",
              "    .dataframe tbody tr th:only-of-type {\n",
              "        vertical-align: middle;\n",
              "    }\n",
              "\n",
              "    .dataframe tbody tr th {\n",
              "        vertical-align: top;\n",
              "    }\n",
              "\n",
              "    .dataframe thead th {\n",
              "        text-align: right;\n",
              "    }\n",
              "</style>\n",
              "<table border=\"1\" class=\"dataframe\">\n",
              "  <thead>\n",
              "    <tr style=\"text-align: right;\">\n",
              "      <th></th>\n",
              "      <th>User_ID</th>\n",
              "      <th>Product_ID</th>\n",
              "      <th>Gender</th>\n",
              "      <th>Age</th>\n",
              "      <th>Occupation</th>\n",
              "      <th>City_Category</th>\n",
              "      <th>Stay_In_Current_City_Years</th>\n",
              "      <th>Marital_Status</th>\n",
              "      <th>Product_Category_1</th>\n",
              "      <th>Product_Category_2</th>\n",
              "      <th>Product_Category_3</th>\n",
              "      <th>Purchase</th>\n",
              "    </tr>\n",
              "  </thead>\n",
              "  <tbody>\n",
              "    <tr>\n",
              "      <th>0</th>\n",
              "      <td>1000001</td>\n",
              "      <td>P00069042</td>\n",
              "      <td>F</td>\n",
              "      <td>0-17</td>\n",
              "      <td>10</td>\n",
              "      <td>A</td>\n",
              "      <td>2</td>\n",
              "      <td>0</td>\n",
              "      <td>3</td>\n",
              "      <td>NaN</td>\n",
              "      <td>NaN</td>\n",
              "      <td>8370</td>\n",
              "    </tr>\n",
              "    <tr>\n",
              "      <th>1</th>\n",
              "      <td>1000001</td>\n",
              "      <td>P00248942</td>\n",
              "      <td>F</td>\n",
              "      <td>0-17</td>\n",
              "      <td>10</td>\n",
              "      <td>A</td>\n",
              "      <td>2</td>\n",
              "      <td>0</td>\n",
              "      <td>1</td>\n",
              "      <td>6.0</td>\n",
              "      <td>14.0</td>\n",
              "      <td>15200</td>\n",
              "    </tr>\n",
              "    <tr>\n",
              "      <th>2</th>\n",
              "      <td>1000001</td>\n",
              "      <td>P00087842</td>\n",
              "      <td>F</td>\n",
              "      <td>0-17</td>\n",
              "      <td>10</td>\n",
              "      <td>A</td>\n",
              "      <td>2</td>\n",
              "      <td>0</td>\n",
              "      <td>12</td>\n",
              "      <td>NaN</td>\n",
              "      <td>NaN</td>\n",
              "      <td>1422</td>\n",
              "    </tr>\n",
              "    <tr>\n",
              "      <th>3</th>\n",
              "      <td>1000001</td>\n",
              "      <td>P00085442</td>\n",
              "      <td>F</td>\n",
              "      <td>0-17</td>\n",
              "      <td>10</td>\n",
              "      <td>A</td>\n",
              "      <td>2</td>\n",
              "      <td>0</td>\n",
              "      <td>12</td>\n",
              "      <td>14.0</td>\n",
              "      <td>NaN</td>\n",
              "      <td>1057</td>\n",
              "    </tr>\n",
              "    <tr>\n",
              "      <th>4</th>\n",
              "      <td>1000002</td>\n",
              "      <td>P00285442</td>\n",
              "      <td>M</td>\n",
              "      <td>55+</td>\n",
              "      <td>16</td>\n",
              "      <td>C</td>\n",
              "      <td>4+</td>\n",
              "      <td>0</td>\n",
              "      <td>8</td>\n",
              "      <td>NaN</td>\n",
              "      <td>NaN</td>\n",
              "      <td>7969</td>\n",
              "    </tr>\n",
              "  </tbody>\n",
              "</table>\n",
              "</div>"
            ],
            "text/plain": [
              "   User_ID Product_ID Gender  ... Product_Category_2  Product_Category_3 Purchase\n",
              "0  1000001  P00069042      F  ...                NaN                 NaN     8370\n",
              "1  1000001  P00248942      F  ...                6.0                14.0    15200\n",
              "2  1000001  P00087842      F  ...                NaN                 NaN     1422\n",
              "3  1000001  P00085442      F  ...               14.0                 NaN     1057\n",
              "4  1000002  P00285442      M  ...                NaN                 NaN     7969\n",
              "\n",
              "[5 rows x 12 columns]"
            ]
          },
          "metadata": {
            "tags": []
          },
          "execution_count": 17
        }
      ]
    },
    {
      "cell_type": "code",
      "metadata": {
        "id": "XhIJejbttocq",
        "colab_type": "code",
        "outputId": "19497912-68ce-407d-d9f7-ffe969ae31f2",
        "colab": {
          "base_uri": "https://localhost:8080/",
          "height": 235
        }
      },
      "source": [
        "# Verificar el número de casillas nulas del DataSet\n",
        "df.isna().any()\n",
        "# El Product_Category_2 y Product_Category_3 contiene productos nulos"
      ],
      "execution_count": 18,
      "outputs": [
        {
          "output_type": "execute_result",
          "data": {
            "text/plain": [
              "User_ID                       False\n",
              "Product_ID                    False\n",
              "Gender                        False\n",
              "Age                           False\n",
              "Occupation                    False\n",
              "City_Category                 False\n",
              "Stay_In_Current_City_Years    False\n",
              "Marital_Status                False\n",
              "Product_Category_1            False\n",
              "Product_Category_2             True\n",
              "Product_Category_3             True\n",
              "Purchase                      False\n",
              "dtype: bool"
            ]
          },
          "metadata": {
            "tags": []
          },
          "execution_count": 18
        }
      ]
    },
    {
      "cell_type": "code",
      "metadata": {
        "id": "2Lt8sk6zuPXM",
        "colab_type": "code",
        "outputId": "b198e100-bb73-4488-8d10-8a6f4724959b",
        "colab": {
          "base_uri": "https://localhost:8080/",
          "height": 235
        }
      },
      "source": [
        "# Se reemplazan los valores Nulos por cero\n",
        "df.fillna(value=0,inplace=True)\n",
        "df.isna().any()"
      ],
      "execution_count": 19,
      "outputs": [
        {
          "output_type": "execute_result",
          "data": {
            "text/plain": [
              "User_ID                       False\n",
              "Product_ID                    False\n",
              "Gender                        False\n",
              "Age                           False\n",
              "Occupation                    False\n",
              "City_Category                 False\n",
              "Stay_In_Current_City_Years    False\n",
              "Marital_Status                False\n",
              "Product_Category_1            False\n",
              "Product_Category_2            False\n",
              "Product_Category_3            False\n",
              "Purchase                      False\n",
              "dtype: bool"
            ]
          },
          "metadata": {
            "tags": []
          },
          "execution_count": 19
        }
      ]
    },
    {
      "cell_type": "code",
      "metadata": {
        "id": "-47oxXXjuiGz",
        "colab_type": "code",
        "outputId": "441a6660-e67a-4436-cf9b-c0b074c13e18",
        "colab": {
          "base_uri": "https://localhost:8080/",
          "height": 67
        }
      },
      "source": [
        "# Se puede ver que contiene registros float\n",
        "print('Product_Category_2', df['Product_Category_2'].unique())\n",
        "print('-----------------------------------------------------------------------------------')\n",
        "print('Product_Category_3', df['Product_Category_3'].unique())"
      ],
      "execution_count": 20,
      "outputs": [
        {
          "output_type": "stream",
          "text": [
            "Product_Category_2 [ 0.  6. 14.  2.  8. 15. 16. 11.  5.  3.  4. 12.  9. 10. 17. 13.  7. 18.]\n",
            "-----------------------------------------------------------------------------------\n",
            "Product_Category_3 [ 0. 14. 17.  5.  4. 16. 15.  8.  9. 13.  6. 12.  3. 18. 11. 10.]\n"
          ],
          "name": "stdout"
        }
      ]
    },
    {
      "cell_type": "code",
      "metadata": {
        "id": "A7KTvd75up1Z",
        "colab_type": "code",
        "outputId": "52330c12-c2e9-4db1-d454-46524a77e956",
        "colab": {
          "base_uri": "https://localhost:8080/",
          "height": 67
        }
      },
      "source": [
        "# Pasar todos los tipo float a Int\n",
        "df[\"Product_Category_2\"] = df[\"Product_Category_2\"].astype(int)\n",
        "df[\"Product_Category_3\"] = df[\"Product_Category_3\"].astype(int)\n",
        "print('Product_Category_2', df['Product_Category_2'].unique())\n",
        "print('-----------------------------------------------------------------------------------')\n",
        "print('Product_Category_3', df['Product_Category_3'].unique())"
      ],
      "execution_count": 21,
      "outputs": [
        {
          "output_type": "stream",
          "text": [
            "Product_Category_2 [ 0  6 14  2  8 15 16 11  5  3  4 12  9 10 17 13  7 18]\n",
            "-----------------------------------------------------------------------------------\n",
            "Product_Category_3 [ 0 14 17  5  4 16 15  8  9 13  6 12  3 18 11 10]\n"
          ],
          "name": "stdout"
        }
      ]
    },
    {
      "cell_type": "code",
      "metadata": {
        "id": "bQt2LDHduzZE",
        "colab_type": "code",
        "colab": {}
      },
      "source": [
        "# Hay columnas que no son importantes para el análisis actual, se eliminan\n",
        "df.drop(columns = [\"User_ID\",\"Product_ID\"],inplace=True)"
      ],
      "execution_count": 0,
      "outputs": []
    },
    {
      "cell_type": "code",
      "metadata": {
        "id": "jMqgcsnMu9Ww",
        "colab_type": "code",
        "outputId": "2e515b82-2648-462d-d32b-d61212a3d7c3",
        "colab": {
          "base_uri": "https://localhost:8080/",
          "height": 296
        }
      },
      "source": [
        "# Agrupar los compradores por género\n",
        "sns.countplot(df['Gender'])"
      ],
      "execution_count": 23,
      "outputs": [
        {
          "output_type": "execute_result",
          "data": {
            "text/plain": [
              "<matplotlib.axes._subplots.AxesSubplot at 0x7f71d83ca208>"
            ]
          },
          "metadata": {
            "tags": []
          },
          "execution_count": 23
        },
        {
          "output_type": "display_data",
          "data": {
            "image/png": "[encoded data removed]",
            "text/plain": [
              "<Figure size 432x288 with 1 Axes>"
            ]
          },
          "metadata": {
            "tags": [],
            "needs_background": "light"
          }
        }
      ]
    },
    {
      "cell_type": "markdown",
      "metadata": {
        "id": "RbHMv671fQZi",
        "colab_type": "text"
      },
      "source": [
        "Se puede ver que son más los compradores hombres que mujéres"
      ]
    },
    {
      "cell_type": "code",
      "metadata": {
        "id": "mxGYcwSuvKEa",
        "colab_type": "code",
        "outputId": "77fd8a36-4cb8-48af-e8e4-e6f5d13cdcc3",
        "colab": {
          "base_uri": "https://localhost:8080/",
          "height": 296
        }
      },
      "source": [
        "# Agrupar los compradores por edad\n",
        "sns.countplot(df['Age'])"
      ],
      "execution_count": 24,
      "outputs": [
        {
          "output_type": "execute_result",
          "data": {
            "text/plain": [
              "<matplotlib.axes._subplots.AxesSubplot at 0x7f71d832beb8>"
            ]
          },
          "metadata": {
            "tags": []
          },
          "execution_count": 24
        },
        {
          "output_type": "display_data",
          "data": {
            "image/png": "[encoded data removed]",
            "text/plain": [
              "<Figure size 432x288 with 1 Axes>"
            ]
          },
          "metadata": {
            "tags": [],
            "needs_background": "light"
          }
        }
      ]
    },
    {
      "cell_type": "code",
      "metadata": {
        "id": "CiQb69EbvUlI",
        "colab_type": "code",
        "outputId": "5a15a288-41d8-4d5f-fe01-6275d9778652",
        "colab": {
          "base_uri": "https://localhost:8080/",
          "height": 296
        }
      },
      "source": [
        "# Agrupar por edad y género\n",
        "sns.countplot(df['Age'],hue=df['Gender'])"
      ],
      "execution_count": 25,
      "outputs": [
        {
          "output_type": "execute_result",
          "data": {
            "text/plain": [
              "<matplotlib.axes._subplots.AxesSubplot at 0x7f71d8298dd8>"
            ]
          },
          "metadata": {
            "tags": []
          },
          "execution_count": 25
        },
        {
          "output_type": "display_data",
          "data": {
            "image/png": "[encoded data removed]",
            "text/plain": [
              "<Figure size 432x288 with 1 Axes>"
            ]
          },
          "metadata": {
            "tags": [],
            "needs_background": "light"
          }
        }
      ]
    },
    {
      "cell_type": "markdown",
      "metadata": {
        "id": "cvKEjJOHfXVA",
        "colab_type": "text"
      },
      "source": [
        "En todos los rangos de edad, los mayores compradores fueron hombres"
      ]
    },
    {
      "cell_type": "code",
      "metadata": {
        "id": "EA5PZpFMviNv",
        "colab_type": "code",
        "outputId": "979b1902-927d-4702-b2ef-9ce4def559dc",
        "colab": {
          "base_uri": "https://localhost:8080/",
          "height": 34
        }
      },
      "source": [
        "# ¿Cuantas de esas personas son casadas?\n",
        "df['combined_G_M'] = df.apply(lambda x:'%s_%s' % (x['Gender'],x['Marital_Status']),axis=1)\n",
        "print(df['combined_G_M'].unique())"
      ],
      "execution_count": 26,
      "outputs": [
        {
          "output_type": "stream",
          "text": [
            "['F_0' 'M_0' 'M_1' 'F_1']\n"
          ],
          "name": "stdout"
        }
      ]
    },
    {
      "cell_type": "code",
      "metadata": {
        "id": "h3pDwICnvsum",
        "colab_type": "code",
        "outputId": "7b9ba2a2-a450-4d4e-8e68-8b695a917f3a",
        "colab": {
          "base_uri": "https://localhost:8080/",
          "height": 296
        }
      },
      "source": [
        "sns.countplot(df['Age'],hue=df['combined_G_M'])"
      ],
      "execution_count": 27,
      "outputs": [
        {
          "output_type": "execute_result",
          "data": {
            "text/plain": [
              "<matplotlib.axes._subplots.AxesSubplot at 0x7f71d82501d0>"
            ]
          },
          "metadata": {
            "tags": []
          },
          "execution_count": 27
        },
        {
          "output_type": "display_data",
          "data": {
            "image/png": "[encoded data removed]",
            "text/plain": [
              "<Figure size 432x288 with 1 Axes>"
            ]
          },
          "metadata": {
            "tags": [],
            "needs_background": "light"
          }
        }
      ]
    },
    {
      "cell_type": "markdown",
      "metadata": {
        "id": "KBvStbIEfZ02",
        "colab_type": "text"
      },
      "source": [
        "Algunas interpretaciones:\n",
        "\n",
        "* No hay personas casadas en el rango de 0-17. \n",
        "* Los mayores compradores son los hombres solteros del grupo 26-35 años.\n",
        "* Los hombres casados son más que las mujeres casadas.\n",
        "\n",
        "¿Podría pasar que los esposos pagan por las esposas y los datos reflejan que los hombres compraron más?"
      ]
    },
    {
      "cell_type": "code",
      "metadata": {
        "id": "ngCPEd4Rwi-G",
        "colab_type": "code",
        "outputId": "282d079e-9247-4473-8b51-b7598465d755",
        "colab": {
          "base_uri": "https://localhost:8080/",
          "height": 297
        }
      },
      "source": [
        "# Agrupar el tipo de producto de la categoría 1 con la combinada de los géneros\n",
        "sns.countplot(df['Product_Category_1'],hue=df['combined_G_M'])"
      ],
      "execution_count": 28,
      "outputs": [
        {
          "output_type": "execute_result",
          "data": {
            "text/plain": [
              "<matplotlib.axes._subplots.AxesSubplot at 0x7f71d81aa198>"
            ]
          },
          "metadata": {
            "tags": []
          },
          "execution_count": 28
        },
        {
          "output_type": "display_data",
          "data": {
            "image/png": "[encoded data removed]",
            "text/plain": [
              "<Figure size 432x288 with 1 Axes>"
            ]
          },
          "metadata": {
            "tags": [],
            "needs_background": "light"
          }
        }
      ]
    },
    {
      "cell_type": "markdown",
      "metadata": {
        "id": "kB-B7tzIfoPC",
        "colab_type": "text"
      },
      "source": [
        "Claramente se ve que hay productos con mayor rotación"
      ]
    },
    {
      "cell_type": "code",
      "metadata": {
        "id": "J8l4nS1vwwWP",
        "colab_type": "code",
        "outputId": "564e524a-4362-4c0b-cf79-3c9e4b0774c5",
        "colab": {
          "base_uri": "https://localhost:8080/",
          "height": 297
        }
      },
      "source": [
        "# Agrupar el tipo de producto de la categoría 2 con la combinada de los géneros\n",
        "sns.countplot(df['Product_Category_2'],hue=df['combined_G_M'])"
      ],
      "execution_count": 29,
      "outputs": [
        {
          "output_type": "execute_result",
          "data": {
            "text/plain": [
              "<matplotlib.axes._subplots.AxesSubplot at 0x7f71d8093048>"
            ]
          },
          "metadata": {
            "tags": []
          },
          "execution_count": 29
        },
        {
          "output_type": "display_data",
          "data": {
            "image/png": "[encoded data removed]",
            "text/plain": [
              "<Figure size 432x288 with 1 Axes>"
            ]
          },
          "metadata": {
            "tags": [],
            "needs_background": "light"
          }
        }
      ]
    },
    {
      "cell_type": "code",
      "metadata": {
        "id": "EhL7E71Qwwdv",
        "colab_type": "code",
        "outputId": "bd493ece-5066-4868-ffcc-359c6ed24083",
        "colab": {
          "base_uri": "https://localhost:8080/",
          "height": 297
        }
      },
      "source": [
        "# Agrupar el tipo de producto de la categoría 3 con la combinada de los géneros\n",
        "sns.countplot(df['Product_Category_3'],hue=df['combined_G_M'])"
      ],
      "execution_count": 30,
      "outputs": [
        {
          "output_type": "execute_result",
          "data": {
            "text/plain": [
              "<matplotlib.axes._subplots.AxesSubplot at 0x7f71d7ee8780>"
            ]
          },
          "metadata": {
            "tags": []
          },
          "execution_count": 30
        },
        {
          "output_type": "display_data",
          "data": {
            "image/png": "[encoded data removed]",
            "text/plain": [
              "<Figure size 432x288 with 1 Axes>"
            ]
          },
          "metadata": {
            "tags": [],
            "needs_background": "light"
          }
        }
      ]
    }
  ]
}