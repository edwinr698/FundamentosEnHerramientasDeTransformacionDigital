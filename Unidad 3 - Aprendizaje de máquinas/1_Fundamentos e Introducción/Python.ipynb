{
  "nbformat": 4,
  "nbformat_minor": 0,
  "metadata": {
    "colab": {
      "name": "Python.ipynb",
      "provenance": [],
      "collapsed_sections": [],
      "include_colab_link": true
    },
    "kernelspec": {
      "name": "python3",
      "display_name": "Python 3"
    }
  },
  "cells": [
    {
      "cell_type": "markdown",
      "metadata": {
        "id": "view-in-github",
        "colab_type": "text"
      },
      "source": [
        "<a href=\"https://colab.research.google.com/github/jaguzman/FundamentosEnHerramientasDeTransformacionDigital/blob/master/Unidad%203%20-%20Aprendizaje%20de%20m%C3%A1quinas/1_Fundamentos%20e%20Introducci%C3%B3n/Python.ipynb\" target=\"_parent\"><img src=\"https://colab.research.google.com/assets/colab-badge.svg\" alt=\"Open In Colab\"/></a>"
      ]
    },
    {
      "cell_type": "markdown",
      "metadata": {
        "id": "ZiPS-Nc2azCA",
        "colab_type": "text"
      },
      "source": [
        "**INTRODUCCIÓN A PYTHON**"
      ]
    },
    {
      "cell_type": "markdown",
      "metadata": {
        "id": "FbMyjSkqqfi6",
        "colab_type": "text"
      },
      "source": [
        "**CONTENIDO**\n",
        "\n",
        "**Ambiente de desarrollo**\n",
        "\n",
        "**Tipos de variables y sus operaciones:**\n",
        "* Variables\n",
        "* Casting entre variables\n",
        "* Operaciones numéricas\n",
        "* Operaciones booleanas\n",
        "* Cadenas de caracteres\n",
        "* Listas\n",
        "* Tuplas\n",
        "* Diccionarios\n",
        "\n",
        "**Estructuras de control:**\n",
        "* Condicional If\n",
        "* Ciclo For\n",
        "* Ciclo While\n",
        "\n",
        "**Funciones:**\n",
        "* Funciones de usuario\n",
        "* Funciones Lambda, Map y Filter\n",
        "\n",
        "**Librerías de Python:**\n",
        "* Math\n",
        "* NumPy\n",
        "* Matplotlib\n"
      ]
    },
    {
      "cell_type": "markdown",
      "metadata": {
        "id": "YyfPyHYuSmLM",
        "colab_type": "text"
      },
      "source": [
        "## **AMBIENTE DE DESARROLLO**"
      ]
    },
    {
      "cell_type": "markdown",
      "metadata": {
        "id": "KgCrlZidb9Nb",
        "colab_type": "text"
      },
      "source": [
        "\n",
        "\n",
        "**Opción 1:** Instalación en el equipo\n",
        "\n",
        "> Instalar la distribución Anaconda (Python 3.7) en el siguiente enlace: https://www.anaconda.com/distribution/#download-section\n",
        "\n",
        "> Después de instalado Anaconda, crear un ambiente e instalar las siguientes librerías con conda o pip:\n",
        "  numpy, pandas, statsmodels, scikit-learn, scipy, matplotlib, jupyter, seaborn, keras, tensorflow, etc.\n",
        "\n",
        "> Para tensorflow instalar la versión CPU, si alguien quiere instalar la versión GPU puede utilizar el siguiente tutorial: https://github.com/antoniosehk/keras-tensorflow-windows-installation\n",
        "\n",
        "**Opción 2:** Google Colaboratory \n",
        "\n",
        "> Es un entorno gratuito de Jupyter Notebook que no requiere configuración y que se ejecuta completamente en la nube.\n",
        "\n",
        "> La máquina en un inicio cuenta con 12 GB de RAM y 50 GB de almacenamiento en disco disponibles para el uso.\n",
        "\n"
      ]
    },
    {
      "cell_type": "markdown",
      "metadata": {
        "id": "CrTosRVxekOr",
        "colab_type": "text"
      },
      "source": [
        "## ***TÍPOS DE VARIABLES y SUS OPERACIONES***"
      ]
    },
    {
      "cell_type": "markdown",
      "metadata": {
        "id": "QH4SJXtrkyfM",
        "colab_type": "text"
      },
      "source": [
        "**VARIABLES**"
      ]
    },
    {
      "cell_type": "code",
      "metadata": {
        "id": "GzlO0jdegXBf",
        "colab_type": "code",
        "colab": {
          "base_uri": "https://localhost:8080/",
          "height": 34
        },
        "outputId": "c8b08731-7e2e-48bc-9e1e-229d95c926d1"
      },
      "source": [
        "# La función type retorna el tipo del dato\n",
        "type(True)"
      ],
      "execution_count": 1,
      "outputs": [
        {
          "output_type": "execute_result",
          "data": {
            "text/plain": [
              "bool"
            ]
          },
          "metadata": {
            "tags": []
          },
          "execution_count": 1
        }
      ]
    },
    {
      "cell_type": "code",
      "metadata": {
        "id": "pPodC9rznBLU",
        "colab_type": "code",
        "colab": {
          "base_uri": "https://localhost:8080/",
          "height": 34
        },
        "outputId": "c3b351bb-50ea-4cd1-a654-a398a2a5d4d6"
      },
      "source": [
        "type(1)            # int\n",
        "type(1.0)          # float \n",
        "type('Hola mundo') # str\n",
        "type([1,1])        # list\n",
        "type((1,2))        # tuple\n",
        "type({'A':1})      # dict\n",
        "type(None)         # NoneType"
      ],
      "execution_count": 2,
      "outputs": [
        {
          "output_type": "execute_result",
          "data": {
            "text/plain": [
              "NoneType"
            ]
          },
          "metadata": {
            "tags": []
          },
          "execution_count": 2
        }
      ]
    },
    {
      "cell_type": "markdown",
      "metadata": {
        "id": "rG8q5yyoldrf",
        "colab_type": "text"
      },
      "source": [
        "**CASTING ENTRE VARIABLES**"
      ]
    },
    {
      "cell_type": "code",
      "metadata": {
        "id": "DJfEtPFelk6b",
        "colab_type": "code",
        "colab": {
          "base_uri": "https://localhost:8080/",
          "height": 34
        },
        "outputId": "de47f62f-78be-4e08-94fd-b45cd33c5eb9"
      },
      "source": [
        "# Casting de entero (int) a flotante (float)\n",
        "float(10)"
      ],
      "execution_count": 3,
      "outputs": [
        {
          "output_type": "execute_result",
          "data": {
            "text/plain": [
              "10.0"
            ]
          },
          "metadata": {
            "tags": []
          },
          "execution_count": 3
        }
      ]
    },
    {
      "cell_type": "code",
      "metadata": {
        "id": "dRZq7SHtnJ24",
        "colab_type": "code",
        "colab": {
          "base_uri": "https://localhost:8080/",
          "height": 34
        },
        "outputId": "6765b698-72c2-48d9-9f98-2e870cb34ac1"
      },
      "source": [
        "# Casting de flotante a entero (R: 1)\n",
        "int(1.5)\n",
        "# Casting de flotante a cadena de caracteres (R: '1.5')\n",
        "str(1.5)\n",
        "# Casting de null a booleano (R: False)\n",
        "bool(None)\n",
        "# Casting de cadena de caracteres a booleano (R: False)\n",
        "bool('')\n",
        "# Casting de entero a booleano (R: False)\n",
        "bool(0)\n",
        "# Casting de entero a booleano (R: True)\n",
        "bool(1)\n",
        "# Casting de entero a booleano (R: True)\n",
        "bool(100)"
      ],
      "execution_count": 4,
      "outputs": [
        {
          "output_type": "execute_result",
          "data": {
            "text/plain": [
              "True"
            ]
          },
          "metadata": {
            "tags": []
          },
          "execution_count": 4
        }
      ]
    },
    {
      "cell_type": "markdown",
      "metadata": {
        "id": "XdzPDfWMJEXa",
        "colab_type": "text"
      },
      "source": [
        "**OPERACIONES NUMÉRICAS**"
      ]
    },
    {
      "cell_type": "code",
      "metadata": {
        "id": "l9rW_Tzzh2N1",
        "colab_type": "code",
        "colab": {
          "base_uri": "https://localhost:8080/",
          "height": 34
        },
        "outputId": "79c8b67a-b4bc-4c7a-cd47-f7534b703d90"
      },
      "source": [
        "# Suma\n",
        "10 + 2 + 1"
      ],
      "execution_count": 5,
      "outputs": [
        {
          "output_type": "execute_result",
          "data": {
            "text/plain": [
              "13"
            ]
          },
          "metadata": {
            "tags": []
          },
          "execution_count": 5
        }
      ]
    },
    {
      "cell_type": "code",
      "metadata": {
        "id": "GThgtKUkirWW",
        "colab_type": "code",
        "colab": {
          "base_uri": "https://localhost:8080/",
          "height": 34
        },
        "outputId": "20748c2f-371b-454c-9596-e24addeb8c99"
      },
      "source": [
        "# Resta (R:7)\n",
        "10 - 2 - 1\n",
        "# Multiplicación (R:16)\n",
        "4 * 4\n",
        "# Exponencial (R:256)\n",
        "4 ** 4\n",
        "# División (R:2.5)\n",
        "10 / 4\n",
        "# Parte entera de la división (R:2)\n",
        "10 // 4\n",
        "# Módulo o residuo (R:2)\n",
        "10 % 4\n",
        "# Operaciones anidadas (R:3)\n",
        "10 - 5 * 3 + 8\n",
        "# Operaciones anidadas (R:-1025)\n",
        "(10 - 5 * 3) / 4\n",
        "# Operaciones con variables declaradas (R: 151.5)\n",
        "x = 10.1\n",
        "y = 5 * 3\n",
        "x * y"
      ],
      "execution_count": 6,
      "outputs": [
        {
          "output_type": "execute_result",
          "data": {
            "text/plain": [
              "151.5"
            ]
          },
          "metadata": {
            "tags": []
          },
          "execution_count": 6
        }
      ]
    },
    {
      "cell_type": "markdown",
      "metadata": {
        "id": "t66JDoCqjx8e",
        "colab_type": "text"
      },
      "source": [
        "**OPERACIONES BOOLEANAS**"
      ]
    },
    {
      "cell_type": "code",
      "metadata": {
        "id": "qfzfQ_3OjnJW",
        "colab_type": "code",
        "colab": {
          "base_uri": "https://localhost:8080/",
          "height": 34
        },
        "outputId": "0aabad9a-a315-4bb3-8432-34249ce68f2d"
      },
      "source": [
        "# Mayor\n",
        "2 > 1"
      ],
      "execution_count": 7,
      "outputs": [
        {
          "output_type": "execute_result",
          "data": {
            "text/plain": [
              "True"
            ]
          },
          "metadata": {
            "tags": []
          },
          "execution_count": 7
        }
      ]
    },
    {
      "cell_type": "code",
      "metadata": {
        "id": "p7E3WhDDj2tC",
        "colab_type": "code",
        "colab": {
          "base_uri": "https://localhost:8080/",
          "height": 34
        },
        "outputId": "970315db-82b3-438a-a412-3c9048556eb1"
      },
      "source": [
        "# Mayor o igual (R: True)\n",
        "3 >= 2\n",
        "# Diferente (R: True)\n",
        "5 != 6\n",
        "# Igual (R: True)\n",
        "5 == 5\n",
        "# Y (R: False)\n",
        "5 > 3 and 1 > 2\n",
        "# O (R: True)\n",
        "5 > 3 or 1 > 2"
      ],
      "execution_count": 8,
      "outputs": [
        {
          "output_type": "execute_result",
          "data": {
            "text/plain": [
              "True"
            ]
          },
          "metadata": {
            "tags": []
          },
          "execution_count": 8
        }
      ]
    },
    {
      "cell_type": "markdown",
      "metadata": {
        "id": "uwCI72SFmCTI",
        "colab_type": "text"
      },
      "source": [
        "**CADENAS DE CARACTERES**"
      ]
    },
    {
      "cell_type": "code",
      "metadata": {
        "id": "A-WEMBm_6nTd",
        "colab_type": "code",
        "colab": {
          "base_uri": "https://localhost:8080/",
          "height": 34
        },
        "outputId": "24510e8f-4436-4395-cce2-055f5cd45e93"
      },
      "source": [
        "# Imprimir\n",
        "print('Hola Mundo')"
      ],
      "execution_count": 9,
      "outputs": [
        {
          "output_type": "stream",
          "text": [
            "Hola Mundo\n"
          ],
          "name": "stdout"
        }
      ]
    },
    {
      "cell_type": "code",
      "metadata": {
        "id": "wWgWE7zqpF1J",
        "colab_type": "code",
        "colab": {
          "base_uri": "https://localhost:8080/",
          "height": 35
        },
        "outputId": "d0000fed-655d-4070-c4b1-dfb75321ce2d"
      },
      "source": [
        "# Función para reemplazar un caracter\n",
        "'H-o-l-a- -m-u-n-d-o'.replace('-', '*')"
      ],
      "execution_count": 10,
      "outputs": [
        {
          "output_type": "execute_result",
          "data": {
            "application/vnd.google.colaboratory.intrinsic": {
              "type": "string"
            },
            "text/plain": [
              "'H*o*l*a* *m*u*n*d*o'"
            ]
          },
          "metadata": {
            "tags": []
          },
          "execution_count": 10
        }
      ]
    },
    {
      "cell_type": "code",
      "metadata": {
        "id": "h_yztB3TpF88",
        "colab_type": "code",
        "colab": {
          "base_uri": "https://localhost:8080/",
          "height": 34
        },
        "outputId": "4539569e-10eb-4db8-b58f-61511ca9a72a"
      },
      "source": [
        "# Todo en mayúscula (R:'HOLA MUNDO')\n",
        "'hola mundo'.upper()\n",
        "# Todo en minúscula (R:'hola mundo')\n",
        "'HOLA MUNDO'.lower()\n",
        "# Primera de cada palabra en mayúscula (R:'Hola Mundo')\n",
        "'hola mundo'.title()\n",
        "# Encontrar caracter. El conteo inicia en la posición 0. (R:5)\n",
        "'Hola mundo'.find('m')"
      ],
      "execution_count": 11,
      "outputs": [
        {
          "output_type": "execute_result",
          "data": {
            "text/plain": [
              "5"
            ]
          },
          "metadata": {
            "tags": []
          },
          "execution_count": 11
        }
      ]
    },
    {
      "cell_type": "code",
      "metadata": {
        "id": "YVWHQ9JgqMqe",
        "colab_type": "code",
        "colab": {
          "base_uri": "https://localhost:8080/",
          "height": 34
        },
        "outputId": "da6ac59e-f30f-4ee0-b4a5-b9848caa38d3"
      },
      "source": [
        "# Partir por caracter específico\n",
        "'1,2,3,4,5'.split(',')"
      ],
      "execution_count": 12,
      "outputs": [
        {
          "output_type": "execute_result",
          "data": {
            "text/plain": [
              "['1', '2', '3', '4', '5']"
            ]
          },
          "metadata": {
            "tags": []
          },
          "execution_count": 12
        }
      ]
    },
    {
      "cell_type": "code",
      "metadata": {
        "id": "yaEJMSlpmFJb",
        "colab_type": "code",
        "colab": {
          "base_uri": "https://localhost:8080/",
          "height": 34
        },
        "outputId": "0896898d-ab55-48e2-fda8-41bec814fc91"
      },
      "source": [
        "# Tamaño del texto\n",
        "text = 'Hola mundo'\n",
        "print('El tamaño del texto es: ', len(text), '. El caracter de la posición 0 es:', text[0])"
      ],
      "execution_count": 13,
      "outputs": [
        {
          "output_type": "stream",
          "text": [
            "El tamaño del texto es:  10 . El caracter de la posición 0 es: H\n"
          ],
          "name": "stdout"
        }
      ]
    },
    {
      "cell_type": "markdown",
      "metadata": {
        "id": "s8tW5_Fgu4EM",
        "colab_type": "text"
      },
      "source": [
        "**LISTAS**"
      ]
    },
    {
      "cell_type": "code",
      "metadata": {
        "id": "TIfXU-bevBc3",
        "colab_type": "code",
        "colab": {
          "base_uri": "https://localhost:8080/",
          "height": 34
        },
        "outputId": "d4081230-22d6-4fc0-a865-57509f12d366"
      },
      "source": [
        "# Crear una lista\n",
        "lista = ['hola', 'mundo', 'cruel']\n",
        "lista"
      ],
      "execution_count": 14,
      "outputs": [
        {
          "output_type": "execute_result",
          "data": {
            "text/plain": [
              "['hola', 'mundo', 'cruel']"
            ]
          },
          "metadata": {
            "tags": []
          },
          "execution_count": 14
        }
      ]
    },
    {
      "cell_type": "code",
      "metadata": {
        "id": "vo4zLohrvBf_",
        "colab_type": "code",
        "colab": {
          "base_uri": "https://localhost:8080/",
          "height": 35
        },
        "outputId": "053ab7b8-e8c6-463a-b44b-43e63ca29e0d"
      },
      "source": [
        "# Primer elemento\n",
        "lista[0]"
      ],
      "execution_count": 15,
      "outputs": [
        {
          "output_type": "execute_result",
          "data": {
            "application/vnd.google.colaboratory.intrinsic": {
              "type": "string"
            },
            "text/plain": [
              "'hola'"
            ]
          },
          "metadata": {
            "tags": []
          },
          "execution_count": 15
        }
      ]
    },
    {
      "cell_type": "code",
      "metadata": {
        "id": "ZUw5avUjvBjE",
        "colab_type": "code",
        "colab": {
          "base_uri": "https://localhost:8080/",
          "height": 34
        },
        "outputId": "336d45eb-5351-4e0b-c9b9-0ab5febf0225"
      },
      "source": [
        "# Último elemento (R: 'cruel')\n",
        "lista[-1]\n",
        "# Todos los elementos (R: ['hola', 'mundo', 'cruel'])\n",
        "lista[:]\n",
        "# Últimos 2 elementos (R: ['mundo', 'cruel'])\n",
        "lista[-2:]\n",
        "# Tamaño de la lista (R: 3)\n",
        "len(lista)"
      ],
      "execution_count": 16,
      "outputs": [
        {
          "output_type": "execute_result",
          "data": {
            "text/plain": [
              "3"
            ]
          },
          "metadata": {
            "tags": []
          },
          "execution_count": 16
        }
      ]
    },
    {
      "cell_type": "code",
      "metadata": {
        "id": "nZ0Ogd4AvzyF",
        "colab_type": "code",
        "colab": {
          "base_uri": "https://localhost:8080/",
          "height": 34
        },
        "outputId": "8d929156-0ae2-4e1d-dfa9-a88e606281d8"
      },
      "source": [
        "# Concatenar listas\n",
        "['HOLA MUNDO'] + lista"
      ],
      "execution_count": 17,
      "outputs": [
        {
          "output_type": "execute_result",
          "data": {
            "text/plain": [
              "['HOLA MUNDO', 'hola', 'mundo', 'cruel']"
            ]
          },
          "metadata": {
            "tags": []
          },
          "execution_count": 17
        }
      ]
    },
    {
      "cell_type": "code",
      "metadata": {
        "id": "L-3YsemIv70z",
        "colab_type": "code",
        "colab": {
          "base_uri": "https://localhost:8080/",
          "height": 34
        },
        "outputId": "47356d46-0047-4ca3-aeb1-ac7428ec59ac"
      },
      "source": [
        "# Adjuntar elementos a una lista\n",
        "lista.append(7)\n",
        "lista"
      ],
      "execution_count": 18,
      "outputs": [
        {
          "output_type": "execute_result",
          "data": {
            "text/plain": [
              "['hola', 'mundo', 'cruel', 7]"
            ]
          },
          "metadata": {
            "tags": []
          },
          "execution_count": 18
        }
      ]
    },
    {
      "cell_type": "code",
      "metadata": {
        "id": "9QlLw1ppxgrU",
        "colab_type": "code",
        "colab": {
          "base_uri": "https://localhost:8080/",
          "height": 34
        },
        "outputId": "584e069d-3321-4433-df90-1ee25145bfe3"
      },
      "source": [
        "# Ordena la lista\n",
        "lista = [8, 5, 4, 4, 3, 7, 1]\n",
        "lista.sort(key=None, reverse=False)\n",
        "lista"
      ],
      "execution_count": 19,
      "outputs": [
        {
          "output_type": "execute_result",
          "data": {
            "text/plain": [
              "[1, 3, 4, 4, 5, 7, 8]"
            ]
          },
          "metadata": {
            "tags": []
          },
          "execution_count": 19
        }
      ]
    },
    {
      "cell_type": "code",
      "metadata": {
        "id": "2P5j_8HBB-BC",
        "colab_type": "code",
        "colab": {
          "base_uri": "https://localhost:8080/",
          "height": 34
        },
        "outputId": "de5cad18-41da-4db1-c4ca-c33d0d7d80e7"
      },
      "source": [
        "# Lista de listas\n",
        "x = [2, 3, 4]\n",
        "listaFinal = [lista, x]\n",
        "listaFinal"
      ],
      "execution_count": 20,
      "outputs": [
        {
          "output_type": "execute_result",
          "data": {
            "text/plain": [
              "[[1, 3, 4, 4, 5, 7, 8], [2, 3, 4]]"
            ]
          },
          "metadata": {
            "tags": []
          },
          "execution_count": 20
        }
      ]
    },
    {
      "cell_type": "code",
      "metadata": {
        "id": "D_xJ2ex7CYS4",
        "colab_type": "code",
        "colab": {
          "base_uri": "https://localhost:8080/",
          "height": 34
        },
        "outputId": "dd7988a9-2ea6-46f9-eae7-268b0e0e550b"
      },
      "source": [
        "# Primera lista (R: [3, 4, 4, 5, 7, 8])\n",
        "listaFinal[0]\n",
        "# Segunda lista (R: [2, 3, 4])\n",
        "listaFinal[1]\n",
        "# Primera posición de la lista 1 (R: 3)\n",
        "listaFinal[0][0]"
      ],
      "execution_count": 21,
      "outputs": [
        {
          "output_type": "execute_result",
          "data": {
            "text/plain": [
              "1"
            ]
          },
          "metadata": {
            "tags": []
          },
          "execution_count": 21
        }
      ]
    },
    {
      "cell_type": "markdown",
      "metadata": {
        "id": "IWoeDkFmSyWO",
        "colab_type": "text"
      },
      "source": [
        "**TUPLAS**"
      ]
    },
    {
      "cell_type": "code",
      "metadata": {
        "id": "Djo7k47fReqr",
        "colab_type": "code",
        "colab": {
          "base_uri": "https://localhost:8080/",
          "height": 34
        },
        "outputId": "3e0ffc12-03dd-48cf-a87a-6d3d9ffa6fdd"
      },
      "source": [
        "# La tupla es un conjunto ordenado de elementos.\n",
        "t = 12345, 54321, 'hello!'\n",
        "t  # una tupla se diferencia de una lista porque se imprime entre paréntesis."
      ],
      "execution_count": 22,
      "outputs": [
        {
          "output_type": "execute_result",
          "data": {
            "text/plain": [
              "(12345, 54321, 'hello!')"
            ]
          },
          "metadata": {
            "tags": []
          },
          "execution_count": 22
        }
      ]
    },
    {
      "cell_type": "code",
      "metadata": {
        "id": "dv5_aqvYircV",
        "colab_type": "code",
        "colab": {
          "base_uri": "https://localhost:8080/",
          "height": 34
        },
        "outputId": "1c64ce03-47ea-4a61-a1b2-afc17c9f23a6"
      },
      "source": [
        "# Las tuplas pueden anidarse.\n",
        "u = t, (1, 2, 3, 4, 5)\n",
        "u"
      ],
      "execution_count": 23,
      "outputs": [
        {
          "output_type": "execute_result",
          "data": {
            "text/plain": [
              "((12345, 54321, 'hello!'), (1, 2, 3, 4, 5))"
            ]
          },
          "metadata": {
            "tags": []
          },
          "execution_count": 23
        }
      ]
    },
    {
      "cell_type": "code",
      "metadata": {
        "id": "ReVw2Dfii0eU",
        "colab_type": "code",
        "colab": {
          "base_uri": "https://localhost:8080/",
          "height": 34
        },
        "outputId": "92e740db-c3fd-4435-cd63-7758c74b8c93"
      },
      "source": [
        "# Se asignan los elementos de una tupla a las variables\n",
        "t = 12345, 54321, 'hello!'\n",
        "x, y, z = t\n",
        "print(x, y, z)"
      ],
      "execution_count": 24,
      "outputs": [
        {
          "output_type": "stream",
          "text": [
            "12345 54321 hello!\n"
          ],
          "name": "stdout"
        }
      ]
    },
    {
      "cell_type": "markdown",
      "metadata": {
        "id": "dEwFWhQATCWd",
        "colab_type": "text"
      },
      "source": [
        "**DICCIONARIOS**\n",
        "\n",
        "Un diccionario es una estructura de datos que permite almacenar cualquier tipo de dato e identificarlos con una clave"
      ]
    },
    {
      "cell_type": "code",
      "metadata": {
        "id": "ei746n6eTKNZ",
        "colab_type": "code",
        "colab": {
          "base_uri": "https://localhost:8080/",
          "height": 34
        },
        "outputId": "9b735c24-22a6-4627-8586-3bceb42cdf81"
      },
      "source": [
        "# Definición de diccionario\n",
        "dicc = {'clave 1': 100, 'clave 2': 1} \n",
        "dicc"
      ],
      "execution_count": 25,
      "outputs": [
        {
          "output_type": "execute_result",
          "data": {
            "text/plain": [
              "{'clave 1': 100, 'clave 2': 1}"
            ]
          },
          "metadata": {
            "tags": []
          },
          "execution_count": 25
        }
      ]
    },
    {
      "cell_type": "code",
      "metadata": {
        "id": "MN1iRwjUTKU0",
        "colab_type": "code",
        "colab": {
          "base_uri": "https://localhost:8080/",
          "height": 34
        },
        "outputId": "8de40dc4-eb1f-433c-e0b5-2885247d5549"
      },
      "source": [
        "# Agregar un nuevo elemento\n",
        "dicc['c'] = 3\n",
        "dicc"
      ],
      "execution_count": 26,
      "outputs": [
        {
          "output_type": "execute_result",
          "data": {
            "text/plain": [
              "{'c': 3, 'clave 1': 100, 'clave 2': 1}"
            ]
          },
          "metadata": {
            "tags": []
          },
          "execution_count": 26
        }
      ]
    },
    {
      "cell_type": "code",
      "metadata": {
        "id": "Uyoc5jXrTKfR",
        "colab_type": "code",
        "colab": {
          "base_uri": "https://localhost:8080/",
          "height": 34
        },
        "outputId": "50344ce6-930f-4d1f-bf0e-d18b6851a4ee"
      },
      "source": [
        "# Obtener el valor de la clave c\n",
        "dicc['c']  # se obtiene el valor asociado a la clave 'b'"
      ],
      "execution_count": 27,
      "outputs": [
        {
          "output_type": "execute_result",
          "data": {
            "text/plain": [
              "3"
            ]
          },
          "metadata": {
            "tags": []
          },
          "execution_count": 27
        }
      ]
    },
    {
      "cell_type": "code",
      "metadata": {
        "id": "91weLqEwTKcn",
        "colab_type": "code",
        "colab": {
          "base_uri": "https://localhost:8080/",
          "height": 34
        },
        "outputId": "aa5ad180-2972-41fe-a068-b5d3aa2dce94"
      },
      "source": [
        "# Eliminar un elemento\n",
        "del dicc['clave 1']\n",
        "dicc"
      ],
      "execution_count": 28,
      "outputs": [
        {
          "output_type": "execute_result",
          "data": {
            "text/plain": [
              "{'c': 3, 'clave 2': 1}"
            ]
          },
          "metadata": {
            "tags": []
          },
          "execution_count": 28
        }
      ]
    },
    {
      "cell_type": "code",
      "metadata": {
        "id": "VBfDQro6TKYV",
        "colab_type": "code",
        "colab": {
          "base_uri": "https://localhost:8080/",
          "height": 34
        },
        "outputId": "e321715b-2f3e-4362-ec95-df704c45e792"
      },
      "source": [
        "# Imprime las claves\n",
        "list(dicc.keys())  "
      ],
      "execution_count": 29,
      "outputs": [
        {
          "output_type": "execute_result",
          "data": {
            "text/plain": [
              "['clave 2', 'c']"
            ]
          },
          "metadata": {
            "tags": []
          },
          "execution_count": 29
        }
      ]
    },
    {
      "cell_type": "code",
      "metadata": {
        "id": "aMul6OWol6Ns",
        "colab_type": "code",
        "colab": {
          "base_uri": "https://localhost:8080/",
          "height": 34
        },
        "outputId": "f0905dbb-4199-41e4-ff2e-d1e13d7f2e01"
      },
      "source": [
        "# Imprime los valores\n",
        "list(dicc.values()) "
      ],
      "execution_count": 30,
      "outputs": [
        {
          "output_type": "execute_result",
          "data": {
            "text/plain": [
              "[1, 3]"
            ]
          },
          "metadata": {
            "tags": []
          },
          "execution_count": 30
        }
      ]
    },
    {
      "cell_type": "markdown",
      "metadata": {
        "id": "KbdoFHNGLPCc",
        "colab_type": "text"
      },
      "source": [
        "## ***ESTRUTURAS DE CONTROL***"
      ]
    },
    {
      "cell_type": "markdown",
      "metadata": {
        "id": "cTvwwJmeQ-i4",
        "colab_type": "text"
      },
      "source": [
        "**CONDICIONAL: IF**"
      ]
    },
    {
      "cell_type": "code",
      "metadata": {
        "id": "iF9UXN-vRBMw",
        "colab_type": "code",
        "colab": {
          "base_uri": "https://localhost:8080/",
          "height": 34
        },
        "outputId": "df86c626-15ff-4542-c50e-0b429753dc54"
      },
      "source": [
        "x = 10\n",
        "if x < 0:\n",
        "    x = 0\n",
        "    print('Negativo')\n",
        "elif x == 0:\n",
        "    print('Cero')\n",
        "else:\n",
        "    print('Positivo')"
      ],
      "execution_count": 31,
      "outputs": [
        {
          "output_type": "stream",
          "text": [
            "Positivo\n"
          ],
          "name": "stdout"
        }
      ]
    },
    {
      "cell_type": "markdown",
      "metadata": {
        "id": "yEfdvzPYRVNo",
        "colab_type": "text"
      },
      "source": [
        "**CICLO: FOR**"
      ]
    },
    {
      "cell_type": "code",
      "metadata": {
        "id": "iOt1hCTPReW8",
        "colab_type": "code",
        "colab": {
          "base_uri": "https://localhost:8080/",
          "height": 101
        },
        "outputId": "5fd4259f-07d1-475c-827a-b128c35896ec"
      },
      "source": [
        "# Ciclo iterativo de 0 hasta 4\n",
        "for i in range(5):\n",
        "    print(i)"
      ],
      "execution_count": 32,
      "outputs": [
        {
          "output_type": "stream",
          "text": [
            "0\n",
            "1\n",
            "2\n",
            "3\n",
            "4\n"
          ],
          "name": "stdout"
        }
      ]
    },
    {
      "cell_type": "code",
      "metadata": {
        "id": "7wAeQVhMRegt",
        "colab_type": "code",
        "colab": {
          "base_uri": "https://localhost:8080/",
          "height": 34
        },
        "outputId": "090b28e0-493f-484c-a0e4-f7ed1202fa9c"
      },
      "source": [
        "# Ciclo de -10 hasta -100, con saltos de -30 y terminado con ', '\n",
        "for i in range(-10, -100, -30):\n",
        "    print(i, end = ', ')"
      ],
      "execution_count": 33,
      "outputs": [
        {
          "output_type": "stream",
          "text": [
            "-10, -40, -70, "
          ],
          "name": "stdout"
        }
      ]
    },
    {
      "cell_type": "code",
      "metadata": {
        "id": "mXVnBYb9Res3",
        "colab_type": "code",
        "colab": {
          "base_uri": "https://localhost:8080/",
          "height": 84
        },
        "outputId": "0e23884e-c6ef-44ea-d30d-33e63dc558ef"
      },
      "source": [
        "# Ciclo de los elementos de una lista\n",
        "lista = ['Uno', 'Dos', 'Tres', 'Cuatro']\n",
        "for (i, x) in enumerate(lista):\n",
        "    print(i, x)"
      ],
      "execution_count": 34,
      "outputs": [
        {
          "output_type": "stream",
          "text": [
            "0 Uno\n",
            "1 Dos\n",
            "2 Tres\n",
            "3 Cuatro\n"
          ],
          "name": "stdout"
        }
      ]
    },
    {
      "cell_type": "code",
      "metadata": {
        "id": "QDtuzqVlpIPt",
        "colab_type": "code",
        "colab": {
          "base_uri": "https://localhost:8080/",
          "height": 34
        },
        "outputId": "5a830a0b-a757-43f8-dabf-692135bfe1f8"
      },
      "source": [
        "# List comprehensions: forma compacta de ejecutar líneas de código\n",
        "num = [x for x in range(5)]\n",
        "num"
      ],
      "execution_count": 35,
      "outputs": [
        {
          "output_type": "execute_result",
          "data": {
            "text/plain": [
              "[0, 1, 2, 3, 4]"
            ]
          },
          "metadata": {
            "tags": []
          },
          "execution_count": 35
        }
      ]
    },
    {
      "cell_type": "code",
      "metadata": {
        "id": "ZT92t7QeptNV",
        "colab_type": "code",
        "colab": {
          "base_uri": "https://localhost:8080/",
          "height": 34
        },
        "outputId": "e79daa3d-1f10-474c-dad2-c6be4ef179be"
      },
      "source": [
        "# List comprehensions\n",
        "['linea ' + str(i) for i in range(1, 5)]"
      ],
      "execution_count": 36,
      "outputs": [
        {
          "output_type": "execute_result",
          "data": {
            "text/plain": [
              "['linea 1', 'linea 2', 'linea 3', 'linea 4']"
            ]
          },
          "metadata": {
            "tags": []
          },
          "execution_count": 36
        }
      ]
    },
    {
      "cell_type": "code",
      "metadata": {
        "id": "udJ-4BluqKy7",
        "colab_type": "code",
        "colab": {
          "base_uri": "https://localhost:8080/",
          "height": 34
        },
        "outputId": "cd91a1b0-1b51-4eaf-aa18-3768358b6b25"
      },
      "source": [
        "# List comprehensions\n",
        "numPar = [x for x in range(10) if x%2==0]\n",
        "# numImpar = [x for x in range(10) if x%2!=0]\n",
        "numPar"
      ],
      "execution_count": 37,
      "outputs": [
        {
          "output_type": "execute_result",
          "data": {
            "text/plain": [
              "[0, 2, 4, 6, 8]"
            ]
          },
          "metadata": {
            "tags": []
          },
          "execution_count": 37
        }
      ]
    },
    {
      "cell_type": "markdown",
      "metadata": {
        "id": "jlfaHBoKSgxJ",
        "colab_type": "text"
      },
      "source": [
        "**CICLO: WHILE** "
      ]
    },
    {
      "cell_type": "code",
      "metadata": {
        "id": "lJUFtBYiRewh",
        "colab_type": "code",
        "colab": {
          "base_uri": "https://localhost:8080/",
          "height": 118
        },
        "outputId": "302f7382-fd84-46c6-9a27-81c5759e50e1"
      },
      "source": [
        "# Ciclo mientras se cumpla que n < 5\n",
        "n = 0\n",
        "while n < 5:\n",
        "    print(n)\n",
        "    n = n + 1\n",
        "print('fin')"
      ],
      "execution_count": 38,
      "outputs": [
        {
          "output_type": "stream",
          "text": [
            "0\n",
            "1\n",
            "2\n",
            "3\n",
            "4\n",
            "fin\n"
          ],
          "name": "stdout"
        }
      ]
    },
    {
      "cell_type": "markdown",
      "metadata": {
        "id": "MsEScbXcUtM-",
        "colab_type": "text"
      },
      "source": [
        "## **FUNCIONES**"
      ]
    },
    {
      "cell_type": "markdown",
      "metadata": {
        "id": "O3VVvT3_tmf-",
        "colab_type": "text"
      },
      "source": [
        "**FUNCIONES DE USUARIO**"
      ]
    },
    {
      "cell_type": "code",
      "metadata": {
        "id": "86JcKKXCW7f9",
        "colab_type": "code",
        "colab": {}
      },
      "source": [
        "# Declaración de funciones\n",
        "def MiFuncion(x):  \n",
        "  y = x+x\n",
        "  return y"
      ],
      "execution_count": 39,
      "outputs": []
    },
    {
      "cell_type": "code",
      "metadata": {
        "id": "FJFIO659m5BS",
        "colab_type": "code",
        "colab": {
          "base_uri": "https://localhost:8080/",
          "height": 34
        },
        "outputId": "6e47b9cd-b12b-4215-d629-db11e48a09bf"
      },
      "source": [
        "# Asignar a z el valor retornado por la función\n",
        "z = MiFuncion(3)\n",
        "z"
      ],
      "execution_count": 40,
      "outputs": [
        {
          "output_type": "execute_result",
          "data": {
            "text/plain": [
              "6"
            ]
          },
          "metadata": {
            "tags": []
          },
          "execution_count": 40
        }
      ]
    },
    {
      "cell_type": "code",
      "metadata": {
        "id": "JiW_P0uhUuuJ",
        "colab_type": "code",
        "colab": {}
      },
      "source": [
        "# Funciones con múltiples variables\n",
        "def MiFuncion(x, y):  \n",
        "  return x**2, y**2, x*y"
      ],
      "execution_count": 41,
      "outputs": []
    },
    {
      "cell_type": "code",
      "metadata": {
        "id": "dV4MGhhBnkUf",
        "colab_type": "code",
        "colab": {
          "base_uri": "https://localhost:8080/",
          "height": 34
        },
        "outputId": "7556527b-5823-4f57-ebbd-16ee870ecdaa"
      },
      "source": [
        "# Llamado a la función predefinida\n",
        "A,B,C = MiFuncion(2,3)\n",
        "print(A,B,C)"
      ],
      "execution_count": 42,
      "outputs": [
        {
          "output_type": "stream",
          "text": [
            "4 9 6\n"
          ],
          "name": "stdout"
        }
      ]
    },
    {
      "cell_type": "markdown",
      "metadata": {
        "id": "JiDby6Z6tsKN",
        "colab_type": "text"
      },
      "source": [
        "**Función LAMBDA**"
      ]
    },
    {
      "cell_type": "code",
      "metadata": {
        "id": "-g0-mSQlrkNI",
        "colab_type": "code",
        "colab": {
          "base_uri": "https://localhost:8080/",
          "height": 34
        },
        "outputId": "68bce160-f532-4b31-c8cc-01975a894812"
      },
      "source": [
        "# Función Lambda\n",
        "# Funciones de manera rápidas, requieren una pequeña operación o comprobación\n",
        "f = lambda x: x+x\n",
        "f(2)"
      ],
      "execution_count": 43,
      "outputs": [
        {
          "output_type": "execute_result",
          "data": {
            "text/plain": [
              "4"
            ]
          },
          "metadata": {
            "tags": []
          },
          "execution_count": 43
        }
      ]
    },
    {
      "cell_type": "code",
      "metadata": {
        "id": "tKJf1SdvsOHP",
        "colab_type": "code",
        "colab": {
          "base_uri": "https://localhost:8080/",
          "height": 34
        },
        "outputId": "76b2ecc7-f32c-4959-fac3-37c2d9df0f4d"
      },
      "source": [
        "# Función Lambda:\n",
        "f = lambda x, y, z=1: (x+y) * z\n",
        "f(2,3)"
      ],
      "execution_count": 44,
      "outputs": [
        {
          "output_type": "execute_result",
          "data": {
            "text/plain": [
              "5"
            ]
          },
          "metadata": {
            "tags": []
          },
          "execution_count": 44
        }
      ]
    },
    {
      "cell_type": "markdown",
      "metadata": {
        "id": "2SKqgRMCt7F3",
        "colab_type": "text"
      },
      "source": [
        "**Función MAP**"
      ]
    },
    {
      "cell_type": "code",
      "metadata": {
        "id": "GUggtGnQthNE",
        "colab_type": "code",
        "colab": {
          "base_uri": "https://localhost:8080/",
          "height": 34
        },
        "outputId": "83845ca9-c070-4af2-8852-ea432ebe9d03"
      },
      "source": [
        "# Función map\n",
        "# Aplica una función a todos los elementos de una lista\n",
        "a = [1, 2, 3, 4, 5]\n",
        "sqr = list(map(lambda x: x**2, a))\n",
        "sqr"
      ],
      "execution_count": 45,
      "outputs": [
        {
          "output_type": "execute_result",
          "data": {
            "text/plain": [
              "[1, 4, 9, 16, 25]"
            ]
          },
          "metadata": {
            "tags": []
          },
          "execution_count": 45
        }
      ]
    },
    {
      "cell_type": "markdown",
      "metadata": {
        "id": "9oySMjSBt0nj",
        "colab_type": "text"
      },
      "source": [
        "**Función FILTER**"
      ]
    },
    {
      "cell_type": "code",
      "metadata": {
        "id": "IB3DSbk5sk6J",
        "colab_type": "code",
        "colab": {
          "base_uri": "https://localhost:8080/",
          "height": 34
        },
        "outputId": "0652a211-fc2e-4307-ec69-d32dff1e8d46"
      },
      "source": [
        "# Función filter\n",
        "# Retorna una lista con los elementos evaluados como positivo en una afunción lambda\n",
        "a = [0, 1, -1, -2, 3, -4, 5, 6, 7]\n",
        "# Retorna los elementos mayores a 0\n",
        "b = list(filter(lambda x: x > 0, a))\n",
        "b"
      ],
      "execution_count": 46,
      "outputs": [
        {
          "output_type": "execute_result",
          "data": {
            "text/plain": [
              "[1, 3, 5, 6, 7]"
            ]
          },
          "metadata": {
            "tags": []
          },
          "execution_count": 46
        }
      ]
    },
    {
      "cell_type": "markdown",
      "metadata": {
        "id": "7u6jKL4ZwAO2",
        "colab_type": "text"
      },
      "source": [
        "## **LIBRERÍAS DE PYTHON**"
      ]
    },
    {
      "cell_type": "markdown",
      "metadata": {
        "id": "oNbzCXs8xBHt",
        "colab_type": "text"
      },
      "source": [
        "**MATH**\n",
        "\n",
        "Math es un paquete de funciones matemáticas. (https://docs.python.org/3/library/math.html)"
      ]
    },
    {
      "cell_type": "code",
      "metadata": {
        "id": "XJdUCz3wW_JV",
        "colab_type": "code",
        "colab": {
          "base_uri": "https://localhost:8080/",
          "height": 34
        },
        "outputId": "811bc62e-416e-4184-ff55-45172df0e7bf"
      },
      "source": [
        "# Importar librerías de funciones matemáticas\n",
        "import math\n",
        "# Función coseno\n",
        "math.cos(3.141516)"
      ],
      "execution_count": 47,
      "outputs": [
        {
          "output_type": "execute_result",
          "data": {
            "text/plain": [
              "-0.9999999970621136"
            ]
          },
          "metadata": {
            "tags": []
          },
          "execution_count": 47
        }
      ]
    },
    {
      "cell_type": "markdown",
      "metadata": {
        "id": "PelHTY71xiCW",
        "colab_type": "text"
      },
      "source": [
        "**NUMPY**\n",
        "\n",
        "NumPy es un paquete fundamental para la computación científica con Python:\n",
        "\n",
        "* Un poderoso manejo de matrices N-dimensional\n",
        "* Funciones sofisticadas\n",
        "* Herramientas para integrar código C / C ++\n",
        "* Álgebra lineal útil, transformada de Fourier y capacidades de números aleatorios\n",
        "\n",
        "También se puede utilizar como un contenedor eficiente multidimensional de datos genéricos. Se pueden definir tipos de datos arbitrarios. Esto permite que NumPy se integre sin problemas y rápidamente con una amplia variedad de bases de datos."
      ]
    },
    {
      "cell_type": "code",
      "metadata": {
        "id": "fSAx1vrqxkwk",
        "colab_type": "code",
        "colab": {}
      },
      "source": [
        "# Importar la librería\n",
        "import numpy as np"
      ],
      "execution_count": 48,
      "outputs": []
    },
    {
      "cell_type": "code",
      "metadata": {
        "id": "5Bt0HfJLxm8t",
        "colab_type": "code",
        "colab": {
          "base_uri": "https://localhost:8080/",
          "height": 34
        },
        "outputId": "a9f1a03f-3220-4a6e-92e4-abb7c11f3eac"
      },
      "source": [
        "# Crear arreglo de unos\n",
        "# np.ones(10)\n",
        "# Crear arreglo de ceros\n",
        "np.zeros(10)"
      ],
      "execution_count": 49,
      "outputs": [
        {
          "output_type": "execute_result",
          "data": {
            "text/plain": [
              "array([0., 0., 0., 0., 0., 0., 0., 0., 0., 0.])"
            ]
          },
          "metadata": {
            "tags": []
          },
          "execution_count": 49
        }
      ]
    },
    {
      "cell_type": "code",
      "metadata": {
        "id": "d_x6uFxkxnB7",
        "colab_type": "code",
        "colab": {
          "base_uri": "https://localhost:8080/",
          "height": 185
        },
        "outputId": "718f2a0c-8208-4427-ce75-30b1d792cf8f"
      },
      "source": [
        "# Crear arreglo de ceros\n",
        "np.zeros((10,3))"
      ],
      "execution_count": 50,
      "outputs": [
        {
          "output_type": "execute_result",
          "data": {
            "text/plain": [
              "array([[0., 0., 0.],\n",
              "       [0., 0., 0.],\n",
              "       [0., 0., 0.],\n",
              "       [0., 0., 0.],\n",
              "       [0., 0., 0.],\n",
              "       [0., 0., 0.],\n",
              "       [0., 0., 0.],\n",
              "       [0., 0., 0.],\n",
              "       [0., 0., 0.],\n",
              "       [0., 0., 0.]])"
            ]
          },
          "metadata": {
            "tags": []
          },
          "execution_count": 50
        }
      ]
    },
    {
      "cell_type": "code",
      "metadata": {
        "id": "0V5BS4kRxnIG",
        "colab_type": "code",
        "colab": {
          "base_uri": "https://localhost:8080/",
          "height": 34
        },
        "outputId": "a3cf3a56-6b50-4b17-bdea-207a8533471b"
      },
      "source": [
        "# Crear arreglo de 0 a 1 con 5 puntos\n",
        "np.linspace(0,1,5)"
      ],
      "execution_count": 51,
      "outputs": [
        {
          "output_type": "execute_result",
          "data": {
            "text/plain": [
              "array([0.  , 0.25, 0.5 , 0.75, 1.  ])"
            ]
          },
          "metadata": {
            "tags": []
          },
          "execution_count": 51
        }
      ]
    },
    {
      "cell_type": "code",
      "metadata": {
        "id": "YNFJs5kNxnAH",
        "colab_type": "code",
        "colab": {
          "base_uri": "https://localhost:8080/",
          "height": 34
        },
        "outputId": "d59a03d9-7a09-4d98-8ff7-a47d6f86f5fd"
      },
      "source": [
        "# Pasar una lista a arreglos de np\n",
        "lista = [1, 2, 3, 4, 5]\n",
        "arreglo = np.array(lista)\n",
        "arreglo"
      ],
      "execution_count": 52,
      "outputs": [
        {
          "output_type": "execute_result",
          "data": {
            "text/plain": [
              "array([1, 2, 3, 4, 5])"
            ]
          },
          "metadata": {
            "tags": []
          },
          "execution_count": 52
        }
      ]
    },
    {
      "cell_type": "code",
      "metadata": {
        "id": "99v4eqoExm6c",
        "colab_type": "code",
        "colab": {
          "base_uri": "https://localhost:8080/",
          "height": 34
        },
        "outputId": "9ca15bd8-ae8b-4c71-a44a-62b6f8a1010a"
      },
      "source": [
        "# Pasar de arreglos a lista\n",
        "arreglo.tolist()"
      ],
      "execution_count": 53,
      "outputs": [
        {
          "output_type": "execute_result",
          "data": {
            "text/plain": [
              "[1, 2, 3, 4, 5]"
            ]
          },
          "metadata": {
            "tags": []
          },
          "execution_count": 53
        }
      ]
    },
    {
      "cell_type": "code",
      "metadata": {
        "id": "p0OjMiiAxuww",
        "colab_type": "code",
        "colab": {
          "base_uri": "https://localhost:8080/",
          "height": 50
        },
        "outputId": "e17874d5-959b-4cae-afd1-6962d751b53b"
      },
      "source": [
        "# Pasar una lista de listas a arreglos 2D de np\n",
        "lista = [range(1, 5), range(5, 9)]\n",
        "arreglo = np.array(lista)\n",
        "arreglo"
      ],
      "execution_count": 54,
      "outputs": [
        {
          "output_type": "execute_result",
          "data": {
            "text/plain": [
              "array([[1, 2, 3, 4],\n",
              "       [5, 6, 7, 8]])"
            ]
          },
          "metadata": {
            "tags": []
          },
          "execution_count": 54
        }
      ]
    },
    {
      "cell_type": "code",
      "metadata": {
        "id": "0LpDIBnxxu5E",
        "colab_type": "code",
        "colab": {
          "base_uri": "https://localhost:8080/",
          "height": 50
        },
        "outputId": "60996ca6-2586-4883-ccfa-eabe92a78691"
      },
      "source": [
        "# Selección de items\n",
        "print(arreglo, arreglo[0], arreglo[0,3], arreglo[1, 1], arreglo[1, :], arreglo[:, 2])"
      ],
      "execution_count": 55,
      "outputs": [
        {
          "output_type": "stream",
          "text": [
            "[[1 2 3 4]\n",
            " [5 6 7 8]] [1 2 3 4] 4 6 [5 6 7 8] [3 7]\n"
          ],
          "name": "stdout"
        }
      ]
    },
    {
      "cell_type": "code",
      "metadata": {
        "id": "PimR2r9oxu8H",
        "colab_type": "code",
        "colab": {
          "base_uri": "https://localhost:8080/",
          "height": 34
        },
        "outputId": "ceacbe4a-92c4-4ddd-8d60-9d995bfa6ec0"
      },
      "source": [
        "# Imformación del arreglo: Tipo, dimensión, forma, tamaño, longitud\n",
        "print(arreglo.dtype, arreglo.ndim, arreglo.shape, arreglo.size, len(arreglo))"
      ],
      "execution_count": 56,
      "outputs": [
        {
          "output_type": "stream",
          "text": [
            "int64 2 (2, 4) 8 2\n"
          ],
          "name": "stdout"
        }
      ]
    },
    {
      "cell_type": "code",
      "metadata": {
        "id": "f3YrDsONxvJq",
        "colab_type": "code",
        "colab": {
          "base_uri": "https://localhost:8080/",
          "height": 34
        },
        "outputId": "637e6065-2dee-4131-a60a-3b4f5ff36ca7"
      },
      "source": [
        "# Media, desviación estandar, suma, suma de columnas, suma de filas\n",
        "print(arreglo.mean(), arreglo.std(), arreglo.sum(), arreglo.sum(axis=0), arreglo.sum(axis=1))"
      ],
      "execution_count": 57,
      "outputs": [
        {
          "output_type": "stream",
          "text": [
            "4.5 2.29128784747792 36 [ 6  8 10 12] [10 26]\n"
          ],
          "name": "stdout"
        }
      ]
    },
    {
      "cell_type": "markdown",
      "metadata": {
        "id": "S4_KK7_lyKIE",
        "colab_type": "text"
      },
      "source": [
        "**MATPLOTLIB**\n",
        "\n",
        "Matplotlib es una librería completa para crear gráficas animadas e interactivas en Python. (https://matplotlib.org/index.html)"
      ]
    },
    {
      "cell_type": "code",
      "metadata": {
        "id": "mbOvjweixvM4",
        "colab_type": "code",
        "colab": {}
      },
      "source": [
        "# Importar la librería\n",
        "import matplotlib.pyplot as plt"
      ],
      "execution_count": 58,
      "outputs": []
    },
    {
      "cell_type": "code",
      "metadata": {
        "id": "EdAFv0WNxvRW",
        "colab_type": "code",
        "colab": {
          "base_uri": "https://localhost:8080/",
          "height": 265
        },
        "outputId": "24a8fa5a-0308-4588-9a83-f3e5166142f3"
      },
      "source": [
        "# Crear arreglo de 0 a 10 con 50 puntos\n",
        "x = np.linspace(0, 10, 50)\n",
        "# Función sinusoidal\n",
        "sin = np.sin(x)\n",
        "# Imprimir la gráfica\n",
        "plt.plot(x, sin)\n",
        "plt.show()"
      ],
      "execution_count": 59,
      "outputs": [
        {
          "output_type": "display_data",
          "data": {
            "image/png": "[encoded data removed]",
            "text/plain": [
              "<Figure size 432x288 with 1 Axes>"
            ]
          },
          "metadata": {
            "tags": [],
            "needs_background": "light"
          }
        }
      ]
    },
    {
      "cell_type": "code",
      "metadata": {
        "id": "hVtupfAcxvVX",
        "colab_type": "code",
        "colab": {
          "base_uri": "https://localhost:8080/",
          "height": 332
        },
        "outputId": "aabc41ff-364f-46eb-a91d-17cd5bc38c93"
      },
      "source": [
        "# Función cosenoidal\n",
        "cos = np.cos(x)\n",
        "# Imprimir la gráfica\n",
        "plt.plot(x, sin, \"-b\", x, sin, \"ob\", x, cos, \"-r\", x, cos, \"or\")"
      ],
      "execution_count": 60,
      "outputs": [
        {
          "output_type": "execute_result",
          "data": {
            "text/plain": [
              "[<matplotlib.lines.Line2D at 0x7f90b0f38860>,\n",
              " <matplotlib.lines.Line2D at 0x7f90b0f38978>,\n",
              " <matplotlib.lines.Line2D at 0x7f90b0f38b00>,\n",
              " <matplotlib.lines.Line2D at 0x7f90b0f38c50>]"
            ]
          },
          "metadata": {
            "tags": []
          },
          "execution_count": 60
        },
        {
          "output_type": "display_data",
          "data": {
            "image/png": "[encoded data removed]",
            "text/plain": [
              "<Figure size 432x288 with 1 Axes>"
            ]
          },
          "metadata": {
            "tags": [],
            "needs_background": "light"
          }
        }
      ]
    },
    {
      "cell_type": "code",
      "metadata": {
        "id": "P-JhCNbZxvEF",
        "colab_type": "code",
        "colab": {
          "base_uri": "https://localhost:8080/",
          "height": 265
        },
        "outputId": "3cf709f3-f6b9-4a0d-8e2b-2c6b024942ea"
      },
      "source": [
        "# Configuración de la gráfica\n",
        "plt.plot(x, sin, label='sinus', color='blue', linestyle='--', linewidth=2)\n",
        "plt.plot(x, cos, label='cosinus', color='red', linestyle='-', linewidth=2)\n",
        "plt.legend()\n",
        "plt.show()"
      ],
      "execution_count": 61,
      "outputs": [
        {
          "output_type": "display_data",
          "data": {
            "image/png": "[encoded data removed]",
            "text/plain": [
              "<Figure size 432x288 with 1 Axes>"
            ]
          },
          "metadata": {
            "tags": [],
            "needs_background": "light"
          }
        }
      ]
    }
  ]
}