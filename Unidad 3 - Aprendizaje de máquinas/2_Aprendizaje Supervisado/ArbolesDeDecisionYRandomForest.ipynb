{
  "nbformat": 4,
  "nbformat_minor": 0,
  "metadata": {
    "colab": {
      "name": "ArbolesDeDecisionYRandomForest.ipynb",
      "provenance": [],
      "collapsed_sections": [],
      "machine_shape": "hm",
      "include_colab_link": true
    },
    "kernelspec": {
      "display_name": "Python 3",
      "language": "python",
      "name": "python3"
    },
    "language_info": {
      "codemirror_mode": {
        "name": "ipython",
        "version": 3
      },
      "file_extension": ".py",
      "mimetype": "text/x-python",
      "name": "python",
      "nbconvert_exporter": "python",
      "pygments_lexer": "ipython3",
      "version": "3.7.4"
    }
  },
  "cells": [
    {
      "cell_type": "markdown",
      "metadata": {
        "id": "view-in-github",
        "colab_type": "text"
      },
      "source": [
        "<a href=\"https://colab.research.google.com/github/jaguzman/GENERAL-FundamentosEnHerramientasDeTransformacionDigital/blob/master/Unidad%203%20-%20Aprendizaje%20de%20m%C3%A1quinas/2_Aprendizaje%20Supervisado/ArbolesDeDecisionYRandomForest.ipynb\" target=\"_parent\"><img src=\"https://colab.research.google.com/assets/colab-badge.svg\" alt=\"Open In Colab\"/></a>"
      ]
    },
    {
      "cell_type": "markdown",
      "metadata": {
        "_cell_guid": "459ad1ed-0e10-4dd1-a4f1-893ba5368175",
        "_uuid": "08bb7d7c3677ca15a39a3569cef5d2071e9b015e",
        "colab_type": "text",
        "id": "qOyrGlavzu_O"
      },
      "source": [
        "# ÁRBOLES DE DECISIÓN!\n",
        "\n",
        "**Datos Bancarios de Comercialización**\n",
        "\n",
        "Se cuenta con una base de datos de una campaña de comercialización de un banco portugués. Esta campaña se basó en llamadas telefónicas para ofrecer un producto al cliente y él se suscribía o no. El producto que se les ofreció fue un depósito a plazo.\n",
        "\n",
        "Información del dataset: https://archive.ics.uci.edu/ml/datasets/Bank+Marketing\n",
        "\n",
        "[Moro et al., 2014] S. Moro, P. Cortez and P. Rita. A Data-Driven Approach to Predict the Success of Bank Telemarketing. Decision Support Systems, Elsevier, 62:22-31, June 2014\n",
        "\n",
        "**OBJETIVO**\n",
        "\n",
        "Crear un modelo de clasificación, basado en arboles de decisión, que prediga si un cliente se suscribirá a una campaña de comercialización (si/no).\n",
        "\n"
      ]
    },
    {
      "cell_type": "markdown",
      "metadata": {
        "id": "5NPZkLPu3g_v",
        "colab_type": "text"
      },
      "source": [
        "**Contenido**\n",
        "\n",
        "*   Importar librerías\n",
        "*   Base de datos\n",
        "*   Descripción y analítica de datos\n",
        "*   Preparación de los datos para el algoritmo\n",
        "*   Árboles de Decisión\n",
        "    - Clasificador\n",
        "    - Actividad\n",
        "*   Random Forest\n",
        "    - Clasificador\n",
        "    - Actividad"
      ]
    },
    {
      "cell_type": "markdown",
      "metadata": {
        "id": "YvCjSqJw4krR",
        "colab_type": "text"
      },
      "source": [
        "# **LIBRERÍAS**"
      ]
    },
    {
      "cell_type": "code",
      "metadata": {
        "_cell_guid": "9e92f1a3-3e81-4ec6-a567-890827b0555c",
        "_uuid": "e5338e8c3fa6dc8f410d8b868aa78cb54621780b",
        "colab_type": "code",
        "id": "jHCgGXJBzu_P",
        "outputId": "b42f432e-656a-4228-e2ea-bdb38da14058",
        "colab": {
          "base_uri": "https://localhost:8080/",
          "height": 70
        }
      },
      "source": [
        "# Importar las librerías\n",
        "import pandas as pd\n",
        "import numpy as np\n",
        "\n",
        "# Librerías para graficar\n",
        "import seaborn as sns\n",
        "import matplotlib.pyplot as plt\n",
        "from matplotlib.pylab import rcParams\n",
        "import graphviz\n",
        "\n",
        "# Librerías de Aprendizaje de máquinas\n",
        "from sklearn.preprocessing import LabelEncoder\n",
        "from sklearn.model_selection import train_test_split\n",
        "from sklearn import tree\n",
        "from sklearn.ensemble import RandomForestClassifier\n",
        "from sklearn import metrics"
      ],
      "execution_count": 1,
      "outputs": [
        {
          "output_type": "stream",
          "text": [
            "/usr/local/lib/python3.6/dist-packages/statsmodels/tools/_testing.py:19: FutureWarning: pandas.util.testing is deprecated. Use the functions in the public API at pandas.testing instead.\n",
            "  import pandas.util.testing as tm\n"
          ],
          "name": "stderr"
        }
      ]
    },
    {
      "cell_type": "markdown",
      "metadata": {
        "id": "N26Hnv6g4oWs",
        "colab_type": "text"
      },
      "source": [
        "# **BASE DE DATOS**"
      ]
    },
    {
      "cell_type": "code",
      "metadata": {
        "id": "R8Gwj22TnWFp",
        "colab_type": "code",
        "outputId": "c5b02099-55c4-4ac8-b25a-4acd3823ec34",
        "colab": {
          "base_uri": "https://localhost:8080/",
          "height": 271
        }
      },
      "source": [
        "# Leer los datos desde el GitHub\n",
        "bank = pd.read_csv(\n",
        "    \"https://raw.githubusercontent.com/jaguzman/dataSets/master/datasets/bank.csv\",\n",
        "    sep = ',',         # Se especifica el separador de los datos\n",
        "    thousands = None,  # Se especifica el separador de miles\n",
        "    decimal = '.')     # Se especifica el separador de los decimales\n",
        "\n",
        "# Imprimir el tamaño de la base de datos\n",
        "print(bank.shape)\n",
        "# Imprimir las primeras 7 líneas\n",
        "bank.head(7)"
      ],
      "execution_count": 2,
      "outputs": [
        {
          "output_type": "stream",
          "text": [
            "(11162, 17)\n"
          ],
          "name": "stdout"
        },
        {
          "output_type": "execute_result",
          "data": {
            "text/html": [
              "<div>\n",
              "<style scoped>\n",
              "    .dataframe tbody tr th:only-of-type {\n",
              "        vertical-align: middle;\n",
              "    }\n",
              "\n",
              "    .dataframe tbody tr th {\n",
              "        vertical-align: top;\n",
              "    }\n",
              "\n",
              "    .dataframe thead th {\n",
              "        text-align: right;\n",
              "    }\n",
              "</style>\n",
              "<table border=\"1\" class=\"dataframe\">\n",
              "  <thead>\n",
              "    <tr style=\"text-align: right;\">\n",
              "      <th></th>\n",
              "      <th>age</th>\n",
              "      <th>job</th>\n",
              "      <th>marital</th>\n",
              "      <th>education</th>\n",
              "      <th>default</th>\n",
              "      <th>balance</th>\n",
              "      <th>housing</th>\n",
              "      <th>loan</th>\n",
              "      <th>contact</th>\n",
              "      <th>day</th>\n",
              "      <th>month</th>\n",
              "      <th>duration</th>\n",
              "      <th>campaign</th>\n",
              "      <th>pdays</th>\n",
              "      <th>previous</th>\n",
              "      <th>poutcome</th>\n",
              "      <th>deposit</th>\n",
              "    </tr>\n",
              "  </thead>\n",
              "  <tbody>\n",
              "    <tr>\n",
              "      <th>0</th>\n",
              "      <td>59</td>\n",
              "      <td>admin.</td>\n",
              "      <td>married</td>\n",
              "      <td>secondary</td>\n",
              "      <td>no</td>\n",
              "      <td>2343</td>\n",
              "      <td>yes</td>\n",
              "      <td>no</td>\n",
              "      <td>unknown</td>\n",
              "      <td>5</td>\n",
              "      <td>may</td>\n",
              "      <td>1042</td>\n",
              "      <td>1</td>\n",
              "      <td>-1</td>\n",
              "      <td>0</td>\n",
              "      <td>unknown</td>\n",
              "      <td>yes</td>\n",
              "    </tr>\n",
              "    <tr>\n",
              "      <th>1</th>\n",
              "      <td>56</td>\n",
              "      <td>admin.</td>\n",
              "      <td>married</td>\n",
              "      <td>secondary</td>\n",
              "      <td>no</td>\n",
              "      <td>45</td>\n",
              "      <td>no</td>\n",
              "      <td>no</td>\n",
              "      <td>unknown</td>\n",
              "      <td>5</td>\n",
              "      <td>may</td>\n",
              "      <td>1467</td>\n",
              "      <td>1</td>\n",
              "      <td>-1</td>\n",
              "      <td>0</td>\n",
              "      <td>unknown</td>\n",
              "      <td>yes</td>\n",
              "    </tr>\n",
              "    <tr>\n",
              "      <th>2</th>\n",
              "      <td>41</td>\n",
              "      <td>technician</td>\n",
              "      <td>married</td>\n",
              "      <td>secondary</td>\n",
              "      <td>no</td>\n",
              "      <td>1270</td>\n",
              "      <td>yes</td>\n",
              "      <td>no</td>\n",
              "      <td>unknown</td>\n",
              "      <td>5</td>\n",
              "      <td>may</td>\n",
              "      <td>1389</td>\n",
              "      <td>1</td>\n",
              "      <td>-1</td>\n",
              "      <td>0</td>\n",
              "      <td>unknown</td>\n",
              "      <td>yes</td>\n",
              "    </tr>\n",
              "    <tr>\n",
              "      <th>3</th>\n",
              "      <td>55</td>\n",
              "      <td>services</td>\n",
              "      <td>married</td>\n",
              "      <td>secondary</td>\n",
              "      <td>no</td>\n",
              "      <td>2476</td>\n",
              "      <td>yes</td>\n",
              "      <td>no</td>\n",
              "      <td>unknown</td>\n",
              "      <td>5</td>\n",
              "      <td>may</td>\n",
              "      <td>579</td>\n",
              "      <td>1</td>\n",
              "      <td>-1</td>\n",
              "      <td>0</td>\n",
              "      <td>unknown</td>\n",
              "      <td>yes</td>\n",
              "    </tr>\n",
              "    <tr>\n",
              "      <th>4</th>\n",
              "      <td>54</td>\n",
              "      <td>admin.</td>\n",
              "      <td>married</td>\n",
              "      <td>tertiary</td>\n",
              "      <td>no</td>\n",
              "      <td>184</td>\n",
              "      <td>no</td>\n",
              "      <td>no</td>\n",
              "      <td>unknown</td>\n",
              "      <td>5</td>\n",
              "      <td>may</td>\n",
              "      <td>673</td>\n",
              "      <td>2</td>\n",
              "      <td>-1</td>\n",
              "      <td>0</td>\n",
              "      <td>unknown</td>\n",
              "      <td>yes</td>\n",
              "    </tr>\n",
              "    <tr>\n",
              "      <th>5</th>\n",
              "      <td>42</td>\n",
              "      <td>management</td>\n",
              "      <td>single</td>\n",
              "      <td>tertiary</td>\n",
              "      <td>no</td>\n",
              "      <td>0</td>\n",
              "      <td>yes</td>\n",
              "      <td>yes</td>\n",
              "      <td>unknown</td>\n",
              "      <td>5</td>\n",
              "      <td>may</td>\n",
              "      <td>562</td>\n",
              "      <td>2</td>\n",
              "      <td>-1</td>\n",
              "      <td>0</td>\n",
              "      <td>unknown</td>\n",
              "      <td>yes</td>\n",
              "    </tr>\n",
              "    <tr>\n",
              "      <th>6</th>\n",
              "      <td>56</td>\n",
              "      <td>management</td>\n",
              "      <td>married</td>\n",
              "      <td>tertiary</td>\n",
              "      <td>no</td>\n",
              "      <td>830</td>\n",
              "      <td>yes</td>\n",
              "      <td>yes</td>\n",
              "      <td>unknown</td>\n",
              "      <td>6</td>\n",
              "      <td>may</td>\n",
              "      <td>1201</td>\n",
              "      <td>1</td>\n",
              "      <td>-1</td>\n",
              "      <td>0</td>\n",
              "      <td>unknown</td>\n",
              "      <td>yes</td>\n",
              "    </tr>\n",
              "  </tbody>\n",
              "</table>\n",
              "</div>"
            ],
            "text/plain": [
              "   age         job  marital  education  ... pdays  previous poutcome deposit\n",
              "0   59      admin.  married  secondary  ...    -1         0  unknown     yes\n",
              "1   56      admin.  married  secondary  ...    -1         0  unknown     yes\n",
              "2   41  technician  married  secondary  ...    -1         0  unknown     yes\n",
              "3   55    services  married  secondary  ...    -1         0  unknown     yes\n",
              "4   54      admin.  married   tertiary  ...    -1         0  unknown     yes\n",
              "5   42  management   single   tertiary  ...    -1         0  unknown     yes\n",
              "6   56  management  married   tertiary  ...    -1         0  unknown     yes\n",
              "\n",
              "[7 rows x 17 columns]"
            ]
          },
          "metadata": {
            "tags": []
          },
          "execution_count": 2
        }
      ]
    },
    {
      "cell_type": "markdown",
      "metadata": {
        "colab_type": "text",
        "id": "Qfe6eJXuH_Ib"
      },
      "source": [
        "**DESCRIPCIÓN DE LA BASE DE DATOS**\n",
        "\n",
        "**Datos bancarios del cliente**\n",
        "\n",
        "**[1] Age:** edad  (numérico)\n",
        "\n",
        "**[2] Job:** tipo de trabajo (categórico) [admin, technician, services, management, retired, blue-collar, unemployed, entrepreneur, housemaid, unknown, self-employed, student]\n",
        "\n",
        "**[3] Marital:** estado civil (categórico) [married, single, divorced]\n",
        "\n",
        "**[4] Education:** educación (categórica) [secondary, tertiary, primary, unknown] ['basic.4y', 'basic.6y', 'basic.9y', 'high.school', 'analfabeto', 'professional.course', 'university.degree', 'unknown']\n",
        "\n",
        "**[5] Default:** ¿tiene crédito en incumplimiento? (categórico) [yes, no]\n",
        "\n",
        "**[6] Balance:** balance financiero de la persona (numérico)\n",
        "\n",
        "**[7] Housing:** ¿tiene préstamo de vivienda? (categórico) [yes, no]\n",
        "\n",
        "**[8] Loan:** ¿tiene préstamo personal? (categórico) [yes, no]\n",
        "\n",
        "**Información relacionada con el último contacto con el cliente**\n",
        "\n",
        "**[9] Contact:** medio de comunicación de contacto (categórico) [unknown, cellular, telephone]\n",
        "\n",
        "**[10] Month:** mes del año del último contacto (categórico) [jan, feb, mar, apr, may, jun, jul, aug, sep, oct, nov, dec]\n",
        "\n",
        "**[11] Day:** Día del mes del último contacto (numérico) [1-31]\n",
        "\n",
        "**[12] Duration:** duración de la llamada del último contacto, en segundos (numérico)\n",
        "\n",
        "**Otra información**\n",
        "\n",
        "**[13] Campaing:** número de contactos realizados durante esta campaña (numérico)\n",
        "\n",
        "**[14] Pdays:** número de días después de que el cliente fue contactado por última vez  (numérico) (999 significa que el cliente no ha sido contactado)\n",
        "\n",
        "**[15] Previous:** número de contactos realizados antes de esta campaña (numérico)\n",
        "\n",
        "**[16] Poutcome:**  resultado de la campaña de marketing anterior (categórico) [unknown, other, failure, success]\n",
        "\n",
        "**Variable de salida**\n",
        "\n",
        "**[17] deposit:** ¿El cliente se suscribió? (categórico) [yes, no]\n"
      ]
    },
    {
      "cell_type": "code",
      "metadata": {
        "colab_type": "code",
        "id": "QXKqD4aXBwsu",
        "outputId": "5601f37e-7cf5-407e-96a5-fc21b5db0e11",
        "colab": {
          "base_uri": "https://localhost:8080/",
          "height": 420
        }
      },
      "source": [
        "# Información de la base de datos: nómbre de la columba, conteo de datos Null y tipo de datos\n",
        "bank.info()"
      ],
      "execution_count": 3,
      "outputs": [
        {
          "output_type": "stream",
          "text": [
            "<class 'pandas.core.frame.DataFrame'>\n",
            "RangeIndex: 11162 entries, 0 to 11161\n",
            "Data columns (total 17 columns):\n",
            " #   Column     Non-Null Count  Dtype \n",
            "---  ------     --------------  ----- \n",
            " 0   age        11162 non-null  int64 \n",
            " 1   job        11162 non-null  object\n",
            " 2   marital    11162 non-null  object\n",
            " 3   education  11162 non-null  object\n",
            " 4   default    11162 non-null  object\n",
            " 5   balance    11162 non-null  int64 \n",
            " 6   housing    11162 non-null  object\n",
            " 7   loan       11162 non-null  object\n",
            " 8   contact    11162 non-null  object\n",
            " 9   day        11162 non-null  int64 \n",
            " 10  month      11162 non-null  object\n",
            " 11  duration   11162 non-null  int64 \n",
            " 12  campaign   11162 non-null  int64 \n",
            " 13  pdays      11162 non-null  int64 \n",
            " 14  previous   11162 non-null  int64 \n",
            " 15  poutcome   11162 non-null  object\n",
            " 16  deposit    11162 non-null  object\n",
            "dtypes: int64(7), object(10)\n",
            "memory usage: 1.4+ MB\n"
          ],
          "name": "stdout"
        }
      ]
    },
    {
      "cell_type": "markdown",
      "metadata": {
        "id": "Rn-GhiGH6rV0",
        "colab_type": "text"
      },
      "source": [
        "La base de datos no tiene datos nulos. En el caso de que existieran datos nulos se debe tomar alguna decisión, debido a que los algoritmos de aprendizaje de máquina no aceptan datos nulos. Algunas acciones son:\n",
        "\n",
        "* Eliminar las filas que poseen los datos nulos.\n",
        "* Eliminar la columna completa.\n",
        "* Reemplazar los datos nulos por algún valor como la media, la mediana, la moda, valor cero, etc.\n",
        "\n",
        "Todo dependerá del caso específico y es decisión del analista de datos."
      ]
    },
    {
      "cell_type": "markdown",
      "metadata": {
        "id": "1rkqA0KYsPbF",
        "colab_type": "text"
      },
      "source": [
        "# **DESCRIPCIÓN Y ANALÍTICA DE DATOS**"
      ]
    },
    {
      "cell_type": "markdown",
      "metadata": {
        "id": "iyb8n6acSKsV",
        "colab_type": "text"
      },
      "source": [
        "Graficar la cantidad de personas que se suscribieron y las que no."
      ]
    },
    {
      "cell_type": "code",
      "metadata": {
        "colab_type": "code",
        "id": "zkfkCWW4F4f4",
        "outputId": "72e8d5ea-23a1-43de-8b99-28f5164bdfce",
        "colab": {
          "base_uri": "https://localhost:8080/",
          "height": 296
        }
      },
      "source": [
        "# Esta función realiza una suma de cada categoría y luego las grafica \n",
        "sns.countplot(bank['deposit']) "
      ],
      "execution_count": 4,
      "outputs": [
        {
          "output_type": "execute_result",
          "data": {
            "text/plain": [
              "<matplotlib.axes._subplots.AxesSubplot at 0x7f1350b0b1d0>"
            ]
          },
          "metadata": {
            "tags": []
          },
          "execution_count": 4
        },
        {
          "output_type": "display_data",
          "data": {
            "image/png": "[encoded data removed]",
            "text/plain": [
              "<Figure size 432x288 with 1 Axes>"
            ]
          },
          "metadata": {
            "tags": [],
            "needs_background": "light"
          }
        }
      ]
    },
    {
      "cell_type": "markdown",
      "metadata": {
        "id": "pLwB4BLMSQuK",
        "colab_type": "text"
      },
      "source": [
        "Otra gráfica para comparar la columna 'deposit'."
      ]
    },
    {
      "cell_type": "code",
      "metadata": {
        "id": "nZMD8BVG8HNM",
        "colab_type": "code",
        "outputId": "6c883ac0-871a-4e6a-e1fd-6161edc26b02",
        "colab": {
          "base_uri": "https://localhost:8080/",
          "height": 344
        }
      },
      "source": [
        "# Tamaño de la imagen\n",
        "plt.figure(figsize=(5,5)) \n",
        "# Título de la imagen\n",
        "plt.title('Información de suscripción', fontsize=20) \n",
        "# Gráficar\n",
        "bank[\"deposit\"].value_counts().plot.pie(explode=[0,0.25], autopct='%1.2f%%', shadow=True, colors=[\"#FA5858\", \"#64FE2E\"], fontsize=14, startangle=25)\n",
        "# explode: separación entre las franjas de la gráfica\n",
        "# autopct: valor numérico de cada porción\n",
        "# shadow: sombras en las gráficas\n",
        "# colors: colores de la gáfica\n",
        "# fontsize: tamaño de la letra\n",
        "# startangle: rotar la gráfica\n",
        "# Consultra la librería para encontrar toda la infomación de los parámetros que se pueden modificar: https://matplotlib.org/3.1.1/api/_as_gen/matplotlib.pyplot.pie.html"
      ],
      "execution_count": 5,
      "outputs": [
        {
          "output_type": "execute_result",
          "data": {
            "text/plain": [
              "<matplotlib.axes._subplots.AxesSubplot at 0x7f1350a3cd68>"
            ]
          },
          "metadata": {
            "tags": []
          },
          "execution_count": 5
        },
        {
          "output_type": "display_data",
          "data": {
            "image/png": "[encoded data removed]",
            "text/plain": [
              "<Figure size 360x360 with 1 Axes>"
            ]
          },
          "metadata": {
            "tags": []
          }
        }
      ]
    },
    {
      "cell_type": "markdown",
      "metadata": {
        "id": "0JdvDx4W3CKS",
        "colab_type": "text"
      },
      "source": [
        "Se observa que la base de datos está balanceada, es decir, hay casi la misma cantidad de datos en la clase 'yes' que en la clase 'no'. \n",
        "\n",
        "Idealmente se espera que la base de datos tenga la misma cantidad de casos para las clases. Para cuando la base de datos está desbalanceada se puede:\n",
        "\n",
        "* Trabajar el algoritmo de aprendizaje de máquinas con los datos existentes.\n",
        "* Eliminar datos de la clase que posee más casos.\n",
        "* Analizar la posibilidad de obtener más datos.\n",
        "* En algunos casos se pueden implementar estrategias para aumentar los datos, por ejemplo, en procesamiento de imágenes, rotar la imagen.\n",
        "\n",
        "Todo dependerá del contexto y del problema. Para este caso en particular se tomarán todos los datos."
      ]
    },
    {
      "cell_type": "markdown",
      "metadata": {
        "id": "u_xhdKuoTRGV",
        "colab_type": "text"
      },
      "source": [
        "A continuación, vamos a ver una gráfica de la distribución de los clientes con respecto a su edad."
      ]
    },
    {
      "cell_type": "code",
      "metadata": {
        "_cell_guid": "acc641bd-9106-4ad0-9bad-f2697c928a7b",
        "_uuid": "abb417d0393ff2fc1aabb4de00e3abdf62a6bee5",
        "colab_type": "code",
        "outputId": "0e15dfff-a757-4272-a452-6990fe794246",
        "id": "e3gJWxSW9Vzp",
        "colab": {
          "base_uri": "https://localhost:8080/",
          "height": 319
        }
      },
      "source": [
        "# crear las variables para la gráfica de la figura y los ejes\n",
        "fig, ax = plt.subplots() \n",
        "# definir el tamaño de la gráfica\n",
        "fig.set_size_inches(20, 4) \n",
        "# Columna de la base de datos que se graficará\n",
        "sns.countplot(x='age', data = bank) \n",
        "# eje x\n",
        "ax.set_xlabel('Edad', fontsize=15) \n",
        "# eje y\n",
        "ax.set_ylabel('Conteo', fontsize=15) \n",
        "# título de la gráfica\n",
        "ax.set_title('Distribución de la edad de los clientes', fontsize=15) "
      ],
      "execution_count": 6,
      "outputs": [
        {
          "output_type": "execute_result",
          "data": {
            "text/plain": [
              "Text(0.5, 1.0, 'Distribución de la edad de los clientes')"
            ]
          },
          "metadata": {
            "tags": []
          },
          "execution_count": 6
        },
        {
          "output_type": "display_data",
          "data": {
            "image/png": "[encoded data removed]",
            "text/plain": [
              "<Figure size 1440x288 with 1 Axes>"
            ]
          },
          "metadata": {
            "tags": [],
            "needs_background": "light"
          }
        }
      ]
    },
    {
      "cell_type": "markdown",
      "metadata": {
        "id": "FDoUNiDvTX-y",
        "colab_type": "text"
      },
      "source": [
        "Gráfica de la cantidad de personas por sus trabajos."
      ]
    },
    {
      "cell_type": "code",
      "metadata": {
        "id": "CdW7t6HHApbC",
        "colab_type": "code",
        "outputId": "c41424fd-2a8c-4f0e-c8e8-00e4833dbad3",
        "colab": {
          "base_uri": "https://localhost:8080/",
          "height": 296
        }
      },
      "source": [
        "# Tamaño de la gráfica\n",
        "plt.figure(figsize=(20,4))\n",
        "# Suma y gráfica de los tipos de trabajo\n",
        "sns.countplot(x='job', data = bank)"
      ],
      "execution_count": 7,
      "outputs": [
        {
          "output_type": "execute_result",
          "data": {
            "text/plain": [
              "<matplotlib.axes._subplots.AxesSubplot at 0x7f1360c65e48>"
            ]
          },
          "metadata": {
            "tags": []
          },
          "execution_count": 7
        },
        {
          "output_type": "display_data",
          "data": {
            "image/png": "[encoded data removed]",
            "text/plain": [
              "<Figure size 1440x288 with 1 Axes>"
            ]
          },
          "metadata": {
            "tags": [],
            "needs_background": "light"
          }
        }
      ]
    },
    {
      "cell_type": "markdown",
      "metadata": {
        "id": "7JODfEhTTmqq",
        "colab_type": "text"
      },
      "source": [
        "Graficar la relación entre los trabajos y la respuesta final del cliente."
      ]
    },
    {
      "cell_type": "code",
      "metadata": {
        "colab_type": "code",
        "id": "ES4jSbPITVlj",
        "outputId": "3054fd4e-1a47-4630-d7d0-8e2fe8a7db13",
        "colab": {
          "base_uri": "https://localhost:8080/",
          "height": 296
        }
      },
      "source": [
        "# Tamaño de la gráfica\n",
        "plt.figure(figsize=(20,4))\n",
        "# Suma y gráfica de los tipos de trabajo agrupados por la respuesta final del cliente\n",
        "sns.countplot(x=\"job\", hue=\"deposit\", data=bank)"
      ],
      "execution_count": 8,
      "outputs": [
        {
          "output_type": "execute_result",
          "data": {
            "text/plain": [
              "<matplotlib.axes._subplots.AxesSubplot at 0x7f13502c2710>"
            ]
          },
          "metadata": {
            "tags": []
          },
          "execution_count": 8
        },
        {
          "output_type": "display_data",
          "data": {
            "image/png": "[encoded data removed]",
            "text/plain": [
              "<Figure size 1440x288 with 1 Axes>"
            ]
          },
          "metadata": {
            "tags": [],
            "needs_background": "light"
          }
        }
      ]
    },
    {
      "cell_type": "markdown",
      "metadata": {
        "id": "Wxu4LMnKTsfl",
        "colab_type": "text"
      },
      "source": [
        "Graficar la relación entre el estado civil y la respuesta final del cliente."
      ]
    },
    {
      "cell_type": "code",
      "metadata": {
        "id": "b-hyilWbCic7",
        "colab_type": "code",
        "outputId": "559d3d18-da34-4e6d-f068-663e98e9b04b",
        "colab": {
          "base_uri": "https://localhost:8080/",
          "height": 296
        }
      },
      "source": [
        "# Tamaño de la gráfica\n",
        "plt.figure(figsize=(10,4))\n",
        "# Suma y gráfica del estado civil y agrupados por la respuesta final del cliente\n",
        "sns.countplot(x=\"marital\", hue=\"deposit\", data=bank)"
      ],
      "execution_count": 9,
      "outputs": [
        {
          "output_type": "execute_result",
          "data": {
            "text/plain": [
              "<matplotlib.axes._subplots.AxesSubplot at 0x7f1350344630>"
            ]
          },
          "metadata": {
            "tags": []
          },
          "execution_count": 9
        },
        {
          "output_type": "display_data",
          "data": {
            "image/png": "[encoded data removed]",
            "text/plain": [
              "<Figure size 720x288 with 1 Axes>"
            ]
          },
          "metadata": {
            "tags": [],
            "needs_background": "light"
          }
        }
      ]
    },
    {
      "cell_type": "markdown",
      "metadata": {
        "id": "oc88ZF3NVmdl",
        "colab_type": "text"
      },
      "source": [
        "Graficar la relación el nivel de escolaridad y la respuesta final del cliente."
      ]
    },
    {
      "cell_type": "code",
      "metadata": {
        "id": "6nI0dwCfCijC",
        "colab_type": "code",
        "outputId": "a57e8c19-bd9d-4dfd-e574-9dba69eded52",
        "colab": {
          "base_uri": "https://localhost:8080/",
          "height": 296
        }
      },
      "source": [
        "# Tamaño de la gráfica\n",
        "plt.figure(figsize=(10,4))\n",
        "# Suma y gráfica del nivel de escolaridad y agrupados por la respuesta final del cliente\n",
        "sns.countplot(x=\"education\", hue=\"deposit\", data=bank)"
      ],
      "execution_count": 10,
      "outputs": [
        {
          "output_type": "execute_result",
          "data": {
            "text/plain": [
              "<matplotlib.axes._subplots.AxesSubplot at 0x7f13603fe3c8>"
            ]
          },
          "metadata": {
            "tags": []
          },
          "execution_count": 10
        },
        {
          "output_type": "display_data",
          "data": {
            "image/png": "[encoded data removed]",
            "text/plain": [
              "<Figure size 720x288 with 1 Axes>"
            ]
          },
          "metadata": {
            "tags": [],
            "needs_background": "light"
          }
        }
      ]
    },
    {
      "cell_type": "markdown",
      "metadata": {
        "id": "_5G6zdlRVp0S",
        "colab_type": "text"
      },
      "source": [
        "Actividad: Graficar la relación entre si tiene crédito en incumplimiento ('default') y la respuesta final del cliente."
      ]
    },
    {
      "cell_type": "code",
      "metadata": {
        "id": "QvwYNZ9eCil0",
        "colab_type": "code",
        "outputId": "668042a3-30dc-4123-f18d-d51f1d6f7cd4",
        "colab": {
          "base_uri": "https://localhost:8080/",
          "height": 299
        }
      },
      "source": [
        "# Tamaño de la gráfica\n",
        "plt.figure(figsize=(10,4))\n",
        "# Suma y gráfica del incumplimiento y agrupados por la respuesta final del cliente\n",
        "sns.countplot(x=\"default\", hue=\"deposit\", data=bank)"
      ],
      "execution_count": 11,
      "outputs": [
        {
          "output_type": "execute_result",
          "data": {
            "text/plain": [
              "<matplotlib.axes._subplots.AxesSubplot at 0x7f135018b128>"
            ]
          },
          "metadata": {
            "tags": []
          },
          "execution_count": 11
        },
        {
          "output_type": "display_data",
          "data": {
            "image/png": "[encoded data removed]",
            "text/plain": [
              "<Figure size 720x288 with 1 Axes>"
            ]
          },
          "metadata": {
            "tags": [],
            "needs_background": "light"
          }
        }
      ]
    },
    {
      "cell_type": "markdown",
      "metadata": {
        "id": "EzU9HqJ7Vsus",
        "colab_type": "text"
      },
      "source": [
        "Actividad: Graficar la relación entre si tiene crédito de vivienda ('housing') y la respuesta final del cliente."
      ]
    },
    {
      "cell_type": "code",
      "metadata": {
        "id": "byW9yEOnCir0",
        "colab_type": "code",
        "outputId": "e6e31e53-eced-44a1-f1d3-7553f249f742",
        "colab": {
          "base_uri": "https://localhost:8080/",
          "height": 299
        }
      },
      "source": [
        "# Tamaño de la gráfica\n",
        "plt.figure(figsize=(10,4))\n",
        "# Suma y gráfica de si tiene crédito de vivienda y agrupados por la respuesta final del cliente\n",
        "sns.countplot(x=\"housing\", hue=\"deposit\", data=bank)"
      ],
      "execution_count": 12,
      "outputs": [
        {
          "output_type": "execute_result",
          "data": {
            "text/plain": [
              "<matplotlib.axes._subplots.AxesSubplot at 0x7f13500a8a20>"
            ]
          },
          "metadata": {
            "tags": []
          },
          "execution_count": 12
        },
        {
          "output_type": "display_data",
          "data": {
            "image/png": "[encoded data removed]",
            "text/plain": [
              "<Figure size 720x288 with 1 Axes>"
            ]
          },
          "metadata": {
            "tags": [],
            "needs_background": "light"
          }
        }
      ]
    },
    {
      "cell_type": "markdown",
      "metadata": {
        "id": "K7m2-ZR5VvZw",
        "colab_type": "text"
      },
      "source": [
        "Actividad: Graficar la relación entre si tiene crédito personal ('loan') y la respuesta final del cliente."
      ]
    },
    {
      "cell_type": "code",
      "metadata": {
        "id": "cooo3lLFCipG",
        "colab_type": "code",
        "outputId": "b35af601-f221-4154-9d34-3ec93989b687",
        "colab": {
          "base_uri": "https://localhost:8080/",
          "height": 296
        }
      },
      "source": [
        "# Tamaño de la gráfica\n",
        "plt.figure(figsize=(10,4))\n",
        "# Suma y gráfica de si tiene crédito personal y agrupados por la respuesta final del cliente\n",
        "sns.countplot(x=\"loan\", hue=\"deposit\", data=bank)"
      ],
      "execution_count": 13,
      "outputs": [
        {
          "output_type": "execute_result",
          "data": {
            "text/plain": [
              "<matplotlib.axes._subplots.AxesSubplot at 0x7f1350383400>"
            ]
          },
          "metadata": {
            "tags": []
          },
          "execution_count": 13
        },
        {
          "output_type": "display_data",
          "data": {
            "image/png": "[encoded data removed]",
            "text/plain": [
              "<Figure size 720x288 with 1 Axes>"
            ]
          },
          "metadata": {
            "tags": [],
            "needs_background": "light"
          }
        }
      ]
    },
    {
      "cell_type": "markdown",
      "metadata": {
        "id": "cmnKHOYlVwwi",
        "colab_type": "text"
      },
      "source": [
        "Ver la distribución de los datos de 'contact', 'month' y 'day'. Todos en una misma figura."
      ]
    },
    {
      "cell_type": "code",
      "metadata": {
        "id": "_RZC4U7NEHE0",
        "colab_type": "code",
        "outputId": "09da87df-75b6-4884-d63f-0fed18cc5631",
        "colab": {
          "base_uri": "https://localhost:8080/",
          "height": 279
        }
      },
      "source": [
        "# Definición de figura con 3 gráficas de 1x3 y se define el tamaño de la figura\n",
        "fig, (ax1, ax2, ax3) = plt.subplots(nrows = 1, ncols = 3, figsize = (24,4))\n",
        "# Gráfica 1: Suma de los tipos de contacto\n",
        "sns.countplot(bank['contact'], ax = ax1)\n",
        "# Gráfica 2: suma de los meses de contacto\n",
        "sns.countplot(bank['month'], ax = ax2, order = ['jan','feb', 'mar', 'apr', 'may', 'jun', 'jul', 'aug', 'sep', 'oct', 'nov', 'dec'])\n",
        "# Gráfica 3: suma de los días del mes de contacto\n",
        "sns.countplot(bank['day'], ax = ax3)\n",
        "plt.subplots_adjust(wspace=0.25)"
      ],
      "execution_count": 14,
      "outputs": [
        {
          "output_type": "display_data",
          "data": {
            "image/png": "[encoded data removed]",
            "text/plain": [
              "<Figure size 1728x288 with 3 Axes>"
            ]
          },
          "metadata": {
            "tags": [],
            "needs_background": "light"
          }
        }
      ]
    },
    {
      "cell_type": "markdown",
      "metadata": {
        "id": "fMLTBvULWN5d",
        "colab_type": "text"
      },
      "source": [
        "Ahora se grafica para una variabale numérica la relación entre la duración de la llamada y la respuesta final del cliente."
      ]
    },
    {
      "cell_type": "code",
      "metadata": {
        "id": "PC1GKuLGM2GR",
        "colab_type": "code",
        "outputId": "522f4de5-95ab-4698-e767-f1427ecc191b",
        "colab": {
          "base_uri": "https://localhost:8080/",
          "height": 279
        }
      },
      "source": [
        "# Se hace una copia de la duración de la llamada\n",
        "bank['durationTime'] = bank['duration'].copy()\n",
        "# Si la duración de la llamada dura más de 371 segundos (6.1 min) se marca como 1, sino como 0\n",
        "bank['durationTime'] = bank['durationTime'].map(lambda x: '+ 6.1 min' if x > 420 else '- 6.1 min')\n",
        "# Agrupar por respuesta final y duración de la llamada\n",
        "label = bank.deposit\n",
        "sns.countplot(label,hue=bank['durationTime'])\n",
        "# Se elimina la comuna temporal durationTime\n",
        "bank.drop(columns = [\"durationTime\"],inplace=True)"
      ],
      "execution_count": 15,
      "outputs": [
        {
          "output_type": "display_data",
          "data": {
            "image/png": "[encoded data removed]",
            "text/plain": [
              "<Figure size 432x288 with 1 Axes>"
            ]
          },
          "metadata": {
            "tags": [],
            "needs_background": "light"
          }
        }
      ]
    },
    {
      "cell_type": "markdown",
      "metadata": {
        "id": "lb25ERXHWsfo",
        "colab_type": "text"
      },
      "source": [
        "Ver la distribución de los datos de la las variables numéricas 'campaign', 'pdays', 'previous'."
      ]
    },
    {
      "cell_type": "code",
      "metadata": {
        "id": "jrdxvC3FNy-8",
        "colab_type": "code",
        "outputId": "2605cb85-fb9c-4b14-ff7f-10983fc3b6ed",
        "colab": {
          "base_uri": "https://localhost:8080/",
          "height": 279
        }
      },
      "source": [
        "# Definición de figura con 3 gráficas de 1x3 y se define el tamaño de la figura\n",
        "fig, (ax1, ax2, ax3) = plt.subplots(nrows = 1, ncols = 3, figsize = (22,4))\n",
        "# Gráfica 1: distribución de los valores de campaing\n",
        "sns.distplot(bank.campaign, ax = ax1)\n",
        "# Gráfica 2: distribución de los valores de pdays\n",
        "sns.distplot(bank.pdays, ax = ax2)\n",
        "# Gráfica 3: distribución de los valores de previous\n",
        "sns.distplot(bank.previous, ax = ax3)\n",
        "plt.subplots_adjust(wspace=0.25)"
      ],
      "execution_count": 16,
      "outputs": [
        {
          "output_type": "display_data",
          "data": {
            "image/png": "[encoded data removed]",
            "text/plain": [
              "<Figure size 1584x288 with 3 Axes>"
            ]
          },
          "metadata": {
            "tags": [],
            "needs_background": "light"
          }
        }
      ]
    },
    {
      "cell_type": "markdown",
      "metadata": {
        "id": "JYW5U3-FX5bZ",
        "colab_type": "text"
      },
      "source": [
        "Actividad: ver la distribución de la variabale 'balance'."
      ]
    },
    {
      "cell_type": "code",
      "metadata": {
        "id": "ZYL5jTHUX4wy",
        "colab_type": "code",
        "outputId": "273bb242-2b45-45d1-f7a5-ebae2105db39",
        "colab": {
          "base_uri": "https://localhost:8080/",
          "height": 300
        }
      },
      "source": [
        "# Tamaño de la gráfica\n",
        "plt.figure(figsize=(20,4))\n",
        "# Distribución de los valores de balance\n",
        "sns.distplot(bank.balance)"
      ],
      "execution_count": 17,
      "outputs": [
        {
          "output_type": "execute_result",
          "data": {
            "text/plain": [
              "<matplotlib.axes._subplots.AxesSubplot at 0x7f13502d0e48>"
            ]
          },
          "metadata": {
            "tags": []
          },
          "execution_count": 17
        },
        {
          "output_type": "display_data",
          "data": {
            "image/png": "[encoded data removed]",
            "text/plain": [
              "<Figure size 1440x288 with 1 Axes>"
            ]
          },
          "metadata": {
            "tags": [],
            "needs_background": "light"
          }
        }
      ]
    },
    {
      "cell_type": "markdown",
      "metadata": {
        "id": "LLr8kngNW1DD",
        "colab_type": "text"
      },
      "source": [
        "Actividad: ver la relación de los datos de la variable 'poutcome'."
      ]
    },
    {
      "cell_type": "code",
      "metadata": {
        "id": "Ceo1-Mv5NzSD",
        "colab_type": "code",
        "outputId": "2c7e650c-2bfc-4e8f-d576-5691794e0938",
        "colab": {
          "base_uri": "https://localhost:8080/",
          "height": 296
        }
      },
      "source": [
        "# Tamaño de la gráfica\n",
        "plt.figure(figsize=(20,4))\n",
        "# Suma y gráfica del resultado de la campaña anterior\n",
        "sns.countplot(x='poutcome', data = bank)"
      ],
      "execution_count": 18,
      "outputs": [
        {
          "output_type": "execute_result",
          "data": {
            "text/plain": [
              "<matplotlib.axes._subplots.AxesSubplot at 0x7f134fad12e8>"
            ]
          },
          "metadata": {
            "tags": []
          },
          "execution_count": 18
        },
        {
          "output_type": "display_data",
          "data": {
            "image/png": "[encoded data removed]",
            "text/plain": [
              "<Figure size 1440x288 with 1 Axes>"
            ]
          },
          "metadata": {
            "tags": [],
            "needs_background": "light"
          }
        }
      ]
    },
    {
      "cell_type": "markdown",
      "metadata": {
        "id": "eaUaGCna46if",
        "colab_type": "text"
      },
      "source": [
        "# **PREPARACIÓN DE LOS DATOS PARA EL ALGORITMO**"
      ]
    },
    {
      "cell_type": "markdown",
      "metadata": {
        "id": "3GezSyQ9G1mt",
        "colab_type": "text"
      },
      "source": [
        "**Pasar de variables categórica a variable numéricas**\n",
        "\n",
        "Opción 1: se pueden mapear las variables categóricas a numéricas"
      ]
    },
    {
      "cell_type": "code",
      "metadata": {
        "id": "3epfps-PIzGc",
        "colab_type": "code",
        "outputId": "22d5a76c-7d15-4960-d60c-6d21ff5e7730",
        "colab": {
          "base_uri": "https://localhost:8080/",
          "height": 195
        }
      },
      "source": [
        "# Función lambda para cambiar los valores de 'yes=1' y 'no=0'\n",
        "bank['deposit'] = bank['deposit'].map(lambda x: 1 if x == 'yes' else 0)\n",
        "# Imprimir los primeros 5 datos de la base de datos\n",
        "bank.head()"
      ],
      "execution_count": 19,
      "outputs": [
        {
          "output_type": "execute_result",
          "data": {
            "text/html": [
              "<div>\n",
              "<style scoped>\n",
              "    .dataframe tbody tr th:only-of-type {\n",
              "        vertical-align: middle;\n",
              "    }\n",
              "\n",
              "    .dataframe tbody tr th {\n",
              "        vertical-align: top;\n",
              "    }\n",
              "\n",
              "    .dataframe thead th {\n",
              "        text-align: right;\n",
              "    }\n",
              "</style>\n",
              "<table border=\"1\" class=\"dataframe\">\n",
              "  <thead>\n",
              "    <tr style=\"text-align: right;\">\n",
              "      <th></th>\n",
              "      <th>age</th>\n",
              "      <th>job</th>\n",
              "      <th>marital</th>\n",
              "      <th>education</th>\n",
              "      <th>default</th>\n",
              "      <th>balance</th>\n",
              "      <th>housing</th>\n",
              "      <th>loan</th>\n",
              "      <th>contact</th>\n",
              "      <th>day</th>\n",
              "      <th>month</th>\n",
              "      <th>duration</th>\n",
              "      <th>campaign</th>\n",
              "      <th>pdays</th>\n",
              "      <th>previous</th>\n",
              "      <th>poutcome</th>\n",
              "      <th>deposit</th>\n",
              "    </tr>\n",
              "  </thead>\n",
              "  <tbody>\n",
              "    <tr>\n",
              "      <th>0</th>\n",
              "      <td>59</td>\n",
              "      <td>admin.</td>\n",
              "      <td>married</td>\n",
              "      <td>secondary</td>\n",
              "      <td>no</td>\n",
              "      <td>2343</td>\n",
              "      <td>yes</td>\n",
              "      <td>no</td>\n",
              "      <td>unknown</td>\n",
              "      <td>5</td>\n",
              "      <td>may</td>\n",
              "      <td>1042</td>\n",
              "      <td>1</td>\n",
              "      <td>-1</td>\n",
              "      <td>0</td>\n",
              "      <td>unknown</td>\n",
              "      <td>1</td>\n",
              "    </tr>\n",
              "    <tr>\n",
              "      <th>1</th>\n",
              "      <td>56</td>\n",
              "      <td>admin.</td>\n",
              "      <td>married</td>\n",
              "      <td>secondary</td>\n",
              "      <td>no</td>\n",
              "      <td>45</td>\n",
              "      <td>no</td>\n",
              "      <td>no</td>\n",
              "      <td>unknown</td>\n",
              "      <td>5</td>\n",
              "      <td>may</td>\n",
              "      <td>1467</td>\n",
              "      <td>1</td>\n",
              "      <td>-1</td>\n",
              "      <td>0</td>\n",
              "      <td>unknown</td>\n",
              "      <td>1</td>\n",
              "    </tr>\n",
              "    <tr>\n",
              "      <th>2</th>\n",
              "      <td>41</td>\n",
              "      <td>technician</td>\n",
              "      <td>married</td>\n",
              "      <td>secondary</td>\n",
              "      <td>no</td>\n",
              "      <td>1270</td>\n",
              "      <td>yes</td>\n",
              "      <td>no</td>\n",
              "      <td>unknown</td>\n",
              "      <td>5</td>\n",
              "      <td>may</td>\n",
              "      <td>1389</td>\n",
              "      <td>1</td>\n",
              "      <td>-1</td>\n",
              "      <td>0</td>\n",
              "      <td>unknown</td>\n",
              "      <td>1</td>\n",
              "    </tr>\n",
              "    <tr>\n",
              "      <th>3</th>\n",
              "      <td>55</td>\n",
              "      <td>services</td>\n",
              "      <td>married</td>\n",
              "      <td>secondary</td>\n",
              "      <td>no</td>\n",
              "      <td>2476</td>\n",
              "      <td>yes</td>\n",
              "      <td>no</td>\n",
              "      <td>unknown</td>\n",
              "      <td>5</td>\n",
              "      <td>may</td>\n",
              "      <td>579</td>\n",
              "      <td>1</td>\n",
              "      <td>-1</td>\n",
              "      <td>0</td>\n",
              "      <td>unknown</td>\n",
              "      <td>1</td>\n",
              "    </tr>\n",
              "    <tr>\n",
              "      <th>4</th>\n",
              "      <td>54</td>\n",
              "      <td>admin.</td>\n",
              "      <td>married</td>\n",
              "      <td>tertiary</td>\n",
              "      <td>no</td>\n",
              "      <td>184</td>\n",
              "      <td>no</td>\n",
              "      <td>no</td>\n",
              "      <td>unknown</td>\n",
              "      <td>5</td>\n",
              "      <td>may</td>\n",
              "      <td>673</td>\n",
              "      <td>2</td>\n",
              "      <td>-1</td>\n",
              "      <td>0</td>\n",
              "      <td>unknown</td>\n",
              "      <td>1</td>\n",
              "    </tr>\n",
              "  </tbody>\n",
              "</table>\n",
              "</div>"
            ],
            "text/plain": [
              "   age         job  marital  education  ... pdays  previous poutcome deposit\n",
              "0   59      admin.  married  secondary  ...    -1         0  unknown       1\n",
              "1   56      admin.  married  secondary  ...    -1         0  unknown       1\n",
              "2   41  technician  married  secondary  ...    -1         0  unknown       1\n",
              "3   55    services  married  secondary  ...    -1         0  unknown       1\n",
              "4   54      admin.  married   tertiary  ...    -1         0  unknown       1\n",
              "\n",
              "[5 rows x 17 columns]"
            ]
          },
          "metadata": {
            "tags": []
          },
          "execution_count": 19
        }
      ]
    },
    {
      "cell_type": "markdown",
      "metadata": {
        "id": "6ENRy9gGde6K",
        "colab_type": "text"
      },
      "source": [
        "Opción 2: la función Encoder asigna un número a cada categoría (desde 0 hasta el número de categorías-1)."
      ]
    },
    {
      "cell_type": "code",
      "metadata": {
        "id": "HvVFpRiwGDJr",
        "colab_type": "code",
        "outputId": "5fd9a9df-45c5-4fa2-f716-339dfb34dbd7",
        "colab": {
          "base_uri": "https://localhost:8080/",
          "height": 195
        }
      },
      "source": [
        "# Definición de la función LabelEncoder\n",
        "labelencoder_X = LabelEncoder()\n",
        "# Realizar la conversión a todas las variables categoricas asignandóles un número iniciando desde 0\n",
        "bank['job']      = labelencoder_X.fit_transform(bank['job']) \n",
        "bank['marital']  = labelencoder_X.fit_transform(bank['marital']) \n",
        "bank['education']= labelencoder_X.fit_transform(bank['education']) \n",
        "bank['default']  = labelencoder_X.fit_transform(bank['default']) \n",
        "bank['housing']  = labelencoder_X.fit_transform(bank['housing'])\n",
        "bank['loan']  = labelencoder_X.fit_transform(bank['loan'])\n",
        "bank['contact']  = labelencoder_X.fit_transform(bank['contact']) \n",
        "bank['month']  = labelencoder_X.fit_transform(bank['month'])\n",
        "# Imprimir los primeros 5 datos de la base de datos \n",
        "bank.head()"
      ],
      "execution_count": 20,
      "outputs": [
        {
          "output_type": "execute_result",
          "data": {
            "text/html": [
              "<div>\n",
              "<style scoped>\n",
              "    .dataframe tbody tr th:only-of-type {\n",
              "        vertical-align: middle;\n",
              "    }\n",
              "\n",
              "    .dataframe tbody tr th {\n",
              "        vertical-align: top;\n",
              "    }\n",
              "\n",
              "    .dataframe thead th {\n",
              "        text-align: right;\n",
              "    }\n",
              "</style>\n",
              "<table border=\"1\" class=\"dataframe\">\n",
              "  <thead>\n",
              "    <tr style=\"text-align: right;\">\n",
              "      <th></th>\n",
              "      <th>age</th>\n",
              "      <th>job</th>\n",
              "      <th>marital</th>\n",
              "      <th>education</th>\n",
              "      <th>default</th>\n",
              "      <th>balance</th>\n",
              "      <th>housing</th>\n",
              "      <th>loan</th>\n",
              "      <th>contact</th>\n",
              "      <th>day</th>\n",
              "      <th>month</th>\n",
              "      <th>duration</th>\n",
              "      <th>campaign</th>\n",
              "      <th>pdays</th>\n",
              "      <th>previous</th>\n",
              "      <th>poutcome</th>\n",
              "      <th>deposit</th>\n",
              "    </tr>\n",
              "  </thead>\n",
              "  <tbody>\n",
              "    <tr>\n",
              "      <th>0</th>\n",
              "      <td>59</td>\n",
              "      <td>0</td>\n",
              "      <td>1</td>\n",
              "      <td>1</td>\n",
              "      <td>0</td>\n",
              "      <td>2343</td>\n",
              "      <td>1</td>\n",
              "      <td>0</td>\n",
              "      <td>2</td>\n",
              "      <td>5</td>\n",
              "      <td>8</td>\n",
              "      <td>1042</td>\n",
              "      <td>1</td>\n",
              "      <td>-1</td>\n",
              "      <td>0</td>\n",
              "      <td>unknown</td>\n",
              "      <td>1</td>\n",
              "    </tr>\n",
              "    <tr>\n",
              "      <th>1</th>\n",
              "      <td>56</td>\n",
              "      <td>0</td>\n",
              "      <td>1</td>\n",
              "      <td>1</td>\n",
              "      <td>0</td>\n",
              "      <td>45</td>\n",
              "      <td>0</td>\n",
              "      <td>0</td>\n",
              "      <td>2</td>\n",
              "      <td>5</td>\n",
              "      <td>8</td>\n",
              "      <td>1467</td>\n",
              "      <td>1</td>\n",
              "      <td>-1</td>\n",
              "      <td>0</td>\n",
              "      <td>unknown</td>\n",
              "      <td>1</td>\n",
              "    </tr>\n",
              "    <tr>\n",
              "      <th>2</th>\n",
              "      <td>41</td>\n",
              "      <td>9</td>\n",
              "      <td>1</td>\n",
              "      <td>1</td>\n",
              "      <td>0</td>\n",
              "      <td>1270</td>\n",
              "      <td>1</td>\n",
              "      <td>0</td>\n",
              "      <td>2</td>\n",
              "      <td>5</td>\n",
              "      <td>8</td>\n",
              "      <td>1389</td>\n",
              "      <td>1</td>\n",
              "      <td>-1</td>\n",
              "      <td>0</td>\n",
              "      <td>unknown</td>\n",
              "      <td>1</td>\n",
              "    </tr>\n",
              "    <tr>\n",
              "      <th>3</th>\n",
              "      <td>55</td>\n",
              "      <td>7</td>\n",
              "      <td>1</td>\n",
              "      <td>1</td>\n",
              "      <td>0</td>\n",
              "      <td>2476</td>\n",
              "      <td>1</td>\n",
              "      <td>0</td>\n",
              "      <td>2</td>\n",
              "      <td>5</td>\n",
              "      <td>8</td>\n",
              "      <td>579</td>\n",
              "      <td>1</td>\n",
              "      <td>-1</td>\n",
              "      <td>0</td>\n",
              "      <td>unknown</td>\n",
              "      <td>1</td>\n",
              "    </tr>\n",
              "    <tr>\n",
              "      <th>4</th>\n",
              "      <td>54</td>\n",
              "      <td>0</td>\n",
              "      <td>1</td>\n",
              "      <td>2</td>\n",
              "      <td>0</td>\n",
              "      <td>184</td>\n",
              "      <td>0</td>\n",
              "      <td>0</td>\n",
              "      <td>2</td>\n",
              "      <td>5</td>\n",
              "      <td>8</td>\n",
              "      <td>673</td>\n",
              "      <td>2</td>\n",
              "      <td>-1</td>\n",
              "      <td>0</td>\n",
              "      <td>unknown</td>\n",
              "      <td>1</td>\n",
              "    </tr>\n",
              "  </tbody>\n",
              "</table>\n",
              "</div>"
            ],
            "text/plain": [
              "   age  job  marital  education  ...  pdays  previous  poutcome  deposit\n",
              "0   59    0        1          1  ...     -1         0   unknown        1\n",
              "1   56    0        1          1  ...     -1         0   unknown        1\n",
              "2   41    9        1          1  ...     -1         0   unknown        1\n",
              "3   55    7        1          1  ...     -1         0   unknown        1\n",
              "4   54    0        1          2  ...     -1         0   unknown        1\n",
              "\n",
              "[5 rows x 17 columns]"
            ]
          },
          "metadata": {
            "tags": []
          },
          "execution_count": 20
        }
      ]
    },
    {
      "cell_type": "markdown",
      "metadata": {
        "id": "t8kjkXHtd4pS",
        "colab_type": "text"
      },
      "source": [
        "Opción 3: Convertir variables categóricas a dummies, por cada categoría se crea una columna. Y se marca con 1 cuando la fila corresponda a la categoría."
      ]
    },
    {
      "cell_type": "code",
      "metadata": {
        "id": "-LUnap_EHnM7",
        "colab_type": "code",
        "outputId": "b5f20f92-4825-43e8-fc67-86f8746c9f63",
        "colab": {
          "base_uri": "https://localhost:8080/",
          "height": 195
        }
      },
      "source": [
        "# función para convertir en dummies una columna\n",
        "bank = pd.get_dummies(data=bank, columns = ['poutcome'], prefix = ['p'])\n",
        "# bank['poutcome'] = labelencoder_X.fit_transform(bank['poutcome']) \n",
        "# Imprimir los primeros 5 datos de la base de datos\n",
        "bank.head()"
      ],
      "execution_count": 21,
      "outputs": [
        {
          "output_type": "execute_result",
          "data": {
            "text/html": [
              "<div>\n",
              "<style scoped>\n",
              "    .dataframe tbody tr th:only-of-type {\n",
              "        vertical-align: middle;\n",
              "    }\n",
              "\n",
              "    .dataframe tbody tr th {\n",
              "        vertical-align: top;\n",
              "    }\n",
              "\n",
              "    .dataframe thead th {\n",
              "        text-align: right;\n",
              "    }\n",
              "</style>\n",
              "<table border=\"1\" class=\"dataframe\">\n",
              "  <thead>\n",
              "    <tr style=\"text-align: right;\">\n",
              "      <th></th>\n",
              "      <th>age</th>\n",
              "      <th>job</th>\n",
              "      <th>marital</th>\n",
              "      <th>education</th>\n",
              "      <th>default</th>\n",
              "      <th>balance</th>\n",
              "      <th>housing</th>\n",
              "      <th>loan</th>\n",
              "      <th>contact</th>\n",
              "      <th>day</th>\n",
              "      <th>month</th>\n",
              "      <th>duration</th>\n",
              "      <th>campaign</th>\n",
              "      <th>pdays</th>\n",
              "      <th>previous</th>\n",
              "      <th>deposit</th>\n",
              "      <th>p_failure</th>\n",
              "      <th>p_other</th>\n",
              "      <th>p_success</th>\n",
              "      <th>p_unknown</th>\n",
              "    </tr>\n",
              "  </thead>\n",
              "  <tbody>\n",
              "    <tr>\n",
              "      <th>0</th>\n",
              "      <td>59</td>\n",
              "      <td>0</td>\n",
              "      <td>1</td>\n",
              "      <td>1</td>\n",
              "      <td>0</td>\n",
              "      <td>2343</td>\n",
              "      <td>1</td>\n",
              "      <td>0</td>\n",
              "      <td>2</td>\n",
              "      <td>5</td>\n",
              "      <td>8</td>\n",
              "      <td>1042</td>\n",
              "      <td>1</td>\n",
              "      <td>-1</td>\n",
              "      <td>0</td>\n",
              "      <td>1</td>\n",
              "      <td>0</td>\n",
              "      <td>0</td>\n",
              "      <td>0</td>\n",
              "      <td>1</td>\n",
              "    </tr>\n",
              "    <tr>\n",
              "      <th>1</th>\n",
              "      <td>56</td>\n",
              "      <td>0</td>\n",
              "      <td>1</td>\n",
              "      <td>1</td>\n",
              "      <td>0</td>\n",
              "      <td>45</td>\n",
              "      <td>0</td>\n",
              "      <td>0</td>\n",
              "      <td>2</td>\n",
              "      <td>5</td>\n",
              "      <td>8</td>\n",
              "      <td>1467</td>\n",
              "      <td>1</td>\n",
              "      <td>-1</td>\n",
              "      <td>0</td>\n",
              "      <td>1</td>\n",
              "      <td>0</td>\n",
              "      <td>0</td>\n",
              "      <td>0</td>\n",
              "      <td>1</td>\n",
              "    </tr>\n",
              "    <tr>\n",
              "      <th>2</th>\n",
              "      <td>41</td>\n",
              "      <td>9</td>\n",
              "      <td>1</td>\n",
              "      <td>1</td>\n",
              "      <td>0</td>\n",
              "      <td>1270</td>\n",
              "      <td>1</td>\n",
              "      <td>0</td>\n",
              "      <td>2</td>\n",
              "      <td>5</td>\n",
              "      <td>8</td>\n",
              "      <td>1389</td>\n",
              "      <td>1</td>\n",
              "      <td>-1</td>\n",
              "      <td>0</td>\n",
              "      <td>1</td>\n",
              "      <td>0</td>\n",
              "      <td>0</td>\n",
              "      <td>0</td>\n",
              "      <td>1</td>\n",
              "    </tr>\n",
              "    <tr>\n",
              "      <th>3</th>\n",
              "      <td>55</td>\n",
              "      <td>7</td>\n",
              "      <td>1</td>\n",
              "      <td>1</td>\n",
              "      <td>0</td>\n",
              "      <td>2476</td>\n",
              "      <td>1</td>\n",
              "      <td>0</td>\n",
              "      <td>2</td>\n",
              "      <td>5</td>\n",
              "      <td>8</td>\n",
              "      <td>579</td>\n",
              "      <td>1</td>\n",
              "      <td>-1</td>\n",
              "      <td>0</td>\n",
              "      <td>1</td>\n",
              "      <td>0</td>\n",
              "      <td>0</td>\n",
              "      <td>0</td>\n",
              "      <td>1</td>\n",
              "    </tr>\n",
              "    <tr>\n",
              "      <th>4</th>\n",
              "      <td>54</td>\n",
              "      <td>0</td>\n",
              "      <td>1</td>\n",
              "      <td>2</td>\n",
              "      <td>0</td>\n",
              "      <td>184</td>\n",
              "      <td>0</td>\n",
              "      <td>0</td>\n",
              "      <td>2</td>\n",
              "      <td>5</td>\n",
              "      <td>8</td>\n",
              "      <td>673</td>\n",
              "      <td>2</td>\n",
              "      <td>-1</td>\n",
              "      <td>0</td>\n",
              "      <td>1</td>\n",
              "      <td>0</td>\n",
              "      <td>0</td>\n",
              "      <td>0</td>\n",
              "      <td>1</td>\n",
              "    </tr>\n",
              "  </tbody>\n",
              "</table>\n",
              "</div>"
            ],
            "text/plain": [
              "   age  job  marital  education  ...  p_failure  p_other  p_success  p_unknown\n",
              "0   59    0        1          1  ...          0        0          0          1\n",
              "1   56    0        1          1  ...          0        0          0          1\n",
              "2   41    9        1          1  ...          0        0          0          1\n",
              "3   55    7        1          1  ...          0        0          0          1\n",
              "4   54    0        1          2  ...          0        0          0          1\n",
              "\n",
              "[5 rows x 20 columns]"
            ]
          },
          "metadata": {
            "tags": []
          },
          "execution_count": 21
        }
      ]
    },
    {
      "cell_type": "markdown",
      "metadata": {
        "id": "-jyNMXYxfPTx",
        "colab_type": "text"
      },
      "source": [
        "pdays: Número de días que pasaron después de que el cliente fue contactado por última vez (numérico) (-1 significa que el cliente no fue contactado previamente). Entonces se mapea el valor -1 para un valor de muy alto, lo que significaría que es muy poco probable que el cliente haya sido contactado\n"
      ]
    },
    {
      "cell_type": "code",
      "metadata": {
        "_cell_guid": "27c4a40d-a6e7-455f-85ef-db661c2f3bf6",
        "_uuid": "4a5ce52f6514b2c6a98a05496f464958bb08e6d1",
        "colab_type": "code",
        "id": "5OV0vUI3zvAt",
        "colab": {}
      },
      "source": [
        "# Reemplazar -1 por 10000\n",
        "bank.loc[bank['pdays'] == -1, 'pdays'] = 1000"
      ],
      "execution_count": 0,
      "outputs": []
    },
    {
      "cell_type": "code",
      "metadata": {
        "_cell_guid": "8daac786-1fcd-4dd5-b789-8dbb96011c44",
        "_uuid": "b9018d84ec2eae5368860f237e47e00473deeb05",
        "colab_type": "code",
        "id": "0k2tRyQJzvA8",
        "outputId": "f2c6f7cd-3d8a-4dd6-8e4b-222a3d687712",
        "colab": {
          "base_uri": "https://localhost:8080/",
          "height": 304
        }
      },
      "source": [
        "# descripción de todas las variables de la base de datos\n",
        "bank.describe()"
      ],
      "execution_count": 23,
      "outputs": [
        {
          "output_type": "execute_result",
          "data": {
            "text/html": [
              "<div>\n",
              "<style scoped>\n",
              "    .dataframe tbody tr th:only-of-type {\n",
              "        vertical-align: middle;\n",
              "    }\n",
              "\n",
              "    .dataframe tbody tr th {\n",
              "        vertical-align: top;\n",
              "    }\n",
              "\n",
              "    .dataframe thead th {\n",
              "        text-align: right;\n",
              "    }\n",
              "</style>\n",
              "<table border=\"1\" class=\"dataframe\">\n",
              "  <thead>\n",
              "    <tr style=\"text-align: right;\">\n",
              "      <th></th>\n",
              "      <th>age</th>\n",
              "      <th>job</th>\n",
              "      <th>marital</th>\n",
              "      <th>education</th>\n",
              "      <th>default</th>\n",
              "      <th>balance</th>\n",
              "      <th>housing</th>\n",
              "      <th>loan</th>\n",
              "      <th>contact</th>\n",
              "      <th>day</th>\n",
              "      <th>month</th>\n",
              "      <th>duration</th>\n",
              "      <th>campaign</th>\n",
              "      <th>pdays</th>\n",
              "      <th>previous</th>\n",
              "      <th>deposit</th>\n",
              "      <th>p_failure</th>\n",
              "      <th>p_other</th>\n",
              "      <th>p_success</th>\n",
              "      <th>p_unknown</th>\n",
              "    </tr>\n",
              "  </thead>\n",
              "  <tbody>\n",
              "    <tr>\n",
              "      <th>count</th>\n",
              "      <td>11162.000000</td>\n",
              "      <td>11162.000000</td>\n",
              "      <td>11162.000000</td>\n",
              "      <td>11162.000000</td>\n",
              "      <td>11162.000000</td>\n",
              "      <td>11162.000000</td>\n",
              "      <td>11162.000000</td>\n",
              "      <td>11162.000000</td>\n",
              "      <td>11162.000000</td>\n",
              "      <td>11162.000000</td>\n",
              "      <td>11162.000000</td>\n",
              "      <td>11162.000000</td>\n",
              "      <td>11162.000000</td>\n",
              "      <td>11162.000000</td>\n",
              "      <td>11162.000000</td>\n",
              "      <td>11162.000000</td>\n",
              "      <td>11162.000000</td>\n",
              "      <td>11162.000000</td>\n",
              "      <td>11162.000000</td>\n",
              "      <td>11162.000000</td>\n",
              "    </tr>\n",
              "    <tr>\n",
              "      <th>mean</th>\n",
              "      <td>41.231948</td>\n",
              "      <td>4.487905</td>\n",
              "      <td>1.199337</td>\n",
              "      <td>1.285164</td>\n",
              "      <td>0.015051</td>\n",
              "      <td>1528.538524</td>\n",
              "      <td>0.473123</td>\n",
              "      <td>0.130801</td>\n",
              "      <td>0.489697</td>\n",
              "      <td>15.658036</td>\n",
              "      <td>5.445709</td>\n",
              "      <td>371.993818</td>\n",
              "      <td>2.508421</td>\n",
              "      <td>797.820641</td>\n",
              "      <td>0.832557</td>\n",
              "      <td>0.473840</td>\n",
              "      <td>0.110016</td>\n",
              "      <td>0.048110</td>\n",
              "      <td>0.095951</td>\n",
              "      <td>0.745924</td>\n",
              "    </tr>\n",
              "    <tr>\n",
              "      <th>std</th>\n",
              "      <td>11.913369</td>\n",
              "      <td>3.225132</td>\n",
              "      <td>0.625552</td>\n",
              "      <td>0.749478</td>\n",
              "      <td>0.121761</td>\n",
              "      <td>3225.413326</td>\n",
              "      <td>0.499299</td>\n",
              "      <td>0.337198</td>\n",
              "      <td>0.818724</td>\n",
              "      <td>8.420740</td>\n",
              "      <td>3.191939</td>\n",
              "      <td>347.128386</td>\n",
              "      <td>2.722077</td>\n",
              "      <td>351.708922</td>\n",
              "      <td>2.292007</td>\n",
              "      <td>0.499338</td>\n",
              "      <td>0.312924</td>\n",
              "      <td>0.214008</td>\n",
              "      <td>0.294537</td>\n",
              "      <td>0.435360</td>\n",
              "    </tr>\n",
              "    <tr>\n",
              "      <th>min</th>\n",
              "      <td>18.000000</td>\n",
              "      <td>0.000000</td>\n",
              "      <td>0.000000</td>\n",
              "      <td>0.000000</td>\n",
              "      <td>0.000000</td>\n",
              "      <td>-6847.000000</td>\n",
              "      <td>0.000000</td>\n",
              "      <td>0.000000</td>\n",
              "      <td>0.000000</td>\n",
              "      <td>1.000000</td>\n",
              "      <td>0.000000</td>\n",
              "      <td>2.000000</td>\n",
              "      <td>1.000000</td>\n",
              "      <td>1.000000</td>\n",
              "      <td>0.000000</td>\n",
              "      <td>0.000000</td>\n",
              "      <td>0.000000</td>\n",
              "      <td>0.000000</td>\n",
              "      <td>0.000000</td>\n",
              "      <td>0.000000</td>\n",
              "    </tr>\n",
              "    <tr>\n",
              "      <th>25%</th>\n",
              "      <td>32.000000</td>\n",
              "      <td>1.000000</td>\n",
              "      <td>1.000000</td>\n",
              "      <td>1.000000</td>\n",
              "      <td>0.000000</td>\n",
              "      <td>122.000000</td>\n",
              "      <td>0.000000</td>\n",
              "      <td>0.000000</td>\n",
              "      <td>0.000000</td>\n",
              "      <td>8.000000</td>\n",
              "      <td>3.000000</td>\n",
              "      <td>138.000000</td>\n",
              "      <td>1.000000</td>\n",
              "      <td>521.000000</td>\n",
              "      <td>0.000000</td>\n",
              "      <td>0.000000</td>\n",
              "      <td>0.000000</td>\n",
              "      <td>0.000000</td>\n",
              "      <td>0.000000</td>\n",
              "      <td>0.000000</td>\n",
              "    </tr>\n",
              "    <tr>\n",
              "      <th>50%</th>\n",
              "      <td>39.000000</td>\n",
              "      <td>4.000000</td>\n",
              "      <td>1.000000</td>\n",
              "      <td>1.000000</td>\n",
              "      <td>0.000000</td>\n",
              "      <td>550.000000</td>\n",
              "      <td>0.000000</td>\n",
              "      <td>0.000000</td>\n",
              "      <td>0.000000</td>\n",
              "      <td>15.000000</td>\n",
              "      <td>6.000000</td>\n",
              "      <td>255.000000</td>\n",
              "      <td>2.000000</td>\n",
              "      <td>1000.000000</td>\n",
              "      <td>0.000000</td>\n",
              "      <td>0.000000</td>\n",
              "      <td>0.000000</td>\n",
              "      <td>0.000000</td>\n",
              "      <td>0.000000</td>\n",
              "      <td>1.000000</td>\n",
              "    </tr>\n",
              "    <tr>\n",
              "      <th>75%</th>\n",
              "      <td>49.000000</td>\n",
              "      <td>7.000000</td>\n",
              "      <td>2.000000</td>\n",
              "      <td>2.000000</td>\n",
              "      <td>0.000000</td>\n",
              "      <td>1708.000000</td>\n",
              "      <td>1.000000</td>\n",
              "      <td>0.000000</td>\n",
              "      <td>1.000000</td>\n",
              "      <td>22.000000</td>\n",
              "      <td>8.000000</td>\n",
              "      <td>496.000000</td>\n",
              "      <td>3.000000</td>\n",
              "      <td>1000.000000</td>\n",
              "      <td>1.000000</td>\n",
              "      <td>1.000000</td>\n",
              "      <td>0.000000</td>\n",
              "      <td>0.000000</td>\n",
              "      <td>0.000000</td>\n",
              "      <td>1.000000</td>\n",
              "    </tr>\n",
              "    <tr>\n",
              "      <th>max</th>\n",
              "      <td>95.000000</td>\n",
              "      <td>11.000000</td>\n",
              "      <td>2.000000</td>\n",
              "      <td>3.000000</td>\n",
              "      <td>1.000000</td>\n",
              "      <td>81204.000000</td>\n",
              "      <td>1.000000</td>\n",
              "      <td>1.000000</td>\n",
              "      <td>2.000000</td>\n",
              "      <td>31.000000</td>\n",
              "      <td>11.000000</td>\n",
              "      <td>3881.000000</td>\n",
              "      <td>63.000000</td>\n",
              "      <td>1000.000000</td>\n",
              "      <td>58.000000</td>\n",
              "      <td>1.000000</td>\n",
              "      <td>1.000000</td>\n",
              "      <td>1.000000</td>\n",
              "      <td>1.000000</td>\n",
              "      <td>1.000000</td>\n",
              "    </tr>\n",
              "  </tbody>\n",
              "</table>\n",
              "</div>"
            ],
            "text/plain": [
              "                age           job  ...     p_success     p_unknown\n",
              "count  11162.000000  11162.000000  ...  11162.000000  11162.000000\n",
              "mean      41.231948      4.487905  ...      0.095951      0.745924\n",
              "std       11.913369      3.225132  ...      0.294537      0.435360\n",
              "min       18.000000      0.000000  ...      0.000000      0.000000\n",
              "25%       32.000000      1.000000  ...      0.000000      0.000000\n",
              "50%       39.000000      4.000000  ...      0.000000      1.000000\n",
              "75%       49.000000      7.000000  ...      0.000000      1.000000\n",
              "max       95.000000     11.000000  ...      1.000000      1.000000\n",
              "\n",
              "[8 rows x 20 columns]"
            ]
          },
          "metadata": {
            "tags": []
          },
          "execution_count": 23
        }
      ]
    },
    {
      "cell_type": "markdown",
      "metadata": {
        "id": "vyc8W4AC5LvW",
        "colab_type": "text"
      },
      "source": [
        "# **ÁRBOL DE DECISIÓN: CLASIFICADOR**"
      ]
    },
    {
      "cell_type": "markdown",
      "metadata": {
        "id": "kjd3avnAl2e9",
        "colab_type": "text"
      },
      "source": [
        "Se separa la base de datos entre datos de entrenamiento y datos de pruebas (80% - 20%)"
      ]
    },
    {
      "cell_type": "code",
      "metadata": {
        "_cell_guid": "5675ce89-28f8-409d-9387-ce4641bc4a7b",
        "_uuid": "3b14efa859cd38fce1e118ceae7144d8563dc014",
        "colab_type": "code",
        "id": "6E0njVGKzvBk",
        "colab": {}
      },
      "source": [
        "# Se toma la base de datos menos la variable de interes 'deposit'\n",
        "x = bank.drop('deposit', 1)\n",
        "# Se toma la variable de interés\n",
        "y = bank.deposit\n",
        "# Función que separa los datos datos de X y Y de entrenamiento y testeo\n",
        "x_train, x_test, y_train, y_test = train_test_split(x, y, test_size = 0.2, random_state = 101)"
      ],
      "execution_count": 0,
      "outputs": []
    },
    {
      "cell_type": "code",
      "metadata": {
        "_cell_guid": "7b8c8772-a2ec-4399-807e-73ccc4951dd1",
        "_uuid": "4a48b73d67f4f57349d3dbc75c4d02cfeb1d82f9",
        "colab_type": "code",
        "id": "5QJu_GlTzvBm",
        "outputId": "9121668c-7e75-4ed2-dd5c-dc0b166ed3a4",
        "scrolled": true,
        "colab": {
          "base_uri": "https://localhost:8080/",
          "height": 50
        }
      },
      "source": [
        "# Árbol de decisión de profundidad = 2\n",
        "modelo1 = tree.DecisionTreeClassifier(max_depth=2)\n",
        "# Entrenamiento del modelo\n",
        "modelo1.fit(x_train, y_train)\n",
        "# Cálculo de la exactitud media del proceso de entrenamiento\n",
        "modelo1_score_train = modelo1.score(x_train, y_train)\n",
        "# Imprimir el resultado\n",
        "print(\"Exactitud en el entrenamiento: \",modelo1_score_train)\n",
        "# Cálculo de la exactitud media del proceso de testeo\n",
        "modelo1_score_test = modelo1.score(x_test, y_test)\n",
        "# Imprimir el resultado\n",
        "print(\"Exactitud en la prueba: \",modelo1_score_test)"
      ],
      "execution_count": 25,
      "outputs": [
        {
          "output_type": "stream",
          "text": [
            "Exactitud en el entrenamiento:  0.76738716541606\n",
            "Exactitud en la prueba:  0.7671294223018361\n"
          ],
          "name": "stdout"
        }
      ]
    },
    {
      "cell_type": "markdown",
      "metadata": {
        "id": "kdu2CFODoUQk",
        "colab_type": "text"
      },
      "source": [
        "Graficar el árbol de decisión"
      ]
    },
    {
      "cell_type": "code",
      "metadata": {
        "colab_type": "code",
        "id": "LcAWcyIqy9tV",
        "outputId": "5a31190e-8e25-482c-d093-798835df25dd",
        "colab": {
          "base_uri": "https://localhost:8080/",
          "height": 440
        }
      },
      "source": [
        "# Definición del nombre de las características\n",
        "features_names = x.columns.tolist()\n",
        "# Definición de la salida del sistema\n",
        "classes_names = ['No registrado', 'Registrado']\n",
        "\n",
        "# Configurar el tamaño de la gráfica\n",
        "rcParams['figure.figsize'] = 10,10\n",
        "\n",
        "Arbol = tree.export_graphviz(modelo1, out_file=None, \n",
        "                      feature_names=features_names,  \n",
        "                      class_names=classes_names,  \n",
        "                      filled=True, rounded=True,  \n",
        "                      special_characters=True)  \n",
        "\n",
        "graph = graphviz.Source(Arbol)  \n",
        "graph"
      ],
      "execution_count": 26,
      "outputs": [
        {
          "output_type": "execute_result",
          "data": {
            "text/plain": [
              "<graphviz.files.Source at 0x7f135034f1d0>"
            ],
            "image/svg+xml": "<?xml version=\"1.0\" encoding=\"UTF-8\" standalone=\"no\"?>\n<!DOCTYPE svg PUBLIC \"-//W3C//DTD SVG 1.1//EN\"\n \"http://www.w3.org/Graphics/SVG/1.1/DTD/svg11.dtd\">\n<!-- Generated by graphviz version 2.40.1 (20161225.0304)\n -->\n<!-- Title: Tree Pages: 1 -->\n<svg width=\"637pt\" height=\"314pt\"\n viewBox=\"0.00 0.00 636.50 314.00\" xmlns=\"http://www.w3.org/2000/svg\" xmlns:xlink=\"http://www.w3.org/1999/xlink\">\n<g id=\"graph0\" class=\"graph\" transform=\"scale(1 1) rotate(0) translate(4 310)\">\n<title>Tree</title>\n<polygon fill=\"#ffffff\" stroke=\"transparent\" points=\"-4,4 -4,-310 632.5,-310 632.5,4 -4,4\"/>\n<!-- 0 -->\n<g id=\"node1\" class=\"node\">\n<title>0</title>\n<path fill=\"#fcf3ec\" stroke=\"#000000\" d=\"M384,-306C384,-306 255,-306 255,-306 249,-306 243,-300 243,-294 243,-294 243,-235 243,-235 243,-229 249,-223 255,-223 255,-223 384,-223 384,-223 390,-223 396,-229 396,-235 396,-235 396,-294 396,-294 396,-300 390,-306 384,-306\"/>\n<text text-anchor=\"start\" x=\"267\" y=\"-290.8\" font-family=\"Helvetica,sans-Serif\" font-size=\"14.00\" fill=\"#000000\">duration ≤ 365.5</text>\n<text text-anchor=\"start\" x=\"281.5\" y=\"-275.8\" font-family=\"Helvetica,sans-Serif\" font-size=\"14.00\" fill=\"#000000\">gini = 0.499</text>\n<text text-anchor=\"start\" x=\"267.5\" y=\"-260.8\" font-family=\"Helvetica,sans-Serif\" font-size=\"14.00\" fill=\"#000000\">samples = 8929</text>\n<text text-anchor=\"start\" x=\"253\" y=\"-245.8\" font-family=\"Helvetica,sans-Serif\" font-size=\"14.00\" fill=\"#000000\">value = [4692, 4237]</text>\n<text text-anchor=\"start\" x=\"251\" y=\"-230.8\" font-family=\"Helvetica,sans-Serif\" font-size=\"14.00\" fill=\"#000000\">class = No registrado</text>\n</g>\n<!-- 1 -->\n<g id=\"node2\" class=\"node\">\n<title>1</title>\n<path fill=\"#f1bb93\" stroke=\"#000000\" d=\"M302,-187C302,-187 173,-187 173,-187 167,-187 161,-181 161,-175 161,-175 161,-116 161,-116 161,-110 167,-104 173,-104 173,-104 302,-104 302,-104 308,-104 314,-110 314,-116 314,-116 314,-175 314,-175 314,-181 308,-187 302,-187\"/>\n<text text-anchor=\"start\" x=\"184.5\" y=\"-171.8\" font-family=\"Helvetica,sans-Serif\" font-size=\"14.00\" fill=\"#000000\">p_success ≤ 0.5</text>\n<text text-anchor=\"start\" x=\"204\" y=\"-156.8\" font-family=\"Helvetica,sans-Serif\" font-size=\"14.00\" fill=\"#000000\">gini = 0.43</text>\n<text text-anchor=\"start\" x=\"185.5\" y=\"-141.8\" font-family=\"Helvetica,sans-Serif\" font-size=\"14.00\" fill=\"#000000\">samples = 5792</text>\n<text text-anchor=\"start\" x=\"171\" y=\"-126.8\" font-family=\"Helvetica,sans-Serif\" font-size=\"14.00\" fill=\"#000000\">value = [3977, 1815]</text>\n<text text-anchor=\"start\" x=\"169\" y=\"-111.8\" font-family=\"Helvetica,sans-Serif\" font-size=\"14.00\" fill=\"#000000\">class = No registrado</text>\n</g>\n<!-- 0&#45;&gt;1 -->\n<g id=\"edge1\" class=\"edge\">\n<title>0&#45;&gt;1</title>\n<path fill=\"none\" stroke=\"#000000\" d=\"M290.8204,-222.8796C284.7385,-214.0534 278.2578,-204.6485 271.9859,-195.5466\"/>\n<polygon fill=\"#000000\" stroke=\"#000000\" points=\"274.8582,-193.5465 266.302,-187.2981 269.0941,-197.5184 274.8582,-193.5465\"/>\n<text text-anchor=\"middle\" x=\"261.7761\" y=\"-208.185\" font-family=\"Helvetica,sans-Serif\" font-size=\"14.00\" fill=\"#000000\">True</text>\n</g>\n<!-- 4 -->\n<g id=\"node5\" class=\"node\">\n<title>4</title>\n<path fill=\"#73baed\" stroke=\"#000000\" d=\"M460.5,-187C460.5,-187 344.5,-187 344.5,-187 338.5,-187 332.5,-181 332.5,-175 332.5,-175 332.5,-116 332.5,-116 332.5,-110 338.5,-104 344.5,-104 344.5,-104 460.5,-104 460.5,-104 466.5,-104 472.5,-110 472.5,-116 472.5,-116 472.5,-175 472.5,-175 472.5,-181 466.5,-187 460.5,-187\"/>\n<text text-anchor=\"start\" x=\"350\" y=\"-171.8\" font-family=\"Helvetica,sans-Serif\" font-size=\"14.00\" fill=\"#000000\">duration ≤ 643.5</text>\n<text text-anchor=\"start\" x=\"364.5\" y=\"-156.8\" font-family=\"Helvetica,sans-Serif\" font-size=\"14.00\" fill=\"#000000\">gini = 0.352</text>\n<text text-anchor=\"start\" x=\"350.5\" y=\"-141.8\" font-family=\"Helvetica,sans-Serif\" font-size=\"14.00\" fill=\"#000000\">samples = 3137</text>\n<text text-anchor=\"start\" x=\"340.5\" y=\"-126.8\" font-family=\"Helvetica,sans-Serif\" font-size=\"14.00\" fill=\"#000000\">value = [715, 2422]</text>\n<text text-anchor=\"start\" x=\"342\" y=\"-111.8\" font-family=\"Helvetica,sans-Serif\" font-size=\"14.00\" fill=\"#000000\">class = Registrado</text>\n</g>\n<!-- 0&#45;&gt;4 -->\n<g id=\"edge4\" class=\"edge\">\n<title>0&#45;&gt;4</title>\n<path fill=\"none\" stroke=\"#000000\" d=\"M348.5294,-222.8796C354.6855,-214.0534 361.2451,-204.6485 367.5936,-195.5466\"/>\n<polygon fill=\"#000000\" stroke=\"#000000\" points=\"370.4967,-197.5024 373.3467,-187.2981 364.7552,-193.4978 370.4967,-197.5024\"/>\n<text text-anchor=\"middle\" x=\"377.7331\" y=\"-208.2103\" font-family=\"Helvetica,sans-Serif\" font-size=\"14.00\" fill=\"#000000\">False</text>\n</g>\n<!-- 2 -->\n<g id=\"node3\" class=\"node\">\n<title>2</title>\n<path fill=\"#eeab7b\" stroke=\"#000000\" d=\"M141,-68C141,-68 12,-68 12,-68 6,-68 0,-62 0,-56 0,-56 0,-12 0,-12 0,-6 6,0 12,0 12,0 141,0 141,0 147,0 153,-6 153,-12 153,-12 153,-56 153,-56 153,-62 147,-68 141,-68\"/>\n<text text-anchor=\"start\" x=\"38.5\" y=\"-52.8\" font-family=\"Helvetica,sans-Serif\" font-size=\"14.00\" fill=\"#000000\">gini = 0.374</text>\n<text text-anchor=\"start\" x=\"24.5\" y=\"-37.8\" font-family=\"Helvetica,sans-Serif\" font-size=\"14.00\" fill=\"#000000\">samples = 5207</text>\n<text text-anchor=\"start\" x=\"10\" y=\"-22.8\" font-family=\"Helvetica,sans-Serif\" font-size=\"14.00\" fill=\"#000000\">value = [3911, 1296]</text>\n<text text-anchor=\"start\" x=\"8\" y=\"-7.8\" font-family=\"Helvetica,sans-Serif\" font-size=\"14.00\" fill=\"#000000\">class = No registrado</text>\n</g>\n<!-- 1&#45;&gt;2 -->\n<g id=\"edge2\" class=\"edge\">\n<title>1&#45;&gt;2</title>\n<path fill=\"none\" stroke=\"#000000\" d=\"M177.5495,-103.9815C163.4084,-94.1881 148.3606,-83.7668 134.3159,-74.0402\"/>\n<polygon fill=\"#000000\" stroke=\"#000000\" points=\"135.9315,-70.9017 125.7178,-68.0856 131.9461,-76.6565 135.9315,-70.9017\"/>\n</g>\n<!-- 3 -->\n<g id=\"node4\" class=\"node\">\n<title>3</title>\n<path fill=\"#52a9e8\" stroke=\"#000000\" d=\"M296,-68C296,-68 183,-68 183,-68 177,-68 171,-62 171,-56 171,-56 171,-12 171,-12 171,-6 177,0 183,0 183,0 296,0 296,0 302,0 308,-6 308,-12 308,-12 308,-56 308,-56 308,-62 302,-68 296,-68\"/>\n<text text-anchor=\"start\" x=\"210\" y=\"-52.8\" font-family=\"Helvetica,sans-Serif\" font-size=\"14.00\" fill=\"#000000\">gini = 0.2</text>\n<text text-anchor=\"start\" x=\"191.5\" y=\"-37.8\" font-family=\"Helvetica,sans-Serif\" font-size=\"14.00\" fill=\"#000000\">samples = 585</text>\n<text text-anchor=\"start\" x=\"185.5\" y=\"-22.8\" font-family=\"Helvetica,sans-Serif\" font-size=\"14.00\" fill=\"#000000\">value = [66, 519]</text>\n<text text-anchor=\"start\" x=\"179\" y=\"-7.8\" font-family=\"Helvetica,sans-Serif\" font-size=\"14.00\" fill=\"#000000\">class = Registrado</text>\n</g>\n<!-- 1&#45;&gt;3 -->\n<g id=\"edge3\" class=\"edge\">\n<title>1&#45;&gt;3</title>\n<path fill=\"none\" stroke=\"#000000\" d=\"M238.2447,-103.9815C238.3947,-95.618 238.553,-86.7965 238.7046,-78.3409\"/>\n<polygon fill=\"#000000\" stroke=\"#000000\" points=\"242.2054,-78.3249 238.8854,-68.2637 235.2065,-78.1993 242.2054,-78.3249\"/>\n</g>\n<!-- 5 -->\n<g id=\"node6\" class=\"node\">\n<title>5</title>\n<path fill=\"#94caf1\" stroke=\"#000000\" d=\"M458.5,-68C458.5,-68 342.5,-68 342.5,-68 336.5,-68 330.5,-62 330.5,-56 330.5,-56 330.5,-12 330.5,-12 330.5,-6 336.5,0 342.5,0 342.5,0 458.5,0 458.5,0 464.5,0 470.5,-6 470.5,-12 470.5,-12 470.5,-56 470.5,-56 470.5,-62 464.5,-68 458.5,-68\"/>\n<text text-anchor=\"start\" x=\"362.5\" y=\"-52.8\" font-family=\"Helvetica,sans-Serif\" font-size=\"14.00\" fill=\"#000000\">gini = 0.432</text>\n<text text-anchor=\"start\" x=\"348.5\" y=\"-37.8\" font-family=\"Helvetica,sans-Serif\" font-size=\"14.00\" fill=\"#000000\">samples = 1621</text>\n<text text-anchor=\"start\" x=\"338.5\" y=\"-22.8\" font-family=\"Helvetica,sans-Serif\" font-size=\"14.00\" fill=\"#000000\">value = [511, 1110]</text>\n<text text-anchor=\"start\" x=\"340\" y=\"-7.8\" font-family=\"Helvetica,sans-Serif\" font-size=\"14.00\" fill=\"#000000\">class = Registrado</text>\n</g>\n<!-- 4&#45;&gt;5 -->\n<g id=\"edge5\" class=\"edge\">\n<title>4&#45;&gt;5</title>\n<path fill=\"none\" stroke=\"#000000\" d=\"M401.7553,-103.9815C401.6053,-95.618 401.447,-86.7965 401.2954,-78.3409\"/>\n<polygon fill=\"#000000\" stroke=\"#000000\" points=\"404.7935,-78.1993 401.1146,-68.2637 397.7946,-78.3249 404.7935,-78.1993\"/>\n</g>\n<!-- 6 -->\n<g id=\"node7\" class=\"node\">\n<title>6</title>\n<path fill=\"#58ace9\" stroke=\"#000000\" d=\"M616.5,-68C616.5,-68 500.5,-68 500.5,-68 494.5,-68 488.5,-62 488.5,-56 488.5,-56 488.5,-12 488.5,-12 488.5,-6 494.5,0 500.5,0 500.5,0 616.5,0 616.5,0 622.5,0 628.5,-6 628.5,-12 628.5,-12 628.5,-56 628.5,-56 628.5,-62 622.5,-68 616.5,-68\"/>\n<text text-anchor=\"start\" x=\"520.5\" y=\"-52.8\" font-family=\"Helvetica,sans-Serif\" font-size=\"14.00\" fill=\"#000000\">gini = 0.233</text>\n<text text-anchor=\"start\" x=\"506.5\" y=\"-37.8\" font-family=\"Helvetica,sans-Serif\" font-size=\"14.00\" fill=\"#000000\">samples = 1516</text>\n<text text-anchor=\"start\" x=\"496.5\" y=\"-22.8\" font-family=\"Helvetica,sans-Serif\" font-size=\"14.00\" fill=\"#000000\">value = [204, 1312]</text>\n<text text-anchor=\"start\" x=\"498\" y=\"-7.8\" font-family=\"Helvetica,sans-Serif\" font-size=\"14.00\" fill=\"#000000\">class = Registrado</text>\n</g>\n<!-- 4&#45;&gt;6 -->\n<g id=\"edge6\" class=\"edge\">\n<title>4&#45;&gt;6</title>\n<path fill=\"none\" stroke=\"#000000\" d=\"M460.5886,-103.9815C474.2189,-94.2394 488.7184,-83.8759 502.2658,-74.193\"/>\n<polygon fill=\"#000000\" stroke=\"#000000\" points=\"504.4612,-76.926 510.5616,-68.2637 500.3908,-71.2311 504.4612,-76.926\"/>\n</g>\n</g>\n</svg>\n"
          },
          "metadata": {
            "tags": []
          },
          "execution_count": 26
        }
      ]
    },
    {
      "cell_type": "markdown",
      "metadata": {
        "id": "zYBlw3xycAat",
        "colab_type": "text"
      },
      "source": [
        "Como leer el Árbol de decisión\n",
        "\n",
        "1. El nodo inicial pregunta si la duración de la llamada es menor o igual a 365.5.\n",
        "2. Si es así (True), se mueve hacia abajo al nodo secundario izquierdo de la raíz (profundidad 1, izquierda).\n",
        "3. Este nodo pregunta si la variable p_success es menor o igual a 0.5 (esta variable es 1 cuando el usuario se registró en la campaña anterior o 0 si el usuario no se registró en la campaña anterior).\n",
        "4. Si es así (True), se mueve hacia abajo a la izquierda de la raíz (profundidad 2, izquierda). 'Concluyendo que la clase en No registrado'.\n",
        "5. Si no es así (False), se mueve hacia abajo a la derecha de la raíz (profundidad 2, segundo nodo). 'Concluyendo que la clase en Registrado'.\n",
        "6. Volviendo al nodo inicial, si la duración de la llamada es mayor a 365 debe moverse hacia el nodo secundario derecho de la raíz (profundidad 1, derecha)\n",
        "7. Luego se pregunta: ¿el ancho del pétalo es menor que 1.75 cm? \n",
        "8. Todos los casos siguientes concluyen que la clase en 'Registrado'.\n",
        "\n",
        "\n",
        "\n",
        "\n"
      ]
    },
    {
      "cell_type": "markdown",
      "metadata": {
        "id": "6zBL5bP3gZQ1",
        "colab_type": "text"
      },
      "source": [
        "Atributos de los nodos\n",
        "\n",
        "- Samples: de 8929 muestras (primer nodo), 5792 tienen duración menor o igual a 365.5 (nodo 2 izquierda) y 3137 muestras tiene mayor duración (nodo 2 derecha).\n",
        "- Value: indica a cuántas instancias de entrenamiento de cada clase se aplica este nodo: por ejemplo, el primer nodo aplica 4692 a 0 No registrado y 4235 a 1 Registrado. \n",
        "- gini: (impureza). Un nodo es \"puro\" (gini = 0) si todas las instancias de entrenamiento a las que se aplica pertenecen a la misma clase. Para el primer nodo Gini igual a 1 - (4692/8929)^2 - (4235/8929)^2 ≈ 0.499."
      ]
    },
    {
      "cell_type": "markdown",
      "metadata": {
        "id": "GxvMSJ_hpQoW",
        "colab_type": "text"
      },
      "source": [
        "Analizar cuáles son las características más importantes del modelo."
      ]
    },
    {
      "cell_type": "code",
      "metadata": {
        "_cell_guid": "a40199c8-690b-4361-bdcc-f7dd76946250",
        "_uuid": "6cd0de90f9a563e11e42683f81d82b5c91c6d93c",
        "colab_type": "code",
        "id": "MqKCqTwTzvB9",
        "outputId": "f22dcfbf-0990-4a7a-f6c7-5d4714f6a231",
        "colab": {
          "base_uri": "https://localhost:8080/",
          "height": 336
        }
      },
      "source": [
        "# Valor numérico de cada característica del árbol de decisión\n",
        "fi = modelo1.feature_importances_\n",
        "# Imprimir las características con su respectivo valor\n",
        "l = len(features_names)\n",
        "for i in range(0,len(features_names)):\n",
        "    print('{:.<20} {:3}'.format(features_names[i],fi[i]))"
      ],
      "execution_count": 27,
      "outputs": [
        {
          "output_type": "stream",
          "text": [
            "age................. 0.0\n",
            "job................. 0.0\n",
            "marital............. 0.0\n",
            "education........... 0.0\n",
            "default............. 0.0\n",
            "balance............. 0.0\n",
            "housing............. 0.0\n",
            "loan................ 0.0\n",
            "contact............. 0.0\n",
            "day................. 0.0\n",
            "month............... 0.0\n",
            "duration............ 0.6792534143106161\n",
            "campaign............ 0.0\n",
            "pdays............... 0.0\n",
            "previous............ 0.0\n",
            "p_failure........... 0.0\n",
            "p_other............. 0.0\n",
            "p_success........... 0.3207465856893839\n",
            "p_unknown........... 0.0\n"
          ],
          "name": "stdout"
        }
      ]
    },
    {
      "cell_type": "markdown",
      "metadata": {
        "id": "EiGmQY-f5UPe",
        "colab_type": "text"
      },
      "source": [
        "**ACTIVIDAD**\n",
        "1. Crear otro modelo de Árbol de Decisión con profundidad = 4.\n",
        "2. Imprimir el modelo del Árbol de Decisión.\n",
        "3. Crear otro modelo de Árbol de Decisión con profundidad máxima.\n",
        "4. Imprimir las características más importantes.\n",
        "5. Comparar todos los modelos y determinar cuál de ellos es el mejor."
      ]
    },
    {
      "cell_type": "markdown",
      "metadata": {
        "id": "vVUgNSeF6C0Q",
        "colab_type": "text"
      },
      "source": [
        "**Solución 1. Árbol de Decisión profundidad = 4**"
      ]
    },
    {
      "cell_type": "code",
      "metadata": {
        "_cell_guid": "14b771bd-b87e-4ac4-b3ec-64da8bbb7b68",
        "_uuid": "c828f56ae83bf3eac076c3642ad26e51f660d643",
        "colab_type": "code",
        "id": "5WGil8u5zvBo",
        "outputId": "a2d67a75-83a8-47d4-a64c-5ba9531af2bd",
        "colab": {
          "base_uri": "https://localhost:8080/",
          "height": 50
        }
      },
      "source": [
        "# Árbol de Decisión de profundidad = 4\n",
        "modelo2 = tree.DecisionTreeClassifier(max_depth=4)\n",
        "# Entrenamiento del modelo\n",
        "modelo2.fit(x_train, y_train)\n",
        "# Cálculo de la exactitud media del proceso de entrenamiento\n",
        "modelo2_score_train = modelo2.score(x_train, y_train)\n",
        "# Imprimir el resultado\n",
        "print(\"Exactitud en el entrenamiento: \",modelo2_score_train)\n",
        "# Cálculo de la exactitud media del proceso de testeo\n",
        "modelo2_score_test = modelo2.score(x_test, y_test)\n",
        "# Imprimir el resultado\n",
        "print(\"Exactitud en el testeo: \",modelo2_score_test)"
      ],
      "execution_count": 28,
      "outputs": [
        {
          "output_type": "stream",
          "text": [
            "Exactitud en el entrenamiento:  0.7763467353567028\n",
            "Exactitud en el testeo:  0.7756381549484997\n"
          ],
          "name": "stdout"
        }
      ]
    },
    {
      "cell_type": "markdown",
      "metadata": {
        "id": "jaMXeCT46HUP",
        "colab_type": "text"
      },
      "source": [
        "**Solución 2. Imprimir el Árbol de Decisión**"
      ]
    },
    {
      "cell_type": "code",
      "metadata": {
        "colab_type": "code",
        "id": "BWvGEEjK3FBl",
        "outputId": "a24ddf55-86e0-41bd-a08b-917e0cc47efa",
        "colab": {
          "base_uri": "https://localhost:8080/",
          "height": 777
        }
      },
      "source": [
        "# Se imprime el Árbol\n",
        "Arbol = tree.export_graphviz(modelo2, out_file=None, \n",
        "                      feature_names=features_names,  \n",
        "                      class_names=classes_names,  \n",
        "                      filled=True, rounded=True,  \n",
        "                      special_characters=True)  \n",
        "graph = graphviz.Source(Arbol) \n",
        "graph "
      ],
      "execution_count": 29,
      "outputs": [
        {
          "output_type": "execute_result",
          "data": {
            "text/plain": [
              "<graphviz.files.Source at 0x7f1350596e48>"
            ],
            "image/svg+xml": "<?xml version=\"1.0\" encoding=\"UTF-8\" standalone=\"no\"?>\n<!DOCTYPE svg PUBLIC \"-//W3C//DTD SVG 1.1//EN\"\n \"http://www.w3.org/Graphics/SVG/1.1/DTD/svg11.dtd\">\n<!-- Generated by graphviz version 2.40.1 (20161225.0304)\n -->\n<!-- Title: Tree Pages: 1 -->\n<svg width=\"2566pt\" height=\"552pt\"\n viewBox=\"0.00 0.00 2566.00 552.00\" xmlns=\"http://www.w3.org/2000/svg\" xmlns:xlink=\"http://www.w3.org/1999/xlink\">\n<g id=\"graph0\" class=\"graph\" transform=\"scale(1 1) rotate(0) translate(4 548)\">\n<title>Tree</title>\n<polygon fill=\"#ffffff\" stroke=\"transparent\" points=\"-4,4 -4,-548 2562,-548 2562,4 -4,4\"/>\n<!-- 0 -->\n<g id=\"node1\" class=\"node\">\n<title>0</title>\n<path fill=\"#fcf3ec\" stroke=\"#000000\" d=\"M1358,-544C1358,-544 1229,-544 1229,-544 1223,-544 1217,-538 1217,-532 1217,-532 1217,-473 1217,-473 1217,-467 1223,-461 1229,-461 1229,-461 1358,-461 1358,-461 1364,-461 1370,-467 1370,-473 1370,-473 1370,-532 1370,-532 1370,-538 1364,-544 1358,-544\"/>\n<text text-anchor=\"start\" x=\"1241\" y=\"-528.8\" font-family=\"Helvetica,sans-Serif\" font-size=\"14.00\" fill=\"#000000\">duration ≤ 365.5</text>\n<text text-anchor=\"start\" x=\"1255.5\" y=\"-513.8\" font-family=\"Helvetica,sans-Serif\" font-size=\"14.00\" fill=\"#000000\">gini = 0.499</text>\n<text text-anchor=\"start\" x=\"1241.5\" y=\"-498.8\" font-family=\"Helvetica,sans-Serif\" font-size=\"14.00\" fill=\"#000000\">samples = 8929</text>\n<text text-anchor=\"start\" x=\"1227\" y=\"-483.8\" font-family=\"Helvetica,sans-Serif\" font-size=\"14.00\" fill=\"#000000\">value = [4692, 4237]</text>\n<text text-anchor=\"start\" x=\"1225\" y=\"-468.8\" font-family=\"Helvetica,sans-Serif\" font-size=\"14.00\" fill=\"#000000\">class = No registrado</text>\n</g>\n<!-- 1 -->\n<g id=\"node2\" class=\"node\">\n<title>1</title>\n<path fill=\"#f1bb93\" stroke=\"#000000\" d=\"M1045,-425C1045,-425 916,-425 916,-425 910,-425 904,-419 904,-413 904,-413 904,-354 904,-354 904,-348 910,-342 916,-342 916,-342 1045,-342 1045,-342 1051,-342 1057,-348 1057,-354 1057,-354 1057,-413 1057,-413 1057,-419 1051,-425 1045,-425\"/>\n<text text-anchor=\"start\" x=\"927.5\" y=\"-409.8\" font-family=\"Helvetica,sans-Serif\" font-size=\"14.00\" fill=\"#000000\">p_success ≤ 0.5</text>\n<text text-anchor=\"start\" x=\"947\" y=\"-394.8\" font-family=\"Helvetica,sans-Serif\" font-size=\"14.00\" fill=\"#000000\">gini = 0.43</text>\n<text text-anchor=\"start\" x=\"928.5\" y=\"-379.8\" font-family=\"Helvetica,sans-Serif\" font-size=\"14.00\" fill=\"#000000\">samples = 5792</text>\n<text text-anchor=\"start\" x=\"914\" y=\"-364.8\" font-family=\"Helvetica,sans-Serif\" font-size=\"14.00\" fill=\"#000000\">value = [3977, 1815]</text>\n<text text-anchor=\"start\" x=\"912\" y=\"-349.8\" font-family=\"Helvetica,sans-Serif\" font-size=\"14.00\" fill=\"#000000\">class = No registrado</text>\n</g>\n<!-- 0&#45;&gt;1 -->\n<g id=\"edge1\" class=\"edge\">\n<title>0&#45;&gt;1</title>\n<path fill=\"none\" stroke=\"#000000\" d=\"M1216.9316,-473.3893C1171.4697,-456.1051 1113.7067,-434.1441 1066.6556,-416.2556\"/>\n<polygon fill=\"#000000\" stroke=\"#000000\" points=\"1067.6822,-412.9016 1057.0911,-412.6193 1065.1945,-419.4446 1067.6822,-412.9016\"/>\n<text text-anchor=\"middle\" x=\"1067.3327\" y=\"-431.7252\" font-family=\"Helvetica,sans-Serif\" font-size=\"14.00\" fill=\"#000000\">True</text>\n</g>\n<!-- 16 -->\n<g id=\"node17\" class=\"node\">\n<title>16</title>\n<path fill=\"#73baed\" stroke=\"#000000\" d=\"M1666.5,-425C1666.5,-425 1550.5,-425 1550.5,-425 1544.5,-425 1538.5,-419 1538.5,-413 1538.5,-413 1538.5,-354 1538.5,-354 1538.5,-348 1544.5,-342 1550.5,-342 1550.5,-342 1666.5,-342 1666.5,-342 1672.5,-342 1678.5,-348 1678.5,-354 1678.5,-354 1678.5,-413 1678.5,-413 1678.5,-419 1672.5,-425 1666.5,-425\"/>\n<text text-anchor=\"start\" x=\"1556\" y=\"-409.8\" font-family=\"Helvetica,sans-Serif\" font-size=\"14.00\" fill=\"#000000\">duration ≤ 643.5</text>\n<text text-anchor=\"start\" x=\"1570.5\" y=\"-394.8\" font-family=\"Helvetica,sans-Serif\" font-size=\"14.00\" fill=\"#000000\">gini = 0.352</text>\n<text text-anchor=\"start\" x=\"1556.5\" y=\"-379.8\" font-family=\"Helvetica,sans-Serif\" font-size=\"14.00\" fill=\"#000000\">samples = 3137</text>\n<text text-anchor=\"start\" x=\"1546.5\" y=\"-364.8\" font-family=\"Helvetica,sans-Serif\" font-size=\"14.00\" fill=\"#000000\">value = [715, 2422]</text>\n<text text-anchor=\"start\" x=\"1548\" y=\"-349.8\" font-family=\"Helvetica,sans-Serif\" font-size=\"14.00\" fill=\"#000000\">class = Registrado</text>\n</g>\n<!-- 0&#45;&gt;16 -->\n<g id=\"edge16\" class=\"edge\">\n<title>0&#45;&gt;16</title>\n<path fill=\"none\" stroke=\"#000000\" d=\"M1370.1549,-473.5415C1418.2151,-455.3854 1480.0544,-432.0239 1528.6996,-413.6468\"/>\n<polygon fill=\"#000000\" stroke=\"#000000\" points=\"1530.1269,-416.8491 1538.2447,-410.0409 1527.653,-410.3008 1530.1269,-416.8491\"/>\n<text text-anchor=\"middle\" x=\"1527.955\" y=\"-429.1252\" font-family=\"Helvetica,sans-Serif\" font-size=\"14.00\" fill=\"#000000\">False</text>\n</g>\n<!-- 2 -->\n<g id=\"node3\" class=\"node\">\n<title>2</title>\n<path fill=\"#eeab7b\" stroke=\"#000000\" d=\"M557,-306C557,-306 428,-306 428,-306 422,-306 416,-300 416,-294 416,-294 416,-235 416,-235 416,-229 422,-223 428,-223 428,-223 557,-223 557,-223 563,-223 569,-229 569,-235 569,-235 569,-294 569,-294 569,-300 563,-306 557,-306\"/>\n<text text-anchor=\"start\" x=\"440\" y=\"-290.8\" font-family=\"Helvetica,sans-Serif\" font-size=\"14.00\" fill=\"#000000\">duration ≤ 129.5</text>\n<text text-anchor=\"start\" x=\"454.5\" y=\"-275.8\" font-family=\"Helvetica,sans-Serif\" font-size=\"14.00\" fill=\"#000000\">gini = 0.374</text>\n<text text-anchor=\"start\" x=\"440.5\" y=\"-260.8\" font-family=\"Helvetica,sans-Serif\" font-size=\"14.00\" fill=\"#000000\">samples = 5207</text>\n<text text-anchor=\"start\" x=\"426\" y=\"-245.8\" font-family=\"Helvetica,sans-Serif\" font-size=\"14.00\" fill=\"#000000\">value = [3911, 1296]</text>\n<text text-anchor=\"start\" x=\"424\" y=\"-230.8\" font-family=\"Helvetica,sans-Serif\" font-size=\"14.00\" fill=\"#000000\">class = No registrado</text>\n</g>\n<!-- 1&#45;&gt;2 -->\n<g id=\"edge2\" class=\"edge\">\n<title>1&#45;&gt;2</title>\n<path fill=\"none\" stroke=\"#000000\" d=\"M903.9818,-364.8408C815.8569,-343.3514 671.4065,-308.1268 579.1974,-285.6414\"/>\n<polygon fill=\"#000000\" stroke=\"#000000\" points=\"579.8757,-282.2043 569.3312,-283.2355 578.2173,-289.005 579.8757,-282.2043\"/>\n</g>\n<!-- 9 -->\n<g id=\"node10\" class=\"node\">\n<title>9</title>\n<path fill=\"#52a9e8\" stroke=\"#000000\" d=\"M1037,-306C1037,-306 924,-306 924,-306 918,-306 912,-300 912,-294 912,-294 912,-235 912,-235 912,-229 918,-223 924,-223 924,-223 1037,-223 1037,-223 1043,-223 1049,-229 1049,-235 1049,-235 1049,-294 1049,-294 1049,-300 1043,-306 1037,-306\"/>\n<text text-anchor=\"start\" x=\"932\" y=\"-290.8\" font-family=\"Helvetica,sans-Serif\" font-size=\"14.00\" fill=\"#000000\">duration ≤ 79.5</text>\n<text text-anchor=\"start\" x=\"951\" y=\"-275.8\" font-family=\"Helvetica,sans-Serif\" font-size=\"14.00\" fill=\"#000000\">gini = 0.2</text>\n<text text-anchor=\"start\" x=\"932.5\" y=\"-260.8\" font-family=\"Helvetica,sans-Serif\" font-size=\"14.00\" fill=\"#000000\">samples = 585</text>\n<text text-anchor=\"start\" x=\"926.5\" y=\"-245.8\" font-family=\"Helvetica,sans-Serif\" font-size=\"14.00\" fill=\"#000000\">value = [66, 519]</text>\n<text text-anchor=\"start\" x=\"920\" y=\"-230.8\" font-family=\"Helvetica,sans-Serif\" font-size=\"14.00\" fill=\"#000000\">class = Registrado</text>\n</g>\n<!-- 1&#45;&gt;9 -->\n<g id=\"edge9\" class=\"edge\">\n<title>1&#45;&gt;9</title>\n<path fill=\"none\" stroke=\"#000000\" d=\"M980.5,-341.8796C980.5,-333.6838 980.5,-324.9891 980.5,-316.5013\"/>\n<polygon fill=\"#000000\" stroke=\"#000000\" points=\"984.0001,-316.298 980.5,-306.2981 977.0001,-316.2981 984.0001,-316.298\"/>\n</g>\n<!-- 3 -->\n<g id=\"node4\" class=\"node\">\n<title>3</title>\n<path fill=\"#e78d4c\" stroke=\"#000000\" d=\"M304,-187C304,-187 175,-187 175,-187 169,-187 163,-181 163,-175 163,-175 163,-116 163,-116 163,-110 169,-104 175,-104 175,-104 304,-104 304,-104 310,-104 316,-110 316,-116 316,-116 316,-175 316,-175 316,-181 310,-187 304,-187\"/>\n<text text-anchor=\"start\" x=\"201.5\" y=\"-171.8\" font-family=\"Helvetica,sans-Serif\" font-size=\"14.00\" fill=\"#000000\">month ≤ 9.5</text>\n<text text-anchor=\"start\" x=\"201.5\" y=\"-156.8\" font-family=\"Helvetica,sans-Serif\" font-size=\"14.00\" fill=\"#000000\">gini = 0.159</text>\n<text text-anchor=\"start\" x=\"187.5\" y=\"-141.8\" font-family=\"Helvetica,sans-Serif\" font-size=\"14.00\" fill=\"#000000\">samples = 1928</text>\n<text text-anchor=\"start\" x=\"177.5\" y=\"-126.8\" font-family=\"Helvetica,sans-Serif\" font-size=\"14.00\" fill=\"#000000\">value = [1760, 168]</text>\n<text text-anchor=\"start\" x=\"171\" y=\"-111.8\" font-family=\"Helvetica,sans-Serif\" font-size=\"14.00\" fill=\"#000000\">class = No registrado</text>\n</g>\n<!-- 2&#45;&gt;3 -->\n<g id=\"edge3\" class=\"edge\">\n<title>2&#45;&gt;3</title>\n<path fill=\"none\" stroke=\"#000000\" d=\"M415.9051,-228.4731C387.427,-215.0783 354.9303,-199.7933 325.6538,-186.023\"/>\n<polygon fill=\"#000000\" stroke=\"#000000\" points=\"326.8096,-182.6988 316.2708,-181.6096 323.8301,-189.0331 326.8096,-182.6988\"/>\n</g>\n<!-- 6 -->\n<g id=\"node7\" class=\"node\">\n<title>6</title>\n<path fill=\"#f3c3a1\" stroke=\"#000000\" d=\"M557,-187C557,-187 428,-187 428,-187 422,-187 416,-181 416,-175 416,-175 416,-116 416,-116 416,-110 422,-104 428,-104 428,-104 557,-104 557,-104 563,-104 569,-110 569,-116 569,-116 569,-175 569,-175 569,-181 563,-187 557,-187\"/>\n<text text-anchor=\"start\" x=\"451\" y=\"-171.8\" font-family=\"Helvetica,sans-Serif\" font-size=\"14.00\" fill=\"#000000\">contact ≤ 1.5</text>\n<text text-anchor=\"start\" x=\"454.5\" y=\"-156.8\" font-family=\"Helvetica,sans-Serif\" font-size=\"14.00\" fill=\"#000000\">gini = 0.451</text>\n<text text-anchor=\"start\" x=\"440.5\" y=\"-141.8\" font-family=\"Helvetica,sans-Serif\" font-size=\"14.00\" fill=\"#000000\">samples = 3279</text>\n<text text-anchor=\"start\" x=\"426\" y=\"-126.8\" font-family=\"Helvetica,sans-Serif\" font-size=\"14.00\" fill=\"#000000\">value = [2151, 1128]</text>\n<text text-anchor=\"start\" x=\"424\" y=\"-111.8\" font-family=\"Helvetica,sans-Serif\" font-size=\"14.00\" fill=\"#000000\">class = No registrado</text>\n</g>\n<!-- 2&#45;&gt;6 -->\n<g id=\"edge6\" class=\"edge\">\n<title>2&#45;&gt;6</title>\n<path fill=\"none\" stroke=\"#000000\" d=\"M492.5,-222.8796C492.5,-214.6838 492.5,-205.9891 492.5,-197.5013\"/>\n<polygon fill=\"#000000\" stroke=\"#000000\" points=\"496.0001,-197.298 492.5,-187.2981 489.0001,-197.2981 496.0001,-197.298\"/>\n</g>\n<!-- 4 -->\n<g id=\"node5\" class=\"node\">\n<title>4</title>\n<path fill=\"#e78b49\" stroke=\"#000000\" d=\"M141,-68C141,-68 12,-68 12,-68 6,-68 0,-62 0,-56 0,-56 0,-12 0,-12 0,-6 6,0 12,0 12,0 141,0 141,0 147,0 153,-6 153,-12 153,-12 153,-56 153,-56 153,-62 147,-68 141,-68\"/>\n<text text-anchor=\"start\" x=\"38.5\" y=\"-52.8\" font-family=\"Helvetica,sans-Serif\" font-size=\"14.00\" fill=\"#000000\">gini = 0.138</text>\n<text text-anchor=\"start\" x=\"24.5\" y=\"-37.8\" font-family=\"Helvetica,sans-Serif\" font-size=\"14.00\" fill=\"#000000\">samples = 1871</text>\n<text text-anchor=\"start\" x=\"14.5\" y=\"-22.8\" font-family=\"Helvetica,sans-Serif\" font-size=\"14.00\" fill=\"#000000\">value = [1732, 139]</text>\n<text text-anchor=\"start\" x=\"8\" y=\"-7.8\" font-family=\"Helvetica,sans-Serif\" font-size=\"14.00\" fill=\"#000000\">class = No registrado</text>\n</g>\n<!-- 3&#45;&gt;4 -->\n<g id=\"edge4\" class=\"edge\">\n<title>3&#45;&gt;4</title>\n<path fill=\"none\" stroke=\"#000000\" d=\"M178.8048,-103.9815C164.353,-94.0957 148.9658,-83.5701 134.632,-73.7651\"/>\n<polygon fill=\"#000000\" stroke=\"#000000\" points=\"136.559,-70.8428 126.3292,-68.0856 132.6068,-76.6204 136.559,-70.8428\"/>\n</g>\n<!-- 5 -->\n<g id=\"node6\" class=\"node\">\n<title>5</title>\n<path fill=\"#f8fcfe\" stroke=\"#000000\" d=\"M296,-68C296,-68 183,-68 183,-68 177,-68 171,-62 171,-56 171,-56 171,-12 171,-12 171,-6 177,0 183,0 183,0 296,0 296,0 302,0 308,-6 308,-12 308,-12 308,-56 308,-56 308,-62 302,-68 296,-68\"/>\n<text text-anchor=\"start\" x=\"210\" y=\"-52.8\" font-family=\"Helvetica,sans-Serif\" font-size=\"14.00\" fill=\"#000000\">gini = 0.5</text>\n<text text-anchor=\"start\" x=\"195.5\" y=\"-37.8\" font-family=\"Helvetica,sans-Serif\" font-size=\"14.00\" fill=\"#000000\">samples = 57</text>\n<text text-anchor=\"start\" x=\"189.5\" y=\"-22.8\" font-family=\"Helvetica,sans-Serif\" font-size=\"14.00\" fill=\"#000000\">value = [28, 29]</text>\n<text text-anchor=\"start\" x=\"179\" y=\"-7.8\" font-family=\"Helvetica,sans-Serif\" font-size=\"14.00\" fill=\"#000000\">class = Registrado</text>\n</g>\n<!-- 3&#45;&gt;5 -->\n<g id=\"edge5\" class=\"edge\">\n<title>3&#45;&gt;5</title>\n<path fill=\"none\" stroke=\"#000000\" d=\"M239.5,-103.9815C239.5,-95.618 239.5,-86.7965 239.5,-78.3409\"/>\n<polygon fill=\"#000000\" stroke=\"#000000\" points=\"243.0001,-78.2636 239.5,-68.2637 236.0001,-78.2637 243.0001,-78.2636\"/>\n</g>\n<!-- 7 -->\n<g id=\"node8\" class=\"node\">\n<title>7</title>\n<path fill=\"#f9e0ce\" stroke=\"#000000\" d=\"M467,-68C467,-68 338,-68 338,-68 332,-68 326,-62 326,-56 326,-56 326,-12 326,-12 326,-6 332,0 338,0 338,0 467,0 467,0 473,0 479,-6 479,-12 479,-12 479,-56 479,-56 479,-62 473,-68 467,-68\"/>\n<text text-anchor=\"start\" x=\"369\" y=\"-52.8\" font-family=\"Helvetica,sans-Serif\" font-size=\"14.00\" fill=\"#000000\">gini = 0.49</text>\n<text text-anchor=\"start\" x=\"350.5\" y=\"-37.8\" font-family=\"Helvetica,sans-Serif\" font-size=\"14.00\" fill=\"#000000\">samples = 2566</text>\n<text text-anchor=\"start\" x=\"336\" y=\"-22.8\" font-family=\"Helvetica,sans-Serif\" font-size=\"14.00\" fill=\"#000000\">value = [1465, 1101]</text>\n<text text-anchor=\"start\" x=\"334\" y=\"-7.8\" font-family=\"Helvetica,sans-Serif\" font-size=\"14.00\" fill=\"#000000\">class = No registrado</text>\n</g>\n<!-- 6&#45;&gt;7 -->\n<g id=\"edge7\" class=\"edge\">\n<title>6&#45;&gt;7</title>\n<path fill=\"none\" stroke=\"#000000\" d=\"M458.9873,-103.9815C451.643,-94.8828 443.8612,-85.242 436.4981,-76.1199\"/>\n<polygon fill=\"#000000\" stroke=\"#000000\" points=\"439.1612,-73.8467 430.1568,-68.2637 433.7143,-78.2434 439.1612,-73.8467\"/>\n</g>\n<!-- 8 -->\n<g id=\"node9\" class=\"node\">\n<title>8</title>\n<path fill=\"#e68641\" stroke=\"#000000\" d=\"M638,-68C638,-68 509,-68 509,-68 503,-68 497,-62 497,-56 497,-56 497,-12 497,-12 497,-6 503,0 509,0 509,0 638,0 638,0 644,0 650,-6 650,-12 650,-12 650,-56 650,-56 650,-62 644,-68 638,-68\"/>\n<text text-anchor=\"start\" x=\"535.5\" y=\"-52.8\" font-family=\"Helvetica,sans-Serif\" font-size=\"14.00\" fill=\"#000000\">gini = 0.073</text>\n<text text-anchor=\"start\" x=\"525.5\" y=\"-37.8\" font-family=\"Helvetica,sans-Serif\" font-size=\"14.00\" fill=\"#000000\">samples = 713</text>\n<text text-anchor=\"start\" x=\"519.5\" y=\"-22.8\" font-family=\"Helvetica,sans-Serif\" font-size=\"14.00\" fill=\"#000000\">value = [686, 27]</text>\n<text text-anchor=\"start\" x=\"505\" y=\"-7.8\" font-family=\"Helvetica,sans-Serif\" font-size=\"14.00\" fill=\"#000000\">class = No registrado</text>\n</g>\n<!-- 6&#45;&gt;8 -->\n<g id=\"edge8\" class=\"edge\">\n<title>6&#45;&gt;8</title>\n<path fill=\"none\" stroke=\"#000000\" d=\"M522.6614,-103.9815C529.2045,-94.9747 536.1334,-85.4367 542.7008,-76.3965\"/>\n<polygon fill=\"#000000\" stroke=\"#000000\" points=\"545.5631,-78.4113 548.6089,-68.2637 539.8998,-74.2971 545.5631,-78.4113\"/>\n</g>\n<!-- 10 -->\n<g id=\"node11\" class=\"node\">\n<title>10</title>\n<path fill=\"#eeae80\" stroke=\"#000000\" d=\"M964,-187C964,-187 835,-187 835,-187 829,-187 823,-181 823,-175 823,-175 823,-116 823,-116 823,-110 829,-104 835,-104 835,-104 964,-104 964,-104 970,-104 976,-110 976,-116 976,-116 976,-175 976,-175 976,-181 970,-187 964,-187\"/>\n<text text-anchor=\"start\" x=\"869.5\" y=\"-171.8\" font-family=\"Helvetica,sans-Serif\" font-size=\"14.00\" fill=\"#000000\">day ≤ 3.0</text>\n<text text-anchor=\"start\" x=\"861.5\" y=\"-156.8\" font-family=\"Helvetica,sans-Serif\" font-size=\"14.00\" fill=\"#000000\">gini = 0.388</text>\n<text text-anchor=\"start\" x=\"855.5\" y=\"-141.8\" font-family=\"Helvetica,sans-Serif\" font-size=\"14.00\" fill=\"#000000\">samples = 19</text>\n<text text-anchor=\"start\" x=\"854\" y=\"-126.8\" font-family=\"Helvetica,sans-Serif\" font-size=\"14.00\" fill=\"#000000\">value = [14, 5]</text>\n<text text-anchor=\"start\" x=\"831\" y=\"-111.8\" font-family=\"Helvetica,sans-Serif\" font-size=\"14.00\" fill=\"#000000\">class = No registrado</text>\n</g>\n<!-- 9&#45;&gt;10 -->\n<g id=\"edge10\" class=\"edge\">\n<title>9&#45;&gt;10</title>\n<path fill=\"none\" stroke=\"#000000\" d=\"M952.1701,-222.8796C946.2237,-214.1434 939.8914,-204.8404 933.755,-195.8253\"/>\n<polygon fill=\"#000000\" stroke=\"#000000\" points=\"936.4711,-193.5953 927.9508,-187.2981 930.6844,-197.5342 936.4711,-193.5953\"/>\n</g>\n<!-- 13 -->\n<g id=\"node14\" class=\"node\">\n<title>13</title>\n<path fill=\"#4da7e8\" stroke=\"#000000\" d=\"M1119,-187C1119,-187 1006,-187 1006,-187 1000,-187 994,-181 994,-175 994,-175 994,-116 994,-116 994,-110 1000,-104 1006,-104 1006,-104 1119,-104 1119,-104 1125,-104 1131,-110 1131,-116 1131,-116 1131,-175 1131,-175 1131,-181 1125,-187 1119,-187\"/>\n<text text-anchor=\"start\" x=\"1010\" y=\"-171.8\" font-family=\"Helvetica,sans-Serif\" font-size=\"14.00\" fill=\"#000000\">duration ≤ 161.5</text>\n<text text-anchor=\"start\" x=\"1024.5\" y=\"-156.8\" font-family=\"Helvetica,sans-Serif\" font-size=\"14.00\" fill=\"#000000\">gini = 0.167</text>\n<text text-anchor=\"start\" x=\"1014.5\" y=\"-141.8\" font-family=\"Helvetica,sans-Serif\" font-size=\"14.00\" fill=\"#000000\">samples = 566</text>\n<text text-anchor=\"start\" x=\"1008.5\" y=\"-126.8\" font-family=\"Helvetica,sans-Serif\" font-size=\"14.00\" fill=\"#000000\">value = [52, 514]</text>\n<text text-anchor=\"start\" x=\"1002\" y=\"-111.8\" font-family=\"Helvetica,sans-Serif\" font-size=\"14.00\" fill=\"#000000\">class = Registrado</text>\n</g>\n<!-- 9&#45;&gt;13 -->\n<g id=\"edge13\" class=\"edge\">\n<title>9&#45;&gt;13</title>\n<path fill=\"none\" stroke=\"#000000\" d=\"M1009.1796,-222.8796C1015.2615,-214.0534 1021.7422,-204.6485 1028.0141,-195.5466\"/>\n<polygon fill=\"#000000\" stroke=\"#000000\" points=\"1030.9059,-197.5184 1033.698,-187.2981 1025.1418,-193.5465 1030.9059,-197.5184\"/>\n</g>\n<!-- 11 -->\n<g id=\"node12\" class=\"node\">\n<title>11</title>\n<path fill=\"#399de5\" stroke=\"#000000\" d=\"M793,-68C793,-68 680,-68 680,-68 674,-68 668,-62 668,-56 668,-56 668,-12 668,-12 668,-6 674,0 680,0 680,0 793,0 793,0 799,0 805,-6 805,-12 805,-12 805,-56 805,-56 805,-62 799,-68 793,-68\"/>\n<text text-anchor=\"start\" x=\"707\" y=\"-52.8\" font-family=\"Helvetica,sans-Serif\" font-size=\"14.00\" fill=\"#000000\">gini = 0.0</text>\n<text text-anchor=\"start\" x=\"697\" y=\"-37.8\" font-family=\"Helvetica,sans-Serif\" font-size=\"14.00\" fill=\"#000000\">samples = 2</text>\n<text text-anchor=\"start\" x=\"695\" y=\"-22.8\" font-family=\"Helvetica,sans-Serif\" font-size=\"14.00\" fill=\"#000000\">value = [0, 2]</text>\n<text text-anchor=\"start\" x=\"676\" y=\"-7.8\" font-family=\"Helvetica,sans-Serif\" font-size=\"14.00\" fill=\"#000000\">class = Registrado</text>\n</g>\n<!-- 10&#45;&gt;11 -->\n<g id=\"edge11\" class=\"edge\">\n<title>10&#45;&gt;11</title>\n<path fill=\"none\" stroke=\"#000000\" d=\"M838.8048,-103.9815C824.353,-94.0957 808.9658,-83.5701 794.632,-73.7651\"/>\n<polygon fill=\"#000000\" stroke=\"#000000\" points=\"796.559,-70.8428 786.3292,-68.0856 792.6068,-76.6204 796.559,-70.8428\"/>\n</g>\n<!-- 12 -->\n<g id=\"node13\" class=\"node\">\n<title>12</title>\n<path fill=\"#eb9c63\" stroke=\"#000000\" d=\"M964,-68C964,-68 835,-68 835,-68 829,-68 823,-62 823,-56 823,-56 823,-12 823,-12 823,-6 829,0 835,0 835,0 964,0 964,0 970,0 976,-6 976,-12 976,-12 976,-56 976,-56 976,-62 970,-68 964,-68\"/>\n<text text-anchor=\"start\" x=\"861.5\" y=\"-52.8\" font-family=\"Helvetica,sans-Serif\" font-size=\"14.00\" fill=\"#000000\">gini = 0.291</text>\n<text text-anchor=\"start\" x=\"855.5\" y=\"-37.8\" font-family=\"Helvetica,sans-Serif\" font-size=\"14.00\" fill=\"#000000\">samples = 17</text>\n<text text-anchor=\"start\" x=\"854\" y=\"-22.8\" font-family=\"Helvetica,sans-Serif\" font-size=\"14.00\" fill=\"#000000\">value = [14, 3]</text>\n<text text-anchor=\"start\" x=\"831\" y=\"-7.8\" font-family=\"Helvetica,sans-Serif\" font-size=\"14.00\" fill=\"#000000\">class = No registrado</text>\n</g>\n<!-- 10&#45;&gt;12 -->\n<g id=\"edge12\" class=\"edge\">\n<title>10&#45;&gt;12</title>\n<path fill=\"none\" stroke=\"#000000\" d=\"M899.5,-103.9815C899.5,-95.618 899.5,-86.7965 899.5,-78.3409\"/>\n<polygon fill=\"#000000\" stroke=\"#000000\" points=\"903.0001,-78.2636 899.5,-68.2637 896.0001,-78.2637 903.0001,-78.2636\"/>\n</g>\n<!-- 14 -->\n<g id=\"node15\" class=\"node\">\n<title>14</title>\n<path fill=\"#74baed\" stroke=\"#000000\" d=\"M1119,-68C1119,-68 1006,-68 1006,-68 1000,-68 994,-62 994,-56 994,-56 994,-12 994,-12 994,-6 1000,0 1006,0 1006,0 1119,0 1119,0 1125,0 1131,-6 1131,-12 1131,-12 1131,-56 1131,-56 1131,-62 1125,-68 1119,-68\"/>\n<text text-anchor=\"start\" x=\"1024.5\" y=\"-52.8\" font-family=\"Helvetica,sans-Serif\" font-size=\"14.00\" fill=\"#000000\">gini = 0.355</text>\n<text text-anchor=\"start\" x=\"1014.5\" y=\"-37.8\" font-family=\"Helvetica,sans-Serif\" font-size=\"14.00\" fill=\"#000000\">samples = 117</text>\n<text text-anchor=\"start\" x=\"1012.5\" y=\"-22.8\" font-family=\"Helvetica,sans-Serif\" font-size=\"14.00\" fill=\"#000000\">value = [27, 90]</text>\n<text text-anchor=\"start\" x=\"1002\" y=\"-7.8\" font-family=\"Helvetica,sans-Serif\" font-size=\"14.00\" fill=\"#000000\">class = Registrado</text>\n</g>\n<!-- 13&#45;&gt;14 -->\n<g id=\"edge14\" class=\"edge\">\n<title>13&#45;&gt;14</title>\n<path fill=\"none\" stroke=\"#000000\" d=\"M1062.5,-103.9815C1062.5,-95.618 1062.5,-86.7965 1062.5,-78.3409\"/>\n<polygon fill=\"#000000\" stroke=\"#000000\" points=\"1066.0001,-78.2636 1062.5,-68.2637 1059.0001,-78.2637 1066.0001,-78.2636\"/>\n</g>\n<!-- 15 -->\n<g id=\"node16\" class=\"node\">\n<title>15</title>\n<path fill=\"#45a3e7\" stroke=\"#000000\" d=\"M1274,-68C1274,-68 1161,-68 1161,-68 1155,-68 1149,-62 1149,-56 1149,-56 1149,-12 1149,-12 1149,-6 1155,0 1161,0 1161,0 1274,0 1274,0 1280,0 1286,-6 1286,-12 1286,-12 1286,-56 1286,-56 1286,-62 1280,-68 1274,-68\"/>\n<text text-anchor=\"start\" x=\"1179.5\" y=\"-52.8\" font-family=\"Helvetica,sans-Serif\" font-size=\"14.00\" fill=\"#000000\">gini = 0.105</text>\n<text text-anchor=\"start\" x=\"1169.5\" y=\"-37.8\" font-family=\"Helvetica,sans-Serif\" font-size=\"14.00\" fill=\"#000000\">samples = 449</text>\n<text text-anchor=\"start\" x=\"1163.5\" y=\"-22.8\" font-family=\"Helvetica,sans-Serif\" font-size=\"14.00\" fill=\"#000000\">value = [25, 424]</text>\n<text text-anchor=\"start\" x=\"1157\" y=\"-7.8\" font-family=\"Helvetica,sans-Serif\" font-size=\"14.00\" fill=\"#000000\">class = Registrado</text>\n</g>\n<!-- 13&#45;&gt;15 -->\n<g id=\"edge15\" class=\"edge\">\n<title>13&#45;&gt;15</title>\n<path fill=\"none\" stroke=\"#000000\" d=\"M1120.2163,-103.9815C1133.7591,-94.2394 1148.1657,-83.8759 1161.6263,-74.193\"/>\n<polygon fill=\"#000000\" stroke=\"#000000\" points=\"1163.7949,-76.9446 1169.8689,-68.2637 1159.7072,-71.2621 1163.7949,-76.9446\"/>\n</g>\n<!-- 17 -->\n<g id=\"node18\" class=\"node\">\n<title>17</title>\n<path fill=\"#94caf1\" stroke=\"#000000\" d=\"M1666.5,-306C1666.5,-306 1550.5,-306 1550.5,-306 1544.5,-306 1538.5,-300 1538.5,-294 1538.5,-294 1538.5,-235 1538.5,-235 1538.5,-229 1544.5,-223 1550.5,-223 1550.5,-223 1666.5,-223 1666.5,-223 1672.5,-223 1678.5,-229 1678.5,-235 1678.5,-235 1678.5,-294 1678.5,-294 1678.5,-300 1672.5,-306 1666.5,-306\"/>\n<text text-anchor=\"start\" x=\"1567\" y=\"-290.8\" font-family=\"Helvetica,sans-Serif\" font-size=\"14.00\" fill=\"#000000\">contact ≤ 1.5</text>\n<text text-anchor=\"start\" x=\"1570.5\" y=\"-275.8\" font-family=\"Helvetica,sans-Serif\" font-size=\"14.00\" fill=\"#000000\">gini = 0.432</text>\n<text text-anchor=\"start\" x=\"1556.5\" y=\"-260.8\" font-family=\"Helvetica,sans-Serif\" font-size=\"14.00\" fill=\"#000000\">samples = 1621</text>\n<text text-anchor=\"start\" x=\"1546.5\" y=\"-245.8\" font-family=\"Helvetica,sans-Serif\" font-size=\"14.00\" fill=\"#000000\">value = [511, 1110]</text>\n<text text-anchor=\"start\" x=\"1548\" y=\"-230.8\" font-family=\"Helvetica,sans-Serif\" font-size=\"14.00\" fill=\"#000000\">class = Registrado</text>\n</g>\n<!-- 16&#45;&gt;17 -->\n<g id=\"edge17\" class=\"edge\">\n<title>16&#45;&gt;17</title>\n<path fill=\"none\" stroke=\"#000000\" d=\"M1608.5,-341.8796C1608.5,-333.6838 1608.5,-324.9891 1608.5,-316.5013\"/>\n<polygon fill=\"#000000\" stroke=\"#000000\" points=\"1612.0001,-316.298 1608.5,-306.2981 1605.0001,-316.2981 1612.0001,-316.298\"/>\n</g>\n<!-- 24 -->\n<g id=\"node25\" class=\"node\">\n<title>24</title>\n<path fill=\"#58ace9\" stroke=\"#000000\" d=\"M2143.5,-306C2143.5,-306 2027.5,-306 2027.5,-306 2021.5,-306 2015.5,-300 2015.5,-294 2015.5,-294 2015.5,-235 2015.5,-235 2015.5,-229 2021.5,-223 2027.5,-223 2027.5,-223 2143.5,-223 2143.5,-223 2149.5,-223 2155.5,-229 2155.5,-235 2155.5,-235 2155.5,-294 2155.5,-294 2155.5,-300 2149.5,-306 2143.5,-306\"/>\n<text text-anchor=\"start\" x=\"2033\" y=\"-290.8\" font-family=\"Helvetica,sans-Serif\" font-size=\"14.00\" fill=\"#000000\">duration ≤ 869.5</text>\n<text text-anchor=\"start\" x=\"2047.5\" y=\"-275.8\" font-family=\"Helvetica,sans-Serif\" font-size=\"14.00\" fill=\"#000000\">gini = 0.233</text>\n<text text-anchor=\"start\" x=\"2033.5\" y=\"-260.8\" font-family=\"Helvetica,sans-Serif\" font-size=\"14.00\" fill=\"#000000\">samples = 1516</text>\n<text text-anchor=\"start\" x=\"2023.5\" y=\"-245.8\" font-family=\"Helvetica,sans-Serif\" font-size=\"14.00\" fill=\"#000000\">value = [204, 1312]</text>\n<text text-anchor=\"start\" x=\"2025\" y=\"-230.8\" font-family=\"Helvetica,sans-Serif\" font-size=\"14.00\" fill=\"#000000\">class = Registrado</text>\n</g>\n<!-- 16&#45;&gt;24 -->\n<g id=\"edge24\" class=\"edge\">\n<title>16&#45;&gt;24</title>\n<path fill=\"none\" stroke=\"#000000\" d=\"M1678.6267,-366.0051C1765.7023,-344.2818 1913.8913,-307.3122 2005.3675,-284.4911\"/>\n<polygon fill=\"#000000\" stroke=\"#000000\" points=\"2006.2799,-287.8709 2015.1353,-282.0543 2004.5854,-281.079 2006.2799,-287.8709\"/>\n</g>\n<!-- 18 -->\n<g id=\"node19\" class=\"node\">\n<title>18</title>\n<path fill=\"#7ebfee\" stroke=\"#000000\" d=\"M1584.5,-187C1584.5,-187 1468.5,-187 1468.5,-187 1462.5,-187 1456.5,-181 1456.5,-175 1456.5,-175 1456.5,-116 1456.5,-116 1456.5,-110 1462.5,-104 1468.5,-104 1468.5,-104 1584.5,-104 1584.5,-104 1590.5,-104 1596.5,-110 1596.5,-116 1596.5,-116 1596.5,-175 1596.5,-175 1596.5,-181 1590.5,-187 1584.5,-187\"/>\n<text text-anchor=\"start\" x=\"1473.5\" y=\"-171.8\" font-family=\"Helvetica,sans-Serif\" font-size=\"14.00\" fill=\"#000000\">p_success ≤ 0.5</text>\n<text text-anchor=\"start\" x=\"1488.5\" y=\"-156.8\" font-family=\"Helvetica,sans-Serif\" font-size=\"14.00\" fill=\"#000000\">gini = 0.383</text>\n<text text-anchor=\"start\" x=\"1474.5\" y=\"-141.8\" font-family=\"Helvetica,sans-Serif\" font-size=\"14.00\" fill=\"#000000\">samples = 1359</text>\n<text text-anchor=\"start\" x=\"1464.5\" y=\"-126.8\" font-family=\"Helvetica,sans-Serif\" font-size=\"14.00\" fill=\"#000000\">value = [351, 1008]</text>\n<text text-anchor=\"start\" x=\"1466\" y=\"-111.8\" font-family=\"Helvetica,sans-Serif\" font-size=\"14.00\" fill=\"#000000\">class = Registrado</text>\n</g>\n<!-- 17&#45;&gt;18 -->\n<g id=\"edge18\" class=\"edge\">\n<title>17&#45;&gt;18</title>\n<path fill=\"none\" stroke=\"#000000\" d=\"M1579.8204,-222.8796C1573.7385,-214.0534 1567.2578,-204.6485 1560.9859,-195.5466\"/>\n<polygon fill=\"#000000\" stroke=\"#000000\" points=\"1563.8582,-193.5465 1555.302,-187.2981 1558.0941,-197.5184 1563.8582,-193.5465\"/>\n</g>\n<!-- 21 -->\n<g id=\"node22\" class=\"node\">\n<title>21</title>\n<path fill=\"#f6d1b7\" stroke=\"#000000\" d=\"M1756,-187C1756,-187 1627,-187 1627,-187 1621,-187 1615,-181 1615,-175 1615,-175 1615,-116 1615,-116 1615,-110 1621,-104 1627,-104 1627,-104 1756,-104 1756,-104 1762,-104 1768,-110 1768,-116 1768,-116 1768,-175 1768,-175 1768,-181 1762,-187 1756,-187\"/>\n<text text-anchor=\"start\" x=\"1639\" y=\"-171.8\" font-family=\"Helvetica,sans-Serif\" font-size=\"14.00\" fill=\"#000000\">duration ≤ 478.0</text>\n<text text-anchor=\"start\" x=\"1653.5\" y=\"-156.8\" font-family=\"Helvetica,sans-Serif\" font-size=\"14.00\" fill=\"#000000\">gini = 0.475</text>\n<text text-anchor=\"start\" x=\"1643.5\" y=\"-141.8\" font-family=\"Helvetica,sans-Serif\" font-size=\"14.00\" fill=\"#000000\">samples = 262</text>\n<text text-anchor=\"start\" x=\"1633.5\" y=\"-126.8\" font-family=\"Helvetica,sans-Serif\" font-size=\"14.00\" fill=\"#000000\">value = [160, 102]</text>\n<text text-anchor=\"start\" x=\"1623\" y=\"-111.8\" font-family=\"Helvetica,sans-Serif\" font-size=\"14.00\" fill=\"#000000\">class = No registrado</text>\n</g>\n<!-- 17&#45;&gt;21 -->\n<g id=\"edge21\" class=\"edge\">\n<title>17&#45;&gt;21</title>\n<path fill=\"none\" stroke=\"#000000\" d=\"M1637.5294,-222.8796C1643.6855,-214.0534 1650.2451,-204.6485 1656.5936,-195.5466\"/>\n<polygon fill=\"#000000\" stroke=\"#000000\" points=\"1659.4967,-197.5024 1662.3467,-187.2981 1653.7552,-193.4978 1659.4967,-197.5024\"/>\n</g>\n<!-- 19 -->\n<g id=\"node20\" class=\"node\">\n<title>19</title>\n<path fill=\"#8bc6f0\" stroke=\"#000000\" d=\"M1429,-68C1429,-68 1316,-68 1316,-68 1310,-68 1304,-62 1304,-56 1304,-56 1304,-12 1304,-12 1304,-6 1310,0 1316,0 1316,0 1429,0 1429,0 1435,0 1441,-6 1441,-12 1441,-12 1441,-56 1441,-56 1441,-62 1435,-68 1429,-68\"/>\n<text text-anchor=\"start\" x=\"1334.5\" y=\"-52.8\" font-family=\"Helvetica,sans-Serif\" font-size=\"14.00\" fill=\"#000000\">gini = 0.414</text>\n<text text-anchor=\"start\" x=\"1320.5\" y=\"-37.8\" font-family=\"Helvetica,sans-Serif\" font-size=\"14.00\" fill=\"#000000\">samples = 1175</text>\n<text text-anchor=\"start\" x=\"1314.5\" y=\"-22.8\" font-family=\"Helvetica,sans-Serif\" font-size=\"14.00\" fill=\"#000000\">value = [344, 831]</text>\n<text text-anchor=\"start\" x=\"1312\" y=\"-7.8\" font-family=\"Helvetica,sans-Serif\" font-size=\"14.00\" fill=\"#000000\">class = Registrado</text>\n</g>\n<!-- 18&#45;&gt;19 -->\n<g id=\"edge19\" class=\"edge\">\n<title>18&#45;&gt;19</title>\n<path fill=\"none\" stroke=\"#000000\" d=\"M1469.1561,-103.9815C1455.7006,-94.2394 1441.3869,-83.8759 1428.0133,-74.193\"/>\n<polygon fill=\"#000000\" stroke=\"#000000\" points=\"1429.9763,-71.2933 1419.8238,-68.2637 1425.8711,-76.9632 1429.9763,-71.2933\"/>\n</g>\n<!-- 20 -->\n<g id=\"node21\" class=\"node\">\n<title>20</title>\n<path fill=\"#41a1e6\" stroke=\"#000000\" d=\"M1584,-68C1584,-68 1471,-68 1471,-68 1465,-68 1459,-62 1459,-56 1459,-56 1459,-12 1459,-12 1459,-6 1465,0 1471,0 1471,0 1584,0 1584,0 1590,0 1596,-6 1596,-12 1596,-12 1596,-56 1596,-56 1596,-62 1590,-68 1584,-68\"/>\n<text text-anchor=\"start\" x=\"1489.5\" y=\"-52.8\" font-family=\"Helvetica,sans-Serif\" font-size=\"14.00\" fill=\"#000000\">gini = 0.073</text>\n<text text-anchor=\"start\" x=\"1479.5\" y=\"-37.8\" font-family=\"Helvetica,sans-Serif\" font-size=\"14.00\" fill=\"#000000\">samples = 184</text>\n<text text-anchor=\"start\" x=\"1477.5\" y=\"-22.8\" font-family=\"Helvetica,sans-Serif\" font-size=\"14.00\" fill=\"#000000\">value = [7, 177]</text>\n<text text-anchor=\"start\" x=\"1467\" y=\"-7.8\" font-family=\"Helvetica,sans-Serif\" font-size=\"14.00\" fill=\"#000000\">class = Registrado</text>\n</g>\n<!-- 18&#45;&gt;20 -->\n<g id=\"edge20\" class=\"edge\">\n<title>18&#45;&gt;20</title>\n<path fill=\"none\" stroke=\"#000000\" d=\"M1526.8724,-103.9815C1526.9474,-95.618 1527.0265,-86.7965 1527.1023,-78.3409\"/>\n<polygon fill=\"#000000\" stroke=\"#000000\" points=\"1530.6028,-78.2947 1527.1927,-68.2637 1523.6031,-78.2318 1530.6028,-78.2947\"/>\n</g>\n<!-- 22 -->\n<g id=\"node23\" class=\"node\">\n<title>22</title>\n<path fill=\"#eb9f68\" stroke=\"#000000\" d=\"M1755,-68C1755,-68 1626,-68 1626,-68 1620,-68 1614,-62 1614,-56 1614,-56 1614,-12 1614,-12 1614,-6 1620,0 1626,0 1626,0 1755,0 1755,0 1761,0 1767,-6 1767,-12 1767,-12 1767,-56 1767,-56 1767,-62 1761,-68 1755,-68\"/>\n<text text-anchor=\"start\" x=\"1652.5\" y=\"-52.8\" font-family=\"Helvetica,sans-Serif\" font-size=\"14.00\" fill=\"#000000\">gini = 0.311</text>\n<text text-anchor=\"start\" x=\"1642.5\" y=\"-37.8\" font-family=\"Helvetica,sans-Serif\" font-size=\"14.00\" fill=\"#000000\">samples = 109</text>\n<text text-anchor=\"start\" x=\"1640.5\" y=\"-22.8\" font-family=\"Helvetica,sans-Serif\" font-size=\"14.00\" fill=\"#000000\">value = [88, 21]</text>\n<text text-anchor=\"start\" x=\"1622\" y=\"-7.8\" font-family=\"Helvetica,sans-Serif\" font-size=\"14.00\" fill=\"#000000\">class = No registrado</text>\n</g>\n<!-- 21&#45;&gt;22 -->\n<g id=\"edge22\" class=\"edge\">\n<title>21&#45;&gt;22</title>\n<path fill=\"none\" stroke=\"#000000\" d=\"M1691.1276,-103.9815C1691.0526,-95.618 1690.9735,-86.7965 1690.8977,-78.3409\"/>\n<polygon fill=\"#000000\" stroke=\"#000000\" points=\"1694.3969,-78.2318 1690.8073,-68.2637 1687.3972,-78.2947 1694.3969,-78.2318\"/>\n</g>\n<!-- 23 -->\n<g id=\"node24\" class=\"node\">\n<title>23</title>\n<path fill=\"#e9f4fc\" stroke=\"#000000\" d=\"M1910,-68C1910,-68 1797,-68 1797,-68 1791,-68 1785,-62 1785,-56 1785,-56 1785,-12 1785,-12 1785,-6 1791,0 1797,0 1797,0 1910,0 1910,0 1916,0 1922,-6 1922,-12 1922,-12 1922,-56 1922,-56 1922,-62 1916,-68 1910,-68\"/>\n<text text-anchor=\"start\" x=\"1815.5\" y=\"-52.8\" font-family=\"Helvetica,sans-Serif\" font-size=\"14.00\" fill=\"#000000\">gini = 0.498</text>\n<text text-anchor=\"start\" x=\"1805.5\" y=\"-37.8\" font-family=\"Helvetica,sans-Serif\" font-size=\"14.00\" fill=\"#000000\">samples = 153</text>\n<text text-anchor=\"start\" x=\"1803.5\" y=\"-22.8\" font-family=\"Helvetica,sans-Serif\" font-size=\"14.00\" fill=\"#000000\">value = [72, 81]</text>\n<text text-anchor=\"start\" x=\"1793\" y=\"-7.8\" font-family=\"Helvetica,sans-Serif\" font-size=\"14.00\" fill=\"#000000\">class = Registrado</text>\n</g>\n<!-- 21&#45;&gt;23 -->\n<g id=\"edge23\" class=\"edge\">\n<title>21&#45;&gt;23</title>\n<path fill=\"none\" stroke=\"#000000\" d=\"M1751.8228,-103.9815C1766.186,-94.0957 1781.4788,-83.5701 1795.7247,-73.7651\"/>\n<polygon fill=\"#000000\" stroke=\"#000000\" points=\"1797.7234,-76.6384 1803.9765,-68.0856 1793.7546,-70.8722 1797.7234,-76.6384\"/>\n</g>\n<!-- 25 -->\n<g id=\"node26\" class=\"node\">\n<title>25</title>\n<path fill=\"#62b1ea\" stroke=\"#000000\" d=\"M2142,-187C2142,-187 2029,-187 2029,-187 2023,-187 2017,-181 2017,-175 2017,-175 2017,-116 2017,-116 2017,-110 2023,-104 2029,-104 2029,-104 2142,-104 2142,-104 2148,-104 2154,-110 2154,-116 2154,-116 2154,-175 2154,-175 2154,-181 2148,-187 2142,-187\"/>\n<text text-anchor=\"start\" x=\"2035.5\" y=\"-171.8\" font-family=\"Helvetica,sans-Serif\" font-size=\"14.00\" fill=\"#000000\">campaign ≤ 6.5</text>\n<text text-anchor=\"start\" x=\"2047.5\" y=\"-156.8\" font-family=\"Helvetica,sans-Serif\" font-size=\"14.00\" fill=\"#000000\">gini = 0.285</text>\n<text text-anchor=\"start\" x=\"2037.5\" y=\"-141.8\" font-family=\"Helvetica,sans-Serif\" font-size=\"14.00\" fill=\"#000000\">samples = 691</text>\n<text text-anchor=\"start\" x=\"2027.5\" y=\"-126.8\" font-family=\"Helvetica,sans-Serif\" font-size=\"14.00\" fill=\"#000000\">value = [119, 572]</text>\n<text text-anchor=\"start\" x=\"2025\" y=\"-111.8\" font-family=\"Helvetica,sans-Serif\" font-size=\"14.00\" fill=\"#000000\">class = Registrado</text>\n</g>\n<!-- 24&#45;&gt;25 -->\n<g id=\"edge25\" class=\"edge\">\n<title>24&#45;&gt;25</title>\n<path fill=\"none\" stroke=\"#000000\" d=\"M2085.5,-222.8796C2085.5,-214.6838 2085.5,-205.9891 2085.5,-197.5013\"/>\n<polygon fill=\"#000000\" stroke=\"#000000\" points=\"2089.0001,-197.298 2085.5,-187.2981 2082.0001,-197.2981 2089.0001,-197.298\"/>\n</g>\n<!-- 28 -->\n<g id=\"node29\" class=\"node\">\n<title>28</title>\n<path fill=\"#50a8e8\" stroke=\"#000000\" d=\"M2375,-187C2375,-187 2262,-187 2262,-187 2256,-187 2250,-181 2250,-175 2250,-175 2250,-116 2250,-116 2250,-110 2256,-104 2262,-104 2262,-104 2375,-104 2375,-104 2381,-104 2387,-110 2387,-116 2387,-116 2387,-175 2387,-175 2387,-181 2381,-187 2375,-187\"/>\n<text text-anchor=\"start\" x=\"2284\" y=\"-171.8\" font-family=\"Helvetica,sans-Serif\" font-size=\"14.00\" fill=\"#000000\">age ≤ 86.5</text>\n<text text-anchor=\"start\" x=\"2280.5\" y=\"-156.8\" font-family=\"Helvetica,sans-Serif\" font-size=\"14.00\" fill=\"#000000\">gini = 0.185</text>\n<text text-anchor=\"start\" x=\"2270.5\" y=\"-141.8\" font-family=\"Helvetica,sans-Serif\" font-size=\"14.00\" fill=\"#000000\">samples = 825</text>\n<text text-anchor=\"start\" x=\"2264.5\" y=\"-126.8\" font-family=\"Helvetica,sans-Serif\" font-size=\"14.00\" fill=\"#000000\">value = [85, 740]</text>\n<text text-anchor=\"start\" x=\"2258\" y=\"-111.8\" font-family=\"Helvetica,sans-Serif\" font-size=\"14.00\" fill=\"#000000\">class = Registrado</text>\n</g>\n<!-- 24&#45;&gt;28 -->\n<g id=\"edge28\" class=\"edge\">\n<title>24&#45;&gt;28</title>\n<path fill=\"none\" stroke=\"#000000\" d=\"M2155.7237,-228.6347C2182.4493,-214.9851 2213.0546,-199.3541 2240.4613,-185.3567\"/>\n<polygon fill=\"#000000\" stroke=\"#000000\" points=\"2242.3091,-188.3431 2249.6228,-180.6776 2239.1251,-182.1091 2242.3091,-188.3431\"/>\n</g>\n<!-- 26 -->\n<g id=\"node27\" class=\"node\">\n<title>26</title>\n<path fill=\"#5fb0ea\" stroke=\"#000000\" d=\"M2065,-68C2065,-68 1952,-68 1952,-68 1946,-68 1940,-62 1940,-56 1940,-56 1940,-12 1940,-12 1940,-6 1946,0 1952,0 1952,0 2065,0 2065,0 2071,0 2077,-6 2077,-12 2077,-12 2077,-56 2077,-56 2077,-62 2071,-68 2065,-68\"/>\n<text text-anchor=\"start\" x=\"1970.5\" y=\"-52.8\" font-family=\"Helvetica,sans-Serif\" font-size=\"14.00\" fill=\"#000000\">gini = 0.271</text>\n<text text-anchor=\"start\" x=\"1960.5\" y=\"-37.8\" font-family=\"Helvetica,sans-Serif\" font-size=\"14.00\" fill=\"#000000\">samples = 656</text>\n<text text-anchor=\"start\" x=\"1950.5\" y=\"-22.8\" font-family=\"Helvetica,sans-Serif\" font-size=\"14.00\" fill=\"#000000\">value = [106, 550]</text>\n<text text-anchor=\"start\" x=\"1948\" y=\"-7.8\" font-family=\"Helvetica,sans-Serif\" font-size=\"14.00\" fill=\"#000000\">class = Registrado</text>\n</g>\n<!-- 25&#45;&gt;26 -->\n<g id=\"edge26\" class=\"edge\">\n<title>25&#45;&gt;26</title>\n<path fill=\"none\" stroke=\"#000000\" d=\"M2056.828,-103.9815C2050.6715,-95.0666 2044.1557,-85.6313 2037.9695,-76.6734\"/>\n<polygon fill=\"#000000\" stroke=\"#000000\" points=\"2040.7245,-74.5034 2032.1619,-68.2637 2034.9645,-78.4811 2040.7245,-74.5034\"/>\n</g>\n<!-- 27 -->\n<g id=\"node28\" class=\"node\">\n<title>27</title>\n<path fill=\"#aed7f4\" stroke=\"#000000\" d=\"M2220,-68C2220,-68 2107,-68 2107,-68 2101,-68 2095,-62 2095,-56 2095,-56 2095,-12 2095,-12 2095,-6 2101,0 2107,0 2107,0 2220,0 2220,0 2226,0 2232,-6 2232,-12 2232,-12 2232,-56 2232,-56 2232,-62 2226,-68 2220,-68\"/>\n<text text-anchor=\"start\" x=\"2125.5\" y=\"-52.8\" font-family=\"Helvetica,sans-Serif\" font-size=\"14.00\" fill=\"#000000\">gini = 0.467</text>\n<text text-anchor=\"start\" x=\"2119.5\" y=\"-37.8\" font-family=\"Helvetica,sans-Serif\" font-size=\"14.00\" fill=\"#000000\">samples = 35</text>\n<text text-anchor=\"start\" x=\"2113.5\" y=\"-22.8\" font-family=\"Helvetica,sans-Serif\" font-size=\"14.00\" fill=\"#000000\">value = [13, 22]</text>\n<text text-anchor=\"start\" x=\"2103\" y=\"-7.8\" font-family=\"Helvetica,sans-Serif\" font-size=\"14.00\" fill=\"#000000\">class = Registrado</text>\n</g>\n<!-- 25&#45;&gt;27 -->\n<g id=\"edge27\" class=\"edge\">\n<title>25&#45;&gt;27</title>\n<path fill=\"none\" stroke=\"#000000\" d=\"M2114.5443,-103.9815C2120.7808,-95.0666 2127.3813,-85.6313 2133.6478,-76.6734\"/>\n<polygon fill=\"#000000\" stroke=\"#000000\" points=\"2136.6665,-78.464 2139.5308,-68.2637 2130.9307,-74.4515 2136.6665,-78.464\"/>\n</g>\n<!-- 29 -->\n<g id=\"node30\" class=\"node\">\n<title>29</title>\n<path fill=\"#4fa8e8\" stroke=\"#000000\" d=\"M2375,-68C2375,-68 2262,-68 2262,-68 2256,-68 2250,-62 2250,-56 2250,-56 2250,-12 2250,-12 2250,-6 2256,0 2262,0 2262,0 2375,0 2375,0 2381,0 2387,-6 2387,-12 2387,-12 2387,-56 2387,-56 2387,-62 2381,-68 2375,-68\"/>\n<text text-anchor=\"start\" x=\"2280.5\" y=\"-52.8\" font-family=\"Helvetica,sans-Serif\" font-size=\"14.00\" fill=\"#000000\">gini = 0.183</text>\n<text text-anchor=\"start\" x=\"2270.5\" y=\"-37.8\" font-family=\"Helvetica,sans-Serif\" font-size=\"14.00\" fill=\"#000000\">samples = 824</text>\n<text text-anchor=\"start\" x=\"2264.5\" y=\"-22.8\" font-family=\"Helvetica,sans-Serif\" font-size=\"14.00\" fill=\"#000000\">value = [84, 740]</text>\n<text text-anchor=\"start\" x=\"2258\" y=\"-7.8\" font-family=\"Helvetica,sans-Serif\" font-size=\"14.00\" fill=\"#000000\">class = Registrado</text>\n</g>\n<!-- 28&#45;&gt;29 -->\n<g id=\"edge29\" class=\"edge\">\n<title>28&#45;&gt;29</title>\n<path fill=\"none\" stroke=\"#000000\" d=\"M2318.5,-103.9815C2318.5,-95.618 2318.5,-86.7965 2318.5,-78.3409\"/>\n<polygon fill=\"#000000\" stroke=\"#000000\" points=\"2322.0001,-78.2636 2318.5,-68.2637 2315.0001,-78.2637 2322.0001,-78.2636\"/>\n</g>\n<!-- 30 -->\n<g id=\"node31\" class=\"node\">\n<title>30</title>\n<path fill=\"#e58139\" stroke=\"#000000\" d=\"M2546,-68C2546,-68 2417,-68 2417,-68 2411,-68 2405,-62 2405,-56 2405,-56 2405,-12 2405,-12 2405,-6 2411,0 2417,0 2417,0 2546,0 2546,0 2552,0 2558,-6 2558,-12 2558,-12 2558,-56 2558,-56 2558,-62 2552,-68 2546,-68\"/>\n<text text-anchor=\"start\" x=\"2452\" y=\"-52.8\" font-family=\"Helvetica,sans-Serif\" font-size=\"14.00\" fill=\"#000000\">gini = 0.0</text>\n<text text-anchor=\"start\" x=\"2442\" y=\"-37.8\" font-family=\"Helvetica,sans-Serif\" font-size=\"14.00\" fill=\"#000000\">samples = 1</text>\n<text text-anchor=\"start\" x=\"2440\" y=\"-22.8\" font-family=\"Helvetica,sans-Serif\" font-size=\"14.00\" fill=\"#000000\">value = [1, 0]</text>\n<text text-anchor=\"start\" x=\"2413\" y=\"-7.8\" font-family=\"Helvetica,sans-Serif\" font-size=\"14.00\" fill=\"#000000\">class = No registrado</text>\n</g>\n<!-- 28&#45;&gt;30 -->\n<g id=\"edge30\" class=\"edge\">\n<title>28&#45;&gt;30</title>\n<path fill=\"none\" stroke=\"#000000\" d=\"M2379.1952,-103.9815C2393.647,-94.0957 2409.0342,-83.5701 2423.368,-73.7651\"/>\n<polygon fill=\"#000000\" stroke=\"#000000\" points=\"2425.3932,-76.6204 2431.6708,-68.0856 2421.441,-70.8428 2425.3932,-76.6204\"/>\n</g>\n</g>\n</svg>\n"
          },
          "metadata": {
            "tags": []
          },
          "execution_count": 29
        }
      ]
    },
    {
      "cell_type": "markdown",
      "metadata": {
        "id": "X5DaeeAx6MIx",
        "colab_type": "text"
      },
      "source": [
        "**Solución 3. Árbol de Decisión con profundidad máxima**"
      ]
    },
    {
      "cell_type": "code",
      "metadata": {
        "_cell_guid": "32a4d8a7-b285-47c2-988c-8aa6a66933e2",
        "_uuid": "cabee45b6dd75bd0aac571320e300c5d2c94c045",
        "colab_type": "code",
        "id": "pKsuElYHzvBw",
        "outputId": "63b22ad4-f315-44ab-c573-549500f68e1b",
        "colab": {
          "base_uri": "https://localhost:8080/",
          "height": 50
        }
      },
      "source": [
        "# Árbol de Decisión de profundidad máxima\n",
        "modelo3 = tree.DecisionTreeClassifier()\n",
        "# Entrenamiento del modelo\n",
        "modelo3.fit(x_train, y_train)\n",
        "# Cálculo de la exactitud media del proceso de entrenamiento\n",
        "modelo3_score_train = modelo3.score(x_train, y_train)\n",
        "# Imprimir el resultado\n",
        "print(\"Exactitud en el entrenamiento: \",modelo3_score_train)\n",
        "# Cálculo de la exactitud media del proceso de testeo\n",
        "modelo3_score_test = modelo3.score(x_test, y_test)\n",
        "# Imprimir el resultado\n",
        "print(\"Exactitud en el testeo: \",modelo3_score_test)"
      ],
      "execution_count": 30,
      "outputs": [
        {
          "output_type": "stream",
          "text": [
            "Exactitud en el entrenamiento:  1.0\n",
            "Exactitud en el testeo:  0.7922077922077922\n"
          ],
          "name": "stdout"
        }
      ]
    },
    {
      "cell_type": "markdown",
      "metadata": {
        "id": "XpWcIP42u4Yc",
        "colab_type": "text"
      },
      "source": [
        "**Solución 4. Imprimir las características más importantes del modelo de máxima profundidad**"
      ]
    },
    {
      "cell_type": "code",
      "metadata": {
        "id": "s-t9SXw6u7Oa",
        "colab_type": "code",
        "outputId": "6521791a-a4d8-44e6-8b43-b122070987b0",
        "colab": {
          "base_uri": "https://localhost:8080/",
          "height": 336
        }
      },
      "source": [
        "# Valor numérico de cada característica del Árbol de Decisión\n",
        "fi = modelo3.feature_importances_\n",
        "# Imprimir las características con su respectivo valor\n",
        "l = len(features_names)\n",
        "for i in range(0,len(features_names)):\n",
        "    print('{:.<20} {:3}'.format(features_names[i],fi[i]))"
      ],
      "execution_count": 31,
      "outputs": [
        {
          "output_type": "stream",
          "text": [
            "age................. 0.07623724372666825\n",
            "job................. 0.03355648443753786\n",
            "marital............. 0.012069380675288647\n",
            "education........... 0.01490289134057929\n",
            "default............. 0.00037428731570342423\n",
            "balance............. 0.08439395336061983\n",
            "housing............. 0.030764426023711086\n",
            "loan................ 0.009692578260285868\n",
            "contact............. 0.05391998798031435\n",
            "day................. 0.07378362637944992\n",
            "month............... 0.09790105028355932\n",
            "duration............ 0.3333513995450698\n",
            "campaign............ 0.029135314699065166\n",
            "pdays............... 0.028678822628943203\n",
            "previous............ 0.011962046245744\n",
            "p_failure........... 0.002540538001385064\n",
            "p_other............. 0.0027171551562084183\n",
            "p_success........... 0.10113649229262713\n",
            "p_unknown........... 0.0028823216472394567\n"
          ],
          "name": "stdout"
        }
      ]
    },
    {
      "cell_type": "markdown",
      "metadata": {
        "id": "R9D4o88f6fMs",
        "colab_type": "text"
      },
      "source": [
        "**Solución 5. Comparar los modelos anteriores**"
      ]
    },
    {
      "cell_type": "code",
      "metadata": {
        "_cell_guid": "6fb20c58-b5dc-4944-9b78-258d2f2e0da2",
        "_uuid": "92eee54d59182aeed9b828fe2a57818ffcfcbb31",
        "colab_type": "code",
        "id": "o4D-vz6ezvB0",
        "outputId": "c67d7188-f963-41c5-e386-b601b6f34f70",
        "scrolled": true,
        "colab": {
          "base_uri": "https://localhost:8080/",
          "height": 101
        }
      },
      "source": [
        "# Comparación de los modelos exactitud\n",
        "\n",
        "print('{:10} {:20} {:20}'.format('Profundidad', 'Desempeño entrenamiento','Desempeño prueba'))\n",
        "print('{:10} {:20} {:20}'.format('-----------', '-----------------------','----------------'))\n",
        "print('{:1} {:>26} {:>25}'.format(2, modelo1_score_train, modelo1_score_test))\n",
        "print('{:1} {:>28} {:>23}'.format(4, modelo2_score_train, modelo2_score_test))\n",
        "print('{:1} {:>11} {:>37}'.format(\"max\", modelo3_score_train, modelo3_score_test))"
      ],
      "execution_count": 32,
      "outputs": [
        {
          "output_type": "stream",
          "text": [
            "Profundidad Desempeño entrenamiento Desempeño prueba    \n",
            "----------- ----------------------- ----------------    \n",
            "2           0.76738716541606        0.7671294223018361\n",
            "4           0.7763467353567028      0.7756381549484997\n",
            "max         1.0                    0.7922077922077922\n"
          ],
          "name": "stdout"
        }
      ]
    },
    {
      "cell_type": "markdown",
      "metadata": {
        "id": "gHvUY5WNufAq",
        "colab_type": "text"
      },
      "source": [
        "# **RANDOM FOREST: CLASIFICADOR**"
      ]
    },
    {
      "cell_type": "code",
      "metadata": {
        "id": "pv24uZ5ivAcD",
        "colab_type": "code",
        "colab": {}
      },
      "source": [
        "# Se toma la base de datos menos la variable de interes 'deposit'\n",
        "x = bank.drop('deposit', 1)\n",
        "# Se toma la variable de interés\n",
        "y = bank.deposit\n",
        "# Función que separa los datos datos de X y Y de entrenamiento y testeo\n",
        "x_train, x_test, y_train, y_test = train_test_split(x, y, test_size = 0.2, random_state = 101)"
      ],
      "execution_count": 0,
      "outputs": []
    },
    {
      "cell_type": "code",
      "metadata": {
        "id": "3gfqSQWvNQmG",
        "colab_type": "code",
        "outputId": "f4cbcf22-a312-462b-c34e-3e4c3c301573",
        "colab": {
          "base_uri": "https://localhost:8080/",
          "height": 34
        }
      },
      "source": [
        "# Ranom fores con 100 árboles\n",
        "RFC_1 = RandomForestClassifier(n_estimators = 100)#criterion = entopy,gini\n",
        "# Entrenamiento del modelo\n",
        "RFC_1.fit(x_train, y_train)\n",
        "# Cálculo de la exactitud media del proceso de testeo\n",
        "modeloRFC_1_score_test = RFC_1.score(x_test, y_test)\n",
        "# Imprimir el resultado\n",
        "print(\"Exactitud en el testeo: \", modeloRFC_1_score_test)"
      ],
      "execution_count": 34,
      "outputs": [
        {
          "output_type": "stream",
          "text": [
            "Exactitud en el testeo:  0.8522167487684729\n"
          ],
          "name": "stdout"
        }
      ]
    },
    {
      "cell_type": "markdown",
      "metadata": {
        "id": "m0fw7qvauRS7",
        "colab_type": "text"
      },
      "source": [
        "Mostrar la relación de las características más importantes."
      ]
    },
    {
      "cell_type": "code",
      "metadata": {
        "id": "WicxEFqqoHj7",
        "colab_type": "code",
        "outputId": "c7f8ea3b-cd49-4017-ad83-50f5edaca542",
        "colab": {
          "base_uri": "https://localhost:8080/",
          "height": 592
        }
      },
      "source": [
        "tree_importance_sorted_idx = np.argsort(RFC_1.feature_importances_)\n",
        "tree_indices = np.arange(0, len(RFC_1.feature_importances_)) + 0.5\n",
        "# crear las variables para la gráfica de la figura y los ejes\n",
        "fig, ax = plt.subplots() \n",
        "# definir el tamaño de la gráfica\n",
        "fig.set_size_inches(10, 10) \n",
        "# Dato a graficar\n",
        "plt.barh(tree_indices, RFC_1.feature_importances_[tree_importance_sorted_idx], height=0.7)\n",
        "# eje y\n",
        "ax.set_yticklabels( x_train.columns[tree_importance_sorted_idx])\n",
        "ax.set_yticks(tree_indices)\n",
        "# Imprimir la gráfica\n",
        "plt.show()"
      ],
      "execution_count": 35,
      "outputs": [
        {
          "output_type": "display_data",
          "data": {
            "image/png": "[encoded data removed]",
            "text/plain": [
              "<Figure size 720x720 with 1 Axes>"
            ]
          },
          "metadata": {
            "tags": [],
            "needs_background": "light"
          }
        }
      ]
    },
    {
      "cell_type": "markdown",
      "metadata": {
        "id": "kSU2fGmS2nP6",
        "colab_type": "text"
      },
      "source": [
        "Estas características fueron seleccionadas en un proceso de ajuste con 100 árboles de decisión. Así que se puede asumir que su orden es coherente. Realizar un análisis de características se puede, por ejemplo, filtrar características que no son relevantes para el modelo."
      ]
    },
    {
      "cell_type": "markdown",
      "metadata": {
        "id": "uRV689Soxsw8",
        "colab_type": "text"
      },
      "source": [
        "**ACTIVIDAD**\n",
        "1. Crear un modelo de Random Forest sin las 9 características menos importantes.\n",
        "2. Crear un modelo de Random Forest sin la característica 'duration'."
      ]
    },
    {
      "cell_type": "markdown",
      "metadata": {
        "id": "0EbBvfkQv8HT",
        "colab_type": "text"
      },
      "source": [
        "**Solución 1. Módelo de Ramdom Forest sin las características menos importantes**"
      ]
    },
    {
      "cell_type": "code",
      "metadata": {
        "id": "7adgZWHswDLh",
        "colab_type": "code",
        "outputId": "cf981908-4f1d-479d-9cf2-9008a5b83d93",
        "colab": {
          "base_uri": "https://localhost:8080/",
          "height": 195
        }
      },
      "source": [
        "# Se toma la base de datos menos la variable de interes 'deposit'\n",
        "x = bank.drop('deposit', 1)\n",
        "# Eliminar las características menos importantes\n",
        "x = x.drop(['default', 'p_other', 'p_failure', 'loan', 'p_unknown', 'marital', 'previous', 'education', 'housing'], axis=1)\n",
        "# Se toma la variable de interés\n",
        "y = bank.deposit\n",
        "# Función que separa los datos datos de X y Y de entrenamiento y testeo\n",
        "x_train, x_test, y_train, y_test = train_test_split(x, y, test_size = 0.2, random_state = 101)\n",
        "x.head()"
      ],
      "execution_count": 36,
      "outputs": [
        {
          "output_type": "execute_result",
          "data": {
            "text/html": [
              "<div>\n",
              "<style scoped>\n",
              "    .dataframe tbody tr th:only-of-type {\n",
              "        vertical-align: middle;\n",
              "    }\n",
              "\n",
              "    .dataframe tbody tr th {\n",
              "        vertical-align: top;\n",
              "    }\n",
              "\n",
              "    .dataframe thead th {\n",
              "        text-align: right;\n",
              "    }\n",
              "</style>\n",
              "<table border=\"1\" class=\"dataframe\">\n",
              "  <thead>\n",
              "    <tr style=\"text-align: right;\">\n",
              "      <th></th>\n",
              "      <th>age</th>\n",
              "      <th>job</th>\n",
              "      <th>balance</th>\n",
              "      <th>contact</th>\n",
              "      <th>day</th>\n",
              "      <th>month</th>\n",
              "      <th>duration</th>\n",
              "      <th>campaign</th>\n",
              "      <th>pdays</th>\n",
              "      <th>p_success</th>\n",
              "    </tr>\n",
              "  </thead>\n",
              "  <tbody>\n",
              "    <tr>\n",
              "      <th>0</th>\n",
              "      <td>59</td>\n",
              "      <td>0</td>\n",
              "      <td>2343</td>\n",
              "      <td>2</td>\n",
              "      <td>5</td>\n",
              "      <td>8</td>\n",
              "      <td>1042</td>\n",
              "      <td>1</td>\n",
              "      <td>1000</td>\n",
              "      <td>0</td>\n",
              "    </tr>\n",
              "    <tr>\n",
              "      <th>1</th>\n",
              "      <td>56</td>\n",
              "      <td>0</td>\n",
              "      <td>45</td>\n",
              "      <td>2</td>\n",
              "      <td>5</td>\n",
              "      <td>8</td>\n",
              "      <td>1467</td>\n",
              "      <td>1</td>\n",
              "      <td>1000</td>\n",
              "      <td>0</td>\n",
              "    </tr>\n",
              "    <tr>\n",
              "      <th>2</th>\n",
              "      <td>41</td>\n",
              "      <td>9</td>\n",
              "      <td>1270</td>\n",
              "      <td>2</td>\n",
              "      <td>5</td>\n",
              "      <td>8</td>\n",
              "      <td>1389</td>\n",
              "      <td>1</td>\n",
              "      <td>1000</td>\n",
              "      <td>0</td>\n",
              "    </tr>\n",
              "    <tr>\n",
              "      <th>3</th>\n",
              "      <td>55</td>\n",
              "      <td>7</td>\n",
              "      <td>2476</td>\n",
              "      <td>2</td>\n",
              "      <td>5</td>\n",
              "      <td>8</td>\n",
              "      <td>579</td>\n",
              "      <td>1</td>\n",
              "      <td>1000</td>\n",
              "      <td>0</td>\n",
              "    </tr>\n",
              "    <tr>\n",
              "      <th>4</th>\n",
              "      <td>54</td>\n",
              "      <td>0</td>\n",
              "      <td>184</td>\n",
              "      <td>2</td>\n",
              "      <td>5</td>\n",
              "      <td>8</td>\n",
              "      <td>673</td>\n",
              "      <td>2</td>\n",
              "      <td>1000</td>\n",
              "      <td>0</td>\n",
              "    </tr>\n",
              "  </tbody>\n",
              "</table>\n",
              "</div>"
            ],
            "text/plain": [
              "   age  job  balance  contact  day  month  duration  campaign  pdays  p_success\n",
              "0   59    0     2343        2    5      8      1042         1   1000          0\n",
              "1   56    0       45        2    5      8      1467         1   1000          0\n",
              "2   41    9     1270        2    5      8      1389         1   1000          0\n",
              "3   55    7     2476        2    5      8       579         1   1000          0\n",
              "4   54    0      184        2    5      8       673         2   1000          0"
            ]
          },
          "metadata": {
            "tags": []
          },
          "execution_count": 36
        }
      ]
    },
    {
      "cell_type": "code",
      "metadata": {
        "id": "0oPYDpKXwYTU",
        "colab_type": "code",
        "outputId": "8433a503-c920-448b-9756-fb38dd834305",
        "colab": {
          "base_uri": "https://localhost:8080/",
          "height": 34
        }
      },
      "source": [
        "# Ranom fores con 100 árboles\n",
        "RFC_2 = RandomForestClassifier(n_estimators = 100)#criterion = entopy,gini\n",
        "# Entrenamiento del modelo\n",
        "RFC_2.fit(x_train, y_train)\n",
        "# Cálculo de la exactitud media del proceso de testeo\n",
        "modeloRFC_2_score_test = RFC_2.score(x_test, y_test)\n",
        "# Imprimir el resultado\n",
        "print(\"Exactitud en el testeo: \", modeloRFC_2_score_test)"
      ],
      "execution_count": 37,
      "outputs": [
        {
          "output_type": "stream",
          "text": [
            "Exactitud en el testeo:  0.8495297805642633\n"
          ],
          "name": "stdout"
        }
      ]
    },
    {
      "cell_type": "markdown",
      "metadata": {
        "id": "jFSq915c1bK1",
        "colab_type": "text"
      },
      "source": [
        "**Solución 2. Módelo de Ramdom Forest sin la característica 'duration'**"
      ]
    },
    {
      "cell_type": "code",
      "metadata": {
        "id": "h0n69v_Q1gtj",
        "colab_type": "code",
        "outputId": "a83d6280-5a9d-44ed-ee51-b9cbe02b823a",
        "colab": {
          "base_uri": "https://localhost:8080/",
          "height": 195
        }
      },
      "source": [
        "# Se toma la base de datos menos la variable de interes 'deposit'\n",
        "x = bank.drop('deposit', 1)\n",
        "# Eliminar las características menos importantes\n",
        "x = x.drop('duration', 1)\n",
        "# Se toma la variable de interés\n",
        "y = bank.deposit\n",
        "# Función que separa los datos datos de X y Y de entrenamiento y testeo\n",
        "x_train, x_test, y_train, y_test = train_test_split(x, y, test_size = 0.2, random_state = 101)\n",
        "x.head()"
      ],
      "execution_count": 38,
      "outputs": [
        {
          "output_type": "execute_result",
          "data": {
            "text/html": [
              "<div>\n",
              "<style scoped>\n",
              "    .dataframe tbody tr th:only-of-type {\n",
              "        vertical-align: middle;\n",
              "    }\n",
              "\n",
              "    .dataframe tbody tr th {\n",
              "        vertical-align: top;\n",
              "    }\n",
              "\n",
              "    .dataframe thead th {\n",
              "        text-align: right;\n",
              "    }\n",
              "</style>\n",
              "<table border=\"1\" class=\"dataframe\">\n",
              "  <thead>\n",
              "    <tr style=\"text-align: right;\">\n",
              "      <th></th>\n",
              "      <th>age</th>\n",
              "      <th>job</th>\n",
              "      <th>marital</th>\n",
              "      <th>education</th>\n",
              "      <th>default</th>\n",
              "      <th>balance</th>\n",
              "      <th>housing</th>\n",
              "      <th>loan</th>\n",
              "      <th>contact</th>\n",
              "      <th>day</th>\n",
              "      <th>month</th>\n",
              "      <th>campaign</th>\n",
              "      <th>pdays</th>\n",
              "      <th>previous</th>\n",
              "      <th>p_failure</th>\n",
              "      <th>p_other</th>\n",
              "      <th>p_success</th>\n",
              "      <th>p_unknown</th>\n",
              "    </tr>\n",
              "  </thead>\n",
              "  <tbody>\n",
              "    <tr>\n",
              "      <th>0</th>\n",
              "      <td>59</td>\n",
              "      <td>0</td>\n",
              "      <td>1</td>\n",
              "      <td>1</td>\n",
              "      <td>0</td>\n",
              "      <td>2343</td>\n",
              "      <td>1</td>\n",
              "      <td>0</td>\n",
              "      <td>2</td>\n",
              "      <td>5</td>\n",
              "      <td>8</td>\n",
              "      <td>1</td>\n",
              "      <td>1000</td>\n",
              "      <td>0</td>\n",
              "      <td>0</td>\n",
              "      <td>0</td>\n",
              "      <td>0</td>\n",
              "      <td>1</td>\n",
              "    </tr>\n",
              "    <tr>\n",
              "      <th>1</th>\n",
              "      <td>56</td>\n",
              "      <td>0</td>\n",
              "      <td>1</td>\n",
              "      <td>1</td>\n",
              "      <td>0</td>\n",
              "      <td>45</td>\n",
              "      <td>0</td>\n",
              "      <td>0</td>\n",
              "      <td>2</td>\n",
              "      <td>5</td>\n",
              "      <td>8</td>\n",
              "      <td>1</td>\n",
              "      <td>1000</td>\n",
              "      <td>0</td>\n",
              "      <td>0</td>\n",
              "      <td>0</td>\n",
              "      <td>0</td>\n",
              "      <td>1</td>\n",
              "    </tr>\n",
              "    <tr>\n",
              "      <th>2</th>\n",
              "      <td>41</td>\n",
              "      <td>9</td>\n",
              "      <td>1</td>\n",
              "      <td>1</td>\n",
              "      <td>0</td>\n",
              "      <td>1270</td>\n",
              "      <td>1</td>\n",
              "      <td>0</td>\n",
              "      <td>2</td>\n",
              "      <td>5</td>\n",
              "      <td>8</td>\n",
              "      <td>1</td>\n",
              "      <td>1000</td>\n",
              "      <td>0</td>\n",
              "      <td>0</td>\n",
              "      <td>0</td>\n",
              "      <td>0</td>\n",
              "      <td>1</td>\n",
              "    </tr>\n",
              "    <tr>\n",
              "      <th>3</th>\n",
              "      <td>55</td>\n",
              "      <td>7</td>\n",
              "      <td>1</td>\n",
              "      <td>1</td>\n",
              "      <td>0</td>\n",
              "      <td>2476</td>\n",
              "      <td>1</td>\n",
              "      <td>0</td>\n",
              "      <td>2</td>\n",
              "      <td>5</td>\n",
              "      <td>8</td>\n",
              "      <td>1</td>\n",
              "      <td>1000</td>\n",
              "      <td>0</td>\n",
              "      <td>0</td>\n",
              "      <td>0</td>\n",
              "      <td>0</td>\n",
              "      <td>1</td>\n",
              "    </tr>\n",
              "    <tr>\n",
              "      <th>4</th>\n",
              "      <td>54</td>\n",
              "      <td>0</td>\n",
              "      <td>1</td>\n",
              "      <td>2</td>\n",
              "      <td>0</td>\n",
              "      <td>184</td>\n",
              "      <td>0</td>\n",
              "      <td>0</td>\n",
              "      <td>2</td>\n",
              "      <td>5</td>\n",
              "      <td>8</td>\n",
              "      <td>2</td>\n",
              "      <td>1000</td>\n",
              "      <td>0</td>\n",
              "      <td>0</td>\n",
              "      <td>0</td>\n",
              "      <td>0</td>\n",
              "      <td>1</td>\n",
              "    </tr>\n",
              "  </tbody>\n",
              "</table>\n",
              "</div>"
            ],
            "text/plain": [
              "   age  job  marital  education  ...  p_failure  p_other  p_success  p_unknown\n",
              "0   59    0        1          1  ...          0        0          0          1\n",
              "1   56    0        1          1  ...          0        0          0          1\n",
              "2   41    9        1          1  ...          0        0          0          1\n",
              "3   55    7        1          1  ...          0        0          0          1\n",
              "4   54    0        1          2  ...          0        0          0          1\n",
              "\n",
              "[5 rows x 18 columns]"
            ]
          },
          "metadata": {
            "tags": []
          },
          "execution_count": 38
        }
      ]
    },
    {
      "cell_type": "code",
      "metadata": {
        "id": "mjh59DE01oti",
        "colab_type": "code",
        "outputId": "8d37fa1e-1d9b-44ae-eefb-563d61f01847",
        "colab": {
          "base_uri": "https://localhost:8080/",
          "height": 34
        }
      },
      "source": [
        "# Ranom fores con 100 árboles\n",
        "RFC_3 = RandomForestClassifier(n_estimators = 100)#criterion = entopy,gini\n",
        "# Entrenamiento del modelo\n",
        "RFC_3.fit(x_train, y_train)\n",
        "# Cálculo de la exactitud media del proceso de testeo\n",
        "modeloRFC_3_score_test = RFC_3.score(x_test, y_test)\n",
        "# Imprimir el resultado\n",
        "print(\"Exactitud en el testeo: \", modeloRFC_3_score_test)"
      ],
      "execution_count": 39,
      "outputs": [
        {
          "output_type": "stream",
          "text": [
            "Exactitud en el testeo:  0.7277205553067622\n"
          ],
          "name": "stdout"
        }
      ]
    }
  ]
}