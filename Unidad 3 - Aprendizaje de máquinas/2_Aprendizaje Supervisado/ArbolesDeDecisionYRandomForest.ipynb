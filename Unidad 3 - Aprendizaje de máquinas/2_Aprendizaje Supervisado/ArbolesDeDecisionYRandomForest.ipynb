{
  "nbformat": 4,
  "nbformat_minor": 0,
  "metadata": {
    "colab": {
      "name": "ArbolesDeDecisionYRandomForest.ipynb",
      "provenance": [],
      "collapsed_sections": [],
      "machine_shape": "hm",
      "include_colab_link": true
    },
    "kernelspec": {
      "display_name": "Python 3",
      "language": "python",
      "name": "python3"
    },
    "language_info": {
      "codemirror_mode": {
        "name": "ipython",
        "version": 3
      },
      "file_extension": ".py",
      "mimetype": "text/x-python",
      "name": "python",
      "nbconvert_exporter": "python",
      "pygments_lexer": "ipython3",
      "version": "3.7.4"
    }
  },
  "cells": [
    {
      "cell_type": "markdown",
      "metadata": {
        "id": "view-in-github",
        "colab_type": "text"
      },
      "source": [
        "<a href=\"https://colab.research.google.com/github/jaguzman/FundamentosEnHerramientasDeTransformacionDigital/blob/master/Unidad%203%20-%20Aprendizaje%20de%20m%C3%A1quinas/2_Aprendizaje%20Supervisado/ArbolesDeDecisionYRandomForest.ipynb\" target=\"_parent\"><img src=\"https://colab.research.google.com/assets/colab-badge.svg\" alt=\"Open In Colab\"/></a>"
      ]
    },
    {
      "cell_type": "markdown",
      "metadata": {
        "_cell_guid": "459ad1ed-0e10-4dd1-a4f1-893ba5368175",
        "_uuid": "08bb7d7c3677ca15a39a3569cef5d2071e9b015e",
        "colab_type": "text",
        "id": "qOyrGlavzu_O"
      },
      "source": [
        "# ÁRBOLES DE DECISIÓN!\n",
        "\n",
        "**Datos Bancarios de Comercialización**\n",
        "\n",
        "Se cuenta con una base de datos de una campaña de comercialización de un banco portugués. Esta campaña se basó en llamadas telefónicas para ofrecer un producto al cliente y él se suscribía o no. El producto que se les ofreció fue un depósito a plazo.\n",
        "\n",
        "Información del dataset: https://archive.ics.uci.edu/ml/datasets/Bank+Marketing\n",
        "\n",
        "[Moro et al., 2014] S. Moro, P. Cortez and P. Rita. A Data-Driven Approach to Predict the Success of Bank Telemarketing. Decision Support Systems, Elsevier, 62:22-31, June 2014\n",
        "\n",
        "**OBJETIVO**\n",
        "\n",
        "Crear un modelo de clasificación, basado en arboles de decisión, que prediga si un cliente se suscribirá a una campaña de comercialización (si/no).\n",
        "\n"
      ]
    },
    {
      "cell_type": "markdown",
      "metadata": {
        "id": "5NPZkLPu3g_v",
        "colab_type": "text"
      },
      "source": [
        "**Contenido**\n",
        "\n",
        "*   Base de datos\n",
        "*   Descripción y analítica de datos\n",
        "*   Preparación de los datos para el algoritmo\n",
        "*   Árboles de Decisión\n",
        "    - Clasificador\n",
        "    - Actividad\n",
        "*   Random Forest\n",
        "    - Clasificador\n",
        "*   Comparación de los clasificadores\n",
        "*   Realizar una predicción"
      ]
    },
    {
      "cell_type": "markdown",
      "metadata": {
        "id": "N26Hnv6g4oWs",
        "colab_type": "text"
      },
      "source": [
        "# **BASE DE DATOS**"
      ]
    },
    {
      "cell_type": "code",
      "metadata": {
        "id": "R8Gwj22TnWFp",
        "colab_type": "code",
        "colab": {
          "base_uri": "https://localhost:8080/",
          "height": 271
        },
        "outputId": "4d4b75fa-d9b9-4d13-8716-1f70e974fe09"
      },
      "source": [
        "import pandas as pd\n",
        "\n",
        "# Leer los datos desde el GitHub\n",
        "bank = pd.read_csv(\n",
        "    \"https://raw.githubusercontent.com/jaguzman/dataSets/master/datasets/bank.csv\",\n",
        "    sep = ',',         # Se especifica el separador de los datos\n",
        "    thousands = None,  # Se especifica el separador de miles\n",
        "    decimal = '.')     # Se especifica el separador de los decimales\n",
        "\n",
        "# Imprimir el tamaño de la base de datos\n",
        "print(bank.shape)\n",
        "# Imprimir las primeras 7 líneas\n",
        "bank.head(7)"
      ],
      "execution_count": 22,
      "outputs": [
        {
          "output_type": "stream",
          "text": [
            "(11162, 17)\n"
          ],
          "name": "stdout"
        },
        {
          "output_type": "execute_result",
          "data": {
            "text/html": [
              "<div>\n",
              "<style scoped>\n",
              "    .dataframe tbody tr th:only-of-type {\n",
              "        vertical-align: middle;\n",
              "    }\n",
              "\n",
              "    .dataframe tbody tr th {\n",
              "        vertical-align: top;\n",
              "    }\n",
              "\n",
              "    .dataframe thead th {\n",
              "        text-align: right;\n",
              "    }\n",
              "</style>\n",
              "<table border=\"1\" class=\"dataframe\">\n",
              "  <thead>\n",
              "    <tr style=\"text-align: right;\">\n",
              "      <th></th>\n",
              "      <th>age</th>\n",
              "      <th>job</th>\n",
              "      <th>marital</th>\n",
              "      <th>education</th>\n",
              "      <th>default</th>\n",
              "      <th>balance</th>\n",
              "      <th>housing</th>\n",
              "      <th>loan</th>\n",
              "      <th>contact</th>\n",
              "      <th>day</th>\n",
              "      <th>month</th>\n",
              "      <th>duration</th>\n",
              "      <th>campaign</th>\n",
              "      <th>pdays</th>\n",
              "      <th>previous</th>\n",
              "      <th>poutcome</th>\n",
              "      <th>deposit</th>\n",
              "    </tr>\n",
              "  </thead>\n",
              "  <tbody>\n",
              "    <tr>\n",
              "      <th>0</th>\n",
              "      <td>59</td>\n",
              "      <td>admin.</td>\n",
              "      <td>married</td>\n",
              "      <td>secondary</td>\n",
              "      <td>no</td>\n",
              "      <td>2343</td>\n",
              "      <td>yes</td>\n",
              "      <td>no</td>\n",
              "      <td>unknown</td>\n",
              "      <td>5</td>\n",
              "      <td>may</td>\n",
              "      <td>1042</td>\n",
              "      <td>1</td>\n",
              "      <td>-1</td>\n",
              "      <td>0</td>\n",
              "      <td>unknown</td>\n",
              "      <td>yes</td>\n",
              "    </tr>\n",
              "    <tr>\n",
              "      <th>1</th>\n",
              "      <td>56</td>\n",
              "      <td>admin.</td>\n",
              "      <td>married</td>\n",
              "      <td>secondary</td>\n",
              "      <td>no</td>\n",
              "      <td>45</td>\n",
              "      <td>no</td>\n",
              "      <td>no</td>\n",
              "      <td>unknown</td>\n",
              "      <td>5</td>\n",
              "      <td>may</td>\n",
              "      <td>1467</td>\n",
              "      <td>1</td>\n",
              "      <td>-1</td>\n",
              "      <td>0</td>\n",
              "      <td>unknown</td>\n",
              "      <td>yes</td>\n",
              "    </tr>\n",
              "    <tr>\n",
              "      <th>2</th>\n",
              "      <td>41</td>\n",
              "      <td>technician</td>\n",
              "      <td>married</td>\n",
              "      <td>secondary</td>\n",
              "      <td>no</td>\n",
              "      <td>1270</td>\n",
              "      <td>yes</td>\n",
              "      <td>no</td>\n",
              "      <td>unknown</td>\n",
              "      <td>5</td>\n",
              "      <td>may</td>\n",
              "      <td>1389</td>\n",
              "      <td>1</td>\n",
              "      <td>-1</td>\n",
              "      <td>0</td>\n",
              "      <td>unknown</td>\n",
              "      <td>yes</td>\n",
              "    </tr>\n",
              "    <tr>\n",
              "      <th>3</th>\n",
              "      <td>55</td>\n",
              "      <td>services</td>\n",
              "      <td>married</td>\n",
              "      <td>secondary</td>\n",
              "      <td>no</td>\n",
              "      <td>2476</td>\n",
              "      <td>yes</td>\n",
              "      <td>no</td>\n",
              "      <td>unknown</td>\n",
              "      <td>5</td>\n",
              "      <td>may</td>\n",
              "      <td>579</td>\n",
              "      <td>1</td>\n",
              "      <td>-1</td>\n",
              "      <td>0</td>\n",
              "      <td>unknown</td>\n",
              "      <td>yes</td>\n",
              "    </tr>\n",
              "    <tr>\n",
              "      <th>4</th>\n",
              "      <td>54</td>\n",
              "      <td>admin.</td>\n",
              "      <td>married</td>\n",
              "      <td>tertiary</td>\n",
              "      <td>no</td>\n",
              "      <td>184</td>\n",
              "      <td>no</td>\n",
              "      <td>no</td>\n",
              "      <td>unknown</td>\n",
              "      <td>5</td>\n",
              "      <td>may</td>\n",
              "      <td>673</td>\n",
              "      <td>2</td>\n",
              "      <td>-1</td>\n",
              "      <td>0</td>\n",
              "      <td>unknown</td>\n",
              "      <td>yes</td>\n",
              "    </tr>\n",
              "    <tr>\n",
              "      <th>5</th>\n",
              "      <td>42</td>\n",
              "      <td>management</td>\n",
              "      <td>single</td>\n",
              "      <td>tertiary</td>\n",
              "      <td>no</td>\n",
              "      <td>0</td>\n",
              "      <td>yes</td>\n",
              "      <td>yes</td>\n",
              "      <td>unknown</td>\n",
              "      <td>5</td>\n",
              "      <td>may</td>\n",
              "      <td>562</td>\n",
              "      <td>2</td>\n",
              "      <td>-1</td>\n",
              "      <td>0</td>\n",
              "      <td>unknown</td>\n",
              "      <td>yes</td>\n",
              "    </tr>\n",
              "    <tr>\n",
              "      <th>6</th>\n",
              "      <td>56</td>\n",
              "      <td>management</td>\n",
              "      <td>married</td>\n",
              "      <td>tertiary</td>\n",
              "      <td>no</td>\n",
              "      <td>830</td>\n",
              "      <td>yes</td>\n",
              "      <td>yes</td>\n",
              "      <td>unknown</td>\n",
              "      <td>6</td>\n",
              "      <td>may</td>\n",
              "      <td>1201</td>\n",
              "      <td>1</td>\n",
              "      <td>-1</td>\n",
              "      <td>0</td>\n",
              "      <td>unknown</td>\n",
              "      <td>yes</td>\n",
              "    </tr>\n",
              "  </tbody>\n",
              "</table>\n",
              "</div>"
            ],
            "text/plain": [
              "   age         job  marital  education  ... pdays  previous poutcome deposit\n",
              "0   59      admin.  married  secondary  ...    -1         0  unknown     yes\n",
              "1   56      admin.  married  secondary  ...    -1         0  unknown     yes\n",
              "2   41  technician  married  secondary  ...    -1         0  unknown     yes\n",
              "3   55    services  married  secondary  ...    -1         0  unknown     yes\n",
              "4   54      admin.  married   tertiary  ...    -1         0  unknown     yes\n",
              "5   42  management   single   tertiary  ...    -1         0  unknown     yes\n",
              "6   56  management  married   tertiary  ...    -1         0  unknown     yes\n",
              "\n",
              "[7 rows x 17 columns]"
            ]
          },
          "metadata": {
            "tags": []
          },
          "execution_count": 22
        }
      ]
    },
    {
      "cell_type": "markdown",
      "metadata": {
        "colab_type": "text",
        "id": "Qfe6eJXuH_Ib"
      },
      "source": [
        "**DESCRIPCIÓN DE LA BASE DE DATOS**\n",
        "\n",
        "**Datos bancarios del cliente**\n",
        "\n",
        "**[1] Age:** edad  (numérico)\n",
        "\n",
        "**[2] Job:** tipo de trabajo (categórico) [admin, technician, services, management, retired, blue-collar, unemployed, entrepreneur, housemaid, unknown, self-employed, student]\n",
        "\n",
        "**[3] Marital:** estado civil (categórico) [married, single, divorced]\n",
        "\n",
        "**[4] Education:** educación (categórica) [secondary, tertiary, primary, unknown] ['basic.4y', 'basic.6y', 'basic.9y', 'high.school', 'analfabeto', 'professional.course', 'university.degree', 'unknown']\n",
        "\n",
        "**[5] Default:** ¿tiene crédito en incumplimiento? (categórico) [yes, no]\n",
        "\n",
        "**[6] Balance:** balance financiero de la persona (numérico)\n",
        "\n",
        "**[7] Housing:** ¿tiene préstamo de vivienda? (categórico) [yes, no]\n",
        "\n",
        "**[8] Loan:** ¿tiene préstamo personal? (categórico) [yes, no]\n",
        "\n",
        "**Información relacionada con el último contacto con el cliente**\n",
        "\n",
        "**[9] Contact:** medio de comunicación de contacto (categórico) [unknown, cellular, telephone]\n",
        "\n",
        "**[10] Month:** mes del año del último contacto (categórico) [jan, feb, mar, apr, may, jun, jul, aug, sep, oct, nov, dec]\n",
        "\n",
        "**[11] Day:** Día del mes del último contacto (numérico) [1-31]\n",
        "\n",
        "**[12] Duration:** duración de la llamada del último contacto, en segundos (numérico)\n",
        "\n",
        "**Otra información**\n",
        "\n",
        "**[13] Campaing:** número de contactos realizados durante esta campaña (numérico)\n",
        "\n",
        "**[14] Pdays:** número de días después de que el cliente fue contactado por última vez  (numérico) (999 significa que el cliente no ha sido contactado)\n",
        "\n",
        "**[15] Previous:** número de contactos realizados antes de esta campaña (numérico)\n",
        "\n",
        "**[16] Poutcome:**  resultado de la campaña de marketing anterior (categórico) [unknown, other, failure, success]\n",
        "\n",
        "**Variable de salida**\n",
        "\n",
        "**[17] deposit:** ¿El cliente se suscribió? (categórico) [yes, no]\n"
      ]
    },
    {
      "cell_type": "code",
      "metadata": {
        "colab_type": "code",
        "id": "QXKqD4aXBwsu",
        "colab": {
          "base_uri": "https://localhost:8080/",
          "height": 420
        },
        "outputId": "f0398d73-356e-4856-b661-4092d3dbe179"
      },
      "source": [
        "# Información de la base de datos: nómbre de la columna, conteo de datos Null y tipo de datos\n",
        "bank.info()"
      ],
      "execution_count": 23,
      "outputs": [
        {
          "output_type": "stream",
          "text": [
            "<class 'pandas.core.frame.DataFrame'>\n",
            "RangeIndex: 11162 entries, 0 to 11161\n",
            "Data columns (total 17 columns):\n",
            " #   Column     Non-Null Count  Dtype \n",
            "---  ------     --------------  ----- \n",
            " 0   age        11162 non-null  int64 \n",
            " 1   job        11162 non-null  object\n",
            " 2   marital    11162 non-null  object\n",
            " 3   education  11162 non-null  object\n",
            " 4   default    11162 non-null  object\n",
            " 5   balance    11162 non-null  int64 \n",
            " 6   housing    11162 non-null  object\n",
            " 7   loan       11162 non-null  object\n",
            " 8   contact    11162 non-null  object\n",
            " 9   day        11162 non-null  int64 \n",
            " 10  month      11162 non-null  object\n",
            " 11  duration   11162 non-null  int64 \n",
            " 12  campaign   11162 non-null  int64 \n",
            " 13  pdays      11162 non-null  int64 \n",
            " 14  previous   11162 non-null  int64 \n",
            " 15  poutcome   11162 non-null  object\n",
            " 16  deposit    11162 non-null  object\n",
            "dtypes: int64(7), object(10)\n",
            "memory usage: 1.4+ MB\n"
          ],
          "name": "stdout"
        }
      ]
    },
    {
      "cell_type": "markdown",
      "metadata": {
        "id": "Rn-GhiGH6rV0",
        "colab_type": "text"
      },
      "source": [
        "La base de datos no tiene datos nulos. En el caso de que existieran datos nulos se debe tomar alguna decisión, debido a que los algoritmos de aprendizaje de máquina no aceptan datos nulos. Algunas acciones son:\n",
        "\n",
        "* Eliminar las filas que poseen los datos nulos.\n",
        "* Eliminar la columna completa.\n",
        "* Reemplazar los datos nulos por algún valor como la media, la mediana, la moda, valor cero, etc.\n",
        "\n",
        "Todo dependerá del caso específico y es decisión del analista de datos."
      ]
    },
    {
      "cell_type": "markdown",
      "metadata": {
        "id": "1rkqA0KYsPbF",
        "colab_type": "text"
      },
      "source": [
        "# **DESCRIPCIÓN Y ANALÍTICA DE DATOS**"
      ]
    },
    {
      "cell_type": "markdown",
      "metadata": {
        "id": "iyb8n6acSKsV",
        "colab_type": "text"
      },
      "source": [
        "Graficar la cantidad de personas que se suscribieron y las que no."
      ]
    },
    {
      "cell_type": "code",
      "metadata": {
        "colab_type": "code",
        "id": "zkfkCWW4F4f4",
        "colab": {
          "base_uri": "https://localhost:8080/",
          "height": 623
        },
        "outputId": "e62455b4-22bc-4d1d-d6a8-a975208feb57"
      },
      "source": [
        "import seaborn as sns\n",
        "\n",
        "# Esta función realiza una suma de cada categoría y luego las grafica \n",
        "sns.countplot(bank['deposit']) "
      ],
      "execution_count": 24,
      "outputs": [
        {
          "output_type": "execute_result",
          "data": {
            "text/plain": [
              "<matplotlib.axes._subplots.AxesSubplot at 0x7fd6d3e445f8>"
            ]
          },
          "metadata": {
            "tags": []
          },
          "execution_count": 24
        },
        {
          "output_type": "display_data",
          "data": {
            "image/png": "[encoded data removed]",
            "text/plain": [
              "<Figure size 720x720 with 1 Axes>"
            ]
          },
          "metadata": {
            "tags": [],
            "needs_background": "light"
          }
        }
      ]
    },
    {
      "cell_type": "markdown",
      "metadata": {
        "id": "pLwB4BLMSQuK",
        "colab_type": "text"
      },
      "source": [
        "Otra gráfica para comparar la columna 'deposit'."
      ]
    },
    {
      "cell_type": "code",
      "metadata": {
        "id": "nZMD8BVG8HNM",
        "colab_type": "code",
        "colab": {
          "base_uri": "https://localhost:8080/",
          "height": 344
        },
        "outputId": "78f5dcfa-ebeb-48d9-93c8-3065f426398a"
      },
      "source": [
        "import matplotlib.pyplot as plt\n",
        "\n",
        "# Tamaño de la imagen\n",
        "plt.figure(figsize=(5,5)) \n",
        "# Título de la imagen\n",
        "plt.title('Información de suscripción', fontsize=20) \n",
        "# Gráficar\n",
        "bank[\"deposit\"].value_counts().plot.pie(explode=[0,0.25], autopct='%1.2f%%', shadow=True, colors=[\"#FA5858\", \"#64FE2E\"], fontsize=14, startangle=25)\n",
        "# explode: separación entre las franjas de la gráfica\n",
        "# autopct: valor numérico de cada porción\n",
        "# shadow: sombras en las gráficas\n",
        "# colors: colores de la gáfica\n",
        "# fontsize: tamaño de la letra\n",
        "# startangle: rotar la gráfica\n",
        "# Consultra la librería para encontrar toda la infomación de los parámetros que se pueden modificar: https://matplotlib.org/3.1.1/api/_as_gen/matplotlib.pyplot.pie.html"
      ],
      "execution_count": 25,
      "outputs": [
        {
          "output_type": "execute_result",
          "data": {
            "text/plain": [
              "<matplotlib.axes._subplots.AxesSubplot at 0x7fd6d3e055c0>"
            ]
          },
          "metadata": {
            "tags": []
          },
          "execution_count": 25
        },
        {
          "output_type": "display_data",
          "data": {
            "image/png": "[encoded data removed]",
            "text/plain": [
              "<Figure size 360x360 with 1 Axes>"
            ]
          },
          "metadata": {
            "tags": []
          }
        }
      ]
    },
    {
      "cell_type": "markdown",
      "metadata": {
        "id": "0JdvDx4W3CKS",
        "colab_type": "text"
      },
      "source": [
        "Se observa que la base de datos está balanceada, es decir, hay casi la misma cantidad de datos en la clase 'yes' que en la clase 'no'. \n",
        "\n",
        "Idealmente se espera que la base de datos tenga la misma cantidad de casos para las clases. Para cuando la base de datos está desbalanceada se puede:\n",
        "\n",
        "* Trabajar el algoritmo de aprendizaje de máquinas con los datos existentes.\n",
        "* Eliminar datos de la clase que posee más casos.\n",
        "* Analizar la posibilidad de obtener más datos.\n",
        "* En algunos casos se pueden implementar estrategias para aumentar los datos, por ejemplo, en procesamiento de imágenes, rotar la imagen.\n",
        "\n",
        "Todo dependerá del contexto y del problema. Para este caso en particular se tomarán todos los datos."
      ]
    },
    {
      "cell_type": "markdown",
      "metadata": {
        "id": "u_xhdKuoTRGV",
        "colab_type": "text"
      },
      "source": [
        "A continuación, vamos a ver una gráfica de la distribución de los clientes con respecto a su edad."
      ]
    },
    {
      "cell_type": "code",
      "metadata": {
        "_cell_guid": "acc641bd-9106-4ad0-9bad-f2697c928a7b",
        "_uuid": "abb417d0393ff2fc1aabb4de00e3abdf62a6bee5",
        "colab_type": "code",
        "id": "e3gJWxSW9Vzp",
        "colab": {
          "base_uri": "https://localhost:8080/",
          "height": 319
        },
        "outputId": "0db8dfcf-f6b8-4283-844b-a1280228a7d8"
      },
      "source": [
        "# crear las variables para la gráfica de la figura y los ejes\n",
        "fig, ax = plt.subplots() \n",
        "# definir el tamaño de la gráfica\n",
        "fig.set_size_inches(20, 4) \n",
        "# Columna de la base de datos que se graficará\n",
        "sns.countplot(x='age', data = bank) \n",
        "# eje x\n",
        "ax.set_xlabel('Edad', fontsize=15) \n",
        "# eje y\n",
        "ax.set_ylabel('Conteo', fontsize=15) \n",
        "# título de la gráfica\n",
        "ax.set_title('Distribución de la edad de los clientes', fontsize=15) "
      ],
      "execution_count": 26,
      "outputs": [
        {
          "output_type": "execute_result",
          "data": {
            "text/plain": [
              "Text(0.5, 1.0, 'Distribución de la edad de los clientes')"
            ]
          },
          "metadata": {
            "tags": []
          },
          "execution_count": 26
        },
        {
          "output_type": "display_data",
          "data": {
            "image/png": "[encoded data removed]",
            "text/plain": [
              "<Figure size 1440x288 with 1 Axes>"
            ]
          },
          "metadata": {
            "tags": [],
            "needs_background": "light"
          }
        }
      ]
    },
    {
      "cell_type": "markdown",
      "metadata": {
        "id": "FDoUNiDvTX-y",
        "colab_type": "text"
      },
      "source": [
        "Gráfica de la cantidad de personas por sus trabajos."
      ]
    },
    {
      "cell_type": "code",
      "metadata": {
        "id": "CdW7t6HHApbC",
        "colab_type": "code",
        "colab": {
          "base_uri": "https://localhost:8080/",
          "height": 296
        },
        "outputId": "797674e9-f36e-45a4-b798-404e4a2a885d"
      },
      "source": [
        "# Tamaño de la gráfica\n",
        "plt.figure(figsize=(20,4))\n",
        "# Suma y gráfica de los tipos de trabajo\n",
        "sns.countplot(x='job', data = bank)"
      ],
      "execution_count": 27,
      "outputs": [
        {
          "output_type": "execute_result",
          "data": {
            "text/plain": [
              "<matplotlib.axes._subplots.AxesSubplot at 0x7fd6d3d64e48>"
            ]
          },
          "metadata": {
            "tags": []
          },
          "execution_count": 27
        },
        {
          "output_type": "display_data",
          "data": {
            "image/png": "[encoded data removed]",
            "text/plain": [
              "<Figure size 1440x288 with 1 Axes>"
            ]
          },
          "metadata": {
            "tags": [],
            "needs_background": "light"
          }
        }
      ]
    },
    {
      "cell_type": "markdown",
      "metadata": {
        "id": "7JODfEhTTmqq",
        "colab_type": "text"
      },
      "source": [
        "Graficar la relación entre los trabajos y la respuesta final del cliente."
      ]
    },
    {
      "cell_type": "code",
      "metadata": {
        "colab_type": "code",
        "id": "ES4jSbPITVlj",
        "colab": {
          "base_uri": "https://localhost:8080/",
          "height": 296
        },
        "outputId": "3aca73ed-f8cd-4250-ae52-434c7d38424b"
      },
      "source": [
        "# Tamaño de la gráfica\n",
        "plt.figure(figsize=(20,4))\n",
        "# Suma y gráfica de los tipos de trabajo agrupados por la respuesta final del cliente\n",
        "sns.countplot(x=\"job\", hue=\"deposit\", data=bank)"
      ],
      "execution_count": 28,
      "outputs": [
        {
          "output_type": "execute_result",
          "data": {
            "text/plain": [
              "<matplotlib.axes._subplots.AxesSubplot at 0x7fd6d3ac8630>"
            ]
          },
          "metadata": {
            "tags": []
          },
          "execution_count": 28
        },
        {
          "output_type": "display_data",
          "data": {
            "image/png": "[encoded data removed]",
            "text/plain": [
              "<Figure size 1440x288 with 1 Axes>"
            ]
          },
          "metadata": {
            "tags": [],
            "needs_background": "light"
          }
        }
      ]
    },
    {
      "cell_type": "markdown",
      "metadata": {
        "id": "Wxu4LMnKTsfl",
        "colab_type": "text"
      },
      "source": [
        "Graficar la relación entre el estado civil y la respuesta final del cliente."
      ]
    },
    {
      "cell_type": "code",
      "metadata": {
        "id": "b-hyilWbCic7",
        "colab_type": "code",
        "colab": {
          "base_uri": "https://localhost:8080/",
          "height": 296
        },
        "outputId": "8511ead0-78c6-42bf-b52d-867e6b18f478"
      },
      "source": [
        "# Tamaño de la gráfica\n",
        "plt.figure(figsize=(10,4))\n",
        "# Suma y gráfica del estado civil y agrupados por la respuesta final del cliente\n",
        "sns.countplot(x=\"marital\", hue=\"deposit\", data=bank)"
      ],
      "execution_count": 29,
      "outputs": [
        {
          "output_type": "execute_result",
          "data": {
            "text/plain": [
              "<matplotlib.axes._subplots.AxesSubplot at 0x7fd6d3a60240>"
            ]
          },
          "metadata": {
            "tags": []
          },
          "execution_count": 29
        },
        {
          "output_type": "display_data",
          "data": {
            "image/png": "[encoded data removed]",
            "text/plain": [
              "<Figure size 720x288 with 1 Axes>"
            ]
          },
          "metadata": {
            "tags": [],
            "needs_background": "light"
          }
        }
      ]
    },
    {
      "cell_type": "markdown",
      "metadata": {
        "id": "oc88ZF3NVmdl",
        "colab_type": "text"
      },
      "source": [
        "Graficar la relación el nivel de escolaridad y la respuesta final del cliente."
      ]
    },
    {
      "cell_type": "code",
      "metadata": {
        "id": "6nI0dwCfCijC",
        "colab_type": "code",
        "colab": {
          "base_uri": "https://localhost:8080/",
          "height": 296
        },
        "outputId": "5c8e91d5-5b55-47cd-ab14-28eb695cadca"
      },
      "source": [
        "# Tamaño de la gráfica\n",
        "plt.figure(figsize=(10,4))\n",
        "# Suma y gráfica del nivel de escolaridad y agrupados por la respuesta final del cliente\n",
        "sns.countplot(x=\"education\", hue=\"deposit\", data=bank)"
      ],
      "execution_count": 30,
      "outputs": [
        {
          "output_type": "execute_result",
          "data": {
            "text/plain": [
              "<matplotlib.axes._subplots.AxesSubplot at 0x7fd6d39d4278>"
            ]
          },
          "metadata": {
            "tags": []
          },
          "execution_count": 30
        },
        {
          "output_type": "display_data",
          "data": {
            "image/png": "[encoded data removed]",
            "text/plain": [
              "<Figure size 720x288 with 1 Axes>"
            ]
          },
          "metadata": {
            "tags": [],
            "needs_background": "light"
          }
        }
      ]
    },
    {
      "cell_type": "markdown",
      "metadata": {
        "id": "_5G6zdlRVp0S",
        "colab_type": "text"
      },
      "source": [
        "Actividad: Graficar la relación entre si tiene crédito en incumplimiento ('default') y la respuesta final del cliente."
      ]
    },
    {
      "cell_type": "code",
      "metadata": {
        "id": "QvwYNZ9eCil0",
        "colab_type": "code",
        "colab": {
          "base_uri": "https://localhost:8080/",
          "height": 299
        },
        "outputId": "c5d617bf-6d9e-4448-a5fd-faa77eec851f"
      },
      "source": [
        "# Tamaño de la gráfica\n",
        "plt.figure(figsize=(10,4))\n",
        "# Suma y gráfica del incumplimiento y agrupados por la respuesta final del cliente\n",
        "sns.countplot(x=\"default\", hue=\"deposit\", data=bank)"
      ],
      "execution_count": 31,
      "outputs": [
        {
          "output_type": "execute_result",
          "data": {
            "text/plain": [
              "<matplotlib.axes._subplots.AxesSubplot at 0x7fd6d390ba20>"
            ]
          },
          "metadata": {
            "tags": []
          },
          "execution_count": 31
        },
        {
          "output_type": "display_data",
          "data": {
            "image/png": "[encoded data removed]",
            "text/plain": [
              "<Figure size 720x288 with 1 Axes>"
            ]
          },
          "metadata": {
            "tags": [],
            "needs_background": "light"
          }
        }
      ]
    },
    {
      "cell_type": "markdown",
      "metadata": {
        "id": "EzU9HqJ7Vsus",
        "colab_type": "text"
      },
      "source": [
        "Actividad: Graficar la relación entre si tiene crédito de vivienda ('housing') y la respuesta final del cliente."
      ]
    },
    {
      "cell_type": "code",
      "metadata": {
        "id": "byW9yEOnCir0",
        "colab_type": "code",
        "colab": {
          "base_uri": "https://localhost:8080/",
          "height": 299
        },
        "outputId": "3b408a4d-cb3f-4427-9773-5dfb2eb78f41"
      },
      "source": [
        "# Tamaño de la gráfica\n",
        "plt.figure(figsize=(10,4))\n",
        "# Suma y gráfica de si tiene crédito de vivienda y agrupados por la respuesta final del cliente\n",
        "sns.countplot(x=\"housing\", hue=\"deposit\", data=bank)"
      ],
      "execution_count": 32,
      "outputs": [
        {
          "output_type": "execute_result",
          "data": {
            "text/plain": [
              "<matplotlib.axes._subplots.AxesSubplot at 0x7fd6d613b048>"
            ]
          },
          "metadata": {
            "tags": []
          },
          "execution_count": 32
        },
        {
          "output_type": "display_data",
          "data": {
            "image/png": "[encoded data removed]",
            "text/plain": [
              "<Figure size 720x288 with 1 Axes>"
            ]
          },
          "metadata": {
            "tags": [],
            "needs_background": "light"
          }
        }
      ]
    },
    {
      "cell_type": "markdown",
      "metadata": {
        "id": "K7m2-ZR5VvZw",
        "colab_type": "text"
      },
      "source": [
        "Actividad: Graficar la relación entre si tiene crédito personal ('loan') y la respuesta final del cliente."
      ]
    },
    {
      "cell_type": "code",
      "metadata": {
        "id": "cooo3lLFCipG",
        "colab_type": "code",
        "colab": {
          "base_uri": "https://localhost:8080/",
          "height": 296
        },
        "outputId": "4d7f07e2-2c2e-4811-c205-13520a72b054"
      },
      "source": [
        "# Tamaño de la gráfica\n",
        "plt.figure(figsize=(10,4))\n",
        "# Suma y gráfica de si tiene crédito personal y agrupados por la respuesta final del cliente\n",
        "sns.countplot(x=\"loan\", hue=\"deposit\", data=bank)"
      ],
      "execution_count": 33,
      "outputs": [
        {
          "output_type": "execute_result",
          "data": {
            "text/plain": [
              "<matplotlib.axes._subplots.AxesSubplot at 0x7fd6d385c278>"
            ]
          },
          "metadata": {
            "tags": []
          },
          "execution_count": 33
        },
        {
          "output_type": "display_data",
          "data": {
            "image/png": "[encoded data removed]",
            "text/plain": [
              "<Figure size 720x288 with 1 Axes>"
            ]
          },
          "metadata": {
            "tags": [],
            "needs_background": "light"
          }
        }
      ]
    },
    {
      "cell_type": "markdown",
      "metadata": {
        "id": "lb25ERXHWsfo",
        "colab_type": "text"
      },
      "source": [
        "Ver la distribución de los datos de la las variables numéricas 'campaign', 'pdays', 'previous'."
      ]
    },
    {
      "cell_type": "code",
      "metadata": {
        "id": "jrdxvC3FNy-8",
        "colab_type": "code",
        "colab": {
          "base_uri": "https://localhost:8080/",
          "height": 279
        },
        "outputId": "ecf0857d-9c0e-4cf5-d4ce-cee7e3092106"
      },
      "source": [
        "# Definición de figura con 3 gráficas de 1x3 y se define el tamaño de la figura\n",
        "fig, (ax1, ax2, ax3) = plt.subplots(nrows = 1, ncols = 3, figsize = (22,4))\n",
        "# Gráfica 1: distribución de los valores de campaing\n",
        "sns.distplot(bank.campaign, ax = ax1)\n",
        "# Gráfica 2: distribución de los valores de pdays\n",
        "sns.distplot(bank.pdays, ax = ax2)\n",
        "# Gráfica 3: distribución de los valores de previous\n",
        "sns.distplot(bank.previous, ax = ax3)\n",
        "plt.subplots_adjust(wspace=0.25)"
      ],
      "execution_count": 34,
      "outputs": [
        {
          "output_type": "display_data",
          "data": {
            "image/png": "[encoded data removed]",
            "text/plain": [
              "<Figure size 1584x288 with 3 Axes>"
            ]
          },
          "metadata": {
            "tags": [],
            "needs_background": "light"
          }
        }
      ]
    },
    {
      "cell_type": "markdown",
      "metadata": {
        "id": "eaUaGCna46if",
        "colab_type": "text"
      },
      "source": [
        "# **PREPARACIÓN DE LOS DATOS PARA EL ALGORITMO**"
      ]
    },
    {
      "cell_type": "markdown",
      "metadata": {
        "id": "3GezSyQ9G1mt",
        "colab_type": "text"
      },
      "source": [
        "**Pasar de variables categórica a variable numéricas**\n",
        "\n",
        "El algoritmo de árboles de decisión de python solo acepta variables numéricas, es decir que valores como Yes o No se deben convertir a números de alguna manera."
      ]
    },
    {
      "cell_type": "markdown",
      "metadata": {
        "id": "6ENRy9gGde6K",
        "colab_type": "text"
      },
      "source": [
        "La función Encoder asigna un número a cada categoría (desde 0 hasta el número de categorías-1). De esta manera asignamos a cada valor categórico (Como Yes) un valor númerico (como 1)"
      ]
    },
    {
      "cell_type": "code",
      "metadata": {
        "id": "HvVFpRiwGDJr",
        "colab_type": "code",
        "colab": {
          "base_uri": "https://localhost:8080/",
          "height": 402
        },
        "outputId": "d1ccb9d6-dc48-4c5d-8ddd-44495894369d"
      },
      "source": [
        "from sklearn.preprocessing import LabelEncoder\n",
        "\n",
        "# Definición de la función LabelEncoder\n",
        "encoder = LabelEncoder()\n",
        "# Realizar la conversión a todas las variables categoricas asignandóles un número iniciando desde 0\n",
        "bank['deposit'] = encoder.fit_transform(bank['deposit'])\n",
        "bank['job']      = encoder.fit_transform(bank['job']) \n",
        "bank['marital']  = encoder.fit_transform(bank['marital']) \n",
        "bank['education']= encoder.fit_transform(bank['education']) \n",
        "bank['default']  = encoder.fit_transform(bank['default']) \n",
        "bank['housing']  = encoder.fit_transform(bank['housing'])\n",
        "bank['loan']  = encoder.fit_transform(bank['loan'])\n",
        "bank['contact']  = encoder.fit_transform(bank['contact']) \n",
        "bank['month']  = encoder.fit_transform(bank['month'])\n",
        "bank['poutcome']  = encoder.fit_transform(bank['poutcome'])\n",
        "# Imprimir los primeros 5 datos de la base de datos \n",
        "bank"
      ],
      "execution_count": 35,
      "outputs": [
        {
          "output_type": "execute_result",
          "data": {
            "text/html": [
              "<div>\n",
              "<style scoped>\n",
              "    .dataframe tbody tr th:only-of-type {\n",
              "        vertical-align: middle;\n",
              "    }\n",
              "\n",
              "    .dataframe tbody tr th {\n",
              "        vertical-align: top;\n",
              "    }\n",
              "\n",
              "    .dataframe thead th {\n",
              "        text-align: right;\n",
              "    }\n",
              "</style>\n",
              "<table border=\"1\" class=\"dataframe\">\n",
              "  <thead>\n",
              "    <tr style=\"text-align: right;\">\n",
              "      <th></th>\n",
              "      <th>age</th>\n",
              "      <th>job</th>\n",
              "      <th>marital</th>\n",
              "      <th>education</th>\n",
              "      <th>default</th>\n",
              "      <th>balance</th>\n",
              "      <th>housing</th>\n",
              "      <th>loan</th>\n",
              "      <th>contact</th>\n",
              "      <th>day</th>\n",
              "      <th>month</th>\n",
              "      <th>duration</th>\n",
              "      <th>campaign</th>\n",
              "      <th>pdays</th>\n",
              "      <th>previous</th>\n",
              "      <th>poutcome</th>\n",
              "      <th>deposit</th>\n",
              "    </tr>\n",
              "  </thead>\n",
              "  <tbody>\n",
              "    <tr>\n",
              "      <th>0</th>\n",
              "      <td>59</td>\n",
              "      <td>0</td>\n",
              "      <td>1</td>\n",
              "      <td>1</td>\n",
              "      <td>0</td>\n",
              "      <td>2343</td>\n",
              "      <td>1</td>\n",
              "      <td>0</td>\n",
              "      <td>2</td>\n",
              "      <td>5</td>\n",
              "      <td>8</td>\n",
              "      <td>1042</td>\n",
              "      <td>1</td>\n",
              "      <td>-1</td>\n",
              "      <td>0</td>\n",
              "      <td>3</td>\n",
              "      <td>1</td>\n",
              "    </tr>\n",
              "    <tr>\n",
              "      <th>1</th>\n",
              "      <td>56</td>\n",
              "      <td>0</td>\n",
              "      <td>1</td>\n",
              "      <td>1</td>\n",
              "      <td>0</td>\n",
              "      <td>45</td>\n",
              "      <td>0</td>\n",
              "      <td>0</td>\n",
              "      <td>2</td>\n",
              "      <td>5</td>\n",
              "      <td>8</td>\n",
              "      <td>1467</td>\n",
              "      <td>1</td>\n",
              "      <td>-1</td>\n",
              "      <td>0</td>\n",
              "      <td>3</td>\n",
              "      <td>1</td>\n",
              "    </tr>\n",
              "    <tr>\n",
              "      <th>2</th>\n",
              "      <td>41</td>\n",
              "      <td>9</td>\n",
              "      <td>1</td>\n",
              "      <td>1</td>\n",
              "      <td>0</td>\n",
              "      <td>1270</td>\n",
              "      <td>1</td>\n",
              "      <td>0</td>\n",
              "      <td>2</td>\n",
              "      <td>5</td>\n",
              "      <td>8</td>\n",
              "      <td>1389</td>\n",
              "      <td>1</td>\n",
              "      <td>-1</td>\n",
              "      <td>0</td>\n",
              "      <td>3</td>\n",
              "      <td>1</td>\n",
              "    </tr>\n",
              "    <tr>\n",
              "      <th>3</th>\n",
              "      <td>55</td>\n",
              "      <td>7</td>\n",
              "      <td>1</td>\n",
              "      <td>1</td>\n",
              "      <td>0</td>\n",
              "      <td>2476</td>\n",
              "      <td>1</td>\n",
              "      <td>0</td>\n",
              "      <td>2</td>\n",
              "      <td>5</td>\n",
              "      <td>8</td>\n",
              "      <td>579</td>\n",
              "      <td>1</td>\n",
              "      <td>-1</td>\n",
              "      <td>0</td>\n",
              "      <td>3</td>\n",
              "      <td>1</td>\n",
              "    </tr>\n",
              "    <tr>\n",
              "      <th>4</th>\n",
              "      <td>54</td>\n",
              "      <td>0</td>\n",
              "      <td>1</td>\n",
              "      <td>2</td>\n",
              "      <td>0</td>\n",
              "      <td>184</td>\n",
              "      <td>0</td>\n",
              "      <td>0</td>\n",
              "      <td>2</td>\n",
              "      <td>5</td>\n",
              "      <td>8</td>\n",
              "      <td>673</td>\n",
              "      <td>2</td>\n",
              "      <td>-1</td>\n",
              "      <td>0</td>\n",
              "      <td>3</td>\n",
              "      <td>1</td>\n",
              "    </tr>\n",
              "    <tr>\n",
              "      <th>...</th>\n",
              "      <td>...</td>\n",
              "      <td>...</td>\n",
              "      <td>...</td>\n",
              "      <td>...</td>\n",
              "      <td>...</td>\n",
              "      <td>...</td>\n",
              "      <td>...</td>\n",
              "      <td>...</td>\n",
              "      <td>...</td>\n",
              "      <td>...</td>\n",
              "      <td>...</td>\n",
              "      <td>...</td>\n",
              "      <td>...</td>\n",
              "      <td>...</td>\n",
              "      <td>...</td>\n",
              "      <td>...</td>\n",
              "      <td>...</td>\n",
              "    </tr>\n",
              "    <tr>\n",
              "      <th>11157</th>\n",
              "      <td>33</td>\n",
              "      <td>1</td>\n",
              "      <td>2</td>\n",
              "      <td>0</td>\n",
              "      <td>0</td>\n",
              "      <td>1</td>\n",
              "      <td>1</td>\n",
              "      <td>0</td>\n",
              "      <td>0</td>\n",
              "      <td>20</td>\n",
              "      <td>0</td>\n",
              "      <td>257</td>\n",
              "      <td>1</td>\n",
              "      <td>-1</td>\n",
              "      <td>0</td>\n",
              "      <td>3</td>\n",
              "      <td>0</td>\n",
              "    </tr>\n",
              "    <tr>\n",
              "      <th>11158</th>\n",
              "      <td>39</td>\n",
              "      <td>7</td>\n",
              "      <td>1</td>\n",
              "      <td>1</td>\n",
              "      <td>0</td>\n",
              "      <td>733</td>\n",
              "      <td>0</td>\n",
              "      <td>0</td>\n",
              "      <td>2</td>\n",
              "      <td>16</td>\n",
              "      <td>6</td>\n",
              "      <td>83</td>\n",
              "      <td>4</td>\n",
              "      <td>-1</td>\n",
              "      <td>0</td>\n",
              "      <td>3</td>\n",
              "      <td>0</td>\n",
              "    </tr>\n",
              "    <tr>\n",
              "      <th>11159</th>\n",
              "      <td>32</td>\n",
              "      <td>9</td>\n",
              "      <td>2</td>\n",
              "      <td>1</td>\n",
              "      <td>0</td>\n",
              "      <td>29</td>\n",
              "      <td>0</td>\n",
              "      <td>0</td>\n",
              "      <td>0</td>\n",
              "      <td>19</td>\n",
              "      <td>1</td>\n",
              "      <td>156</td>\n",
              "      <td>2</td>\n",
              "      <td>-1</td>\n",
              "      <td>0</td>\n",
              "      <td>3</td>\n",
              "      <td>0</td>\n",
              "    </tr>\n",
              "    <tr>\n",
              "      <th>11160</th>\n",
              "      <td>43</td>\n",
              "      <td>9</td>\n",
              "      <td>1</td>\n",
              "      <td>1</td>\n",
              "      <td>0</td>\n",
              "      <td>0</td>\n",
              "      <td>0</td>\n",
              "      <td>1</td>\n",
              "      <td>0</td>\n",
              "      <td>8</td>\n",
              "      <td>8</td>\n",
              "      <td>9</td>\n",
              "      <td>2</td>\n",
              "      <td>172</td>\n",
              "      <td>5</td>\n",
              "      <td>0</td>\n",
              "      <td>0</td>\n",
              "    </tr>\n",
              "    <tr>\n",
              "      <th>11161</th>\n",
              "      <td>34</td>\n",
              "      <td>9</td>\n",
              "      <td>1</td>\n",
              "      <td>1</td>\n",
              "      <td>0</td>\n",
              "      <td>0</td>\n",
              "      <td>0</td>\n",
              "      <td>0</td>\n",
              "      <td>0</td>\n",
              "      <td>9</td>\n",
              "      <td>5</td>\n",
              "      <td>628</td>\n",
              "      <td>1</td>\n",
              "      <td>-1</td>\n",
              "      <td>0</td>\n",
              "      <td>3</td>\n",
              "      <td>0</td>\n",
              "    </tr>\n",
              "  </tbody>\n",
              "</table>\n",
              "<p>11162 rows × 17 columns</p>\n",
              "</div>"
            ],
            "text/plain": [
              "       age  job  marital  education  ...  pdays  previous  poutcome  deposit\n",
              "0       59    0        1          1  ...     -1         0         3        1\n",
              "1       56    0        1          1  ...     -1         0         3        1\n",
              "2       41    9        1          1  ...     -1         0         3        1\n",
              "3       55    7        1          1  ...     -1         0         3        1\n",
              "4       54    0        1          2  ...     -1         0         3        1\n",
              "...    ...  ...      ...        ...  ...    ...       ...       ...      ...\n",
              "11157   33    1        2          0  ...     -1         0         3        0\n",
              "11158   39    7        1          1  ...     -1         0         3        0\n",
              "11159   32    9        2          1  ...     -1         0         3        0\n",
              "11160   43    9        1          1  ...    172         5         0        0\n",
              "11161   34    9        1          1  ...     -1         0         3        0\n",
              "\n",
              "[11162 rows x 17 columns]"
            ]
          },
          "metadata": {
            "tags": []
          },
          "execution_count": 35
        }
      ]
    },
    {
      "cell_type": "markdown",
      "metadata": {
        "id": "-jyNMXYxfPTx",
        "colab_type": "text"
      },
      "source": [
        "pdays: Número de días que pasaron después de que el cliente fue contactado por última vez (numérico) (-1 significa que el cliente no fue contactado previamente). Entonces se mapea el valor -1 para un valor de muy alto, lo que significaría que es muy poco probable que el cliente haya sido contactado\n"
      ]
    },
    {
      "cell_type": "code",
      "metadata": {
        "_cell_guid": "27c4a40d-a6e7-455f-85ef-db661c2f3bf6",
        "_uuid": "4a5ce52f6514b2c6a98a05496f464958bb08e6d1",
        "colab_type": "code",
        "id": "5OV0vUI3zvAt",
        "colab": {}
      },
      "source": [
        "# Reemplazar -1 por 10000\n",
        "bank.loc[bank['pdays'] == -1, 'pdays'] = 1000"
      ],
      "execution_count": 36,
      "outputs": []
    },
    {
      "cell_type": "code",
      "metadata": {
        "_cell_guid": "8daac786-1fcd-4dd5-b789-8dbb96011c44",
        "_uuid": "b9018d84ec2eae5368860f237e47e00473deeb05",
        "colab_type": "code",
        "id": "0k2tRyQJzvA8",
        "colab": {
          "base_uri": "https://localhost:8080/",
          "height": 304
        },
        "outputId": "eacf106c-e0c0-4fa5-dfbf-7c8e76e7e906"
      },
      "source": [
        "# descripción de todas las variables de la base de datos\n",
        "bank.describe()"
      ],
      "execution_count": 37,
      "outputs": [
        {
          "output_type": "execute_result",
          "data": {
            "text/html": [
              "<div>\n",
              "<style scoped>\n",
              "    .dataframe tbody tr th:only-of-type {\n",
              "        vertical-align: middle;\n",
              "    }\n",
              "\n",
              "    .dataframe tbody tr th {\n",
              "        vertical-align: top;\n",
              "    }\n",
              "\n",
              "    .dataframe thead th {\n",
              "        text-align: right;\n",
              "    }\n",
              "</style>\n",
              "<table border=\"1\" class=\"dataframe\">\n",
              "  <thead>\n",
              "    <tr style=\"text-align: right;\">\n",
              "      <th></th>\n",
              "      <th>age</th>\n",
              "      <th>job</th>\n",
              "      <th>marital</th>\n",
              "      <th>education</th>\n",
              "      <th>default</th>\n",
              "      <th>balance</th>\n",
              "      <th>housing</th>\n",
              "      <th>loan</th>\n",
              "      <th>contact</th>\n",
              "      <th>day</th>\n",
              "      <th>month</th>\n",
              "      <th>duration</th>\n",
              "      <th>campaign</th>\n",
              "      <th>pdays</th>\n",
              "      <th>previous</th>\n",
              "      <th>poutcome</th>\n",
              "      <th>deposit</th>\n",
              "    </tr>\n",
              "  </thead>\n",
              "  <tbody>\n",
              "    <tr>\n",
              "      <th>count</th>\n",
              "      <td>11162.000000</td>\n",
              "      <td>11162.000000</td>\n",
              "      <td>11162.000000</td>\n",
              "      <td>11162.000000</td>\n",
              "      <td>11162.000000</td>\n",
              "      <td>11162.000000</td>\n",
              "      <td>11162.000000</td>\n",
              "      <td>11162.000000</td>\n",
              "      <td>11162.000000</td>\n",
              "      <td>11162.000000</td>\n",
              "      <td>11162.000000</td>\n",
              "      <td>11162.000000</td>\n",
              "      <td>11162.000000</td>\n",
              "      <td>11162.000000</td>\n",
              "      <td>11162.000000</td>\n",
              "      <td>11162.000000</td>\n",
              "      <td>11162.000000</td>\n",
              "    </tr>\n",
              "    <tr>\n",
              "      <th>mean</th>\n",
              "      <td>41.231948</td>\n",
              "      <td>4.487905</td>\n",
              "      <td>1.199337</td>\n",
              "      <td>1.285164</td>\n",
              "      <td>0.015051</td>\n",
              "      <td>1528.538524</td>\n",
              "      <td>0.473123</td>\n",
              "      <td>0.130801</td>\n",
              "      <td>0.489697</td>\n",
              "      <td>15.658036</td>\n",
              "      <td>5.445709</td>\n",
              "      <td>371.993818</td>\n",
              "      <td>2.508421</td>\n",
              "      <td>797.820641</td>\n",
              "      <td>0.832557</td>\n",
              "      <td>2.477782</td>\n",
              "      <td>0.473840</td>\n",
              "    </tr>\n",
              "    <tr>\n",
              "      <th>std</th>\n",
              "      <td>11.913369</td>\n",
              "      <td>3.225132</td>\n",
              "      <td>0.625552</td>\n",
              "      <td>0.749478</td>\n",
              "      <td>0.121761</td>\n",
              "      <td>3225.413326</td>\n",
              "      <td>0.499299</td>\n",
              "      <td>0.337198</td>\n",
              "      <td>0.818724</td>\n",
              "      <td>8.420740</td>\n",
              "      <td>3.191939</td>\n",
              "      <td>347.128386</td>\n",
              "      <td>2.722077</td>\n",
              "      <td>351.708922</td>\n",
              "      <td>2.292007</td>\n",
              "      <td>1.002952</td>\n",
              "      <td>0.499338</td>\n",
              "    </tr>\n",
              "    <tr>\n",
              "      <th>min</th>\n",
              "      <td>18.000000</td>\n",
              "      <td>0.000000</td>\n",
              "      <td>0.000000</td>\n",
              "      <td>0.000000</td>\n",
              "      <td>0.000000</td>\n",
              "      <td>-6847.000000</td>\n",
              "      <td>0.000000</td>\n",
              "      <td>0.000000</td>\n",
              "      <td>0.000000</td>\n",
              "      <td>1.000000</td>\n",
              "      <td>0.000000</td>\n",
              "      <td>2.000000</td>\n",
              "      <td>1.000000</td>\n",
              "      <td>1.000000</td>\n",
              "      <td>0.000000</td>\n",
              "      <td>0.000000</td>\n",
              "      <td>0.000000</td>\n",
              "    </tr>\n",
              "    <tr>\n",
              "      <th>25%</th>\n",
              "      <td>32.000000</td>\n",
              "      <td>1.000000</td>\n",
              "      <td>1.000000</td>\n",
              "      <td>1.000000</td>\n",
              "      <td>0.000000</td>\n",
              "      <td>122.000000</td>\n",
              "      <td>0.000000</td>\n",
              "      <td>0.000000</td>\n",
              "      <td>0.000000</td>\n",
              "      <td>8.000000</td>\n",
              "      <td>3.000000</td>\n",
              "      <td>138.000000</td>\n",
              "      <td>1.000000</td>\n",
              "      <td>521.000000</td>\n",
              "      <td>0.000000</td>\n",
              "      <td>2.000000</td>\n",
              "      <td>0.000000</td>\n",
              "    </tr>\n",
              "    <tr>\n",
              "      <th>50%</th>\n",
              "      <td>39.000000</td>\n",
              "      <td>4.000000</td>\n",
              "      <td>1.000000</td>\n",
              "      <td>1.000000</td>\n",
              "      <td>0.000000</td>\n",
              "      <td>550.000000</td>\n",
              "      <td>0.000000</td>\n",
              "      <td>0.000000</td>\n",
              "      <td>0.000000</td>\n",
              "      <td>15.000000</td>\n",
              "      <td>6.000000</td>\n",
              "      <td>255.000000</td>\n",
              "      <td>2.000000</td>\n",
              "      <td>1000.000000</td>\n",
              "      <td>0.000000</td>\n",
              "      <td>3.000000</td>\n",
              "      <td>0.000000</td>\n",
              "    </tr>\n",
              "    <tr>\n",
              "      <th>75%</th>\n",
              "      <td>49.000000</td>\n",
              "      <td>7.000000</td>\n",
              "      <td>2.000000</td>\n",
              "      <td>2.000000</td>\n",
              "      <td>0.000000</td>\n",
              "      <td>1708.000000</td>\n",
              "      <td>1.000000</td>\n",
              "      <td>0.000000</td>\n",
              "      <td>1.000000</td>\n",
              "      <td>22.000000</td>\n",
              "      <td>8.000000</td>\n",
              "      <td>496.000000</td>\n",
              "      <td>3.000000</td>\n",
              "      <td>1000.000000</td>\n",
              "      <td>1.000000</td>\n",
              "      <td>3.000000</td>\n",
              "      <td>1.000000</td>\n",
              "    </tr>\n",
              "    <tr>\n",
              "      <th>max</th>\n",
              "      <td>95.000000</td>\n",
              "      <td>11.000000</td>\n",
              "      <td>2.000000</td>\n",
              "      <td>3.000000</td>\n",
              "      <td>1.000000</td>\n",
              "      <td>81204.000000</td>\n",
              "      <td>1.000000</td>\n",
              "      <td>1.000000</td>\n",
              "      <td>2.000000</td>\n",
              "      <td>31.000000</td>\n",
              "      <td>11.000000</td>\n",
              "      <td>3881.000000</td>\n",
              "      <td>63.000000</td>\n",
              "      <td>1000.000000</td>\n",
              "      <td>58.000000</td>\n",
              "      <td>3.000000</td>\n",
              "      <td>1.000000</td>\n",
              "    </tr>\n",
              "  </tbody>\n",
              "</table>\n",
              "</div>"
            ],
            "text/plain": [
              "                age           job  ...      poutcome       deposit\n",
              "count  11162.000000  11162.000000  ...  11162.000000  11162.000000\n",
              "mean      41.231948      4.487905  ...      2.477782      0.473840\n",
              "std       11.913369      3.225132  ...      1.002952      0.499338\n",
              "min       18.000000      0.000000  ...      0.000000      0.000000\n",
              "25%       32.000000      1.000000  ...      2.000000      0.000000\n",
              "50%       39.000000      4.000000  ...      3.000000      0.000000\n",
              "75%       49.000000      7.000000  ...      3.000000      1.000000\n",
              "max       95.000000     11.000000  ...      3.000000      1.000000\n",
              "\n",
              "[8 rows x 17 columns]"
            ]
          },
          "metadata": {
            "tags": []
          },
          "execution_count": 37
        }
      ]
    },
    {
      "cell_type": "markdown",
      "metadata": {
        "id": "vyc8W4AC5LvW",
        "colab_type": "text"
      },
      "source": [
        "# **ÁRBOL DE DECISIÓN: CLASIFICADOR**"
      ]
    },
    {
      "cell_type": "markdown",
      "metadata": {
        "id": "kjd3avnAl2e9",
        "colab_type": "text"
      },
      "source": [
        "Se separa la base de datos entre datos de entrenamiento y datos de pruebas (80% - 20%)"
      ]
    },
    {
      "cell_type": "code",
      "metadata": {
        "_cell_guid": "5675ce89-28f8-409d-9387-ce4641bc4a7b",
        "_uuid": "3b14efa859cd38fce1e118ceae7144d8563dc014",
        "colab_type": "code",
        "id": "6E0njVGKzvBk",
        "colab": {
          "base_uri": "https://localhost:8080/",
          "height": 67
        },
        "outputId": "7ffeca09-7933-4260-ecdd-ded8d1cc76a8"
      },
      "source": [
        "from sklearn.model_selection import train_test_split\n",
        "\n",
        "# Se toma la base de datos menos la variable de interes 'deposit'\n",
        "x = bank.drop('deposit', 1)\n",
        "# Se toma la variable de interés\n",
        "y = bank.deposit\n",
        "# Función que separa los datos datos de X y Y de entrenamiento y testeo\n",
        "x_train, x_test, y_train, y_test = train_test_split(x, y, test_size = 0.2, random_state = 101)\n",
        "\n",
        "print(x.shape)\n",
        "print(x_train.shape)\n",
        "print(x_test.shape)"
      ],
      "execution_count": 38,
      "outputs": [
        {
          "output_type": "stream",
          "text": [
            "(11162, 16)\n",
            "(8929, 16)\n",
            "(2233, 16)\n"
          ],
          "name": "stdout"
        }
      ]
    },
    {
      "cell_type": "code",
      "metadata": {
        "_cell_guid": "7b8c8772-a2ec-4399-807e-73ccc4951dd1",
        "_uuid": "4a48b73d67f4f57349d3dbc75c4d02cfeb1d82f9",
        "colab_type": "code",
        "id": "5QJu_GlTzvBm",
        "scrolled": true,
        "colab": {
          "base_uri": "https://localhost:8080/",
          "height": 50
        },
        "outputId": "ca79acb1-ad4c-48ab-ff60-4d0d27816ac5"
      },
      "source": [
        "from sklearn import tree\n",
        "\n",
        "# Árbol de decisión de profundidad = 2\n",
        "modelo1 = tree.DecisionTreeClassifier(max_depth=2)\n",
        "# Entrenamiento del modelo\n",
        "modelo1.fit(x_train, y_train)\n",
        "# Cálculo de la exactitud media del proceso de entrenamiento\n",
        "modelo1_score_train = modelo1.score(x_train, y_train)\n",
        "# Imprimir el resultado\n",
        "print(\"Exactitud en el entrenamiento: \",modelo1_score_train)\n",
        "# Cálculo de la exactitud media del proceso de testeo\n",
        "modelo1_score_test = modelo1.score(x_test, y_test)\n",
        "# Imprimir el resultado\n",
        "print(\"Exactitud en la prueba: \",modelo1_score_test)"
      ],
      "execution_count": 39,
      "outputs": [
        {
          "output_type": "stream",
          "text": [
            "Exactitud en el entrenamiento:  0.7603315040878038\n",
            "Exactitud en la prueba:  0.7595163457232422\n"
          ],
          "name": "stdout"
        }
      ]
    },
    {
      "cell_type": "markdown",
      "metadata": {
        "id": "kdu2CFODoUQk",
        "colab_type": "text"
      },
      "source": [
        "Graficar el árbol de decisión"
      ]
    },
    {
      "cell_type": "code",
      "metadata": {
        "colab_type": "code",
        "id": "LcAWcyIqy9tV",
        "colab": {
          "base_uri": "https://localhost:8080/",
          "height": 440
        },
        "outputId": "7458c55b-7725-4e17-f571-388725a97083"
      },
      "source": [
        "from matplotlib.pylab import rcParams\n",
        "import graphviz\n",
        "\n",
        "# Definición del nombre de las características\n",
        "features_names = x.columns.tolist()\n",
        "# Definición de la salida del sistema\n",
        "classes_names = ['No registrado', 'Registrado']\n",
        "\n",
        "# Configurar el tamaño de la gráfica\n",
        "rcParams['figure.figsize'] = 10,10\n",
        "\n",
        "Arbol = tree.export_graphviz(modelo1, out_file=None, \n",
        "                      feature_names=features_names,  \n",
        "                      class_names=classes_names,  \n",
        "                      filled=True, rounded=True,  \n",
        "                      special_characters=True)  \n",
        "\n",
        "graph = graphviz.Source(Arbol)  \n",
        "graph"
      ],
      "execution_count": 40,
      "outputs": [
        {
          "output_type": "execute_result",
          "data": {
            "text/plain": [
              "<graphviz.files.Source at 0x7fd6d36f8940>"
            ],
            "image/svg+xml": "<?xml version=\"1.0\" encoding=\"UTF-8\" standalone=\"no\"?>\n<!DOCTYPE svg PUBLIC \"-//W3C//DTD SVG 1.1//EN\"\n \"http://www.w3.org/Graphics/SVG/1.1/DTD/svg11.dtd\">\n<!-- Generated by graphviz version 2.40.1 (20161225.0304)\n -->\n<!-- Title: Tree Pages: 1 -->\n<svg width=\"633pt\" height=\"314pt\"\n viewBox=\"0.00 0.00 632.50 314.00\" xmlns=\"http://www.w3.org/2000/svg\" xmlns:xlink=\"http://www.w3.org/1999/xlink\">\n<g id=\"graph0\" class=\"graph\" transform=\"scale(1 1) rotate(0) translate(4 310)\">\n<title>Tree</title>\n<polygon fill=\"#ffffff\" stroke=\"transparent\" points=\"-4,4 -4,-310 628.5,-310 628.5,4 -4,4\"/>\n<!-- 0 -->\n<g id=\"node1\" class=\"node\">\n<title>0</title>\n<path fill=\"#fcf3ec\" stroke=\"#000000\" d=\"M378,-306C378,-306 249,-306 249,-306 243,-306 237,-300 237,-294 237,-294 237,-235 237,-235 237,-229 243,-223 249,-223 249,-223 378,-223 378,-223 384,-223 390,-229 390,-235 390,-235 390,-294 390,-294 390,-300 384,-306 378,-306\"/>\n<text text-anchor=\"start\" x=\"261\" y=\"-290.8\" font-family=\"Helvetica,sans-Serif\" font-size=\"14.00\" fill=\"#000000\">duration ≤ 365.5</text>\n<text text-anchor=\"start\" x=\"275.5\" y=\"-275.8\" font-family=\"Helvetica,sans-Serif\" font-size=\"14.00\" fill=\"#000000\">gini = 0.499</text>\n<text text-anchor=\"start\" x=\"261.5\" y=\"-260.8\" font-family=\"Helvetica,sans-Serif\" font-size=\"14.00\" fill=\"#000000\">samples = 8929</text>\n<text text-anchor=\"start\" x=\"247\" y=\"-245.8\" font-family=\"Helvetica,sans-Serif\" font-size=\"14.00\" fill=\"#000000\">value = [4692, 4237]</text>\n<text text-anchor=\"start\" x=\"245\" y=\"-230.8\" font-family=\"Helvetica,sans-Serif\" font-size=\"14.00\" fill=\"#000000\">class = No registrado</text>\n</g>\n<!-- 1 -->\n<g id=\"node2\" class=\"node\">\n<title>1</title>\n<path fill=\"#f1bb93\" stroke=\"#000000\" d=\"M296,-187C296,-187 167,-187 167,-187 161,-187 155,-181 155,-175 155,-175 155,-116 155,-116 155,-110 161,-104 167,-104 167,-104 296,-104 296,-104 302,-104 308,-110 308,-116 308,-116 308,-175 308,-175 308,-181 302,-187 296,-187\"/>\n<text text-anchor=\"start\" x=\"185.5\" y=\"-171.8\" font-family=\"Helvetica,sans-Serif\" font-size=\"14.00\" fill=\"#000000\">pdays ≤ 211.5</text>\n<text text-anchor=\"start\" x=\"198\" y=\"-156.8\" font-family=\"Helvetica,sans-Serif\" font-size=\"14.00\" fill=\"#000000\">gini = 0.43</text>\n<text text-anchor=\"start\" x=\"179.5\" y=\"-141.8\" font-family=\"Helvetica,sans-Serif\" font-size=\"14.00\" fill=\"#000000\">samples = 5792</text>\n<text text-anchor=\"start\" x=\"165\" y=\"-126.8\" font-family=\"Helvetica,sans-Serif\" font-size=\"14.00\" fill=\"#000000\">value = [3977, 1815]</text>\n<text text-anchor=\"start\" x=\"163\" y=\"-111.8\" font-family=\"Helvetica,sans-Serif\" font-size=\"14.00\" fill=\"#000000\">class = No registrado</text>\n</g>\n<!-- 0&#45;&gt;1 -->\n<g id=\"edge1\" class=\"edge\">\n<title>0&#45;&gt;1</title>\n<path fill=\"none\" stroke=\"#000000\" d=\"M284.8204,-222.8796C278.7385,-214.0534 272.2578,-204.6485 265.9859,-195.5466\"/>\n<polygon fill=\"#000000\" stroke=\"#000000\" points=\"268.8582,-193.5465 260.302,-187.2981 263.0941,-197.5184 268.8582,-193.5465\"/>\n<text text-anchor=\"middle\" x=\"255.7761\" y=\"-208.185\" font-family=\"Helvetica,sans-Serif\" font-size=\"14.00\" fill=\"#000000\">True</text>\n</g>\n<!-- 4 -->\n<g id=\"node5\" class=\"node\">\n<title>4</title>\n<path fill=\"#73baed\" stroke=\"#000000\" d=\"M454.5,-187C454.5,-187 338.5,-187 338.5,-187 332.5,-187 326.5,-181 326.5,-175 326.5,-175 326.5,-116 326.5,-116 326.5,-110 332.5,-104 338.5,-104 338.5,-104 454.5,-104 454.5,-104 460.5,-104 466.5,-110 466.5,-116 466.5,-116 466.5,-175 466.5,-175 466.5,-181 460.5,-187 454.5,-187\"/>\n<text text-anchor=\"start\" x=\"344\" y=\"-171.8\" font-family=\"Helvetica,sans-Serif\" font-size=\"14.00\" fill=\"#000000\">duration ≤ 643.5</text>\n<text text-anchor=\"start\" x=\"358.5\" y=\"-156.8\" font-family=\"Helvetica,sans-Serif\" font-size=\"14.00\" fill=\"#000000\">gini = 0.352</text>\n<text text-anchor=\"start\" x=\"344.5\" y=\"-141.8\" font-family=\"Helvetica,sans-Serif\" font-size=\"14.00\" fill=\"#000000\">samples = 3137</text>\n<text text-anchor=\"start\" x=\"334.5\" y=\"-126.8\" font-family=\"Helvetica,sans-Serif\" font-size=\"14.00\" fill=\"#000000\">value = [715, 2422]</text>\n<text text-anchor=\"start\" x=\"336\" y=\"-111.8\" font-family=\"Helvetica,sans-Serif\" font-size=\"14.00\" fill=\"#000000\">class = Registrado</text>\n</g>\n<!-- 0&#45;&gt;4 -->\n<g id=\"edge4\" class=\"edge\">\n<title>0&#45;&gt;4</title>\n<path fill=\"none\" stroke=\"#000000\" d=\"M342.5294,-222.8796C348.6855,-214.0534 355.2451,-204.6485 361.5936,-195.5466\"/>\n<polygon fill=\"#000000\" stroke=\"#000000\" points=\"364.4967,-197.5024 367.3467,-187.2981 358.7552,-193.4978 364.4967,-197.5024\"/>\n<text text-anchor=\"middle\" x=\"371.7331\" y=\"-208.2103\" font-family=\"Helvetica,sans-Serif\" font-size=\"14.00\" fill=\"#000000\">False</text>\n</g>\n<!-- 2 -->\n<g id=\"node3\" class=\"node\">\n<title>2</title>\n<path fill=\"#94caf1\" stroke=\"#000000\" d=\"M125,-68C125,-68 12,-68 12,-68 6,-68 0,-62 0,-56 0,-56 0,-12 0,-12 0,-6 6,0 12,0 12,0 125,0 125,0 131,0 137,-6 137,-12 137,-12 137,-56 137,-56 137,-62 131,-68 125,-68\"/>\n<text text-anchor=\"start\" x=\"30.5\" y=\"-52.8\" font-family=\"Helvetica,sans-Serif\" font-size=\"14.00\" fill=\"#000000\">gini = 0.431</text>\n<text text-anchor=\"start\" x=\"16.5\" y=\"-37.8\" font-family=\"Helvetica,sans-Serif\" font-size=\"14.00\" fill=\"#000000\">samples = 1048</text>\n<text text-anchor=\"start\" x=\"10.5\" y=\"-22.8\" font-family=\"Helvetica,sans-Serif\" font-size=\"14.00\" fill=\"#000000\">value = [329, 719]</text>\n<text text-anchor=\"start\" x=\"8\" y=\"-7.8\" font-family=\"Helvetica,sans-Serif\" font-size=\"14.00\" fill=\"#000000\">class = Registrado</text>\n</g>\n<!-- 1&#45;&gt;2 -->\n<g id=\"edge2\" class=\"edge\">\n<title>1&#45;&gt;2</title>\n<path fill=\"none\" stroke=\"#000000\" d=\"M170.8048,-103.9815C156.353,-94.0957 140.9658,-83.5701 126.632,-73.7651\"/>\n<polygon fill=\"#000000\" stroke=\"#000000\" points=\"128.559,-70.8428 118.3292,-68.0856 124.6068,-76.6204 128.559,-70.8428\"/>\n</g>\n<!-- 3 -->\n<g id=\"node4\" class=\"node\">\n<title>3</title>\n<path fill=\"#eda774\" stroke=\"#000000\" d=\"M296,-68C296,-68 167,-68 167,-68 161,-68 155,-62 155,-56 155,-56 155,-12 155,-12 155,-6 161,0 167,0 167,0 296,0 296,0 302,0 308,-6 308,-12 308,-12 308,-56 308,-56 308,-62 302,-68 296,-68\"/>\n<text text-anchor=\"start\" x=\"193.5\" y=\"-52.8\" font-family=\"Helvetica,sans-Serif\" font-size=\"14.00\" fill=\"#000000\">gini = 0.355</text>\n<text text-anchor=\"start\" x=\"179.5\" y=\"-37.8\" font-family=\"Helvetica,sans-Serif\" font-size=\"14.00\" fill=\"#000000\">samples = 4744</text>\n<text text-anchor=\"start\" x=\"165\" y=\"-22.8\" font-family=\"Helvetica,sans-Serif\" font-size=\"14.00\" fill=\"#000000\">value = [3648, 1096]</text>\n<text text-anchor=\"start\" x=\"163\" y=\"-7.8\" font-family=\"Helvetica,sans-Serif\" font-size=\"14.00\" fill=\"#000000\">class = No registrado</text>\n</g>\n<!-- 1&#45;&gt;3 -->\n<g id=\"edge3\" class=\"edge\">\n<title>1&#45;&gt;3</title>\n<path fill=\"none\" stroke=\"#000000\" d=\"M231.5,-103.9815C231.5,-95.618 231.5,-86.7965 231.5,-78.3409\"/>\n<polygon fill=\"#000000\" stroke=\"#000000\" points=\"235.0001,-78.2636 231.5,-68.2637 228.0001,-78.2637 235.0001,-78.2636\"/>\n</g>\n<!-- 5 -->\n<g id=\"node6\" class=\"node\">\n<title>5</title>\n<path fill=\"#94caf1\" stroke=\"#000000\" d=\"M454.5,-68C454.5,-68 338.5,-68 338.5,-68 332.5,-68 326.5,-62 326.5,-56 326.5,-56 326.5,-12 326.5,-12 326.5,-6 332.5,0 338.5,0 338.5,0 454.5,0 454.5,0 460.5,0 466.5,-6 466.5,-12 466.5,-12 466.5,-56 466.5,-56 466.5,-62 460.5,-68 454.5,-68\"/>\n<text text-anchor=\"start\" x=\"358.5\" y=\"-52.8\" font-family=\"Helvetica,sans-Serif\" font-size=\"14.00\" fill=\"#000000\">gini = 0.432</text>\n<text text-anchor=\"start\" x=\"344.5\" y=\"-37.8\" font-family=\"Helvetica,sans-Serif\" font-size=\"14.00\" fill=\"#000000\">samples = 1621</text>\n<text text-anchor=\"start\" x=\"334.5\" y=\"-22.8\" font-family=\"Helvetica,sans-Serif\" font-size=\"14.00\" fill=\"#000000\">value = [511, 1110]</text>\n<text text-anchor=\"start\" x=\"336\" y=\"-7.8\" font-family=\"Helvetica,sans-Serif\" font-size=\"14.00\" fill=\"#000000\">class = Registrado</text>\n</g>\n<!-- 4&#45;&gt;5 -->\n<g id=\"edge5\" class=\"edge\">\n<title>4&#45;&gt;5</title>\n<path fill=\"none\" stroke=\"#000000\" d=\"M396.5,-103.9815C396.5,-95.618 396.5,-86.7965 396.5,-78.3409\"/>\n<polygon fill=\"#000000\" stroke=\"#000000\" points=\"400.0001,-78.2636 396.5,-68.2637 393.0001,-78.2637 400.0001,-78.2636\"/>\n</g>\n<!-- 6 -->\n<g id=\"node7\" class=\"node\">\n<title>6</title>\n<path fill=\"#58ace9\" stroke=\"#000000\" d=\"M612.5,-68C612.5,-68 496.5,-68 496.5,-68 490.5,-68 484.5,-62 484.5,-56 484.5,-56 484.5,-12 484.5,-12 484.5,-6 490.5,0 496.5,0 496.5,0 612.5,0 612.5,0 618.5,0 624.5,-6 624.5,-12 624.5,-12 624.5,-56 624.5,-56 624.5,-62 618.5,-68 612.5,-68\"/>\n<text text-anchor=\"start\" x=\"516.5\" y=\"-52.8\" font-family=\"Helvetica,sans-Serif\" font-size=\"14.00\" fill=\"#000000\">gini = 0.233</text>\n<text text-anchor=\"start\" x=\"502.5\" y=\"-37.8\" font-family=\"Helvetica,sans-Serif\" font-size=\"14.00\" fill=\"#000000\">samples = 1516</text>\n<text text-anchor=\"start\" x=\"492.5\" y=\"-22.8\" font-family=\"Helvetica,sans-Serif\" font-size=\"14.00\" fill=\"#000000\">value = [204, 1312]</text>\n<text text-anchor=\"start\" x=\"494\" y=\"-7.8\" font-family=\"Helvetica,sans-Serif\" font-size=\"14.00\" fill=\"#000000\">class = Registrado</text>\n</g>\n<!-- 4&#45;&gt;6 -->\n<g id=\"edge6\" class=\"edge\">\n<title>4&#45;&gt;6</title>\n<path fill=\"none\" stroke=\"#000000\" d=\"M455.3334,-103.9815C469.211,-94.1881 483.9784,-83.7668 497.7614,-74.0402\"/>\n<polygon fill=\"#000000\" stroke=\"#000000\" points=\"500.0469,-76.7111 506.1993,-68.0856 496.0108,-70.9918 500.0469,-76.7111\"/>\n</g>\n</g>\n</svg>\n"
          },
          "metadata": {
            "tags": []
          },
          "execution_count": 40
        }
      ]
    },
    {
      "cell_type": "markdown",
      "metadata": {
        "id": "zYBlw3xycAat",
        "colab_type": "text"
      },
      "source": [
        "Como leer el Árbol de decisión\n",
        "\n",
        "1. El nodo inicial pregunta si la duración de la llamada es menor o igual a 365.5.\n",
        "2. Si es así (True), se mueve hacia abajo al nodo secundario izquierdo de la raíz (profundidad 1, izquierda).\n",
        "3. Este nodo pregunta si la variable p_success es menor o igual a 0.5 (esta variable es 1 cuando el usuario se registró en la campaña anterior o 0 si el usuario no se registró en la campaña anterior).\n",
        "4. Si es así (True), se mueve hacia abajo a la izquierda de la raíz (profundidad 2, izquierda). 'Concluyendo que la clase en No registrado'.\n",
        "5. Si no es así (False), se mueve hacia abajo a la derecha de la raíz (profundidad 2, segundo nodo). 'Concluyendo que la clase en Registrado'.\n",
        "6. Volviendo al nodo inicial, si la duración de la llamada es mayor a 365 debe moverse hacia el nodo secundario derecho de la raíz (profundidad 1, derecha)\n",
        "7. Luego se pregunta: ¿el ancho del pétalo es menor que 1.75 cm? \n",
        "8. Todos los casos siguientes concluyen que la clase en 'Registrado'.\n",
        "\n",
        "\n",
        "\n",
        "\n"
      ]
    },
    {
      "cell_type": "markdown",
      "metadata": {
        "id": "6zBL5bP3gZQ1",
        "colab_type": "text"
      },
      "source": [
        "Atributos de los nodos\n",
        "\n",
        "- Samples: de 8929 muestras (primer nodo), 5792 tienen duración menor o igual a 365.5 (nodo 2 izquierda) y 3137 muestras tiene mayor duración (nodo 2 derecha).\n",
        "- Value: indica a cuántas instancias de entrenamiento de cada clase se aplica este nodo: por ejemplo, el primer nodo aplica 4692 a 0 No registrado y 4235 a 1 Registrado. \n",
        "- gini: (impureza). Un nodo es \"puro\" (gini = 0) si todas las instancias de entrenamiento a las que se aplica pertenecen a la misma clase. Para el primer nodo Gini igual a 1 - (4692/8929)^2 - (4235/8929)^2 ≈ 0.499."
      ]
    },
    {
      "cell_type": "markdown",
      "metadata": {
        "id": "GxvMSJ_hpQoW",
        "colab_type": "text"
      },
      "source": [
        "Analizar cuáles son las características más importantes del modelo."
      ]
    },
    {
      "cell_type": "code",
      "metadata": {
        "_cell_guid": "a40199c8-690b-4361-bdcc-f7dd76946250",
        "_uuid": "6cd0de90f9a563e11e42683f81d82b5c91c6d93c",
        "colab_type": "code",
        "id": "MqKCqTwTzvB9",
        "colab": {
          "base_uri": "https://localhost:8080/",
          "height": 286
        },
        "outputId": "1dad7fb8-dea3-4c56-860f-3328525fa793"
      },
      "source": [
        "# Valor numérico de cada característica del árbol de decisión\n",
        "fi = modelo1.feature_importances_\n",
        "# Imprimir las características con su respectivo valor\n",
        "l = len(features_names)\n",
        "for i in range(0,len(features_names)):\n",
        "    print('{:.<20} {:3}'.format(features_names[i],fi[i]))"
      ],
      "execution_count": 41,
      "outputs": [
        {
          "output_type": "stream",
          "text": [
            "age................. 0.0\n",
            "job................. 0.0\n",
            "marital............. 0.0\n",
            "education........... 0.0\n",
            "default............. 0.0\n",
            "balance............. 0.0\n",
            "housing............. 0.0\n",
            "loan................ 0.0\n",
            "contact............. 0.0\n",
            "day................. 0.0\n",
            "month............... 0.0\n",
            "duration............ 0.7185406473281656\n",
            "campaign............ 0.0\n",
            "pdays............... 0.2814593526718343\n",
            "previous............ 0.0\n",
            "poutcome............ 0.0\n"
          ],
          "name": "stdout"
        }
      ]
    },
    {
      "cell_type": "markdown",
      "metadata": {
        "id": "EiGmQY-f5UPe",
        "colab_type": "text"
      },
      "source": [
        "**ACTIVIDAD**\n",
        "1. Crear otro modelo de Árbol de Decisión con profundidad = 4.\n",
        "2. Imprimir el modelo del Árbol de Decisión.\n",
        "3. Crear otro modelo de Árbol de Decisión con profundidad máxima.\n",
        "4. Imprimir las características más importantes.\n",
        "5. Comparar todos los modelos y determinar cuál de ellos es el mejor."
      ]
    },
    {
      "cell_type": "markdown",
      "metadata": {
        "id": "vVUgNSeF6C0Q",
        "colab_type": "text"
      },
      "source": [
        "**Solución 1. Árbol de Decisión profundidad = 4**"
      ]
    },
    {
      "cell_type": "code",
      "metadata": {
        "_cell_guid": "14b771bd-b87e-4ac4-b3ec-64da8bbb7b68",
        "_uuid": "c828f56ae83bf3eac076c3642ad26e51f660d643",
        "colab_type": "code",
        "id": "5WGil8u5zvBo",
        "colab": {
          "base_uri": "https://localhost:8080/",
          "height": 50
        },
        "outputId": "4e59c06f-de52-4a84-e351-895c17fd5157"
      },
      "source": [
        "# Árbol de Decisión de profundidad = 4\n",
        "modelo2 = tree.DecisionTreeClassifier(max_depth=__)\n",
        "# Entrenamiento del modelo\n",
        "modelo2.fit(x_train, y_train)\n",
        "# Cálculo de la exactitud media del proceso de entrenamiento\n",
        "modelo2_score_train = modelo2.score(x_train, y_train)\n",
        "# Imprimir el resultado\n",
        "print(\"Exactitud en el entrenamiento: \",modelo2_score_train)\n",
        "# Cálculo de la exactitud media del proceso de testeo\n",
        "modelo2_score_test = modelo2.score(x_test, y_test)\n",
        "# Imprimir el resultado\n",
        "print(\"Exactitud en el testeo: \",modelo2_score_test)"
      ],
      "execution_count": null,
      "outputs": [
        {
          "output_type": "stream",
          "text": [
            "Exactitud en el entrenamiento:  0.7812744988240564\n",
            "Exactitud en el testeo:  0.7787729511867443\n"
          ],
          "name": "stdout"
        }
      ]
    },
    {
      "cell_type": "markdown",
      "metadata": {
        "id": "jaMXeCT46HUP",
        "colab_type": "text"
      },
      "source": [
        "**Solución 2. Imprimir el Árbol de Decisión**"
      ]
    },
    {
      "cell_type": "code",
      "metadata": {
        "colab_type": "code",
        "id": "BWvGEEjK3FBl",
        "colab": {
          "base_uri": "https://localhost:8080/",
          "height": 777
        },
        "outputId": "72c49670-4b84-40b4-a9a2-029a4af2f35d"
      },
      "source": [
        "# Se imprime el Árbol\n",
        "Arbol = tree.export_graphviz(__, out_file=None, \n",
        "                      feature_names=features_names,  \n",
        "                      class_names=classes_names,  \n",
        "                      filled=True, rounded=True,  \n",
        "                      special_characters=True)  \n",
        "graph = graphviz.Source(__) \n",
        "graph "
      ],
      "execution_count": null,
      "outputs": [
        {
          "output_type": "execute_result",
          "data": {
            "text/plain": [
              "<graphviz.files.Source at 0x7f7dd2aa3ef0>"
            ],
            "image/svg+xml": "<?xml version=\"1.0\" encoding=\"UTF-8\" standalone=\"no\"?>\n<!DOCTYPE svg PUBLIC \"-//W3C//DTD SVG 1.1//EN\"\n \"http://www.w3.org/Graphics/SVG/1.1/DTD/svg11.dtd\">\n<!-- Generated by graphviz version 2.40.1 (20161225.0304)\n -->\n<!-- Title: Tree Pages: 1 -->\n<svg width=\"2566pt\" height=\"552pt\"\n viewBox=\"0.00 0.00 2566.00 552.00\" xmlns=\"http://www.w3.org/2000/svg\" xmlns:xlink=\"http://www.w3.org/1999/xlink\">\n<g id=\"graph0\" class=\"graph\" transform=\"scale(1 1) rotate(0) translate(4 548)\">\n<title>Tree</title>\n<polygon fill=\"#ffffff\" stroke=\"transparent\" points=\"-4,4 -4,-548 2562,-548 2562,4 -4,4\"/>\n<!-- 0 -->\n<g id=\"node1\" class=\"node\">\n<title>0</title>\n<path fill=\"#fcf3ec\" stroke=\"#000000\" d=\"M1354,-544C1354,-544 1225,-544 1225,-544 1219,-544 1213,-538 1213,-532 1213,-532 1213,-473 1213,-473 1213,-467 1219,-461 1225,-461 1225,-461 1354,-461 1354,-461 1360,-461 1366,-467 1366,-473 1366,-473 1366,-532 1366,-532 1366,-538 1360,-544 1354,-544\"/>\n<text text-anchor=\"start\" x=\"1237\" y=\"-528.8\" font-family=\"Helvetica,sans-Serif\" font-size=\"14.00\" fill=\"#000000\">duration ≤ 365.5</text>\n<text text-anchor=\"start\" x=\"1251.5\" y=\"-513.8\" font-family=\"Helvetica,sans-Serif\" font-size=\"14.00\" fill=\"#000000\">gini = 0.499</text>\n<text text-anchor=\"start\" x=\"1237.5\" y=\"-498.8\" font-family=\"Helvetica,sans-Serif\" font-size=\"14.00\" fill=\"#000000\">samples = 8929</text>\n<text text-anchor=\"start\" x=\"1223\" y=\"-483.8\" font-family=\"Helvetica,sans-Serif\" font-size=\"14.00\" fill=\"#000000\">value = [4692, 4237]</text>\n<text text-anchor=\"start\" x=\"1221\" y=\"-468.8\" font-family=\"Helvetica,sans-Serif\" font-size=\"14.00\" fill=\"#000000\">class = No registrado</text>\n</g>\n<!-- 1 -->\n<g id=\"node2\" class=\"node\">\n<title>1</title>\n<path fill=\"#f1bb93\" stroke=\"#000000\" d=\"M1033,-425C1033,-425 904,-425 904,-425 898,-425 892,-419 892,-413 892,-413 892,-354 892,-354 892,-348 898,-342 904,-342 904,-342 1033,-342 1033,-342 1039,-342 1045,-348 1045,-354 1045,-354 1045,-413 1045,-413 1045,-419 1039,-425 1033,-425\"/>\n<text text-anchor=\"start\" x=\"922.5\" y=\"-409.8\" font-family=\"Helvetica,sans-Serif\" font-size=\"14.00\" fill=\"#000000\">pdays ≤ 211.5</text>\n<text text-anchor=\"start\" x=\"935\" y=\"-394.8\" font-family=\"Helvetica,sans-Serif\" font-size=\"14.00\" fill=\"#000000\">gini = 0.43</text>\n<text text-anchor=\"start\" x=\"916.5\" y=\"-379.8\" font-family=\"Helvetica,sans-Serif\" font-size=\"14.00\" fill=\"#000000\">samples = 5792</text>\n<text text-anchor=\"start\" x=\"902\" y=\"-364.8\" font-family=\"Helvetica,sans-Serif\" font-size=\"14.00\" fill=\"#000000\">value = [3977, 1815]</text>\n<text text-anchor=\"start\" x=\"900\" y=\"-349.8\" font-family=\"Helvetica,sans-Serif\" font-size=\"14.00\" fill=\"#000000\">class = No registrado</text>\n</g>\n<!-- 0&#45;&gt;1 -->\n<g id=\"edge1\" class=\"edge\">\n<title>0&#45;&gt;1</title>\n<path fill=\"none\" stroke=\"#000000\" d=\"M1212.6125,-473.9965C1165.0546,-456.3661 1103.9081,-433.698 1054.7104,-415.4596\"/>\n<polygon fill=\"#000000\" stroke=\"#000000\" points=\"1055.6308,-412.0681 1045.0378,-411.8738 1053.1976,-418.6316 1055.6308,-412.0681\"/>\n<text text-anchor=\"middle\" x=\"1055.4684\" y=\"-430.8939\" font-family=\"Helvetica,sans-Serif\" font-size=\"14.00\" fill=\"#000000\">True</text>\n</g>\n<!-- 16 -->\n<g id=\"node17\" class=\"node\">\n<title>16</title>\n<path fill=\"#73baed\" stroke=\"#000000\" d=\"M1666.5,-425C1666.5,-425 1550.5,-425 1550.5,-425 1544.5,-425 1538.5,-419 1538.5,-413 1538.5,-413 1538.5,-354 1538.5,-354 1538.5,-348 1544.5,-342 1550.5,-342 1550.5,-342 1666.5,-342 1666.5,-342 1672.5,-342 1678.5,-348 1678.5,-354 1678.5,-354 1678.5,-413 1678.5,-413 1678.5,-419 1672.5,-425 1666.5,-425\"/>\n<text text-anchor=\"start\" x=\"1556\" y=\"-409.8\" font-family=\"Helvetica,sans-Serif\" font-size=\"14.00\" fill=\"#000000\">duration ≤ 643.5</text>\n<text text-anchor=\"start\" x=\"1570.5\" y=\"-394.8\" font-family=\"Helvetica,sans-Serif\" font-size=\"14.00\" fill=\"#000000\">gini = 0.352</text>\n<text text-anchor=\"start\" x=\"1556.5\" y=\"-379.8\" font-family=\"Helvetica,sans-Serif\" font-size=\"14.00\" fill=\"#000000\">samples = 3137</text>\n<text text-anchor=\"start\" x=\"1546.5\" y=\"-364.8\" font-family=\"Helvetica,sans-Serif\" font-size=\"14.00\" fill=\"#000000\">value = [715, 2422]</text>\n<text text-anchor=\"start\" x=\"1548\" y=\"-349.8\" font-family=\"Helvetica,sans-Serif\" font-size=\"14.00\" fill=\"#000000\">class = Registrado</text>\n</g>\n<!-- 0&#45;&gt;16 -->\n<g id=\"edge16\" class=\"edge\">\n<title>0&#45;&gt;16</title>\n<path fill=\"none\" stroke=\"#000000\" d=\"M1366.3144,-473.8451C1415.5022,-455.496 1479.1913,-431.7374 1528.9114,-413.1898\"/>\n<polygon fill=\"#000000\" stroke=\"#000000\" points=\"1530.197,-416.4459 1538.343,-409.6714 1527.7504,-409.8874 1530.197,-416.4459\"/>\n<text text-anchor=\"middle\" x=\"1527.9588\" y=\"-428.7128\" font-family=\"Helvetica,sans-Serif\" font-size=\"14.00\" fill=\"#000000\">False</text>\n</g>\n<!-- 2 -->\n<g id=\"node3\" class=\"node\">\n<title>2</title>\n<path fill=\"#94caf1\" stroke=\"#000000\" d=\"M532,-306C532,-306 419,-306 419,-306 413,-306 407,-300 407,-294 407,-294 407,-235 407,-235 407,-229 413,-223 419,-223 419,-223 532,-223 532,-223 538,-223 544,-229 544,-235 544,-235 544,-294 544,-294 544,-300 538,-306 532,-306\"/>\n<text text-anchor=\"start\" x=\"423\" y=\"-290.8\" font-family=\"Helvetica,sans-Serif\" font-size=\"14.00\" fill=\"#000000\">duration ≤ 113.5</text>\n<text text-anchor=\"start\" x=\"437.5\" y=\"-275.8\" font-family=\"Helvetica,sans-Serif\" font-size=\"14.00\" fill=\"#000000\">gini = 0.431</text>\n<text text-anchor=\"start\" x=\"423.5\" y=\"-260.8\" font-family=\"Helvetica,sans-Serif\" font-size=\"14.00\" fill=\"#000000\">samples = 1048</text>\n<text text-anchor=\"start\" x=\"417.5\" y=\"-245.8\" font-family=\"Helvetica,sans-Serif\" font-size=\"14.00\" fill=\"#000000\">value = [329, 719]</text>\n<text text-anchor=\"start\" x=\"415\" y=\"-230.8\" font-family=\"Helvetica,sans-Serif\" font-size=\"14.00\" fill=\"#000000\">class = Registrado</text>\n</g>\n<!-- 1&#45;&gt;2 -->\n<g id=\"edge2\" class=\"edge\">\n<title>1&#45;&gt;2</title>\n<path fill=\"none\" stroke=\"#000000\" d=\"M891.7394,-364.9716C799.8246,-342.7852 646.7013,-305.8245 554.0156,-283.452\"/>\n<polygon fill=\"#000000\" stroke=\"#000000\" points=\"554.6726,-280.0102 544.1305,-281.066 553.0301,-286.8148 554.6726,-280.0102\"/>\n</g>\n<!-- 9 -->\n<g id=\"node10\" class=\"node\">\n<title>9</title>\n<path fill=\"#eda774\" stroke=\"#000000\" d=\"M1033,-306C1033,-306 904,-306 904,-306 898,-306 892,-300 892,-294 892,-294 892,-235 892,-235 892,-229 898,-223 904,-223 904,-223 1033,-223 1033,-223 1039,-223 1045,-229 1045,-235 1045,-235 1045,-294 1045,-294 1045,-300 1039,-306 1033,-306\"/>\n<text text-anchor=\"start\" x=\"927\" y=\"-290.8\" font-family=\"Helvetica,sans-Serif\" font-size=\"14.00\" fill=\"#000000\">contact ≤ 1.5</text>\n<text text-anchor=\"start\" x=\"930.5\" y=\"-275.8\" font-family=\"Helvetica,sans-Serif\" font-size=\"14.00\" fill=\"#000000\">gini = 0.355</text>\n<text text-anchor=\"start\" x=\"916.5\" y=\"-260.8\" font-family=\"Helvetica,sans-Serif\" font-size=\"14.00\" fill=\"#000000\">samples = 4744</text>\n<text text-anchor=\"start\" x=\"902\" y=\"-245.8\" font-family=\"Helvetica,sans-Serif\" font-size=\"14.00\" fill=\"#000000\">value = [3648, 1096]</text>\n<text text-anchor=\"start\" x=\"900\" y=\"-230.8\" font-family=\"Helvetica,sans-Serif\" font-size=\"14.00\" fill=\"#000000\">class = No registrado</text>\n</g>\n<!-- 1&#45;&gt;9 -->\n<g id=\"edge9\" class=\"edge\">\n<title>1&#45;&gt;9</title>\n<path fill=\"none\" stroke=\"#000000\" d=\"M968.5,-341.8796C968.5,-333.6838 968.5,-324.9891 968.5,-316.5013\"/>\n<polygon fill=\"#000000\" stroke=\"#000000\" points=\"972.0001,-316.298 968.5,-306.2981 965.0001,-316.2981 972.0001,-316.298\"/>\n</g>\n<!-- 3 -->\n<g id=\"node4\" class=\"node\">\n<title>3</title>\n<path fill=\"#eda775\" stroke=\"#000000\" d=\"M304,-187C304,-187 175,-187 175,-187 169,-187 163,-181 163,-175 163,-175 163,-116 163,-116 163,-110 169,-104 175,-104 175,-104 304,-104 304,-104 310,-104 316,-110 316,-116 316,-116 316,-175 316,-175 316,-181 310,-187 304,-187\"/>\n<text text-anchor=\"start\" x=\"189.5\" y=\"-171.8\" font-family=\"Helvetica,sans-Serif\" font-size=\"14.00\" fill=\"#000000\">poutcome ≤ 1.5</text>\n<text text-anchor=\"start\" x=\"201.5\" y=\"-156.8\" font-family=\"Helvetica,sans-Serif\" font-size=\"14.00\" fill=\"#000000\">gini = 0.357</text>\n<text text-anchor=\"start\" x=\"191.5\" y=\"-141.8\" font-family=\"Helvetica,sans-Serif\" font-size=\"14.00\" fill=\"#000000\">samples = 189</text>\n<text text-anchor=\"start\" x=\"185.5\" y=\"-126.8\" font-family=\"Helvetica,sans-Serif\" font-size=\"14.00\" fill=\"#000000\">value = [145, 44]</text>\n<text text-anchor=\"start\" x=\"171\" y=\"-111.8\" font-family=\"Helvetica,sans-Serif\" font-size=\"14.00\" fill=\"#000000\">class = No registrado</text>\n</g>\n<!-- 2&#45;&gt;3 -->\n<g id=\"edge3\" class=\"edge\">\n<title>2&#45;&gt;3</title>\n<path fill=\"none\" stroke=\"#000000\" d=\"M406.922,-229.9204C381.3674,-217.0348 352.0382,-202.246 325.1403,-188.683\"/>\n<polygon fill=\"#000000\" stroke=\"#000000\" points=\"326.6255,-185.5122 316.1205,-184.1349 323.4738,-191.7625 326.6255,-185.5122\"/>\n</g>\n<!-- 6 -->\n<g id=\"node7\" class=\"node\">\n<title>6</title>\n<path fill=\"#6fb8ec\" stroke=\"#000000\" d=\"M532,-187C532,-187 419,-187 419,-187 413,-187 407,-181 407,-175 407,-175 407,-116 407,-116 407,-110 413,-104 419,-104 419,-104 532,-104 532,-104 538,-104 544,-110 544,-116 544,-116 544,-175 544,-175 544,-181 538,-187 532,-187\"/>\n<text text-anchor=\"start\" x=\"425.5\" y=\"-171.8\" font-family=\"Helvetica,sans-Serif\" font-size=\"14.00\" fill=\"#000000\">poutcome ≤ 1.5</text>\n<text text-anchor=\"start\" x=\"437.5\" y=\"-156.8\" font-family=\"Helvetica,sans-Serif\" font-size=\"14.00\" fill=\"#000000\">gini = 0.337</text>\n<text text-anchor=\"start\" x=\"427.5\" y=\"-141.8\" font-family=\"Helvetica,sans-Serif\" font-size=\"14.00\" fill=\"#000000\">samples = 859</text>\n<text text-anchor=\"start\" x=\"417.5\" y=\"-126.8\" font-family=\"Helvetica,sans-Serif\" font-size=\"14.00\" fill=\"#000000\">value = [184, 675]</text>\n<text text-anchor=\"start\" x=\"415\" y=\"-111.8\" font-family=\"Helvetica,sans-Serif\" font-size=\"14.00\" fill=\"#000000\">class = Registrado</text>\n</g>\n<!-- 2&#45;&gt;6 -->\n<g id=\"edge6\" class=\"edge\">\n<title>2&#45;&gt;6</title>\n<path fill=\"none\" stroke=\"#000000\" d=\"M475.5,-222.8796C475.5,-214.6838 475.5,-205.9891 475.5,-197.5013\"/>\n<polygon fill=\"#000000\" stroke=\"#000000\" points=\"479.0001,-197.298 475.5,-187.2981 472.0001,-197.2981 479.0001,-197.298\"/>\n</g>\n<!-- 4 -->\n<g id=\"node5\" class=\"node\">\n<title>4</title>\n<path fill=\"#e89051\" stroke=\"#000000\" d=\"M141,-68C141,-68 12,-68 12,-68 6,-68 0,-62 0,-56 0,-56 0,-12 0,-12 0,-6 6,0 12,0 12,0 141,0 141,0 147,0 153,-6 153,-12 153,-12 153,-56 153,-56 153,-62 147,-68 141,-68\"/>\n<text text-anchor=\"start\" x=\"38.5\" y=\"-52.8\" font-family=\"Helvetica,sans-Serif\" font-size=\"14.00\" fill=\"#000000\">gini = 0.195</text>\n<text text-anchor=\"start\" x=\"28.5\" y=\"-37.8\" font-family=\"Helvetica,sans-Serif\" font-size=\"14.00\" fill=\"#000000\">samples = 137</text>\n<text text-anchor=\"start\" x=\"22.5\" y=\"-22.8\" font-family=\"Helvetica,sans-Serif\" font-size=\"14.00\" fill=\"#000000\">value = [122, 15]</text>\n<text text-anchor=\"start\" x=\"8\" y=\"-7.8\" font-family=\"Helvetica,sans-Serif\" font-size=\"14.00\" fill=\"#000000\">class = No registrado</text>\n</g>\n<!-- 3&#45;&gt;4 -->\n<g id=\"edge4\" class=\"edge\">\n<title>3&#45;&gt;4</title>\n<path fill=\"none\" stroke=\"#000000\" d=\"M178.8048,-103.9815C164.353,-94.0957 148.9658,-83.5701 134.632,-73.7651\"/>\n<polygon fill=\"#000000\" stroke=\"#000000\" points=\"136.559,-70.8428 126.3292,-68.0856 132.6068,-76.6204 136.559,-70.8428\"/>\n</g>\n<!-- 5 -->\n<g id=\"node6\" class=\"node\">\n<title>5</title>\n<path fill=\"#d6ebfa\" stroke=\"#000000\" d=\"M296,-68C296,-68 183,-68 183,-68 177,-68 171,-62 171,-56 171,-56 171,-12 171,-12 171,-6 177,0 183,0 183,0 296,0 296,0 302,0 308,-6 308,-12 308,-12 308,-56 308,-56 308,-62 302,-68 296,-68\"/>\n<text text-anchor=\"start\" x=\"201.5\" y=\"-52.8\" font-family=\"Helvetica,sans-Serif\" font-size=\"14.00\" fill=\"#000000\">gini = 0.493</text>\n<text text-anchor=\"start\" x=\"195.5\" y=\"-37.8\" font-family=\"Helvetica,sans-Serif\" font-size=\"14.00\" fill=\"#000000\">samples = 52</text>\n<text text-anchor=\"start\" x=\"189.5\" y=\"-22.8\" font-family=\"Helvetica,sans-Serif\" font-size=\"14.00\" fill=\"#000000\">value = [23, 29]</text>\n<text text-anchor=\"start\" x=\"179\" y=\"-7.8\" font-family=\"Helvetica,sans-Serif\" font-size=\"14.00\" fill=\"#000000\">class = Registrado</text>\n</g>\n<!-- 3&#45;&gt;5 -->\n<g id=\"edge5\" class=\"edge\">\n<title>3&#45;&gt;5</title>\n<path fill=\"none\" stroke=\"#000000\" d=\"M239.5,-103.9815C239.5,-95.618 239.5,-86.7965 239.5,-78.3409\"/>\n<polygon fill=\"#000000\" stroke=\"#000000\" points=\"243.0001,-78.2636 239.5,-68.2637 236.0001,-78.2637 243.0001,-78.2636\"/>\n</g>\n<!-- 7 -->\n<g id=\"node8\" class=\"node\">\n<title>7</title>\n<path fill=\"#b3d9f5\" stroke=\"#000000\" d=\"M451,-68C451,-68 338,-68 338,-68 332,-68 326,-62 326,-56 326,-56 326,-12 326,-12 326,-6 332,0 338,0 338,0 451,0 451,0 457,0 463,-6 463,-12 463,-12 463,-56 463,-56 463,-62 457,-68 451,-68\"/>\n<text text-anchor=\"start\" x=\"356.5\" y=\"-52.8\" font-family=\"Helvetica,sans-Serif\" font-size=\"14.00\" fill=\"#000000\">gini = 0.472</text>\n<text text-anchor=\"start\" x=\"346.5\" y=\"-37.8\" font-family=\"Helvetica,sans-Serif\" font-size=\"14.00\" fill=\"#000000\">samples = 393</text>\n<text text-anchor=\"start\" x=\"336.5\" y=\"-22.8\" font-family=\"Helvetica,sans-Serif\" font-size=\"14.00\" fill=\"#000000\">value = [150, 243]</text>\n<text text-anchor=\"start\" x=\"334\" y=\"-7.8\" font-family=\"Helvetica,sans-Serif\" font-size=\"14.00\" fill=\"#000000\">class = Registrado</text>\n</g>\n<!-- 6&#45;&gt;7 -->\n<g id=\"edge7\" class=\"edge\">\n<title>6&#45;&gt;7</title>\n<path fill=\"none\" stroke=\"#000000\" d=\"M445.3386,-103.9815C438.7955,-94.9747 431.8666,-85.4367 425.2992,-76.3965\"/>\n<polygon fill=\"#000000\" stroke=\"#000000\" points=\"428.1002,-74.2971 419.3911,-68.2637 422.4369,-78.4113 428.1002,-74.2971\"/>\n</g>\n<!-- 8 -->\n<g id=\"node9\" class=\"node\">\n<title>8</title>\n<path fill=\"#49a5e7\" stroke=\"#000000\" d=\"M606,-68C606,-68 493,-68 493,-68 487,-68 481,-62 481,-56 481,-56 481,-12 481,-12 481,-6 487,0 493,0 493,0 606,0 606,0 612,0 618,-6 618,-12 618,-12 618,-56 618,-56 618,-62 612,-68 606,-68\"/>\n<text text-anchor=\"start\" x=\"511.5\" y=\"-52.8\" font-family=\"Helvetica,sans-Serif\" font-size=\"14.00\" fill=\"#000000\">gini = 0.135</text>\n<text text-anchor=\"start\" x=\"501.5\" y=\"-37.8\" font-family=\"Helvetica,sans-Serif\" font-size=\"14.00\" fill=\"#000000\">samples = 466</text>\n<text text-anchor=\"start\" x=\"495.5\" y=\"-22.8\" font-family=\"Helvetica,sans-Serif\" font-size=\"14.00\" fill=\"#000000\">value = [34, 432]</text>\n<text text-anchor=\"start\" x=\"489\" y=\"-7.8\" font-family=\"Helvetica,sans-Serif\" font-size=\"14.00\" fill=\"#000000\">class = Registrado</text>\n</g>\n<!-- 6&#45;&gt;8 -->\n<g id=\"edge8\" class=\"edge\">\n<title>6&#45;&gt;8</title>\n<path fill=\"none\" stroke=\"#000000\" d=\"M503.0549,-103.9815C508.9715,-95.0666 515.2335,-85.6313 521.1787,-76.6734\"/>\n<polygon fill=\"#000000\" stroke=\"#000000\" points=\"524.1464,-78.5311 526.76,-68.2637 518.314,-74.6602 524.1464,-78.5311\"/>\n</g>\n<!-- 10 -->\n<g id=\"node11\" class=\"node\">\n<title>10</title>\n<path fill=\"#f0b78e\" stroke=\"#000000\" d=\"M948,-187C948,-187 819,-187 819,-187 813,-187 807,-181 807,-175 807,-175 807,-116 807,-116 807,-110 813,-104 819,-104 819,-104 948,-104 948,-104 954,-104 960,-110 960,-116 960,-116 960,-175 960,-175 960,-181 954,-187 948,-187\"/>\n<text text-anchor=\"start\" x=\"831\" y=\"-171.8\" font-family=\"Helvetica,sans-Serif\" font-size=\"14.00\" fill=\"#000000\">duration ≤ 135.5</text>\n<text text-anchor=\"start\" x=\"845.5\" y=\"-156.8\" font-family=\"Helvetica,sans-Serif\" font-size=\"14.00\" fill=\"#000000\">gini = 0.421</text>\n<text text-anchor=\"start\" x=\"831.5\" y=\"-141.8\" font-family=\"Helvetica,sans-Serif\" font-size=\"14.00\" fill=\"#000000\">samples = 3505</text>\n<text text-anchor=\"start\" x=\"817\" y=\"-126.8\" font-family=\"Helvetica,sans-Serif\" font-size=\"14.00\" fill=\"#000000\">value = [2450, 1055]</text>\n<text text-anchor=\"start\" x=\"815\" y=\"-111.8\" font-family=\"Helvetica,sans-Serif\" font-size=\"14.00\" fill=\"#000000\">class = No registrado</text>\n</g>\n<!-- 9&#45;&gt;10 -->\n<g id=\"edge10\" class=\"edge\">\n<title>9&#45;&gt;10</title>\n<path fill=\"none\" stroke=\"#000000\" d=\"M938.7711,-222.8796C932.4667,-214.0534 925.749,-204.6485 919.2476,-195.5466\"/>\n<polygon fill=\"#000000\" stroke=\"#000000\" points=\"922.0163,-193.4011 913.3558,-187.2981 916.3201,-197.4698 922.0163,-193.4011\"/>\n</g>\n<!-- 13 -->\n<g id=\"node14\" class=\"node\">\n<title>13</title>\n<path fill=\"#e68540\" stroke=\"#000000\" d=\"M1119,-187C1119,-187 990,-187 990,-187 984,-187 978,-181 978,-175 978,-175 978,-116 978,-116 978,-110 984,-104 990,-104 990,-104 1119,-104 1119,-104 1125,-104 1131,-110 1131,-116 1131,-116 1131,-175 1131,-175 1131,-181 1125,-187 1119,-187\"/>\n<text text-anchor=\"start\" x=\"1016.5\" y=\"-171.8\" font-family=\"Helvetica,sans-Serif\" font-size=\"14.00\" fill=\"#000000\">month ≤ 8.5</text>\n<text text-anchor=\"start\" x=\"1016.5\" y=\"-156.8\" font-family=\"Helvetica,sans-Serif\" font-size=\"14.00\" fill=\"#000000\">gini = 0.064</text>\n<text text-anchor=\"start\" x=\"1002.5\" y=\"-141.8\" font-family=\"Helvetica,sans-Serif\" font-size=\"14.00\" fill=\"#000000\">samples = 1239</text>\n<text text-anchor=\"start\" x=\"996.5\" y=\"-126.8\" font-family=\"Helvetica,sans-Serif\" font-size=\"14.00\" fill=\"#000000\">value = [1198, 41]</text>\n<text text-anchor=\"start\" x=\"986\" y=\"-111.8\" font-family=\"Helvetica,sans-Serif\" font-size=\"14.00\" fill=\"#000000\">class = No registrado</text>\n</g>\n<!-- 9&#45;&gt;13 -->\n<g id=\"edge13\" class=\"edge\">\n<title>9&#45;&gt;13</title>\n<path fill=\"none\" stroke=\"#000000\" d=\"M998.5786,-222.8796C1004.9572,-214.0534 1011.754,-204.6485 1018.3319,-195.5466\"/>\n<polygon fill=\"#000000\" stroke=\"#000000\" points=\"1021.2723,-197.4532 1024.293,-187.2981 1015.5988,-193.353 1021.2723,-197.4532\"/>\n</g>\n<!-- 11 -->\n<g id=\"node12\" class=\"node\">\n<title>11</title>\n<path fill=\"#e89152\" stroke=\"#000000\" d=\"M777,-68C777,-68 648,-68 648,-68 642,-68 636,-62 636,-56 636,-56 636,-12 636,-12 636,-6 642,0 648,0 648,0 777,0 777,0 783,0 789,-6 789,-12 789,-12 789,-56 789,-56 789,-62 783,-68 777,-68\"/>\n<text text-anchor=\"start\" x=\"674.5\" y=\"-52.8\" font-family=\"Helvetica,sans-Serif\" font-size=\"14.00\" fill=\"#000000\">gini = 0.199</text>\n<text text-anchor=\"start\" x=\"660.5\" y=\"-37.8\" font-family=\"Helvetica,sans-Serif\" font-size=\"14.00\" fill=\"#000000\">samples = 1332</text>\n<text text-anchor=\"start\" x=\"650.5\" y=\"-22.8\" font-family=\"Helvetica,sans-Serif\" font-size=\"14.00\" fill=\"#000000\">value = [1183, 149]</text>\n<text text-anchor=\"start\" x=\"644\" y=\"-7.8\" font-family=\"Helvetica,sans-Serif\" font-size=\"14.00\" fill=\"#000000\">class = No registrado</text>\n</g>\n<!-- 10&#45;&gt;11 -->\n<g id=\"edge11\" class=\"edge\">\n<title>10&#45;&gt;11</title>\n<path fill=\"none\" stroke=\"#000000\" d=\"M819.8259,-103.9815C804.6648,-94.0957 788.5224,-83.5701 773.4851,-73.7651\"/>\n<polygon fill=\"#000000\" stroke=\"#000000\" points=\"775.0631,-70.6158 764.7748,-68.0856 771.2397,-76.4794 775.0631,-70.6158\"/>\n</g>\n<!-- 12 -->\n<g id=\"node13\" class=\"node\">\n<title>12</title>\n<path fill=\"#f8dbc7\" stroke=\"#000000\" d=\"M948,-68C948,-68 819,-68 819,-68 813,-68 807,-62 807,-56 807,-56 807,-12 807,-12 807,-6 813,0 819,0 819,0 948,0 948,0 954,0 960,-6 960,-12 960,-12 960,-56 960,-56 960,-62 954,-68 948,-68\"/>\n<text text-anchor=\"start\" x=\"845.5\" y=\"-52.8\" font-family=\"Helvetica,sans-Serif\" font-size=\"14.00\" fill=\"#000000\">gini = 0.486</text>\n<text text-anchor=\"start\" x=\"831.5\" y=\"-37.8\" font-family=\"Helvetica,sans-Serif\" font-size=\"14.00\" fill=\"#000000\">samples = 2173</text>\n<text text-anchor=\"start\" x=\"821.5\" y=\"-22.8\" font-family=\"Helvetica,sans-Serif\" font-size=\"14.00\" fill=\"#000000\">value = [1267, 906]</text>\n<text text-anchor=\"start\" x=\"815\" y=\"-7.8\" font-family=\"Helvetica,sans-Serif\" font-size=\"14.00\" fill=\"#000000\">class = No registrado</text>\n</g>\n<!-- 10&#45;&gt;12 -->\n<g id=\"edge12\" class=\"edge\">\n<title>10&#45;&gt;12</title>\n<path fill=\"none\" stroke=\"#000000\" d=\"M883.5,-103.9815C883.5,-95.618 883.5,-86.7965 883.5,-78.3409\"/>\n<polygon fill=\"#000000\" stroke=\"#000000\" points=\"887.0001,-78.2636 883.5,-68.2637 880.0001,-78.2637 887.0001,-78.2636\"/>\n</g>\n<!-- 14 -->\n<g id=\"node15\" class=\"node\">\n<title>14</title>\n<path fill=\"#e5833c\" stroke=\"#000000\" d=\"M1119,-68C1119,-68 990,-68 990,-68 984,-68 978,-62 978,-56 978,-56 978,-12 978,-12 978,-6 984,0 990,0 990,0 1119,0 1119,0 1125,0 1131,-6 1131,-12 1131,-12 1131,-56 1131,-56 1131,-62 1125,-68 1119,-68\"/>\n<text text-anchor=\"start\" x=\"1016.5\" y=\"-52.8\" font-family=\"Helvetica,sans-Serif\" font-size=\"14.00\" fill=\"#000000\">gini = 0.031</text>\n<text text-anchor=\"start\" x=\"1002.5\" y=\"-37.8\" font-family=\"Helvetica,sans-Serif\" font-size=\"14.00\" fill=\"#000000\">samples = 1207</text>\n<text text-anchor=\"start\" x=\"996.5\" y=\"-22.8\" font-family=\"Helvetica,sans-Serif\" font-size=\"14.00\" fill=\"#000000\">value = [1188, 19]</text>\n<text text-anchor=\"start\" x=\"986\" y=\"-7.8\" font-family=\"Helvetica,sans-Serif\" font-size=\"14.00\" fill=\"#000000\">class = No registrado</text>\n</g>\n<!-- 13&#45;&gt;14 -->\n<g id=\"edge14\" class=\"edge\">\n<title>13&#45;&gt;14</title>\n<path fill=\"none\" stroke=\"#000000\" d=\"M1054.5,-103.9815C1054.5,-95.618 1054.5,-86.7965 1054.5,-78.3409\"/>\n<polygon fill=\"#000000\" stroke=\"#000000\" points=\"1058.0001,-78.2636 1054.5,-68.2637 1051.0001,-78.2637 1058.0001,-78.2636\"/>\n</g>\n<!-- 15 -->\n<g id=\"node16\" class=\"node\">\n<title>15</title>\n<path fill=\"#93caf1\" stroke=\"#000000\" d=\"M1274,-68C1274,-68 1161,-68 1161,-68 1155,-68 1149,-62 1149,-56 1149,-56 1149,-12 1149,-12 1149,-6 1155,0 1161,0 1161,0 1274,0 1274,0 1280,0 1286,-6 1286,-12 1286,-12 1286,-56 1286,-56 1286,-62 1280,-68 1274,-68\"/>\n<text text-anchor=\"start\" x=\"1184\" y=\"-52.8\" font-family=\"Helvetica,sans-Serif\" font-size=\"14.00\" fill=\"#000000\">gini = 0.43</text>\n<text text-anchor=\"start\" x=\"1173.5\" y=\"-37.8\" font-family=\"Helvetica,sans-Serif\" font-size=\"14.00\" fill=\"#000000\">samples = 32</text>\n<text text-anchor=\"start\" x=\"1167.5\" y=\"-22.8\" font-family=\"Helvetica,sans-Serif\" font-size=\"14.00\" fill=\"#000000\">value = [10, 22]</text>\n<text text-anchor=\"start\" x=\"1157\" y=\"-7.8\" font-family=\"Helvetica,sans-Serif\" font-size=\"14.00\" fill=\"#000000\">class = Registrado</text>\n</g>\n<!-- 13&#45;&gt;15 -->\n<g id=\"edge15\" class=\"edge\">\n<title>13&#45;&gt;15</title>\n<path fill=\"none\" stroke=\"#000000\" d=\"M1115.1952,-103.9815C1129.647,-94.0957 1145.0342,-83.5701 1159.368,-73.7651\"/>\n<polygon fill=\"#000000\" stroke=\"#000000\" points=\"1161.3932,-76.6204 1167.6708,-68.0856 1157.441,-70.8428 1161.3932,-76.6204\"/>\n</g>\n<!-- 17 -->\n<g id=\"node18\" class=\"node\">\n<title>17</title>\n<path fill=\"#94caf1\" stroke=\"#000000\" d=\"M1666.5,-306C1666.5,-306 1550.5,-306 1550.5,-306 1544.5,-306 1538.5,-300 1538.5,-294 1538.5,-294 1538.5,-235 1538.5,-235 1538.5,-229 1544.5,-223 1550.5,-223 1550.5,-223 1666.5,-223 1666.5,-223 1672.5,-223 1678.5,-229 1678.5,-235 1678.5,-235 1678.5,-294 1678.5,-294 1678.5,-300 1672.5,-306 1666.5,-306\"/>\n<text text-anchor=\"start\" x=\"1567\" y=\"-290.8\" font-family=\"Helvetica,sans-Serif\" font-size=\"14.00\" fill=\"#000000\">contact ≤ 1.5</text>\n<text text-anchor=\"start\" x=\"1570.5\" y=\"-275.8\" font-family=\"Helvetica,sans-Serif\" font-size=\"14.00\" fill=\"#000000\">gini = 0.432</text>\n<text text-anchor=\"start\" x=\"1556.5\" y=\"-260.8\" font-family=\"Helvetica,sans-Serif\" font-size=\"14.00\" fill=\"#000000\">samples = 1621</text>\n<text text-anchor=\"start\" x=\"1546.5\" y=\"-245.8\" font-family=\"Helvetica,sans-Serif\" font-size=\"14.00\" fill=\"#000000\">value = [511, 1110]</text>\n<text text-anchor=\"start\" x=\"1548\" y=\"-230.8\" font-family=\"Helvetica,sans-Serif\" font-size=\"14.00\" fill=\"#000000\">class = Registrado</text>\n</g>\n<!-- 16&#45;&gt;17 -->\n<g id=\"edge17\" class=\"edge\">\n<title>16&#45;&gt;17</title>\n<path fill=\"none\" stroke=\"#000000\" d=\"M1608.5,-341.8796C1608.5,-333.6838 1608.5,-324.9891 1608.5,-316.5013\"/>\n<polygon fill=\"#000000\" stroke=\"#000000\" points=\"1612.0001,-316.298 1608.5,-306.2981 1605.0001,-316.2981 1612.0001,-316.298\"/>\n</g>\n<!-- 24 -->\n<g id=\"node25\" class=\"node\">\n<title>24</title>\n<path fill=\"#58ace9\" stroke=\"#000000\" d=\"M2143.5,-306C2143.5,-306 2027.5,-306 2027.5,-306 2021.5,-306 2015.5,-300 2015.5,-294 2015.5,-294 2015.5,-235 2015.5,-235 2015.5,-229 2021.5,-223 2027.5,-223 2027.5,-223 2143.5,-223 2143.5,-223 2149.5,-223 2155.5,-229 2155.5,-235 2155.5,-235 2155.5,-294 2155.5,-294 2155.5,-300 2149.5,-306 2143.5,-306\"/>\n<text text-anchor=\"start\" x=\"2033\" y=\"-290.8\" font-family=\"Helvetica,sans-Serif\" font-size=\"14.00\" fill=\"#000000\">duration ≤ 869.5</text>\n<text text-anchor=\"start\" x=\"2047.5\" y=\"-275.8\" font-family=\"Helvetica,sans-Serif\" font-size=\"14.00\" fill=\"#000000\">gini = 0.233</text>\n<text text-anchor=\"start\" x=\"2033.5\" y=\"-260.8\" font-family=\"Helvetica,sans-Serif\" font-size=\"14.00\" fill=\"#000000\">samples = 1516</text>\n<text text-anchor=\"start\" x=\"2023.5\" y=\"-245.8\" font-family=\"Helvetica,sans-Serif\" font-size=\"14.00\" fill=\"#000000\">value = [204, 1312]</text>\n<text text-anchor=\"start\" x=\"2025\" y=\"-230.8\" font-family=\"Helvetica,sans-Serif\" font-size=\"14.00\" fill=\"#000000\">class = Registrado</text>\n</g>\n<!-- 16&#45;&gt;24 -->\n<g id=\"edge24\" class=\"edge\">\n<title>16&#45;&gt;24</title>\n<path fill=\"none\" stroke=\"#000000\" d=\"M1678.6267,-366.0051C1765.7023,-344.2818 1913.8913,-307.3122 2005.3675,-284.4911\"/>\n<polygon fill=\"#000000\" stroke=\"#000000\" points=\"2006.2799,-287.8709 2015.1353,-282.0543 2004.5854,-281.079 2006.2799,-287.8709\"/>\n</g>\n<!-- 18 -->\n<g id=\"node19\" class=\"node\">\n<title>18</title>\n<path fill=\"#7ebfee\" stroke=\"#000000\" d=\"M1584.5,-187C1584.5,-187 1468.5,-187 1468.5,-187 1462.5,-187 1456.5,-181 1456.5,-175 1456.5,-175 1456.5,-116 1456.5,-116 1456.5,-110 1462.5,-104 1468.5,-104 1468.5,-104 1584.5,-104 1584.5,-104 1590.5,-104 1596.5,-110 1596.5,-116 1596.5,-116 1596.5,-175 1596.5,-175 1596.5,-181 1590.5,-187 1584.5,-187\"/>\n<text text-anchor=\"start\" x=\"1482.5\" y=\"-171.8\" font-family=\"Helvetica,sans-Serif\" font-size=\"14.00\" fill=\"#000000\">housing ≤ 0.5</text>\n<text text-anchor=\"start\" x=\"1488.5\" y=\"-156.8\" font-family=\"Helvetica,sans-Serif\" font-size=\"14.00\" fill=\"#000000\">gini = 0.383</text>\n<text text-anchor=\"start\" x=\"1474.5\" y=\"-141.8\" font-family=\"Helvetica,sans-Serif\" font-size=\"14.00\" fill=\"#000000\">samples = 1359</text>\n<text text-anchor=\"start\" x=\"1464.5\" y=\"-126.8\" font-family=\"Helvetica,sans-Serif\" font-size=\"14.00\" fill=\"#000000\">value = [351, 1008]</text>\n<text text-anchor=\"start\" x=\"1466\" y=\"-111.8\" font-family=\"Helvetica,sans-Serif\" font-size=\"14.00\" fill=\"#000000\">class = Registrado</text>\n</g>\n<!-- 17&#45;&gt;18 -->\n<g id=\"edge18\" class=\"edge\">\n<title>17&#45;&gt;18</title>\n<path fill=\"none\" stroke=\"#000000\" d=\"M1579.8204,-222.8796C1573.7385,-214.0534 1567.2578,-204.6485 1560.9859,-195.5466\"/>\n<polygon fill=\"#000000\" stroke=\"#000000\" points=\"1563.8582,-193.5465 1555.302,-187.2981 1558.0941,-197.5184 1563.8582,-193.5465\"/>\n</g>\n<!-- 21 -->\n<g id=\"node22\" class=\"node\">\n<title>21</title>\n<path fill=\"#f6d1b7\" stroke=\"#000000\" d=\"M1756,-187C1756,-187 1627,-187 1627,-187 1621,-187 1615,-181 1615,-175 1615,-175 1615,-116 1615,-116 1615,-110 1621,-104 1627,-104 1627,-104 1756,-104 1756,-104 1762,-104 1768,-110 1768,-116 1768,-116 1768,-175 1768,-175 1768,-181 1762,-187 1756,-187\"/>\n<text text-anchor=\"start\" x=\"1639\" y=\"-171.8\" font-family=\"Helvetica,sans-Serif\" font-size=\"14.00\" fill=\"#000000\">duration ≤ 478.0</text>\n<text text-anchor=\"start\" x=\"1653.5\" y=\"-156.8\" font-family=\"Helvetica,sans-Serif\" font-size=\"14.00\" fill=\"#000000\">gini = 0.475</text>\n<text text-anchor=\"start\" x=\"1643.5\" y=\"-141.8\" font-family=\"Helvetica,sans-Serif\" font-size=\"14.00\" fill=\"#000000\">samples = 262</text>\n<text text-anchor=\"start\" x=\"1633.5\" y=\"-126.8\" font-family=\"Helvetica,sans-Serif\" font-size=\"14.00\" fill=\"#000000\">value = [160, 102]</text>\n<text text-anchor=\"start\" x=\"1623\" y=\"-111.8\" font-family=\"Helvetica,sans-Serif\" font-size=\"14.00\" fill=\"#000000\">class = No registrado</text>\n</g>\n<!-- 17&#45;&gt;21 -->\n<g id=\"edge21\" class=\"edge\">\n<title>17&#45;&gt;21</title>\n<path fill=\"none\" stroke=\"#000000\" d=\"M1637.5294,-222.8796C1643.6855,-214.0534 1650.2451,-204.6485 1656.5936,-195.5466\"/>\n<polygon fill=\"#000000\" stroke=\"#000000\" points=\"1659.4967,-197.5024 1662.3467,-187.2981 1653.7552,-193.4978 1659.4967,-197.5024\"/>\n</g>\n<!-- 19 -->\n<g id=\"node20\" class=\"node\">\n<title>19</title>\n<path fill=\"#6ab5eb\" stroke=\"#000000\" d=\"M1429,-68C1429,-68 1316,-68 1316,-68 1310,-68 1304,-62 1304,-56 1304,-56 1304,-12 1304,-12 1304,-6 1310,0 1316,0 1316,0 1429,0 1429,0 1435,0 1441,-6 1441,-12 1441,-12 1441,-56 1441,-56 1441,-62 1435,-68 1429,-68\"/>\n<text text-anchor=\"start\" x=\"1334.5\" y=\"-52.8\" font-family=\"Helvetica,sans-Serif\" font-size=\"14.00\" fill=\"#000000\">gini = 0.319</text>\n<text text-anchor=\"start\" x=\"1324.5\" y=\"-37.8\" font-family=\"Helvetica,sans-Serif\" font-size=\"14.00\" fill=\"#000000\">samples = 848</text>\n<text text-anchor=\"start\" x=\"1314.5\" y=\"-22.8\" font-family=\"Helvetica,sans-Serif\" font-size=\"14.00\" fill=\"#000000\">value = [169, 679]</text>\n<text text-anchor=\"start\" x=\"1312\" y=\"-7.8\" font-family=\"Helvetica,sans-Serif\" font-size=\"14.00\" fill=\"#000000\">class = Registrado</text>\n</g>\n<!-- 18&#45;&gt;19 -->\n<g id=\"edge19\" class=\"edge\">\n<title>18&#45;&gt;19</title>\n<path fill=\"none\" stroke=\"#000000\" d=\"M1469.1561,-103.9815C1455.7006,-94.2394 1441.3869,-83.8759 1428.0133,-74.193\"/>\n<polygon fill=\"#000000\" stroke=\"#000000\" points=\"1429.9763,-71.2933 1419.8238,-68.2637 1425.8711,-76.9632 1429.9763,-71.2933\"/>\n</g>\n<!-- 20 -->\n<g id=\"node21\" class=\"node\">\n<title>20</title>\n<path fill=\"#a7d3f3\" stroke=\"#000000\" d=\"M1584,-68C1584,-68 1471,-68 1471,-68 1465,-68 1459,-62 1459,-56 1459,-56 1459,-12 1459,-12 1459,-6 1465,0 1471,0 1471,0 1584,0 1584,0 1590,0 1596,-6 1596,-12 1596,-12 1596,-56 1596,-56 1596,-62 1590,-68 1584,-68\"/>\n<text text-anchor=\"start\" x=\"1489.5\" y=\"-52.8\" font-family=\"Helvetica,sans-Serif\" font-size=\"14.00\" fill=\"#000000\">gini = 0.459</text>\n<text text-anchor=\"start\" x=\"1479.5\" y=\"-37.8\" font-family=\"Helvetica,sans-Serif\" font-size=\"14.00\" fill=\"#000000\">samples = 511</text>\n<text text-anchor=\"start\" x=\"1469.5\" y=\"-22.8\" font-family=\"Helvetica,sans-Serif\" font-size=\"14.00\" fill=\"#000000\">value = [182, 329]</text>\n<text text-anchor=\"start\" x=\"1467\" y=\"-7.8\" font-family=\"Helvetica,sans-Serif\" font-size=\"14.00\" fill=\"#000000\">class = Registrado</text>\n</g>\n<!-- 18&#45;&gt;20 -->\n<g id=\"edge20\" class=\"edge\">\n<title>18&#45;&gt;20</title>\n<path fill=\"none\" stroke=\"#000000\" d=\"M1526.8724,-103.9815C1526.9474,-95.618 1527.0265,-86.7965 1527.1023,-78.3409\"/>\n<polygon fill=\"#000000\" stroke=\"#000000\" points=\"1530.6028,-78.2947 1527.1927,-68.2637 1523.6031,-78.2318 1530.6028,-78.2947\"/>\n</g>\n<!-- 22 -->\n<g id=\"node23\" class=\"node\">\n<title>22</title>\n<path fill=\"#eb9f68\" stroke=\"#000000\" d=\"M1755,-68C1755,-68 1626,-68 1626,-68 1620,-68 1614,-62 1614,-56 1614,-56 1614,-12 1614,-12 1614,-6 1620,0 1626,0 1626,0 1755,0 1755,0 1761,0 1767,-6 1767,-12 1767,-12 1767,-56 1767,-56 1767,-62 1761,-68 1755,-68\"/>\n<text text-anchor=\"start\" x=\"1652.5\" y=\"-52.8\" font-family=\"Helvetica,sans-Serif\" font-size=\"14.00\" fill=\"#000000\">gini = 0.311</text>\n<text text-anchor=\"start\" x=\"1642.5\" y=\"-37.8\" font-family=\"Helvetica,sans-Serif\" font-size=\"14.00\" fill=\"#000000\">samples = 109</text>\n<text text-anchor=\"start\" x=\"1640.5\" y=\"-22.8\" font-family=\"Helvetica,sans-Serif\" font-size=\"14.00\" fill=\"#000000\">value = [88, 21]</text>\n<text text-anchor=\"start\" x=\"1622\" y=\"-7.8\" font-family=\"Helvetica,sans-Serif\" font-size=\"14.00\" fill=\"#000000\">class = No registrado</text>\n</g>\n<!-- 21&#45;&gt;22 -->\n<g id=\"edge22\" class=\"edge\">\n<title>21&#45;&gt;22</title>\n<path fill=\"none\" stroke=\"#000000\" d=\"M1691.1276,-103.9815C1691.0526,-95.618 1690.9735,-86.7965 1690.8977,-78.3409\"/>\n<polygon fill=\"#000000\" stroke=\"#000000\" points=\"1694.3969,-78.2318 1690.8073,-68.2637 1687.3972,-78.2947 1694.3969,-78.2318\"/>\n</g>\n<!-- 23 -->\n<g id=\"node24\" class=\"node\">\n<title>23</title>\n<path fill=\"#e9f4fc\" stroke=\"#000000\" d=\"M1910,-68C1910,-68 1797,-68 1797,-68 1791,-68 1785,-62 1785,-56 1785,-56 1785,-12 1785,-12 1785,-6 1791,0 1797,0 1797,0 1910,0 1910,0 1916,0 1922,-6 1922,-12 1922,-12 1922,-56 1922,-56 1922,-62 1916,-68 1910,-68\"/>\n<text text-anchor=\"start\" x=\"1815.5\" y=\"-52.8\" font-family=\"Helvetica,sans-Serif\" font-size=\"14.00\" fill=\"#000000\">gini = 0.498</text>\n<text text-anchor=\"start\" x=\"1805.5\" y=\"-37.8\" font-family=\"Helvetica,sans-Serif\" font-size=\"14.00\" fill=\"#000000\">samples = 153</text>\n<text text-anchor=\"start\" x=\"1803.5\" y=\"-22.8\" font-family=\"Helvetica,sans-Serif\" font-size=\"14.00\" fill=\"#000000\">value = [72, 81]</text>\n<text text-anchor=\"start\" x=\"1793\" y=\"-7.8\" font-family=\"Helvetica,sans-Serif\" font-size=\"14.00\" fill=\"#000000\">class = Registrado</text>\n</g>\n<!-- 21&#45;&gt;23 -->\n<g id=\"edge23\" class=\"edge\">\n<title>21&#45;&gt;23</title>\n<path fill=\"none\" stroke=\"#000000\" d=\"M1751.8228,-103.9815C1766.186,-94.0957 1781.4788,-83.5701 1795.7247,-73.7651\"/>\n<polygon fill=\"#000000\" stroke=\"#000000\" points=\"1797.7234,-76.6384 1803.9765,-68.0856 1793.7546,-70.8722 1797.7234,-76.6384\"/>\n</g>\n<!-- 25 -->\n<g id=\"node26\" class=\"node\">\n<title>25</title>\n<path fill=\"#62b1ea\" stroke=\"#000000\" d=\"M2142,-187C2142,-187 2029,-187 2029,-187 2023,-187 2017,-181 2017,-175 2017,-175 2017,-116 2017,-116 2017,-110 2023,-104 2029,-104 2029,-104 2142,-104 2142,-104 2148,-104 2154,-110 2154,-116 2154,-116 2154,-175 2154,-175 2154,-181 2148,-187 2142,-187\"/>\n<text text-anchor=\"start\" x=\"2035.5\" y=\"-171.8\" font-family=\"Helvetica,sans-Serif\" font-size=\"14.00\" fill=\"#000000\">campaign ≤ 6.5</text>\n<text text-anchor=\"start\" x=\"2047.5\" y=\"-156.8\" font-family=\"Helvetica,sans-Serif\" font-size=\"14.00\" fill=\"#000000\">gini = 0.285</text>\n<text text-anchor=\"start\" x=\"2037.5\" y=\"-141.8\" font-family=\"Helvetica,sans-Serif\" font-size=\"14.00\" fill=\"#000000\">samples = 691</text>\n<text text-anchor=\"start\" x=\"2027.5\" y=\"-126.8\" font-family=\"Helvetica,sans-Serif\" font-size=\"14.00\" fill=\"#000000\">value = [119, 572]</text>\n<text text-anchor=\"start\" x=\"2025\" y=\"-111.8\" font-family=\"Helvetica,sans-Serif\" font-size=\"14.00\" fill=\"#000000\">class = Registrado</text>\n</g>\n<!-- 24&#45;&gt;25 -->\n<g id=\"edge25\" class=\"edge\">\n<title>24&#45;&gt;25</title>\n<path fill=\"none\" stroke=\"#000000\" d=\"M2085.5,-222.8796C2085.5,-214.6838 2085.5,-205.9891 2085.5,-197.5013\"/>\n<polygon fill=\"#000000\" stroke=\"#000000\" points=\"2089.0001,-197.298 2085.5,-187.2981 2082.0001,-197.2981 2089.0001,-197.298\"/>\n</g>\n<!-- 28 -->\n<g id=\"node29\" class=\"node\">\n<title>28</title>\n<path fill=\"#50a8e8\" stroke=\"#000000\" d=\"M2383,-187C2383,-187 2270,-187 2270,-187 2264,-187 2258,-181 2258,-175 2258,-175 2258,-116 2258,-116 2258,-110 2264,-104 2270,-104 2270,-104 2383,-104 2383,-104 2389,-104 2395,-110 2395,-116 2395,-116 2395,-175 2395,-175 2395,-181 2389,-187 2383,-187\"/>\n<text text-anchor=\"start\" x=\"2284.5\" y=\"-171.8\" font-family=\"Helvetica,sans-Serif\" font-size=\"14.00\" fill=\"#000000\">pdays ≤ 29.0</text>\n<text text-anchor=\"start\" x=\"2288.5\" y=\"-156.8\" font-family=\"Helvetica,sans-Serif\" font-size=\"14.00\" fill=\"#000000\">gini = 0.185</text>\n<text text-anchor=\"start\" x=\"2278.5\" y=\"-141.8\" font-family=\"Helvetica,sans-Serif\" font-size=\"14.00\" fill=\"#000000\">samples = 825</text>\n<text text-anchor=\"start\" x=\"2272.5\" y=\"-126.8\" font-family=\"Helvetica,sans-Serif\" font-size=\"14.00\" fill=\"#000000\">value = [85, 740]</text>\n<text text-anchor=\"start\" x=\"2266\" y=\"-111.8\" font-family=\"Helvetica,sans-Serif\" font-size=\"14.00\" fill=\"#000000\">class = Registrado</text>\n</g>\n<!-- 24&#45;&gt;28 -->\n<g id=\"edge28\" class=\"edge\">\n<title>24&#45;&gt;28</title>\n<path fill=\"none\" stroke=\"#000000\" d=\"M2155.5309,-229.9204C2184.7507,-215.4924 2218.8029,-198.6782 2248.7915,-183.8706\"/>\n<polygon fill=\"#000000\" stroke=\"#000000\" points=\"2250.5411,-186.9102 2257.9579,-179.3444 2247.4418,-180.6336 2250.5411,-186.9102\"/>\n</g>\n<!-- 26 -->\n<g id=\"node27\" class=\"node\">\n<title>26</title>\n<path fill=\"#5fb0ea\" stroke=\"#000000\" d=\"M2065,-68C2065,-68 1952,-68 1952,-68 1946,-68 1940,-62 1940,-56 1940,-56 1940,-12 1940,-12 1940,-6 1946,0 1952,0 1952,0 2065,0 2065,0 2071,0 2077,-6 2077,-12 2077,-12 2077,-56 2077,-56 2077,-62 2071,-68 2065,-68\"/>\n<text text-anchor=\"start\" x=\"1970.5\" y=\"-52.8\" font-family=\"Helvetica,sans-Serif\" font-size=\"14.00\" fill=\"#000000\">gini = 0.271</text>\n<text text-anchor=\"start\" x=\"1960.5\" y=\"-37.8\" font-family=\"Helvetica,sans-Serif\" font-size=\"14.00\" fill=\"#000000\">samples = 656</text>\n<text text-anchor=\"start\" x=\"1950.5\" y=\"-22.8\" font-family=\"Helvetica,sans-Serif\" font-size=\"14.00\" fill=\"#000000\">value = [106, 550]</text>\n<text text-anchor=\"start\" x=\"1948\" y=\"-7.8\" font-family=\"Helvetica,sans-Serif\" font-size=\"14.00\" fill=\"#000000\">class = Registrado</text>\n</g>\n<!-- 25&#45;&gt;26 -->\n<g id=\"edge26\" class=\"edge\">\n<title>25&#45;&gt;26</title>\n<path fill=\"none\" stroke=\"#000000\" d=\"M2056.828,-103.9815C2050.6715,-95.0666 2044.1557,-85.6313 2037.9695,-76.6734\"/>\n<polygon fill=\"#000000\" stroke=\"#000000\" points=\"2040.7245,-74.5034 2032.1619,-68.2637 2034.9645,-78.4811 2040.7245,-74.5034\"/>\n</g>\n<!-- 27 -->\n<g id=\"node28\" class=\"node\">\n<title>27</title>\n<path fill=\"#aed7f4\" stroke=\"#000000\" d=\"M2220,-68C2220,-68 2107,-68 2107,-68 2101,-68 2095,-62 2095,-56 2095,-56 2095,-12 2095,-12 2095,-6 2101,0 2107,0 2107,0 2220,0 2220,0 2226,0 2232,-6 2232,-12 2232,-12 2232,-56 2232,-56 2232,-62 2226,-68 2220,-68\"/>\n<text text-anchor=\"start\" x=\"2125.5\" y=\"-52.8\" font-family=\"Helvetica,sans-Serif\" font-size=\"14.00\" fill=\"#000000\">gini = 0.467</text>\n<text text-anchor=\"start\" x=\"2119.5\" y=\"-37.8\" font-family=\"Helvetica,sans-Serif\" font-size=\"14.00\" fill=\"#000000\">samples = 35</text>\n<text text-anchor=\"start\" x=\"2113.5\" y=\"-22.8\" font-family=\"Helvetica,sans-Serif\" font-size=\"14.00\" fill=\"#000000\">value = [13, 22]</text>\n<text text-anchor=\"start\" x=\"2103\" y=\"-7.8\" font-family=\"Helvetica,sans-Serif\" font-size=\"14.00\" fill=\"#000000\">class = Registrado</text>\n</g>\n<!-- 25&#45;&gt;27 -->\n<g id=\"edge27\" class=\"edge\">\n<title>25&#45;&gt;27</title>\n<path fill=\"none\" stroke=\"#000000\" d=\"M2114.5443,-103.9815C2120.7808,-95.0666 2127.3813,-85.6313 2133.6478,-76.6734\"/>\n<polygon fill=\"#000000\" stroke=\"#000000\" points=\"2136.6665,-78.464 2139.5308,-68.2637 2130.9307,-74.4515 2136.6665,-78.464\"/>\n</g>\n<!-- 29 -->\n<g id=\"node30\" class=\"node\">\n<title>29</title>\n<path fill=\"#e58139\" stroke=\"#000000\" d=\"M2391,-68C2391,-68 2262,-68 2262,-68 2256,-68 2250,-62 2250,-56 2250,-56 2250,-12 2250,-12 2250,-6 2256,0 2262,0 2262,0 2391,0 2391,0 2397,0 2403,-6 2403,-12 2403,-12 2403,-56 2403,-56 2403,-62 2397,-68 2391,-68\"/>\n<text text-anchor=\"start\" x=\"2297\" y=\"-52.8\" font-family=\"Helvetica,sans-Serif\" font-size=\"14.00\" fill=\"#000000\">gini = 0.0</text>\n<text text-anchor=\"start\" x=\"2287\" y=\"-37.8\" font-family=\"Helvetica,sans-Serif\" font-size=\"14.00\" fill=\"#000000\">samples = 1</text>\n<text text-anchor=\"start\" x=\"2285\" y=\"-22.8\" font-family=\"Helvetica,sans-Serif\" font-size=\"14.00\" fill=\"#000000\">value = [1, 0]</text>\n<text text-anchor=\"start\" x=\"2258\" y=\"-7.8\" font-family=\"Helvetica,sans-Serif\" font-size=\"14.00\" fill=\"#000000\">class = No registrado</text>\n</g>\n<!-- 28&#45;&gt;29 -->\n<g id=\"edge29\" class=\"edge\">\n<title>28&#45;&gt;29</title>\n<path fill=\"none\" stroke=\"#000000\" d=\"M2326.5,-103.9815C2326.5,-95.618 2326.5,-86.7965 2326.5,-78.3409\"/>\n<polygon fill=\"#000000\" stroke=\"#000000\" points=\"2330.0001,-78.2636 2326.5,-68.2637 2323.0001,-78.2637 2330.0001,-78.2636\"/>\n</g>\n<!-- 30 -->\n<g id=\"node31\" class=\"node\">\n<title>30</title>\n<path fill=\"#4fa8e8\" stroke=\"#000000\" d=\"M2546,-68C2546,-68 2433,-68 2433,-68 2427,-68 2421,-62 2421,-56 2421,-56 2421,-12 2421,-12 2421,-6 2427,0 2433,0 2433,0 2546,0 2546,0 2552,0 2558,-6 2558,-12 2558,-12 2558,-56 2558,-56 2558,-62 2552,-68 2546,-68\"/>\n<text text-anchor=\"start\" x=\"2451.5\" y=\"-52.8\" font-family=\"Helvetica,sans-Serif\" font-size=\"14.00\" fill=\"#000000\">gini = 0.183</text>\n<text text-anchor=\"start\" x=\"2441.5\" y=\"-37.8\" font-family=\"Helvetica,sans-Serif\" font-size=\"14.00\" fill=\"#000000\">samples = 824</text>\n<text text-anchor=\"start\" x=\"2435.5\" y=\"-22.8\" font-family=\"Helvetica,sans-Serif\" font-size=\"14.00\" fill=\"#000000\">value = [84, 740]</text>\n<text text-anchor=\"start\" x=\"2429\" y=\"-7.8\" font-family=\"Helvetica,sans-Serif\" font-size=\"14.00\" fill=\"#000000\">class = Registrado</text>\n</g>\n<!-- 28&#45;&gt;30 -->\n<g id=\"edge30\" class=\"edge\">\n<title>28&#45;&gt;30</title>\n<path fill=\"none\" stroke=\"#000000\" d=\"M2387.1952,-103.9815C2401.647,-94.0957 2417.0342,-83.5701 2431.368,-73.7651\"/>\n<polygon fill=\"#000000\" stroke=\"#000000\" points=\"2433.3932,-76.6204 2439.6708,-68.0856 2429.441,-70.8428 2433.3932,-76.6204\"/>\n</g>\n</g>\n</svg>\n"
          },
          "metadata": {
            "tags": []
          },
          "execution_count": 22
        }
      ]
    },
    {
      "cell_type": "markdown",
      "metadata": {
        "id": "X5DaeeAx6MIx",
        "colab_type": "text"
      },
      "source": [
        "**Solución 3. Árbol de Decisión con profundidad máxima**"
      ]
    },
    {
      "cell_type": "code",
      "metadata": {
        "_cell_guid": "32a4d8a7-b285-47c2-988c-8aa6a66933e2",
        "_uuid": "cabee45b6dd75bd0aac571320e300c5d2c94c045",
        "colab_type": "code",
        "id": "pKsuElYHzvBw",
        "colab": {
          "base_uri": "https://localhost:8080/",
          "height": 50
        },
        "outputId": "db3608dc-100b-4e36-d700-7aa56a11d584"
      },
      "source": [
        "# Árbol de Decisión de profundidad máxima\n",
        "__ = tree.DecisionTreeClassifier()\n",
        "# Entrenamiento del modelo\n",
        "modelo3.fit(x_train, y_train)\n",
        "# Cálculo de la exactitud media del proceso de entrenamiento\n",
        "modelo3_score_train = modelo3.score(__, __)\n",
        "# Imprimir el resultado\n",
        "print(\"Exactitud en el entrenamiento: \",modelo3_score_train)\n",
        "# Cálculo de la exactitud media del proceso de testeo\n",
        "modelo3_score_test = modelo3.score(__, __)\n",
        "# Imprimir el resultado\n",
        "print(\"Exactitud en el testeo: \",modelo3_score_test)"
      ],
      "execution_count": null,
      "outputs": [
        {
          "output_type": "stream",
          "text": [
            "Exactitud en el entrenamiento:  1.0\n",
            "Exactitud en el testeo:  0.786833855799373\n"
          ],
          "name": "stdout"
        }
      ]
    },
    {
      "cell_type": "markdown",
      "metadata": {
        "id": "XpWcIP42u4Yc",
        "colab_type": "text"
      },
      "source": [
        "**Solución 4. Imprimir las características más importantes del modelo de máxima profundidad**"
      ]
    },
    {
      "cell_type": "code",
      "metadata": {
        "id": "s-t9SXw6u7Oa",
        "colab_type": "code",
        "colab": {
          "base_uri": "https://localhost:8080/",
          "height": 286
        },
        "outputId": "bea55822-7c55-4890-d000-314b3b049542"
      },
      "source": [
        "# Valor numérico de cada característica del Árbol de Decisión\n",
        "fi = modelo3.__\n",
        "# Imprimir las características con su respectivo valor\n",
        "l = len(features_names)\n",
        "for i in range(0,len(features_names)):\n",
        "    print('{:.<20} {:3}'.format(features_names[i],fi[i]))"
      ],
      "execution_count": null,
      "outputs": [
        {
          "output_type": "stream",
          "text": [
            "age................. 0.0780531792322226\n",
            "job................. 0.034649531750342105\n",
            "marital............. 0.011962532127590068\n",
            "education........... 0.014752214347756356\n",
            "default............. 0.0003290848074771632\n",
            "balance............. 0.07219507442790962\n",
            "housing............. 0.02960085665901907\n",
            "loan................ 0.005620977966825096\n",
            "contact............. 0.04614466037686503\n",
            "day................. 0.079926316931456\n",
            "month............... 0.10406671483504895\n",
            "duration............ 0.35107712922556195\n",
            "campaign............ 0.031137816813052454\n",
            "pdays............... 0.10852231857668171\n",
            "previous............ 0.012990214208032157\n",
            "poutcome............ 0.01897137771415971\n"
          ],
          "name": "stdout"
        }
      ]
    },
    {
      "cell_type": "markdown",
      "metadata": {
        "id": "R9D4o88f6fMs",
        "colab_type": "text"
      },
      "source": [
        "**Solución 5. Comparar los modelos anteriores**"
      ]
    },
    {
      "cell_type": "code",
      "metadata": {
        "_cell_guid": "6fb20c58-b5dc-4944-9b78-258d2f2e0da2",
        "_uuid": "92eee54d59182aeed9b828fe2a57818ffcfcbb31",
        "colab_type": "code",
        "id": "o4D-vz6ezvB0",
        "scrolled": true,
        "colab": {
          "base_uri": "https://localhost:8080/",
          "height": 101
        },
        "outputId": "a8de585f-eafd-43b5-a0f4-f0ed578e4244"
      },
      "source": [
        "# Comparación de los modelos exactitud\n",
        "\n",
        "print('{:10} {:20} {:20}'.format('Profundidad', 'Desempeño entrenamiento','Desempeño prueba'))\n",
        "print('{:10} {:20} {:20}'.format('-----------', '-----------------------','----------------'))\n",
        "print('{:1} {:>26} {:>25}'.format(2, modelo_score_train, modelo1_score_test))\n",
        "print('{:1} {:>28} {:>23}'.format(4, modelo_score_train, modelo_score_test))\n",
        "print('{:1} {:>11} {:>37}'.format(\"max\", modelo_score_train, modelo_score_test))"
      ],
      "execution_count": null,
      "outputs": [
        {
          "output_type": "stream",
          "text": [
            "Profundidad Desempeño entrenamiento Desempeño prueba    \n",
            "----------- ----------------------- ----------------    \n",
            "2         0.7603315040878038        0.7595163457232422\n",
            "4           0.7812744988240564      0.7787729511867443\n",
            "max         1.0                     0.786833855799373\n"
          ],
          "name": "stdout"
        }
      ]
    },
    {
      "cell_type": "markdown",
      "metadata": {
        "id": "gHvUY5WNufAq",
        "colab_type": "text"
      },
      "source": [
        "# **RANDOM FOREST: CLASIFICADOR**"
      ]
    },
    {
      "cell_type": "code",
      "metadata": {
        "id": "pv24uZ5ivAcD",
        "colab_type": "code",
        "colab": {}
      },
      "source": [
        "# Se toma la base de datos menos la variable de interes 'deposit'\n",
        "x = bank.drop('deposit', 1)\n",
        "# Se toma la variable de interés\n",
        "y = bank.deposit\n",
        "# Función que separa los datos datos de X y Y de entrenamiento y testeo\n",
        "x_train, x_test, y_train, y_test = train_test_split(x, y, test_size = 0.2, random_state = 101)"
      ],
      "execution_count": 42,
      "outputs": []
    },
    {
      "cell_type": "code",
      "metadata": {
        "id": "3gfqSQWvNQmG",
        "colab_type": "code",
        "colab": {
          "base_uri": "https://localhost:8080/",
          "height": 34
        },
        "outputId": "ea4cd782-e063-4fac-d6cb-8c4c8f189007"
      },
      "source": [
        "from sklearn.ensemble import RandomForestClassifier\n",
        "\n",
        "# Ranom fores con 100 árboles\n",
        "RFC_1 = RandomForestClassifier(n_estimators = 100)#criterion = entopy,gini\n",
        "# Entrenamiento del modelo\n",
        "RFC_1.fit(x_train, y_train)\n",
        "# Cálculo de la exactitud media del proceso de testeo\n",
        "modeloRFC_1_score_test = RFC_1.score(x_test, y_test)\n",
        "# Imprimir el resultado\n",
        "print(\"Exactitud en el testeo: \", modeloRFC_1_score_test)"
      ],
      "execution_count": 43,
      "outputs": [
        {
          "output_type": "stream",
          "text": [
            "Exactitud en el testeo:  0.851321092700403\n"
          ],
          "name": "stdout"
        }
      ]
    },
    {
      "cell_type": "markdown",
      "metadata": {
        "id": "m0fw7qvauRS7",
        "colab_type": "text"
      },
      "source": [
        "Mostrar la relación de las características más importantes."
      ]
    },
    {
      "cell_type": "code",
      "metadata": {
        "id": "WicxEFqqoHj7",
        "colab_type": "code",
        "colab": {
          "base_uri": "https://localhost:8080/",
          "height": 592
        },
        "outputId": "a3f29b41-160d-4ed0-a16a-16ceb62cdafa"
      },
      "source": [
        "import numpy as np\n",
        "\n",
        "tree_importance_sorted_idx = np.argsort(RFC_1.feature_importances_)\n",
        "tree_indices = np.arange(0, len(RFC_1.feature_importances_)) + 0.5\n",
        "# crear las variables para la gráfica de la figura y los ejes\n",
        "fig, ax = plt.subplots() \n",
        "# definir el tamaño de la gráfica\n",
        "fig.set_size_inches(10, 10) \n",
        "# Dato a graficar\n",
        "plt.barh(tree_indices, RFC_1.feature_importances_[tree_importance_sorted_idx], height=0.7)\n",
        "# eje y\n",
        "ax.set_yticklabels( x_train.columns[tree_importance_sorted_idx])\n",
        "ax.set_yticks(tree_indices)\n",
        "# Imprimir la gráfica\n",
        "plt.show()"
      ],
      "execution_count": 44,
      "outputs": [
        {
          "output_type": "display_data",
          "data": {
            "image/png": "[encoded data removed]",
            "text/plain": [
              "<Figure size 720x720 with 1 Axes>"
            ]
          },
          "metadata": {
            "tags": [],
            "needs_background": "light"
          }
        }
      ]
    },
    {
      "cell_type": "markdown",
      "metadata": {
        "id": "kSU2fGmS2nP6",
        "colab_type": "text"
      },
      "source": [
        "Estas características fueron seleccionadas en un proceso de ajuste con 100 árboles de decisión. Así que se puede asumir que su orden es coherente. Realizar un análisis de características se puede, por ejemplo, filtrar características que no son relevantes para el modelo."
      ]
    },
    {
      "cell_type": "markdown",
      "metadata": {
        "id": "PFkvisGgyIFr",
        "colab_type": "text"
      },
      "source": [
        "# **COMPARACIÓN DE LOS CLASIFICADORES**"
      ]
    },
    {
      "cell_type": "markdown",
      "metadata": {
        "id": "QtzvIKra1ZfE",
        "colab_type": "text"
      },
      "source": [
        "La matriz de confusión es herramienta que permite visualizar el desempeño de los clasificadores."
      ]
    },
    {
      "cell_type": "code",
      "metadata": {
        "id": "XLkV1yEZySMB",
        "colab_type": "code",
        "colab": {
          "base_uri": "https://localhost:8080/",
          "height": 621
        },
        "outputId": "ed2b9eaf-878f-46c0-f2f1-6ce0bdbb7d5c"
      },
      "source": [
        "from sklearn.metrics import confusion_matrix\n",
        "\n",
        "# Matriz de confusión para el modelo de Árbol de Decisión\n",
        "\n",
        "# Predicción del modelo\n",
        "y_pred = modelo1.predict(x_test)\n",
        "# Matriz de confusión\n",
        "cm = confusion_matrix(y_test, y_pred)\n",
        "# Nombres de las clases\n",
        "target_names = ['no deposit', 'deposit']\n",
        "# Propiedades de la gráfica\n",
        "ax= plt.subplot()\n",
        "# Imprimir la matriz de confusión\n",
        "sns.heatmap(cm, annot=True, fmt=\"d\", ax = ax, cmap=\"YlGnBu\"); #annot=True to annotate cells\n",
        "# Nombre del eje x\n",
        "ax.set_xlabel('Predicción');\n",
        "# Nombre del eje y\n",
        "ax.set_ylabel('Clases'); \n",
        "# Título de la gráfica\n",
        "ax.set_title('Matriz de Confusión Árbol de Decisión'); \n",
        "# Nombres de las clases en eje x\n",
        "ax.xaxis.set_ticklabels(target_names); \n",
        "# Nombres de las clases en eje y\n",
        "ax.yaxis.set_ticklabels(target_names);"
      ],
      "execution_count": 45,
      "outputs": [
        {
          "output_type": "display_data",
          "data": {
            "image/png": "[encoded data removed]",
            "text/plain": [
              "<Figure size 720x720 with 2 Axes>"
            ]
          },
          "metadata": {
            "tags": [],
            "needs_background": "light"
          }
        }
      ]
    },
    {
      "cell_type": "code",
      "metadata": {
        "id": "Zx31dt33zI4g",
        "colab_type": "code",
        "colab": {
          "base_uri": "https://localhost:8080/",
          "height": 621
        },
        "outputId": "4d0a5589-d09e-4f9a-bdf7-ca535d94afd6"
      },
      "source": [
        "# Matriz de confusión para el modelo de Random Forest\n",
        "\n",
        "# Predicción del modelo\n",
        "y_pred = RFC_1.predict(x_test)\n",
        "# Matriz de confusión\n",
        "cm = confusion_matrix(y_test, y_pred)\n",
        "# Nombres de las clases\n",
        "target_names = ['no deposit', 'deposit']\n",
        "# Propiedades de la gráfica\n",
        "ax = plt.subplot()\n",
        "# Imprimir la matriz de confusión\n",
        "sns.heatmap(cm, annot=True, fmt=\"d\", ax = ax, cmap=\"YlGnBu\"); #annot=True to annotate cells\n",
        "# Nombre del eje x\n",
        "ax.set_xlabel('Predicción');\n",
        "# Nombre del eje y\n",
        "ax.set_ylabel('Clases'); \n",
        "# Título de la gráfica\n",
        "ax.set_title('Matriz de Confusión Random Forest'); \n",
        "# Nombres de las clases en eje x\n",
        "ax.xaxis.set_ticklabels(target_names); \n",
        "# Nombres de las clases en eje y\n",
        "ax.yaxis.set_ticklabels(target_names);"
      ],
      "execution_count": 46,
      "outputs": [
        {
          "output_type": "display_data",
          "data": {
            "image/png": "[encoded data removed]",
            "text/plain": [
              "<Figure size 720x720 with 2 Axes>"
            ]
          },
          "metadata": {
            "tags": [],
            "needs_background": "light"
          }
        }
      ]
    },
    {
      "cell_type": "markdown",
      "metadata": {
        "id": "TvLL_HJ0CTeK",
        "colab_type": "text"
      },
      "source": [
        "# **REALIZAR UNA PREDICCIÓN**"
      ]
    },
    {
      "cell_type": "markdown",
      "metadata": {
        "id": "eYmHxeEdDLLO",
        "colab_type": "text"
      },
      "source": [
        "Si se tiene un cliente nuevo con los siguientes datos:\n",
        "*   age: 30\n",
        "*   job: 9\n",
        "* marital: 2\n",
        "* education: 1\n",
        "* default: 0\n",
        "* balance: 2544\n",
        "* housing:  0\n",
        "* loan: 0\n",
        "* contact: 0\n",
        "* day: 8\n",
        "* month: 0\n",
        "* duration: 108\n",
        "* campaign: 2\n",
        "* pdays: 1000\n",
        "* previous: 0\n",
        "* poutcome: 3\n",
        "\n",
        "¿El cliente se suscribirá? [Si: 1, No: 0]"
      ]
    },
    {
      "cell_type": "code",
      "metadata": {
        "id": "8u1R9KYwDisv",
        "colab_type": "code",
        "colab": {
          "base_uri": "https://localhost:8080/",
          "height": 77
        },
        "outputId": "c84ef05b-f05a-41ae-8682-bbe90c110399"
      },
      "source": [
        "# Se organiza el DataFrame\n",
        "df = pd.DataFrame({'age':[30], 'job':[9], 'marital':[2], 'education':[1], 'default':[0], 'balance':[254], 'housing':[0], 'loan':[0], 'contact':[0], 'day':[8], 'month':[0], 'duration':[108], 'campaign':[2], 'pdays':[1000], 'previous':[0], 'poutcome':[3]})\n",
        "df.head()"
      ],
      "execution_count": 47,
      "outputs": [
        {
          "output_type": "execute_result",
          "data": {
            "text/html": [
              "<div>\n",
              "<style scoped>\n",
              "    .dataframe tbody tr th:only-of-type {\n",
              "        vertical-align: middle;\n",
              "    }\n",
              "\n",
              "    .dataframe tbody tr th {\n",
              "        vertical-align: top;\n",
              "    }\n",
              "\n",
              "    .dataframe thead th {\n",
              "        text-align: right;\n",
              "    }\n",
              "</style>\n",
              "<table border=\"1\" class=\"dataframe\">\n",
              "  <thead>\n",
              "    <tr style=\"text-align: right;\">\n",
              "      <th></th>\n",
              "      <th>age</th>\n",
              "      <th>job</th>\n",
              "      <th>marital</th>\n",
              "      <th>education</th>\n",
              "      <th>default</th>\n",
              "      <th>balance</th>\n",
              "      <th>housing</th>\n",
              "      <th>loan</th>\n",
              "      <th>contact</th>\n",
              "      <th>day</th>\n",
              "      <th>month</th>\n",
              "      <th>duration</th>\n",
              "      <th>campaign</th>\n",
              "      <th>pdays</th>\n",
              "      <th>previous</th>\n",
              "      <th>poutcome</th>\n",
              "    </tr>\n",
              "  </thead>\n",
              "  <tbody>\n",
              "    <tr>\n",
              "      <th>0</th>\n",
              "      <td>30</td>\n",
              "      <td>9</td>\n",
              "      <td>2</td>\n",
              "      <td>1</td>\n",
              "      <td>0</td>\n",
              "      <td>254</td>\n",
              "      <td>0</td>\n",
              "      <td>0</td>\n",
              "      <td>0</td>\n",
              "      <td>8</td>\n",
              "      <td>0</td>\n",
              "      <td>108</td>\n",
              "      <td>2</td>\n",
              "      <td>1000</td>\n",
              "      <td>0</td>\n",
              "      <td>3</td>\n",
              "    </tr>\n",
              "  </tbody>\n",
              "</table>\n",
              "</div>"
            ],
            "text/plain": [
              "   age  job  marital  education  ...  campaign  pdays  previous  poutcome\n",
              "0   30    9        2          1  ...         2   1000         0         3\n",
              "\n",
              "[1 rows x 16 columns]"
            ]
          },
          "metadata": {
            "tags": []
          },
          "execution_count": 47
        }
      ]
    },
    {
      "cell_type": "code",
      "metadata": {
        "id": "7QaGuxCMEkwP",
        "colab_type": "code",
        "colab": {
          "base_uri": "https://localhost:8080/",
          "height": 34
        },
        "outputId": "aeb4dd5f-94cc-4923-bf0d-50cc615d6b0f"
      },
      "source": [
        "# Se realiza la predicción\n",
        "prediction = RFC_1.predict(df)\n",
        "# Se muestra la predicción\n",
        "prediction"
      ],
      "execution_count": 48,
      "outputs": [
        {
          "output_type": "execute_result",
          "data": {
            "text/plain": [
              "array([1])"
            ]
          },
          "metadata": {
            "tags": []
          },
          "execution_count": 48
        }
      ]
    },
    {
      "cell_type": "markdown",
      "metadata": {
        "id": "kYWbjP7iJCdw",
        "colab_type": "text"
      },
      "source": [
        "El cliente, con las características dadas, **SI** se suscribirá a la campaña."
      ]
    }
  ]
}